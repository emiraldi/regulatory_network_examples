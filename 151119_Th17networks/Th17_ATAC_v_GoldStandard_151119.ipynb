{
 "cells": [
  {
   "cell_type": "code",
   "execution_count": null,
   "metadata": {
    "collapsed": false
   },
   "outputs": [],
   "source": [
    "# compare Th17 ATAC-seq networks to gold standard networks\n",
    "directory = \"/Users/emiraldi/erm/Shared/Maria-Emily/151119_Th17networks\"\n",
    "directory = \".\"\n",
    "# tuple of information per network: (file name, network title, edge thresshold cutoff)\n",
    "th17networks=[(\"prior_quantATAC.tsv\",\"quantATAC prior\",.1),\n",
    "              (\"prior_quantATAC_TRRUST.tsv\",\"quantATAC + TRRUST prior\",.1),\n",
    "              (\"simpATAC_pCut0p0_sp.tsv\",'simpATAC prior',.1),\n",
    "              (\"Th17rnaseq_zATAC_ENCODE_TRRUST_pCut0p0_bs_40_weight_2.tsv\",\"Simple ATAC + TRRUST + ENCODE Th17\",20),\n",
    "              (\"Th17rnaseq_quantATAC_TRUST_bs_40_weight_1.tsv\",\"Quant ATAC + TRRUST Th17\",20)]\n",
    "goldStandards=[(\"KO_ChIP_11_pCut1p0_sp.tsv\",'Th17 KO-ChIP Gold Standard (11 TFs)',1),\n",
    "               (\"KO_28_pCut0p75_sp.tsv\",'Th17 KO Gold Standard (28 TFs)',.75)]"
   ]
  },
  {
   "cell_type": "code",
   "execution_count": null,
   "metadata": {
    "collapsed": false
   },
   "outputs": [],
   "source": [
    "# Load a pair of networks with coordinated display.\n",
    "from jp_gene_viz import paired_networks\n",
    "paired_networks.load_javascript_support()"
   ]
  },
  {
   "cell_type": "code",
   "execution_count": null,
   "metadata": {
    "collapsed": false
   },
   "outputs": [],
   "source": [
    "# Inferred network\n",
    "for infNet in th17networks:\n",
    "    infFile = directory + '/' + infNet[0]\n",
    "    infTitle = infNet[1]\n",
    "    infThresh = infNet[2]\n",
    "    # Gold Standard network\n",
    "    for gsNet in goldStandards:\n",
    "        gsFile = directory + \"/\" + gsNet[0]\n",
    "        gsTitle = gsNet[1]\n",
    "        gsThresh = gsNet[2]\n",
    "        # compare the two\n",
    "        P = paired_networks.PairedNetworks()\n",
    "        P.load_networks(infFile, gsFile)\n",
    "        # set title\n",
    "        P.left_network.set_title(infTitle)\n",
    "        P.right_network.set_title(gsTitle)\n",
    "        # set edge threshhold\n",
    "        P.right_network.threshhold_slider.value = gsThresh\n",
    "        P.right_network.apply_click(None)\n",
    "        P.right_network.draw()\n",
    "        P.left_network.threshhold_slider.value = infThresh\n",
    "        P.left_network.apply_click(None)\n",
    "        P.left_network.draw()\n",
    "        P.show() \n",
    "    "
   ]
  },
  {
   "cell_type": "code",
   "execution_count": null,
   "metadata": {
    "collapsed": true
   },
   "outputs": [],
   "source": []
  },
  {
   "cell_type": "code",
   "execution_count": null,
   "metadata": {
    "collapsed": true
   },
   "outputs": [],
   "source": []
  }
 ],
 "metadata": {
  "kernelspec": {
   "display_name": "Python 2",
   "language": "python",
   "name": "python2"
  },
  "language_info": {
   "codemirror_mode": {
    "name": "ipython",
    "version": 2
   },
   "file_extension": ".py",
   "mimetype": "text/x-python",
   "name": "python",
   "nbconvert_exporter": "python",
   "pygments_lexer": "ipython2",
   "version": "2.7.10"
  }
 },
 "nbformat": 4,
 "nbformat_minor": 0
}
