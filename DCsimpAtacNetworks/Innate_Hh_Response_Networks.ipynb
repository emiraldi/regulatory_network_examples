{
 "cells": [
  {
   "cell_type": "code",
   "execution_count": null,
   "metadata": {
    "collapsed": true
   },
   "outputs": [],
   "source": [
    "directory = \"/Users/emiraldi/erm/Shared/DCproject/Networks\"\n",
    "directory = \".\"\n",
    "                # network (column format), column of the expression matrix that you want the nodes to be colored by\n",
    "                # 3. network title # 4. subselect the list of relevant genes\n",
    "# networkInits = [('SFB_DCs_ATAC_simple_deTF_sp.tsv','GF_SI_CD11bmCD103m_v_SFB_SI_CD11bmCD103m','GF v SFB, SI CD11b-CD103-','GeneSets/GF_SI_CD11bmCD103m_v_SFB_SI_CD11bmCD103m_FC1_FDR10_all.txt'),\n",
    "#     ('SFB_DCs_ATAC_simple_deTF_sp.tsv','GF_SI_CD11bmCD103p_v_SFB_SI_CD11bmCD103p','GF v SFB, SI CD11b-CD103+','GeneSets/GF_SI_CD11bmCD103p_v_SFB_SI_CD11bmCD103p_FC1_FDR10_all.txt'),\n",
    "#     ('SFB_DCs_ATAC_simple_deTF_sp.tsv','GF_SI_CD11bpCD103m_v_SFB_SI_CD11bpCD103m','GF v SFB, SI CD11b+CD103-','GeneSets/GF_SI_CD11bpCD103m_v_SFB_SI_CD11bpCD103m_FC1_FDR10_all.txt'),\n",
    "#     ('SFB_DCs_ATAC_simple_deTF_sp.tsv','GF_SI_CD11bpCD103p_v_SFB_SI_CD11bpCD103p','GF v SFB, SI CD11b+CD103+','GeneSets/GF_SI_CD11bpCD103p_v_SFB_SI_CD11bpCD103p_FC1_FDR10_all.txt'),\n",
    "#     ('SFB_DCs_ATAC_simple_deTF_sp.tsv','GF_SI_Macrophage_v_SFB_SI_Macrophage','GF v SFB, SI Macrophage','GeneSets/GF_SI_Macrophage_v_SFB_SI_Macrophage_FC1_FDR10_all.txt'),\n",
    "#     ('SFB_DCs_ATAC_simple_deTF_sp.tsv','GF_SI_Monocyte_v_SFB_SI_Monocyte','GF v SFB, Monocyte','GeneSets/GF_SI_Monocyte_v_SFB_SI_Monocyte_FC1_FDR10_all.txt')]\n",
    "\n",
    "networkInits = [('Hh_DCs_ATAC_simple_deTF_sp.tsv','GF_LI_CD11bmCD103m_v_Hh_LI_CD11bmCD103m','Hh UP (Green), LI CD11b-CD103-','GeneSets/GF_LI_CD11bmCD103m_v_Hh_LI_CD11bmCD103m_FC1_FDR10_down.txt'),\n",
    "\t('Hh_DCs_ATAC_simple_deTF_sp.tsv','GF_LI_CD11bmCD103p_v_Hh_LI_CD11bmCD103p','Hh UP (Green), LI CD11b-CD103+','GeneSets/GF_LI_CD11bmCD103p_v_Hh_LI_CD11bmCD103p_FC1_FDR10_down.txt'),\n",
    "\t('Hh_DCs_ATAC_simple_deTF_sp.tsv','GF_LI_CD11bpCD103m_v_Hh_LI_CD11bpCD103m','Hh UP (Green), LI CD11b+CD103-','GeneSets/GF_LI_CD11bpCD103m_v_Hh_LI_CD11bpCD103m_FC1_FDR10_down.txt'),\n",
    "\t('Hh_DCs_ATAC_simple_deTF_sp.tsv','GF_LI_CD11bpCD103p_v_Hh_LI_CD11bpCD103p','Hh UP (Green), LI CD11b+CD103+','GeneSets/GF_LI_CD11bpCD103p_v_Hh_LI_CD11bpCD103p_FC1_FDR10_down.txt'),\n",
    "\t('Hh_DCs_ATAC_simple_deTF_sp.tsv','GF_LI_Macrophage_v_Hh_LI_Macrophage','Hh UP (Green), LI Macrophage','GeneSets/GF_LI_Macrophage_v_Hh_LI_Macrophage_FC1_FDR10_down.txt'),\n",
    "\t('Hh_DCs_ATAC_simple_deTF_sp.tsv','GF_LI_Monocyte_v_Hh_LI_Monocyte','Hh UP (Green), Monocyte','GeneSets/GF_LI_Monocyte_v_Hh_LI_Monocyte_FC1_FDR10_down.txt'),\n",
    "\t('Hh_DCs_ATAC_simple_deTF_sp.tsv','GF_LI_CD11bmCD103m_v_Hh_LI_CD11bmCD103m','GF UP (red), LI CD11b-CD103-','GeneSets/GF_LI_CD11bmCD103m_v_Hh_LI_CD11bmCD103m_FC1_FDR10_up.txt'),\n",
    "\t('Hh_DCs_ATAC_simple_deTF_sp.tsv','GF_LI_CD11bmCD103p_v_Hh_LI_CD11bmCD103p','GF UP (red), LI CD11b-CD103+','GeneSets/GF_LI_CD11bmCD103p_v_Hh_LI_CD11bmCD103p_FC1_FDR10_up.txt'),\n",
    "\t('Hh_DCs_ATAC_simple_deTF_sp.tsv','GF_LI_CD11bpCD103m_v_Hh_LI_CD11bpCD103m','GF UP (red), LI CD11b+CD103-','GeneSets/GF_LI_CD11bpCD103m_v_Hh_LI_CD11bpCD103m_FC1_FDR10_up.txt'),\n",
    "\t('Hh_DCs_ATAC_simple_deTF_sp.tsv','GF_LI_CD11bpCD103p_v_Hh_LI_CD11bpCD103p','GF UP (red), LI CD11b+CD103+','GeneSets/GF_LI_CD11bpCD103p_v_Hh_LI_CD11bpCD103p_FC1_FDR10_up.txt'),\n",
    "\t('Hh_DCs_ATAC_simple_deTF_sp.tsv','GF_LI_Macrophage_v_Hh_LI_Macrophage','GF UP (red), LI Macrophage','GeneSets/GF_LI_Macrophage_v_Hh_LI_Macrophage_FC1_FDR10_up.txt'),\n",
    "\t('Hh_DCs_ATAC_simple_deTF_sp.tsv','GF_LI_Monocyte_v_Hh_LI_Monocyte','GF UP (red), Monocyte','GeneSets/GF_LI_Monocyte_v_Hh_LI_Monocyte_FC1_FDR10_up.txt')]\n",
    "\n",
    "#                 (\"CCR6pPotNets.txt\",\"Sca+CCR6+ILC3_Ileum_SFBMono\",\"SCA+ILC3s\",\"GeneSets/SCApILC3sig.txt\")]\n",
    "                \n",
    "expressionFile = \"DC_RNAseq_log2fcs.txt\"\n",
    "\n",
    "\n",
    "\n",
    "threshhold = .5"
   ]
  },
  {
   "cell_type": "code",
   "execution_count": null,
   "metadata": {
    "collapsed": false
   },
   "outputs": [],
   "source": [
    "from jp_gene_viz import LExpression\n",
    "# from jp_gene_viz import motif_data\n",
    "# C = motif_data.MotifCollection()\n",
    "# # for extra safety \"rU\" reads with universal line ending support\n",
    "# C.read_meme_file(open(directory + '/' + \"mm9_em.meme\", \"rU\"))\n",
    "# C.read_meme_file(open(directory + '/' + \"hg19_em.meme\", \"rU\"))"
   ]
  },
  {
   "cell_type": "code",
   "execution_count": null,
   "metadata": {
    "collapsed": false
   },
   "outputs": [],
   "source": [
    "LExpression.load_javascript_support()"
   ]
  },
  {
   "cell_type": "code",
   "execution_count": null,
   "metadata": {
    "collapsed": false
   },
   "outputs": [],
   "source": [
    "\n",
    "for networkInit in networkInits:\n",
    "    currCol = networkInit[1].lower()\n",
    "    networkFile = networkInit[0]\n",
    "    L = LExpression.LinkedExpressionNetwork()\n",
    "    L.show()\n",
    "    L.load_network(directory + '/' + networkFile)\n",
    "    L.load_heatmap(directory + '/' + expressionFile)\n",
    "    N = L.network\n",
    "    N.set_title(networkInit[2])\n",
    "    # set threshold\n",
    "    N.threshhold_slider.value = threshhold\n",
    "    N.apply_click(None)\n",
    "    N.draw()    \n",
    "    # Limit genes to target genes of interest and their putative regulators\n",
    "    geneListFile = networkInit[3]\n",
    "    geneIn = open(directory + '/' + geneListFile,'r')    \n",
    "    geneList = list()\n",
    "    for gene in geneIn:\n",
    "        geneList.append(gene.strip('\\n').lower())\n",
    "    geneIn.close()\n",
    "    N.pattern_text.value = \" \".join(geneList)\n",
    "    N.match_click(None)\n",
    "    N.targeted_click(None)\n",
    "#     regulates_click(None)\n",
    "    N.layout_click(None)    \n",
    "    \n",
    "#     # color nodes according to a sample column in the gene expression matrix\n",
    "    L.gene_click(None)    \n",
    "    L.expression.col = currCol    \n",
    "    L.condition_click(None)\n",
    "    N.layout_click(None)\n",
    "    N.labels_button.value=True\n",
    "\n",
    "#     # Attach the motif collection populated above:\n",
    "#     N.motif_collection = C\n",
    "#     net_with_motifs\n",
    "\n"
   ]
  },
  {
   "cell_type": "code",
   "execution_count": null,
   "metadata": {
    "collapsed": true
   },
   "outputs": [],
   "source": []
  }
 ],
 "metadata": {
  "kernelspec": {
   "display_name": "Python 2",
   "language": "python",
   "name": "python2"
  },
  "language_info": {
   "codemirror_mode": {
    "name": "ipython",
    "version": 2
   },
   "file_extension": ".py",
   "mimetype": "text/x-python",
   "name": "python",
   "nbconvert_exporter": "python",
   "pygments_lexer": "ipython2",
   "version": "2.7.10"
  }
 },
 "nbformat": 4,
 "nbformat_minor": 0
}
