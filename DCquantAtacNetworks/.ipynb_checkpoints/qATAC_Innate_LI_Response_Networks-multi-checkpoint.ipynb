{
 "cells": [
  {
   "cell_type": "code",
   "execution_count": 1,
   "metadata": {
    "collapsed": false
   },
   "outputs": [],
   "source": [
    "# Modes of regulation that turn on under LI conditions, relative to SI\n",
    "\n",
    "# GOAL: We want to visualize each quantitative ATAC priors and compare networks resulting from different\n",
    "# choices of geneset and peakset cutoffs (e.g., log2 fold-change and FDR), for each network (e.g., SI gene regulation\n",
    "# in macrophages).  We will use the \"multiple_network\" functionality to do this, and use networks linked to heatmaps\n",
    "# (\"Lexpression\" functionality) so that we can color nodes according to gene expression \n",
    "\n",
    "# Each tupple corresponds to (geneset cutoff, peakset cutoff)\n",
    "cutComb = ('FC0p58_FDR25','FC0p58_FDR25')\n",
    "# ('FC1_FDR10','FC1_FDR10')\n",
    "#                 ('FC1_FDR10','FC0p58_FDR25'),\n",
    "#                 ('FC0p58_FDR25','FC0p58_FDR25'),\n",
    "#                 ('FC0p58_FDR25','FC1_FDR10')]\n",
    "# NOTE: Script below is HARD-coded to only visualize the six (LI) or five (SI) networks\n",
    "\n",
    "directory = \"/Users/emiraldi/erm/Shared/DCproject/DCquantAtacNetworks\" # note \"try\" statement below, we'll also check current directory\n",
    "\n",
    "# Location of each network, and note we will use .replace() to insert the gene and peakset cutoffs of interest\n",
    "# for \"GENE_CUTOFF\" and \"PEAK_CUTOFF\" in the string below\n",
    "netBase = \"DC_genesets_GENE_CUTOFF/DCs_max4_body_bp10000/DCnets_loc/DCnets_loc_pPEAK_CUTOFF_rawp0001_hyg0001\"\n",
    "geneCutoff = cutComb[0]\n",
    "peakCutoff = cutComb[1]\n",
    "netPath = netBase.replace('GENE_CUTOFF',geneCutoff).replace('PEAK_CUTOFF',peakCutoff)\n",
    "\n",
    "# The starting conditions for each of the networks, a list of tuples.  Tuple entries are:\n",
    "# 0. network file name (column format) (as found in directory + netBase with cutoffs inserted\n",
    "# 1. column of the expression matrix that you want the nodes to be colored by\n",
    "# 2. network title, to which we'll add the gene and peak cutoffs\n",
    "# 3. subselect the list of relevant genes -- NOT USED for this code and can be left out\n",
    "networkInits = [('CD11bmCD103m_LI_sp.tsv','LI_v_SI_GF_CD11b-CD103-','LI UP (red), GF CD11b-CD103-','GeneSets/GF_LI_CD11bmCD103m_v_GF_SI_CD11bmCD103m_FC1_FDR10_up.txt'),\n",
    "\t('CD103p_LI_sp.tsv','LI_v_SI_GF_CD11b-CD103+','LI UP (red), GF CD11b-CD103+','GeneSets/GF_LI_CD11bmCD103p_v_GF_SI_CD11bmCD103p_FC1_FDR10_up.txt'),\n",
    "\t('CD11bp_LI_sp.tsv','LI_v_SI_GF_CD11b+CD103-','LI UP (red), GF CD11b+CD103-','GeneSets/GF_LI_CD11bpCD103m_v_GF_SI_CD11bpCD103m_FC1_FDR10_up.txt'),\n",
    "\t('CD11bpCD103p_LI_sp.tsv','LI_v_SI_GF_CD11b+CD103+','LI UP (red), GF CD11b+CD103+','GeneSets/GF_LI_CD11bpCD103p_v_GF_SI_CD11bpCD103p_FC1_FDR10_up.txt'),\n",
    "\t('mphage_LI_sp.tsv','LI_v_SI_GF_Macrophage','LI UP (red), GF Macrophage','GeneSets/GF_LI_Macrophage_v_GF_SI_Macrophage_FC1_FDR10_up.txt'),\n",
    "\t('monocyte_LI_sp.tsv','LI_v_SI_GF_Monocyte','LI UP (red), GF Monocyte','GeneSets/GF_LI_Monocyte_v_GF_SI_Monocyte_FC1_FDR10_up.txt')]\n",
    "expressionFile = \"Heatmaps/SILI_DC_ILC_log2FCs_SILI_DC_ILC_all.txt\"\n",
    "\n",
    "tfFocus = 1 # If 1, automatically applies the \"TFs only\" function, so we can focus on TFs\n",
    "    # If 0, does not!\n",
    "\n",
    "threshhold = .2 # for edge weights in graph\n",
    "\n",
    "clim = 1.5 # absolute value color threshhold on edge color"
   ]
  },
  {
   "cell_type": "code",
   "execution_count": null,
   "metadata": {
    "collapsed": false
   },
   "outputs": [
    {
     "data": {
      "application/javascript": [
       "\n",
       "// imitating ipywidgets/docs/source/examples/Custom Widget - Hello World.ipynb\n",
       "\n",
       "//require([\"widgets/js/widget\", \"widgets/js/manager\"], function(widget, manager){\n",
       "\n",
       "require.undef(\"SVGCanvas\");\n",
       "\n",
       "define(\"SVGCanvas\", [\"jupyter-js-widgets\"], function(widgets) {\n",
       "    \n",
       "    var svgEventHandlerFactory = function(that) {\n",
       "        var svgEventHandler = function(e) {\n",
       "            var target = e.target;\n",
       "            var info = {};\n",
       "            for (var attr in e) {\n",
       "                var val = e[attr];\n",
       "                var ty = (typeof val);\n",
       "                if ((ty == \"number\") ||\n",
       "                    (ty == \"string\") ||\n",
       "                    (ty == \"boolean\")) {\n",
       "                    info[attr] = val;\n",
       "                }\n",
       "            }\n",
       "            info.name = target.ipy_name;\n",
       "            var ept = SVGEventLocation(that, e);\n",
       "            info.svgX = ept.x;\n",
       "            info.svgY = ept.y;\n",
       "            var json = JSON.stringify(info);\n",
       "            that.model.set(\"event\", json);\n",
       "            that.touch();\n",
       "        };\n",
       "        return svgEventHandler;\n",
       "    };\n",
       "\n",
       "    var SVGEventLocation = function(that, e) {\n",
       "        // http://stackoverflow.com/questions/10298658/mouse-position-inside-autoscaled-svg\n",
       "        var pt = that.reference_point;\n",
       "        var svg = that.$svg[0];\n",
       "        pt.x = e.clientX;\n",
       "        pt.y = e.clientY;\n",
       "        return pt.matrixTransform(svg.getScreenCTM().inverse());\n",
       "    }\n",
       "    \n",
       "    var SVGCanvasView = widgets.DOMWidgetView.extend({\n",
       "        \n",
       "        render: function() {\n",
       "            var that = this;\n",
       "            var svg = that.svg_elt(\"svg\");\n",
       "            var eventHandler = svgEventHandlerFactory(that);\n",
       "            that.eventHandler = eventHandler;\n",
       "            that.named_elements = {};\n",
       "            svg.ipy_name = \"\";\n",
       "            that.$svg = $(svg);\n",
       "            that.reference_point = svg.createSVGPoint();\n",
       "            svg.setAttribute(\"preserveAspectRatio\", \"none\");\n",
       "            that.$el.append(that.$svg);\n",
       "            that.svg_parameters_changed();\n",
       "            that.commands_changed();\n",
       "            that.start_watch_event();\n",
       "            that.model.on(\"change:commands\", that.commands_changed, that);\n",
       "            that.model.on(\"change:viewBox\", that.svg_parameters_changed, that);\n",
       "            that.model.on(\"change:svg_width\", that.svg_parameters_changed, that);\n",
       "            that.model.on(\"change:svg_height\", that.svg_parameters_changed, that);\n",
       "            that.model.on(\"change:style\", that.svg_parameters_changed, that);\n",
       "            that.model.on(\"change:watch_event\", that.start_watch_event, that);\n",
       "            that.model.on(\"change:unwatch_event\", that.stop_watch_event, that);\n",
       "        },\n",
       "        \n",
       "        start_watch_event: function() {\n",
       "            var that = this;\n",
       "            var event_types = that.model.get(\"watch_event\");\n",
       "            if (event_types != \"\") {\n",
       "                that.$svg.on(event_types, that.eventHandler);\n",
       "                that.model.set(\"watch_event\", \"\");\n",
       "                that.touch();\n",
       "            }\n",
       "        },\n",
       "        \n",
       "        stop_watch_event: function() {\n",
       "            var that = this;\n",
       "            var event_types = that.model.get(\"unwatch_event\");\n",
       "            if (event_types != \"\") {\n",
       "                that.$svg.off(event_types);\n",
       "                that.model.set(\"watch_event\", \"\");\n",
       "                that.touch();\n",
       "            }\n",
       "        },\n",
       "        \n",
       "        commands_changed: function() {\n",
       "            var that = this;\n",
       "            var svg = that.$svg[0];\n",
       "            var commands = that.get_JSON(\"commands\")\n",
       "            for (var i=0; i<commands.length; i++) {\n",
       "                var command_dict = commands[i];\n",
       "                var indicator = command_dict[\"command\"];\n",
       "                var method = that[\"do_\"+indicator];\n",
       "                method(that, command_dict);\n",
       "            }\n",
       "        },\n",
       "\n",
       "        do_fit: function(that, info) {\n",
       "            // fit viewport to bounding box.\n",
       "            var svg = that.$svg[0];\n",
       "            var bbox = svg.getBBox();\n",
       "            var D = {\"width\": bbox.width, \"height\": bbox.height, \"x\": bbox.x, \"y\": bbox.y}\n",
       "            var vbox = \"\" + D.x + \" \" + D.y + \" \" + D.width + \" \" + D.height;\n",
       "            if ((D.width > 0) && (D.height > 0)) {\n",
       "                that.model.set(\"boundingBox\", D);\n",
       "                if (info.changeView) {\n",
       "                    that.model.set(\"viewBox\", vbox);\n",
       "                }\n",
       "                // Element viewBox will be updated later by model change.\n",
       "                that.touch();\n",
       "            }\n",
       "        },\n",
       "        \n",
       "        do_add_element: function (that, info) {\n",
       "            var tag = info.tag;\n",
       "            var name = info.name;\n",
       "            var element = that.svg_elt(tag);\n",
       "            element.ipy_name = name;\n",
       "            var $element = $(element);\n",
       "            that.update_element($element, info);\n",
       "            // add event callbacks\n",
       "            that.$svg.append($element);\n",
       "            that.named_elements[name] = $element;\n",
       "        },\n",
       "        \n",
       "        do_change_element: function (that, info) {\n",
       "            var name = info.name;\n",
       "            var $element = that.named_elements[name];\n",
       "            if ($element) {\n",
       "                that.update_element($element, info);\n",
       "            } else {\n",
       "                console.warn(\"couldn't find element for \"+name);\n",
       "            }\n",
       "        },\n",
       "        \n",
       "        do_delete: function (that, info) {\n",
       "            var names = info.names;\n",
       "            for (var i=0; i<names.length; i++) {\n",
       "                var name = names[i];\n",
       "                var $element = that.named_elements[name];\n",
       "                if ($element) {\n",
       "                    $element.remove();\n",
       "                    delete that.named_elements[name];\n",
       "                }\n",
       "            }\n",
       "        },\n",
       "        \n",
       "        update_element: function($element, info) {\n",
       "            var element = $element[0];\n",
       "            var atts = info.atts;\n",
       "            var style = info.style;\n",
       "            var text = info.text;\n",
       "            if (atts) {\n",
       "                for (var att in atts) {\n",
       "                    element.setAttribute(att, atts[att]);\n",
       "                }\n",
       "            }\n",
       "            if (style) {\n",
       "                for (var styling in style) {\n",
       "                    element.style[styling] = style[styling];\n",
       "                }\n",
       "            }\n",
       "            if (text) {\n",
       "                $element.empty();\n",
       "                var node = document.createTextNode(text);\n",
       "                element.appendChild(node);\n",
       "            }\n",
       "        },\n",
       "        \n",
       "        do_empty: function (that, info) {\n",
       "            that.named_elements = {};\n",
       "            that.$svg.empty();\n",
       "        },\n",
       "        \n",
       "        svg_parameters_changed: function() {\n",
       "            var that = this;\n",
       "            var style_additions = that.get_JSON(\"style\");\n",
       "            var svg = that.$svg[0];\n",
       "            svg.setAttribute(\"viewBox\", that.model.get(\"viewBox\"));\n",
       "            svg.setAttribute(\"width\", that.model.get(\"svg_width\"));\n",
       "            svg.setAttribute(\"height\", that.model.get(\"svg_height\"));\n",
       "            for (var style_attr in style_additions) {\n",
       "                svg.style[style_attr] = style_additions[style_attr];\n",
       "            }\n",
       "        },\n",
       "        \n",
       "        get_JSON: function(name) {\n",
       "            var json = this.model.get(name);\n",
       "            return $.parseJSON(json);\n",
       "        },\n",
       "        \n",
       "        svg_elt: function(kind) {\n",
       "            return document.createElementNS('http://www.w3.org/2000/svg', kind);\n",
       "        }\n",
       "        \n",
       "    });\n",
       "    \n",
       "    //manager.WidgetManager.register_widget_view('SVGCanvasView', SVGCanvasView);\n",
       "    return {\n",
       "        SVGCanvasView: SVGCanvasView\n",
       "    }\n",
       "});\n"
      ],
      "text/plain": [
       "<IPython.core.display.Javascript object>"
      ]
     },
     "metadata": {},
     "output_type": "display_data"
    },
    {
     "data": {
      "application/javascript": [
       "\n",
       "// This is the javascript side to match js_proxy.py.\n",
       "// See js_proxy.py for an explanation of the command transfer\n",
       "// protocol\n",
       "\n",
       "// imitating ipywidgets/docs/source/examples/Custom Widget - Hello World.ipynb\n",
       "\n",
       "//require([\"widgets/js/widget\", \"widgets/js/manager\", \"underscore\", \"jquery\"\n",
       "//], function(widget, manager, _, $) {\n",
       "\n",
       "require.undef(\"JSProxy\");\n",
       "\n",
       "define(\"JSProxy\", [\"jupyter-js-widgets\"], function(widgets) {\n",
       "\n",
       "    var JSProxyView = widgets.DOMWidgetView.extend({\n",
       "\n",
       "        render: function() {\n",
       "            var that = this;\n",
       "            that.on(\"displayed\", function() {\n",
       "                that.update();\n",
       "            });\n",
       "            // Wrap $el as a proper jQuery object\n",
       "            that.$$el = $(that.$el);\n",
       "            // \"new\" keyword emulation\n",
       "            // http://stackoverflow.com/questions/17342497/dynamically-control-arguments-while-creating-objects-in-javascript\n",
       "            that.$$el.New = function(klass, args) {\n",
       "                var obj = Object.create(klass.prototype);\n",
       "                return klass.apply(obj, args) || obj;\n",
       "            };\n",
       "\n",
       "            // fix key bindings for wayward element.\n",
       "            // XXXX This is a bit of a hack that may not be needed in future\n",
       "            // Jupyter releases.\n",
       "            that.$$el.Fix = function(element) {\n",
       "                debugger;\n",
       "                that.model.widget_manager.keyboard_manager.register_events(element);\n",
       "            };\n",
       "        },\n",
       "\n",
       "        update: function(options) {\n",
       "            var that = this;\n",
       "            var commands = that.model.get(\"commands\");\n",
       "            if (commands.length >= 2) {\n",
       "                var command_counter = commands[0];\n",
       "                var command_list = commands[1];\n",
       "                var level = commands[2];\n",
       "                level = that.check_level(level);\n",
       "                var results = [];\n",
       "                _.each(command_list, function(command,i) {\n",
       "                    var result = that.execute_command(command);\n",
       "                    results[i] = that.json_safe(result, level);\n",
       "                });\n",
       "                that.model.set(\"commands\", []);\n",
       "                that.model.set(\"results\", [command_counter, results])\n",
       "                that.touch();\n",
       "            }\n",
       "        },\n",
       "\n",
       "        execute_command: function(command) {\n",
       "            var that = this;\n",
       "            var result = command;\n",
       "            if ($.isArray(command)) {\n",
       "                var indicator = command[0];\n",
       "                var remainder = command.slice();\n",
       "                remainder.shift();\n",
       "                if (indicator == \"element\") {\n",
       "                    // Make sure the element is wrapped as a proper JQuery(UI) object\n",
       "                    if (!that.$$el) {\n",
       "                        that.$$el = $(that.$el);\n",
       "                    }\n",
       "                    result = that.$$el;\n",
       "                } else if (indicator == \"window\") {\n",
       "                    result = window;\n",
       "                } else if (indicator == \"method\") {\n",
       "                    var target_desc = remainder.shift();\n",
       "                    var target = that.execute_command(target_desc);\n",
       "                    var name = remainder.shift();\n",
       "                    var args = remainder.map(that.execute_command, that);\n",
       "                    var method = target[name];\n",
       "                    if (method) {\n",
       "                        result = method.apply(target, args);\n",
       "                    } else {\n",
       "                        result = \"In \" + target + \" no such method \" + name;\n",
       "                    }\n",
       "                } else if (indicator == \"function\") {\n",
       "                    var function_desc = remainder.shift();\n",
       "                    var function_value = that.execute_command(function_desc);\n",
       "                    var args = remainder.map(that.execute_command, that);\n",
       "                    // Use \"that\" as the \"this\" value for function values?\n",
       "                    result = function_value.apply(that, args);\n",
       "                } else if (indicator == \"id\") {\n",
       "                    result = remainder[0];\n",
       "                } else if (indicator == \"list\") {\n",
       "                    result = remainder.map(that.execute_command, that);\n",
       "                } else if (indicator == \"dict\") {\n",
       "                    result = {}\n",
       "                    var desc = remainder[0];\n",
       "                    for (var key in desc) {\n",
       "                        var key_desc = desc[key];\n",
       "                        var val = that.execute_command(key_desc);\n",
       "                        result[key] = val;\n",
       "                    }\n",
       "                } else if (indicator == \"callback\") {\n",
       "                    var identifier = remainder.shift();\n",
       "                    var data = remainder.shift();\n",
       "                    var level = remainder.shift();\n",
       "                    // sanity check\n",
       "                    level = that.check_level(level);\n",
       "                    result = that.callback_factory(identifier, data, level);\n",
       "                } else if (indicator == \"get\") {\n",
       "                    var target_desc = remainder.shift();\n",
       "                    var target = that.execute_command(target_desc);\n",
       "                    var name = remainder.shift();\n",
       "                    try {\n",
       "                        result = target[name];\n",
       "                    } catch(err) {\n",
       "                        result = \"failed to get \"+name+\" from \"+target+\" :: \"+err;\n",
       "                    }\n",
       "                } else if (indicator == \"set\") {\n",
       "                    var target_desc = remainder.shift();\n",
       "                    var target = that.execute_command(target_desc);\n",
       "                    var name = remainder.shift();\n",
       "                    var value_desc = remainder.shift()\n",
       "                    var value = that.execute_command(value_desc);\n",
       "                    target[name] = value;\n",
       "                    result = target;\n",
       "                } else if (indicator == \"null\") {\n",
       "                    target_desc = remainder.shift();\n",
       "                    that.execute_command(target_desc);\n",
       "                    result = null;\n",
       "                } else {\n",
       "                    result = \"Unknown indicator \" + indicator;\n",
       "                }\n",
       "            }\n",
       "            return result;\n",
       "        },\n",
       "\n",
       "        check_level: function(level) {\n",
       "            if ((typeof level) != \"number\" || (level < 0)) {\n",
       "                level = 0;\n",
       "            } else if (level > 5) {\n",
       "                level = 5;\n",
       "            }\n",
       "            return level;\n",
       "        },\n",
       "\n",
       "        callback_factory: function(identifier, data, level) {\n",
       "            var that = this;\n",
       "            // Counter makes sure change is noticed even if other arguments don't change.\n",
       "            var counter = 0;\n",
       "            var handler = function () {\n",
       "                counter += 1;\n",
       "                var payload = that.json_safe([identifier, data, arguments, counter], level + 1);\n",
       "                that.model.set(\"callback_results\", payload);\n",
       "                that.touch();\n",
       "            };\n",
       "            return handler;\n",
       "        },\n",
       "\n",
       "        json_safe: function(val, depth) {\n",
       "            // maybe expand later as need arises\n",
       "            var that = this;\n",
       "            var ty = (typeof val);\n",
       "            if ((ty == \"number\") || (ty == \"string\") || (ty == \"boolean\")) {\n",
       "                return val;\n",
       "            }\n",
       "            if (!val) {\n",
       "                // translate all other falsies to None\n",
       "                return null;\n",
       "            }\n",
       "            if (((typeof depth) == \"number\") && (depth > 0)) {\n",
       "                if ($.isArray(val)) {\n",
       "                    var result = [];\n",
       "                    _.each(val, function(elt, i) {\n",
       "                        var r = that.json_safe(elt, depth-1);\n",
       "                        if (r != null) {\n",
       "                            result[i] = r;\n",
       "                        }\n",
       "                    });\n",
       "                    return result;\n",
       "                } else {\n",
       "                    var result = {};\n",
       "                    for (var key in val) {\n",
       "                        var jv = that.json_safe(val[key], depth-1);\n",
       "                        if (jv != null) {\n",
       "                            result[key] = jv;\n",
       "                        }\n",
       "                    }\n",
       "                    return result;\n",
       "                }\n",
       "            }\n",
       "            return null;\n",
       "        }\n",
       "\n",
       "    });\n",
       "\n",
       "    //manager.WidgetManager.register_widget_view('JSProxyView', JSProxyView);\n",
       "    return {\n",
       "        JSProxyView: JSProxyView\n",
       "    }\n",
       "});\n"
      ],
      "text/plain": [
       "<IPython.core.display.Javascript object>"
      ]
     },
     "metadata": {},
     "output_type": "display_data"
    },
    {
     "data": {
      "application/javascript": [
       "/*\n",
       "jQuery plugin for a color arrow cursor over an element.\n",
       "\n",
       "Based on\n",
       "http://stackoverflow.com/questions/18779354/assign-color-to-mouse-cursor-using-css\n",
       "*/\n",
       "\n",
       "(function ($) {\n",
       "\n",
       "    $.fn.color_cursor = function(color) {\n",
       "        var that = this;\n",
       "        var cvs = document.createElement(\"canvas\");\n",
       "        cvs.height = 16;\n",
       "        cvs.width = 16;\n",
       "        var ctx = cvs.getContext(\"2d\");\n",
       "        ctx.strokeStyle = color;\n",
       "        ctx.lineWidth = 4;\n",
       "        ctx.lineCap = \"round\";\n",
       "        ctx.moveTo(2, 12);\n",
       "        ctx.lineTo(2, 2);\n",
       "        ctx.lineTo(12, 2);\n",
       "        ctx.moveTo(2, 2);\n",
       "        ctx.lineTo(30, 30)    \n",
       "        ctx.stroke();\n",
       "        var url = cvs.toDataURL();\n",
       "        that.css(\"cursor\", \"url(\" + url + '), auto');\n",
       "        return that;\n",
       "    };\n",
       "\n",
       "    $.fn.color_cursor_reset = function () {\n",
       "        this.css(\"cursor\", \"\");\n",
       "        return this;\n",
       "    };\n",
       "\n",
       "    $.fn.color_cursor.example = function (element) {\n",
       "        debugger;\n",
       "        var d = $(\"<div>Cursor should be red over me. Click to reset.</div>\")\n",
       "            .color_cursor(\"red\");\n",
       "        var reset = function() {\n",
       "            d.color_cursor_reset();\n",
       "            d.html(\"Now the cursor should be normal\");\n",
       "        }\n",
       "        d.click(reset);\n",
       "        element.append(d);\n",
       "        return element;\n",
       "    };\n",
       "\n",
       "})(jQuery)\n"
      ],
      "text/plain": [
       "<IPython.core.display.Javascript object>"
      ]
     },
     "metadata": {},
     "output_type": "display_data"
    }
   ],
   "source": [
    "# Uncomment to run without install (in binder, for example)\n",
    "import sys\n",
    "if \"..\" not in sys.path:\n",
    "    sys.path.append(\"..\")\n",
    "from jp_gene_viz import dNetwork\n",
    "dNetwork.load_javascript_support()\n",
    "from jp_gene_viz import multiple_network\n",
    "from jp_gene_viz import LExpression\n",
    "LExpression.load_javascript_support()\n",
    "# Part 1 of a hacky way to set color threshhold\n",
    "from numpy import array\n",
    "minclr = array([   255.,  0,    0.])\n",
    "minvalue = -clim\n",
    "zeroclr = array([255.0000 , 130.4000  , 60.0000]) # [   166.,    86.,    40.]) #127.5, 63.75, 0 ])\n",
    "maxvalue = clim\n",
    "maxclr = array([ 0.,    1.7*127.5,    0.])\n",
    "\n",
    "\n",
    "# Currently, we are not interested in visualizing motifs, and would need to find these files, if we did\n",
    "# from jp_gene_viz import motif_data\n",
    "# C = motif_data.MotifCollection()\n",
    "# # for extra safety \"rU\" reads with universal line ending support\n",
    "# C.read_meme_file(open(directory + '/' + \"mm9_em.meme\", \"rU\"))\n",
    "# C.read_meme_file(open(directory + '/' + \"hg19_em.meme\", \"rU\"))"
   ]
  },
  {
   "cell_type": "code",
   "execution_count": null,
   "metadata": {
    "collapsed": false
   },
   "outputs": [
    {
     "name": "stdout",
     "output_type": "stream",
     "text": [
      "('Reading network', '/Users/emiraldi/erm/Shared/DCproject/DCquantAtacNetworks/DC_genesets_FC0p58_FDR25/DCs_max4_body_bp10000/DCnets_loc/DCnets_loc_pFC0p58_FDR25_rawp0001_hyg0001/CD11bmCD103m_LI_sp.tsv')\n",
      "('Loading saved layout', '/Users/emiraldi/erm/Shared/DCproject/DCquantAtacNetworks/DC_genesets_FC0p58_FDR25/DCs_max4_body_bp10000/DCnets_loc/DCnets_loc_pFC0p58_FDR25_rawp0001_hyg0001/CD11bmCD103m_LI_sp.tsv.layout.json')\n"
     ]
    }
   ],
   "source": [
    "networkList = list()  # this list contains heatmap-linked network objects\n",
    "\n",
    "for networkInit in networkInits:\n",
    "    networkFile = networkInit[0]\n",
    "    curr = LExpression.LinkedExpressionNetwork()\n",
    "    try:\n",
    "        curr.load_network(directory + '/' + netPath + '/' + networkFile)  \n",
    "    except AssertionError:\n",
    "        directory = \".\"\n",
    "        curr.load_network(directory + '/' + netPath + '/' + networkFile)    \n",
    "    networkList.append(curr)\n"
   ]
  },
  {
   "cell_type": "code",
   "execution_count": null,
   "metadata": {
    "collapsed": false
   },
   "outputs": [],
   "source": [
    "# visualize the networks -- HARD CODED for 5 networks:\n",
    "M = multiple_network.MultipleNetworks(\n",
    "    [[networkList[0], networkList[1]],\n",
    "    [networkList[2], networkList[3]],\n",
    "    [networkList[4], networkList[5]]])\n",
    "M.svg_width = 500\n",
    "M.show()      "
   ]
  },
  {
   "cell_type": "code",
   "execution_count": null,
   "metadata": {
    "collapsed": false
   },
   "outputs": [],
   "source": [
    "# Set network preferences\n",
    "count = 0\n",
    "for curr in networkList:\n",
    "    networkInit = networkInits[count]\n",
    "    # get title information + curr column for shading of figures\n",
    "    currCol = networkInit[1].lower()\n",
    "    titleBase = networkInit[2]\n",
    "    titleInf = titleBase + ' (gCut: ' + geneCutoff.replace('_',' ') + ', pCut: ' + peakCutoff.replace('_',' ')\n",
    "    \n",
    "    # set threshold\n",
    "    curr.network.threshhold_slider.value = threshhold\n",
    "    curr.network.apply_click(None)\n",
    "    if tfFocus:\n",
    "        # focus on TF core    \n",
    "        curr.network.tf_only_click(None)\n",
    "        curr.network.layout_click(None)  \n",
    "        \n",
    "    # set title\n",
    "    curr.network.title_html.value = titleInf\n",
    "\n",
    "    # add labels\n",
    "    curr.network.labels_button.value=True  \n",
    "    curr.network.draw_click(None)\n",
    "\n",
    "    # Load heatmap\n",
    "    curr.load_heatmap(directory + '/' + expressionFile)\n",
    "    # color nodes according to a sample column in the gene expression matrix\n",
    "    curr.gene_click(None)    \n",
    "    curr.expression.col = currCol    \n",
    "    curr.condition_click(None)\n",
    "    \n",
    "        #     # Attach the motif collection populated above:\n",
    "        #     N.motif_collection = C\n",
    "        #     net_with_motifs\n",
    "    \n",
    "    # !!!!! for some reason this doesn't work, tried curr.display... w/o curr.network.display...\n",
    "    # Part 2: a hacky way to set min and max on the heatmap and heatmap-colored nodes\n",
    "    curr.network.display_graph.get_edge_color_interpolator()\n",
    "    curr.network.display_graph._edge_color_interpolator.minclr = minclr\n",
    "    curr.network.display_graph._edge_color_interpolator.maxclr = maxclr\n",
    "    curr.network.display_graph._edge_color_interpolator.breakpoints = \\\n",
    "        [(minvalue, minclr),\n",
    "         (0, zeroclr),\n",
    "         (maxvalue, maxclr)]\n",
    "    curr.network.draw_click(None)\n",
    "    count += 1\n"
   ]
  },
  {
   "cell_type": "code",
   "execution_count": null,
   "metadata": {
    "collapsed": true
   },
   "outputs": [],
   "source": []
  }
 ],
 "metadata": {
  "kernelspec": {
   "display_name": "Python 2",
   "language": "python",
   "name": "python2"
  },
  "language_info": {
   "codemirror_mode": {
    "name": "ipython",
    "version": 2
   },
   "file_extension": ".py",
   "mimetype": "text/x-python",
   "name": "python",
   "nbconvert_exporter": "python",
   "pygments_lexer": "ipython2",
   "version": "2.7.10"
  },
  "widgets": {
   "state": {
    "0009dfce0be8409db56e33ab08a9904e": {
     "views": []
    },
    "003ed2d3b2a94d6c9c0f2b1fddf4d82c": {
     "views": []
    },
    "00925b73f68c4df5b9b1fad1ad6af399": {
     "views": []
    },
    "013cae4827b647888ad90cd95ebb901b": {
     "views": []
    },
    "018002ee7d4b4de3a8a8d58dd71e2149": {
     "views": []
    },
    "018def4a727d4882b04e7c79bd1e76b3": {
     "views": []
    },
    "0196cac83de4408db2205c11dd9227b1": {
     "views": []
    },
    "01c84feaf7214b6b852d64f4e05e5925": {
     "views": []
    },
    "01f84abb373d477182f5b1b1bb04d9b6": {
     "views": []
    },
    "0236b20fab774a2aae9b4f7c2c9f2a58": {
     "views": []
    },
    "024a24e62cdd48bea681d6176e408023": {
     "views": []
    },
    "026f2b532e194776a77dd0386c46d21d": {
     "views": []
    },
    "028a94262d3342e6884c3f781d3a2cc1": {
     "views": []
    },
    "02c23e5d67724cb7a07e2080928700a9": {
     "views": []
    },
    "0306f174e00c4bf2aedd4e5cad4b3422": {
     "views": []
    },
    "031a9b82d9b84a278adf3baaa5fcd0db": {
     "views": []
    },
    "035b18ef541c4ca6b093ac68d5d2ac90": {
     "views": []
    },
    "0372a90d6a974095a10b250fc15aae4a": {
     "views": []
    },
    "038f1cbabab04eb095c072f846ce352a": {
     "views": []
    },
    "03912d98c9154065b5bc7bb765681dc5": {
     "views": []
    },
    "0398e709eedd42a389282a8a35077e66": {
     "views": []
    },
    "03e083d753454f4cac347046c82b8aa4": {
     "views": []
    },
    "03fd068b2cb949679677d38d3620557e": {
     "views": []
    },
    "0438143767534384ba8f32c6eef21ec1": {
     "views": []
    },
    "043d94d8a28b401e92915822d210e88d": {
     "views": []
    },
    "049c1b8ecb1c4e019500ac82c0c432fb": {
     "views": []
    },
    "049df100635d4211bbb67be7040df11f": {
     "views": []
    },
    "04c0d216a8a24927b6d90442b449e013": {
     "views": []
    },
    "04e505b519494b8c9871a05575d49af7": {
     "views": []
    },
    "050d551b0ae84f4ebcd9c1814b3d5eeb": {
     "views": []
    },
    "058d52135ce543958d65a8ba258c56c8": {
     "views": []
    },
    "0640f0ae6427434daf2919ac67ab740f": {
     "views": []
    },
    "06792a21657e4ab8b928b8c28d0cd6c4": {
     "views": []
    },
    "0686fe806eb549b28972d2ad1cb18f23": {
     "views": []
    },
    "06a12d530956437b8e856d69fddcf9d3": {
     "views": []
    },
    "06b273eccfd04e51a31c5200d4c85dda": {
     "views": []
    },
    "06cb77d3a73a4a9fb770ff67137eca2a": {
     "views": []
    },
    "06daa95405d748a38d435b6c2d5a4797": {
     "views": []
    },
    "071492b9512f4f1885f18b12ffd6d400": {
     "views": []
    },
    "0729f8e5a4cf478cbfa731f762cd0412": {
     "views": []
    },
    "074feac238764b9dabaa523f4e073dda": {
     "views": []
    },
    "07b3530037604a799ad800b02143a545": {
     "views": []
    },
    "07facad3f423462eb9e1a40f57c63b22": {
     "views": []
    },
    "0807e99034554afbae899797ab6958e0": {
     "views": []
    },
    "0815d4d2b13a4c15a53041199c50dd78": {
     "views": []
    },
    "08168f3dae6a41e1b874f744cb1a16e3": {
     "views": []
    },
    "0821ee21a6f0499790ac6d9b64d8fcd3": {
     "views": []
    },
    "08a0d5ed8e72487fa114da32b5373df0": {
     "views": []
    },
    "08b41790e4324a82a32b6cfecdc85e59": {
     "views": []
    },
    "08ca42266ce84bf0bf9e1f125db2d69f": {
     "views": []
    },
    "08d3206daa9442e09d325d96469443d7": {
     "views": []
    },
    "093d93da97fb4d6fa5c40f4369614fd7": {
     "views": []
    },
    "0960ccffc90842ffaa514e39ec61387b": {
     "views": []
    },
    "09d0c03bf6e646c482c10b683c9cdb17": {
     "views": []
    },
    "09dc0f2fb50a4c73b98308a146d32ee6": {
     "views": []
    },
    "09efdbd0c31440439b65add053277bc0": {
     "views": []
    },
    "0a66106b74bb4aeea6d29de8273e3c46": {
     "views": []
    },
    "0a975bfff4c541908db736094dfc2a3e": {
     "views": []
    },
    "0a99ee80ca384f4a9180a94fbdc765ef": {
     "views": []
    },
    "0ab2c467f0574fdaa639fb2cc29d6185": {
     "views": []
    },
    "0b29c860e5654eb3aea2d6667c60ef7d": {
     "views": []
    },
    "0b2ca2c4f07640cf81962f8380dfebe8": {
     "views": []
    },
    "0b51d443e6c4452b9eb1061bf51449ed": {
     "views": []
    },
    "0b55f607454b404594a5b5fac208e6c5": {
     "views": []
    },
    "0b95bf4148914b9c8c3874d8375e4eb9": {
     "views": []
    },
    "0b99a8e5055e4ebc9ff1eeaed2cb4e72": {
     "views": []
    },
    "0ba35a6515ca4cd99923fe73f7af52dc": {
     "views": []
    },
    "0bbff0efe8a24b01837f5d63d5a97d84": {
     "views": []
    },
    "0bee4a5a697c4cad839c68d0a65abf66": {
     "views": []
    },
    "0c0b5ea4acf04c2984b2383e1180fbec": {
     "views": []
    },
    "0c8102c3120b4371b8bf96b0b8c66df4": {
     "views": []
    },
    "0caa04d71aaa414faa05f863744db67c": {
     "views": []
    },
    "0cc946ddd33449fea2fb942d248d7a76": {
     "views": []
    },
    "0cc9b942f1fb4b9c9165dd6d258bc186": {
     "views": []
    },
    "0cdc24feef8b4e028b2d95c8682e0cfe": {
     "views": []
    },
    "0cdcf23e2d4740eea6c2388a3a678c11": {
     "views": []
    },
    "0cf749d96a5a4e639e5973b55ddffa6b": {
     "views": []
    },
    "0d2c30f353c642c9851f9aeb465cd831": {
     "views": []
    },
    "0d3f7d204d4f4ae49d59c035286dff0f": {
     "views": []
    },
    "0d40f04102e9448f861521a6f3b9c8e0": {
     "views": []
    },
    "0d94b1cd4d8240e792f3cf88f480ca82": {
     "views": []
    },
    "0de1f544323d4bd69bf834875b89400a": {
     "views": []
    },
    "0e164975263a4a719d0f6767159ec993": {
     "views": []
    },
    "0e17d80939a349049c5f7f54ebcae60f": {
     "views": []
    },
    "0f0233c8afb14a5c9d3a3ebd394cedb4": {
     "views": []
    },
    "0f25d49f0d4043c7a942d71ae4a8fea4": {
     "views": []
    },
    "0f27dadf0a35477fb9c8431a25ebe3da": {
     "views": []
    },
    "0f59fdc7f9f84d4fb7830fb984b457ee": {
     "views": []
    },
    "0fef01909fc5418fa25a207e4e05efae": {
     "views": []
    },
    "1002d97b8c214ae0936cff3c6f3c59dd": {
     "views": []
    },
    "1012b58b042b4d839d6491665bfdc4c2": {
     "views": []
    },
    "103b516b8cff42faa74e84b1567dd794": {
     "views": []
    },
    "10892314e94c49d4a6267c3415055d2c": {
     "views": []
    },
    "10c57345ea804b5aa87e126ca7053ecf": {
     "views": []
    },
    "1125cf6bf8544095815e68c014e60507": {
     "views": []
    },
    "1176199ae53945f9be928d7f40a14842": {
     "views": []
    },
    "11a8e970efd7459d84ac22b4321e1be2": {
     "views": []
    },
    "11c22517f6ca47a0af748fc9e666d065": {
     "views": []
    },
    "11dde909aea748af856752060d1cc1f7": {
     "views": []
    },
    "1216fff70d284e8fbfa55074ec29d21c": {
     "views": []
    },
    "126ee211d0e047d0a5b495e7a5c7d7ac": {
     "views": []
    },
    "12d2dd6ee46e433c882b856612db5555": {
     "views": []
    },
    "1301dfb0718341d4b4c60bd5bc40b24e": {
     "views": []
    },
    "1399500de57b4074b28d48672ee54d92": {
     "views": []
    },
    "13ce8235f65644e09142b0cc22f8feb2": {
     "views": []
    },
    "14059c30903348b8be5597f1c0dba3b9": {
     "views": []
    },
    "1478f7afb1fe4d18a417f461e7d9798b": {
     "views": []
    },
    "1483582872db47ad85e69d2767852ca0": {
     "views": []
    },
    "149bd04abc8143ee96953553ae31f054": {
     "views": []
    },
    "14ce1e999dd14e8da0463d960e5a2ecc": {
     "views": []
    },
    "14fd3e9f6a434ef9b7fdee3ead47f701": {
     "views": []
    },
    "1515317bf17c460e8010c208702ee0f2": {
     "views": []
    },
    "155c581d6e104ac7ac5711aa61944d3e": {
     "views": []
    },
    "164e375e767f41eab32a794c44891e8e": {
     "views": []
    },
    "164f871f0b4c41d1b912c6982f4bddb7": {
     "views": []
    },
    "16cfd8fe49034eec9cca2944d95e7289": {
     "views": []
    },
    "16d9b25099ed46e69c785182a06f945b": {
     "views": []
    },
    "17de9c2eae1540ab8c09c40753f7abbd": {
     "views": []
    },
    "1861656be0644925b74c012ba0f36ef1": {
     "views": []
    },
    "18747892db8b4922a55a0ca263a94868": {
     "views": []
    },
    "1a12b24ef0b64e9fb2bb178df42f3a4c": {
     "views": []
    },
    "1ab7d0eeac134dde952e0b0a128a6e54": {
     "views": []
    },
    "1b0920ce2cce4a05b7cb52358d9342ba": {
     "views": []
    },
    "1b28eb16b59a48559f5cb8d4a236ccc1": {
     "views": []
    },
    "1b6e9e603bb3407f84d6412a4b95261f": {
     "views": []
    },
    "1bd87c39d652469a8e78d4ea0486e0d2": {
     "views": []
    },
    "1bef051832a04bff93df09e2f68be2f1": {
     "views": []
    },
    "1c75c8e3984e42b9b53dd5d195575e5d": {
     "views": []
    },
    "1d414272e1a749049402bcd2b980ee04": {
     "views": []
    },
    "1d55b7c1df0d4ca7806013551096b039": {
     "views": []
    },
    "1d5d3c2f94b548c991e3b8f2fe759877": {
     "views": []
    },
    "1d60d982c863422aae2b2c009df3ad17": {
     "views": []
    },
    "1d6e3de2523b4bad85044054109b83a3": {
     "views": []
    },
    "1d8d789404364a4a9f2ddfdc3cbae3db": {
     "views": []
    },
    "1de9f08e10bf49fab8a3aa80298dc9a4": {
     "views": []
    },
    "1e445608321e49d3868a33f6f9af4e00": {
     "views": []
    },
    "1e88ef76e9714d829c3aa1d31d680522": {
     "views": []
    },
    "1f5f8053737c451b88f1f91a07b06134": {
     "views": []
    },
    "1f69b73e14b14784829ae6b78afa0da0": {
     "views": []
    },
    "1f77bc92961a4808a9db6f0fd5b796d6": {
     "views": []
    },
    "1f848676dd7c4eb088b514ba151d1602": {
     "views": []
    },
    "1fbc52df8a654db6b731a6f30c3296ef": {
     "views": []
    },
    "203bbc885d74454cb64b3e0af1d56f24": {
     "views": []
    },
    "204e2029498b4d50b2ac984826cf84b6": {
     "views": []
    },
    "2193e06432504926a5d9f06f087c7c93": {
     "views": []
    },
    "21d1c901a4f44d0ebd817ee42d41fd56": {
     "views": []
    },
    "21e9098ca622432f8404d828adb6d593": {
     "views": []
    },
    "2214f61d3d6c4b83b966b3462729d063": {
     "views": []
    },
    "22283f49907147738e75e3d7f76cd9e1": {
     "views": []
    },
    "22843c20666f4f23bbc63cebeb0b33dd": {
     "views": []
    },
    "2285c963cfef4edbbf552ae361d34d9b": {
     "views": []
    },
    "22a191d870a74aadb56cf34088a768d7": {
     "views": []
    },
    "22a9ba8461284541af109d8d02d5bb74": {
     "views": []
    },
    "22bcc1aaf2f344c2a3d5a1e7a54b8dea": {
     "views": []
    },
    "22be8bbeb5c64103a0489f71ed975520": {
     "views": []
    },
    "234684a01a0a47e8bf5ec31c52400763": {
     "views": []
    },
    "236f841861224dccb452b5c0f7e0f5ae": {
     "views": []
    },
    "23ecbc3cfdf04ac5a1ecc2357391ba73": {
     "views": []
    },
    "243d4fa903b54e64bdde01249218f394": {
     "views": []
    },
    "245b7c5e5d624c24ab6a69847c344473": {
     "views": []
    },
    "24c3bee448654aaa8f7cb4d57f75cb87": {
     "views": []
    },
    "24ebce4338394a479e4d0a78667600e9": {
     "views": []
    },
    "24f2f21e287641d99f5dc481299fe764": {
     "views": []
    },
    "255554d3014047a09363060027556e58": {
     "views": []
    },
    "259ba2f2ecd14924bb1a38bb60e1096b": {
     "views": []
    },
    "25b8b82710e44f9fb812d5e624abce53": {
     "views": []
    },
    "25c05b8f09754dad9e734d7d7b48d566": {
     "views": []
    },
    "25faef9c232a4a38a8f3a4d829c5b33a": {
     "views": []
    },
    "2605e503877d4361a69ec3fa254e642e": {
     "views": []
    },
    "2626ae40843b44e58eb2bcb9ec1496e8": {
     "views": []
    },
    "264ce91891f44a6b95529e4bfd883766": {
     "views": []
    },
    "2659678b061244c8845de65d08d1f246": {
     "views": []
    },
    "26a15d69acd94c7989b0a0f5297a4dde": {
     "views": []
    },
    "2792d121935248c4bb3f1d7e61f2fc0c": {
     "views": []
    },
    "27b84b3c0c7a413fb3380c69e6435d7f": {
     "views": []
    },
    "27e81d76388c4aef97d8be5cf79fe305": {
     "views": []
    },
    "27fe65a5152c4909a08921e5c47b58c4": {
     "views": []
    },
    "2812064ed13d4557a43fe7e11909d00a": {
     "views": []
    },
    "281af96123e6407b916cfb2b0fc7941f": {
     "views": []
    },
    "2985d1c25854443a8db6112282967f02": {
     "views": []
    },
    "29a29c978dba47d8afe2ec2d0327c989": {
     "views": []
    },
    "29a84fe6786146519b10f85d113c1f33": {
     "views": []
    },
    "29ab6f94607d47629cd0ed07e7067a5d": {
     "views": []
    },
    "29f93c55d1254df99f6d5f76f26c2d34": {
     "views": []
    },
    "2a1d65fa54f842fb93e25ec8bd6af3c5": {
     "views": []
    },
    "2a7e83b8bfd648c6ae33c5e58171534f": {
     "views": []
    },
    "2aa31619eb3144278e65f37b814cd0ea": {
     "views": []
    },
    "2aba9cb293a94f259e65b33fdccee6e2": {
     "views": []
    },
    "2af469acf6254389be62e9e4aaecb420": {
     "views": []
    },
    "2b28f4dc78d047199a779c0dbc7e3f1a": {
     "views": []
    },
    "2b503c61d90840b48da30abd9b57efeb": {
     "views": []
    },
    "2b89d60479174dfe8b743ce9f00fee14": {
     "views": []
    },
    "2bad05241065431182cf921301ad332a": {
     "views": []
    },
    "2bba8a26d91c41d6a9062e898b5cbdc7": {
     "views": []
    },
    "2be4cc00295a41e8adb138db0d8a4bda": {
     "views": []
    },
    "2be6f7127f6840778170f4f042804c85": {
     "views": []
    },
    "2bf00cad19734a46a9970360043f8c94": {
     "views": []
    },
    "2cbd302b11164b649a6784cd643bf849": {
     "views": []
    },
    "2cc913ef31bb46fe8e59171213cf0e90": {
     "views": []
    },
    "2cf297d8ed8a41aea304d9891666b373": {
     "views": []
    },
    "2d4d58b3839a4a1ebee221ad62ffb932": {
     "views": []
    },
    "2d665ac895884765960652c4f4189a36": {
     "views": []
    },
    "2d8f06907a6a49058c9bfc1ff1ee6c11": {
     "views": []
    },
    "2d9881a62448471987f0b74d708bbc0e": {
     "views": []
    },
    "2e0bc9a8185146f5afd44d81049f2ae4": {
     "views": []
    },
    "2e586fa614d242f6807f6c320df4b0c2": {
     "views": []
    },
    "2e840b3e86c3458f841a4dd7b2767f5c": {
     "views": []
    },
    "2eeb6606f2464957b232c5939d156332": {
     "views": []
    },
    "2ef1c2cb237d470d8a3b699e9e8229c3": {
     "views": []
    },
    "2f34a0effef34088825d5717eb7490b3": {
     "views": []
    },
    "2f532ea4136a4ade920200291fd2d446": {
     "views": []
    },
    "2fa027871101439a85d62bfce295fde9": {
     "views": []
    },
    "2ff733d273104545988ec59764eb3d2b": {
     "views": []
    },
    "303edc78746544099e5d30e7b3cdb479": {
     "views": []
    },
    "30ae895a700c494d9eb703e4f9742978": {
     "views": []
    },
    "30d327b452ed41ee8a0086f87b178871": {
     "views": []
    },
    "31ada1f23ed04869867a3a89642f563b": {
     "views": []
    },
    "31eba158e37f46cd9e280f7081fa61ab": {
     "views": []
    },
    "32ab0b99776e431c829401211c4f1da4": {
     "views": []
    },
    "33fb0f762fba445eb1cd1f3daf86e0b2": {
     "views": []
    },
    "34163d83a4864954ab1dbf91d07cb3ab": {
     "views": []
    },
    "341d2fd6944d443097bd01adb4d506b7": {
     "views": []
    },
    "34253bfdadd741bb92af2b6b1db71ee0": {
     "views": []
    },
    "34718a0ceab74404b63b5a3d7bc3f65a": {
     "views": []
    },
    "35fa8d932ef944a9ab8500a56f90d30c": {
     "views": []
    },
    "360dc484fac449eca4a63e90640e4e0e": {
     "views": []
    },
    "3693d8671c2b4b42ad3e6839b601eab5": {
     "views": []
    },
    "36aee59ee9c8496d9e920627e37cb616": {
     "views": []
    },
    "370a8166c70d4e2e81651c4aa7d7e868": {
     "views": []
    },
    "370f92709b134c0587f7e7780d6ae94f": {
     "views": []
    },
    "37438289e8ec48879b75705115fd7239": {
     "views": []
    },
    "37686130701c4d8197692cf8abd7bfb3": {
     "views": []
    },
    "37cc22edde334f379b650356fe78d7df": {
     "views": []
    },
    "383e58e1e5c24982907cd8721d3dd526": {
     "views": []
    },
    "3883a08967734e95bfb10a3032dc0900": {
     "views": []
    },
    "38abb630a6934d11a801a98d6c317610": {
     "views": []
    },
    "38de201aec6241489fcc58a6a20dca29": {
     "views": []
    },
    "3973ddba98614eaab501ea01c548cbe4": {
     "views": []
    },
    "398a4401ef4448f89a124efac11ade8d": {
     "views": []
    },
    "398cca8b324d44eda4f35864523d0406": {
     "views": []
    },
    "39d25b3b6b664d5599b90a3f2bc9558a": {
     "views": []
    },
    "39ec458507eb45419c924143b3eb1a16": {
     "views": []
    },
    "3a445ad4f05f4aa990df555ffcce6019": {
     "views": []
    },
    "3a6d578313ad46c7a82f48b110df3aa4": {
     "views": []
    },
    "3aa0e239c83946659bec6a14548150d2": {
     "views": []
    },
    "3af61377fada4414a70cefd98c2b1bcd": {
     "views": []
    },
    "3afbca0199f8413888a0d888abe69ae0": {
     "views": []
    },
    "3b34279a0c9d42e994f668918ed3a02b": {
     "views": []
    },
    "3bafd8e550de49daa4c4e5926a20bbf5": {
     "views": []
    },
    "3bb0f7e7a4a24b7489be0aac70c9d34c": {
     "views": []
    },
    "3c07d72cda844afea1392c12d71d767f": {
     "views": []
    },
    "3c11fb7b6aaf496ead26b443f8cdd040": {
     "views": []
    },
    "3c50d7c1975648a08300f96205de3879": {
     "views": []
    },
    "3c64412b10754971b1b16b70222bb44f": {
     "views": []
    },
    "3c6d83f7e0c44e409b59ebdf09245d30": {
     "views": []
    },
    "3c96638acf0d42b3a7f64497f358ac98": {
     "views": []
    },
    "3dd9b5d3e20548d5a202d04e9bb1123f": {
     "views": []
    },
    "3e284975831f4b2481deb9dc520ea6c8": {
     "views": []
    },
    "3e39e9e8e95746cda9046c7e5599ba74": {
     "views": []
    },
    "3e3cb67801864a59a605e72d93df0433": {
     "views": []
    },
    "3e3f49ca6ba04842a4c82bc464e02710": {
     "views": []
    },
    "3e6fd6d59c7a4da0863fac4e27f2d0c2": {
     "views": []
    },
    "3ecf7ae87b234f3e8f46d7ee67e28e37": {
     "views": []
    },
    "3f03e2e928764a8a90907524554fc79d": {
     "views": []
    },
    "3f4662e0b3f74b158cc9443f7a86b875": {
     "views": []
    },
    "3f61dce36a3b43b8881101d72cd86bbd": {
     "views": []
    },
    "3fc2de26197348f9aaa98f67cec3622b": {
     "views": []
    },
    "4006f9662fe54b818f261776f0258202": {
     "views": []
    },
    "40214fe280f147e9b473ed849adf8db5": {
     "views": []
    },
    "4042871e51ad40299ef72575edfc6bd9": {
     "views": []
    },
    "40cb17e8347b4c7d95798bc1f80685d3": {
     "views": []
    },
    "4132e8b19d5641b08fce4410aeca069e": {
     "views": []
    },
    "41c2098e06c248a38cfed27a0d310987": {
     "views": []
    },
    "41f21c7c4cbf4c809c217eff37d9792c": {
     "views": []
    },
    "4226813feacf46b2887f33433e1f1246": {
     "views": []
    },
    "42f56c9a15094679b947a702ee78b7ff": {
     "views": []
    },
    "438e46ee0549454383d627477c514968": {
     "views": []
    },
    "43912f869ea5459eac7e4670f10d6622": {
     "views": []
    },
    "4401c76e78cb4116b87aec51357e912a": {
     "views": []
    },
    "44320510bd044967b28b2079e6c018b5": {
     "views": []
    },
    "44962406c579464e8db63bbcc223e418": {
     "views": []
    },
    "44b3f3897a7a4b5b903b2c540965b5a7": {
     "views": []
    },
    "44cfd3f09466416e8a658f3d2546c5a5": {
     "views": []
    },
    "451b258f07f74a1aa7e2f94c3f61d03b": {
     "views": []
    },
    "4592c9a1464e4a26aa75392c58684b91": {
     "views": []
    },
    "459867b9da724790a43141ef19ab4e0b": {
     "views": []
    },
    "459abdc35dc74160ab0d72dea41dcef3": {
     "views": []
    },
    "45d8fc45cd114942a001b6e9045682f2": {
     "views": []
    },
    "45da149d6faf4879bf26193a17a7b5c1": {
     "views": []
    },
    "460ee5a0b63d415185b0993196f8702f": {
     "views": []
    },
    "4631a274dc604e0588f9d05a5278b967": {
     "views": []
    },
    "46733489938b4d028146a737e7ce84a5": {
     "views": []
    },
    "46e0c3844fca48de8535aad47a733fb2": {
     "views": []
    },
    "46e8fe998bb240c3b520456d14dc17ce": {
     "views": []
    },
    "46f206ab31c54e78957e2562ce066bad": {
     "views": []
    },
    "46f6e8a516344b7eab0e9b46560f40b6": {
     "views": []
    },
    "4703644920d446509ac5562d2766064d": {
     "views": []
    },
    "4737e6fd843b424ab91be932ff31f37b": {
     "views": []
    },
    "476d7868a6fd4b65a543a99fd66545f0": {
     "views": []
    },
    "47b426d81eb2459e9d0018bf916f1618": {
     "views": []
    },
    "47fdafe34fb54d8f868cfc38fb84e31b": {
     "views": []
    },
    "4825eaa0492d479abe51d4bc2010a33b": {
     "views": []
    },
    "484ffa26f64c47d28a31ad438f91f70c": {
     "views": []
    },
    "4886ec83bd9a40b095cb2de67d6af42c": {
     "views": []
    },
    "4897c16cfef948a19d74dbef8ea3579f": {
     "views": []
    },
    "4900c159a0e644599a30d1d71c91df9b": {
     "views": []
    },
    "490518c21c024d008e9349f9a2115eec": {
     "views": []
    },
    "4905c8f4d86f423db07218927d11efd3": {
     "views": []
    },
    "490cefb9eb8e48199ae07fa41850ba1b": {
     "views": []
    },
    "4913f01c4b0f4d698b0efda8f48f1b23": {
     "views": []
    },
    "4917bff3d6ba4af38312576d7efe40a9": {
     "views": []
    },
    "49354198fc8646918c0765e8bb9ec220": {
     "views": []
    },
    "4953b4fa36914cc29f52bff441cd24e6": {
     "views": []
    },
    "4969ba420cd64e8d89675bd1ea5863de": {
     "views": []
    },
    "4a39ba7dec754da9a84c6171a739dfc2": {
     "views": []
    },
    "4adc8f05dff6472f990c1ed855400507": {
     "views": []
    },
    "4b2f09ef0b8147bbbfbe5bd5615e584b": {
     "views": []
    },
    "4b3647eb2033456398820e7d4737f754": {
     "views": []
    },
    "4bab65f87abb4d6faa7d10db3089b75a": {
     "views": []
    },
    "4bb773de1f1741da8643adc4fe27cd19": {
     "views": []
    },
    "4bd7688ce17945538045c5fdfceefa29": {
     "views": []
    },
    "4bd9f95b1dd1478c85d299cb707bc12d": {
     "views": []
    },
    "4c3fa33e8c374e02906be52906b4409e": {
     "views": []
    },
    "4c82cd6997ce49dfa3bcdfe4d5b9cefb": {
     "views": []
    },
    "4d5f5f98f1994ba4ac139dcbada0f857": {
     "views": []
    },
    "4dddd9c777d84ddd89b285e2845e6151": {
     "views": []
    },
    "4df32987ea37412d988973d49b93b5d2": {
     "views": []
    },
    "4e4651c2738348eb8c878da44eae920d": {
     "views": []
    },
    "4e493b68a0b148dbbaee21b2581ed822": {
     "views": []
    },
    "4e4c11ec427f46138b4f011cef89eb7d": {
     "views": []
    },
    "4e6b1dbcb93547fb885ebdd7c16a4a0b": {
     "views": []
    },
    "4e8bb9eb61a145a2b4361e4247f91725": {
     "views": []
    },
    "4ed2135313ef43d4aa7a1153466c7306": {
     "views": []
    },
    "4ee0b180a85449d69219747e3c698d5b": {
     "views": []
    },
    "4f46e661f70842fcbc08895b9eaef7df": {
     "views": []
    },
    "4f753d2be0b74bdf8c2fafe2458e4957": {
     "views": []
    },
    "4fd56b7af0864af8825312d93b874aab": {
     "views": []
    },
    "50090fdd18b14bac9f133b22b2d32412": {
     "views": []
    },
    "50311a86d68d49b997c44a99deeea3cd": {
     "views": []
    },
    "5050d301d1004e60bb7cd26db62d3eef": {
     "views": []
    },
    "5058216671b840b4b3c093bd41fec0e3": {
     "views": []
    },
    "5066acfa911c40ab82909650f7f1494f": {
     "views": []
    },
    "50c23c6154eb45b2b19a83d4aa7446e5": {
     "views": []
    },
    "50c59680c0be4b35be19934a43c9c965": {
     "views": []
    },
    "50cbb691033c46e899ea430f7aad4323": {
     "views": []
    },
    "51372aaed1ec4bffb122183fee13c4b3": {
     "views": []
    },
    "5161c4b7cf6c43639b9a1363fce94a6f": {
     "views": []
    },
    "51e92edd2461418890bb9e85d49c93eb": {
     "views": []
    },
    "521c18699a984b5ba76d65c8416e1f26": {
     "views": []
    },
    "5252dff0b59746eba2fbfb56dc437fad": {
     "views": []
    },
    "5274e41611b447df96400d87f139a61f": {
     "views": []
    },
    "52d3a072ba1c46249bf484ed6865aeca": {
     "views": []
    },
    "52d5f4e19ca04dd6a668b92103b88fe0": {
     "views": []
    },
    "52f8eb05d68a46679ad385fd06292f2d": {
     "views": []
    },
    "53181fbcb80b4a089df6ecfe9dde7f28": {
     "views": []
    },
    "53c0a1860f4e470d898dad2ca333a88f": {
     "views": []
    },
    "53c86799aa08412b85afda7499e36faa": {
     "views": []
    },
    "53fc4e79769541bcbf1c7cba2ffa5ad6": {
     "views": []
    },
    "5401fc1052404182823a3bb822171c21": {
     "views": []
    },
    "54c5bab3d403475b92a06e844a2a80ae": {
     "views": []
    },
    "54cad52ec7314030b3d8d2db55f05cb0": {
     "views": []
    },
    "55220c489cc94ab497da8f1248bac968": {
     "views": []
    },
    "55fa55aca0da4260895914d3aa59bb15": {
     "views": []
    },
    "56359f4f99aa4f63b435bf17af714a70": {
     "views": []
    },
    "564b3d3ba2604c52857588452e350bb0": {
     "views": []
    },
    "569d5684eb3a4f0195c39d577b3f4509": {
     "views": []
    },
    "56c721b1f5894630840c8ca57922b1b5": {
     "views": []
    },
    "5702e13abc6744bbab64c7f4f26cf1d8": {
     "views": []
    },
    "572e0b65bdbd4f3a98e01440b34a8ec3": {
     "views": []
    },
    "573bd67cf1194ba795dbef45696bfa98": {
     "views": []
    },
    "5757ef15e596468f93c828b5e1af92ef": {
     "views": []
    },
    "575fa40d62dd4a35ac4d405b90e02f8d": {
     "views": []
    },
    "578a585a408548b38e7f12aeee035f1e": {
     "views": []
    },
    "5791e7f57a6e43c192721d3ab3f3f7cd": {
     "views": []
    },
    "57dd9c55b8cc401190cbf9c98c424a4f": {
     "views": []
    },
    "57df029a1f18466ab99740b1b7a1b48e": {
     "views": []
    },
    "580e8d60f9ac4c659eb8f695de0bddc1": {
     "views": []
    },
    "58106ff86dd64a4da69d67fd720386d7": {
     "views": []
    },
    "5829822bca22424fb9a437efa7b3272d": {
     "views": []
    },
    "58380575936a44cf95b9a0517b5059f8": {
     "views": []
    },
    "585b5b56365b4911bcbbe51547ef4ee3": {
     "views": []
    },
    "5863fc8d671c4b079786ad9292a666c7": {
     "views": []
    },
    "58d05cefdac046ccb3c6810ea05169ba": {
     "views": []
    },
    "59b7d1fa06ab4863871e76ccd079f5fe": {
     "views": []
    },
    "59d7029cc34c4e54bf57a2521af91cf1": {
     "views": []
    },
    "5a0d1d03629b44329fc8456a31c8091d": {
     "views": []
    },
    "5a31563c212d4b21931d24a6cedb2c77": {
     "views": []
    },
    "5a522292b2b14274ad962d97f67c625f": {
     "views": []
    },
    "5a78b4ea6eec4f2aad396b3ddb45dcbb": {
     "views": []
    },
    "5abbe5f2484441cf807dc316bc40f8d5": {
     "views": []
    },
    "5ae3243ce3c144b4affa663c4c7078a2": {
     "views": []
    },
    "5af1bcc13b114387bae3cdacf5de1691": {
     "views": []
    },
    "5afb51bb9693487093afb4a0c5a82005": {
     "views": []
    },
    "5b0be2eab31440339a19f55edf04daaa": {
     "views": []
    },
    "5b5611cb253e4f0a87e90b2c63049698": {
     "views": []
    },
    "5b5ee654589e4d35a4f063a0c67bf6cb": {
     "views": []
    },
    "5b6f5c659f964fa6bf21233e52ac5fee": {
     "views": []
    },
    "5bb0a499234140f1912c1fb60056c1df": {
     "views": []
    },
    "5bc00c0f1fc84c6e82e1f308b6a030f8": {
     "views": []
    },
    "5bf3db4e2d6948fa981206575bb0440c": {
     "views": []
    },
    "5c26874095a1429784ff17068e9dcb6f": {
     "views": []
    },
    "5c923212df884eeeab2c16380b2f1af0": {
     "views": []
    },
    "5d266236e1d94d708f1e0d2a72608e0d": {
     "views": []
    },
    "5d30b0b517674d0ea45d7088385df1ef": {
     "views": []
    },
    "5dd14db590134c36ac6c335ea39b561f": {
     "views": []
    },
    "5df31b6787f94a2894c3cdc05b3931c6": {
     "views": []
    },
    "5e031498245444ee9e7bad8f97e33d75": {
     "views": []
    },
    "5e23a848d37440d788ffe78180d1a1db": {
     "views": []
    },
    "5e3d38c2c1f54b3780e39d17020a2a85": {
     "views": []
    },
    "5e54a83b02544a159168d523c8d0b040": {
     "views": []
    },
    "5e596e54a29242f185e76b29227a4c86": {
     "views": []
    },
    "5e9467bc6873494dbc6435f37601691f": {
     "views": []
    },
    "5efe6ad106d24032bfdc42152b9c2369": {
     "views": []
    },
    "5f35fd47fc3443f0b74040301d2ac3a4": {
     "views": []
    },
    "5f426275956247d6b7c2ccd68561a2f4": {
     "views": []
    },
    "5fad6599a81c4f81aaa5db311c66ad08": {
     "views": []
    },
    "5fc50c973b2b45cda5d0c9e1d7118a2d": {
     "views": []
    },
    "602b0ee1781b46d2a693447d5da3e625": {
     "views": []
    },
    "6055fdd8eb9c468fb31867ef32fda5bf": {
     "views": []
    },
    "608b6c6dee2146c39f28d9a396bfaa7a": {
     "views": []
    },
    "60f77683395f4d1cbb77b56acf578bff": {
     "views": []
    },
    "6112f6256cbd4309acec9315cfd42359": {
     "views": []
    },
    "6153ad818649439fb752e07dc9ec78e2": {
     "views": []
    },
    "61553a4518474897b2155f1105227649": {
     "views": []
    },
    "61bba7f9dd73424089c80a2d8bc7058d": {
     "views": []
    },
    "62184abb3f80457898e67c566f14d77c": {
     "views": []
    },
    "62411d2f5c56434a96a8b6f31e3277b3": {
     "views": []
    },
    "6264d456eeeb46d79e861bb09bca0d5e": {
     "views": []
    },
    "62f5fccbb58543a0b82c100b085f257f": {
     "views": []
    },
    "62f6d66db702478bb50212a0cc7c0abf": {
     "views": []
    },
    "634601a58c644c459d02df8a1fd2a416": {
     "views": []
    },
    "63bbb7421a8a4f849f2f9485fd279ee6": {
     "views": []
    },
    "63d679b339104b8aa653a74410ff993c": {
     "views": []
    },
    "63df5dad8f4f437383cfce1db9def93b": {
     "views": []
    },
    "63ecc49c48a742d3b86f0a06195b0fff": {
     "views": []
    },
    "644c74a084f24bf5b1f980ed3013dfec": {
     "views": []
    },
    "64986efaaa5145e286e695f8ac553d32": {
     "views": []
    },
    "64bf53d310864356825caed89b2af657": {
     "views": []
    },
    "64c3ca3ec8804121934172bafad275d1": {
     "views": []
    },
    "6506c529cf03408ab80dc83ef7462b04": {
     "views": []
    },
    "651f86ceba024dfaab723aa82b5e98ee": {
     "views": []
    },
    "6553b00d5bf84d19a285d35036f69f5f": {
     "views": []
    },
    "656521b01cbb42059e463491fdf9a7f5": {
     "views": []
    },
    "65706b4e0334452991095044aaae8158": {
     "views": []
    },
    "6641f4d7c39847699f8860eafdcd334b": {
     "views": []
    },
    "664d9106f7ca4aa48068eb4f31e0cd3a": {
     "views": []
    },
    "6677f225e8fb485dbffed04e5c6ef00a": {
     "views": []
    },
    "670082bb8fc944e5b6daea881f59bb39": {
     "views": []
    },
    "670d0a6bfbe54261bd1a6f60019a069c": {
     "views": []
    },
    "67d276225691466d9068d0a0d5bacea1": {
     "views": []
    },
    "67ec2cf9efaf40448c52a728b49e0c35": {
     "views": []
    },
    "6824d4708f2147b497f3a2d175b0a3b0": {
     "views": []
    },
    "683bd3a31b8f41d597098b7a39c886c6": {
     "views": []
    },
    "684d176360e14d8c8f3ba2de82b261d3": {
     "views": []
    },
    "68bdaf589d1041388ba506ffbda9a7d3": {
     "views": []
    },
    "68dd822d546841c3ac5c6607e9138339": {
     "views": []
    },
    "699f98607e16483eafc766a9f42ef406": {
     "views": []
    },
    "69a34f8720c34186ba853987a0246d3d": {
     "views": []
    },
    "6a3a1d6afc2b4a44bdd44968605396d5": {
     "views": []
    },
    "6b135237929a4695890f411e14b2773b": {
     "views": []
    },
    "6b878c6e1ae44b4e8e5a6ee6d1d95f07": {
     "views": []
    },
    "6bac3c795142414dadf6a79c096af6c5": {
     "views": []
    },
    "6bf32b6e7a304d61b212dba98b95a8d0": {
     "views": []
    },
    "6bf6cdc18a024b94a4b05ce626ae5c4b": {
     "views": []
    },
    "6ccafe1e91c5425f8de7e515205efc55": {
     "views": []
    },
    "6cead9d561444138a6564eb865205457": {
     "views": []
    },
    "6d3c52d66ab54b0caf5e10a9958892e2": {
     "views": []
    },
    "6d57444be15a4daabc5350c552877643": {
     "views": []
    },
    "6e179262cd4646168aaebe900770011a": {
     "views": []
    },
    "6e1e7b550f50466a931ca6fda35b8cc8": {
     "views": []
    },
    "6e4e99fed1184610851c886017a2da81": {
     "views": []
    },
    "6e51ee5a02a24be9b193c33f034208c5": {
     "views": []
    },
    "6e6bc53b1cfd48f3acb1c14a352584d3": {
     "views": []
    },
    "6e6e81d8301e4a43950b60602e7d09da": {
     "views": []
    },
    "6ffcfea26d6d407697a25f54c8a1d858": {
     "views": []
    },
    "7062729d592c48439b26f4f31c90f0f0": {
     "views": []
    },
    "70980cbea43348148c5e0e3a383d7381": {
     "views": []
    },
    "70af469a89ce401f9953a8139e38afca": {
     "views": []
    },
    "70b21dd85beb4f26877bd6e34c4ad813": {
     "views": []
    },
    "71795862629f4720abfffcaa9db6176f": {
     "views": []
    },
    "718fd453bce3473da567af8031475156": {
     "views": []
    },
    "71919bc94f7e4b38bd097ea2f10a207d": {
     "views": []
    },
    "71cf7f12d9514562a6d521b52fd535bc": {
     "views": []
    },
    "7299ca00d8da4d09918c9ee58e3f7eda": {
     "views": []
    },
    "72ccbab33a1b48c09821c28f19e5e8a0": {
     "views": []
    },
    "72cfd15aa16644cc9b141213d2dffd8d": {
     "views": []
    },
    "73547d82ba5f4f749f2e0863c3d75306": {
     "views": []
    },
    "73a63545d25b472184546e4cccbe0094": {
     "views": []
    },
    "73db1b5ac34e4a92bcf55b59ce6091e6": {
     "views": []
    },
    "74e4491c9a6e460eba02b8aac0c30465": {
     "views": []
    },
    "751e3918130749b594dc79880984250a": {
     "views": []
    },
    "753b969e620047dca4b1f745f1614889": {
     "views": []
    },
    "75c019790d2b4a3f9f1770c5f3a71797": {
     "views": []
    },
    "75d46497a7d14659a4b9c12c337aa0aa": {
     "views": []
    },
    "75d4c43a3168406286fed751c3b13a47": {
     "views": []
    },
    "75f113af199b439ca5c1b12e926a69fe": {
     "views": []
    },
    "7632175854564cac8ece5e6098228798": {
     "views": []
    },
    "76657a3f3cd34c9fb1b2bb872ba2801a": {
     "views": []
    },
    "77333c564ac448dcbd11a50dba303f71": {
     "views": []
    },
    "778346cdffc741ce8cb1dab6d3aeef1e": {
     "views": []
    },
    "778ddd39cde141adb6dfb4ca6989e0d3": {
     "views": []
    },
    "77cd73b244004bc4a68812faa161def5": {
     "views": []
    },
    "781c6917d67e42e5bedde9d0f63bc171": {
     "views": []
    },
    "782138ed61024c83a8447d26fca80bf5": {
     "views": []
    },
    "78aea07192ec4db6abee762148bc8203": {
     "views": []
    },
    "78b2dcc50cf845c2acf5b3c9ff33e37b": {
     "views": []
    },
    "78d03c4854a94e28a6d3df6326ae3fc9": {
     "views": []
    },
    "79893cd19f79444b86d0ebeb2d548764": {
     "views": []
    },
    "798e8acabd54416c930277701f025f8a": {
     "views": [
      {
       "cell_index": 3
      }
     ]
    },
    "79a0c794514246d8bdd4179bd238c15d": {
     "views": []
    },
    "79a849883f2a466f82bfd5d83175c468": {
     "views": []
    },
    "7a1c3298c0d240319f107fd0e8720e98": {
     "views": []
    },
    "7ab4f5ec03314065a27a1f0a827f7f2a": {
     "views": []
    },
    "7ada80b0378448b4b3fa965777eb71c2": {
     "views": []
    },
    "7ade02069d454963a15307e9decfa63e": {
     "views": []
    },
    "7b0b97a72fe84c3e875ef25e6a3e3a06": {
     "views": []
    },
    "7b0e35d3b70e4251a0349b3572a934d2": {
     "views": []
    },
    "7b41386509b040729b1386ee2d35cd4b": {
     "views": []
    },
    "7b60fad1686b4b49977661c02b594140": {
     "views": []
    },
    "7b6ca8a3ba174dc3b43c268aa6f6dc74": {
     "views": []
    },
    "7b8b612108f8441aa3eaa3084b1c3542": {
     "views": []
    },
    "7b964f401257493a820bb14211ff4f96": {
     "views": []
    },
    "7b981aca6f9f4fb9b20041a6a5d82857": {
     "views": []
    },
    "7ba9e9feb2e042928300c1ffd405b03e": {
     "views": []
    },
    "7c0d30f6fa0746debbcea5375c0a419e": {
     "views": []
    },
    "7c9812320c6a4d8391ac95c7f628478e": {
     "views": []
    },
    "7ccf087aab0b468ea50d522b64c6a244": {
     "views": []
    },
    "7cf715ad5e3843cfbedce8f0d4ec8c2e": {
     "views": []
    },
    "7d0d3f4bb44c46f69ed170d233ab79bb": {
     "views": []
    },
    "7d19ee94c7824679954c26e87f6d32eb": {
     "views": []
    },
    "7d517663f3e44637ac19cf3109c60d04": {
     "views": []
    },
    "7d833f67e73645aa90721d8e308f1c32": {
     "views": []
    },
    "7dcc2c3bfa904918b5bbc2bf589bb09e": {
     "views": []
    },
    "7e7e94e4497449888df3c5554af35ec2": {
     "views": []
    },
    "7eea1c2e934849fdbcb67b9452740b0b": {
     "views": []
    },
    "7ef3db9686fa4e80908976967db6f055": {
     "views": []
    },
    "7f61f9e55bb54422a411c5bcc253f4be": {
     "views": []
    },
    "7f97d4fc141e41b2ac5973b79f520975": {
     "views": []
    },
    "7fcb1764006a4ac19c0709a629cb66ae": {
     "views": []
    },
    "7fd5c83daabe4f66b662950503a0fded": {
     "views": []
    },
    "7fe4c4c379a14793ba761f207d891869": {
     "views": []
    },
    "7ff6999e7f434007af9df605cc5f10cb": {
     "views": []
    },
    "80df799be6814b4881aac0c9da44fcc2": {
     "views": []
    },
    "81c22d30f2544eb9b32ad5af9f838037": {
     "views": []
    },
    "81f6c861cec14722bb9563269103ce27": {
     "views": []
    },
    "823d014fc2064c55a2c1a9823a25f3cb": {
     "views": []
    },
    "82726446c74546948461d119e46a6859": {
     "views": []
    },
    "829b7cf1344a4a229078bfdf38d9bde5": {
     "views": []
    },
    "82ee5dc3ea704cdd92d74c579a2c3b3c": {
     "views": []
    },
    "830f8aadae3943cdae1e5e1f61e33bee": {
     "views": []
    },
    "832ae0d9d77f44ebafc60cbc41a950bb": {
     "views": []
    },
    "838abd802c9a465f8655dfff67d7c61f": {
     "views": []
    },
    "83991485d0a24ba9aeec601ef5829ed1": {
     "views": []
    },
    "83b43f7577e84302a79ad4041492be97": {
     "views": []
    },
    "83cd6c12ba344db28d1568ce1948ba06": {
     "views": []
    },
    "83d4bdd2ade04b78904b4ebd549e115d": {
     "views": []
    },
    "83d64103ddfa46e99b0337f027acd54a": {
     "views": []
    },
    "83dca358e00940a19dac932d680b46a3": {
     "views": []
    },
    "841e192437a846968e65688f3ca0d729": {
     "views": []
    },
    "8440fcf855c74a159c5d76b7d38bde80": {
     "views": []
    },
    "84491b5738d847b19c065c4be67ea9ba": {
     "views": []
    },
    "84562103f67d4d78a3bdc65582bff65d": {
     "views": []
    },
    "845fea660a4340b8a530e76f40f4cd0b": {
     "views": []
    },
    "85292d53fcdc459084a34d9c629b0890": {
     "views": []
    },
    "8569b8d4e9eb42b4b97c2a7e967b9b42": {
     "views": []
    },
    "857aa421b7524974b37c93cdb7d6a34c": {
     "views": []
    },
    "86a68c1ddfd34b82828e829aa092553d": {
     "views": []
    },
    "86a9692aee3e4c459dd1de2a44ed2471": {
     "views": []
    },
    "86b1dc90e81141018dde3fdf506d5711": {
     "views": []
    },
    "86d7ec40acb642418e4c7e4334156835": {
     "views": []
    },
    "8756f410167446c480f77ff280c65284": {
     "views": []
    },
    "87a9e73d7e0646259a30238826d0d0e6": {
     "views": []
    },
    "87ca870bf4fe4a6abcf73ce7d4f52470": {
     "views": []
    },
    "87cd8b6332664096837f7e61f03242cd": {
     "views": []
    },
    "880b5e138da24864adb27e57eee1820f": {
     "views": []
    },
    "88116272e9d049f29c4f7567f02ab8ea": {
     "views": []
    },
    "881bcf159b8440fd9ae6c26182055550": {
     "views": []
    },
    "8843f8d8e02a48a2a0375a024eb51ad7": {
     "views": []
    },
    "885f9d8513324f4ca2d3e827da55c649": {
     "views": []
    },
    "88754a8506e34af7aeb7cad128c27bce": {
     "views": []
    },
    "888d4953539c49cb85e3911b14d7d325": {
     "views": []
    },
    "88ade1f29d8446e89b8f491bb77e705e": {
     "views": []
    },
    "88ca14bafa944a669eb0d436a5b7a8b6": {
     "views": []
    },
    "89342fd671e241a4adeeded347ae4d9c": {
     "views": []
    },
    "895cf3a525a14a97bc9a82cb6e17337c": {
     "views": []
    },
    "89961cf1cc7548dfa1df592d9492a686": {
     "views": []
    },
    "89cc49da43e34ed1b6240020c5f357d1": {
     "views": []
    },
    "89cf490eff9440fe8642a21e14c18cdd": {
     "views": []
    },
    "89fe009b744a4b5198f38c00468449cd": {
     "views": []
    },
    "8a6111cabcb94dd4b9f7a03858bdbb37": {
     "views": []
    },
    "8ae0a7e899f84a13a3a6d0677612b96a": {
     "views": []
    },
    "8b3ffb864b744944a9128dfaed977afe": {
     "views": []
    },
    "8b6ffb83691047e9b7d84094dece6a06": {
     "views": []
    },
    "8b996c64adf84214b48f553945f295dd": {
     "views": []
    },
    "8bb2d373b7ee40fa8088e41068e6d536": {
     "views": []
    },
    "8bb4613afe614c0e8c9e23abef3f503b": {
     "views": []
    },
    "8bb560cc64764c64830e90590e88a1f0": {
     "views": []
    },
    "8bbfb785f6b34705a2d7166b2ba95317": {
     "views": []
    },
    "8be726d6d5b646a7b611ed8585450903": {
     "views": []
    },
    "8beb9fecefa64a1f8e6858e70b65e038": {
     "views": []
    },
    "8c166b7d3f474c8e9a46951da1f87a2e": {
     "views": []
    },
    "8c2051741b2c406b8ea790000ebd1494": {
     "views": []
    },
    "8c5869502fa5413798e0cc49683c6680": {
     "views": []
    },
    "8c7b2b27e22a4f688feb07e0ef831294": {
     "views": []
    },
    "8d0acfe8fdc54768babbbf375e8be239": {
     "views": []
    },
    "8d7cfa2029e04148914cba1a346c4965": {
     "views": []
    },
    "8da85146f48144b28b1cab19ee26aa30": {
     "views": []
    },
    "8da891912e5b4f60ae1c79320bec94ad": {
     "views": []
    },
    "8dae91059fd44c3886b04f0ac412ce96": {
     "views": []
    },
    "8e36f4c031da486e83d2033d7096fcfb": {
     "views": []
    },
    "8e6bb6fd35254564ab2d94fff2603aec": {
     "views": []
    },
    "8ea9a94618744d03858b365f43664f1b": {
     "views": []
    },
    "8ebb38db59074abab73842794b4e52e0": {
     "views": []
    },
    "8ee5f5f0268b4de4add79b8b25f874e2": {
     "views": []
    },
    "8ef77c21429449ceb6189dc305c9fedd": {
     "views": []
    },
    "8f48dac94e3943038bf2a95678d6dbee": {
     "views": []
    },
    "8f76377617e04c8492c86c2caa787c25": {
     "views": []
    },
    "8fd20ebcf590434ab812dd8fee03047f": {
     "views": []
    },
    "901f69789e8b48f2aa53cef1a9dec120": {
     "views": []
    },
    "904ef24cf36d4a12852d82bfbe70a330": {
     "views": []
    },
    "904efc191099452a85cdd1486040a8d4": {
     "views": []
    },
    "90579a85d49b4b2fb0489cf86e90ca01": {
     "views": []
    },
    "906e8d41203044e1b5b23227d3d2f3a6": {
     "views": []
    },
    "90b2c8423f1a4fd1a7f0be1bcade234e": {
     "views": []
    },
    "90b7233a25b94276975fe032c4f831be": {
     "views": []
    },
    "9118edde930045109dfbafdc66de0e52": {
     "views": []
    },
    "911c2f731240460d95bc0544d624be69": {
     "views": []
    },
    "919d2383735d421c8dd8e4f2ef94a40d": {
     "views": []
    },
    "9225e06f296b450fa93f8590ba10ab85": {
     "views": []
    },
    "92e07bbba0e84388bfa062bd134791cc": {
     "views": []
    },
    "92ed01dcd9af40b5b62a03c04370da0b": {
     "views": []
    },
    "92fd0ec30ea1420d952f69da2111fa51": {
     "views": []
    },
    "93244f0eb3fa44b781e8c1c174c48c1a": {
     "views": []
    },
    "93b5823a15504ac6aa8873ae48ca5d2a": {
     "views": []
    },
    "93d98559ed1b4109b57ee4c5fe20c812": {
     "views": []
    },
    "941a58442bdf4d7ebfdb0065682ee5ad": {
     "views": []
    },
    "949942fe36954059bf397a3dd5d941b9": {
     "views": []
    },
    "949ba2a1c42743a5abc5db6d9cda65db": {
     "views": []
    },
    "94ed84882aa74505811dd619b2497602": {
     "views": []
    },
    "953ba53e77e340d9be82d9b34b1a7461": {
     "views": []
    },
    "95d7af5af57341da93f1d498eacb1302": {
     "views": []
    },
    "95ec71a62288481f90be1d35d0b0c7cf": {
     "views": []
    },
    "95f89bf6004342ffaa76ce5376d78416": {
     "views": []
    },
    "963074f5a8c5475499c3eee7202655e3": {
     "views": []
    },
    "9669c97b01294a8abf821a0f3c117684": {
     "views": []
    },
    "968d410b7deb439699059733d4cf6e2e": {
     "views": []
    },
    "96cd337e17c84ca9a98b7b09961cdb50": {
     "views": []
    },
    "96d3805f045d428bb5bc22d561d53510": {
     "views": []
    },
    "96dc2397e7684bcb812ebf5ddc9272a0": {
     "views": []
    },
    "9702b8d259d94aa8a3e814b6c934cd27": {
     "views": []
    },
    "971eafde86b44b9fa8a04d01f153f4d0": {
     "views": []
    },
    "97539bdc1f004318b42a2553f9fd590a": {
     "views": []
    },
    "9762a67b77f34bfdba96c6e546b0b0d0": {
     "views": []
    },
    "978f0bb498d74d97b73eeeb05b91b533": {
     "views": []
    },
    "9793f54c886b4a618cc043ff30c30f0c": {
     "views": []
    },
    "97a28903176e4969a1ec737ede655b63": {
     "views": []
    },
    "97f78e660e2e40049222d7246cc0d07e": {
     "views": []
    },
    "97f869a1896b426c8bb08becdb964def": {
     "views": []
    },
    "982a63fd906a4139942ddbbd28bf09c3": {
     "views": []
    },
    "984a1af79e1e4df2b426207ae4e3979f": {
     "views": []
    },
    "985554f06da0404fa73a505aa068922f": {
     "views": []
    },
    "98630b163be4491c84573b6c411744f4": {
     "views": []
    },
    "98ad9905aa2e4e538c90683c08903874": {
     "views": []
    },
    "98e618a3f7814d4bab4b39fc8f723aa9": {
     "views": []
    },
    "98e8d0b9e84c42b2bf84344f71f28957": {
     "views": []
    },
    "992f789de5744a7c8eb69e21aba9a97b": {
     "views": []
    },
    "993be38fecc74377b7782a129551ed0f": {
     "views": []
    },
    "997e101bb98a4a0798f35f1328205b78": {
     "views": []
    },
    "99bd5e24677a468cb2602732001c8fac": {
     "views": []
    },
    "99dc7c1ffeb54507a8d2cceb06c26b57": {
     "views": []
    },
    "99e91c87d26e43de951548aa81f96996": {
     "views": []
    },
    "9a02c8181663415984dc6dbcaa372bad": {
     "views": []
    },
    "9a3278b4efe94e04b1348fb9be8ff45e": {
     "views": []
    },
    "9a3640ad2cce4eaca321d034c648fc3e": {
     "views": []
    },
    "9a3e0de0b0d94bf2a81ce9066376479e": {
     "views": []
    },
    "9a4664c1ed8948428b931da707f2cc59": {
     "views": []
    },
    "9a563e6989bb43fa8d568fde264106b1": {
     "views": []
    },
    "9a62746875894e22bbae98142d8f5b8b": {
     "views": []
    },
    "9a7835f4a4fd4a16aa90a5ddd5c6d2bd": {
     "views": []
    },
    "9aae502ea88a433f82e78c9468118f6d": {
     "views": []
    },
    "9ab6a7fe611e49369ff2edaaf9f097af": {
     "views": []
    },
    "9ad0ebc2f0484931b4b9952975ce60b4": {
     "views": []
    },
    "9ba4a3e3df61479891f2ca9e36a614e6": {
     "views": []
    },
    "9beef666bee04e2e8b4bb2bed4fc678a": {
     "views": []
    },
    "9c0476890c64461c81428e71ec5f8106": {
     "views": []
    },
    "9c3b33812633433ea37ac6731ba7ca91": {
     "views": []
    },
    "9c887393dcde412d8e80059ae4a41a25": {
     "views": []
    },
    "9cbdb1322d0f4dafa05da8bdc2a7337e": {
     "views": []
    },
    "9cfddd94707e4e49a9543b0d92564ece": {
     "views": []
    },
    "9d8aaf9783a04593961da678e1719cec": {
     "views": []
    },
    "9df99b0777694538bc503471c0027917": {
     "views": []
    },
    "9e2fa6fd5cd340e6b6ab06c26bfe4fdc": {
     "views": []
    },
    "9ec71b7318b04293a618f2a783504d07": {
     "views": []
    },
    "9ed33336844340fe8905b1bab0dcc657": {
     "views": []
    },
    "9ed56b30ab0f4ef689c8cf3de80df5c4": {
     "views": []
    },
    "9efe7e3e70a84a0287ea05a203e83697": {
     "views": []
    },
    "9f4db1ebd18544559b20f706f3b7f2aa": {
     "views": []
    },
    "9f5c456076dc4bce95985b2359885987": {
     "views": []
    },
    "a00bc4ee9b4147b9bb79589f17aa79a0": {
     "views": []
    },
    "a02222ccda2c4a9a9aed2f3d56f27a95": {
     "views": []
    },
    "a04aa91f08b84c06b00d6a6a1927fbac": {
     "views": []
    },
    "a072b5dac7de493a9239ab712f81f639": {
     "views": []
    },
    "a0a1cd12c8534258a31d3094cbdd6056": {
     "views": []
    },
    "a2c9591f1b264f7895f5d21dccfae764": {
     "views": []
    },
    "a301b884b5914194a74dfe2ee6d720f5": {
     "views": []
    },
    "a30833ff76cd4c228ffeee3cef2c59f1": {
     "views": []
    },
    "a3243d2e6e894726b0d1151469dec6b5": {
     "views": []
    },
    "a34b267c1e5b4de2aa1dbf2debf20ad4": {
     "views": []
    },
    "a35609faf2da428e869086b67eea5a91": {
     "views": []
    },
    "a3c559d1b8394aa183adf5cba4ab9b85": {
     "views": []
    },
    "a3f40b3bbdc6418e98ea439e56c8665a": {
     "views": []
    },
    "a4771747afeb4f799fd1405b72c2ae4c": {
     "views": []
    },
    "a49b899db15b49bca203bbfe07eaebd3": {
     "views": []
    },
    "a4a319b68feb428ab4a442524cb3a40d": {
     "views": []
    },
    "a4c72a6d486e4c42acf9cc692312da40": {
     "views": []
    },
    "a4f89b3e9b914b86a957ec412d473914": {
     "views": []
    },
    "a52468d2eaf1401ebf4fe8e331ddcc0c": {
     "views": []
    },
    "a5b8808e16f94beabbe8fde783fc5da3": {
     "views": []
    },
    "a5ce52c80e5e4d5f8a80b469cbf522ac": {
     "views": []
    },
    "a5e3662ae16e419a8dc609c4802528f2": {
     "views": []
    },
    "a6c6d14f21334ae2abccd96fdca2b5bd": {
     "views": []
    },
    "a6e2afa98c77430dad25dde36164a14b": {
     "views": []
    },
    "a72d83069b5747ec8c78f8c40ae1bfb1": {
     "views": []
    },
    "a75b0a247b7c40bbb4229373569cf8c9": {
     "views": []
    },
    "a78361dceb1449f7ada869ac2b2204ff": {
     "views": []
    },
    "a8357b1acbd3487d8ecb407e17021026": {
     "views": []
    },
    "a853e3a47dac4913b076ce4344720099": {
     "views": []
    },
    "a90f209dfc454423a48e261f727a05a4": {
     "views": []
    },
    "a955a0b74a654bf980a4d23e47a767a8": {
     "views": []
    },
    "a9f846dc7a3643989c0f7388fbfec8b0": {
     "views": []
    },
    "aa1d16082b264054b9b0be996097dae6": {
     "views": []
    },
    "aa2ce4c4cb9941508e37108b67997e2f": {
     "views": []
    },
    "aa49094a196a4ca58c399321ec074a8c": {
     "views": []
    },
    "aacdfadad5c74715bbff6466e70911f4": {
     "views": []
    },
    "aad3ca54099e4a74a7b55dec921d713e": {
     "views": []
    },
    "aaeef49aad9c427db8b18198c7a77a48": {
     "views": []
    },
    "ab544dc3b12a49fb89135329f47b2234": {
     "views": []
    },
    "ab5bd301618747118668a02edf5a00cc": {
     "views": []
    },
    "ab85d476e6c446a185ee636c7d7cf719": {
     "views": []
    },
    "abc63e4c32ed49e18d555deabfac7511": {
     "views": []
    },
    "abd08ceb5c6a47f38a82c10a0f871e08": {
     "views": []
    },
    "abf1b5173a0543de8c289c53a816feb7": {
     "views": []
    },
    "ac45878255064f3cb052cd914ae37a6e": {
     "views": []
    },
    "ac486bcc53004b559fb05eba701c4187": {
     "views": []
    },
    "ac86e6b2a840422e8d86a9082d397860": {
     "views": []
    },
    "aca3e90ed62d4590a601b622c1d388cc": {
     "views": []
    },
    "acb87a4b459d46a2bf88580786581833": {
     "views": []
    },
    "acda6c7d538f4f5d9c142ef4cb629e19": {
     "views": []
    },
    "ad2d4a3d0b674b7fbecb5c16eed20fd6": {
     "views": []
    },
    "ad3033dde33c468691883253b4d0c392": {
     "views": []
    },
    "ae3b6f874665453db67f57acf609cb17": {
     "views": []
    },
    "ae5ee86b4994484385b03f072d469d51": {
     "views": []
    },
    "aea1168fb00144639e6c1c856577839d": {
     "views": []
    },
    "aeb57403ea87455eaa5f8ef782d4b47a": {
     "views": []
    },
    "af774a58f1ea48939552a2a7ef880018": {
     "views": []
    },
    "af7ad74179194e75b4ea7c98f34935f0": {
     "views": []
    },
    "afe57f4d6bc64b4b83398e9c5ba7a1a0": {
     "views": []
    },
    "b0b57e0d0ca64ab2bbf4f710cdbdc435": {
     "views": []
    },
    "b14cef25d9ef42bfaa95d1ccd2d51e17": {
     "views": []
    },
    "b28b50432e834241ac38cbcb05dda652": {
     "views": []
    },
    "b37794743dbf42ebb62cdbd132e00d87": {
     "views": []
    },
    "b3bdf293e5ab4c35859a2424bd37296b": {
     "views": []
    },
    "b48e44cc98424a75a88f7787fed00342": {
     "views": []
    },
    "b4ac425fb7af434a9f1292f09b32818f": {
     "views": []
    },
    "b5753a17df8e4855867a850b31349c3a": {
     "views": []
    },
    "b5e95d3b963f485bb614fa49673f1776": {
     "views": []
    },
    "b606be536e534ed68565f9a1a59dc45c": {
     "views": []
    },
    "b610f23d843e4531b624cdc83b2ec26d": {
     "views": []
    },
    "b65e200c780845069d13edc2b9dd8fbc": {
     "views": []
    },
    "b6663c17ea09486282308cbd3afdf213": {
     "views": []
    },
    "b67e753f909c44d789fa715b55a1922c": {
     "views": []
    },
    "b67ef2c347bb457fa4ccad0596fde0f8": {
     "views": []
    },
    "b6929c322dc4497c8129f0c01ebe1f64": {
     "views": []
    },
    "b723188da5c74bd9a0649aba693be6bc": {
     "views": []
    },
    "b72ffcb7e4c3401d80d8e507ca28903a": {
     "views": []
    },
    "b8790734a14a4f838c533c2056ff2bf8": {
     "views": []
    },
    "b888b6b5033a4f1f931745a36df6588a": {
     "views": []
    },
    "b8c80c750f03475bb38fc3155f7350a5": {
     "views": []
    },
    "b8ded6e553b747b1a68bcc5eea28e2fe": {
     "views": []
    },
    "b8fb74ed73544ed08a63ab4d521a0032": {
     "views": []
    },
    "b901a2f09e524e599cbf91a5ad53bef0": {
     "views": []
    },
    "b913655330f44ce5a49d83a7358516ee": {
     "views": []
    },
    "b914fbc57f0246459126032ab3534bec": {
     "views": []
    },
    "b95085e654f44907b8a1a8f36823194d": {
     "views": []
    },
    "b97725c7df77496cb5f28c6745ebc370": {
     "views": []
    },
    "b9aa4cd4745c4987821d380546e86bde": {
     "views": []
    },
    "b9b49d966c234d5594affc06274471ac": {
     "views": []
    },
    "b9dc893196fe4ddd929b6c858864c934": {
     "views": []
    },
    "ba213835ffe343069a1bf5ca09cdef6a": {
     "views": []
    },
    "ba3e620dcf22493d8e3216c83e6a10d3": {
     "views": []
    },
    "ba4fcb2310624893b6ae124fe315654e": {
     "views": []
    },
    "ba82d07674a741189c1e89011b391df6": {
     "views": []
    },
    "ba8593aad8ea4b088d82b4d1195395c7": {
     "views": []
    },
    "baf3b3ce1421481e936eef8ebfbd40c4": {
     "views": []
    },
    "bb29581284b44ad8beb848c17f1cc45a": {
     "views": []
    },
    "bb7d6a587f5d4e1fb106a858f0804e50": {
     "views": []
    },
    "bb810791e708483dade8257a847f0437": {
     "views": []
    },
    "bbb1c54a0f1b4503be260ad9ab594ddf": {
     "views": []
    },
    "bc46b56712c9461fbf29baac8e57e985": {
     "views": []
    },
    "bc8a04be64094a7698cd30b79ec49758": {
     "views": []
    },
    "bcc466e3b6dc40dc95876a7fb62e27dd": {
     "views": []
    },
    "bd277cfee5e047ceb8d5383aa0ed5571": {
     "views": []
    },
    "bdf0f40324d743d69b1384f4e540ae40": {
     "views": []
    },
    "bdfedbd387e1442eb862976532e37b92": {
     "views": []
    },
    "be4149c32ddb4726bfba4809a0a38bc8": {
     "views": []
    },
    "be947b3a6a5d4699a054ac96477b5f15": {
     "views": []
    },
    "beab5ae30c9c4291bbe3392ca42371c2": {
     "views": []
    },
    "beb5b9d05649475a8bf76ea8f7f0d18e": {
     "views": []
    },
    "bf23db1997974e5397cd6e83a80345bf": {
     "views": []
    },
    "bf527f82163a4ad58e0526484be15368": {
     "views": []
    },
    "bfd1b5fff27c41f5acb3a467cee04658": {
     "views": []
    },
    "c037b20b31424bb2af942c6bbb80d522": {
     "views": []
    },
    "c07cef39b9374a71870bfe63ac2ea484": {
     "views": []
    },
    "c095bd0116b747f19bd727443a5995d4": {
     "views": []
    },
    "c1401614702a48d8b5ec84edec0ba90c": {
     "views": []
    },
    "c199d3786c6545b6a97c7ca020267961": {
     "views": []
    },
    "c1ad0dcb248a4ee1ad896a3134803a6c": {
     "views": []
    },
    "c1ca069b75c04fbe95313bff9c7b08f4": {
     "views": []
    },
    "c1e5be62fe284f8c8cd7bbbc56ac34dd": {
     "views": []
    },
    "c282129a11b145faaaa82b7035e5d4ad": {
     "views": []
    },
    "c32c5889e3db4b1485decb328421a5c3": {
     "views": []
    },
    "c375e31f0db246f6b9f8366761ebc202": {
     "views": []
    },
    "c3776f9c85b548f796c77f741b8106ee": {
     "views": []
    },
    "c388282866ac417781c2df456d6575c0": {
     "views": []
    },
    "c3a3c04790924d259135b9cb076f4457": {
     "views": []
    },
    "c41ce6cacae545648b1e990e55451401": {
     "views": []
    },
    "c43fd6fc627d4164a019c1cc3b54ce25": {
     "views": []
    },
    "c49f31e62e0d4a3f8bb7a4a250872c4f": {
     "views": []
    },
    "c4f999b4b6b042c08faa969f6519ead4": {
     "views": []
    },
    "c505794619614e539406212b1bf6e05a": {
     "views": []
    },
    "c54de4d82d4c47ae901890e23f38430d": {
     "views": []
    },
    "c5735688ac4a446c81903669b8c2332b": {
     "views": []
    },
    "c594900f821f499fb534c9b7e021da7d": {
     "views": []
    },
    "c5bd189eb795435f9360ea07de7f0e0d": {
     "views": []
    },
    "c5e44abfce0947c3a3dc42867acb8257": {
     "views": []
    },
    "c5fa9c012fe244869eb7d55730757f5e": {
     "views": []
    },
    "c65576a9bed14b17a3afffa1277aa6d7": {
     "views": []
    },
    "c6bbf2da7df34891ae4470dde9bc3fbf": {
     "views": []
    },
    "c6c9ac5cff2d4662b2d058954193c3f3": {
     "views": []
    },
    "c7018737346545bbb953063357a99fbf": {
     "views": []
    },
    "c71471462a8b4fb9811e1a026adaacc6": {
     "views": []
    },
    "c72a90801000406faf7c17a4a41d19de": {
     "views": []
    },
    "c7ba4f87b028462f86e5e6b39f095a28": {
     "views": []
    },
    "c7bc96d009044683bcaa677ee5a6eb4a": {
     "views": []
    },
    "c7ee572131ec405aba2131abc5ca3d8c": {
     "views": []
    },
    "c8361dceffe4419784a868732973887e": {
     "views": []
    },
    "c8578478f63f4fb392ebb74978dc8c90": {
     "views": []
    },
    "c8986e6ae36244dfa439510445fb1894": {
     "views": []
    },
    "c8bb1005a9ec4a249ae7715124736d5e": {
     "views": []
    },
    "c8da11a85e984816ad39201cc131e853": {
     "views": []
    },
    "c98179875f6a4037a4cbf1b6f9a7e4db": {
     "views": []
    },
    "c9891bfe740f4d229ef59038f12fa360": {
     "views": []
    },
    "c9a4fd844fad457d9a57c93471be7a0d": {
     "views": []
    },
    "c9a55fd6647649a5a419e1fd38d64b92": {
     "views": []
    },
    "c9baf694ab384d14b1af4d967a3077b9": {
     "views": []
    },
    "c9d43deaef764c36af5729cba4c5ebcc": {
     "views": []
    },
    "ca3e5e5535ea417f8eceeda231fbcd14": {
     "views": []
    },
    "ca8dc93885914a58b2d9d544e598ec24": {
     "views": []
    },
    "cad22a745f5f4f6893ee28266f263ba1": {
     "views": []
    },
    "cb1a1acbbfaa4de2a70032349f9ad9df": {
     "views": []
    },
    "cb3ecdbee9c648ecae3c6f7796e24739": {
     "views": []
    },
    "cb42a1f8fd5b47af8de12d12b3b0f7a3": {
     "views": []
    },
    "cbb076777eac4c30adc4e10b94f13f3c": {
     "views": []
    },
    "cbb71c348e984f3aa541c4808c9fd6c1": {
     "views": []
    },
    "cbdb96b548bc4f7a838c1ee3c548324a": {
     "views": []
    },
    "cc056c4bc75f4719b0490fe519ae063a": {
     "views": []
    },
    "cc1be553fcbc4ad89685f247b3c79eb8": {
     "views": []
    },
    "cc3c09bf3d7c4ceba027d591c4d679f0": {
     "views": []
    },
    "cc54403a9df54a7b90b337e8ff49efdb": {
     "views": []
    },
    "cc5c0c1a5f3544bdb183438e9e61d5cf": {
     "views": []
    },
    "ccc6a769b3f24765a9b2bac5990fb4fb": {
     "views": []
    },
    "cce27deebef44f3aadcada071b77269f": {
     "views": []
    },
    "cd06a3eae7bc43339e98ca31229663ce": {
     "views": []
    },
    "cdc29261186a4cf6bb2a091c814608e7": {
     "views": []
    },
    "ce61d8a260884be9839a1dac6d5300ff": {
     "views": []
    },
    "ce9c4182b9b543b8907fe20bf8e9459a": {
     "views": []
    },
    "ceb1215de14646fbba7bb5f97fbd1ede": {
     "views": []
    },
    "cf12bdf5669a4aa9912a81ba503cea18": {
     "views": []
    },
    "cf1ab164a5c54395a7ff2bdd1f00988f": {
     "views": []
    },
    "cf1c286e59e4470b8063c9a6023b846a": {
     "views": []
    },
    "cf43cc666b944d2ebd7d2893e14b9c73": {
     "views": []
    },
    "cf55adb142e84aa7b8e05aa8b872f568": {
     "views": []
    },
    "cf9a04efb6f04422bfb222b999f3c056": {
     "views": []
    },
    "cfa82ec07b5441059622c979bf7927bd": {
     "views": []
    },
    "cfc64789405b4546b8675903841c4acd": {
     "views": []
    },
    "cfdbe5c318734e98b177177279f93009": {
     "views": []
    },
    "cfe54530725342cba84cdf2a80676faf": {
     "views": []
    },
    "cff1f7bdd9b14926aa5b72a5c898e11f": {
     "views": []
    },
    "d01bf82c36b44334a6a35ca214e50cd7": {
     "views": []
    },
    "d0236bc7e5524df1a0d3c3b2a3430fca": {
     "views": []
    },
    "d06381844d6c4e8f8d39bcf4545e11de": {
     "views": []
    },
    "d0a78f2a09d64f9eaaaf85802af791ba": {
     "views": []
    },
    "d0ff9aff55f34bfebc28997cb46c7ee2": {
     "views": []
    },
    "d1423e92a10a43b389a928405166f6df": {
     "views": []
    },
    "d17889fbd2584144b1d926c7cdb0ddab": {
     "views": []
    },
    "d196a09a95314dfbb233c7569859aa91": {
     "views": []
    },
    "d2431a8033d14e90b4b80d6f2ad94561": {
     "views": []
    },
    "d27d9e720ab648f3a5d5bb736667f073": {
     "views": []
    },
    "d2b8f5932f5c4fe89b984df88035fcf6": {
     "views": []
    },
    "d364cf92ff8943e4adf6ba8f80069cb4": {
     "views": []
    },
    "d3ab5de47c0f4d86ba003615199e32ec": {
     "views": []
    },
    "d405eb6229334d738a36d3cad16d4870": {
     "views": []
    },
    "d419a5eff1904906931e5e5713c0b9ab": {
     "views": []
    },
    "d42b63da058046b88df9937c7da0720c": {
     "views": []
    },
    "d45dcc33b21d45b888d202d23c635102": {
     "views": []
    },
    "d46cdec47e7d439fb8860aa1f4611fb6": {
     "views": []
    },
    "d4b002d8c6da4fee81c62234342de4fb": {
     "views": []
    },
    "d4da6650a7d94c7495c31d8331e629f4": {
     "views": []
    },
    "d51614a79d54413b95ca473a6ccdaced": {
     "views": []
    },
    "d51c17c8d24c43b3a6d2fef47dc5811e": {
     "views": []
    },
    "d55976fb82da49c68e94f84d18773a65": {
     "views": []
    },
    "d5b763ca3f6f499686ca738438007cdf": {
     "views": []
    },
    "d6226e8ebc374648ac787d7b9d58f55c": {
     "views": []
    },
    "d626073a1ff24cb190bb8c7d2a9098d1": {
     "views": []
    },
    "d644b3f362284474b4a4fe5e0483f35a": {
     "views": []
    },
    "d67717e3f3724d96b99f21fd12009d4b": {
     "views": []
    },
    "d6a73f6d34e94f47b41b3847e8f3d308": {
     "views": []
    },
    "d6e4d31f73b246ab81487a7f34be71c3": {
     "views": []
    },
    "d77109e48adb492ca5fd28e327139ecf": {
     "views": []
    },
    "d7734680eb5f49faa00a7cf75b402f90": {
     "views": []
    },
    "d79b5b2a262e48d0a40b086d48a5029b": {
     "views": []
    },
    "d7b4f337e75247eab97a36bb25f95585": {
     "views": []
    },
    "d7dab0fd527f4e458ad8a621fdf0008e": {
     "views": []
    },
    "d7df07a1f0064741b312e3a265915afe": {
     "views": []
    },
    "d7f9585db31940a295e5a218327ea178": {
     "views": []
    },
    "d886fd7b5bf6426381fa96b37cc28c8c": {
     "views": []
    },
    "d8f84e12546e4d62a415e264475c8ea9": {
     "views": []
    },
    "d909cd044ea1433f82518fb4d80de336": {
     "views": []
    },
    "d90bbdeb45f44f06bc66d1e04ebb8fe2": {
     "views": []
    },
    "d90ff8912ad642bdb736ec0ff121af2e": {
     "views": []
    },
    "d931a30968fe430ca7574b6e949b5f07": {
     "views": []
    },
    "d94effcc4b14450283551391d0c001d0": {
     "views": []
    },
    "d9cbffadcae245a183409f2409d2e6f1": {
     "views": []
    },
    "da4e0c15933a4127925a7bfbc2c8b1e1": {
     "views": []
    },
    "db0e588a705c4afb9c27aa2173af202b": {
     "views": []
    },
    "db2280ec4bb546c083873056167967f2": {
     "views": []
    },
    "db94387efccd43e08b69d2d8b1cdb9ea": {
     "views": []
    },
    "dba2c23caf5f4985ac148bfc05acc15d": {
     "views": []
    },
    "dbd44211d7d74135b8b1411c0b45015d": {
     "views": []
    },
    "dc4cbc56e8964be987ae57f9b67ef5e9": {
     "views": []
    },
    "dc83bfe43cf844c7934a84c397e4b195": {
     "views": []
    },
    "dca30af87b9c4f44a14c32a0c417a76f": {
     "views": []
    },
    "dcb5fb2737a449869613fe8dfcaebe3c": {
     "views": []
    },
    "dcb86378783141bba321d9c19e483ac5": {
     "views": []
    },
    "dcf403f9bae34a349f164a6b92866992": {
     "views": []
    },
    "ddd2675fb43e4d3299eda609c1cf89c6": {
     "views": []
    },
    "de54115c65994e22a4c0ccfc9558dd40": {
     "views": []
    },
    "de7f5ece55404aa6a51ca7ed5c73fa67": {
     "views": []
    },
    "dea72b53d8614a8ab934239ac46c99bd": {
     "views": []
    },
    "decfd59fd98845d0b0b49bacdff89848": {
     "views": []
    },
    "ded478ef53b7401583caf879f1061d7e": {
     "views": []
    },
    "dedb209bb2b44d67be9035b6f80cada3": {
     "views": []
    },
    "def431a465e4400c979e24c63408ff6d": {
     "views": []
    },
    "df72d4f26cc44adf8dcc65ae7616f6d5": {
     "views": []
    },
    "df76774fa1434b82aa58407951648010": {
     "views": []
    },
    "dfa00602c6c04b9a8dfdf5143291d73e": {
     "views": []
    },
    "dfad1d5a969d4313951759b139051429": {
     "views": []
    },
    "dfcb906e3803447ba05bf7c631e0541a": {
     "views": []
    },
    "e03449abbcbb45b59b712561143eb3b0": {
     "views": []
    },
    "e0436a0d44124559b11adb9d72d53327": {
     "views": []
    },
    "e09e30e425c442aaa74a4a220eba0530": {
     "views": []
    },
    "e0a0cefdf8dd40f1b5167aa42577b646": {
     "views": []
    },
    "e0c89b41face4eb4acfa80063ef29a15": {
     "views": []
    },
    "e0e88e8197754ddc893803685e528d88": {
     "views": []
    },
    "e122d6a833294eea8894950c416f28ba": {
     "views": []
    },
    "e1e75e86c4724168bc27796610fbe83e": {
     "views": []
    },
    "e206e723cc0a400183eee68d6932683b": {
     "views": []
    },
    "e22449575d784137b4db920b708403da": {
     "views": []
    },
    "e2787524b27a401faea6c862a5d9c272": {
     "views": []
    },
    "e2c012b4cb1349398bc5b3f1ae64f989": {
     "views": []
    },
    "e2d3136425c24c8c93c5047e99302b12": {
     "views": []
    },
    "e2e8ab408a604d2a91d5315ac4661187": {
     "views": []
    },
    "e308cb5a218b435e93e2c86113238f11": {
     "views": []
    },
    "e31ac34e5bee446391dbae256f29ef5e": {
     "views": []
    },
    "e414ab0ab9044398806100a2bbbef6f2": {
     "views": []
    },
    "e47fa9d7eb5942d19ad8b5cd4ba7af39": {
     "views": []
    },
    "e4d70d8e0ed74e9fb8e4a1f335cafdda": {
     "views": []
    },
    "e4ece257067345b9bb6a5fef0afd375a": {
     "views": []
    },
    "e50b0e35b63848cda8be278aa9758f58": {
     "views": []
    },
    "e518962dce30440eb521f5188417a812": {
     "views": []
    },
    "e51afacfad3c42259bed0963f1bfe70d": {
     "views": []
    },
    "e56652de8b1c4fd9ba7a8fbd849fb3bf": {
     "views": []
    },
    "e574204708c24772b601392abe9d44e5": {
     "views": []
    },
    "e5b6993a598d45efa556f0b4fd6fa302": {
     "views": []
    },
    "e5b6ddd6ae6a4ecdb9788620f02d7745": {
     "views": []
    },
    "e5d4c5bd12244828a9ae4d5ebc4e5852": {
     "views": []
    },
    "e61034655663458e8a8c21e688901c5b": {
     "views": []
    },
    "e6887bc060a848c0bb8649b6c0608ff1": {
     "views": []
    },
    "e6b1878f5f374c75b2f17b00ee7e5f43": {
     "views": []
    },
    "e6c3852bba5e4819812b2090c3b1a558": {
     "views": []
    },
    "e716b63ae089479e84676801a801859b": {
     "views": []
    },
    "e769bde1cae348b6a9478acef3b1b0a0": {
     "views": []
    },
    "e8753520b6d84feeb335fe7c1ff99d18": {
     "views": []
    },
    "e87de93d95b3495898c69dce87878219": {
     "views": []
    },
    "e87f4f19b6224e98a591bd1af3eb095e": {
     "views": []
    },
    "e88b84cfb3eb48bd8451d0f369e70e5b": {
     "views": []
    },
    "e8a3d64f3ea64ee7a722dbbb92ee1ae9": {
     "views": []
    },
    "e8d870aef1b74327b72cb9039626e95a": {
     "views": []
    },
    "e8e99527c1e643d5ad8a1d4ef9f4981f": {
     "views": []
    },
    "e8f4bf42f6b541a7981796f7716bfa59": {
     "views": []
    },
    "e8f75f3b38214fd19a6bc7b9d2617d1a": {
     "views": []
    },
    "e9e62fb447d64c3dac018dd36d8c7edc": {
     "views": []
    },
    "e9f987c6fa494b29ad3e8e438004d37d": {
     "views": []
    },
    "e9fa835fa17649169f70e2430431f24c": {
     "views": []
    },
    "ea62509223874f21a313e55897de6ab4": {
     "views": []
    },
    "ea9af2d1e70a405aada60d8e2472fd0a": {
     "views": []
    },
    "eacdb5a6b35a45e7ad1777be2f6b7c49": {
     "views": []
    },
    "eaf011c0b9ec4d40ba2a9934555113ae": {
     "views": []
    },
    "eb4785c3df3d4770b49330628097a4b0": {
     "views": []
    },
    "eb9b010501224dca925355933057682b": {
     "views": []
    },
    "ebba94a5580d4109bb3bfde3ab65062f": {
     "views": []
    },
    "ebe504c8fa5244b0b8db924920d6d80e": {
     "views": []
    },
    "ebe8e5e734894580ac83592074dff005": {
     "views": []
    },
    "ebf068700b534da4a8bcb88011ac0d31": {
     "views": []
    },
    "eca60d3eff014d959f5ab5d39903c88d": {
     "views": []
    },
    "ecd70567fceb4d04960a193d54a3d425": {
     "views": []
    },
    "ed606ab141e94511be499b916922045b": {
     "views": []
    },
    "ed99854811cc40799fe689db12b67239": {
     "views": []
    },
    "ee04e32e63f741489f3eec033df8c257": {
     "views": []
    },
    "ee46c6b294d7405f9d29d05755a7b6da": {
     "views": []
    },
    "ee7f0be4466c40f197bd2a0d7c031a05": {
     "views": []
    },
    "eef6fbfb291242b9a5952fd1a424ac02": {
     "views": []
    },
    "ef2387792b6e4d919a7cf2952cb55844": {
     "views": []
    },
    "ef4436da6bc349daad3c6b9c4bbed1c4": {
     "views": []
    },
    "ef5b2cfb21624d2982c1a0c295c065a2": {
     "views": []
    },
    "efeea19d770d454e9950daeaa80ba1b8": {
     "views": []
    },
    "f03d4c9966df405494f8e6c83f0284af": {
     "views": []
    },
    "f0815ac2fad24c229c5aec3f013641a6": {
     "views": []
    },
    "f0926227a5634632957266d4914d0f19": {
     "views": []
    },
    "f0ab6254aada41488c1f98d9f69c3b05": {
     "views": []
    },
    "f0abe511078e4146a9d6d753f6786518": {
     "views": []
    },
    "f0d74b3bd16947a4ae58eaab333f1d74": {
     "views": []
    },
    "f0fa17e477b648b3947b38c5f7089ef2": {
     "views": []
    },
    "f183ae6d46be4c42826c546821ed63bc": {
     "views": []
    },
    "f1855817dc00442494a5ac94b37eb8a1": {
     "views": []
    },
    "f189ceb8c24c44f0aa6fb59e280e9807": {
     "views": []
    },
    "f193ec040c04472aa0f4fee19cfb10b6": {
     "views": []
    },
    "f193f9746d5745999a8dbff75b8c929d": {
     "views": []
    },
    "f1bf9c671f1541b0b0c82f2c6ad98129": {
     "views": []
    },
    "f212a18ce71b4104b1b58c738d1c0502": {
     "views": []
    },
    "f2337c0b7cef43689b1f1ecadbe49277": {
     "views": []
    },
    "f239d2b4c9ee4f4ca5c0739af6bcc7cc": {
     "views": []
    },
    "f254c2ada5ce4e5c9c33b76872b30df8": {
     "views": []
    },
    "f2819162068b4ec38e062c8087478360": {
     "views": []
    },
    "f3e18bf7060d4d46b70bbd7ae87cbf6e": {
     "views": []
    },
    "f4174e5db7d641b6be6e801e84c36929": {
     "views": []
    },
    "f42f74981c9847d2acfc3e0748d1ca6d": {
     "views": []
    },
    "f47d741bda324a43a32a2d2e58eaae51": {
     "views": []
    },
    "f4bae55af9b54172ae44a980ac8aea6e": {
     "views": []
    },
    "f4d5cefdee4e444eaaa1f567775e5eba": {
     "views": []
    },
    "f4e956056fd6451eaf6ca52cd948ca69": {
     "views": []
    },
    "f54f1944a19d4af4ae0f7d0b8fbd4c0e": {
     "views": []
    },
    "f55a321c3e3d498a8c51c02972732744": {
     "views": []
    },
    "f596600e527d45e687d4cb9eb70a00d3": {
     "views": []
    },
    "f59ac8aec25b4c9ea1c8581eb23bfde8": {
     "views": []
    },
    "f5b0ba0134984603a7da1b8184399f95": {
     "views": []
    },
    "f5cbeef38cbe4c93a229b54bef90b9c8": {
     "views": []
    },
    "f624207091b646e7b0633fa5968371d8": {
     "views": []
    },
    "f661f82c2d2540d989d7aa2644270bbd": {
     "views": []
    },
    "f66f9a5a1c1d4db7b5cb360ed4508ef1": {
     "views": []
    },
    "f6932756e3fa47618b9de4a070c53e8e": {
     "views": []
    },
    "f6ae4a6d381947e0a64a66d428c5660b": {
     "views": []
    },
    "f6b3817acc4a4fcda3521be2809972e1": {
     "views": []
    },
    "f72d5f0bf9f54b93a7879d9a28ca9a6d": {
     "views": []
    },
    "f7be5e1b3abc4aa088bb71d8cece9074": {
     "views": []
    },
    "f7d3615643ee4b189773511b391befb1": {
     "views": []
    },
    "f84374f7a09f4649bddcf8fde1251712": {
     "views": []
    },
    "f84970e84ac047b5a0cdbe0e566514b8": {
     "views": []
    },
    "f8a9494e2e7d476e95a5a68fe8de1eae": {
     "views": []
    },
    "f9098244cd6542f8ba7fa616b40e5aff": {
     "views": []
    },
    "f9194393035c4b5583410e59015d184c": {
     "views": []
    },
    "f955a4ab60fe488bb09ee85659820a3e": {
     "views": []
    },
    "f97d73c1178746d19d1d9df63fa98f31": {
     "views": []
    },
    "f9852bf9524e41e99c6f06419789d1b5": {
     "views": []
    },
    "f99035733baa4715bc56feb02ea5fed9": {
     "views": []
    },
    "f9a4acf100824418850d509fbbdb412f": {
     "views": []
    },
    "f9f7dcd7a7d64eac9819121ca611dbbb": {
     "views": []
    },
    "fa510a9fcf0d42dab55def9d8ac2c732": {
     "views": []
    },
    "fa9f9c6ad5904afcb5e2a4c87f7835d4": {
     "views": []
    },
    "fb1dc1e4edc749f1b6497e49b72601e9": {
     "views": []
    },
    "fb2b0a9ff562414583e030250b1d45df": {
     "views": []
    },
    "fb6be6e9eb6a4c66af79298e0a4e4917": {
     "views": []
    },
    "fb8bb65c8c8a4a35aa3d9a40bb374700": {
     "views": []
    },
    "fbb28cd7e2db47f7b021650613082af2": {
     "views": []
    },
    "fbb67dad3e9c443a92ea0adfa17d866d": {
     "views": []
    },
    "fbc968771bff46f385c5cebb95e43c3c": {
     "views": []
    },
    "fbd0ca18011a4f69b3b409a9723252ab": {
     "views": []
    },
    "fbf81cc3c1ce4dc0a89120dc31d85c82": {
     "views": []
    },
    "fbf8e8d354d84943a8935c41d8e1bc25": {
     "views": []
    },
    "fc4df87c351d4ac18bde709e75500b6b": {
     "views": []
    },
    "fc564d9ed7964ce0bd9b5ebc37fb5a3c": {
     "views": []
    },
    "fc73357231da4659a25831aa1fc9c76d": {
     "views": []
    },
    "fd075fd349fc455f964925fd5b74dd82": {
     "views": []
    },
    "fd4e7168791546baa7e6b804b43e6371": {
     "views": []
    },
    "fda5bf4364d3472fa21bea6a61c04190": {
     "views": []
    },
    "fdadf01177a84b53b6de1682125b4f3c": {
     "views": []
    },
    "fe1b0e99040f4c48ac9bb3f8eba8dbf4": {
     "views": []
    },
    "fe34876ba5bd42a1bdcd2bcd26eb9995": {
     "views": []
    },
    "fe34f8d71fa242a7b95158ae7290212a": {
     "views": []
    },
    "fe6e2cdd4d2842c7bf97ae9a6a830ca4": {
     "views": []
    },
    "fe7293b824284997a7e2696202ba6f55": {
     "views": []
    },
    "fec6b2c7648a4dd6a50d24ea58497753": {
     "views": []
    },
    "ff5d15d6194146baa7a8362b36776950": {
     "views": []
    },
    "ff7b1ff462ff42e6b6afcea157fbe802": {
     "views": []
    }
   },
   "version": "1.1.2"
  }
 },
 "nbformat": 4,
 "nbformat_minor": 0
}
