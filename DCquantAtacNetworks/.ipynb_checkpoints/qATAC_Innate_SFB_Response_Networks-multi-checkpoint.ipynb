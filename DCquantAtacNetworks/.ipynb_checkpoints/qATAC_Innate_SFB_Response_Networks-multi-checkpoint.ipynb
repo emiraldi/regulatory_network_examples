{
 "cells": [
  {
   "cell_type": "code",
   "execution_count": 1,
   "metadata": {
    "collapsed": false
   },
   "outputs": [],
   "source": [
    "# Transcriptional regulation of genes responsive to SFB\n",
    "# For information about the interface, see:\n",
    "# https://github.com/simonsfoundation/jp_gene_viz/blob/master/doc/dNetwork%20widget%20overview.ipynb\n",
    "\n",
    "# GOAL: We want to visualize each quantitative ATAC priors and compare networks resulting from different\n",
    "# choices of geneset and peakset cutoffs (e.g., log2 fold-change and FDR), for each network (e.g., SI gene regulation\n",
    "# in macrophages).  We will use the \"multiple_network\" functionality to do this, and use networks linked to heatmaps\n",
    "# (\"Lexpression\" functionality) so that we can color nodes according to gene expression \n",
    "\n",
    "# Each tupple corresponds to (geneset cutoff, peakset cutoff)\n",
    "cutComb = ('FC1_FDR10','FC1_FDR10')\n",
    "# \n",
    "#                 ('FC1_FDR10','FC0p58_FDR25'),\n",
    "#                 ('FC0p58_FDR25','FC0p58_FDR25'),\n",
    "#                 ('FC0p58_FDR25','FC1_FDR10')]\n",
    "# NOTE: Script below is HARD-coded to only visualize the six (LI) or five (SI) networks\n",
    "\n",
    "directory = \"/Users/emiraldi/erm/Shared/DCproject/DCquantAtacNetworks\" #NOTE, \"try\" statement below, will also look in current directory\n",
    "\n",
    "# Location of each network, and note we will use .replace() to insert the gene and peakset cutoffs of interest\n",
    "# for \"GENE_CUTOFF\" and \"PEAK_CUTOFF\" in the string below\n",
    "netBase = \"DC_genesets_GENE_CUTOFF/DCs_max4_body_bp10000/DCnets_SFB/DCnets_SFB_pPEAK_CUTOFF_rawp0001_hyg0001\"\n",
    "geneCutoff = cutComb[0]\n",
    "peakCutoff = cutComb[1]\n",
    "netPath = netBase.replace('GENE_CUTOFF',geneCutoff).replace('PEAK_CUTOFF',peakCutoff)\n",
    "\n",
    "# The starting conditions for each of the networks, a list of tuples.  Tuple entries are:\n",
    "# 0. network file name (column format) (as found in directory + netBase with cutoffs inserted\n",
    "# 1. column of the expression matrix that you want the nodes to be colored by\n",
    "# 2. network title, to which we'll add the gene and peak cutoffs\n",
    "# 3. subselect the list of relevant genes -- NOT USED for this code and can be left out\n",
    "networkInits = [('CD11bmCD103m_SFB_sp.tsv','SFB_v_GF_CD11b-CD103-','SFB UP (Red), SI CD11b-CD103-','GeneSets/GF_SI_CD11bmCD103m_v_SFB_SI_CD11bmCD103m_FC1_FDR10_down.txt'),\n",
    "    ('CD103p_SFB_sp.tsv','SFB_v_GF_CD11b-CD103+','SFB UP (Red), SI CD11b-CD103+','GeneSets/GF_SI_CD11bmCD103p_v_SFB_SI_CD11bmCD103p_FC1_FDR10_down.txt'),\n",
    "    ('CD11bp_SFB_sp.tsv','SFB_v_GF_CD11b+CD103-','SFB UP (Red), SI CD11b+CD103-','GeneSets/GF_SI_CD11bpCD103m_v_SFB_SI_CD11bpCD103m_FC1_FDR10_down.txt'),\n",
    "    ('CD11bpCD103p_SFB_sp.tsv','SFB_v_GF_CD11b+CD103+','SFB UP (Red), SI CD11b+CD103+','GeneSets/GF_SI_CD11bpCD103p_v_SFB_SI_CD11bpCD103p_FC1_FDR10_down.txt'),\n",
    "    ('mphage_SFB_sp.tsv','SFB_v_GF_Macrophage','SFB UP (Red), SI Macrophage','GeneSets/GF_SI_Macrophage_v_SFB_SI_Macrophage_FC1_FDR10_down.txt'),\n",
    "    ('monocyte_SFB_sp.tsv','SFB_v_GF_Monocyte','SFB UP (Red), Monocyte','GeneSets/GF_SI_Monocyte_v_SFB_SI_Monocyte_FC1_FDR10_down.txt')]\n",
    "\n",
    "expressionFile = \"Heatmaps/Microb_DC_ILC3_log2FCs_all.txt\"\n",
    "\n",
    "tfFocus = 0 # If 1, automatically applies the \"trim\" function, so we can focus on TFs\n",
    "    # If 0, does not!\n",
    "\n",
    "threshhold = .2 # for edge weights in graph\n",
    "\n",
    "clim = 1.5 # absolute value color threshhold on edge color"
   ]
  },
  {
   "cell_type": "code",
   "execution_count": null,
   "metadata": {
    "collapsed": false
   },
   "outputs": [
    {
     "data": {
      "application/javascript": [
       "\n",
       "// imitating ipywidgets/docs/source/examples/Custom Widget - Hello World.ipynb\n",
       "\n",
       "//require([\"widgets/js/widget\", \"widgets/js/manager\"], function(widget, manager){\n",
       "\n",
       "require.undef(\"SVGCanvas\");\n",
       "\n",
       "define(\"SVGCanvas\", [\"jupyter-js-widgets\"], function(widgets) {\n",
       "    \n",
       "    var svgEventHandlerFactory = function(that) {\n",
       "        var svgEventHandler = function(e) {\n",
       "            var target = e.target;\n",
       "            var info = {};\n",
       "            for (var attr in e) {\n",
       "                var val = e[attr];\n",
       "                var ty = (typeof val);\n",
       "                if ((ty == \"number\") ||\n",
       "                    (ty == \"string\") ||\n",
       "                    (ty == \"boolean\")) {\n",
       "                    info[attr] = val;\n",
       "                }\n",
       "            }\n",
       "            info.name = target.ipy_name;\n",
       "            var ept = SVGEventLocation(that, e);\n",
       "            info.svgX = ept.x;\n",
       "            info.svgY = ept.y;\n",
       "            var json = JSON.stringify(info);\n",
       "            that.model.set(\"event\", json);\n",
       "            that.touch();\n",
       "        };\n",
       "        return svgEventHandler;\n",
       "    };\n",
       "\n",
       "    var SVGEventLocation = function(that, e) {\n",
       "        // http://stackoverflow.com/questions/10298658/mouse-position-inside-autoscaled-svg\n",
       "        var pt = that.reference_point;\n",
       "        var svg = that.$svg[0];\n",
       "        pt.x = e.clientX;\n",
       "        pt.y = e.clientY;\n",
       "        return pt.matrixTransform(svg.getScreenCTM().inverse());\n",
       "    }\n",
       "    \n",
       "    var SVGCanvasView = widgets.DOMWidgetView.extend({\n",
       "        \n",
       "        render: function() {\n",
       "            var that = this;\n",
       "            var svg = that.svg_elt(\"svg\");\n",
       "            var eventHandler = svgEventHandlerFactory(that);\n",
       "            that.eventHandler = eventHandler;\n",
       "            that.named_elements = {};\n",
       "            svg.ipy_name = \"\";\n",
       "            that.$svg = $(svg);\n",
       "            that.reference_point = svg.createSVGPoint();\n",
       "            svg.setAttribute(\"preserveAspectRatio\", \"none\");\n",
       "            that.$el.append(that.$svg);\n",
       "            that.svg_parameters_changed();\n",
       "            that.commands_changed();\n",
       "            that.start_watch_event();\n",
       "            that.model.on(\"change:commands\", that.commands_changed, that);\n",
       "            that.model.on(\"change:viewBox\", that.svg_parameters_changed, that);\n",
       "            that.model.on(\"change:svg_width\", that.svg_parameters_changed, that);\n",
       "            that.model.on(\"change:svg_height\", that.svg_parameters_changed, that);\n",
       "            that.model.on(\"change:style\", that.svg_parameters_changed, that);\n",
       "            that.model.on(\"change:watch_event\", that.start_watch_event, that);\n",
       "            that.model.on(\"change:unwatch_event\", that.stop_watch_event, that);\n",
       "        },\n",
       "        \n",
       "        start_watch_event: function() {\n",
       "            var that = this;\n",
       "            var event_types = that.model.get(\"watch_event\");\n",
       "            if (event_types != \"\") {\n",
       "                that.$svg.on(event_types, that.eventHandler);\n",
       "                that.model.set(\"watch_event\", \"\");\n",
       "                that.touch();\n",
       "            }\n",
       "        },\n",
       "        \n",
       "        stop_watch_event: function() {\n",
       "            var that = this;\n",
       "            var event_types = that.model.get(\"unwatch_event\");\n",
       "            if (event_types != \"\") {\n",
       "                that.$svg.off(event_types);\n",
       "                that.model.set(\"watch_event\", \"\");\n",
       "                that.touch();\n",
       "            }\n",
       "        },\n",
       "        \n",
       "        commands_changed: function() {\n",
       "            var that = this;\n",
       "            var svg = that.$svg[0];\n",
       "            var commands = that.get_JSON(\"commands\")\n",
       "            for (var i=0; i<commands.length; i++) {\n",
       "                var command_dict = commands[i];\n",
       "                var indicator = command_dict[\"command\"];\n",
       "                var method = that[\"do_\"+indicator];\n",
       "                method(that, command_dict);\n",
       "            }\n",
       "        },\n",
       "\n",
       "        do_fit: function(that, info) {\n",
       "            // fit viewport to bounding box.\n",
       "            var svg = that.$svg[0];\n",
       "            var bbox = svg.getBBox();\n",
       "            var D = {\"width\": bbox.width, \"height\": bbox.height, \"x\": bbox.x, \"y\": bbox.y}\n",
       "            var vbox = \"\" + D.x + \" \" + D.y + \" \" + D.width + \" \" + D.height;\n",
       "            if ((D.width > 0) && (D.height > 0)) {\n",
       "                that.model.set(\"boundingBox\", D);\n",
       "                if (info.changeView) {\n",
       "                    that.model.set(\"viewBox\", vbox);\n",
       "                }\n",
       "                // Element viewBox will be updated later by model change.\n",
       "                that.touch();\n",
       "            }\n",
       "        },\n",
       "        \n",
       "        do_add_element: function (that, info) {\n",
       "            var tag = info.tag;\n",
       "            var name = info.name;\n",
       "            var element = that.svg_elt(tag);\n",
       "            element.ipy_name = name;\n",
       "            var $element = $(element);\n",
       "            that.update_element($element, info);\n",
       "            // add event callbacks\n",
       "            that.$svg.append($element);\n",
       "            that.named_elements[name] = $element;\n",
       "        },\n",
       "        \n",
       "        do_change_element: function (that, info) {\n",
       "            var name = info.name;\n",
       "            var $element = that.named_elements[name];\n",
       "            if ($element) {\n",
       "                that.update_element($element, info);\n",
       "            } else {\n",
       "                console.warn(\"couldn't find element for \"+name);\n",
       "            }\n",
       "        },\n",
       "        \n",
       "        do_delete: function (that, info) {\n",
       "            var names = info.names;\n",
       "            for (var i=0; i<names.length; i++) {\n",
       "                var name = names[i];\n",
       "                var $element = that.named_elements[name];\n",
       "                if ($element) {\n",
       "                    $element.remove();\n",
       "                    delete that.named_elements[name];\n",
       "                }\n",
       "            }\n",
       "        },\n",
       "        \n",
       "        update_element: function($element, info) {\n",
       "            var element = $element[0];\n",
       "            var atts = info.atts;\n",
       "            var style = info.style;\n",
       "            var text = info.text;\n",
       "            if (atts) {\n",
       "                for (var att in atts) {\n",
       "                    element.setAttribute(att, atts[att]);\n",
       "                }\n",
       "            }\n",
       "            if (style) {\n",
       "                for (var styling in style) {\n",
       "                    element.style[styling] = style[styling];\n",
       "                }\n",
       "            }\n",
       "            if (text) {\n",
       "                $element.empty();\n",
       "                var node = document.createTextNode(text);\n",
       "                element.appendChild(node);\n",
       "            }\n",
       "        },\n",
       "        \n",
       "        do_empty: function (that, info) {\n",
       "            that.named_elements = {};\n",
       "            that.$svg.empty();\n",
       "        },\n",
       "        \n",
       "        svg_parameters_changed: function() {\n",
       "            var that = this;\n",
       "            var style_additions = that.get_JSON(\"style\");\n",
       "            var svg = that.$svg[0];\n",
       "            svg.setAttribute(\"viewBox\", that.model.get(\"viewBox\"));\n",
       "            svg.setAttribute(\"width\", that.model.get(\"svg_width\"));\n",
       "            svg.setAttribute(\"height\", that.model.get(\"svg_height\"));\n",
       "            for (var style_attr in style_additions) {\n",
       "                svg.style[style_attr] = style_additions[style_attr];\n",
       "            }\n",
       "        },\n",
       "        \n",
       "        get_JSON: function(name) {\n",
       "            var json = this.model.get(name);\n",
       "            return $.parseJSON(json);\n",
       "        },\n",
       "        \n",
       "        svg_elt: function(kind) {\n",
       "            return document.createElementNS('http://www.w3.org/2000/svg', kind);\n",
       "        }\n",
       "        \n",
       "    });\n",
       "    \n",
       "    //manager.WidgetManager.register_widget_view('SVGCanvasView', SVGCanvasView);\n",
       "    return {\n",
       "        SVGCanvasView: SVGCanvasView\n",
       "    }\n",
       "});\n"
      ],
      "text/plain": [
       "<IPython.core.display.Javascript object>"
      ]
     },
     "metadata": {},
     "output_type": "display_data"
    },
    {
     "data": {
      "application/javascript": [
       "\n",
       "// This is the javascript side to match js_proxy.py.\n",
       "// See js_proxy.py for an explanation of the command transfer\n",
       "// protocol\n",
       "\n",
       "// imitating ipywidgets/docs/source/examples/Custom Widget - Hello World.ipynb\n",
       "\n",
       "//require([\"widgets/js/widget\", \"widgets/js/manager\", \"underscore\", \"jquery\"\n",
       "//], function(widget, manager, _, $) {\n",
       "\n",
       "require.undef(\"JSProxy\");\n",
       "\n",
       "define(\"JSProxy\", [\"jupyter-js-widgets\"], function(widgets) {\n",
       "\n",
       "    var JSProxyView = widgets.DOMWidgetView.extend({\n",
       "\n",
       "        render: function() {\n",
       "            var that = this;\n",
       "            that.on(\"displayed\", function() {\n",
       "                that.update();\n",
       "            });\n",
       "            // Wrap $el as a proper jQuery object\n",
       "            that.$$el = $(that.$el);\n",
       "            // \"new\" keyword emulation\n",
       "            // http://stackoverflow.com/questions/17342497/dynamically-control-arguments-while-creating-objects-in-javascript\n",
       "            that.$$el.New = function(klass, args) {\n",
       "                var obj = Object.create(klass.prototype);\n",
       "                return klass.apply(obj, args) || obj;\n",
       "            };\n",
       "\n",
       "            // fix key bindings for wayward element.\n",
       "            // XXXX This is a bit of a hack that may not be needed in future\n",
       "            // Jupyter releases.\n",
       "            that.$$el.Fix = function(element) {\n",
       "                debugger;\n",
       "                that.model.widget_manager.keyboard_manager.register_events(element);\n",
       "            };\n",
       "        },\n",
       "\n",
       "        update: function(options) {\n",
       "            var that = this;\n",
       "            var commands = that.model.get(\"commands\");\n",
       "            if (commands.length >= 2) {\n",
       "                var command_counter = commands[0];\n",
       "                var command_list = commands[1];\n",
       "                var level = commands[2];\n",
       "                level = that.check_level(level);\n",
       "                var results = [];\n",
       "                _.each(command_list, function(command,i) {\n",
       "                    var result = that.execute_command(command);\n",
       "                    results[i] = that.json_safe(result, level);\n",
       "                });\n",
       "                that.model.set(\"commands\", []);\n",
       "                that.model.set(\"results\", [command_counter, results])\n",
       "                that.touch();\n",
       "            }\n",
       "        },\n",
       "\n",
       "        execute_command: function(command) {\n",
       "            var that = this;\n",
       "            var result = command;\n",
       "            if ($.isArray(command)) {\n",
       "                var indicator = command[0];\n",
       "                var remainder = command.slice();\n",
       "                remainder.shift();\n",
       "                if (indicator == \"element\") {\n",
       "                    // Make sure the element is wrapped as a proper JQuery(UI) object\n",
       "                    if (!that.$$el) {\n",
       "                        that.$$el = $(that.$el);\n",
       "                    }\n",
       "                    result = that.$$el;\n",
       "                } else if (indicator == \"window\") {\n",
       "                    result = window;\n",
       "                } else if (indicator == \"method\") {\n",
       "                    var target_desc = remainder.shift();\n",
       "                    var target = that.execute_command(target_desc);\n",
       "                    var name = remainder.shift();\n",
       "                    var args = remainder.map(that.execute_command, that);\n",
       "                    var method = target[name];\n",
       "                    if (method) {\n",
       "                        result = method.apply(target, args);\n",
       "                    } else {\n",
       "                        result = \"In \" + target + \" no such method \" + name;\n",
       "                    }\n",
       "                } else if (indicator == \"function\") {\n",
       "                    var function_desc = remainder.shift();\n",
       "                    var function_value = that.execute_command(function_desc);\n",
       "                    var args = remainder.map(that.execute_command, that);\n",
       "                    // Use \"that\" as the \"this\" value for function values?\n",
       "                    result = function_value.apply(that, args);\n",
       "                } else if (indicator == \"id\") {\n",
       "                    result = remainder[0];\n",
       "                } else if (indicator == \"list\") {\n",
       "                    result = remainder.map(that.execute_command, that);\n",
       "                } else if (indicator == \"dict\") {\n",
       "                    result = {}\n",
       "                    var desc = remainder[0];\n",
       "                    for (var key in desc) {\n",
       "                        var key_desc = desc[key];\n",
       "                        var val = that.execute_command(key_desc);\n",
       "                        result[key] = val;\n",
       "                    }\n",
       "                } else if (indicator == \"callback\") {\n",
       "                    var identifier = remainder.shift();\n",
       "                    var data = remainder.shift();\n",
       "                    var level = remainder.shift();\n",
       "                    // sanity check\n",
       "                    level = that.check_level(level);\n",
       "                    result = that.callback_factory(identifier, data, level);\n",
       "                } else if (indicator == \"get\") {\n",
       "                    var target_desc = remainder.shift();\n",
       "                    var target = that.execute_command(target_desc);\n",
       "                    var name = remainder.shift();\n",
       "                    try {\n",
       "                        result = target[name];\n",
       "                    } catch(err) {\n",
       "                        result = \"failed to get \"+name+\" from \"+target+\" :: \"+err;\n",
       "                    }\n",
       "                } else if (indicator == \"set\") {\n",
       "                    var target_desc = remainder.shift();\n",
       "                    var target = that.execute_command(target_desc);\n",
       "                    var name = remainder.shift();\n",
       "                    var value_desc = remainder.shift()\n",
       "                    var value = that.execute_command(value_desc);\n",
       "                    target[name] = value;\n",
       "                    result = target;\n",
       "                } else if (indicator == \"null\") {\n",
       "                    target_desc = remainder.shift();\n",
       "                    that.execute_command(target_desc);\n",
       "                    result = null;\n",
       "                } else {\n",
       "                    result = \"Unknown indicator \" + indicator;\n",
       "                }\n",
       "            }\n",
       "            return result;\n",
       "        },\n",
       "\n",
       "        check_level: function(level) {\n",
       "            if ((typeof level) != \"number\" || (level < 0)) {\n",
       "                level = 0;\n",
       "            } else if (level > 5) {\n",
       "                level = 5;\n",
       "            }\n",
       "            return level;\n",
       "        },\n",
       "\n",
       "        callback_factory: function(identifier, data, level) {\n",
       "            var that = this;\n",
       "            // Counter makes sure change is noticed even if other arguments don't change.\n",
       "            var counter = 0;\n",
       "            var handler = function () {\n",
       "                counter += 1;\n",
       "                var payload = that.json_safe([identifier, data, arguments, counter], level + 1);\n",
       "                that.model.set(\"callback_results\", payload);\n",
       "                that.touch();\n",
       "            };\n",
       "            return handler;\n",
       "        },\n",
       "\n",
       "        json_safe: function(val, depth) {\n",
       "            // maybe expand later as need arises\n",
       "            var that = this;\n",
       "            var ty = (typeof val);\n",
       "            if ((ty == \"number\") || (ty == \"string\") || (ty == \"boolean\")) {\n",
       "                return val;\n",
       "            }\n",
       "            if (!val) {\n",
       "                // translate all other falsies to None\n",
       "                return null;\n",
       "            }\n",
       "            if (((typeof depth) == \"number\") && (depth > 0)) {\n",
       "                if ($.isArray(val)) {\n",
       "                    var result = [];\n",
       "                    _.each(val, function(elt, i) {\n",
       "                        var r = that.json_safe(elt, depth-1);\n",
       "                        if (r != null) {\n",
       "                            result[i] = r;\n",
       "                        }\n",
       "                    });\n",
       "                    return result;\n",
       "                } else {\n",
       "                    var result = {};\n",
       "                    for (var key in val) {\n",
       "                        var jv = that.json_safe(val[key], depth-1);\n",
       "                        if (jv != null) {\n",
       "                            result[key] = jv;\n",
       "                        }\n",
       "                    }\n",
       "                    return result;\n",
       "                }\n",
       "            }\n",
       "            return null;\n",
       "        }\n",
       "\n",
       "    });\n",
       "\n",
       "    //manager.WidgetManager.register_widget_view('JSProxyView', JSProxyView);\n",
       "    return {\n",
       "        JSProxyView: JSProxyView\n",
       "    }\n",
       "});\n"
      ],
      "text/plain": [
       "<IPython.core.display.Javascript object>"
      ]
     },
     "metadata": {},
     "output_type": "display_data"
    },
    {
     "data": {
      "application/javascript": [
       "/*\n",
       "jQuery plugin for a color arrow cursor over an element.\n",
       "\n",
       "Based on\n",
       "http://stackoverflow.com/questions/18779354/assign-color-to-mouse-cursor-using-css\n",
       "*/\n",
       "\n",
       "(function ($) {\n",
       "\n",
       "    $.fn.color_cursor = function(color) {\n",
       "        var that = this;\n",
       "        var cvs = document.createElement(\"canvas\");\n",
       "        cvs.height = 16;\n",
       "        cvs.width = 16;\n",
       "        var ctx = cvs.getContext(\"2d\");\n",
       "        ctx.strokeStyle = color;\n",
       "        ctx.lineWidth = 4;\n",
       "        ctx.lineCap = \"round\";\n",
       "        ctx.moveTo(2, 12);\n",
       "        ctx.lineTo(2, 2);\n",
       "        ctx.lineTo(12, 2);\n",
       "        ctx.moveTo(2, 2);\n",
       "        ctx.lineTo(30, 30)    \n",
       "        ctx.stroke();\n",
       "        var url = cvs.toDataURL();\n",
       "        that.css(\"cursor\", \"url(\" + url + '), auto');\n",
       "        return that;\n",
       "    };\n",
       "\n",
       "    $.fn.color_cursor_reset = function () {\n",
       "        this.css(\"cursor\", \"\");\n",
       "        return this;\n",
       "    };\n",
       "\n",
       "    $.fn.color_cursor.example = function (element) {\n",
       "        debugger;\n",
       "        var d = $(\"<div>Cursor should be red over me. Click to reset.</div>\")\n",
       "            .color_cursor(\"red\");\n",
       "        var reset = function() {\n",
       "            d.color_cursor_reset();\n",
       "            d.html(\"Now the cursor should be normal\");\n",
       "        }\n",
       "        d.click(reset);\n",
       "        element.append(d);\n",
       "        return element;\n",
       "    };\n",
       "\n",
       "})(jQuery)\n"
      ],
      "text/plain": [
       "<IPython.core.display.Javascript object>"
      ]
     },
     "metadata": {},
     "output_type": "display_data"
    }
   ],
   "source": [
    "# Uncomment to run without install (in binder, for example)\n",
    "import sys\n",
    "if \"..\" not in sys.path:\n",
    "    sys.path.append(\"..\")\n",
    "from jp_gene_viz import dNetwork\n",
    "dNetwork.load_javascript_support()\n",
    "from jp_gene_viz import multiple_network\n",
    "from jp_gene_viz import LExpression\n",
    "LExpression.load_javascript_support()\n",
    "# Part 1 of a hacky way to set color threshhold\n",
    "from numpy import array\n",
    "minclr = array([   255.,  0,    0.])\n",
    "minvalue = -clim\n",
    "zeroclr = array([255.0000 , 130.4000  , 60.0000]) # [   166.,    86.,    40.]) #127.5, 63.75, 0 ])\n",
    "maxvalue = clim\n",
    "maxclr = array([ 0.,    1.7*127.5,    0.])\n",
    "\n",
    "\n",
    "# Currently, we are not interested in visualizing motifs, and would need to find these files, if we did\n",
    "# from jp_gene_viz import motif_data\n",
    "# C = motif_data.MotifCollection()\n",
    "# # for extra safety \"rU\" reads with universal line ending support\n",
    "# C.read_meme_file(open(directory + '/' + \"mm9_em.meme\", \"rU\"))\n",
    "# C.read_meme_file(open(directory + '/' + \"hg19_em.meme\", \"rU\"))"
   ]
  },
  {
   "cell_type": "code",
   "execution_count": null,
   "metadata": {
    "collapsed": false
   },
   "outputs": [
    {
     "name": "stdout",
     "output_type": "stream",
     "text": [
      "('Reading network', '/Users/emiraldi/erm/Shared/DCproject/DCquantAtacNetworks/DC_genesets_FC1_FDR10/DCs_max4_body_bp10000/DCnets_SFB/DCnets_SFB_pFC1_FDR10_rawp0001_hyg0001/CD11bmCD103m_SFB_sp.tsv')\n",
      "('Loading saved layout', '/Users/emiraldi/erm/Shared/DCproject/DCquantAtacNetworks/DC_genesets_FC1_FDR10/DCs_max4_body_bp10000/DCnets_SFB/DCnets_SFB_pFC1_FDR10_rawp0001_hyg0001/CD11bmCD103m_SFB_sp.tsv.layout.json')\n",
      "('Reading network', '/Users/emiraldi/erm/Shared/DCproject/DCquantAtacNetworks/DC_genesets_FC1_FDR10/DCs_max4_body_bp10000/DCnets_SFB/DCnets_SFB_pFC1_FDR10_rawp0001_hyg0001/CD103p_SFB_sp.tsv')\n",
      "('Loading saved layout', '/Users/emiraldi/erm/Shared/DCproject/DCquantAtacNetworks/DC_genesets_FC1_FDR10/DCs_max4_body_bp10000/DCnets_SFB/DCnets_SFB_pFC1_FDR10_rawp0001_hyg0001/CD103p_SFB_sp.tsv.layout.json')\n"
     ]
    }
   ],
   "source": [
    "networkList = list()  # this list contains heatmap-linked network objects\n",
    "\n",
    "for networkInit in networkInits:\n",
    "    networkFile = networkInit[0]\n",
    "    curr = LExpression.LinkedExpressionNetwork()\n",
    "    try:\n",
    "        curr.load_network(directory + '/' + netPath + '/' + networkFile)  \n",
    "    except AssertionError:\n",
    "        directory = \".\"\n",
    "        curr.load_network(directory + '/' + netPath + '/' + networkFile)    \n",
    "    networkList.append(curr)\n"
   ]
  },
  {
   "cell_type": "code",
   "execution_count": null,
   "metadata": {
    "collapsed": false
   },
   "outputs": [],
   "source": [
    "# visualize the networks -- HARD CODED for 5 networks:\n",
    "M = multiple_network.MultipleNetworks(\n",
    "    [[networkList[0], networkList[1]],\n",
    "    [networkList[2], networkList[3]],\n",
    "    [networkList[4], networkList[5]]])\n",
    "M.svg_width = 500\n",
    "M.show()      "
   ]
  },
  {
   "cell_type": "code",
   "execution_count": null,
   "metadata": {
    "collapsed": false
   },
   "outputs": [],
   "source": [
    "# Set network preferences\n",
    "count = 0\n",
    "for curr in networkList:\n",
    "    networkInit = networkInits[count]\n",
    "    # get title information + curr column for shading of figures\n",
    "    currCol = networkInit[1].lower()\n",
    "    titleBase = networkInit[2]\n",
    "    titleInf = titleBase + ' (gCut: ' + geneCutoff.replace('_',' ') + ', pCut: ' + peakCutoff.replace('_',' ')\n",
    "    \n",
    "    # set threshold\n",
    "    curr.network.threshhold_slider.value = threshhold\n",
    "    curr.network.apply_click(None)\n",
    "    if tfFocus:\n",
    "        # focus on TF core    \n",
    "        curr.network.tf_only_click(None)\n",
    "        curr.network.layout_click(None)  \n",
    "        \n",
    "    # set title\n",
    "    curr.network.title_html.value = titleInf\n",
    "\n",
    "    # add labels\n",
    "    curr.network.labels_button.value=True  \n",
    "    curr.network.draw_click(None)\n",
    "\n",
    "    # Load heatmap\n",
    "    curr.load_heatmap(directory + '/' + expressionFile)\n",
    "    # color nodes according to a sample column in the gene expression matrix\n",
    "    curr.gene_click(None)    \n",
    "    curr.expression.col = currCol    \n",
    "    curr.condition_click(None)\n",
    "    \n",
    "        #     # Attach the motif collection populated above:\n",
    "        #     N.motif_collection = C\n",
    "        #     net_with_motifs\n",
    "    \n",
    "    # !!!!! for some reason this doesn't work, tried curr.display... w/o curr.network.display...\n",
    "    # Part 2: a hacky way to set min and max on the heatmap and heatmap-colored nodes\n",
    "    curr.network.display_graph.get_edge_color_interpolator()\n",
    "    curr.network.display_graph._edge_color_interpolator.minclr = minclr\n",
    "    curr.network.display_graph._edge_color_interpolator.maxclr = maxclr\n",
    "    curr.network.display_graph._edge_color_interpolator.breakpoints = \\\n",
    "        [(minvalue, minclr),\n",
    "         (0, zeroclr),\n",
    "         (maxvalue, maxclr)]\n",
    "    curr.network.draw_click(None)\n",
    "    count += 1\n"
   ]
  },
  {
   "cell_type": "code",
   "execution_count": null,
   "metadata": {
    "collapsed": true
   },
   "outputs": [],
   "source": []
  },
  {
   "cell_type": "code",
   "execution_count": null,
   "metadata": {
    "collapsed": true
   },
   "outputs": [],
   "source": []
  }
 ],
 "metadata": {
  "kernelspec": {
   "display_name": "Python 2",
   "language": "python",
   "name": "python2"
  },
  "language_info": {
   "codemirror_mode": {
    "name": "ipython",
    "version": 2
   },
   "file_extension": ".py",
   "mimetype": "text/x-python",
   "name": "python",
   "nbconvert_exporter": "python",
   "pygments_lexer": "ipython2",
   "version": "2.7.10"
  },
  "widgets": {
   "state": {
    "003f39ff859f45a48ef10797c9be4c74": {
     "views": []
    },
    "00c9774257934b15ba61178dc43ca3a2": {
     "views": []
    },
    "00f97b6009c14e01b4189a5e8a6ede0f": {
     "views": []
    },
    "0109ad2e77314d50b0f5763289d54c02": {
     "views": []
    },
    "01120eba212a46d189326ff3e7fde7d7": {
     "views": []
    },
    "013f69237d7541a28d0a391fa3de413f": {
     "views": []
    },
    "01e31fa0a10b4402987d5fbe55c8165e": {
     "views": []
    },
    "01f9cd1804574beb97894f55ae313bc5": {
     "views": []
    },
    "022369a4471c47418a3aa7b9364a399a": {
     "views": []
    },
    "02273c0597c34ffd93c1ad60fcba2d78": {
     "views": []
    },
    "0290315e100e48599fa85562fa965951": {
     "views": []
    },
    "029043066ef446e5b3577719b9b740ed": {
     "views": []
    },
    "02b88e65aae542498fbc808c36291a57": {
     "views": []
    },
    "02cb4436e2d84fd5ac93e229bf780304": {
     "views": []
    },
    "02ccd12f3309410984195230733ec924": {
     "views": []
    },
    "02e9f4bf37d448aa9ee87f04b9aede2d": {
     "views": []
    },
    "031faa47440c48bab0136ecdc76e8f2c": {
     "views": []
    },
    "0341be3a275f4b1b896c323f6285c5a6": {
     "views": []
    },
    "039eb66d31c9486eb58544a05eefdf68": {
     "views": []
    },
    "03e6441407df41dcb8b3e0b055293f35": {
     "views": []
    },
    "04d45f8028b14ce8b34b907aee11c637": {
     "views": []
    },
    "052fa72bc0b74871bf7bbe1bdb16e47f": {
     "views": []
    },
    "055cd996f995468faf065acdee52a509": {
     "views": []
    },
    "05f46d59a1df4fbfa819f9835f48908c": {
     "views": []
    },
    "060da142688f4ec29b58c891cc798f9d": {
     "views": []
    },
    "06507b4c9366411fb858d94e44cf823a": {
     "views": []
    },
    "06a48547d1a44a9eba5dce3e1fc8f6eb": {
     "views": []
    },
    "06be997b5f3e43caa121d9e19f748fa5": {
     "views": []
    },
    "06ed71c2202e47a08077028229bc7bd9": {
     "views": []
    },
    "0749761b97344c5ab2eab176cbc4f2a8": {
     "views": []
    },
    "0789388463d14a959e970767b51133b8": {
     "views": []
    },
    "08390f69fb024c3c8aa6b8f8f77fe05c": {
     "views": []
    },
    "0876f0a1f404441e95b326315062c09e": {
     "views": []
    },
    "08d1b87110e746eb938ec70d80da282e": {
     "views": []
    },
    "0901e4349e8f473b93dc97479d2a5046": {
     "views": []
    },
    "0964ae8077b049698fa9fb46891be85c": {
     "views": []
    },
    "09effa9065ee45ccb1b2c36fec05b50d": {
     "views": []
    },
    "0a4d0220431f4f1c990372a3d2764783": {
     "views": []
    },
    "0ac2efdc90fb4f3da0df53cc8ff162fa": {
     "views": []
    },
    "0ac7d015a1454bfb9bd2160f0ec3e8cf": {
     "views": []
    },
    "0bda412e3e5c448a8e40ea920f99d3be": {
     "views": []
    },
    "0be0eb655fcb42439083a69cdbe7dae6": {
     "views": []
    },
    "0c28f5eb4e8040e092b246103e8741e6": {
     "views": []
    },
    "0d0bb61fec54487ab0f90c156454e71f": {
     "views": []
    },
    "0d4d989265004ce2b3cdc937ad96b363": {
     "views": []
    },
    "0d5c4ce483414539bbae4e6a64a1eef9": {
     "views": []
    },
    "0d9608141486411994e27a18a7d7055a": {
     "views": []
    },
    "0e55bb31d3ac4310a100e5e9bba1ffc4": {
     "views": []
    },
    "0e5d2890cfa54b6a9c0a25e7d2c7fb17": {
     "views": []
    },
    "0ea46e48fcd2432dbb309458e79f449a": {
     "views": []
    },
    "0eb06b8b43e045eab48a0635b953bc6e": {
     "views": []
    },
    "0eb27667badc4448b57ebc977b0ed26c": {
     "views": []
    },
    "0ec0ba177bf14c7ca092bca437cd593e": {
     "views": []
    },
    "0f1cc67b99c14523b81f1e3da22d3c8c": {
     "views": []
    },
    "1096c6dd67494bd8aa81d2ed3e107264": {
     "views": []
    },
    "10984afc3139441194644de13fc77bad": {
     "views": []
    },
    "10a29d33d0a741b4ba5154232d5bef6f": {
     "views": []
    },
    "10ea38db10f547808b2535fbbe67bbbf": {
     "views": []
    },
    "10f8a985bf4643038088bf4b9622f39a": {
     "views": []
    },
    "112fdb61091d4f5b87bab81880ec7e97": {
     "views": []
    },
    "12052e83013d4498a07ccc37512a31d8": {
     "views": []
    },
    "12fb3c4718944116a0e742038fa42875": {
     "views": []
    },
    "1340ce22fd864f7593027a17d0f27ed7": {
     "views": []
    },
    "135759149bda48a2a6b0e957d4856544": {
     "views": []
    },
    "13933969e15c4042a25c398ba8c2c574": {
     "views": []
    },
    "13c47c36fafe472b900fe381f6899371": {
     "views": []
    },
    "144104381ab9405384eb1866e3400547": {
     "views": []
    },
    "145a12c723be40a6a824b6dfbf97f1a7": {
     "views": []
    },
    "14642c512d8849c39720147adba3c410": {
     "views": []
    },
    "146473a5ac1a43a18d3631e42aabd8cb": {
     "views": []
    },
    "146e37b70b4b4cfeb7eeae4c2e3cc7e2": {
     "views": []
    },
    "1495648c83df41f7826a75f4da02aca5": {
     "views": []
    },
    "15358cf0103742828364dcb7ba87616f": {
     "views": []
    },
    "153ec0a273304f04a72408bcf97a897a": {
     "views": []
    },
    "156f783a473e4af6b4c9282d77ba44bf": {
     "views": []
    },
    "1599b44fbb334feab09bb35424b6c5a6": {
     "views": []
    },
    "15fef625e939429ab2517bc6fe15bb1d": {
     "views": []
    },
    "16040ec073504ddf98ea001f185ce287": {
     "views": []
    },
    "16273a2c714a499f8e256d83fecab62a": {
     "views": []
    },
    "164d54d4d92149c180dc3748da78f6e3": {
     "views": []
    },
    "168619eefeb34b6789599b81d9cf8cbb": {
     "views": []
    },
    "1691e46a73d54c8eb3441844341c6dd1": {
     "views": []
    },
    "169486494b784347b6aab6c1da17b13a": {
     "views": []
    },
    "16d446e5f77d4f91a7ce370585aa981c": {
     "views": []
    },
    "16d902f11c5248bbb35ef8d7d4868cd5": {
     "views": []
    },
    "16efddfc728249efa9118c0f844dedce": {
     "views": []
    },
    "17191215272b4d4299842697ff2e5648": {
     "views": []
    },
    "177465f4dbf64c5eaffd933492df62d0": {
     "views": []
    },
    "1840ede2a8f14f51928314afe3298a17": {
     "views": []
    },
    "1846ab3608364f68ae1daa15f6771156": {
     "views": []
    },
    "187f56e2bdd5428a9dc99ebb413ec7bb": {
     "views": []
    },
    "19133594691442f795a3711bc8d512f6": {
     "views": []
    },
    "1966745e0d494d719093faeef5b4da73": {
     "views": []
    },
    "1975608bc6024a1aa9ddf17575ae93d1": {
     "views": []
    },
    "198938387d4642a4ad7bb461a6e255d2": {
     "views": []
    },
    "19b3e871b9654ba48edf77e7f9c663de": {
     "views": []
    },
    "19bb6a8d07b049dc9141f58e58d4529c": {
     "views": []
    },
    "19d294f26f984cc39f8e00551bec5cb1": {
     "views": []
    },
    "1a058f3b5e1f420d9d82ac347195836a": {
     "views": []
    },
    "1a0d28636d654d508dfa62813a68003e": {
     "views": []
    },
    "1a3f4c9c5a004b0d8b7929f21ae1cfd2": {
     "views": []
    },
    "1a50a777585a4c3ea3b5727b7e58ad0d": {
     "views": []
    },
    "1a6b98da5e284c86990fbc50e5107a6d": {
     "views": []
    },
    "1aa3bc980e144415be3a6551df9714c2": {
     "views": []
    },
    "1ac5f1474c9b4133bf2e90633672fd4a": {
     "views": []
    },
    "1b27de3169b64f04af56cab99e6a78c7": {
     "views": []
    },
    "1b40a1f76558494e8a39c5201e698d4b": {
     "views": []
    },
    "1b53b6bdce3149028943bb2b26600603": {
     "views": []
    },
    "1b86050b2ac64f12a26d1a9486140c32": {
     "views": []
    },
    "1b9ff6e47c054248819d3e877d0a06c9": {
     "views": []
    },
    "1bf4874624c847f780ab46b13a5fb437": {
     "views": []
    },
    "1c25123075e4474e8415e798594ea68c": {
     "views": []
    },
    "1c2d885688644c29b2f6dc653e49d7cf": {
     "views": []
    },
    "1c326bffdd394fe29962300943fc3c1b": {
     "views": []
    },
    "1c858dc4f6a043f09d983efa934ed844": {
     "views": []
    },
    "1ccff1debf6d4461817339184808e022": {
     "views": []
    },
    "1d35d4115e9947fbab0b1db724d99151": {
     "views": []
    },
    "1d58d7aaf0b4467ca7d3fecdd0f44b87": {
     "views": []
    },
    "1d5fb5a1a8994ee384f9e0022b995af4": {
     "views": []
    },
    "1d8214b01dd246a8b1c78d6b83ffd9db": {
     "views": []
    },
    "1d885d50c33b468b8b207f921455f350": {
     "views": []
    },
    "1d984614890d4860b845ee193a1dfe14": {
     "views": []
    },
    "1e03baca07f446429ab8845631ea9c31": {
     "views": []
    },
    "1e1120db1d884de98e677ea3f0fcc9a1": {
     "views": []
    },
    "1e179a42ecd0460fbe61bbdcdd81dd6c": {
     "views": []
    },
    "1e4f5a80032c4b9d8ce1c82e8fb26f36": {
     "views": []
    },
    "1eda45f8f0b2414eabacbd4160b9e650": {
     "views": []
    },
    "1f0bc43cf92747c0ba8f1ab3a8fda50d": {
     "views": []
    },
    "1f5a9252441f4110b24774789c915f7e": {
     "views": []
    },
    "1f6e7b750fd546f6b45f25beabbe8514": {
     "views": []
    },
    "1f8cc1a61f5f40dcb601e220c69fb6fa": {
     "views": []
    },
    "1fb612db4cf446a081fedd170fa0284d": {
     "views": []
    },
    "20004e9ac80046a786de2082fcb0eb44": {
     "views": []
    },
    "205e576b509243cfa92cdb7e4f978d8a": {
     "views": []
    },
    "209ffa1242f144cf861a3a38a214378e": {
     "views": []
    },
    "20a9305d889b4405bc4637a2e5608eb5": {
     "views": []
    },
    "2124b95d19f24b91aabf906ac154254e": {
     "views": []
    },
    "212c5dd415b44202820665e966ccb2d9": {
     "views": []
    },
    "217edadbe5ee46d38b08120bac83848a": {
     "views": []
    },
    "21c83534cb824c0ab405bd238f72aec1": {
     "views": []
    },
    "21d0e9374e704177838200c7c2853195": {
     "views": []
    },
    "22358a881e2b48ffaada117005f5a501": {
     "views": []
    },
    "226eecfa45e44051870d394e958ce0fa": {
     "views": []
    },
    "2293da969e5c41df9a182d6a329cd433": {
     "views": []
    },
    "22c6048d60cb4e239f22ea6c6dcb6c0e": {
     "views": []
    },
    "22f11fe5127c482f8904e65db10598c9": {
     "views": []
    },
    "2374615aa1e2421a9075e8570b2951a3": {
     "views": []
    },
    "23bf6686b29a4969ad07bc83559ac24e": {
     "views": []
    },
    "23c8293fd90c4d9d9868125378c2ec47": {
     "views": []
    },
    "23e8d47384014334b5d2c621830ba57e": {
     "views": []
    },
    "23eca529d3084b1990b18484e476c6b9": {
     "views": []
    },
    "24e3ecc5e9b746bcbfb0e2a5f18fcfd9": {
     "views": []
    },
    "255cff15b0214aa1a74251754c39561e": {
     "views": []
    },
    "25677295c8324b20bfbab86f4018e10f": {
     "views": []
    },
    "258b0d1cf79a4d82882ad4bc1a7e0a26": {
     "views": []
    },
    "259de2637be54110ba08e5597d7ce482": {
     "views": []
    },
    "25c3430b21da4303b989fd39f964771c": {
     "views": []
    },
    "25c96f1ed9d640f3aef1f03e830e8f00": {
     "views": []
    },
    "25f0c4e48c8c460c8f36bab5a063e40b": {
     "views": []
    },
    "2606a9e3f5ca47af8b4a39442fe8f86f": {
     "views": []
    },
    "266c05bc3d1448d4a086c9d1ad7ba296": {
     "views": []
    },
    "267258d2a0dc41c3835a14716f20fef4": {
     "views": []
    },
    "26927c552aaf4e0abeb566b0fd8d1ffa": {
     "views": []
    },
    "26a2484e79f54a0cb9c2d2daedd78879": {
     "views": []
    },
    "26acfd15cfb4438797bb3f5004fb679e": {
     "views": []
    },
    "26fb337e127b4c7daa0e3d190f1a04ac": {
     "views": []
    },
    "27043b75c93f42d79023620a9d9cbb46": {
     "views": []
    },
    "27094e92a36e421894ecbaffc1202627": {
     "views": []
    },
    "2723efb086f74c0abc90b2a465e3c97b": {
     "views": []
    },
    "274a48c3dda243babd3783782dbb3b40": {
     "views": []
    },
    "276703b5923b48a7a5a7b1024e184531": {
     "views": []
    },
    "27e949204af44617835fde1ca1d36ed7": {
     "views": []
    },
    "27ea0fc840844822850407f92b772530": {
     "views": []
    },
    "28064996292f4642931d79d0ceda4639": {
     "views": []
    },
    "284eceb2e452440888ffa109e54facf8": {
     "views": []
    },
    "2851a642e1f84ba798a59a5df3154ea9": {
     "views": []
    },
    "2865add36dcc4b0eb19a5f6c576b4bc6": {
     "views": []
    },
    "286851fc34c842f1b1d8141456e61db6": {
     "views": []
    },
    "2872cca78bfa433188408db44a01c9e1": {
     "views": []
    },
    "28c8417cae6f44dda99d8dd6cd4e8b0f": {
     "views": []
    },
    "28cba52160524b1492c953cee9744735": {
     "views": []
    },
    "2972ce9550f34f28a2f4406b0def63fc": {
     "views": []
    },
    "298a14bab7134f168fd9009891defe1d": {
     "views": []
    },
    "29a986da85394edc9a9ddc486b810e67": {
     "views": []
    },
    "29c86e584a2a4faba4bde55f201440a4": {
     "views": []
    },
    "29cb85e0ad5e4ef1aa070f4dcdf5eb89": {
     "views": []
    },
    "2a375a7d494446cd93b26d186d7413ba": {
     "views": []
    },
    "2a3e2c3bdcf24e87bb44d484b49a4651": {
     "views": []
    },
    "2ad9d69995df49a793f404bb054d4ad3": {
     "views": []
    },
    "2ada8d6fac3d499bab9842322a1b6212": {
     "views": []
    },
    "2ae5c2c9c67f4bd6afd70759653d0c85": {
     "views": []
    },
    "2aeca52694e84f389fe35afdb96c7058": {
     "views": []
    },
    "2b05f6622e6c4955a217a6c9491cbc07": {
     "views": []
    },
    "2b1538e3f389453e8b7223e65b53c20f": {
     "views": []
    },
    "2b6619f60c1c483e996321516936193f": {
     "views": []
    },
    "2bed25a3290f4e3f887a5a891f5a6351": {
     "views": []
    },
    "2c3d44ae61b047e1b8e6ec7d3434228f": {
     "views": []
    },
    "2c48522c9c9e425780fbfae5f88e0a1c": {
     "views": []
    },
    "2cbba8ce951b46d29add3480575a43e4": {
     "views": []
    },
    "2d3147c0c03642439c0331d338534661": {
     "views": []
    },
    "2d436e79646f4de382768a312d369678": {
     "views": []
    },
    "2df4ff287d1a4db19919a1e291648125": {
     "views": []
    },
    "2df5d0e45c3e458c9f0cd418bf17ba2d": {
     "views": []
    },
    "2ebe27af4dea424590f7416697196252": {
     "views": []
    },
    "2fadf230e304419e8624699215eb84d3": {
     "views": []
    },
    "2fc11a9bb9d94df4a0b6c5479ef99c52": {
     "views": []
    },
    "2fcd11386d224b2c9c4d47846c1d6e90": {
     "views": []
    },
    "2fece0012fab4be5bfca8d4546025df0": {
     "views": []
    },
    "3021629d89524b2cb9cffbe38b3d6492": {
     "views": []
    },
    "302abebd2292424b8fdd26cd49e66fa0": {
     "views": []
    },
    "3037049cbe784b829468f01b584c22f6": {
     "views": []
    },
    "304230f053424144abb37977a61196a2": {
     "views": []
    },
    "305f0c1bd8884e5d9109357f13d594c8": {
     "views": []
    },
    "30717abf976f47cba17c433fa411490f": {
     "views": []
    },
    "30971efe121646ee9182570f72d10e50": {
     "views": []
    },
    "30becff71cb444faa13df0d3998e362b": {
     "views": []
    },
    "30e122eac73a40d6a780823ce3485d66": {
     "views": []
    },
    "311ab47e564a46baa5a19976e14936e2": {
     "views": []
    },
    "31d93b18f37f409bab53dbf787fd6c33": {
     "views": []
    },
    "31de124ea78e4ee9b400ab41e714a18e": {
     "views": []
    },
    "31e17b6df8214f2e8aaaa8e22473e927": {
     "views": []
    },
    "31ea3a73c30545daa5dc3d3f65ba9f0f": {
     "views": []
    },
    "31ee69c5f9404b6b824c8747ec65f7b6": {
     "views": []
    },
    "3220da4c3ed242e9b9c679db747bac41": {
     "views": []
    },
    "3272cfd32aa143fe85bd571b692eef92": {
     "views": []
    },
    "329c2543dbb74a6abeafb58c81823c59": {
     "views": []
    },
    "32f1ccd80b8a446f8ff2eedc0e58a0a9": {
     "views": []
    },
    "330888e53a204d5ebee029afb3650c4c": {
     "views": []
    },
    "33526a5a26384f1ab7e909d1d04c899e": {
     "views": []
    },
    "33582fad43774a60965d0f813d436dcd": {
     "views": []
    },
    "33856f6a695740dcb3b5637cc3b60d62": {
     "views": []
    },
    "338ce81c089343d989ba7dfce93ddf23": {
     "views": []
    },
    "33b2bc014c8c4592be0a19388dd8180b": {
     "views": []
    },
    "33ba642694074bc7b92151c42597eae8": {
     "views": []
    },
    "3415433c3a6640eeb2fc035c4c52ae03": {
     "views": []
    },
    "349b5207f0274d2a8a56d7102712c542": {
     "views": []
    },
    "34e13fe0f06c4ae183f125a93e100915": {
     "views": []
    },
    "359109dd1be9470db5b565064503b741": {
     "views": []
    },
    "3591757df6414b50bb4e621dd37b1832": {
     "views": []
    },
    "35ab86ac777544b4865757556c020afa": {
     "views": []
    },
    "35b96261dc74445e8be8035df790c791": {
     "views": []
    },
    "35efd7f0a5c94511853cfadd56345141": {
     "views": []
    },
    "35f769cf6621460c971eca137277b061": {
     "views": []
    },
    "3637e58e841d4121bebca97695d49b48": {
     "views": []
    },
    "367b02efb98846778a60d0b7ded7707a": {
     "views": []
    },
    "367e9ba632eb4c289614f8c89a2ae753": {
     "views": []
    },
    "36a8f2209fec4200adf9df2c5fdbe9c1": {
     "views": []
    },
    "36c9a63f36074118910f1102910a301c": {
     "views": []
    },
    "36d43d7c3e7c4705a6c3398dfca4318f": {
     "views": []
    },
    "36da5d145db4409e9c8c0b25b843dede": {
     "views": []
    },
    "36e1ed09d8024f3abd4f0a7c62e8a599": {
     "views": []
    },
    "36e8b41244af4565a5d8ff76c096f872": {
     "views": []
    },
    "376250a59ccb42849aec1a9b5b129b30": {
     "views": []
    },
    "3798da06eeb94c549cd039865ea496e3": {
     "views": []
    },
    "37add0a51b1746618efeada12e77c118": {
     "views": []
    },
    "37e02fadb6f849ac88d0cb397d411cb2": {
     "views": []
    },
    "37f6fe1e4164467aab54f7f35916fe15": {
     "views": []
    },
    "37fbeff0a5a84d8294dd2ca90a539ace": {
     "views": []
    },
    "390eab2e36384bad833a0f221ccafe6d": {
     "views": []
    },
    "39a4964be20f4c0aaa7cb5527c701cba": {
     "views": []
    },
    "39b0624807aa483b94b6c8471307728b": {
     "views": []
    },
    "3a4b73a2036341cca81598b576da4686": {
     "views": []
    },
    "3ab4b8526f3f44dcadd7f82cb579052e": {
     "views": []
    },
    "3ac5cb9aed144c53b56cb0ccc6bb561a": {
     "views": []
    },
    "3aca3eda22404ef3bd4f1fe51a1046f1": {
     "views": []
    },
    "3b242e701ec64d08ace713b4264f175a": {
     "views": []
    },
    "3b48fc0fc1de478d8215142677b635bb": {
     "views": []
    },
    "3b4d7e75938b448d9cebd0d63c8d5f48": {
     "views": []
    },
    "3b8f753ddf7e4abea362bf06cff11191": {
     "views": []
    },
    "3c7f420a91d4490eac960178033736c2": {
     "views": []
    },
    "3c93d469124e4a90baa37589b9f8ff2f": {
     "views": []
    },
    "3c9db243628e49c28f1e186cfdb6b35e": {
     "views": []
    },
    "3cbb1517f4a9440899afb63711711865": {
     "views": []
    },
    "3d3907b292c24a48bb5b507b419c5bce": {
     "views": []
    },
    "3d8dfe9584284a85a355228346438e4f": {
     "views": []
    },
    "3dc992486b96401e93ed24b085a4ad1c": {
     "views": []
    },
    "3de07534ea244af6860c12c3a56048cc": {
     "views": []
    },
    "3df8b772c5744c189099de8b7f518097": {
     "views": []
    },
    "3e266554b79c484087ad57151a87319e": {
     "views": []
    },
    "3e41753b9b8946a49a27fdd9a1268f39": {
     "views": []
    },
    "3e5ae86e1aef4d95bd3e799342a626a9": {
     "views": []
    },
    "3e98b1205eda4383afa14a2c5d01e325": {
     "views": []
    },
    "3eb4a68e5d4b4d0d81d2fa8e2539e041": {
     "views": []
    },
    "3ef587b52ec94257a45302a3636b18af": {
     "views": []
    },
    "3f2bb26e662442d1ae54e62805ff6ded": {
     "views": []
    },
    "3f5de9c87e1c40b3ad7b6746de32d3d9": {
     "views": []
    },
    "3f9cf1305791479290b89fbacdbb491a": {
     "views": []
    },
    "3fa323620a3d4013a8a9c173fef8d1f5": {
     "views": []
    },
    "40056489436d4f87a7997f4ea4abc0da": {
     "views": []
    },
    "4018044aec1c4b9eb765e060970814af": {
     "views": []
    },
    "4024897a19ec424f86c35e6e240f9603": {
     "views": []
    },
    "4144c90b9a9749ad8143d6d5a8ddb94a": {
     "views": []
    },
    "418e50d28061460980163ad8bed1e98b": {
     "views": []
    },
    "41a73e6d9db640f2bfa4e33b027963ae": {
     "views": []
    },
    "43640744622d49f9bbc83344769edb32": {
     "views": []
    },
    "43660601144344cab2f119d1757839f6": {
     "views": []
    },
    "438219fbec40408c929d2105341a3316": {
     "views": []
    },
    "439f578909cc4393a54bf421cac8a5b1": {
     "views": []
    },
    "43dfa6529ff241679f71e96c9916e20c": {
     "views": []
    },
    "444ea9e07ebb4628ac044bc91f9777d3": {
     "views": []
    },
    "44512a88ad954deba9e103d0ae43022d": {
     "views": []
    },
    "446ebe6b34924847a746d0b02183e3ef": {
     "views": []
    },
    "44821e1df3444431a4b4edb91b9e0ad8": {
     "views": []
    },
    "44982f539c6244b6866e7a8e8d34b02e": {
     "views": []
    },
    "44f683f9bc0a470f90194af97dfd3819": {
     "views": []
    },
    "45386f8e90434823910158b5766cf8d6": {
     "views": []
    },
    "456c175ab6d64c60a3a6a410953c0fba": {
     "views": []
    },
    "45f8384e338a43c88cfced0ae5f554a6": {
     "views": []
    },
    "45ffeb883d504c699bc01bbe49be5539": {
     "views": []
    },
    "464707b659cd41cea63fe57da3b8f873": {
     "views": []
    },
    "464a11eea5b246888e1b18daed2c4e90": {
     "views": []
    },
    "468561d8c9374c60ae3918d98543ad57": {
     "views": []
    },
    "46a7fc06271f4eac974d709a83e8db59": {
     "views": []
    },
    "4701c216d9f94d0284f683c61100bc82": {
     "views": []
    },
    "470c93b5fbf246d981c81ac8994620d3": {
     "views": []
    },
    "472ae67336814318a5680274b4baec7d": {
     "views": []
    },
    "47ce6fb7e16d4d61801894af7f8f8225": {
     "views": []
    },
    "47d1973640594bf6a7a794b1c0cd8413": {
     "views": []
    },
    "48b8ec66e6a646db95053ab8c283fde6": {
     "views": []
    },
    "48cc8ac4409d41f89501ea26ea1827dd": {
     "views": []
    },
    "4929108ef3dc427ea5eb83a470d640a3": {
     "views": []
    },
    "496a42a9a8db4cc1a95fabaa8ff4e51a": {
     "views": []
    },
    "49a8634dcebd43cd926fb7a26e8872b4": {
     "views": []
    },
    "49ca0b0ec20e477e96f8368c5dc7581f": {
     "views": []
    },
    "49cf67f0ed8e4ff181bb67e8ab025b3b": {
     "views": []
    },
    "49f9cad995314df5884cfc0230f3cede": {
     "views": []
    },
    "4a027f171e7843acbf7438cbb12825a5": {
     "views": []
    },
    "4a4bffa1f51c4ae7a756330823596113": {
     "views": []
    },
    "4a71fd5614ff4a2185ff844d1ec13620": {
     "views": []
    },
    "4b14ab68ba37472b8eca80f97665f6d7": {
     "views": []
    },
    "4b325fc8522a4573906977357a732a16": {
     "views": []
    },
    "4bd2ff55af8f42f88925b54de17dba8e": {
     "views": []
    },
    "4bec66cb3486417685170569959262e7": {
     "views": []
    },
    "4c51d238cf6646b9b8bd921bc96a8a04": {
     "views": []
    },
    "4c58356714aa4e4ca6c8e335efe7852e": {
     "views": []
    },
    "4c92c79394e64e8eb6137f53f006d23f": {
     "views": []
    },
    "4c9c423726044065af413adbb2543b0d": {
     "views": []
    },
    "4cbffa7124c44914b388b8c5d671878c": {
     "views": []
    },
    "4cc5e2bc07624634843bdf6a70975851": {
     "views": []
    },
    "4d28e2583499420387f5644320b1d005": {
     "views": []
    },
    "4d2931b745f74682b1e9a74966253cbc": {
     "views": []
    },
    "4d4f4cf0e56543069a767bf19528c38f": {
     "views": []
    },
    "4d4f535afa884dd48d3da018828708be": {
     "views": []
    },
    "4d91c3324663438cbb161b455d0100a0": {
     "views": []
    },
    "4dc2276db8e443ae8f82f4f72bd8b263": {
     "views": []
    },
    "4dde8c8e0f2f481a8a06f0bfbd34b427": {
     "views": []
    },
    "4de1ee18dc5a46f4b0c41ec7c17b1975": {
     "views": []
    },
    "4def43135c204c8ca8c94adcd16792f1": {
     "views": []
    },
    "4e67f94e3b644c4db77e934f1b76e471": {
     "views": []
    },
    "4e7717950efc4553beefead75db87d80": {
     "views": []
    },
    "4e82146fe5264de3864836df57706ea1": {
     "views": []
    },
    "4e9fd48ffafe4fc7b910515b178600c4": {
     "views": []
    },
    "4ed923b5f41a43e190a8188bdd02d8f7": {
     "views": []
    },
    "4f3c32b49ab5487db8fbc39f2c7c9b29": {
     "views": []
    },
    "4ffebcd0c71747e1a6329009866b777b": {
     "views": []
    },
    "50dcc45d55224bc6a9887f1cc0f76b13": {
     "views": []
    },
    "50e3129a16c440f9adf65875c29e6f18": {
     "views": []
    },
    "50fbbcc538b049e5b04528f409ffb7c6": {
     "views": []
    },
    "511273d7d50f4526babc98830096b4da": {
     "views": []
    },
    "512c8108d3f748448d2f3d756da3609e": {
     "views": []
    },
    "5143b86ac04e4e5fb7ac75f7a1f15587": {
     "views": []
    },
    "516e0dbf524443febfe82a80838545d8": {
     "views": []
    },
    "51945a3f9f2c4dd6bfd08ad064023418": {
     "views": []
    },
    "519502493dfe4b2e9a1a6744cf8a4a82": {
     "views": []
    },
    "521a26dffe6b42d181cd5d3c1d6c268e": {
     "views": []
    },
    "5255007d6dc54d49b6f4287c2ab11a6a": {
     "views": []
    },
    "529065971f1a4c438ecd6e0a1e2f61ab": {
     "views": []
    },
    "52ebcaef425f48efa8d93e0a253daa25": {
     "views": []
    },
    "5319e99f2d9c472cb47af72c79e18ad7": {
     "views": []
    },
    "538b57a95c3d489b9d983d6385a9037f": {
     "views": []
    },
    "53f09db45a5b40ef9f48cea294669e6e": {
     "views": []
    },
    "54120ee1ff9a4fb3b8c847bb5e80d218": {
     "views": []
    },
    "5443e7abbf344f548f8f09cf15858189": {
     "views": []
    },
    "54587d90fae34b17bd7bb606fa354208": {
     "views": []
    },
    "54a2d398e1d64707b8a5c08e268020c2": {
     "views": []
    },
    "54ee50f2286246b2871a12d166dcc96b": {
     "views": []
    },
    "550bdac17a3c4e1c8a843f55e4985082": {
     "views": []
    },
    "5531f0c7b3a04a9798fe6000157cedf5": {
     "views": []
    },
    "55c9c27a82c34f58aede1d30a5e34cd9": {
     "views": []
    },
    "55ee5980c1aa41ddb3b7fa12641664ef": {
     "views": []
    },
    "562d07a4f0ec489093db9e24627c0f27": {
     "views": []
    },
    "563c8f8028314837b2f6cddcc728dc53": {
     "views": []
    },
    "56857e7a1760460bbd1e7c97369bf371": {
     "views": []
    },
    "56d8c4bedc174def9e73014bb934408c": {
     "views": []
    },
    "57018a2bdac54a2891d2a9c5285e86fc": {
     "views": []
    },
    "575c32aeceee422187f84f999d807c66": {
     "views": []
    },
    "5764d91d7518430885aeb5a4dd7a5f87": {
     "views": []
    },
    "57668e119e29488e8b6736f796e27ecd": {
     "views": []
    },
    "5779786480d94b9e90ce505b7127698e": {
     "views": []
    },
    "578465945f1f4daf948127682e6c67c3": {
     "views": []
    },
    "57edc4279bdf43dfbbbec0c64870f30d": {
     "views": []
    },
    "5829d295b6ba41a19563ff84559f04b7": {
     "views": []
    },
    "58f3eef6f16846ba9946999ea595ea3e": {
     "views": []
    },
    "591231d8bc5d41b3977e9c49cc1776ea": {
     "views": []
    },
    "591c441c26b84a438734186d59984715": {
     "views": []
    },
    "592bdd9843b740d781ff4732932687ec": {
     "views": []
    },
    "592cf53eda8749499dc743b90bdf67ae": {
     "views": []
    },
    "59e7bd05b0854bce9e5d70f5f9ec923d": {
     "views": []
    },
    "5a21624a51ca40f789dc8b5ad797dce7": {
     "views": []
    },
    "5a236d34b1eb46528786136e19f83edf": {
     "views": []
    },
    "5a3da54d0f8642969b8fb9e5683df542": {
     "views": []
    },
    "5a5a12927ca64f20bebaf2f9d9978e76": {
     "views": []
    },
    "5a8e0c281735457b8d7569bf1de62208": {
     "views": []
    },
    "5ac368699a1346769c65009f5228b5dd": {
     "views": []
    },
    "5addbc2688c24dfab179640191dc4f60": {
     "views": []
    },
    "5c5129a51fea44b9b52069fcd601c6e5": {
     "views": []
    },
    "5c584d7749264e7faf44144e5e00a2be": {
     "views": []
    },
    "5c7d6d24f78549d38bfea8a217963f6c": {
     "views": []
    },
    "5c92b0c09bf8448a9884cbcba00bfb28": {
     "views": []
    },
    "5ca8bf5ee1b64dcda13592fa6201eb8b": {
     "views": []
    },
    "5d848c6669d741708552c275b5600742": {
     "views": []
    },
    "5dbc3159a2f745b7a78834c7dbaadca9": {
     "views": []
    },
    "5dc944ecfd9342cd97271f5bb816e39a": {
     "views": []
    },
    "5dda5b11b2de406498e08acfe1da2d91": {
     "views": []
    },
    "5ddec308cf0d4712a6442da4ef2227bd": {
     "views": []
    },
    "5dff73215f564ddf9de21f0315149e09": {
     "views": []
    },
    "5e5b8bf5d90d42b9899993de63413684": {
     "views": []
    },
    "5ee96b59206140a4a445a9108dab329b": {
     "views": []
    },
    "5ef99a421da44759a7a463f1f0a742d4": {
     "views": []
    },
    "5efedc9005b247238b8377067ec2cf12": {
     "views": []
    },
    "5f38e603587d4a7da953b977ef03da02": {
     "views": []
    },
    "5f4d8dc5be6f4e7180281c726507c238": {
     "views": []
    },
    "5f831138a76c4137be2eef2c1a60499b": {
     "views": []
    },
    "5f92b20d2f3142c6bad6c3d2bc1d6f51": {
     "views": []
    },
    "5fe140e1f3e441aabfa5c7857448d877": {
     "views": []
    },
    "5fe7b60d958248ad9d963320fdc4b8a0": {
     "views": []
    },
    "5feddbfda5dc4143804f9e45283f32db": {
     "views": []
    },
    "6022ce47880f4d46b4b255098dc48710": {
     "views": []
    },
    "605400d6612545cd9509ef4f42da09bd": {
     "views": []
    },
    "608a6988368e4e57be4ee4998ef76d10": {
     "views": []
    },
    "60c9f3fe7a134fc8b179d8deb08da957": {
     "views": []
    },
    "60ef9cf38e5c41ccbd331773e84a87c2": {
     "views": []
    },
    "610050439df946cf85b925f4bc462757": {
     "views": []
    },
    "6124b158c4c049bd82eb200ef6bcfe8e": {
     "views": []
    },
    "61383ae31e5e4839aed47841ae8f36ec": {
     "views": []
    },
    "615c29190a4f410e8bc97a2e70c5d4ff": {
     "views": []
    },
    "61fc7ef6b7c64f1882825ea273152d8a": {
     "views": []
    },
    "628dac455c54468490551d1ae35d15b4": {
     "views": []
    },
    "62e2a9f0a71d461bba18bc4347722a60": {
     "views": []
    },
    "6318ed11e99243b48162bf3d75d286c8": {
     "views": []
    },
    "632256cb557f44e3956e6e8170b93db4": {
     "views": []
    },
    "635919d4476c45c09aec83b2e5076f3b": {
     "views": []
    },
    "639b0dd34d56440b8f9e3bb6780eadeb": {
     "views": []
    },
    "63bcfb22606d49ed81d294093b440b67": {
     "views": []
    },
    "642272d668c34316b1fa918bf6d37f91": {
     "views": []
    },
    "642ed8088cf64265ab41561acb4a2312": {
     "views": []
    },
    "6442e36400564d0c923d92e76bad2a8f": {
     "views": []
    },
    "64497d5f8f7544f0b290a4eda3717b72": {
     "views": []
    },
    "64a503fb7b97410b891b5e69cc02791e": {
     "views": []
    },
    "64c72e663f3c495680360e59313b93b5": {
     "views": []
    },
    "64c95952d71e4bb5a15650b27907e7d4": {
     "views": []
    },
    "65ae3aa19cfd487ba4084e8881ecd514": {
     "views": []
    },
    "65d64d0372834fe189445236c498177d": {
     "views": []
    },
    "65f512fdfffb474e97c60137c51452d5": {
     "views": []
    },
    "66652226572b428fb9416bd029cea5ab": {
     "views": []
    },
    "6806dd8e836c45be866e9e79db6faf2c": {
     "views": []
    },
    "6806e0dfc9b240458e7d384c642a8c08": {
     "views": []
    },
    "6826b6f6893f48ceb86b353351867ff7": {
     "views": []
    },
    "68726295be674da9bc3fc56abc32b97b": {
     "views": []
    },
    "68a46561212e43cf9a433e152f1e9f99": {
     "views": []
    },
    "68b98839460b4014883fac5bfbda50b9": {
     "views": []
    },
    "68c7b773358d49a88c60640fd17bf451": {
     "views": []
    },
    "68df0d9edbec4ad9b0653feb23e5bf9e": {
     "views": []
    },
    "69293d87c59c4862a1d2b4e5fd14cde0": {
     "views": []
    },
    "693b93aec8eb4906b7d08d216b8898bd": {
     "views": []
    },
    "694e671cfa0148a5ab1a998c1d49ff7c": {
     "views": []
    },
    "696f57ab5e56463ca63402649a13be06": {
     "views": []
    },
    "6a48139e12f1453d84601e2865295367": {
     "views": []
    },
    "6a524510be7b49d996d98c7ff2a82c86": {
     "views": []
    },
    "6a5cec3a2b164dbfaef576e433a36f6a": {
     "views": []
    },
    "6a891b8ce3194b4a88791e51e66a0907": {
     "views": []
    },
    "6aaef72ee9274ac1b365100a65d70adf": {
     "views": []
    },
    "6aea9f91b4ca43f0b18aa71a36168fd3": {
     "views": []
    },
    "6af8499572424188870373e041f08aad": {
     "views": []
    },
    "6b24d6e5a6ac48e9afbf0534ae5ff9eb": {
     "views": []
    },
    "6b3445a1c49e46d692411da7359b9af8": {
     "views": []
    },
    "6b38f27437db41f39c8ea86ea79adbce": {
     "views": []
    },
    "6b7366b221254e4cb8e9b07ef0c1288a": {
     "views": []
    },
    "6b9fbdf1ea47469c9c9bf4994e860371": {
     "views": []
    },
    "6bbc96f0306b40c7bce276529e5e0bee": {
     "views": []
    },
    "6bf285ab87df4d33b887a00ca35d42cd": {
     "views": []
    },
    "6c336d85d793402c94ec6c84633adc50": {
     "views": []
    },
    "6c39ec44127740deb68a6690b93972e2": {
     "views": []
    },
    "6c68017870314d0480f1830341124043": {
     "views": []
    },
    "6c6b4c3fa6a64fa6930dd280145fa26c": {
     "views": []
    },
    "6c6e8ae8fe444692871a9d8bb34d6637": {
     "views": []
    },
    "6cb487ce50aa4d189400d8d64b173bd6": {
     "views": []
    },
    "6cc45dcedcf94b248911f8419a0bde43": {
     "views": []
    },
    "6ccaec4b861a49b2837493e1e6634bbc": {
     "views": []
    },
    "6cce449ee06748fe943ea9d76c77746c": {
     "views": []
    },
    "6cfd100372a6469daff31cf967eb1dc6": {
     "views": []
    },
    "6d9913521c414c8e9a1e029c8bc851e5": {
     "views": []
    },
    "6dbc218ac748485392c785c1b62d9046": {
     "views": []
    },
    "6e03c55d002b4c68b07d59dea1b79f28": {
     "views": []
    },
    "6e1db5be6ad84818b35d9de7ac91e056": {
     "views": []
    },
    "6e4ae257202246c4997c9f77958de3c6": {
     "views": []
    },
    "6e8a10f938d94d938152bec70853c664": {
     "views": []
    },
    "6ea83cb9c1334eb69e6a62b6afa51147": {
     "views": []
    },
    "6ed09d2eac67403785699389fd32c3e5": {
     "views": []
    },
    "6efd4a69913f425aa924a8bbb73b1c42": {
     "views": []
    },
    "6f28833eaf9040b0867b8fbd8d2d1d17": {
     "views": []
    },
    "6f2f90d88d994b5685d169bea32e858f": {
     "views": []
    },
    "6f92c3b3315c467a86a8704bcec4a0c6": {
     "views": []
    },
    "6f9e3e60bfb44599ac77ca94ddacf871": {
     "views": []
    },
    "7032002f72ac4424a5ef6af705080aec": {
     "views": []
    },
    "703c5a7855574627ad9883ccdbc02771": {
     "views": []
    },
    "7050a42e10404e35b5fea8316a07fec9": {
     "views": []
    },
    "70c555357b664fe496be6f1f1e208fc9": {
     "views": []
    },
    "70d629428a3b4683a82de368728906ea": {
     "views": []
    },
    "71e31ce5bf6a4faeb4f8831c67772037": {
     "views": []
    },
    "71f22acdfab443c0a9c018a24a1430e2": {
     "views": []
    },
    "724a9ac574e443ed81c6f000cb9d6bd6": {
     "views": []
    },
    "724f3bc28df846c79afa3fe8a548b2fd": {
     "views": []
    },
    "72c47f665cad4f0a885cbea5350a2302": {
     "views": []
    },
    "72c6f0f9378249c9b700bc7b5206632c": {
     "views": []
    },
    "730241ca2e5e456d937ca6ac655a246e": {
     "views": []
    },
    "733681d87537495f85491b5362de93b0": {
     "views": []
    },
    "739604eeab184251a165495a2a6a9b2b": {
     "views": []
    },
    "73a8fb72e2464f0189adcd3354824618": {
     "views": []
    },
    "73a9e70729914d70ad362bf361e5da1f": {
     "views": []
    },
    "73c76dc13189487d80d5c93989a10bca": {
     "views": []
    },
    "7418de5a4fc744e49006693045e45c4d": {
     "views": []
    },
    "744bfd57f7d14111bde1f9c0cc7c1197": {
     "views": []
    },
    "74e42dcbfc6a4799b6114439d908f05d": {
     "views": []
    },
    "74f84b76296e4cb1af6557867177c49b": {
     "views": []
    },
    "75184558f8334bd5890bb0bcd244d9c4": {
     "views": []
    },
    "753935edc38c48b3bbfcc8d15b2ef07c": {
     "views": []
    },
    "756633edbb2245f4aac6a2b70450981f": {
     "views": []
    },
    "75cdc916adf5403891e7779f59ccc2b5": {
     "views": []
    },
    "75dc64604eb047c39fd4c0905995da54": {
     "views": []
    },
    "760ae7d385334224bcd84ba54312cb7c": {
     "views": []
    },
    "76127a60973e409e83a68fe0fe9e2bec": {
     "views": []
    },
    "764beb89739e4b79bfc4b32aa8922713": {
     "views": []
    },
    "7657ba8901044b2e9e5579cf1a540135": {
     "views": []
    },
    "766bb8ff91cc42f5af6d10fc012f1cdc": {
     "views": []
    },
    "768fed719cda4ed296fd492c037468d0": {
     "views": []
    },
    "773b8f58f337402fb42204f4ebcb494b": {
     "views": []
    },
    "775520a40cdb4f4395367aece883b2bf": {
     "views": []
    },
    "77d498eb84b743d2aa6103cc561889ac": {
     "views": []
    },
    "78255a32bf3f448d8124f32df76464e1": {
     "views": []
    },
    "7853eefcda7c465c90447bc90136b0e4": {
     "views": []
    },
    "7866d1ec46944824b3d57372895838ab": {
     "views": []
    },
    "78d99995613449f6a1ff035b29e2c18f": {
     "views": []
    },
    "78f6520c3ee348988edd96917093828c": {
     "views": []
    },
    "78f773c271454caabec6ac35c1737751": {
     "views": []
    },
    "798d4ad03d3f4a879d04e038b7ca2c4b": {
     "views": []
    },
    "79f4870fba634437a5c7ec6000d958c8": {
     "views": []
    },
    "79fc41b5e41146a983ecf7ccffb35016": {
     "views": []
    },
    "7a65a11d650c42fa8b2a1ae62083e11e": {
     "views": []
    },
    "7a76f824b5c14378a54c278f9f1e6a55": {
     "views": []
    },
    "7ab037e6a9074cf0908e0de2221184fa": {
     "views": []
    },
    "7b32c6c1d7db43e996b5a704bd040e78": {
     "views": []
    },
    "7b451f891aa64309b14a0062f5673112": {
     "views": []
    },
    "7b4e241beab949ed8bdb034360f64faf": {
     "views": []
    },
    "7bb1ad9dd3ec49e2b8a47ebeef4865c0": {
     "views": []
    },
    "7bbaa00801124850b6518846efa6d70d": {
     "views": []
    },
    "7bc3bd4a75f14aa789a0fa477045076f": {
     "views": []
    },
    "7c203c425a43441592cc95e2ca232d4f": {
     "views": []
    },
    "7c42316934ec4deabca58769b009782e": {
     "views": []
    },
    "7c5cd19dfae04b5a9edfd81759a542be": {
     "views": []
    },
    "7c8b51f1d1ba4880b51340c01156ddbb": {
     "views": []
    },
    "7ca656356c0d409cbe2a3bee3db42a87": {
     "views": []
    },
    "7cf9adbaa0d24b4abce95f0a23863be6": {
     "views": []
    },
    "7d67f2ac25c8442eaf3e4270a1269b6e": {
     "views": []
    },
    "7d8e75af64244dbbb2fef0ff54066dde": {
     "views": []
    },
    "7dd3d4dec96c4647a8f599155b2679fb": {
     "views": []
    },
    "7e413c4670d846ea821dbc7902076f04": {
     "views": []
    },
    "7e8732241b5f48b8906ca2f8723a5ad8": {
     "views": []
    },
    "7ed39abfce31491dbb46c794357d99e0": {
     "views": []
    },
    "7edf8087dce14d04ac66851c1cdabada": {
     "views": []
    },
    "7ee04d8761ad45dfad99a89c2eecd24f": {
     "views": []
    },
    "7f5392d944134fa1891aa234755da249": {
     "views": []
    },
    "7f7bdc014e664d4b9e966156c4dc0df5": {
     "views": []
    },
    "7f86dbe8d4494701942f0b6641e1b5ff": {
     "views": []
    },
    "7fcb9ec6e36546a5a487e92acd4f4b0c": {
     "views": []
    },
    "800ffbe34cc0452e9f2b600ace72d97b": {
     "views": []
    },
    "804daa58636548fab60615c6e770dba4": {
     "views": []
    },
    "80571a42b3684870b0660d8bb75f36c5": {
     "views": []
    },
    "80643dc5f69e4f46b659b568a22e6c98": {
     "views": []
    },
    "8065071217604d1ea745a942614444b6": {
     "views": []
    },
    "81fa494132ba4b1e84bea6b452c4ecc0": {
     "views": []
    },
    "8254e84796704c8ab58b2cda30519e69": {
     "views": []
    },
    "82b0d9fdd71945b6bedbf38a01cd8e81": {
     "views": []
    },
    "82dc3acabd1447d5a25d7b66fd66d57a": {
     "views": []
    },
    "84597d9f7a244374a284b1c07897dc27": {
     "views": []
    },
    "847bbdf23a1e47438997a7368ccdbb5e": {
     "views": []
    },
    "848cb477fd204f6bb370398ffbf44cc5": {
     "views": []
    },
    "84b7f3b6555748a693dd4e9da217b6d5": {
     "views": []
    },
    "84ce07e9d6e6412f8698ef62b24e82b8": {
     "views": []
    },
    "84ecbb9bd4194a22a6a0764e256f17f1": {
     "views": []
    },
    "84ee8421efb44b3a84be1f58b80d2490": {
     "views": []
    },
    "84f19abd944e45eaa032201ffd589ae9": {
     "views": []
    },
    "851dfcf53ce84ba0b440292bedc2bd87": {
     "views": []
    },
    "852d34c6887843a4a4589df66d8110f7": {
     "views": []
    },
    "85c8af3b9a8846ee8aa66181811e2c55": {
     "views": []
    },
    "863d1ab558894f4381dd29f05722b3e8": {
     "views": []
    },
    "86c8055665294a6f83d7b9e3b5d8c1c1": {
     "views": []
    },
    "8754ffeaa79e40d4b1b48d7e112db53c": {
     "views": []
    },
    "8791451511b848bda6da5f01544a51da": {
     "views": []
    },
    "87c088f1864648b194cf376a2b043956": {
     "views": []
    },
    "881461567bc14f2685fc9a98a73c66a9": {
     "views": []
    },
    "88272a48aaba4babb81b7bb0f881f72c": {
     "views": []
    },
    "8836b105a8334c78b6420814655fd535": {
     "views": []
    },
    "886aa9d8c0a442e686f1c11cb0e458a5": {
     "views": []
    },
    "88e6ffc0d30e41afa5a49a09c4728ff5": {
     "views": []
    },
    "8944b333d56f4db5b7e27ab0690fdb40": {
     "views": []
    },
    "894953541a964f04b2e3bac535cc7a5e": {
     "views": []
    },
    "897642662a2943ae87ad8084dbf3630a": {
     "views": []
    },
    "89b5b744df5d47a2ac08d03a763b3e36": {
     "views": []
    },
    "89baca7925794acc9fca12d0624d4513": {
     "views": []
    },
    "89fc1cf7f6c441f081314a6cc301d841": {
     "views": []
    },
    "8a5b60ce5d4e4108b120bf946f6c53ee": {
     "views": []
    },
    "8ab5619e98dc423cb321bc814b4ca257": {
     "views": []
    },
    "8ad6559dbf91429cae16b28902019593": {
     "views": []
    },
    "8bab0c2d2bdb44b1b4fb0bd4bcc1a98b": {
     "views": []
    },
    "8bad26e28fd840499ad1810b2b15d36f": {
     "views": []
    },
    "8bb95f1e21894acabc98f7939137542f": {
     "views": []
    },
    "8c41f5a5d888496f95596222f2a12592": {
     "views": []
    },
    "8c6317aad57b472383c382cd0f0776b1": {
     "views": []
    },
    "8c7c7f8f71ad43e8ab2831e71306aac0": {
     "views": []
    },
    "8cba93e0430d454aab24709255291d5f": {
     "views": []
    },
    "8cf8430a35a14c2ca0f3d10dfd4948ba": {
     "views": []
    },
    "8d4e8bad873347caa66c92c0bfc0cadd": {
     "views": []
    },
    "8d6986fab94d446387f4ccad0a28ac6d": {
     "views": []
    },
    "8db08fba52ff438c8652c975a2099701": {
     "views": []
    },
    "8dc6c4d9f1644b37addfc7123ad925a0": {
     "views": []
    },
    "8dc6c98b1d2849f6812231b2fbeb887a": {
     "views": []
    },
    "8e02e55dd63645799ce7c57bdc89958d": {
     "views": []
    },
    "8e2345dff8414f079b15c257368b7b65": {
     "views": []
    },
    "8e57e5c01a3049d299de0bdbd53b965c": {
     "views": []
    },
    "8ec10ab742e14a1ea17c9ebce9c7ab35": {
     "views": []
    },
    "8f0f02d4aa2548d2b5a73d4f9aeb1ffa": {
     "views": []
    },
    "8f697feaa21f4155b8f383d88072653b": {
     "views": []
    },
    "8fa9d9ec24704f54b2cbb88ad432b881": {
     "views": []
    },
    "8fad5a611b514fb8899d2c91eff81d98": {
     "views": []
    },
    "8fc1f9024eae40d9981bfdac9900fb2f": {
     "views": []
    },
    "8fc45955cabc4182b9b5c66c5658c00e": {
     "views": []
    },
    "8fe377dca7da45f99aac6e77d9a9eabc": {
     "views": []
    },
    "900038c5a3cc43968b714bb2bafca35d": {
     "views": []
    },
    "90da23e5464449e1a8a1ce80bb065255": {
     "views": []
    },
    "918801badff7435a92b45dfa0f2807ee": {
     "views": []
    },
    "918e477f13dd42eca3a9bbd64a745f55": {
     "views": []
    },
    "91cb1e1eb46a49099d2d072659ae2c76": {
     "views": []
    },
    "91f31fa4ea2740feacaca476a2beded2": {
     "views": []
    },
    "9218db3a1c124526bd3cfdadd5850276": {
     "views": []
    },
    "923eb8253b6b44e6bd97b17124391383": {
     "views": []
    },
    "9254b2b6e73c4830bda8f72da07335c2": {
     "views": []
    },
    "928697aba4054ca59d68ff4605a5c0f0": {
     "views": []
    },
    "928a70faa3714c02b2be6b9a75bfcd21": {
     "views": []
    },
    "928c5e3f19af45daafcf0736d9291758": {
     "views": []
    },
    "92c9eb052e804f17b1c751f614fd5c5d": {
     "views": []
    },
    "92da62e441774a3787c79fce969329e8": {
     "views": []
    },
    "9339d3ff83064368bfc7ad5b2369c884": {
     "views": []
    },
    "943a68d78ae4481e83c93c8253a0bdcd": {
     "views": []
    },
    "94925a9b36284e21ab71e718a82179f6": {
     "views": []
    },
    "94aa15d69d03475695362934bff5c99e": {
     "views": []
    },
    "959b052ed7574707a3ca032fbefab19b": {
     "views": []
    },
    "96407e40672e4999a594ad4f9f07c27f": {
     "views": []
    },
    "966991d77896429eb078abaa7da3ce8b": {
     "views": []
    },
    "966a1478a7a14820937120b88b000fca": {
     "views": []
    },
    "96b3a57b9a494236a3810af1368f947d": {
     "views": []
    },
    "975dfe71224348d9ae1ed20567baf87c": {
     "views": []
    },
    "976b097fb5504a63a20d2b8f2377a44b": {
     "views": []
    },
    "977703b6c77441b99d126f168dc19c66": {
     "views": []
    },
    "97ade4fd6a2443ec9744cb08c9bcb32b": {
     "views": []
    },
    "97fc1a2cf21d49909e6df9b845ff66c2": {
     "views": []
    },
    "9804a38a94434430a0a78d5aec9a8e52": {
     "views": []
    },
    "9830de735bcf4deaa97458e7587e8c53": {
     "views": []
    },
    "9919c1beff5e4c8d90d2c163e48521b9": {
     "views": []
    },
    "994acb4e6590492eb3665d6db83327b1": {
     "views": []
    },
    "9958af9fdb1b49bda04dd3f07e764eba": {
     "views": []
    },
    "997525a5a0ff4491afe71dc1fce8008b": {
     "views": []
    },
    "99bb13b61df14adda0c4937885c03069": {
     "views": []
    },
    "99c6f70b9e74483eaf036ae9791a0106": {
     "views": []
    },
    "9b0a05570d4c484da5c5e620ac02cb9f": {
     "views": []
    },
    "9ba533c689f44a39b19694bb383a9541": {
     "views": []
    },
    "9ba9a065ea17478b96a9feb1fbb312bd": {
     "views": []
    },
    "9bb9932126c64f7792b338fdef341dac": {
     "views": []
    },
    "9bc38184f17a41ddbc83489653326adb": {
     "views": []
    },
    "9bc6f095269143bdabc631a4d4de63ef": {
     "views": []
    },
    "9bf9cb90b2bc45bfb565ac9f11a6cbe7": {
     "views": []
    },
    "9c2eba3949a64a66b0a6f2d63ac308a8": {
     "views": []
    },
    "9c34833143f54e909eae4b0afaaa0c58": {
     "views": []
    },
    "9c38485f16c54a37a43bf0629441538f": {
     "views": []
    },
    "9c52c0911bf546e396ff5162ea17f293": {
     "views": []
    },
    "9cc5134d3a0443139b3f913122443345": {
     "views": []
    },
    "9cd0917adf3d4073adebe5dc35e4baf1": {
     "views": []
    },
    "9d3ea7c49ca0407bb6d4303cd292772f": {
     "views": []
    },
    "9d590eb8f5144648b16f59c6110deb22": {
     "views": []
    },
    "9d9be9438174413c8bd317da595632a3": {
     "views": []
    },
    "9da0313a1d7d4073926788b6762c1ac7": {
     "views": []
    },
    "9dd28934ba6e489b99e1b775063985ba": {
     "views": []
    },
    "9df76e9f3a0944dfb41062a72f01c965": {
     "views": []
    },
    "9e001f3be3c745a9bdff0383cbd12f5b": {
     "views": []
    },
    "9e5909836c16441fa21d4e2ebde6db73": {
     "views": []
    },
    "9e9114108aa6487eab1688e0726b12cc": {
     "views": []
    },
    "9eb0bc2447134172a35a893fdbd9175b": {
     "views": []
    },
    "9ed9ea8931694403918fa65645457c3b": {
     "views": []
    },
    "9faf993979044903b327d129ba8d32c5": {
     "views": []
    },
    "9fff240875bf42a6a8c3792ef41a9ab6": {
     "views": []
    },
    "a01f42c0eed040148c5b42db461624da": {
     "views": []
    },
    "a03db3cbeff04ec49e022e75cf0ee702": {
     "views": []
    },
    "a05187a1498e4a42afb1036da9f49cc6": {
     "views": []
    },
    "a0a81cd9181a42ae9458470336b8cb27": {
     "views": []
    },
    "a0fcbb3a117946de953dfdb50a0ad998": {
     "views": []
    },
    "a0fd6718d34d46babd32761f16e585de": {
     "views": []
    },
    "a187435e500843128e90c9b7defff77b": {
     "views": []
    },
    "a188c458f5a5450e87957bcb75370341": {
     "views": []
    },
    "a1bd68d55f9b4a71a66a87fcaa09293d": {
     "views": []
    },
    "a250a8e5c1544d30b8c39ec667abab65": {
     "views": []
    },
    "a269ab18c8724c97beae48bfc468aab5": {
     "views": []
    },
    "a32e19d63592401c882339f6794bcd61": {
     "views": []
    },
    "a33e1b9a965848469996268398187714": {
     "views": []
    },
    "a36cbf4cb0f646fbb9c63f955de54d3e": {
     "views": []
    },
    "a399e78b02494816b81148548318de62": {
     "views": []
    },
    "a3a01be79cec41c09be3a7273c74c8a9": {
     "views": []
    },
    "a3ef9b7fb7ee4cf094c61cc72be1b47b": {
     "views": []
    },
    "a4471d7d462745189044ce581b5e4fa6": {
     "views": []
    },
    "a4d975f64da249e3b896d5c124b1a3ae": {
     "views": []
    },
    "a513d031a619444db9b2361d1cfc05ad": {
     "views": []
    },
    "a514b727f20d4d969c2e418da124e596": {
     "views": []
    },
    "a515a22c912443c7b9ffcf231a6ef951": {
     "views": []
    },
    "a51f3863a124493d8a278339b8701be2": {
     "views": []
    },
    "a54a42c88d014473b1ef8b2747903180": {
     "views": []
    },
    "a5ae06b2b6584d7bba8280354ed02c83": {
     "views": []
    },
    "a5c6fe0f6a034e108a2e4c3c0f3a289f": {
     "views": []
    },
    "a5f28bdccc9c412ebc8dc4af5dfc984b": {
     "views": []
    },
    "a64b88c785f148c29b6550b6b0c7a79a": {
     "views": []
    },
    "a67e2b3567b54f71be9453f67014a098": {
     "views": []
    },
    "a6eb51c9ab5c48f5a15067a6442f8730": {
     "views": []
    },
    "a6ff7d87195f4049a1fe7b3a53784e85": {
     "views": []
    },
    "a750175f2e294129bfb70a05e4c87056": {
     "views": []
    },
    "a76c5b17ef7c4cfe9cf1f3b1a73b8cf4": {
     "views": []
    },
    "a7e67938b1f84ac5a57f1fa022555b02": {
     "views": []
    },
    "a82361ec6a1240c1bad63e0447b9076f": {
     "views": []
    },
    "a84b85f5421242e79ec57cd5dcecd537": {
     "views": []
    },
    "a8540beae781463e8f8ec998c432c6fb": {
     "views": []
    },
    "a87bc5955cef4f9e85e775cacc9e5236": {
     "views": []
    },
    "a8b532f12d8a4c4e937bb80ded515504": {
     "views": []
    },
    "a8cc96da71164fb0b795852c8fbd5560": {
     "views": []
    },
    "a8ce503cac684a15967147d64602c08a": {
     "views": []
    },
    "a8d06b9e27524793a1268162fe378d8c": {
     "views": []
    },
    "a8dda86ec68349a6aa82689dff701b2e": {
     "views": []
    },
    "a8e78524cb8d40228bbf12f10b213ea4": {
     "views": []
    },
    "a92e847e07d44e408e868a7fde46da01": {
     "views": []
    },
    "a93069fef6324a6f85ae5e39b231df3e": {
     "views": []
    },
    "a958791ea30c490e8ad358ad90484166": {
     "views": []
    },
    "a984c4a985a547248faa68be14df06f9": {
     "views": []
    },
    "a98ba47ad9f6404b9dd1b2f5d6d2d618": {
     "views": []
    },
    "aa20c4cc7b1a44429bf551d971f11bbd": {
     "views": []
    },
    "aaebee22e81b42cf8e9d6496769281b0": {
     "views": []
    },
    "ab0638620da7455cadecb5fae6cda90b": {
     "views": []
    },
    "ab1b0c69897f426bac8d290238c74f96": {
     "views": []
    },
    "ab36037a1f2f4e9ab32d9eea83194191": {
     "views": [
      {
       "cell_index": 3
      }
     ]
    },
    "ab535eacd21f4f5ca22b2902cddee057": {
     "views": []
    },
    "ab6defd8e96a475b822f3978a9e776b6": {
     "views": []
    },
    "ab9e4874bd434d9bbb224af52ad13493": {
     "views": []
    },
    "ac367c2adbb049a2a5ee5a6857f13465": {
     "views": []
    },
    "ac43d18350ae46528444306947fe8d43": {
     "views": []
    },
    "ac615547a8f345e5bddb251de1ce3847": {
     "views": []
    },
    "ac7071c12f2d40fa85368880276c21a1": {
     "views": []
    },
    "acbb731e78f94d4cb3098041c34dc20e": {
     "views": []
    },
    "acd2fb7385d14afe905f39e12c82a5e4": {
     "views": []
    },
    "ad05897e18b84746a569c86bff306887": {
     "views": []
    },
    "ad4a38dbe24f4fa9bad45047735f49a4": {
     "views": []
    },
    "ad631dfde0174db8922c4ed964ee2b90": {
     "views": []
    },
    "adcd0f5773874732ad0f17729f74160c": {
     "views": []
    },
    "adf1750de12840b79d5cf4f13324818b": {
     "views": []
    },
    "ae094a4fbc78430799a89a2522976b78": {
     "views": []
    },
    "ae1cca6d306e496fa7fb6fbfb95eed8d": {
     "views": []
    },
    "ae1d8032e8444cf6b3e34ad8316ddddd": {
     "views": []
    },
    "ae2dda812ca643ada54cd22ba3671299": {
     "views": []
    },
    "ae32738f774e411b9279959df887da04": {
     "views": []
    },
    "ae999b10bf1c4d04bb711525be3ebc11": {
     "views": []
    },
    "aeb31bff934d49f88f27214476b5a5c0": {
     "views": []
    },
    "aed41993011a422b8572e793bf44e96f": {
     "views": []
    },
    "aefe755403d6466d9e562e11147d1221": {
     "views": []
    },
    "afb12669fba846cca9b7376c2596c7cf": {
     "views": []
    },
    "b006cf8fd20541a5993859e654fe4298": {
     "views": []
    },
    "b019c73ed3374734bff21fa768c1187f": {
     "views": []
    },
    "b0282055e4a847389e3347ee93c37cbd": {
     "views": []
    },
    "b02cc733273c48e3ad0d6454049361a3": {
     "views": []
    },
    "b0883ca161af49069f8d6a61d6defb93": {
     "views": []
    },
    "b09986b917564725a5388dc2816602d6": {
     "views": []
    },
    "b0aa894145164c3cbf611d561c336d1b": {
     "views": []
    },
    "b0de08430323417f965b1897ed79ec28": {
     "views": []
    },
    "b14e729748e64680839030f7ccee312f": {
     "views": []
    },
    "b155fc7b37b64ff2b41494141aa595b7": {
     "views": []
    },
    "b1619f675732409db2f7770c9e8d8e67": {
     "views": []
    },
    "b19a1f6f92d34bd5bbf9174c4d693969": {
     "views": []
    },
    "b1eab75c565642eda76b25ad10c8c5e2": {
     "views": []
    },
    "b2016a4ee93140bb955b63d1dc0319fa": {
     "views": []
    },
    "b22d4d57ce3c4362a781151e27b72c86": {
     "views": []
    },
    "b24af57d24e64420978e2e13fc198d61": {
     "views": []
    },
    "b3521e8fbc6e42e69394bcce9e733519": {
     "views": []
    },
    "b3a62ccc267843d8955fc3e67c72046a": {
     "views": []
    },
    "b3a6a897cd5e4d6e835c28272ab507c5": {
     "views": []
    },
    "b3b966a27f9c4a588448beb0694a2acf": {
     "views": []
    },
    "b3c7d06df3434fc18b7818ab499bee96": {
     "views": []
    },
    "b40d6b21ace3470c902bb73dc3e7faba": {
     "views": []
    },
    "b42f29bf67594a3f80b3ba4463ff14d7": {
     "views": []
    },
    "b43da978e995419990c0294b8d2e9017": {
     "views": []
    },
    "b452f44192a74c8386fa0d6aa1e0845e": {
     "views": []
    },
    "b4669b88ccf44414bddd334cd4b86ea2": {
     "views": []
    },
    "b49eb87b39e14954ac35029fb56489f5": {
     "views": []
    },
    "b4e0caefb9724567ac40ef8edf7de9ef": {
     "views": []
    },
    "b5b8496ba1724c22b4456811bc28e5e7": {
     "views": []
    },
    "b5ba3ec8bc8049afa59da7eab69c9470": {
     "views": []
    },
    "b6a8e8be38634d589ef8b54eea0d106d": {
     "views": []
    },
    "b6b3bc69b5054c82ba796e2e08f51b7b": {
     "views": []
    },
    "b6bff24d77b441ed80f86ef61821e9f5": {
     "views": []
    },
    "b752e30a8ddc4892a63b4ac345d1793f": {
     "views": []
    },
    "b7a92a8cf39c4960ac411dfda43617cb": {
     "views": []
    },
    "b7ece6c4ab4d44f9b7ba0e8f3fa70b73": {
     "views": []
    },
    "b7f55d0370cd4dc18a6d427daf03e5fb": {
     "views": []
    },
    "b80ee3e6528749888999b2faf9386348": {
     "views": []
    },
    "b82aeb40aee9481eacf374d36f153227": {
     "views": []
    },
    "b846e1bd67e343e4a0645515939b97e8": {
     "views": []
    },
    "b85ad539b0e84c318f2f109fac624d20": {
     "views": []
    },
    "b8be28bb8f4544e9a6bcc8a505f0dd8d": {
     "views": []
    },
    "b8d91d3a4d86484393a7d7caa8d02693": {
     "views": []
    },
    "b94e9e5eedf74aa6abbfedbf70f7d309": {
     "views": []
    },
    "b95ac08910be4288ad93530aed30ae1b": {
     "views": []
    },
    "b95d182c8f5e449bb4848940d909e691": {
     "views": []
    },
    "ba08cb3d23bd4fa7ae76e7675bed9d6c": {
     "views": []
    },
    "bc00010658f143f78758ef260d275c0f": {
     "views": []
    },
    "bc0f83346c224d5883f889d849496bc3": {
     "views": []
    },
    "bc495826a469489a8f14c637e0433e1a": {
     "views": []
    },
    "bc7ea5323cec4d93b5524c5064d364ea": {
     "views": []
    },
    "bc80988bde0f4f93b8cebee751f8539b": {
     "views": []
    },
    "bc9c28345f62479ca451c1d9a6f14ee3": {
     "views": []
    },
    "bca9e7ef5dcb4e08972145446ec69c30": {
     "views": []
    },
    "bce5641c1d874b549993ecf7e1f4f1d9": {
     "views": []
    },
    "bd821d765fc44094b3b50de5afdc3251": {
     "views": []
    },
    "bd927b330e5742a79570e3401c7d4acc": {
     "views": []
    },
    "bdcfc440793546f89194c962e08b5231": {
     "views": []
    },
    "bdf04acc97614133a8de78197c97e61a": {
     "views": []
    },
    "be5762e4fee640048cb8acacf80d5a97": {
     "views": []
    },
    "be5a0fac6c9b438b9bab08e23ba8ffd2": {
     "views": []
    },
    "be9c35c202de4cae924e1362838ae677": {
     "views": []
    },
    "bea224c1bfd840888e56ed9434e0a428": {
     "views": []
    },
    "bebedb5bf5d040de984ff518fa5dead7": {
     "views": []
    },
    "bee63b75fa214b0ab36dd037546e92f7": {
     "views": []
    },
    "bf25b08f98b645a783eaecf28b324ee7": {
     "views": []
    },
    "bf79072b09fe41c39f201914b51f0af2": {
     "views": []
    },
    "c0bb6ef69c9d421ebb61e3d65522dc4a": {
     "views": []
    },
    "c0ddd8e0327e4164974ce1236c00f00e": {
     "views": []
    },
    "c1158fe9c08f45ceadc49b8f8cf6d07f": {
     "views": []
    },
    "c1164e79056e45aa9a5d8ac757083184": {
     "views": []
    },
    "c1f67cb5fa7b4140bc7627244c32b535": {
     "views": []
    },
    "c2b23b3fb9194f01bbe808621e8be49d": {
     "views": []
    },
    "c2f07380631d44fe9549befe72351c92": {
     "views": []
    },
    "c2f6823a04314920b869e91b666ea253": {
     "views": []
    },
    "c3450a118bd94d0d80a396cdecfa466f": {
     "views": []
    },
    "c373a34bc0ca49f7b31c2e44104cb0cc": {
     "views": []
    },
    "c3784d744c8448d78485ad2c9c7359d1": {
     "views": []
    },
    "c3a009bd8b9b451fb340b55d92688c70": {
     "views": []
    },
    "c417dc544e994c82aa48d0ea47b4eb52": {
     "views": []
    },
    "c45048f6710d40a899c8ebfd97789166": {
     "views": []
    },
    "c47fe72c7fb447a0b5e09620b15360c8": {
     "views": []
    },
    "c4a912db56bf4b76bb8388ea7b21296d": {
     "views": []
    },
    "c4f9d664b6b14f15bc0043a874296922": {
     "views": []
    },
    "c5422ae6351640649e20ad8a8e613a22": {
     "views": []
    },
    "c55aba4831f644f1ae30d4c2e8868d29": {
     "views": []
    },
    "c58411d1a5a345659fa07d64200dadec": {
     "views": []
    },
    "c5a2ed1f39c74802a4632e9e80405ad7": {
     "views": []
    },
    "c5b2d0e4a0ee4b43977fe8e3bf3831e1": {
     "views": []
    },
    "c66a9c9814164a58abccaf4e3fae2311": {
     "views": []
    },
    "c69fc4cdd19442ae8d908eff792471e8": {
     "views": []
    },
    "c7227428ca554fb29267b815c5ff901b": {
     "views": []
    },
    "c72e5f82b6f543dea9a5f9df223bf02b": {
     "views": []
    },
    "c7362a2767424598a02287aa40fd3ca6": {
     "views": []
    },
    "c75a05e9fb3f475793e67828e0ef2490": {
     "views": []
    },
    "c75ace0db42c491b856910b061ba58bf": {
     "views": []
    },
    "c7876190454a453c87a2b699bee8516c": {
     "views": []
    },
    "c78d96c9a67c4863a36bb748ff4b17d7": {
     "views": []
    },
    "c79c92d6162e46b1a591f5ee3c641dab": {
     "views": []
    },
    "c79ddf33b3ab41f79a130af384a4d0c6": {
     "views": []
    },
    "c7d4aed4102248c895aa72372ae26c24": {
     "views": []
    },
    "c81c2ba095934775857df3d37f4d0399": {
     "views": []
    },
    "c81ee6982f3646259ecc266529780a62": {
     "views": []
    },
    "c832ecc8a85e4cd198f2ff77b8927544": {
     "views": []
    },
    "c878fe281dcd424ab4e349a4e51593b4": {
     "views": []
    },
    "c90e40ef1f334562bb9d73c7f1630f12": {
     "views": []
    },
    "c98e9026d76946fea218ffb2b72e1626": {
     "views": []
    },
    "c9c5bacccf08439199676a138b6ae2dd": {
     "views": []
    },
    "c9fbf8dc24f1478c8216643f91beb0a0": {
     "views": []
    },
    "ca05d7cf39a0428dae8b464c55e9c12f": {
     "views": []
    },
    "ca107f16663341ac8b2856067e824abc": {
     "views": []
    },
    "ca7bc49864074325baba954062648918": {
     "views": []
    },
    "ca891a24364f49bf88d6d188144a85fc": {
     "views": []
    },
    "ca8f4a9580454c13a28414a88b41a6b2": {
     "views": []
    },
    "ca91f54d77d649e68e149571a094c8a8": {
     "views": []
    },
    "caa0548e15614ef7b95189f6ead9b0da": {
     "views": []
    },
    "cab13ffb3f3145f1ba1460c8462267e1": {
     "views": []
    },
    "cae2e6ab3e5a4fcb98056faadcc19996": {
     "views": []
    },
    "cb3ed62970f54b63a4e69a9352601dc1": {
     "views": []
    },
    "cb8cb9d4f352468ea79cde454e8c642f": {
     "views": []
    },
    "cb969a7c4de84fe49cc06553f0286ee3": {
     "views": []
    },
    "cbb7c4f87d4640f2bc8751db9d0828dc": {
     "views": []
    },
    "cbffbd7c64734e04911cd5c517fe503b": {
     "views": []
    },
    "cc00e63bbc184ea9bb2a8f21a157c9b6": {
     "views": []
    },
    "cc106d454ec84cefbde0435ccefd05c4": {
     "views": []
    },
    "cc119b32dab942439a7b4c994577e0fc": {
     "views": []
    },
    "cc12420b3cd24ee7b5ab971f98e6ed9c": {
     "views": []
    },
    "cc14550327d448539e4ecb7895b4848b": {
     "views": []
    },
    "cc283fc09823404385214dabfead0958": {
     "views": []
    },
    "cc2ac7f601ec44ccb381c18f024e695e": {
     "views": []
    },
    "cc61cf3e6c6b40e99c7cad3fea2b262e": {
     "views": []
    },
    "ccc1f35ace254cac9c6bdaba288b94b4": {
     "views": []
    },
    "ccfbb88e70704951857b17f0a5483351": {
     "views": []
    },
    "ccfc5b7b03394f88a7bf6650e2089a45": {
     "views": []
    },
    "cd6bd5e6c84446bf890f841888c61964": {
     "views": []
    },
    "cd6e79e597e340b89ab2d8b67c727905": {
     "views": []
    },
    "cde5f6b0f009433aa4f4de86000639c5": {
     "views": []
    },
    "ce72696edbd74df0bb7848df43b9b9a7": {
     "views": []
    },
    "ce9fa9003ab34d59b3d0617312f34c86": {
     "views": []
    },
    "ceb42ff659364e919d482c4e6ad421c5": {
     "views": []
    },
    "cf70b291cb434dfcb2554e9f9e98b9fe": {
     "views": []
    },
    "cf9202c491fe4501a522f41689fe3efc": {
     "views": []
    },
    "d01df66f76d04933ae33cdde478218d0": {
     "views": []
    },
    "d02fe93fe85a4afcb92e038af984813f": {
     "views": []
    },
    "d06dcc61803f4d7094125003154bd89a": {
     "views": []
    },
    "d0851820eccc41f5be6ba689f9b040b5": {
     "views": []
    },
    "d09d722435c2471b98553ba904f11cc8": {
     "views": []
    },
    "d0be0beb50164e8aba9c9ad4cff459ca": {
     "views": []
    },
    "d0f8424622c74cbe95f2a80a99ae3864": {
     "views": []
    },
    "d10f8e3a0cc34efaab5141dcc4f66be7": {
     "views": []
    },
    "d18ef4bd78c44891b75ebad0b2ab07a1": {
     "views": []
    },
    "d1da205651d341c8bb8e832ed2f0de0f": {
     "views": []
    },
    "d1e2ba8a386c405880bc464776dd2ecf": {
     "views": []
    },
    "d1e436df1c844e19a40311b3c56d8e51": {
     "views": []
    },
    "d2269ab90722435ea9438944189fb1ea": {
     "views": []
    },
    "d2481d95f946454e9f1f33b18cf99e4c": {
     "views": []
    },
    "d289c9e1d97e4d47afccdf3f88be3c52": {
     "views": []
    },
    "d2a615a5da724adca743e6a278d53d3b": {
     "views": []
    },
    "d313c307f586482e8dec3513883e8cbb": {
     "views": []
    },
    "d3a058980a9b45db8882d74bfd46a807": {
     "views": []
    },
    "d3d42f2017c84322939f036feca1c476": {
     "views": []
    },
    "d4064320f7004cb7bff3881dbd123ba1": {
     "views": []
    },
    "d4a59203047949f19941b793f8b20458": {
     "views": []
    },
    "d4a78001cd214e27b1adb0d8927c1e47": {
     "views": []
    },
    "d4d5e9847ec54597af7d8796820ba8c6": {
     "views": []
    },
    "d523423686c843a4b6aa9f60eed19482": {
     "views": []
    },
    "d5253dfeba804c7d8287444785c113dd": {
     "views": []
    },
    "d53439d7f3fd4e32852479bc0a9232d7": {
     "views": []
    },
    "d54bd38f166447849eae605d12708778": {
     "views": []
    },
    "d596993c20324b60b73d5081e57406e8": {
     "views": []
    },
    "d5e5b26a9c5d4a4c904366d0b93fc3e9": {
     "views": []
    },
    "d620f518af804c40ad6be04a4d97add6": {
     "views": []
    },
    "d6a3af1a3f08470db4a1a9db0e038b66": {
     "views": []
    },
    "d6cc30bfd74f417c8c37b31165baa8a7": {
     "views": []
    },
    "d6cf4fae93504f99aaddaa5215ac2da6": {
     "views": []
    },
    "d7636993c90f4523848250dc35ac726d": {
     "views": []
    },
    "d76a7c0cfd3740359ebde9bb9aa812a2": {
     "views": []
    },
    "d7e67e2032104db48bb436ec7e4c3d95": {
     "views": []
    },
    "d7ea8d98523549b1abd4f87ac82fdeaa": {
     "views": []
    },
    "d7ef1dad2caa4a0cbb1ca5b2a0f66b9b": {
     "views": []
    },
    "d7f60d29d6e341a3b9cb41df61c6e6e3": {
     "views": []
    },
    "d8b3479dbf34456a8cd4d3189bb276dc": {
     "views": []
    },
    "d973edfb952045d9b09125394241d729": {
     "views": []
    },
    "d9d8885638dc4c7c92a9ae06df2eb060": {
     "views": []
    },
    "d9f95ca73cc2406393c0dc99cd55141a": {
     "views": []
    },
    "da18776b8bea4eb9b5314c2bd3386c3f": {
     "views": []
    },
    "da29e9abcd49435fb57e7b5d0fd18ede": {
     "views": []
    },
    "da4ee9f8380149a88e3421f449e22461": {
     "views": []
    },
    "da5a15bfb6d04d4b8f44b4bfa3800f7a": {
     "views": []
    },
    "da6a95eca1f046bca42b94198f0a7185": {
     "views": []
    },
    "da6beb6f75134252b1c04a66ad9305e7": {
     "views": []
    },
    "da8a5dc7159f43a893a0e8639a174b57": {
     "views": []
    },
    "da9ab668c4cc4fd48abde25b501a1580": {
     "views": []
    },
    "db0a255e43d94b9ca82a1845f696850c": {
     "views": []
    },
    "db40c5bc3c8946d5a8e4defb1501a158": {
     "views": []
    },
    "db606024e5e0409e8e821d39452d8cae": {
     "views": []
    },
    "dc05b216f2784b3d9e87dc647fe02c8a": {
     "views": []
    },
    "dc21e0786310450aad77fa79180f4751": {
     "views": []
    },
    "dca2a37b60cc46568e67abe76f86cb02": {
     "views": []
    },
    "dce7bcd8617f451bb982f2a4bb8a044b": {
     "views": []
    },
    "dd850a5bb4484f6397bda44bdc75c168": {
     "views": []
    },
    "ddbd5740d8cb43e28c576ef4bf686a56": {
     "views": []
    },
    "dde7c8ded3b24e61909b24677153bdb9": {
     "views": []
    },
    "de187313479e4aa5ab5fe455678bee7a": {
     "views": []
    },
    "deb4cb5297d14e9c89cdff29c62cdda6": {
     "views": []
    },
    "dee37d0bb239424f847fde966c8999e9": {
     "views": []
    },
    "df0440e8263d4bd2be43a07430736ee2": {
     "views": []
    },
    "df0dd202d13c4a20a20f77afbcd84d3c": {
     "views": []
    },
    "df0e5caac99049eca0e3272c1a88b13c": {
     "views": []
    },
    "df9775be9c164eba85c44eac5b328218": {
     "views": []
    },
    "dfe8087cf4214a4c8a99477b93f5765e": {
     "views": []
    },
    "e011413901704573b072534b60f4d909": {
     "views": []
    },
    "e09eab6a12364ff885ea713186a6f6f2": {
     "views": []
    },
    "e0d7f4049a494ac6aac81f03908a49e9": {
     "views": []
    },
    "e13720aca6ea43a2b4109c0179552f4c": {
     "views": []
    },
    "e1f35a012853444d9319557a4285a33f": {
     "views": []
    },
    "e20edfa4046e4ba79c15858cf476ac13": {
     "views": []
    },
    "e24428b7145b4b5c8a49fae00c0540b9": {
     "views": []
    },
    "e2ba6e31f4e04265a76bab1d5d95e844": {
     "views": []
    },
    "e2ce557f00e74a00884eb7ecdc984303": {
     "views": []
    },
    "e2d99cf13d9d4c1fbe677b18e3990fca": {
     "views": []
    },
    "e2de75d6b13e4562a0f4ef25eeca555b": {
     "views": []
    },
    "e2e5e15cf3f642e48b23b5a97ee67986": {
     "views": []
    },
    "e2eadc1a4a8244f292c8040f254169d4": {
     "views": []
    },
    "e31f4e60c82e4718a2bfde40051b7cfd": {
     "views": []
    },
    "e32a4f6cd13a4994b3f7c948968683eb": {
     "views": []
    },
    "e3b8685ae3ba46e89053a2cec51bf7f4": {
     "views": []
    },
    "e468191dbdb249b291405e5d4359f174": {
     "views": []
    },
    "e485ed3eb1614326813acf7dfa035e37": {
     "views": []
    },
    "e5321005a5a1489ca69410b5be21b884": {
     "views": []
    },
    "e532bf59479f4b2ab31aa37abd2581d7": {
     "views": []
    },
    "e560e346ce2b4a79884fcb5d7212f9ef": {
     "views": []
    },
    "e664152ee9f542aa8a2c6722640ce3db": {
     "views": []
    },
    "e6f0dfc413fe46269725b6ac74d233f3": {
     "views": []
    },
    "e73e6c032b7b4815884a39a054ba32ff": {
     "views": []
    },
    "e855d434f5164244898a7703952410f5": {
     "views": []
    },
    "e865f813e04043f29ebcff4e0abfdbd6": {
     "views": []
    },
    "e8b7b7752b9c407c848118da1bfb23f0": {
     "views": []
    },
    "e8bb4573286e4b78b35537402b270f31": {
     "views": []
    },
    "e9090a232d8249c4b5bc5779930a94e4": {
     "views": []
    },
    "e91de7efda6d4dc4a9ba0e7dcbc5ac58": {
     "views": []
    },
    "e940676219e649ae8006f3fbf785f121": {
     "views": []
    },
    "e964f55c9c544bbb8b2330880915eb84": {
     "views": []
    },
    "e9b9cea9790a42f980d6a47fb8ac4a91": {
     "views": []
    },
    "e9e97f7d75924e5b8379141694b11733": {
     "views": []
    },
    "e9f167493a0549c2afae08fffb841725": {
     "views": []
    },
    "e9f3d38dcaa34379bb9eb3e2be7cfef8": {
     "views": []
    },
    "e9f4f2fec95146ef89ecffe0eb858f7f": {
     "views": []
    },
    "e9fc88ef703b42b683a0ca1cc5edda8c": {
     "views": []
    },
    "ea4b35642dc04e5ca32b00609253984a": {
     "views": []
    },
    "eb058d9ae7f54667a0dbe2b94217d495": {
     "views": []
    },
    "eb09c2e0eb0443b48a4e2cd3667dd7fd": {
     "views": []
    },
    "eb3bbd36be8543a28c44c9829d4419d7": {
     "views": []
    },
    "eb66741590424e7c99af1feac4750e9d": {
     "views": []
    },
    "eb7b3c3b77534babbd4f7412460fbcf3": {
     "views": []
    },
    "ec6ecbb13fa444a0b70537b79356ed0f": {
     "views": []
    },
    "eca2fcada3d44c059476dd62be9f0d23": {
     "views": []
    },
    "ecdfd2a07e4f4dc896d62db3d667e702": {
     "views": []
    },
    "ece6fa00bf054b979d96064594b0562e": {
     "views": []
    },
    "ecf3611c47414f0d9dd3c55bef5de033": {
     "views": []
    },
    "ed38c444b0f2433ea87af44481225774": {
     "views": []
    },
    "ed5b712da5f945f0bc5b1387c2cff66c": {
     "views": []
    },
    "eded98b5d0584f0b824174af581c5eb3": {
     "views": []
    },
    "ee06dd1e7b34464e9a0ea3885e01d3c4": {
     "views": []
    },
    "ee39ae96aaea4e20a5a8314ff4fb310f": {
     "views": []
    },
    "ee64b4e371a74ad7abac08f350d5cb65": {
     "views": []
    },
    "ee822bf5e85540b3aa8dd7fbc57dc5a7": {
     "views": []
    },
    "eeaed43f5b1a464b85e8f2a08fd6d284": {
     "views": []
    },
    "ef6eca3dff7847b0916ae9c0bbe861cf": {
     "views": []
    },
    "efa2139ef6a7438fb325c45b930d8a45": {
     "views": []
    },
    "efce577263774ef39374f3544c460711": {
     "views": []
    },
    "effe5d6f10e04fe88eccaf4283ba4ecf": {
     "views": []
    },
    "f058ae5e41754fe39a012cfd8d654383": {
     "views": []
    },
    "f0c56bbc51b04b1399b2a834c60f4698": {
     "views": []
    },
    "f0edd97c495d48a4ac4da504d2433bb7": {
     "views": []
    },
    "f10d400edc234c85b4e7ed1f8544a384": {
     "views": []
    },
    "f153ebd1a47c4e34aee64e6b5ed45c71": {
     "views": []
    },
    "f169e68b0e9e411e824a28443a36236b": {
     "views": []
    },
    "f19057a112a846bb9019e3a99c0fbaea": {
     "views": []
    },
    "f1da364c2bb343b799f4441a805806f1": {
     "views": []
    },
    "f22814d4bb9c475a99717fb5c18c35d9": {
     "views": []
    },
    "f23cf0644460431096626e3c774488ab": {
     "views": []
    },
    "f302667ddcb045fe983b63de1e5a93a4": {
     "views": []
    },
    "f359e79c337c4516810e34400bcbd0e0": {
     "views": []
    },
    "f3745794003946de937d1d05872f3915": {
     "views": []
    },
    "f375d6b901d74c74bacbeceb3e3d8ca4": {
     "views": []
    },
    "f3a2290c0d8f4199b773dc118d221ebf": {
     "views": []
    },
    "f3cbbbd420394b55a4a98fbf2119d02d": {
     "views": []
    },
    "f3e057a821814ae198ed427b3e9c1f7a": {
     "views": []
    },
    "f3ea4b93209d4786aca09f77c3118102": {
     "views": []
    },
    "f40a130bcee44b0e83dd96578558aa47": {
     "views": []
    },
    "f4769c1e08e34a3285ed1bb52df2b247": {
     "views": []
    },
    "f50f72fc7deb4d20a9449fc53427d2e3": {
     "views": []
    },
    "f519f905c8f1449fb3ee1d41b8b3f2d1": {
     "views": []
    },
    "f5ba6ba62a6c475387e06a4f403e6a90": {
     "views": []
    },
    "f5df1730eac8440fa3200087c1b26de1": {
     "views": []
    },
    "f605a61d2cf84bf8affe1a615e8d38bc": {
     "views": []
    },
    "f611326733554799a6dff83912ceede1": {
     "views": []
    },
    "f6585137cf92422eaf4608c350bfce13": {
     "views": []
    },
    "f76bc8ea405d419bbaf562619d418a04": {
     "views": []
    },
    "f7bd9d6657e64322b34cefe9d613167e": {
     "views": []
    },
    "f7c2db0f6e604246a8e99693b626d1ff": {
     "views": []
    },
    "f7cfaf5ba5fb4d4fa161cde2a8a522a1": {
     "views": []
    },
    "f7d8fa80d2624234909ca99ca563de60": {
     "views": []
    },
    "f813ddfdb2b244329c4fb99d29d81c02": {
     "views": []
    },
    "f8187eb519c24246b81bfd8b450ba808": {
     "views": []
    },
    "f82579bee37e44da8f9498997b433530": {
     "views": []
    },
    "f830e4673c2649818c7202b82e60826d": {
     "views": []
    },
    "f8775a7532be48dd9c11a9561cf990de": {
     "views": []
    },
    "f88470dae4814153b966a039ba2ccd66": {
     "views": []
    },
    "f8880c94e69f40338875ac6c981bb08b": {
     "views": []
    },
    "f8965027c46549a1a4c204276092b0fd": {
     "views": []
    },
    "f8b9415fed4e4bc199f5130ce2c1088b": {
     "views": []
    },
    "f8c2fa5649cd464c9fe65fdde52ba74a": {
     "views": []
    },
    "f8e4a24609534f719cbf925dfe78bde1": {
     "views": []
    },
    "f90e5d0b8a7d42eb967ad8f1d85f9070": {
     "views": []
    },
    "f9550cde65944d1d9bb02ce102fdece0": {
     "views": []
    },
    "f9e1060c2fb34c9abeb5c9e60a468b32": {
     "views": []
    },
    "fa02534e35c84756b4ac506747d3972f": {
     "views": []
    },
    "fa0bda1ba9604c37830a79b065379290": {
     "views": []
    },
    "fa7da5e1493e4cf3924a7bf3b288edf3": {
     "views": []
    },
    "fbcc7b4452234d5289c2a9996d0e2845": {
     "views": []
    },
    "fbd14e346ba54efaba73687bb267d839": {
     "views": []
    },
    "fbfeb54a01ef456daae98c28f9191a4b": {
     "views": []
    },
    "fc08b937b95e4600b42f62bc26a84d7a": {
     "views": []
    },
    "fc298d187f19445997ad8edc9512d1a3": {
     "views": []
    },
    "fc647780a4534c80bb281b152283d078": {
     "views": []
    },
    "fccc1055fb0a44c295b22e44c98e3f4d": {
     "views": []
    },
    "fce5a9de7a9642dbbcd0bcc8123e5727": {
     "views": []
    },
    "fd24022c284a48919be21befba0ee5c9": {
     "views": []
    },
    "fd3a5ea1777044bba38fdbaa6360d3f0": {
     "views": []
    },
    "fd3bae51eb044926a4dad1e8cc7a7a2c": {
     "views": []
    },
    "fd5feb247169480380ec3f606afa17b3": {
     "views": []
    },
    "fd7b5f9285a44c2681594a6f6610a9c3": {
     "views": []
    },
    "fd9aab2404904bf7ba29cdaf6486a683": {
     "views": []
    },
    "fdb46357fb5945e38ca1527055a4c5cd": {
     "views": []
    },
    "fdb94dede4684a909e98bf30f043990f": {
     "views": []
    },
    "fde5790b67f342aabe5d2b8dd60d75d9": {
     "views": []
    },
    "fde987f6794546a69e53c6c85b2e0dab": {
     "views": []
    },
    "feb0830cd5444a07929c4ebc77debc99": {
     "views": []
    },
    "fec0686216f348d6815cccd220b29614": {
     "views": []
    },
    "ff07335898e248bb9f0c49b62768591c": {
     "views": []
    },
    "ff0f63f77d6d4d2399740f47986f2fa9": {
     "views": []
    },
    "ff429346378b44089bedf23b875a414b": {
     "views": []
    },
    "ff6d542b6984467e9c19c268fc291318": {
     "views": []
    },
    "ff762cd8d737496dac38cb97ffcc40d5": {
     "views": []
    },
    "ffabf36db4614fffa8b8513b5f462f49": {
     "views": []
    },
    "ffc0792652af429c9aef35a0cd562773": {
     "views": []
    },
    "ffd50cace44c408285c4e86a42fd4dc9": {
     "views": []
    },
    "fff65fc13e3347db9db25ea156cff356": {
     "views": []
    }
   },
   "version": "1.1.2"
  }
 },
 "nbformat": 4,
 "nbformat_minor": 0
}
