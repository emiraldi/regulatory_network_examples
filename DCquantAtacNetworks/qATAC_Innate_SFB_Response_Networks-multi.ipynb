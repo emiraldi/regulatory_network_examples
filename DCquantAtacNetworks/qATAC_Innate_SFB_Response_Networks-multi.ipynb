{
 "cells": [
  {
   "cell_type": "code",
   "execution_count": 1,
   "metadata": {
    "collapsed": false
   },
   "outputs": [],
   "source": [
    "# Transcriptional regulation of genes responsive to SFB\n",
    "# For information about the interface, see:\n",
    "# https://github.com/simonsfoundation/jp_gene_viz/blob/master/doc/dNetwork%20widget%20overview.ipynb\n",
    "\n",
    "# GOAL: We want to visualize each quantitative ATAC priors and compare networks resulting from different\n",
    "# choices of geneset and peakset cutoffs (e.g., log2 fold-change and FDR), for each network (e.g., SI gene regulation\n",
    "# in macrophages).  We will use the \"multiple_network\" functionality to do this, and use networks linked to heatmaps\n",
    "# (\"Lexpression\" functionality) so that we can color nodes according to gene expression \n",
    "\n",
    "# Each tupple corresponds to (geneset cutoff, peakset cutoff)\n",
    "cutComb = ('FC1_FDR10','FC1_FDR10')\n",
    "# \n",
    "#                 ('FC1_FDR10','FC0p58_FDR25'),\n",
    "#                 ('FC0p58_FDR25','FC0p58_FDR25'),\n",
    "#                 ('FC0p58_FDR25','FC1_FDR10')]\n",
    "# NOTE: Script below is HARD-coded to only visualize the six (LI) or five (SI) networks\n",
    "\n",
    "directory = \"/Users/emiraldi/erm/Shared/DCproject/DCquantAtacNetworks\" #NOTE, \"try\" statement below, will also look in current directory\n",
    "\n",
    "# Location of each network, and note we will use .replace() to insert the gene and peakset cutoffs of interest\n",
    "# for \"GENE_CUTOFF\" and \"PEAK_CUTOFF\" in the string below\n",
    "netBase = \"DC_genesets_GENE_CUTOFF/DCs_max4_body_bp10000/DCnets_SFB/DCnets_SFB_pPEAK_CUTOFF_rawp0001_hyg0001\"\n",
    "geneCutoff = cutComb[0]\n",
    "peakCutoff = cutComb[1]\n",
    "netPath = netBase.replace('GENE_CUTOFF',geneCutoff).replace('PEAK_CUTOFF',peakCutoff)\n",
    "\n",
    "# The starting conditions for each of the networks, a list of tuples.  Tuple entries are:\n",
    "# 0. network file name (column format) (as found in directory + netBase with cutoffs inserted\n",
    "# 1. column of the expression matrix that you want the nodes to be colored by\n",
    "# 2. network title, to which we'll add the gene and peak cutoffs\n",
    "# 3. subselect the list of relevant genes -- NOT USED for this code and can be left out\n",
    "networkInits = [('CD11bmCD103m_SFB_sp.tsv','SFB_v_GF_CD11b-CD103-','SFB UP (Red), SI CD11b-CD103-','GeneSets/GF_SI_CD11bmCD103m_v_SFB_SI_CD11bmCD103m_FC1_FDR10_down.txt'),\n",
    "    ('CD103p_SFB_sp.tsv','SFB_v_GF_CD11b-CD103+','SFB UP (Red), SI CD11b-CD103+','GeneSets/GF_SI_CD11bmCD103p_v_SFB_SI_CD11bmCD103p_FC1_FDR10_down.txt'),\n",
    "    ('CD11bp_SFB_sp.tsv','SFB_v_GF_CD11b+CD103-','SFB UP (Red), SI CD11b+CD103-','GeneSets/GF_SI_CD11bpCD103m_v_SFB_SI_CD11bpCD103m_FC1_FDR10_down.txt'),\n",
    "    ('CD11bpCD103p_SFB_sp.tsv','SFB_v_GF_CD11b+CD103+','SFB UP (Red), SI CD11b+CD103+','GeneSets/GF_SI_CD11bpCD103p_v_SFB_SI_CD11bpCD103p_FC1_FDR10_down.txt'),\n",
    "    ('mphage_SFB_sp.tsv','SFB_v_GF_Macrophage','SFB UP (Red), SI Macrophage','GeneSets/GF_SI_Macrophage_v_SFB_SI_Macrophage_FC1_FDR10_down.txt'),\n",
    "    ('monocyte_SFB_sp.tsv','SFB_v_GF_Monocyte','SFB UP (Red), Monocyte','GeneSets/GF_SI_Monocyte_v_SFB_SI_Monocyte_FC1_FDR10_down.txt')]\n",
    "\n",
    "expressionFile = \"Heatmaps/Microb_DC_ILC3_log2FCs_all.txt\"\n",
    "\n",
    "tfFocus = 0 # If 1, automatically applies the \"trim\" function, so we can focus on TFs\n",
    "    # If 0, does not!\n",
    "\n",
    "threshhold = .2 # for edge weights in graph\n",
    "\n",
    "clim = 1.5 # absolute value color threshhold on edge color"
   ]
  },
  {
   "cell_type": "code",
   "execution_count": 2,
   "metadata": {
    "collapsed": false
   },
   "outputs": [
    {
     "data": {
      "application/javascript": [
       "\n",
       "// imitating ipywidgets/docs/source/examples/Custom Widget - Hello World.ipynb\n",
       "\n",
       "//require([\"widgets/js/widget\", \"widgets/js/manager\"], function(widget, manager){\n",
       "\n",
       "require.undef(\"SVGCanvas\");\n",
       "\n",
       "define(\"SVGCanvas\", [\"jupyter-js-widgets\"], function(widgets) {\n",
       "    \n",
       "    var svgEventHandlerFactory = function(that) {\n",
       "        var svgEventHandler = function(e) {\n",
       "            var target = e.target;\n",
       "            var info = {};\n",
       "            for (var attr in e) {\n",
       "                var val = e[attr];\n",
       "                var ty = (typeof val);\n",
       "                if ((ty == \"number\") ||\n",
       "                    (ty == \"string\") ||\n",
       "                    (ty == \"boolean\")) {\n",
       "                    info[attr] = val;\n",
       "                }\n",
       "            }\n",
       "            info.name = target.ipy_name;\n",
       "            var ept = SVGEventLocation(that, e);\n",
       "            info.svgX = ept.x;\n",
       "            info.svgY = ept.y;\n",
       "            var json = JSON.stringify(info);\n",
       "            that.model.set(\"event\", json);\n",
       "            that.touch();\n",
       "        };\n",
       "        return svgEventHandler;\n",
       "    };\n",
       "\n",
       "    var SVGEventLocation = function(that, e) {\n",
       "        // http://stackoverflow.com/questions/10298658/mouse-position-inside-autoscaled-svg\n",
       "        var pt = that.reference_point;\n",
       "        var svg = that.$svg[0];\n",
       "        pt.x = e.clientX;\n",
       "        pt.y = e.clientY;\n",
       "        return pt.matrixTransform(svg.getScreenCTM().inverse());\n",
       "    }\n",
       "    \n",
       "    var SVGCanvasView = widgets.DOMWidgetView.extend({\n",
       "        \n",
       "        render: function() {\n",
       "            var that = this;\n",
       "            var svg = that.svg_elt(\"svg\");\n",
       "            var eventHandler = svgEventHandlerFactory(that);\n",
       "            that.eventHandler = eventHandler;\n",
       "            that.named_elements = {};\n",
       "            svg.ipy_name = \"\";\n",
       "            that.$svg = $(svg);\n",
       "            that.reference_point = svg.createSVGPoint();\n",
       "            svg.setAttribute(\"preserveAspectRatio\", \"none\");\n",
       "            that.$el.append(that.$svg);\n",
       "            that.svg_parameters_changed();\n",
       "            that.commands_changed();\n",
       "            that.start_watch_event();\n",
       "            that.model.on(\"change:commands\", that.commands_changed, that);\n",
       "            that.model.on(\"change:viewBox\", that.svg_parameters_changed, that);\n",
       "            that.model.on(\"change:svg_width\", that.svg_parameters_changed, that);\n",
       "            that.model.on(\"change:svg_height\", that.svg_parameters_changed, that);\n",
       "            that.model.on(\"change:style\", that.svg_parameters_changed, that);\n",
       "            that.model.on(\"change:watch_event\", that.start_watch_event, that);\n",
       "            that.model.on(\"change:unwatch_event\", that.stop_watch_event, that);\n",
       "        },\n",
       "        \n",
       "        start_watch_event: function() {\n",
       "            var that = this;\n",
       "            var event_types = that.model.get(\"watch_event\");\n",
       "            if (event_types != \"\") {\n",
       "                that.$svg.on(event_types, that.eventHandler);\n",
       "                that.model.set(\"watch_event\", \"\");\n",
       "                that.touch();\n",
       "            }\n",
       "        },\n",
       "        \n",
       "        stop_watch_event: function() {\n",
       "            var that = this;\n",
       "            var event_types = that.model.get(\"unwatch_event\");\n",
       "            if (event_types != \"\") {\n",
       "                that.$svg.off(event_types);\n",
       "                that.model.set(\"watch_event\", \"\");\n",
       "                that.touch();\n",
       "            }\n",
       "        },\n",
       "        \n",
       "        commands_changed: function() {\n",
       "            var that = this;\n",
       "            var svg = that.$svg[0];\n",
       "            var commands = that.get_JSON(\"commands\")\n",
       "            for (var i=0; i<commands.length; i++) {\n",
       "                var command_dict = commands[i];\n",
       "                var indicator = command_dict[\"command\"];\n",
       "                var method = that[\"do_\"+indicator];\n",
       "                method(that, command_dict);\n",
       "            }\n",
       "        },\n",
       "\n",
       "        do_fit: function(that, info) {\n",
       "            // fit viewport to bounding box.\n",
       "            var svg = that.$svg[0];\n",
       "            var bbox = svg.getBBox();\n",
       "            var D = {\"width\": bbox.width, \"height\": bbox.height, \"x\": bbox.x, \"y\": bbox.y}\n",
       "            var vbox = \"\" + D.x + \" \" + D.y + \" \" + D.width + \" \" + D.height;\n",
       "            if ((D.width > 0) && (D.height > 0)) {\n",
       "                that.model.set(\"boundingBox\", D);\n",
       "                if (info.changeView) {\n",
       "                    that.model.set(\"viewBox\", vbox);\n",
       "                }\n",
       "                // Element viewBox will be updated later by model change.\n",
       "                that.touch();\n",
       "            }\n",
       "        },\n",
       "        \n",
       "        do_add_element: function (that, info) {\n",
       "            var tag = info.tag;\n",
       "            var name = info.name;\n",
       "            var element = that.svg_elt(tag);\n",
       "            element.ipy_name = name;\n",
       "            var $element = $(element);\n",
       "            that.update_element($element, info);\n",
       "            // add event callbacks\n",
       "            that.$svg.append($element);\n",
       "            that.named_elements[name] = $element;\n",
       "        },\n",
       "        \n",
       "        do_change_element: function (that, info) {\n",
       "            var name = info.name;\n",
       "            var $element = that.named_elements[name];\n",
       "            if ($element) {\n",
       "                that.update_element($element, info);\n",
       "            } else {\n",
       "                console.warn(\"couldn't find element for \"+name);\n",
       "            }\n",
       "        },\n",
       "        \n",
       "        do_delete: function (that, info) {\n",
       "            var names = info.names;\n",
       "            for (var i=0; i<names.length; i++) {\n",
       "                var name = names[i];\n",
       "                var $element = that.named_elements[name];\n",
       "                if ($element) {\n",
       "                    $element.remove();\n",
       "                    delete that.named_elements[name];\n",
       "                }\n",
       "            }\n",
       "        },\n",
       "        \n",
       "        update_element: function($element, info) {\n",
       "            var element = $element[0];\n",
       "            var atts = info.atts;\n",
       "            var style = info.style;\n",
       "            var text = info.text;\n",
       "            if (atts) {\n",
       "                for (var att in atts) {\n",
       "                    element.setAttribute(att, atts[att]);\n",
       "                }\n",
       "            }\n",
       "            if (style) {\n",
       "                for (var styling in style) {\n",
       "                    element.style[styling] = style[styling];\n",
       "                }\n",
       "            }\n",
       "            if (text) {\n",
       "                $element.empty();\n",
       "                var node = document.createTextNode(text);\n",
       "                element.appendChild(node);\n",
       "            }\n",
       "        },\n",
       "        \n",
       "        do_empty: function (that, info) {\n",
       "            that.named_elements = {};\n",
       "            that.$svg.empty();\n",
       "        },\n",
       "        \n",
       "        svg_parameters_changed: function() {\n",
       "            var that = this;\n",
       "            var style_additions = that.get_JSON(\"style\");\n",
       "            var svg = that.$svg[0];\n",
       "            svg.setAttribute(\"viewBox\", that.model.get(\"viewBox\"));\n",
       "            svg.setAttribute(\"width\", that.model.get(\"svg_width\"));\n",
       "            svg.setAttribute(\"height\", that.model.get(\"svg_height\"));\n",
       "            for (var style_attr in style_additions) {\n",
       "                svg.style[style_attr] = style_additions[style_attr];\n",
       "            }\n",
       "        },\n",
       "        \n",
       "        get_JSON: function(name) {\n",
       "            var json = this.model.get(name);\n",
       "            return $.parseJSON(json);\n",
       "        },\n",
       "        \n",
       "        svg_elt: function(kind) {\n",
       "            return document.createElementNS('http://www.w3.org/2000/svg', kind);\n",
       "        }\n",
       "        \n",
       "    });\n",
       "    \n",
       "    //manager.WidgetManager.register_widget_view('SVGCanvasView', SVGCanvasView);\n",
       "    return {\n",
       "        SVGCanvasView: SVGCanvasView\n",
       "    }\n",
       "});\n"
      ],
      "text/plain": [
       "<IPython.core.display.Javascript object>"
      ]
     },
     "metadata": {},
     "output_type": "display_data"
    },
    {
     "data": {
      "application/javascript": [
       "\n",
       "// This is the javascript side to match js_proxy.py.\n",
       "// See js_proxy.py for an explanation of the command transfer\n",
       "// protocol\n",
       "\n",
       "// imitating ipywidgets/docs/source/examples/Custom Widget - Hello World.ipynb\n",
       "\n",
       "//require([\"widgets/js/widget\", \"widgets/js/manager\", \"underscore\", \"jquery\"\n",
       "//], function(widget, manager, _, $) {\n",
       "\n",
       "require.undef(\"JSProxy\");\n",
       "\n",
       "define(\"JSProxy\", [\"jupyter-js-widgets\"], function(widgets) {\n",
       "\n",
       "    var JSProxyView = widgets.DOMWidgetView.extend({\n",
       "\n",
       "        render: function() {\n",
       "            var that = this;\n",
       "            that.on(\"displayed\", function() {\n",
       "                that.update();\n",
       "            });\n",
       "            // Wrap $el as a proper jQuery object\n",
       "            that.$$el = $(that.$el);\n",
       "            // \"new\" keyword emulation\n",
       "            // http://stackoverflow.com/questions/17342497/dynamically-control-arguments-while-creating-objects-in-javascript\n",
       "            that.$$el.New = function(klass, args) {\n",
       "                var obj = Object.create(klass.prototype);\n",
       "                return klass.apply(obj, args) || obj;\n",
       "            };\n",
       "\n",
       "            // fix key bindings for wayward element.\n",
       "            // XXXX This is a bit of a hack that may not be needed in future\n",
       "            // Jupyter releases.\n",
       "            that.$$el.Fix = function(element) {\n",
       "                debugger;\n",
       "                that.model.widget_manager.keyboard_manager.register_events(element);\n",
       "            };\n",
       "        },\n",
       "\n",
       "        update: function(options) {\n",
       "            var that = this;\n",
       "            var commands = that.model.get(\"commands\");\n",
       "            if (commands.length >= 2) {\n",
       "                var command_counter = commands[0];\n",
       "                var command_list = commands[1];\n",
       "                var level = commands[2];\n",
       "                level = that.check_level(level);\n",
       "                var results = [];\n",
       "                _.each(command_list, function(command,i) {\n",
       "                    var result = that.execute_command(command);\n",
       "                    results[i] = that.json_safe(result, level);\n",
       "                });\n",
       "                that.model.set(\"commands\", []);\n",
       "                that.model.set(\"results\", [command_counter, results])\n",
       "                that.touch();\n",
       "            }\n",
       "        },\n",
       "\n",
       "        execute_command: function(command) {\n",
       "            var that = this;\n",
       "            var result = command;\n",
       "            if ($.isArray(command)) {\n",
       "                var indicator = command[0];\n",
       "                var remainder = command.slice();\n",
       "                remainder.shift();\n",
       "                if (indicator == \"element\") {\n",
       "                    // Make sure the element is wrapped as a proper JQuery(UI) object\n",
       "                    if (!that.$$el) {\n",
       "                        that.$$el = $(that.$el);\n",
       "                    }\n",
       "                    result = that.$$el;\n",
       "                } else if (indicator == \"window\") {\n",
       "                    result = window;\n",
       "                } else if (indicator == \"method\") {\n",
       "                    var target_desc = remainder.shift();\n",
       "                    var target = that.execute_command(target_desc);\n",
       "                    var name = remainder.shift();\n",
       "                    var args = remainder.map(that.execute_command, that);\n",
       "                    var method = target[name];\n",
       "                    if (method) {\n",
       "                        result = method.apply(target, args);\n",
       "                    } else {\n",
       "                        result = \"In \" + target + \" no such method \" + name;\n",
       "                    }\n",
       "                } else if (indicator == \"function\") {\n",
       "                    var function_desc = remainder.shift();\n",
       "                    var function_value = that.execute_command(function_desc);\n",
       "                    var args = remainder.map(that.execute_command, that);\n",
       "                    // Use \"that\" as the \"this\" value for function values?\n",
       "                    result = function_value.apply(that, args);\n",
       "                } else if (indicator == \"id\") {\n",
       "                    result = remainder[0];\n",
       "                } else if (indicator == \"list\") {\n",
       "                    result = remainder.map(that.execute_command, that);\n",
       "                } else if (indicator == \"dict\") {\n",
       "                    result = {}\n",
       "                    var desc = remainder[0];\n",
       "                    for (var key in desc) {\n",
       "                        var key_desc = desc[key];\n",
       "                        var val = that.execute_command(key_desc);\n",
       "                        result[key] = val;\n",
       "                    }\n",
       "                } else if (indicator == \"callback\") {\n",
       "                    var identifier = remainder.shift();\n",
       "                    var data = remainder.shift();\n",
       "                    var level = remainder.shift();\n",
       "                    // sanity check\n",
       "                    level = that.check_level(level);\n",
       "                    result = that.callback_factory(identifier, data, level);\n",
       "                } else if (indicator == \"get\") {\n",
       "                    var target_desc = remainder.shift();\n",
       "                    var target = that.execute_command(target_desc);\n",
       "                    var name = remainder.shift();\n",
       "                    try {\n",
       "                        result = target[name];\n",
       "                    } catch(err) {\n",
       "                        result = \"failed to get \"+name+\" from \"+target+\" :: \"+err;\n",
       "                    }\n",
       "                } else if (indicator == \"set\") {\n",
       "                    var target_desc = remainder.shift();\n",
       "                    var target = that.execute_command(target_desc);\n",
       "                    var name = remainder.shift();\n",
       "                    var value_desc = remainder.shift()\n",
       "                    var value = that.execute_command(value_desc);\n",
       "                    target[name] = value;\n",
       "                    result = target;\n",
       "                } else if (indicator == \"null\") {\n",
       "                    target_desc = remainder.shift();\n",
       "                    that.execute_command(target_desc);\n",
       "                    result = null;\n",
       "                } else {\n",
       "                    result = \"Unknown indicator \" + indicator;\n",
       "                }\n",
       "            }\n",
       "            return result;\n",
       "        },\n",
       "\n",
       "        check_level: function(level) {\n",
       "            if ((typeof level) != \"number\" || (level < 0)) {\n",
       "                level = 0;\n",
       "            } else if (level > 5) {\n",
       "                level = 5;\n",
       "            }\n",
       "            return level;\n",
       "        },\n",
       "\n",
       "        callback_factory: function(identifier, data, level) {\n",
       "            var that = this;\n",
       "            // Counter makes sure change is noticed even if other arguments don't change.\n",
       "            var counter = 0;\n",
       "            var handler = function () {\n",
       "                counter += 1;\n",
       "                var payload = that.json_safe([identifier, data, arguments, counter], level + 1);\n",
       "                that.model.set(\"callback_results\", payload);\n",
       "                that.touch();\n",
       "            };\n",
       "            return handler;\n",
       "        },\n",
       "\n",
       "        json_safe: function(val, depth) {\n",
       "            // maybe expand later as need arises\n",
       "            var that = this;\n",
       "            var ty = (typeof val);\n",
       "            if ((ty == \"number\") || (ty == \"string\") || (ty == \"boolean\")) {\n",
       "                return val;\n",
       "            }\n",
       "            if (!val) {\n",
       "                // translate all other falsies to None\n",
       "                return null;\n",
       "            }\n",
       "            if (((typeof depth) == \"number\") && (depth > 0)) {\n",
       "                if ($.isArray(val)) {\n",
       "                    var result = [];\n",
       "                    _.each(val, function(elt, i) {\n",
       "                        var r = that.json_safe(elt, depth-1);\n",
       "                        if (r != null) {\n",
       "                            result[i] = r;\n",
       "                        }\n",
       "                    });\n",
       "                    return result;\n",
       "                } else {\n",
       "                    var result = {};\n",
       "                    for (var key in val) {\n",
       "                        var jv = that.json_safe(val[key], depth-1);\n",
       "                        if (jv != null) {\n",
       "                            result[key] = jv;\n",
       "                        }\n",
       "                    }\n",
       "                    return result;\n",
       "                }\n",
       "            }\n",
       "            return null;\n",
       "        }\n",
       "\n",
       "    });\n",
       "\n",
       "    //manager.WidgetManager.register_widget_view('JSProxyView', JSProxyView);\n",
       "    return {\n",
       "        JSProxyView: JSProxyView\n",
       "    }\n",
       "});\n"
      ],
      "text/plain": [
       "<IPython.core.display.Javascript object>"
      ]
     },
     "metadata": {},
     "output_type": "display_data"
    },
    {
     "data": {
      "application/javascript": [
       "/*\n",
       "jQuery plugin for a color arrow cursor over an element.\n",
       "\n",
       "Based on\n",
       "http://stackoverflow.com/questions/18779354/assign-color-to-mouse-cursor-using-css\n",
       "*/\n",
       "\n",
       "(function ($) {\n",
       "\n",
       "    $.fn.color_cursor = function(color) {\n",
       "        var that = this;\n",
       "        var cvs = document.createElement(\"canvas\");\n",
       "        cvs.height = 16;\n",
       "        cvs.width = 16;\n",
       "        var ctx = cvs.getContext(\"2d\");\n",
       "        ctx.strokeStyle = color;\n",
       "        ctx.lineWidth = 4;\n",
       "        ctx.lineCap = \"round\";\n",
       "        ctx.moveTo(2, 12);\n",
       "        ctx.lineTo(2, 2);\n",
       "        ctx.lineTo(12, 2);\n",
       "        ctx.moveTo(2, 2);\n",
       "        ctx.lineTo(30, 30)    \n",
       "        ctx.stroke();\n",
       "        var url = cvs.toDataURL();\n",
       "        that.css(\"cursor\", \"url(\" + url + '), auto');\n",
       "        return that;\n",
       "    };\n",
       "\n",
       "    $.fn.color_cursor_reset = function () {\n",
       "        this.css(\"cursor\", \"\");\n",
       "        return this;\n",
       "    };\n",
       "\n",
       "    $.fn.color_cursor.example = function (element) {\n",
       "        debugger;\n",
       "        var d = $(\"<div>Cursor should be red over me. Click to reset.</div>\")\n",
       "            .color_cursor(\"red\");\n",
       "        var reset = function() {\n",
       "            d.color_cursor_reset();\n",
       "            d.html(\"Now the cursor should be normal\");\n",
       "        }\n",
       "        d.click(reset);\n",
       "        element.append(d);\n",
       "        return element;\n",
       "    };\n",
       "\n",
       "})(jQuery)\n"
      ],
      "text/plain": [
       "<IPython.core.display.Javascript object>"
      ]
     },
     "metadata": {},
     "output_type": "display_data"
    }
   ],
   "source": [
    "# Uncomment to run without install (in binder, for example)\n",
    "import sys\n",
    "if \"..\" not in sys.path:\n",
    "    sys.path.append(\"..\")\n",
    "from jp_gene_viz import dNetwork\n",
    "dNetwork.load_javascript_support()\n",
    "from jp_gene_viz import multiple_network\n",
    "from jp_gene_viz import LExpression\n",
    "LExpression.load_javascript_support()\n",
    "# Part 1 of a hacky way to set color threshhold\n",
    "from numpy import array\n",
    "minclr = array([   255.,  0,    0.])\n",
    "minvalue = -clim\n",
    "zeroclr = array([255.0000 , 130.4000  , 60.0000]) # [   166.,    86.,    40.]) #127.5, 63.75, 0 ])\n",
    "maxvalue = clim\n",
    "maxclr = array([ 0.,    1.7*127.5,    0.])\n",
    "\n",
    "\n",
    "# Currently, we are not interested in visualizing motifs, and would need to find these files, if we did\n",
    "# from jp_gene_viz import motif_data\n",
    "# C = motif_data.MotifCollection()\n",
    "# # for extra safety \"rU\" reads with universal line ending support\n",
    "# C.read_meme_file(open(directory + '/' + \"mm9_em.meme\", \"rU\"))\n",
    "# C.read_meme_file(open(directory + '/' + \"hg19_em.meme\", \"rU\"))"
   ]
  },
  {
   "cell_type": "code",
   "execution_count": 3,
   "metadata": {
    "collapsed": false
   },
   "outputs": [
    {
     "name": "stdout",
     "output_type": "stream",
     "text": [
      "('Reading network', '/Users/emiraldi/erm/Shared/DCproject/DCquantAtacNetworks/DC_genesets_FC1_FDR10/DCs_max4_body_bp10000/DCnets_SFB/DCnets_SFB_pFC1_FDR10_rawp0001_hyg0001/CD11bmCD103m_SFB_sp.tsv')\n",
      "('Loading saved layout', '/Users/emiraldi/erm/Shared/DCproject/DCquantAtacNetworks/DC_genesets_FC1_FDR10/DCs_max4_body_bp10000/DCnets_SFB/DCnets_SFB_pFC1_FDR10_rawp0001_hyg0001/CD11bmCD103m_SFB_sp.tsv.layout.json')\n",
      "('Reading network', '/Users/emiraldi/erm/Shared/DCproject/DCquantAtacNetworks/DC_genesets_FC1_FDR10/DCs_max4_body_bp10000/DCnets_SFB/DCnets_SFB_pFC1_FDR10_rawp0001_hyg0001/CD103p_SFB_sp.tsv')\n",
      "('Loading saved layout', '/Users/emiraldi/erm/Shared/DCproject/DCquantAtacNetworks/DC_genesets_FC1_FDR10/DCs_max4_body_bp10000/DCnets_SFB/DCnets_SFB_pFC1_FDR10_rawp0001_hyg0001/CD103p_SFB_sp.tsv.layout.json')\n",
      "('Reading network', '/Users/emiraldi/erm/Shared/DCproject/DCquantAtacNetworks/DC_genesets_FC1_FDR10/DCs_max4_body_bp10000/DCnets_SFB/DCnets_SFB_pFC1_FDR10_rawp0001_hyg0001/CD11bp_SFB_sp.tsv')\n",
      "('Loading saved layout', '/Users/emiraldi/erm/Shared/DCproject/DCquantAtacNetworks/DC_genesets_FC1_FDR10/DCs_max4_body_bp10000/DCnets_SFB/DCnets_SFB_pFC1_FDR10_rawp0001_hyg0001/CD11bp_SFB_sp.tsv.layout.json')\n",
      "('Reading network', '/Users/emiraldi/erm/Shared/DCproject/DCquantAtacNetworks/DC_genesets_FC1_FDR10/DCs_max4_body_bp10000/DCnets_SFB/DCnets_SFB_pFC1_FDR10_rawp0001_hyg0001/CD11bpCD103p_SFB_sp.tsv')\n",
      "('Loading saved layout', '/Users/emiraldi/erm/Shared/DCproject/DCquantAtacNetworks/DC_genesets_FC1_FDR10/DCs_max4_body_bp10000/DCnets_SFB/DCnets_SFB_pFC1_FDR10_rawp0001_hyg0001/CD11bpCD103p_SFB_sp.tsv.layout.json')\n",
      "('Reading network', '/Users/emiraldi/erm/Shared/DCproject/DCquantAtacNetworks/DC_genesets_FC1_FDR10/DCs_max4_body_bp10000/DCnets_SFB/DCnets_SFB_pFC1_FDR10_rawp0001_hyg0001/mphage_SFB_sp.tsv')\n",
      "('Loading saved layout', '/Users/emiraldi/erm/Shared/DCproject/DCquantAtacNetworks/DC_genesets_FC1_FDR10/DCs_max4_body_bp10000/DCnets_SFB/DCnets_SFB_pFC1_FDR10_rawp0001_hyg0001/mphage_SFB_sp.tsv.layout.json')\n",
      "('Reading network', '/Users/emiraldi/erm/Shared/DCproject/DCquantAtacNetworks/DC_genesets_FC1_FDR10/DCs_max4_body_bp10000/DCnets_SFB/DCnets_SFB_pFC1_FDR10_rawp0001_hyg0001/monocyte_SFB_sp.tsv')\n",
      "('Loading saved layout', '/Users/emiraldi/erm/Shared/DCproject/DCquantAtacNetworks/DC_genesets_FC1_FDR10/DCs_max4_body_bp10000/DCnets_SFB/DCnets_SFB_pFC1_FDR10_rawp0001_hyg0001/monocyte_SFB_sp.tsv.layout.json')\n"
     ]
    }
   ],
   "source": [
    "networkList = list()  # this list contains heatmap-linked network objects\n",
    "\n",
    "for networkInit in networkInits:\n",
    "    networkFile = networkInit[0]\n",
    "    curr = LExpression.LinkedExpressionNetwork()\n",
    "    try:\n",
    "        curr.load_network(directory + '/' + netPath + '/' + networkFile)  \n",
    "    except AssertionError:\n",
    "        directory = \".\"\n",
    "        curr.load_network(directory + '/' + netPath + '/' + networkFile)    \n",
    "    networkList.append(curr)\n"
   ]
  },
  {
   "cell_type": "code",
   "execution_count": 4,
   "metadata": {
    "collapsed": false
   },
   "outputs": [],
   "source": [
    "# visualize the networks -- HARD CODED for 5 networks:\n",
    "M = multiple_network.MultipleNetworks(\n",
    "    [[networkList[0], networkList[1]],\n",
    "    [networkList[2], networkList[3]],\n",
    "    [networkList[4], networkList[5]]])\n",
    "M.svg_width = 500\n",
    "M.show()      "
   ]
  },
  {
   "cell_type": "code",
   "execution_count": 5,
   "metadata": {
    "collapsed": false
   },
   "outputs": [],
   "source": [
    "# Set network preferences\n",
    "count = 0\n",
    "for curr in networkList:\n",
    "    networkInit = networkInits[count]\n",
    "    # get title information + curr column for shading of figures\n",
    "    currCol = networkInit[1].lower()\n",
    "    titleBase = networkInit[2]\n",
    "    titleInf = titleBase + ' (gCut: ' + geneCutoff.replace('_',' ') + ', pCut: ' + peakCutoff.replace('_',' ')\n",
    "    \n",
    "    # set threshold\n",
    "    curr.network.threshhold_slider.value = threshhold\n",
    "    curr.network.apply_click(None)\n",
    "    if tfFocus:\n",
    "        # focus on TF core    \n",
    "        curr.network.tf_only_click(None)\n",
    "        curr.network.layout_click(None)  \n",
    "        \n",
    "    # set title\n",
    "    curr.network.title_html.value = titleInf\n",
    "\n",
    "    # add labels\n",
    "    curr.network.labels_button.value=True  \n",
    "    curr.network.draw_click(None)\n",
    "\n",
    "    # Load heatmap\n",
    "    curr.load_heatmap(directory + '/' + expressionFile)\n",
    "    # color nodes according to a sample column in the gene expression matrix\n",
    "    curr.gene_click(None)    \n",
    "    curr.expression.col = currCol    \n",
    "    curr.condition_click(None)\n",
    "    \n",
    "        #     # Attach the motif collection populated above:\n",
    "        #     N.motif_collection = C\n",
    "        #     net_with_motifs\n",
    "    \n",
    "    # !!!!! for some reason this doesn't work, tried curr.display... w/o curr.network.display...\n",
    "    # Part 2: a hacky way to set min and max on the heatmap and heatmap-colored nodes\n",
    "    curr.network.display_graph.get_edge_color_interpolator()\n",
    "    curr.network.display_graph._edge_color_interpolator.minclr = minclr\n",
    "    curr.network.display_graph._edge_color_interpolator.maxclr = maxclr\n",
    "    curr.network.display_graph._edge_color_interpolator.breakpoints = \\\n",
    "        [(minvalue, minclr),\n",
    "         (0, zeroclr),\n",
    "         (maxvalue, maxclr)]\n",
    "    curr.network.draw_click(None)\n",
    "    count += 1\n"
   ]
  },
  {
   "cell_type": "code",
   "execution_count": null,
   "metadata": {
    "collapsed": true
   },
   "outputs": [],
   "source": []
  },
  {
   "cell_type": "code",
   "execution_count": null,
   "metadata": {
    "collapsed": true
   },
   "outputs": [],
   "source": []
  }
 ],
 "metadata": {
  "kernelspec": {
   "display_name": "Python 2",
   "language": "python",
   "name": "python2"
  },
  "language_info": {
   "codemirror_mode": {
    "name": "ipython",
    "version": 2
   },
   "file_extension": ".py",
   "mimetype": "text/x-python",
   "name": "python",
   "nbconvert_exporter": "python",
   "pygments_lexer": "ipython2",
   "version": "2.7.10"
  },
  "widgets": {
   "state": {
    "002e9853d9e7442798dafeceb1cab753": {
     "views": []
    },
    "00ce32b900b34df3b85af408ee89ad8b": {
     "views": []
    },
    "00d1bdbbd2fc4219a986aff0dfa91acc": {
     "views": []
    },
    "013ab56f8abb45f4bf9bdb50383468ce": {
     "views": []
    },
    "01546507343e49139c887530df994ee3": {
     "views": []
    },
    "01fabece744b4176b48e0f717712d226": {
     "views": []
    },
    "02147981ec704e04b5c489c301f7aaf7": {
     "views": []
    },
    "022d6882817b4e47b2ef98b918478f88": {
     "views": []
    },
    "024c19b38df04909b238aab860ff37a1": {
     "views": []
    },
    "02623b16b70140b08037e14613f41261": {
     "views": []
    },
    "02e794fe39fc4019acc2c1b9ab51de03": {
     "views": []
    },
    "03299151a4c0407986922af05efc1a9e": {
     "views": []
    },
    "034e25d753c9423b853648d1c2a75a8c": {
     "views": []
    },
    "0382312e6f474cbf912cace15cdefca1": {
     "views": []
    },
    "038f2d6472ff4e9180c3cdf92d3f621f": {
     "views": []
    },
    "03a0b8c398804ec5bb66edc238a5baed": {
     "views": []
    },
    "03aa0f60953d4855956f91dae2182763": {
     "views": []
    },
    "03cb909cecc24db68adb55200706ce4a": {
     "views": []
    },
    "0425a34428ed4432b1baeb2ac416d56d": {
     "views": []
    },
    "04555b39900b4a548dca95f5b7c2193d": {
     "views": []
    },
    "045fa31f7a314b9c943ca68843d36fca": {
     "views": []
    },
    "046294047a474dafbc463c011050f13f": {
     "views": []
    },
    "04bc33c2cb00459c8dd19587cd268b5b": {
     "views": []
    },
    "04c2ee057de84fb886948935da720f7d": {
     "views": []
    },
    "052c4e70a9174355896f3aaceb8e4b24": {
     "views": []
    },
    "058e5f76274e4d6d84dacb74ce1bce57": {
     "views": []
    },
    "05ebbcb167244a2590f160307e2ddb3d": {
     "views": []
    },
    "05f701c605d64be0bfb86ae2069fc695": {
     "views": []
    },
    "061331843dc84e49a296fc416a6c5581": {
     "views": []
    },
    "0663c84ec8df4e998c39a51cac09f19d": {
     "views": []
    },
    "06708582bb3e4911939f9bcbf6f004a3": {
     "views": []
    },
    "06a35a49a3bd4e02992da807fa3c064f": {
     "views": []
    },
    "06ac77e21b734f62a8c61143e3ee1f14": {
     "views": []
    },
    "06ff2240d32c4e84b5ba1d003cf199ca": {
     "views": []
    },
    "0772351fd8df4467b75d114ac0423f7a": {
     "views": []
    },
    "07b7ba5170844ae4aa95ce252112922a": {
     "views": []
    },
    "08201cd2dbb34b06a8676f3cc61e5500": {
     "views": []
    },
    "0842aad758c1428e9d628569bad4d2ca": {
     "views": []
    },
    "0844e150fbce47f88c5215f3ee880f03": {
     "views": []
    },
    "0916e9254ba845e9ab66d5bcd191969b": {
     "views": []
    },
    "09b79867952342f49dcddaf736f457c6": {
     "views": []
    },
    "0a80a2c7d49e4b288be16010277eb322": {
     "views": []
    },
    "0a885b86747e470aa9e7e516d86d236b": {
     "views": []
    },
    "0ac294921f65461a91c0dea4a8a520fa": {
     "views": []
    },
    "0ace856371e544c0a3348e2fec300a6d": {
     "views": []
    },
    "0acedcd4b2c64777a846bf860ad12c7e": {
     "views": []
    },
    "0ad921bae78e4edea62fd6300f098890": {
     "views": []
    },
    "0add8b27d38f4a41894568ea0742e79b": {
     "views": []
    },
    "0bd21a86d01f4f23bdc0d829b7842d71": {
     "views": []
    },
    "0bd83d791a77499b8baa714445434bf0": {
     "views": []
    },
    "0c3f9e5ddfb748d8b0408c2eb42efa87": {
     "views": []
    },
    "0c55afdf113e4c1389fbba70b2a7ed25": {
     "views": []
    },
    "0c784327fe054904a43312d6deaf84c4": {
     "views": []
    },
    "0c7cb1b7b38d4128813715b035e6c29d": {
     "views": []
    },
    "0ca53759786c453daabe50bd1f034c3d": {
     "views": []
    },
    "0cf936154d5e4b3ea82bbb984d265013": {
     "views": []
    },
    "0d0d08b5a93f475691b02dea1b0f6997": {
     "views": []
    },
    "0d12e461f4a6442e89775d177a8fa1d8": {
     "views": []
    },
    "0d17da7667804ffea41b68647ee045db": {
     "views": []
    },
    "0d18a1e098f74a058e1de7efd2174d3f": {
     "views": []
    },
    "0d30b4b7bac341feb6a09f822f746761": {
     "views": []
    },
    "0d545ebda8ef49bbad480b522e3033ae": {
     "views": []
    },
    "0d6f3872e6ff45e199942b2c5a41418f": {
     "views": []
    },
    "0d718169a2a84571af99c29de2a10bef": {
     "views": []
    },
    "0daab123184d42b0b8a6776bc5f26878": {
     "views": []
    },
    "0e20932cfa074d3bb6710e563efc1a21": {
     "views": []
    },
    "0e737efd50b24ff3bd68acf6a9bffaef": {
     "views": []
    },
    "0e8ca29b5d51421f8d554775b9e5906c": {
     "views": []
    },
    "0ea08f387d6d4416a831a3e8631925f2": {
     "views": []
    },
    "0f024e84a18645cc8eefcbbbaba55c48": {
     "views": []
    },
    "0f38a35bf48c4c4d97e114c111f36aa8": {
     "views": []
    },
    "0fa3a77c8b3348999f0731d7ecf62e94": {
     "views": []
    },
    "0fac5563158d4fc581a3d682a7e7e560": {
     "views": []
    },
    "0fbe61f2345d4afe957d8d1f9292530c": {
     "views": []
    },
    "0ff5210f7a6942fd8eb333e0b6fef19f": {
     "views": []
    },
    "10206981a8424a6897ef15648957b992": {
     "views": []
    },
    "104d218a3733496ab3c197e4e293f33d": {
     "views": []
    },
    "1079277813564743be8dc07ed26b18ce": {
     "views": []
    },
    "10a7f03462694967b12c7a0b53175d32": {
     "views": []
    },
    "110097efd8a944c89468d4f2c321af9b": {
     "views": []
    },
    "11315a4450e84c56a6a07ac98fad58eb": {
     "views": []
    },
    "116cb814d4dd48f3bc33f7a65fe2d1a8": {
     "views": []
    },
    "117263adefa548048ee66f3f54250bde": {
     "views": []
    },
    "117a52ecd1be486ca9641a16c69e6745": {
     "views": []
    },
    "1183a232b6d244fa8a187e5c358cde75": {
     "views": []
    },
    "11c8f106dd154c39a1485a22d3f1ad9e": {
     "views": []
    },
    "11f5466d15ff409aa6dec41460002905": {
     "views": []
    },
    "11fb61b94dca4e18980af0f7e1f4526e": {
     "views": []
    },
    "120a69e1762b4fc0aa97a5bd6819e4e9": {
     "views": []
    },
    "121d9693fa554a5398d0420fae6f96f2": {
     "views": []
    },
    "123fc5e8ac5346fb9eb17390d0435304": {
     "views": []
    },
    "1249ef68607c4cc2bb28b1584f8ca004": {
     "views": []
    },
    "12e1e29227f54e2697441601b7c64adb": {
     "views": []
    },
    "12e3e75d2d324ae9b2eb69f0697f2818": {
     "views": []
    },
    "12f8265838d74e0aab3d88c19db2c448": {
     "views": []
    },
    "13c54d66a5a84d07a2cccfa3b6647aea": {
     "views": []
    },
    "1408710824e8473d8197a9c0d81dec1b": {
     "views": []
    },
    "14400939ba5d4c9caf8d03a3f69b7860": {
     "views": []
    },
    "14711f6dda684143bbcb1b18a9ffa436": {
     "views": []
    },
    "14870277311347cba4338fbd5a46193b": {
     "views": []
    },
    "1491701f0f5843439fca91ea2045693a": {
     "views": []
    },
    "14b14656ff654811b464a01e8c29d266": {
     "views": []
    },
    "14c8bfb93a5049f1bc40ee966fda3065": {
     "views": []
    },
    "155f0a23a30e4715bdaeb99d87d17d98": {
     "views": []
    },
    "159ebd1be8784bc6a4e7bd144fe35349": {
     "views": []
    },
    "15adc638483d45b3b63a06bdba5d54ad": {
     "views": []
    },
    "1667a8c9191a43af93d2346a859fc127": {
     "views": []
    },
    "17a335280dac40f991a957ca9f7cf654": {
     "views": []
    },
    "17a80b45209145208e6c87669c41ba37": {
     "views": []
    },
    "17b18dc7253243c687863a06d262552d": {
     "views": []
    },
    "181f43f5889c42cb9e73c9ffce0d218f": {
     "views": []
    },
    "183bb6b1222b41e7b98f36bc5daf4b1e": {
     "views": []
    },
    "18459b76f4564d999759ad240386dc8e": {
     "views": []
    },
    "18842bbae2c945ffb9b1e8a4fab788fd": {
     "views": []
    },
    "188d0c6a92d243939c889328c9bfa6dd": {
     "views": []
    },
    "188ded849009416eb06305e83d46dd97": {
     "views": []
    },
    "18d508037c1940829252e2463d64eecc": {
     "views": []
    },
    "197dcee07293491d8e888cebeb782be8": {
     "views": []
    },
    "198eeeef4eb2484bb5388ef11858038c": {
     "views": []
    },
    "19d8b68196ec4c43bb0cf6d1484ae00f": {
     "views": []
    },
    "19fac53f705d4f1ab55606c73092db57": {
     "views": []
    },
    "1a2acc3d23884826b7a588999a102e4d": {
     "views": []
    },
    "1a52aa140ae14b419014dd949cf7732a": {
     "views": []
    },
    "1a7c05c600714fb3817b913c6baa0471": {
     "views": []
    },
    "1a86279ea1f948de94642e4a7b5623c0": {
     "views": []
    },
    "1ac8d2ddb43a4fc8ab1ec8bf731ace8a": {
     "views": []
    },
    "1b574a5457e649f4b5920a16c87759f1": {
     "views": []
    },
    "1bd9fcf8b28f426bb68f134cec4cd151": {
     "views": []
    },
    "1c2470bfc2e040eea9d377db8b43f221": {
     "views": []
    },
    "1c2d3333b8a643dea9abca9bfbd3e7cd": {
     "views": []
    },
    "1c5233ffe3f74ff284b9f26ca968f7a6": {
     "views": []
    },
    "1cb79caf5e714f0ab0e323ff8f4426eb": {
     "views": []
    },
    "1d1de3bd2fe94e50aacddc73b237de9a": {
     "views": []
    },
    "1d32814c508b490899e7a053d72ee763": {
     "views": []
    },
    "1d3699fc63944a4bb29b9ceded170d96": {
     "views": []
    },
    "1d78c24228ab4025b15b031a2b6e96b1": {
     "views": []
    },
    "1db9b065cd844da184e7abdc38e2a47e": {
     "views": []
    },
    "1dc4da95b4e94df5befc39fe4e126fab": {
     "views": []
    },
    "1dc4e1a20aaf4403976e7bf85988eb3f": {
     "views": []
    },
    "1dfc3e3f43c447358f7841e746b2354f": {
     "views": []
    },
    "1e0df10747a24a04b459af151863d246": {
     "views": []
    },
    "1e3acba3120b497db7bf2618432de308": {
     "views": []
    },
    "1e58d6fd865047a49a5ab9189aed84ff": {
     "views": []
    },
    "1e629ebe5ba34e69aceeef8de39147ed": {
     "views": []
    },
    "1e9f8fd964f84390ae6011d6520ca1ed": {
     "views": []
    },
    "1eb9f961e8fb4d5399e87826809c9bd0": {
     "views": []
    },
    "1eef45c05e2e4528b18899332ebc45ec": {
     "views": []
    },
    "1f5bc11982054a698d3a806406944782": {
     "views": []
    },
    "1f71cc9489024f77b1f434d9fc6e2ab6": {
     "views": []
    },
    "1f7a02cca8c745de97b3087a50a4fe95": {
     "views": []
    },
    "1f903809b4004f098ce04f306adb4898": {
     "views": []
    },
    "200ca980dc3e47fd9a81c367b150a049": {
     "views": []
    },
    "2028a77a883345b89b8616d855f56d23": {
     "views": []
    },
    "204973952e6e4f5b94e268b0ea9ca1d4": {
     "views": []
    },
    "205a268050b4441e9e89fc0f32e51861": {
     "views": []
    },
    "205d3647bf7f4da5a8ce58b452a8202c": {
     "views": []
    },
    "20610846a0944806806bb1ebc180c7e3": {
     "views": []
    },
    "2064a9b958f94f75a52153567dc5d53f": {
     "views": []
    },
    "20afe50856ec4e14acb5441f732a3570": {
     "views": []
    },
    "214966aa68ed412ba658e1d8913aa223": {
     "views": []
    },
    "215d98a4d018404bbef00bd11f8c37a1": {
     "views": []
    },
    "2175261fc5544de1b197175ff108179c": {
     "views": []
    },
    "217e6aeb247d40038b21226eeaf2b5ad": {
     "views": []
    },
    "219a7ef8d99d4c46b91568881e6d2b22": {
     "views": []
    },
    "21b1a641f6684b0c92b80faeb66b92aa": {
     "views": []
    },
    "2205e67034e5461c9aa11314217f57d0": {
     "views": []
    },
    "2247aebda2f745bf9f0a711b5bfdeaec": {
     "views": []
    },
    "22bae07b23ee4938a2f4ffe2f6664a95": {
     "views": []
    },
    "22bb4d51c2c34437ba793fa76442b4f6": {
     "views": []
    },
    "22ca85e353524321b535f2c5c74cd999": {
     "views": []
    },
    "22d713f5a1f34ae1b16c48f6eaaa2e9b": {
     "views": []
    },
    "22f07f10c9cb4f41a00a3ecd5e786472": {
     "views": []
    },
    "234ee5ddffe34772877f71e09f9410f9": {
     "views": []
    },
    "23dffab0aeac48e6a50fe10ea158f498": {
     "views": []
    },
    "23ffe0c6874b4b648d6811474b5ad604": {
     "views": []
    },
    "240fad1e3c5549b59ef520e87b4f622d": {
     "views": []
    },
    "243da5ef14be4b49b1646c516e117b10": {
     "views": []
    },
    "24a8b0808a8f4f979fab8b9225e10751": {
     "views": []
    },
    "24bc6207c7654f1ba16f14d75f6e1cb2": {
     "views": []
    },
    "24f23f3d28134fe99f021ee8c5371ef1": {
     "views": []
    },
    "24ff4481c33d4d98a09cac57618b575e": {
     "views": []
    },
    "251e2b5c9cfc4c0a8b522dae3fc82aff": {
     "views": []
    },
    "253421bfe16744b8b74c1b00813ded7d": {
     "views": []
    },
    "2559affaacaa4cb583087c120fd25437": {
     "views": []
    },
    "256bcdff8c7e4961a41c8517ade803d9": {
     "views": []
    },
    "25e3a566bfe2441ab1f873b4e66425fa": {
     "views": []
    },
    "2635616f9ee64b0d9509f9f6f8fea18d": {
     "views": []
    },
    "263b196d133e4c5aa46dfa09429e1aa0": {
     "views": []
    },
    "26468babe80541f485f0b664001b4997": {
     "views": []
    },
    "270cb7d86dd44a7399a45d199cb123cf": {
     "views": []
    },
    "275c31eed1cc4575b787b7d4ee632c05": {
     "views": []
    },
    "278bee279d9641779bf5a944b57337ca": {
     "views": []
    },
    "27e657abc4dc4ad5a016760db37946db": {
     "views": []
    },
    "2844641a931d4c189eed46c3149c823d": {
     "views": []
    },
    "28595fcdded14163b4bdc042972eb619": {
     "views": []
    },
    "2921d174ca104df9aa78bae9ad8cc5c5": {
     "views": []
    },
    "2944f0def9b74a659ece12606b5080b1": {
     "views": []
    },
    "29737f9e5a1146f783c21e79c723ae93": {
     "views": []
    },
    "297ad48edcfb4d4ba38f861b54a0b476": {
     "views": []
    },
    "297ce9a416ba4c038b55558fe3c61935": {
     "views": []
    },
    "299479e76a7f4dee9f09da1404a85539": {
     "views": []
    },
    "29985f6e2c1b439aa9028d5d1adf9472": {
     "views": []
    },
    "29c3e7a50c2f46378a5b2d4025ccec4a": {
     "views": []
    },
    "29cf839078b0428392bda66514b2454e": {
     "views": []
    },
    "29d135fe91e94aef82e785b681d8a694": {
     "views": []
    },
    "29ee3ac1a02444a28972560cae52b48d": {
     "views": []
    },
    "29f1af4582d14013a9423fdda1502d4a": {
     "views": []
    },
    "2aa74e6081d64f01b8b45829cf81fe7b": {
     "views": []
    },
    "2af3b4151d6b4f258c01aa29957d79b4": {
     "views": []
    },
    "2af627469b84491f95ae5ca85f176be2": {
     "views": []
    },
    "2b0d04f32f584691b7e2d1dc80320b24": {
     "views": []
    },
    "2b1776a3e16244478db40e5c062ec0f1": {
     "views": []
    },
    "2b42d310a9fa4d5a9d16225b1d154ae9": {
     "views": []
    },
    "2b8b01d8d8be4f79904876bd42ef0b37": {
     "views": []
    },
    "2b926fd5ee0240f3aa2c81df511f505e": {
     "views": []
    },
    "2bde3a7c35664dd5aacaf98c36c2fd37": {
     "views": []
    },
    "2c245ec23e7a46388fac22cdd0c350de": {
     "views": []
    },
    "2c2db0e2f6be4d6caf66801a35776b93": {
     "views": []
    },
    "2c493d71ca84462780129ffc396bd025": {
     "views": []
    },
    "2c4bcb3c474d47a1838f1a9369be1e6a": {
     "views": []
    },
    "2c7ad89dbe5e4fd19252dcfb727c4e72": {
     "views": []
    },
    "2ca14f601e63492f8c11fce0ec2b505c": {
     "views": []
    },
    "2ce93a296e7643c7ae19279ad2196b4f": {
     "views": []
    },
    "2ceb92eb719f42c38e469982fc88e607": {
     "views": []
    },
    "2d2ab28f4ec349e9a1f4ccaaadead7c1": {
     "views": []
    },
    "2d5ec048d3304db08694b4a5b81dc156": {
     "views": []
    },
    "2dc0a0b27ad14b85a26a09e73c9d94b5": {
     "views": []
    },
    "2e291950a16e454bbc2bea3f789e3064": {
     "views": []
    },
    "2e5f4780189542a2a057a8cccb616b42": {
     "views": []
    },
    "2e9bb55784f74220b216967c4e3cfef4": {
     "views": []
    },
    "2ecf85981da34b1ebc01f6af1fb30e58": {
     "views": []
    },
    "2ed2dfd765b04737ba51d36ca287bf08": {
     "views": []
    },
    "2ef4f1d4651444649cba329c05f1ac58": {
     "views": []
    },
    "2f00c3cb5e1e40f99b27e268067c6bb7": {
     "views": []
    },
    "2f832df9bfa64f959df0e8a2375be93b": {
     "views": []
    },
    "2fbf77279ec04b9f86941aee5f8e0bab": {
     "views": []
    },
    "2fe9550a92bc4a6d88b08bc3cac45bee": {
     "views": []
    },
    "2fecfcf7a28c49a9b5fd70a3408dd6cb": {
     "views": []
    },
    "3064800677224bb99216f8df2b403dda": {
     "views": []
    },
    "30b469b0cabf47e7b8e1599450645b53": {
     "views": []
    },
    "30bd0ea1ceb747f188a61dfaf0963da6": {
     "views": []
    },
    "30c87d62aac942e98ce0fa5d45ab7fa6": {
     "views": []
    },
    "30f5165f3d7f45c48eb6be32620d284c": {
     "views": []
    },
    "313cec6d722442b7b96207ebeaa5f322": {
     "views": []
    },
    "328b4f521e9a4dd3bf246a6295018013": {
     "views": []
    },
    "32ecc03d098040d39d8168d0576afafe": {
     "views": []
    },
    "32f074401c174f9b9470dbd31c87ec77": {
     "views": []
    },
    "333430cd6651451a853cc6b01a85ddf0": {
     "views": []
    },
    "3371f7d8f615478e99cf5aa87fb0f0b2": {
     "views": []
    },
    "33794dbfc38f4e7790c1caade21f8eaa": {
     "views": []
    },
    "33ad288bff014c76a445c6278e63a368": {
     "views": []
    },
    "33b404c1d4304e3bac57f5cecf62559f": {
     "views": []
    },
    "33d3307c43984033aa96f116617d7c31": {
     "views": []
    },
    "33ec9e2e5662474b9ff1e1e30540dd0a": {
     "views": []
    },
    "343a7ce409ec444eb4913269f2457f77": {
     "views": []
    },
    "34762542e2b347cf8d76174e3b481f0e": {
     "views": []
    },
    "3478e272a8984816bc879f739d31482f": {
     "views": []
    },
    "34aec4db2b5a46dda2a7ab232a41113e": {
     "views": []
    },
    "34dc501fc61f4c50b20fd33bb259717c": {
     "views": []
    },
    "35af7b1f711f4e6b9d2e401ac9ec092c": {
     "views": []
    },
    "35ca2e92d6cd4bebb484edb2d061e0b8": {
     "views": []
    },
    "3665615cedd84b6e92d3ee9582957c21": {
     "views": []
    },
    "36821d7e6af54debb158164952653f7a": {
     "views": []
    },
    "368a4f9bf2e1454ab2de4fa7c81c75a6": {
     "views": []
    },
    "371015e7e38145b18cd2783513f404a3": {
     "views": []
    },
    "377b49f9fd614ab396ae0e05dff2e23e": {
     "views": []
    },
    "37c8a367595c4a8db05a40af9a14ff29": {
     "views": []
    },
    "37d7f302f3984f4b872778c7e1b62a6f": {
     "views": []
    },
    "37db4997d0a644a58e18e5aa7931274a": {
     "views": []
    },
    "37dc0992ee1943aa909e1df1c666fdd0": {
     "views": []
    },
    "380a8a022f5c4ee4a3708a47ec63630c": {
     "views": []
    },
    "38426edec86c4c28b9ae677fabbec78e": {
     "views": []
    },
    "3872cf1b14f14dfcbc624b730b958ff2": {
     "views": []
    },
    "389a5976ea0740f39a79b2889e1eb4ef": {
     "views": []
    },
    "38ee43799491428d8868473174bcface": {
     "views": []
    },
    "3912f5e6db464e11838368da8244a5e7": {
     "views": []
    },
    "395bffe93ac04edaa894992afb13b6a8": {
     "views": []
    },
    "39682ab92a73435c8b2c5ae5da362bef": {
     "views": []
    },
    "39fa3afd7919458e8c8aaee379c2cb1e": {
     "views": []
    },
    "3a39e24035054317a43485920e5cdbbd": {
     "views": []
    },
    "3a879fd7ec14426ebcb1712cf53bc67b": {
     "views": []
    },
    "3a94044f811041b5b3a69d6a8db508ed": {
     "views": []
    },
    "3aa52183ff154ad2894ab8db2fadd3f2": {
     "views": []
    },
    "3ae4f682623d42769714d204e7c274c2": {
     "views": []
    },
    "3bc7ce4990774a27a6c65e25cf5185d0": {
     "views": []
    },
    "3bd180a2477f41f5a7131889e13d1b73": {
     "views": []
    },
    "3ca9bfda7ed14e7b9185046ce4f4c085": {
     "views": []
    },
    "3cf660a1fc7146f6bb3aebe5a6d109d0": {
     "views": []
    },
    "3d0ba04e55994c12b4af4b2a68b8f203": {
     "views": []
    },
    "3d1346577399436c8637244fee8bbbd2": {
     "views": []
    },
    "3d5e0a3827484a6a966f1fec6d5a8840": {
     "views": []
    },
    "3d6dc0dc7e494c7ea48b9fd777aa193f": {
     "views": []
    },
    "3d89c6f16d7f4bb0bd5acb86683eebc4": {
     "views": []
    },
    "3d997e5ae6894b91a59d873cc8310e7d": {
     "views": []
    },
    "3dac6c5bc8cf41788d0418e34135a90c": {
     "views": []
    },
    "3dbc7c7b12ec42da913ee60a30d834b7": {
     "views": []
    },
    "3dc9264129ff459c83e41fbe9eb31702": {
     "views": []
    },
    "3e653d4eab2749eb9208f8c23e21ec12": {
     "views": []
    },
    "3e6cec3addfc454c8aa1c25910c1e586": {
     "views": []
    },
    "3e7a18bbeb554e61b341dbb562a2be97": {
     "views": []
    },
    "3e93a687c6424bc69cb8f3bdc9f409f9": {
     "views": []
    },
    "3ee5b5cd8e714507adf8677244dc4689": {
     "views": []
    },
    "3f157bd0354c414c8e0a75dc57d958fd": {
     "views": []
    },
    "3f33a15f84a54215b7a51ee73a7b47f9": {
     "views": []
    },
    "3f5ebee89fef4ddb869b127e471a576b": {
     "views": []
    },
    "3fd8b2fd4a02461188cfd5767ef78a05": {
     "views": []
    },
    "3fe09395e23348fb8829984ad9e9059f": {
     "views": []
    },
    "3fe67534fce741c888d27e43433c49bf": {
     "views": []
    },
    "402f553f51a34c1d8e8ce9dba398bb31": {
     "views": []
    },
    "405f8c63490d45ed9d4d45c576867922": {
     "views": []
    },
    "40910df2faf54ab0a283d94727bb7c02": {
     "views": []
    },
    "40b44558bd954c4fb3cb2c6b9f302043": {
     "views": []
    },
    "4144e9c54a3141c98c28a52ae1fdbffe": {
     "views": []
    },
    "41511361e751423da357fc93fb4d29d5": {
     "views": []
    },
    "415346b7d3e5495f91c0e18c4748012f": {
     "views": []
    },
    "423edb15948e4422857dedd156a985ef": {
     "views": []
    },
    "427cc8e4776748ff8b64f223f822f2b7": {
     "views": []
    },
    "42bb26e961d645799ac2dd2d1b73525a": {
     "views": []
    },
    "433bfecce1a4491d8c8b84d39df0bdce": {
     "views": []
    },
    "4348b628299b4bab9362ba0302982abe": {
     "views": []
    },
    "4377d837bebb4a629f2a62e9abb8bcea": {
     "views": []
    },
    "443f179843f548e5a742cf57d7b50517": {
     "views": []
    },
    "44492c211c2d42ddabe2e9a3b06a3a05": {
     "views": []
    },
    "446983c6c8804b30a7c2e1a60fe8bca5": {
     "views": []
    },
    "446e374418f34f58846e8d5049ceda9f": {
     "views": []
    },
    "44e0a07106734b118fe69b623d8cbc64": {
     "views": []
    },
    "45c25728a61e485db1e343cad3fb757a": {
     "views": []
    },
    "45d1610a4f6248e8b5a5f668ffdf4467": {
     "views": []
    },
    "460404909d0f43eeb7777998d1d4de18": {
     "views": []
    },
    "4613d2ae536d4f48b68f01dc4e1b6006": {
     "views": []
    },
    "46317d81b58444b3975225ed235020ac": {
     "views": []
    },
    "468d099aff124354b4e9d5ea486943e4": {
     "views": []
    },
    "46ccbc1eb7bc4994a47f0dfa3bb03edc": {
     "views": []
    },
    "472db507b15e4fc6bc0bba778451a847": {
     "views": []
    },
    "4767f63dd6434e22b849e9257ce6e7df": {
     "views": []
    },
    "4771b042f61544e0bdcf05b395d7841e": {
     "views": []
    },
    "477f383dc168461b80050344b47c63f8": {
     "views": []
    },
    "4794a06ea36a4c8da3d799d543dc5b21": {
     "views": []
    },
    "47dae8b4803a4dfe865030d04d5ec5bd": {
     "views": []
    },
    "486e198ba44b433eafada506c1720f86": {
     "views": []
    },
    "49311850abcd4ab7b93996c54561facc": {
     "views": []
    },
    "49831d71273046ca8ed0e4b8448e7674": {
     "views": []
    },
    "49e3646cb60b44baa48c6aecafd284a9": {
     "views": []
    },
    "49f08b73a68d42c09d3fefc82aae44a4": {
     "views": []
    },
    "4a4c9c7a152644f9ab0e4f535490c9d5": {
     "views": []
    },
    "4a7505c8ff5d4f22a41679ca2246998a": {
     "views": []
    },
    "4b00f1af20f64ee8a2608777c5c5ea4c": {
     "views": []
    },
    "4b18da5e90bf469f9a8d80f4100e9c00": {
     "views": []
    },
    "4b2b1fb2ef714294966cff7d953275c6": {
     "views": []
    },
    "4bb73ee2162f4136a8c97cf2b0640146": {
     "views": []
    },
    "4c282d27b7cd42e7a7b43144f0a64f96": {
     "views": []
    },
    "4c77d2dc2a4a46b3ab3d9b0244546c42": {
     "views": []
    },
    "4cbb7820ef80408bbab20af28a16d772": {
     "views": []
    },
    "4cc50b1d160c41c580afceec75778844": {
     "views": []
    },
    "4cd45b97f9854449874a66898ab3c1ba": {
     "views": []
    },
    "4cd7e1a830bd4d33998a69c94f82d170": {
     "views": []
    },
    "4d41a7bb0cb240e298eaeb408e4649b1": {
     "views": []
    },
    "4dcd9e5a6a03480ba871c2539f895da5": {
     "views": []
    },
    "4e02470553fb4a3c827df9c6e7c52f4e": {
     "views": []
    },
    "4e530c2aeb7c47b39d98fcea6ab4fe25": {
     "views": []
    },
    "4e571839670844e29cbf0fb51ba6529c": {
     "views": []
    },
    "4e686a7e29bc4bdca0bcf5d263043045": {
     "views": []
    },
    "4f004e8818e24dfa9277d950ceaffcf5": {
     "views": []
    },
    "4f5d3a0b1da9479fa067c2a4fec6c2b5": {
     "views": []
    },
    "4f934f4a193642e59255547d29b713a3": {
     "views": []
    },
    "4fc35dc971cc477d940599cb6190c073": {
     "views": []
    },
    "5007ccf2b723476c9d11472260c8f45a": {
     "views": []
    },
    "501095c5f10c45d0804011cd3e740133": {
     "views": []
    },
    "50320521191b4ff6bc6513aa306df0e8": {
     "views": []
    },
    "5107b904e967483294a07676a5796abe": {
     "views": []
    },
    "511487e220c447a5b2b9e2c6668ab3ec": {
     "views": []
    },
    "517a2d4b6ac344169f2b287cd4675d05": {
     "views": []
    },
    "518fddfec7604e189a4089a70087ba40": {
     "views": []
    },
    "51cc79163b6b4484a2238397c31f676d": {
     "views": []
    },
    "51db8b0031d44241bc7ca40ff11ee368": {
     "views": []
    },
    "52073f04ac094b5ca41d3251a51732f7": {
     "views": []
    },
    "52aac58164c041ceae17d870baf25bda": {
     "views": []
    },
    "52b8a87a0e414ed0b571bce64421bde4": {
     "views": []
    },
    "52cc76ab52ad45b5b234ff6022a5e44c": {
     "views": []
    },
    "52d5ab8d4dc24cdc8857cbbd969565da": {
     "views": []
    },
    "52e18272013342388a32a4b757ef6f91": {
     "views": []
    },
    "532efe28b054428e9ffdac3f19c5f933": {
     "views": []
    },
    "53325ea9ef33446eb44ba91012eee4cc": {
     "views": []
    },
    "53350dc0e305457f9df8e202b0257b23": {
     "views": []
    },
    "536150f4a7a54c488e28aa67fd81fee3": {
     "views": []
    },
    "536f42e8ec39493cb12358a04aaf023f": {
     "views": []
    },
    "537ea22bb74e497eabddd52dcde8f199": {
     "views": []
    },
    "538acec707fb445188e55d254fb77f93": {
     "views": []
    },
    "53ac95ad20334bda9ade887610d2c45c": {
     "views": []
    },
    "53b051aa19164f769b0be63c3a26a4ab": {
     "views": []
    },
    "53b4eb1f98cc43afb1250b8f6ec6a068": {
     "views": []
    },
    "53bcf9c32a724aa6a5d4509bb9962915": {
     "views": []
    },
    "53cfef27d9fb4ab88e6d018e63f96c3a": {
     "views": []
    },
    "53ebb1ee96d946a99a62680c90466245": {
     "views": []
    },
    "541a9f57de6a4e859b3f8605d229d6c5": {
     "views": []
    },
    "5447823d110a4e9dbe0eb93ac9e3fc3c": {
     "views": []
    },
    "5456a94502fc49ffb45dfca5ce6fee5c": {
     "views": []
    },
    "54f87c4c80fb4283988a294b6f53a3b4": {
     "views": []
    },
    "55253010d1d049e081c7cafb7ecd5aee": {
     "views": []
    },
    "5527efceacdf43a78fa25ed6a35c4bc1": {
     "views": []
    },
    "55d429e683344ed3bb7e9eed48385b2f": {
     "views": []
    },
    "55d727e97e324cc981cd8bf28a2b9058": {
     "views": []
    },
    "56040b406f4648d1ae8949d915379499": {
     "views": []
    },
    "5606f584e91d460f9d11e3baf5d7b9c4": {
     "views": []
    },
    "566c26713c6141678e4381f194740b35": {
     "views": []
    },
    "567dc3b3b3124347818dbf5817f90185": {
     "views": []
    },
    "5686160961334b9dbb4315fb71c812dd": {
     "views": []
    },
    "56fecc8abb38456297b8cc2eea2a51b2": {
     "views": []
    },
    "57a5f7eb61b941c9b0dc26c4081318fc": {
     "views": []
    },
    "57b838e615c84e40b4e38610c68cfe6b": {
     "views": []
    },
    "57f5557615d44dd780fe555a30ce0694": {
     "views": []
    },
    "58372989bb744c5686e8950e5507fb83": {
     "views": []
    },
    "584eaa610d63496bbf9ff0d8bb33f924": {
     "views": []
    },
    "58dff9d6b8a4433fa8d777f7e8489f0b": {
     "views": []
    },
    "58fdea6743834af69639d92bae8acbb7": {
     "views": []
    },
    "591dadc959434e92be78753d4d282ad6": {
     "views": []
    },
    "594e0a25d6444e2b82a6db71795a89e4": {
     "views": []
    },
    "59a18ee3b2e14d98bacd64c53465c41c": {
     "views": []
    },
    "59cd9b2b7379445b9d6eb3fbeadf40ca": {
     "views": []
    },
    "5a0024614d71463c8d89b5aabd4abfee": {
     "views": []
    },
    "5a179838874e4afc8a6b821e75460d9c": {
     "views": []
    },
    "5ae0a3e899ae40e2b51ee7e404769dc2": {
     "views": []
    },
    "5afe881150a347d888436cb8d8fad354": {
     "views": []
    },
    "5b0dd8bee7904d068cddc285a30e38fa": {
     "views": []
    },
    "5b1a31ed707c4b9e97d3ee1548b9e4d8": {
     "views": []
    },
    "5b1b69eb84194541ad62105b12ed39ce": {
     "views": []
    },
    "5b3786df5f204e078f0173e8bac03198": {
     "views": []
    },
    "5b57bbcf46b64de9b5bdfecc9a4a2622": {
     "views": []
    },
    "5ba73d0736d5463fb56bcbedc0b22689": {
     "views": []
    },
    "5bd01e14ebee4ad2b750eab2d9a12b6f": {
     "views": []
    },
    "5bf6e53ecd5345d8b9a4644a785f2713": {
     "views": []
    },
    "5c14735fcbf24702b70b32a2b36bf1d0": {
     "views": []
    },
    "5ca86eedfce94f24bbf9b64725185d15": {
     "views": []
    },
    "5cc179d89ade479db173caeef8981447": {
     "views": []
    },
    "5ccd63a843b54998a5211ae4cc4273b9": {
     "views": []
    },
    "5cdfc31414554d4ea719aa02a1e97881": {
     "views": []
    },
    "5d88c302c5d54f44a3374a33abff9234": {
     "views": []
    },
    "5db11200772644ce97e8697c588258a0": {
     "views": []
    },
    "5dc9c129ee9843379e4e7a8cf071efff": {
     "views": []
    },
    "5f2769ca40da44c79c8f4b7df2969d41": {
     "views": []
    },
    "5f2e4e0940fb4fbf81d2933356af9123": {
     "views": []
    },
    "5f4b18050bbb427fb5208cc575dfb22a": {
     "views": []
    },
    "5f54317277394ee6a0c9970860c93edf": {
     "views": []
    },
    "5fb0c365188941b4a6c2c74079ecc6f9": {
     "views": []
    },
    "5ffa8a71dc1b4b70ae8aecaf7a9096fa": {
     "views": []
    },
    "5ffadbb272264c1c8aee7321fbb4f52b": {
     "views": []
    },
    "6011971ecf3c425ea2e2d55d5fe6c439": {
     "views": []
    },
    "606c74158c234f3bbfb1d30480495477": {
     "views": []
    },
    "60a70916b26942e38ce256038aaf93ba": {
     "views": []
    },
    "60f0b1cb01b74810951cd3444c564735": {
     "views": []
    },
    "614df31b81e24955895e366f224854b2": {
     "views": []
    },
    "616e4ae473d6426194270f8835e495be": {
     "views": []
    },
    "61ab2f7498424ed598586b8e928a6380": {
     "views": []
    },
    "61bf117191af460e99ab8e33b37ae82f": {
     "views": []
    },
    "621c93c83d8c4c5fb0de0354c1c22225": {
     "views": []
    },
    "6272489b744a4e609be338c5f232a1e5": {
     "views": []
    },
    "6298c119be1340679894625bf729118d": {
     "views": []
    },
    "6305bf62abc3420889405ca1c651dc7f": {
     "views": []
    },
    "638bd466e055451caada38a9a39a0ab9": {
     "views": []
    },
    "63c4db835f5a4455bbb0ec9723350ff6": {
     "views": []
    },
    "64084527e0bc4935866d13ec14903a65": {
     "views": []
    },
    "644fdc60b4874af19590561f666b9205": {
     "views": []
    },
    "64b36a6723bc45ab97f3944d812cba4f": {
     "views": []
    },
    "652f804b426f47f1973cba5337ad272b": {
     "views": []
    },
    "65b38c83c2054e1996818290aad16461": {
     "views": []
    },
    "65ef4a5d88704e63a3ebb341fa15a81b": {
     "views": []
    },
    "6628cdb4dcd342559ef32a70e0fb445c": {
     "views": []
    },
    "664785b0bae046a588d684c36d8e072c": {
     "views": []
    },
    "6658d72fbf6949e299f81f38a6fd1eec": {
     "views": []
    },
    "67418f353d2e4be3b153e50abf91cb5d": {
     "views": []
    },
    "6768e3630d5a447885f0eae1521ad87e": {
     "views": []
    },
    "6798754cfc2948d99c5ce942f310ca8b": {
     "views": []
    },
    "682312ea16bc4caaba1a9d187b9eb07e": {
     "views": []
    },
    "683815b4c9154acdb0eb9ac1393d8e7a": {
     "views": []
    },
    "687e5887c01c486ea4d8f43718645ab6": {
     "views": []
    },
    "68abe8997571418689b6a6fa36c37eb4": {
     "views": []
    },
    "68adc9fffa2049c4a1c562d4be46185d": {
     "views": []
    },
    "68bf612dc0784475ae82b89d31a752c0": {
     "views": []
    },
    "6944fdc40eca44b987af93e2c5746180": {
     "views": []
    },
    "6961562bc4b74b8e99bbd986d89419a4": {
     "views": []
    },
    "69760558ebb348a880c6d2a13b345eb5": {
     "views": []
    },
    "697ce8d5cbf34345921f6a86e9261320": {
     "views": []
    },
    "6a101ddd74704ba2871b221eb6423e37": {
     "views": []
    },
    "6a926a69fb9a4cc1aac263ea3ba78532": {
     "views": []
    },
    "6a9ba181ca9c4bda9868b3b4eb7adcf4": {
     "views": []
    },
    "6c629773086c4b8c94cea8a61fed1b10": {
     "views": []
    },
    "6c8d451ebdba4d5596a1eb7b7545003d": {
     "views": []
    },
    "6ca82a782860402ea17ddf89b330c01f": {
     "views": []
    },
    "6cbde74a70c24d82a34c13977f0d3318": {
     "views": []
    },
    "6cfb6fe52903484cb86dce51738042b5": {
     "views": []
    },
    "6d79ebab58f3436ea906e1e44dd4e81c": {
     "views": []
    },
    "6d7b93ca0f9746a1a73f3328996d355d": {
     "views": []
    },
    "6d88ff85f40640438ee86218a177f9f8": {
     "views": []
    },
    "6dcdb0e9ed724dc3aa6c7fb27e627526": {
     "views": []
    },
    "6dea5accfdb84741a8971f8e660800b6": {
     "views": []
    },
    "6dea5f00c28d40509685a574a425be93": {
     "views": []
    },
    "6e1a6c69dc984206be588e0ab209bb27": {
     "views": []
    },
    "6e5261c7add247039c4878a4b66c00f3": {
     "views": []
    },
    "6e5a2f78ddd0410ebfbbb79b98201aa1": {
     "views": []
    },
    "6e5d1ff7c6b74112aa51f8b50bff90a0": {
     "views": []
    },
    "6e60ef7b2fec41e9b4abc806706025b7": {
     "views": []
    },
    "6e8f89bac56542379fdbf5d8bed2d363": {
     "views": []
    },
    "6ec2f45954594581982ec0c9ed62ed90": {
     "views": []
    },
    "6f76e3b1a0ee463ca6cff5fdbbd97939": {
     "views": []
    },
    "6fa3ba2f51b844b2a4c119720e8361b7": {
     "views": []
    },
    "6fc02d85310b499f914b877ff4728b0e": {
     "views": []
    },
    "6fd9b3cbfcbf451aa70f359b01b19e1d": {
     "views": []
    },
    "70625f402c7a4c9b82ac703dfe33b76e": {
     "views": []
    },
    "70a19adcfb5f42e7a6a36c8bef625885": {
     "views": []
    },
    "70d88c0ebd254d75bb5b35a9b5014697": {
     "views": []
    },
    "70e64550f89b4616aad550bdf5f6c148": {
     "views": []
    },
    "70e941a247c94bd5b79adff55dfc39cc": {
     "views": []
    },
    "71171fd42c0440b089593eaa823fe68d": {
     "views": []
    },
    "71575fd6eb124d70ba41b1b3fe7e9591": {
     "views": []
    },
    "7167893338e446809cc79702ad33b7d0": {
     "views": []
    },
    "71684263edb745fbb3149f2c18250fcf": {
     "views": []
    },
    "716e36bd3f7044239e757bd56171814c": {
     "views": []
    },
    "71ed1ca311454fc6bc17952a09600d6f": {
     "views": []
    },
    "71fa2e9fb9424eb08c542d0ce189cf9b": {
     "views": []
    },
    "72e632db864a494cab82bd2d40f6afd9": {
     "views": []
    },
    "7332cb49356743428c3713c20bb0be52": {
     "views": []
    },
    "73f7eae80d604732b3a0d134e41e6e7f": {
     "views": []
    },
    "7432e8f610f24c3c9a61a52c457db3e3": {
     "views": []
    },
    "743e7236cf6840cb954ef11ced6096a6": {
     "views": []
    },
    "7477d083d4b742e385e3b78ef4a01915": {
     "views": []
    },
    "74b630444d91445cbc98614e5c1c8c2b": {
     "views": []
    },
    "752a16afdade4446bd47db13a730b0b7": {
     "views": []
    },
    "752c62597a584361adf2281c19de461e": {
     "views": []
    },
    "7533d7cb3bea4a8b8f4e7598dc63edc9": {
     "views": []
    },
    "7598e3a6d26247a898d8095063bcac18": {
     "views": []
    },
    "75a401c383c34a53828ec121674ec5e9": {
     "views": []
    },
    "75f96cff498c49719d51bdb36c706941": {
     "views": []
    },
    "75fe064b8b734c34871d74bf88eaeae2": {
     "views": []
    },
    "7634a38a3f164bcb8ed641e6c1388540": {
     "views": []
    },
    "76b9a702a3d746acb2c7785d2e2ca7a4": {
     "views": []
    },
    "76e05d91830d44549b6330b8d3e3e76b": {
     "views": []
    },
    "770feda774e141b09cce4ac51c5ff911": {
     "views": []
    },
    "776d84d241e94ad493f52b39f22c4ee2": {
     "views": []
    },
    "77d22c6af3fc4785b6db08b0027790e1": {
     "views": []
    },
    "78b2c5baed014fad9d4fd80fdbf523aa": {
     "views": []
    },
    "78de4d3e50dc4c2898923b6ac27f38a9": {
     "views": []
    },
    "791d7515b1e541eb9069cd0063a5eaf5": {
     "views": []
    },
    "798d6c2539ce445db9244feb094494bf": {
     "views": []
    },
    "7a03cd5630c948afaf031dc7a53f41a2": {
     "views": []
    },
    "7b7e44a9b1884f0fa5edd0e7a8be6ad4": {
     "views": []
    },
    "7bb79237524c4c85b3443656373b94e6": {
     "views": []
    },
    "7c265bccc4d743f2aabd513e4bfe1c79": {
     "views": []
    },
    "7c6ffb9f97a24f77ab319c5f998d3ace": {
     "views": []
    },
    "7c74ab8911a442cf9a7ee145956cadf2": {
     "views": []
    },
    "7d20241d9936498ab717102505fb7f2d": {
     "views": []
    },
    "7d48b2dd45a64491bf9f7a98991708a6": {
     "views": []
    },
    "7d4df5aef44b4a30b392fd3cf9584617": {
     "views": []
    },
    "7d8d301f15c74a49988511236d742219": {
     "views": []
    },
    "7d917bfda1694b7f89a57029549fe6ed": {
     "views": []
    },
    "7dd36b7504474b18b8634c3759adc705": {
     "views": []
    },
    "7e8c604274294ca68ce62bb685c49de9": {
     "views": []
    },
    "7e8d54dead984651973654dccc87b927": {
     "views": []
    },
    "7eb73589aea8409f8d605eda9b7e4536": {
     "views": []
    },
    "7ebba44cb7b24c6abe944710607c0601": {
     "views": []
    },
    "7f0d5e89d22e496a8583633c4efd859f": {
     "views": []
    },
    "7f883dfd25ce4c61803b935a87374e90": {
     "views": []
    },
    "7f98a89f0d08445887c7aef8a4ceffc2": {
     "views": []
    },
    "7fa2cb247f5e4c78909143e40a649988": {
     "views": []
    },
    "7fc821021616493492921b595e9a52c0": {
     "views": []
    },
    "802068adc3bb4a1a947c7491fdd17828": {
     "views": []
    },
    "80821d74fe644b9dbfc0fbc855145a23": {
     "views": []
    },
    "80878f2de89148f9910632984317a488": {
     "views": []
    },
    "809d2354931b4fd2ac627573e2153808": {
     "views": []
    },
    "80c1794ec44441ff901b761a70564295": {
     "views": []
    },
    "811336df37b74c3e9b342d8848a4eb01": {
     "views": []
    },
    "812269a6a443480c9f5c8ec42c8781ad": {
     "views": []
    },
    "815cbf057cb74b77acd7baa7f4e0f67d": {
     "views": []
    },
    "821c6d8e3edb44e0bfe10a5ca1603bf3": {
     "views": []
    },
    "8231833f569e48d5a030cfc8e7481981": {
     "views": []
    },
    "8250045f06be4fa1a06590fd7b6c1a65": {
     "views": []
    },
    "82cc70d001524e0d873ce7df3a9ded6d": {
     "views": []
    },
    "82e603b5f8e94374a85dacf996f2b5f4": {
     "views": []
    },
    "82f6ed6fbcee462b897220708cbe7629": {
     "views": []
    },
    "83088b9e0bbb4502b12e5e46276a6930": {
     "views": []
    },
    "8353636c69ab4e85a2b6318d9bda43d8": {
     "views": []
    },
    "8397e13f2b3e479ebe6a8d6e16181c24": {
     "views": []
    },
    "83ccfd73dd5b44b4978e1dadfb711a93": {
     "views": []
    },
    "83de340c9b904b599ddeed933f1317a0": {
     "views": []
    },
    "844a639a028743a885c8c182dd69216f": {
     "views": []
    },
    "847d5c54c1554f3b99d9e5d40af8d6f4": {
     "views": []
    },
    "84b81240a84349d5be5dff29f4ba4285": {
     "views": []
    },
    "84c2c951aa4d4e6fa84a4aee4fd2243d": {
     "views": []
    },
    "84c86e5de957491cab217911c1517064": {
     "views": []
    },
    "84cf42e764ae422bb586747125d322f4": {
     "views": []
    },
    "84ec51d40c7843cb9dd87a3f71384eae": {
     "views": []
    },
    "851bad7f32a140a8ab5cd26c9a387cb1": {
     "views": []
    },
    "852b3e9056034ae7b162317cea9d293c": {
     "views": []
    },
    "854a59c3e1fe425886f3ad2f01699bcb": {
     "views": []
    },
    "858dcc0947a04295b5dda4afb8128b0d": {
     "views": []
    },
    "85d531622baa418ab3ef13fd47ff2806": {
     "views": []
    },
    "86840fe1cf164671b9bdc5e5a0a18a51": {
     "views": []
    },
    "86f22a509484446f9c921d7975008a1d": {
     "views": []
    },
    "86f28839dde54aa5b3ec6fd9b09e5a5a": {
     "views": []
    },
    "875f06c476454c228a829ec40cd46ce2": {
     "views": []
    },
    "8779b6e7ce36452389510cdd6b3556c3": {
     "views": []
    },
    "878d48c099f04aac88d4ce112f567d7e": {
     "views": []
    },
    "87926ae0f0cc466590bce2c2a36b2398": {
     "views": []
    },
    "8797731193474923b131707375d69ffb": {
     "views": []
    },
    "87e15fd970434fa1bd753bb4981c339e": {
     "views": []
    },
    "881520d0ccb84ce8a47b69fce0979e9a": {
     "views": []
    },
    "883054d7be534c78a32cc7ece39eb504": {
     "views": []
    },
    "887a8e3558b446e18df039738c927dd3": {
     "views": []
    },
    "8891b677a40a4ab4a2520fff71bc6d5a": {
     "views": []
    },
    "88a22f7c2857403c873b7bdb78f5d556": {
     "views": []
    },
    "88ae1c62d50d46b8a04e4a48e1ed8330": {
     "views": []
    },
    "88bdb710342548dfacb744a0a84b70a4": {
     "views": []
    },
    "88d03c31d95d41cc8a613f37002089ff": {
     "views": []
    },
    "88eae3badcff4b7f94a4c5bc66b2a14b": {
     "views": []
    },
    "892ece80158a404ab99ab078d5f4beff": {
     "views": []
    },
    "894f9ae6973449898315e5251108cff0": {
     "views": []
    },
    "8997be9b2b3444aa8a07d547a172b589": {
     "views": []
    },
    "89fe462638a24de79e8945f1736fad87": {
     "views": []
    },
    "8a30699f27a04997a059b5b202682758": {
     "views": []
    },
    "8aa9c3331ad44e22b77b3008e7832fee": {
     "views": []
    },
    "8abc2952af5b446fb551cbe63ccba16b": {
     "views": []
    },
    "8ac2638f2967444d8c26a740a1752534": {
     "views": []
    },
    "8ad3eef22bf64f2589a72ad8ff855024": {
     "views": []
    },
    "8bb44263f76a407a8f3497ae11eac73a": {
     "views": []
    },
    "8be6b8b708a849fea700c1d10f94d74a": {
     "views": []
    },
    "8c352f4a451549188c299b35579b1388": {
     "views": []
    },
    "8c446e630f1f4af68aff570520b4f332": {
     "views": []
    },
    "8c8a8b44aab94ab6b942140c43571303": {
     "views": []
    },
    "8cb7325a20db4e90907b33799b68bc46": {
     "views": []
    },
    "8cf8008280874ec1987e7f54a6745130": {
     "views": []
    },
    "8d623964886042f2a19f179f67a3ef73": {
     "views": []
    },
    "8d7f0e8c7e644d529ed4592e92b1a471": {
     "views": []
    },
    "8db71c70d2c54ef9b092c11c3dc4e13b": {
     "views": []
    },
    "8dcfe0e4a774461c9b3bdbbbfe8ab71d": {
     "views": []
    },
    "8de21dcdbdf34a1bbd99b16913c62c5f": {
     "views": []
    },
    "8eb91fe401114c8f805294b5f4a5674b": {
     "views": []
    },
    "8efe5dd24abf4d3b8a61e315de16fc2f": {
     "views": []
    },
    "8f0e14f03822406e81c870cf0b7b5306": {
     "views": []
    },
    "8f14afcc835b44039582517f42433fe1": {
     "views": []
    },
    "8f26fbff8d7e411a992b188e1199c159": {
     "views": []
    },
    "8f4c1390699244eb9bb1d034623c595b": {
     "views": []
    },
    "8f4f3cb3c719403389977ca068d07f34": {
     "views": []
    },
    "8f524a91a5ca496880de08bb4d13da40": {
     "views": []
    },
    "8fd164ae96ed43959c54f635610868dd": {
     "views": []
    },
    "8ff92ef16b2c4ac484d743e06bcd1c16": {
     "views": []
    },
    "903c7576b26e4869aac3a3f5a7bfd631": {
     "views": []
    },
    "90614fbd69ff4199a65e498b7d3a4dfe": {
     "views": []
    },
    "90c620083f43411b803a01624dac9ef7": {
     "views": []
    },
    "90f03bdf46b149aab043732b0fcbcd1f": {
     "views": []
    },
    "90fc85dce42448f5a73be66bf971c4b1": {
     "views": []
    },
    "916f9a78833847c18662fc0e8e521d81": {
     "views": []
    },
    "918517b069a64fc7a2fc910daa24ba7b": {
     "views": []
    },
    "918cfb3be0d04fe8b1e9917db2bc4039": {
     "views": []
    },
    "918d3a4348fe48a193da74b0f053102d": {
     "views": []
    },
    "91f8df5a568f46968df06f715127fb53": {
     "views": []
    },
    "92b61f24b482465986255cbf5d381316": {
     "views": []
    },
    "92fa25abdfc2447db1c6a2846259db7d": {
     "views": []
    },
    "93155eb4dc21439aa70e2586681ea0ff": {
     "views": []
    },
    "931939519edf49efb8b4884cf09edc87": {
     "views": []
    },
    "93ba4413410f4892b25cfa4c8855143c": {
     "views": []
    },
    "93c61bd94d5f45b682f7edde1cd38007": {
     "views": []
    },
    "943e5d0e69194a01a03a391736aae3c0": {
     "views": []
    },
    "945fa7cfd22640d687cb1ef3d1c8aa53": {
     "views": []
    },
    "94dc4650c75e493696b3836ed902e7e9": {
     "views": []
    },
    "9510915ad41b46eba222f343ec0e5f9d": {
     "views": []
    },
    "9549dd2d60e84af9afac99361d18e893": {
     "views": []
    },
    "958325c6840b4d33aa457d7e32f9da85": {
     "views": []
    },
    "95d591b9884d414d9bd6ed640a02fe61": {
     "views": []
    },
    "9639820e93af4fada49e7fd4ad0da9ac": {
     "views": []
    },
    "967eee0854114d6287326ca59ab8f5e5": {
     "views": []
    },
    "9697b88603284b10878710d1d189f3d5": {
     "views": []
    },
    "96c8a377d4b445d7bd9d686fc428f749": {
     "views": []
    },
    "96d4adc8c07541c1b2436734d4f3f063": {
     "views": []
    },
    "96f5e79aeb4a4fef9fc4745fdd4391aa": {
     "views": []
    },
    "96f920f4964d48ccb4834d5568581662": {
     "views": []
    },
    "972732a681134a9da3922c0ade719dfc": {
     "views": []
    },
    "974e140813234152b4777bd5abbac5a6": {
     "views": []
    },
    "9755ff76c6254356b920253c3e55e95b": {
     "views": []
    },
    "97c7c53c9c8e40f2a23952646bd05bf0": {
     "views": []
    },
    "97cb70a6e331456e8fcdac32494bd4e9": {
     "views": []
    },
    "97f7a27b9af048b2b1353fec84451486": {
     "views": []
    },
    "9831da10a93b422381e423ea10ea9e06": {
     "views": []
    },
    "984aea30b72d467aa3b8de3a083f757e": {
     "views": []
    },
    "985113623f10484ab8d32b71a9aedd03": {
     "views": []
    },
    "98ade19a1c7f4e498e3d52a0f8fabf92": {
     "views": []
    },
    "98b5b662f4b94a09bbf2c27b4ea2bea2": {
     "views": []
    },
    "9938a135406641deacf4e680daa5114a": {
     "views": []
    },
    "99658f59fd9c4be2973c147416e23def": {
     "views": []
    },
    "99776b656f2f4019af63cba72c00c0ce": {
     "views": []
    },
    "99eb01c517c546718425644ff4368507": {
     "views": []
    },
    "9a4362cc34454eccb31cd5ca6a85d23a": {
     "views": []
    },
    "9a5ad4615ac64cb9a4ea400f95fc6ae4": {
     "views": []
    },
    "9b902f2bd85d4e34a5a3fcda71d549cb": {
     "views": []
    },
    "9b9ebecb32cb4c75b6f8ba099c01a21d": {
     "views": []
    },
    "9bd766080d294b2ab672ea93dfe3430c": {
     "views": []
    },
    "9be04b438f55492aa176528068fa5d83": {
     "views": []
    },
    "9c3f247189a9402ab2e5bd6ce3c5cd1d": {
     "views": []
    },
    "9c41b41479264781bd1a9b4a933a0bf6": {
     "views": []
    },
    "9cb2bb50de084906809bb0f5b11f7b1a": {
     "views": []
    },
    "9d350f75ffab462d9bcedcbe30dd3e04": {
     "views": []
    },
    "9d773dd9145f4347821aea2c0964544f": {
     "views": []
    },
    "9d7924084ca64198a7289b85268258b1": {
     "views": []
    },
    "9dbb58b84a174f7b9dd1de56e4f8ff17": {
     "views": []
    },
    "9e2544ff37994fc08c5f27e3901e0902": {
     "views": []
    },
    "9e2ae876c1db4af5a42c2c889b05f5d3": {
     "views": []
    },
    "9e304d5f7d8742c580ce5916d32c59de": {
     "views": []
    },
    "9e31ca33aa4b48b8bae8271364c90793": {
     "views": []
    },
    "9e7facaf59e74b28a7c06fecc78eb64b": {
     "views": []
    },
    "9eaacdb0d304424b828db2ebf0979cc8": {
     "views": []
    },
    "9eb9d7309a6e4509a241c8d93302324e": {
     "views": []
    },
    "9ecf8ec54ea8427dbf215911912f6f0e": {
     "views": []
    },
    "9ef81f3b82aa44a49b2b44fd943dd884": {
     "views": []
    },
    "9f16b320b6b24ff39fcd64bc7ad8bd5c": {
     "views": []
    },
    "9f6942bb4c84453984d72bb16d3bc07e": {
     "views": []
    },
    "9fbcb730d7f341aea0fb027c29fdc518": {
     "views": []
    },
    "9ffe17486eb74c3c8634c9a2dc695b73": {
     "views": []
    },
    "a01c630ff8b544118fa41cebdd7602e7": {
     "views": []
    },
    "a085d95f74d2480f9b855c305a040f43": {
     "views": []
    },
    "a0c6836614874c859143287de3ee367c": {
     "views": []
    },
    "a0dd6e4851a04ef590f6ab23bd9f4dc4": {
     "views": []
    },
    "a14576a10ddd46a792ff2785a1ade141": {
     "views": []
    },
    "a146ff8f82e74d3cbc9993f12bf7ef7d": {
     "views": []
    },
    "a15112fab7ca415d9d9080db9d0428f2": {
     "views": []
    },
    "a1bd38dd4ab248818962298d0d879a55": {
     "views": []
    },
    "a1dd855313c14f6da6c0734a4b204ae1": {
     "views": []
    },
    "a1e3c297c3ac49a3b3e0a92a24b42f57": {
     "views": []
    },
    "a1ec0c40af6f480686943d525c52a1b5": {
     "views": []
    },
    "a23bf50c9d594a2eba6c7cbce5695255": {
     "views": []
    },
    "a240b6e6e8fa44adbdba4b82a55264a6": {
     "views": []
    },
    "a2cbb9c5112344c081870b322927c012": {
     "views": []
    },
    "a2fd21ff9ded4ccfa37aa41d654add30": {
     "views": []
    },
    "a3970e220e6949af97a2cd1069474c43": {
     "views": []
    },
    "a3baf157ea5848fe9fc1059fdb07b1b1": {
     "views": []
    },
    "a3c797ad65094c2d9c1c25b6e5c0c5a9": {
     "views": []
    },
    "a4109baa94a247a38adbb2cdc2409f89": {
     "views": []
    },
    "a498fcd2e0c049cdb64813ddbadf8094": {
     "views": []
    },
    "a4cb43fcd9ec47f18232e6bf50dbeadd": {
     "views": []
    },
    "a4d1720221eb456b864be55fefbc5055": {
     "views": []
    },
    "a4e7ad18c36d42e088643ff94ac7daab": {
     "views": []
    },
    "a56f60509a1140699eb697e64233389c": {
     "views": []
    },
    "a589fe99c30a4198b1728a240b1a1a03": {
     "views": []
    },
    "a5b18adcd279411d9416033191335580": {
     "views": []
    },
    "a5cd3aee39c64fc89d54f67741528cc9": {
     "views": []
    },
    "a68aac09cfa748b9b85eda8ab86a5786": {
     "views": []
    },
    "a68ccf17821742adb5d5b9bea22b8fe5": {
     "views": []
    },
    "a762a51651fc4f609fdf1bbf218199b3": {
     "views": []
    },
    "a7e41123a8c0497faee4780e85eacc74": {
     "views": []
    },
    "a884ca1be8b1457bb07d8147b1c76f99": {
     "views": []
    },
    "a8c3b54701bc4adead43f81a0d8d59d6": {
     "views": []
    },
    "a8d366568fed4850bd095ca1fce9daa0": {
     "views": []
    },
    "a96d06944aa64d63ac4e6263eb161332": {
     "views": []
    },
    "a98a5c44853548a68cd1571d1281edc6": {
     "views": []
    },
    "a9cd421643ac46738404987cfc95243c": {
     "views": []
    },
    "a9e19b16a5394846af63655766253a1b": {
     "views": []
    },
    "aa0afa419296416a8c9c95fa9c7233b3": {
     "views": []
    },
    "aadbb5e9d7ce42019b9be333f7dc0f68": {
     "views": []
    },
    "ab2d262b8c634abf908f8f1b566c5352": {
     "views": []
    },
    "ab361e7784f445c58024668357465b80": {
     "views": []
    },
    "ab4c7c9d06214b6ab4c3edc01b339996": {
     "views": []
    },
    "ab8257023be649d5a9f2e806a61df76e": {
     "views": []
    },
    "ab9d614caace45da86cb49bc3f94dc51": {
     "views": []
    },
    "aba5b8a38a074a2d8b28440fadc4eeb7": {
     "views": []
    },
    "abb7be978ed544d3a7829bd6bcfe7a0f": {
     "views": []
    },
    "abba937acfdf4126a1edad0929971ee0": {
     "views": []
    },
    "ac4aa050918a44f9a0fdd31f288c5f8e": {
     "views": []
    },
    "ac4b2d4450eb4e1387e20d5818d9a7f3": {
     "views": []
    },
    "ac6c74d315c044b9813a93a45f2866eb": {
     "views": []
    },
    "ad321d1852c3407a994d70e5931cbfd9": {
     "views": []
    },
    "ad40daade16841a69a6256f1fe224937": {
     "views": []
    },
    "ad5555d8cc2b4be69fa1e33538220c17": {
     "views": []
    },
    "ad8a8900170148b4bc4507b3238fae1e": {
     "views": []
    },
    "adad4e48f4bb49d0b8942ff3a5c942b4": {
     "views": []
    },
    "ae878aa00f1c4b6b9f52e536eca6d51f": {
     "views": []
    },
    "af29a41b2bc84579b9574a2274a67acb": {
     "views": []
    },
    "b0302044d4864f0188cc3ddfd7d8245c": {
     "views": []
    },
    "b0c8d0e294a444689def74bc0bd01cd1": {
     "views": []
    },
    "b0d81f45eda646449c7df1352b55e0ae": {
     "views": []
    },
    "b0ff0540e35f48699033809315c0d94d": {
     "views": []
    },
    "b112a74452c34575afd5e09fe9b6b992": {
     "views": []
    },
    "b139306f2b114ee9ad6ba07f0fc640fa": {
     "views": []
    },
    "b219b123310d46eb8bbe1dff425a467f": {
     "views": []
    },
    "b2fb4c39c14a437182c240f62417ab78": {
     "views": []
    },
    "b3385b158cbe4ce89b9ab5a1aa746ced": {
     "views": []
    },
    "b3814f54708c484886329898155484bc": {
     "views": []
    },
    "b395c381c47240ab8675c2f26e560fce": {
     "views": []
    },
    "b3b0188f162f4d5d979a1edd51838b34": {
     "views": []
    },
    "b4b411126dff491a960d9f86d1901044": {
     "views": []
    },
    "b4bf7c9ef36f4b46a620fe2085757cc7": {
     "views": []
    },
    "b4c9b30723c6429abc9b2d40629d00f7": {
     "views": []
    },
    "b4d632981f224af0b791ed52d76d63f7": {
     "views": []
    },
    "b4de1c99ea6f4c01a9ba7dc94541e7dc": {
     "views": [
      {
       "cell_index": 3
      }
     ]
    },
    "b4e1c899e41644838b8241f1a03d2ab2": {
     "views": []
    },
    "b4f412e885024d1fbaf120f5dba9b08f": {
     "views": []
    },
    "b534f0c41b6f4c269487ccc40d972a30": {
     "views": []
    },
    "b5467d6ef3f44bdbba76855122dfb760": {
     "views": []
    },
    "b568e07f401c486c84dfa80609090c6d": {
     "views": []
    },
    "b582ebaecb6b4e5ca3015876772a3b89": {
     "views": []
    },
    "b59e248f10484d64be9537d1d535b243": {
     "views": []
    },
    "b5ab080259214264a35bd840453120a9": {
     "views": []
    },
    "b5be44b2110942ba89e78f911ce1c827": {
     "views": []
    },
    "b5d58b5a2c724369b02e2d584ae8c361": {
     "views": []
    },
    "b5ea333b5060474aacf91b4df39a51b5": {
     "views": []
    },
    "b60505a5c7014663a9292b7532ec0fee": {
     "views": []
    },
    "b60a03fce9854284ac54c9914fc0cea6": {
     "views": []
    },
    "b62ee21b2a134c1291a52b323d5aab32": {
     "views": []
    },
    "b6489bcc4ada490ebd670f3b3bc49848": {
     "views": []
    },
    "b660eb6c10ef4a7d84e3cc8ea6f78550": {
     "views": []
    },
    "b669451ec60148f88ff9b43a66b0f2a7": {
     "views": []
    },
    "b70f640f5d0644989de9a1d62776cee1": {
     "views": []
    },
    "b7b7283046b8407495c4c99f54b907c1": {
     "views": []
    },
    "b7d7f83b54e34c7a9b7b24fb4cf28d25": {
     "views": []
    },
    "b8203a60783a4c46884c2dbe4b56e621": {
     "views": []
    },
    "b825c836dbbb4b1ba57a4f69560993ad": {
     "views": []
    },
    "b88d9c9da481421ebf378537e7498d95": {
     "views": []
    },
    "b8c46702fca248d098dce18f4047ab24": {
     "views": []
    },
    "b8e6db0cde89416ca860849bae59614b": {
     "views": []
    },
    "b90a9e277ce742fb94ccd3faa93cdea2": {
     "views": []
    },
    "b93b52a8467746eea2a643501771047c": {
     "views": []
    },
    "b9618fdf9204425b83a864ca7b18c16f": {
     "views": []
    },
    "b962d62b523848c1bacbbc857964ab7e": {
     "views": []
    },
    "b9bc1f7293924b7e9a6ae4497ee24aab": {
     "views": []
    },
    "b9f8f227230f46318bb6491e5f1a3fd5": {
     "views": []
    },
    "ba1fe27e1aa04619a320c2ca1f03d24e": {
     "views": []
    },
    "ba92011011f945afbd770c2484a20be4": {
     "views": []
    },
    "baf2c96ed14547faa516a39deec5d5ec": {
     "views": []
    },
    "baf620d0666949f39852bf7312dddc6d": {
     "views": []
    },
    "bb076bd502824019bb580003c40ba1fb": {
     "views": []
    },
    "bb229a9363364aa8915fb6336c32a180": {
     "views": []
    },
    "bb70596e6f524b118cd77f7c82d4714e": {
     "views": []
    },
    "bbc2f8e2a06b4214ac0d9c1d2c2e852f": {
     "views": []
    },
    "bbc3835c75b947bebb72c2d844906b63": {
     "views": []
    },
    "bbcc57e5a5ed4cb897b7540daf305634": {
     "views": []
    },
    "bbd343d30c084ba1af7c7ffa2845e102": {
     "views": []
    },
    "bc37f81b34d44c3c83bcca5239509c1a": {
     "views": []
    },
    "bcd4476219c94acb97ba0ba451830302": {
     "views": []
    },
    "bd46fac10e8544249f420633e4104da2": {
     "views": []
    },
    "bd8b76bbe7574d9cba4ceee3c15ee800": {
     "views": []
    },
    "bdb0e82b902644c885dd50da2f9fb1e9": {
     "views": []
    },
    "be982d2930b641c19c2b40494c26a3c8": {
     "views": []
    },
    "bea55c46333d496082ecb39b76068514": {
     "views": []
    },
    "beb4b2d24a1447d39af4aed4beb776ed": {
     "views": []
    },
    "bf33e0df1a1f4f3483ec4d1d2ccd7010": {
     "views": []
    },
    "bf45342ee2454c4dbd845719d0a3e6a0": {
     "views": []
    },
    "bf490c7d618c47e499af1c413369db24": {
     "views": []
    },
    "bf97b4c016534bcbbad003b1bcb0f067": {
     "views": []
    },
    "bf9c5ce627eb4f05a1307176969d1aeb": {
     "views": []
    },
    "c020d520fd0142899f09155386361c03": {
     "views": []
    },
    "c0bc3fac209840008a3210eb3fd96909": {
     "views": []
    },
    "c0cef810b81b46b28a52048e3dbbca8c": {
     "views": []
    },
    "c0dc7ea639514fa7a6e2da6146f517c9": {
     "views": []
    },
    "c10853ca366d497d968f3660f0579b65": {
     "views": []
    },
    "c13aff5f2762473fa6a69b6d12cebd5e": {
     "views": []
    },
    "c19ed2b3967243b6a1566aa7f6ec4de1": {
     "views": []
    },
    "c1a537c39f324a5a8daed3c815a77ff1": {
     "views": []
    },
    "c1c211ba1005468e96aa7dca9ae44b3c": {
     "views": []
    },
    "c1f332f4d28c47f69b558329435f4b23": {
     "views": []
    },
    "c2172978935043899eb0a9433a26a65c": {
     "views": []
    },
    "c23243986db14fdaaf81b9f4d52ef8f5": {
     "views": []
    },
    "c2a337db8a764b8f8d12e5890b80a8d5": {
     "views": []
    },
    "c2afac70dba846bdb61a6f514ccc9d9b": {
     "views": []
    },
    "c3053e438e1240498cd66c38326b07b0": {
     "views": []
    },
    "c372e401b816421399d4def69df5f158": {
     "views": []
    },
    "c38633f76e654345a82de01b2d117067": {
     "views": []
    },
    "c394e3cceb2c493e9ad304f8bb24cc20": {
     "views": []
    },
    "c39fc5ae36504d9b8aab28af09d8fb39": {
     "views": []
    },
    "c3fa869adb204e16ba9c14df06ba9cc4": {
     "views": []
    },
    "c408561db50049b09e572189848f69bd": {
     "views": []
    },
    "c40f58a302884fb0b6aefe97972ba48f": {
     "views": []
    },
    "c4372ef394564f11b445d791bc0fa894": {
     "views": []
    },
    "c4d0f9eef36846589f1db2235a81ab39": {
     "views": []
    },
    "c4d502c4f9d142e58a1641ae96261567": {
     "views": []
    },
    "c4ecd08b1540452591d5dc3b77e1a5dd": {
     "views": []
    },
    "c506f15c80664745a09fc98e6b4be657": {
     "views": []
    },
    "c5677cd5dbc34bb3be5edd54dc0176d6": {
     "views": []
    },
    "c56d463ec4f84cc1bb8334c86763fb18": {
     "views": []
    },
    "c59fa54b4ce64659be6834434a304279": {
     "views": []
    },
    "c5ad5e8599324fe7a5a995273f40d202": {
     "views": []
    },
    "c5c21f124f2c4b7b8aec454a296ee87c": {
     "views": []
    },
    "c5e02df675894608be8ff34970771fac": {
     "views": []
    },
    "c6118f3980d14378a882566769ddb828": {
     "views": []
    },
    "c622093a42f44b6b89914fa5743aeab3": {
     "views": []
    },
    "c66568616ff54fc79badee4fd4b82758": {
     "views": []
    },
    "c68753ab7a214cafb8ccd7a12145db06": {
     "views": []
    },
    "c6a4dc97f0914dc3939459740cf8ec01": {
     "views": []
    },
    "c764e96c2f544e629d67d9862c1f9463": {
     "views": []
    },
    "c77a7a78ab634c22a3991e1bca70a5d5": {
     "views": []
    },
    "c798c6679e0743b19556047940037f26": {
     "views": []
    },
    "c7d5dbbfc69d4bcd94e39ee328e81166": {
     "views": []
    },
    "c80505de8fd9474dabf035a2f6060a00": {
     "views": []
    },
    "c8aa2c93bcfa4534bde9edd82ea0ad44": {
     "views": []
    },
    "c8d35f5d3aa3465abe9006d4d9deb689": {
     "views": []
    },
    "c8f9cf3adcee4ee8a314403743021231": {
     "views": []
    },
    "c9013e55166b444f82a262557e178b02": {
     "views": []
    },
    "c94c06316eb14c6faa8ae8037effdf13": {
     "views": []
    },
    "c97879b502cb4786b1e39da643030120": {
     "views": []
    },
    "c9c4916a5bcc419e82936681e2c3f053": {
     "views": []
    },
    "c9f0fd1525ca49469a059c54c8a757b5": {
     "views": []
    },
    "ca3d9ca375d94220938253cf8f109820": {
     "views": []
    },
    "cae541c4e62f458280998e95f9569f9c": {
     "views": []
    },
    "cb4beea755ac4d4ba36e62cf3bb0a2c7": {
     "views": []
    },
    "cbc62490fe3a42618b75d879f34283aa": {
     "views": []
    },
    "cbfb6b2bb2204a959452171941cc10db": {
     "views": []
    },
    "cbffc7d19d6844b08e9385285027a9c5": {
     "views": []
    },
    "cc4cab6175ef4bfc9ca4ea51dafa905f": {
     "views": []
    },
    "cc7a1ff7346c400a86813b6013fd4b28": {
     "views": []
    },
    "cccae12b9b8b4c78b88dae48b82940b8": {
     "views": []
    },
    "cced3abc80a24a8c9f446f44795f87ca": {
     "views": []
    },
    "ccfd49aea1034cdb99da25cd561b31e3": {
     "views": []
    },
    "cd0b797b8cdc465886efd5ec7c043eac": {
     "views": []
    },
    "cdd6ec3d5f8c44438c66c879fd1b2808": {
     "views": []
    },
    "ce39e56c6c4e4f9fb385874ed5f22718": {
     "views": []
    },
    "ce85c1f5b1aa4d88bdee913a19bb4980": {
     "views": []
    },
    "ce88a019c2b04e00b34b914f0399d1a8": {
     "views": []
    },
    "ceca4dbe629341db8d804c0438e06e5c": {
     "views": []
    },
    "ced9b0b31afc440f804a67e5b37c3784": {
     "views": []
    },
    "cf0d31196c5f4ceb969b8fcb2c54d6ff": {
     "views": []
    },
    "cf3317fdcda6460ab3148b6c29f43deb": {
     "views": []
    },
    "cf82d7e05dd146a19ccf60292f08fcb8": {
     "views": []
    },
    "cfa5d0cdf72645819ae06b0f24d69392": {
     "views": []
    },
    "cfbd0f871b6e403c800d72f633a114c9": {
     "views": []
    },
    "cfdb47868b08493490f1a9037f04682a": {
     "views": []
    },
    "cfdd8b0d20f44cfbb9e6eafd1609d6f0": {
     "views": []
    },
    "d0045e0081bb40e9891ad26334819770": {
     "views": []
    },
    "d03d0330d9fa4d618a34218ed8959c24": {
     "views": []
    },
    "d07afbcd5e27467c876ec8921a3f985f": {
     "views": []
    },
    "d083a71ba03e4993bf4532707584a833": {
     "views": []
    },
    "d0abdeb8e05f4105bf549b08c5cf88b3": {
     "views": []
    },
    "d0e184765c4646829b7d58977c1e0433": {
     "views": []
    },
    "d0ec97ef21f846a2aa6cfaf32e46295b": {
     "views": []
    },
    "d1154fd1686541578e4f1d4fe25ba599": {
     "views": []
    },
    "d11bf028899e47c0b2c074ef82e016b6": {
     "views": []
    },
    "d1292fa6d3734957b43ac77fa047c0aa": {
     "views": []
    },
    "d194eab06d904f11a3798b24612bae8e": {
     "views": []
    },
    "d266b7467f87462ca84ece906c30cc95": {
     "views": []
    },
    "d2bb8b4c96984348b6afc2dd800709be": {
     "views": []
    },
    "d2f3a4921838428f8f8e46811d9c0a3d": {
     "views": []
    },
    "d309ad89c3e34ec9bc0e3f688d021640": {
     "views": []
    },
    "d3108038ecf74dc9a436e4f9c434000b": {
     "views": []
    },
    "d3464137ab2b4ee7ad1f1740e61429fe": {
     "views": []
    },
    "d37de444779b4959aa5f5a27d286f2b4": {
     "views": []
    },
    "d3b1494cac2b4bbc87507bf8f0e7456d": {
     "views": []
    },
    "d3cb78fd97904974a48dafd0297bb31f": {
     "views": []
    },
    "d404271c4f8e4aadb0fb08786b1b7ea0": {
     "views": []
    },
    "d43e722ffdf049cdb6499a5e8ac4b8cc": {
     "views": []
    },
    "d45fcb4331014179958b8774f819d80b": {
     "views": []
    },
    "d460832cfd9948c0acbb5688f4077f4a": {
     "views": []
    },
    "d4b864c3da28410d8f8dae666c040e8a": {
     "views": []
    },
    "d4e2fe7b72784fea80cfd4fb6e72ddd0": {
     "views": []
    },
    "d55beb49e7a24874878c1cf72ecd1865": {
     "views": []
    },
    "d5820b2dc8e5404b9b6d112fa38bea00": {
     "views": []
    },
    "d5b304bf985446ec97ecb55ae585cdc5": {
     "views": []
    },
    "d5c8ef8f6a8a46fc8e02ae5b77857ced": {
     "views": []
    },
    "d5cc11e7a775452a9b7ea7b308214c58": {
     "views": []
    },
    "d616e461c0894b529967cbc79f5319c3": {
     "views": []
    },
    "d637403651d14578b35ae9e50e4916e2": {
     "views": []
    },
    "d67908267ad5428599b3c443121e98f4": {
     "views": []
    },
    "d6a5f2aa2294475bbeee187a67754020": {
     "views": []
    },
    "d6c708ff13784fb0ab5a756fe8b33f69": {
     "views": []
    },
    "d6ed4c1d8817420c8c2fd026ec26dba8": {
     "views": []
    },
    "d7031b06ec054d2799cde71a5b477f55": {
     "views": []
    },
    "d78cf0b255c648e6a4fba2f784c219b2": {
     "views": []
    },
    "d7e4236364d14e46beed49fa982642a5": {
     "views": []
    },
    "d80a539836324a8da548865abf384086": {
     "views": []
    },
    "d82ade5841d641e6bd0e170586c43d5f": {
     "views": []
    },
    "d862dd2b3631420e836f2d3819f8fd07": {
     "views": []
    },
    "d89992631e004d6f8c5d8be901adca9a": {
     "views": []
    },
    "d89eb83f2f7a4e4f90233680bea64f47": {
     "views": []
    },
    "d96a3bffcb8d4da582a4454e33c56ebc": {
     "views": []
    },
    "d972bcf1fd964bc187f094317fe27e11": {
     "views": []
    },
    "d99eaff8cc474eee93bc77f4e87affce": {
     "views": []
    },
    "d9d2b7f6992d429e88e9487ee68c1903": {
     "views": []
    },
    "da250c5e1e8e457ea6e76980256a00b5": {
     "views": []
    },
    "da4e74c741df41c58aa7f370b3af8e67": {
     "views": []
    },
    "daf76f0d3b6b4e17a8e6e67097e13ff8": {
     "views": []
    },
    "db2f0369699f4c00a23e8b25a0f0bf15": {
     "views": []
    },
    "db4154c9a52847ad9fd46bf396d79ef0": {
     "views": []
    },
    "dbf7c0b8b979488881ab5c8c52f0a7c4": {
     "views": []
    },
    "dbfb879394c74594a455f5e63b219b9d": {
     "views": []
    },
    "dcaaee9d0ecf49b3b5ba9d5fc2251759": {
     "views": []
    },
    "dd16b29a3e604a68bc20ddc7e3843f88": {
     "views": []
    },
    "dd54caf4a99344f4ae5d97d65271b0f9": {
     "views": []
    },
    "dddbaf7e7e514e398332356c22c2aec4": {
     "views": []
    },
    "dee74e0144a54f42b2913df1464a01e0": {
     "views": []
    },
    "df1560db36f04b9a9bbb2e370e33098c": {
     "views": []
    },
    "df2c476800874efa8cb8c04ca8250b0a": {
     "views": []
    },
    "dfbbb4e2ed9941a1aebc592e12bfba25": {
     "views": []
    },
    "dfde6b495c1b4cde9ed70cb0c890dbba": {
     "views": []
    },
    "e05c03632b7642dc92b0321d9f5e04eb": {
     "views": []
    },
    "e09eb486bd4a42b58dc9a70270dc6aaa": {
     "views": []
    },
    "e0b8ab864bc54de992689b4a5cdd1d09": {
     "views": []
    },
    "e0d6eaa7f49a469d9bb773115250d05d": {
     "views": []
    },
    "e10a9ec878254c5081b06ac289cb1724": {
     "views": []
    },
    "e18af3103b7d4da89f74d462813f47ba": {
     "views": []
    },
    "e1d3d11200a047659ad0fd688058a7a1": {
     "views": []
    },
    "e1e90a5546724f44b9e4de34fa3ecffc": {
     "views": []
    },
    "e1ff98c85d5d4c5499d4dcd5c1cf2f3a": {
     "views": []
    },
    "e229fb092a0f467c860bdf04ce49cab3": {
     "views": []
    },
    "e2645418e7804dda93212aca0cc46e1e": {
     "views": []
    },
    "e2d24cbfed30446aaec6592f978b7254": {
     "views": []
    },
    "e2dce7fe9e664491bd4076519e445803": {
     "views": []
    },
    "e38abfd468424302a0159ec0bc468dd9": {
     "views": []
    },
    "e3c8f872cae44f249658ec7ef49a8663": {
     "views": []
    },
    "e3d58fc7102a401babebf24e2dfdd0cf": {
     "views": []
    },
    "e3d5e189ddbc425d924601e38b6bb3f1": {
     "views": []
    },
    "e40bce38ca1b4710bbb803119c018005": {
     "views": []
    },
    "e48af3d52477442b9da522f7dde1532b": {
     "views": []
    },
    "e4c0d03fd0b343e6ad43cdd61d8d5c90": {
     "views": []
    },
    "e4faa478927a47ae85fdc8d0c024acdc": {
     "views": []
    },
    "e5073d9e536e4b25b7ac5404a2b1ebc6": {
     "views": []
    },
    "e50947ce8df945d8b8d9e17a620bb479": {
     "views": []
    },
    "e52eaacf9ba7425a926e34dddfd6d018": {
     "views": []
    },
    "e5a04caf68914c87a19542554aff540d": {
     "views": []
    },
    "e5aa5ef1bcb44f7daf632b78d5eb364d": {
     "views": []
    },
    "e603318f4468465c87b6e7673ba90e26": {
     "views": []
    },
    "e654ebefc702464cb47afa1f229ad960": {
     "views": []
    },
    "e65cacd67e664f8f84af0c9bc0db9fb7": {
     "views": []
    },
    "e66acb8978af4b75b15c850ac5be8465": {
     "views": []
    },
    "e68c2bf68e364c6395eb4041fd65eecf": {
     "views": []
    },
    "e69f4415b51d48b68fd441c636db5ab9": {
     "views": []
    },
    "e6f3c553395d46deb4bc043b412c0d48": {
     "views": []
    },
    "e75fdb0b8b794dce9fdcf5bb211cc0b9": {
     "views": []
    },
    "e76d71408b4140a58d06154e61dd0efc": {
     "views": []
    },
    "e787950857644a849ef6686d1653fa75": {
     "views": []
    },
    "e78f5139e0fd41e0a2cdaccdfc1316da": {
     "views": []
    },
    "e7b82ce460494681abf32e0f566db223": {
     "views": []
    },
    "e7eb4cf7084d468ab0e97ddbec358cb4": {
     "views": []
    },
    "e8674e5bddc1444caece412faf289e92": {
     "views": []
    },
    "e94d04331d994b5c9ddbc0d306cb232b": {
     "views": []
    },
    "e953569a138848f8a7be4f94d6b504d6": {
     "views": []
    },
    "e959b306cb9f40aaa9dcc4105849e0e9": {
     "views": []
    },
    "e9ed35e688904b7392d5f71d85450d2e": {
     "views": []
    },
    "ea01fe39ac9842cf9567131648708c17": {
     "views": []
    },
    "ea1fff0d204e4352b59d187881100603": {
     "views": []
    },
    "ea348a827b304a749f93b19f2e1c2017": {
     "views": []
    },
    "ea397e84ea254d08aed02166b60ce71c": {
     "views": []
    },
    "ea4264afb0cd49689c6f17a90a323291": {
     "views": []
    },
    "ea8d80be3c9647bfb7add62ac99bcc8b": {
     "views": []
    },
    "eaa1547baf784a11bf816def1c9acd65": {
     "views": []
    },
    "eaa3571236ca4ef5b783b99dcd3b0703": {
     "views": []
    },
    "ead9bd18920c4cf0aa2d9accd73ecbbb": {
     "views": []
    },
    "eafdd262c15a49a594f317f563be97a5": {
     "views": []
    },
    "eb925bfe90f24034ba4afceba01f29a5": {
     "views": []
    },
    "ec16087a4efa422d80f3f06faed5da44": {
     "views": []
    },
    "ec5d1c46235b4ee295610e6c6002e8e9": {
     "views": []
    },
    "ec67358eb8944e07b712b00dcb561b2e": {
     "views": []
    },
    "ececb8b5b99a497dbc844e719faacca3": {
     "views": []
    },
    "eda116ae20c4421fa86b58fa587eff63": {
     "views": []
    },
    "edc566ed9edf4d3ebe70aeddc0d79267": {
     "views": []
    },
    "edf1145405c34d098a5ffc647a40feee": {
     "views": []
    },
    "ee06bf27f63942e5956e96360900ef4d": {
     "views": []
    },
    "ee2262a7b56a4cd4beb06fb91226bce3": {
     "views": []
    },
    "ee2c05a7226d4059aae6364a35d0f109": {
     "views": []
    },
    "ee3b1713daba459f9cc332bfedbde493": {
     "views": []
    },
    "ee6598564a114ef6bfc96984e13ccd6c": {
     "views": []
    },
    "eeb342c2e0d64f769c42b361413f50b4": {
     "views": []
    },
    "eece3b486e514fb78e06d0a518c74388": {
     "views": []
    },
    "eedd0a0959254f5d93ab92d8c5ea473e": {
     "views": []
    },
    "eef8a8051fed445db0b2a08578d74fff": {
     "views": []
    },
    "efd369643fb84f6da33e402f547b13fb": {
     "views": []
    },
    "f01ba764d9a7477dac6944c43bd1cc82": {
     "views": []
    },
    "f01c8c5ff64b47d6be985a389a0f2e07": {
     "views": []
    },
    "f02e16f3362b46bc9f8824f7bbb5a608": {
     "views": []
    },
    "f0454b3c1cf54b69a0b069139decb46b": {
     "views": []
    },
    "f04ccb489e264684855814876d40bd98": {
     "views": []
    },
    "f04cdf4f641d43349ae28c6df9862384": {
     "views": []
    },
    "f0a5d45986ae4efda9edaa99c19b150f": {
     "views": []
    },
    "f0c83fa5ce834cf8a5b2a620e81a44f6": {
     "views": []
    },
    "f11da40690eb491dbee613aecd2b09f1": {
     "views": []
    },
    "f135c421daba4583a82593264e9c5b59": {
     "views": []
    },
    "f148faa960e949c8aab7c8bc0e5ba1b0": {
     "views": []
    },
    "f1fbc52209d941a19075adc1df4bdcaa": {
     "views": []
    },
    "f21f7c74b01544dbbe26565fae424c2d": {
     "views": []
    },
    "f223f43d234a448c85730b8760d8bda0": {
     "views": []
    },
    "f22919ae8d3f4088905bd2f76342b320": {
     "views": []
    },
    "f27b0f24e30e46158b5bb85860bf18b6": {
     "views": []
    },
    "f2855cf0c69a47c7890c92c804d73e99": {
     "views": []
    },
    "f2a301e8b28d46959128e46a5739efa6": {
     "views": []
    },
    "f2ba581f963e4597ac51054042c1f4a1": {
     "views": []
    },
    "f34ff72de4e14ccda69a85f0ee46de70": {
     "views": []
    },
    "f41f307a44ec4bd2b5f27fef1696fd83": {
     "views": []
    },
    "f4411d93f2c04f0c96236f93a299540a": {
     "views": []
    },
    "f45377accf5d4456a7712421e1a9fb4e": {
     "views": []
    },
    "f498c00ef24c4dceac5487d8deb4a990": {
     "views": []
    },
    "f4f2b800ee9044818b00645778ef21fa": {
     "views": []
    },
    "f4ff73eece674be2907a80bc8e388720": {
     "views": []
    },
    "f51da0b2a28d46eea35be4551c5aea2c": {
     "views": []
    },
    "f5331bda14a043f0bab977a29cdd17ed": {
     "views": []
    },
    "f575a73db37743b49f049e8c23f4db4e": {
     "views": []
    },
    "f5f185f6ed934912be18f9f4740d4247": {
     "views": []
    },
    "f65032f4badb490189ecfa06778f4154": {
     "views": []
    },
    "f671d1e3592b4373a87c76ff0693c900": {
     "views": []
    },
    "f6b56a31084241ceb59818b902459ac1": {
     "views": []
    },
    "f6b8d94f36a44c7891b14422d4d83496": {
     "views": []
    },
    "f6cba9e0c7124e61bc81c087b2fe2b18": {
     "views": []
    },
    "f6dae943b99a47fba08914691359a00e": {
     "views": []
    },
    "f6fa52737229418caf4e4dd9de8e6566": {
     "views": []
    },
    "f725a063f5a942398008bedb29a93f96": {
     "views": []
    },
    "f7d191a5a2c1488989bfa1304258037b": {
     "views": []
    },
    "f7d757fb0abd41d680372eaedcbaa265": {
     "views": []
    },
    "f7de8fb4ccc24787be57d3249b31c0af": {
     "views": []
    },
    "f83f6cf2136441fc8ad39d8edf7fcabe": {
     "views": []
    },
    "f863bd8e8f964a2d80980ae3227c6c44": {
     "views": []
    },
    "f8c3efb456584cddbdeffc8a5c6e02c4": {
     "views": []
    },
    "f8d892f582024899b0258386d9b5ef9f": {
     "views": []
    },
    "f8e2aafba63d49a586443425a2f29cc1": {
     "views": []
    },
    "f9037c57d4184953ab788e9131246e43": {
     "views": []
    },
    "f9156cf5fbdd49078ef89e74c8d4adb6": {
     "views": []
    },
    "f9f861a299654577857302c765bb3c59": {
     "views": []
    },
    "fa07063f316c4f648caf8c85e8250c4d": {
     "views": []
    },
    "fa0957d280914c1586dcbf51b30136e5": {
     "views": []
    },
    "fb1113f1744e41dc814a6bfa5dabe047": {
     "views": []
    },
    "fb1f086c0acb4415ab361eb9903e356d": {
     "views": []
    },
    "fb27c79e41134298a7636d64ddb06e59": {
     "views": []
    },
    "fba37fddecda4d4787158cbcaf8948e6": {
     "views": []
    },
    "fc508efa8738426b85dc2b334b6ae7a7": {
     "views": []
    },
    "fc784b92670d49fc8c1913912607823d": {
     "views": []
    },
    "fca93c871a4d4f96816290f075bab640": {
     "views": []
    },
    "fce84cb15ec64e1d9ea1006f2e193ce9": {
     "views": []
    },
    "fd7b05ea2e5c4dc4acca0110c9d0ec34": {
     "views": []
    },
    "fd88338a6d9a42d1a9389c02c9c00731": {
     "views": []
    },
    "fd8c6b27536c4557889315177970f46f": {
     "views": []
    },
    "fd8e67938a63485c8da0daf0773517f3": {
     "views": []
    },
    "fdf63cdc20c64768809cfa4b56137110": {
     "views": []
    },
    "fe486214a08743eca8aad8518869b5af": {
     "views": []
    },
    "fe4dcb3826f348739fc415de69e76449": {
     "views": []
    },
    "fe82e4687a7f4d4e8c391b8fc5536b6c": {
     "views": []
    },
    "feb43a2f0140448b84a15bc0c6cb42ac": {
     "views": []
    },
    "ff3839c415c6466b9e195c2842e7e835": {
     "views": []
    },
    "ff7a9a6061324f638af6980cc1fb5dc1": {
     "views": []
    }
   },
   "version": "1.1.2"
  }
 },
 "nbformat": 4,
 "nbformat_minor": 0
}
