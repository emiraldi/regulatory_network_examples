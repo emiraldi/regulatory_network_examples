{
 "cells": [
  {
   "cell_type": "code",
   "execution_count": 1,
   "metadata": {
    "collapsed": false
   },
   "outputs": [],
   "source": [
    "# Modes of regulation that turn on under LI conditions, relative to SI\n",
    "\n",
    "# GOAL: We want to visualize each quantitative ATAC priors and compare networks resulting from different\n",
    "# choices of geneset and peakset cutoffs (e.g., log2 fold-change and FDR), for each network (e.g., SI gene regulation\n",
    "# in macrophages).  We will use the \"multiple_network\" functionality to do this, and use networks linked to heatmaps\n",
    "# (\"Lexpression\" functionality) so that we can color nodes according to gene expression \n",
    "\n",
    "# Each tupple corresponds to (geneset cutoff, peakset cutoff)\n",
    "cutComb = ('FC0p58_FDR25','FC0p58_FDR25')\n",
    "# ('FC1_FDR10','FC1_FDR10')\n",
    "#                 ('FC1_FDR10','FC0p58_FDR25'),\n",
    "#                 ('FC0p58_FDR25','FC0p58_FDR25'),\n",
    "#                 ('FC0p58_FDR25','FC1_FDR10')]\n",
    "# NOTE: Script below is HARD-coded to only visualize the six (LI) or five (SI) networks\n",
    "\n",
    "directory = \"/Users/emiraldi/erm/Shared/DCproject/DCquantAtacNetworks\" # note \"try\" statement below, we'll also check current directory\n",
    "\n",
    "# Location of each network, and note we will use .replace() to insert the gene and peakset cutoffs of interest\n",
    "# for \"GENE_CUTOFF\" and \"PEAK_CUTOFF\" in the string below\n",
    "netBase = \"DC_genesets_GENE_CUTOFF/DCs_max4_body_bp10000/DCnets_loc/DCnets_loc_pPEAK_CUTOFF_rawp0001_hyg0001\"\n",
    "geneCutoff = cutComb[0]\n",
    "peakCutoff = cutComb[1]\n",
    "netPath = netBase.replace('GENE_CUTOFF',geneCutoff).replace('PEAK_CUTOFF',peakCutoff)\n",
    "\n",
    "# The starting conditions for each of the networks, a list of tuples.  Tuple entries are:\n",
    "# 0. network file name (column format) (as found in directory + netBase with cutoffs inserted\n",
    "# 1. column of the expression matrix that you want the nodes to be colored by\n",
    "# 2. network title, to which we'll add the gene and peak cutoffs\n",
    "# 3. subselect the list of relevant genes -- NOT USED for this code and can be left out\n",
    "networkInits = [('CD11bmCD103m_LI_sp.tsv','LI_v_SI_GF_CD11b-CD103-','LI UP (red), GF CD11b-CD103-','GeneSets/GF_LI_CD11bmCD103m_v_GF_SI_CD11bmCD103m_FC1_FDR10_up.txt'),\n",
    "\t('CD103p_LI_sp.tsv','LI_v_SI_GF_CD11b-CD103+','LI UP (red), GF CD11b-CD103+','GeneSets/GF_LI_CD11bmCD103p_v_GF_SI_CD11bmCD103p_FC1_FDR10_up.txt'),\n",
    "\t('CD11bp_LI_sp.tsv','LI_v_SI_GF_CD11b+CD103-','LI UP (red), GF CD11b+CD103-','GeneSets/GF_LI_CD11bpCD103m_v_GF_SI_CD11bpCD103m_FC1_FDR10_up.txt'),\n",
    "\t('CD11bpCD103p_LI_sp.tsv','LI_v_SI_GF_CD11b+CD103+','LI UP (red), GF CD11b+CD103+','GeneSets/GF_LI_CD11bpCD103p_v_GF_SI_CD11bpCD103p_FC1_FDR10_up.txt'),\n",
    "\t('mphage_LI_sp.tsv','LI_v_SI_GF_Macrophage','LI UP (red), GF Macrophage','GeneSets/GF_LI_Macrophage_v_GF_SI_Macrophage_FC1_FDR10_up.txt'),\n",
    "\t('monocyte_LI_sp.tsv','LI_v_SI_GF_Monocyte','LI UP (red), GF Monocyte','GeneSets/GF_LI_Monocyte_v_GF_SI_Monocyte_FC1_FDR10_up.txt')]\n",
    "expressionFile = \"Heatmaps/SILI_DC_ILC_log2FCs_SILI_DC_ILC_all.txt\"\n",
    "\n",
    "tfFocus = 1 # If 1, automatically applies the \"TFs only\" function, so we can focus on TFs\n",
    "    # If 0, does not!\n",
    "\n",
    "threshhold = .2 # for edge weights in graph\n",
    "\n",
    "clim = 1.5 # absolute value color threshhold on edge color"
   ]
  },
  {
   "cell_type": "code",
   "execution_count": 2,
   "metadata": {
    "collapsed": false
   },
   "outputs": [
    {
     "data": {
      "application/javascript": [
       "\n",
       "// imitating ipywidgets/docs/source/examples/Custom Widget - Hello World.ipynb\n",
       "\n",
       "//require([\"widgets/js/widget\", \"widgets/js/manager\"], function(widget, manager){\n",
       "\n",
       "require.undef(\"SVGCanvas\");\n",
       "\n",
       "define(\"SVGCanvas\", [\"jupyter-js-widgets\"], function(widgets) {\n",
       "    \n",
       "    var svgEventHandlerFactory = function(that) {\n",
       "        var svgEventHandler = function(e) {\n",
       "            var target = e.target;\n",
       "            var info = {};\n",
       "            for (var attr in e) {\n",
       "                var val = e[attr];\n",
       "                var ty = (typeof val);\n",
       "                if ((ty == \"number\") ||\n",
       "                    (ty == \"string\") ||\n",
       "                    (ty == \"boolean\")) {\n",
       "                    info[attr] = val;\n",
       "                }\n",
       "            }\n",
       "            info.name = target.ipy_name;\n",
       "            var ept = SVGEventLocation(that, e);\n",
       "            info.svgX = ept.x;\n",
       "            info.svgY = ept.y;\n",
       "            var json = JSON.stringify(info);\n",
       "            that.model.set(\"event\", json);\n",
       "            that.touch();\n",
       "        };\n",
       "        return svgEventHandler;\n",
       "    };\n",
       "\n",
       "    var SVGEventLocation = function(that, e) {\n",
       "        // http://stackoverflow.com/questions/10298658/mouse-position-inside-autoscaled-svg\n",
       "        var pt = that.reference_point;\n",
       "        var svg = that.$svg[0];\n",
       "        pt.x = e.clientX;\n",
       "        pt.y = e.clientY;\n",
       "        return pt.matrixTransform(svg.getScreenCTM().inverse());\n",
       "    }\n",
       "    \n",
       "    var SVGCanvasView = widgets.DOMWidgetView.extend({\n",
       "        \n",
       "        render: function() {\n",
       "            var that = this;\n",
       "            var svg = that.svg_elt(\"svg\");\n",
       "            var eventHandler = svgEventHandlerFactory(that);\n",
       "            that.eventHandler = eventHandler;\n",
       "            that.named_elements = {};\n",
       "            svg.ipy_name = \"\";\n",
       "            that.$svg = $(svg);\n",
       "            that.reference_point = svg.createSVGPoint();\n",
       "            svg.setAttribute(\"preserveAspectRatio\", \"none\");\n",
       "            that.$el.append(that.$svg);\n",
       "            that.svg_parameters_changed();\n",
       "            that.commands_changed();\n",
       "            that.start_watch_event();\n",
       "            that.model.on(\"change:commands\", that.commands_changed, that);\n",
       "            that.model.on(\"change:viewBox\", that.svg_parameters_changed, that);\n",
       "            that.model.on(\"change:svg_width\", that.svg_parameters_changed, that);\n",
       "            that.model.on(\"change:svg_height\", that.svg_parameters_changed, that);\n",
       "            that.model.on(\"change:style\", that.svg_parameters_changed, that);\n",
       "            that.model.on(\"change:watch_event\", that.start_watch_event, that);\n",
       "            that.model.on(\"change:unwatch_event\", that.stop_watch_event, that);\n",
       "        },\n",
       "        \n",
       "        start_watch_event: function() {\n",
       "            var that = this;\n",
       "            var event_types = that.model.get(\"watch_event\");\n",
       "            if (event_types != \"\") {\n",
       "                that.$svg.on(event_types, that.eventHandler);\n",
       "                that.model.set(\"watch_event\", \"\");\n",
       "                that.touch();\n",
       "            }\n",
       "        },\n",
       "        \n",
       "        stop_watch_event: function() {\n",
       "            var that = this;\n",
       "            var event_types = that.model.get(\"unwatch_event\");\n",
       "            if (event_types != \"\") {\n",
       "                that.$svg.off(event_types);\n",
       "                that.model.set(\"watch_event\", \"\");\n",
       "                that.touch();\n",
       "            }\n",
       "        },\n",
       "        \n",
       "        commands_changed: function() {\n",
       "            var that = this;\n",
       "            var svg = that.$svg[0];\n",
       "            var commands = that.get_JSON(\"commands\")\n",
       "            for (var i=0; i<commands.length; i++) {\n",
       "                var command_dict = commands[i];\n",
       "                var indicator = command_dict[\"command\"];\n",
       "                var method = that[\"do_\"+indicator];\n",
       "                method(that, command_dict);\n",
       "            }\n",
       "        },\n",
       "\n",
       "        do_fit: function(that, info) {\n",
       "            // fit viewport to bounding box.\n",
       "            var svg = that.$svg[0];\n",
       "            var bbox = svg.getBBox();\n",
       "            var D = {\"width\": bbox.width, \"height\": bbox.height, \"x\": bbox.x, \"y\": bbox.y}\n",
       "            var vbox = \"\" + D.x + \" \" + D.y + \" \" + D.width + \" \" + D.height;\n",
       "            if ((D.width > 0) && (D.height > 0)) {\n",
       "                that.model.set(\"boundingBox\", D);\n",
       "                if (info.changeView) {\n",
       "                    that.model.set(\"viewBox\", vbox);\n",
       "                }\n",
       "                // Element viewBox will be updated later by model change.\n",
       "                that.touch();\n",
       "            }\n",
       "        },\n",
       "        \n",
       "        do_add_element: function (that, info) {\n",
       "            var tag = info.tag;\n",
       "            var name = info.name;\n",
       "            var element = that.svg_elt(tag);\n",
       "            element.ipy_name = name;\n",
       "            var $element = $(element);\n",
       "            that.update_element($element, info);\n",
       "            // add event callbacks\n",
       "            that.$svg.append($element);\n",
       "            that.named_elements[name] = $element;\n",
       "        },\n",
       "        \n",
       "        do_change_element: function (that, info) {\n",
       "            var name = info.name;\n",
       "            var $element = that.named_elements[name];\n",
       "            if ($element) {\n",
       "                that.update_element($element, info);\n",
       "            } else {\n",
       "                console.warn(\"couldn't find element for \"+name);\n",
       "            }\n",
       "        },\n",
       "        \n",
       "        do_delete: function (that, info) {\n",
       "            var names = info.names;\n",
       "            for (var i=0; i<names.length; i++) {\n",
       "                var name = names[i];\n",
       "                var $element = that.named_elements[name];\n",
       "                if ($element) {\n",
       "                    $element.remove();\n",
       "                    delete that.named_elements[name];\n",
       "                }\n",
       "            }\n",
       "        },\n",
       "        \n",
       "        update_element: function($element, info) {\n",
       "            var element = $element[0];\n",
       "            var atts = info.atts;\n",
       "            var style = info.style;\n",
       "            var text = info.text;\n",
       "            if (atts) {\n",
       "                for (var att in atts) {\n",
       "                    element.setAttribute(att, atts[att]);\n",
       "                }\n",
       "            }\n",
       "            if (style) {\n",
       "                for (var styling in style) {\n",
       "                    element.style[styling] = style[styling];\n",
       "                }\n",
       "            }\n",
       "            if (text) {\n",
       "                $element.empty();\n",
       "                var node = document.createTextNode(text);\n",
       "                element.appendChild(node);\n",
       "            }\n",
       "        },\n",
       "        \n",
       "        do_empty: function (that, info) {\n",
       "            that.named_elements = {};\n",
       "            that.$svg.empty();\n",
       "        },\n",
       "        \n",
       "        svg_parameters_changed: function() {\n",
       "            var that = this;\n",
       "            var style_additions = that.get_JSON(\"style\");\n",
       "            var svg = that.$svg[0];\n",
       "            svg.setAttribute(\"viewBox\", that.model.get(\"viewBox\"));\n",
       "            svg.setAttribute(\"width\", that.model.get(\"svg_width\"));\n",
       "            svg.setAttribute(\"height\", that.model.get(\"svg_height\"));\n",
       "            for (var style_attr in style_additions) {\n",
       "                svg.style[style_attr] = style_additions[style_attr];\n",
       "            }\n",
       "        },\n",
       "        \n",
       "        get_JSON: function(name) {\n",
       "            var json = this.model.get(name);\n",
       "            return $.parseJSON(json);\n",
       "        },\n",
       "        \n",
       "        svg_elt: function(kind) {\n",
       "            return document.createElementNS('http://www.w3.org/2000/svg', kind);\n",
       "        }\n",
       "        \n",
       "    });\n",
       "    \n",
       "    //manager.WidgetManager.register_widget_view('SVGCanvasView', SVGCanvasView);\n",
       "    return {\n",
       "        SVGCanvasView: SVGCanvasView\n",
       "    }\n",
       "});\n"
      ],
      "text/plain": [
       "<IPython.core.display.Javascript object>"
      ]
     },
     "metadata": {},
     "output_type": "display_data"
    },
    {
     "data": {
      "application/javascript": [
       "\n",
       "// This is the javascript side to match js_proxy.py.\n",
       "// See js_proxy.py for an explanation of the command transfer\n",
       "// protocol\n",
       "\n",
       "// imitating ipywidgets/docs/source/examples/Custom Widget - Hello World.ipynb\n",
       "\n",
       "//require([\"widgets/js/widget\", \"widgets/js/manager\", \"underscore\", \"jquery\"\n",
       "//], function(widget, manager, _, $) {\n",
       "\n",
       "require.undef(\"JSProxy\");\n",
       "\n",
       "define(\"JSProxy\", [\"jupyter-js-widgets\"], function(widgets) {\n",
       "\n",
       "    var JSProxyView = widgets.DOMWidgetView.extend({\n",
       "\n",
       "        render: function() {\n",
       "            var that = this;\n",
       "            that.on(\"displayed\", function() {\n",
       "                that.update();\n",
       "            });\n",
       "            // Wrap $el as a proper jQuery object\n",
       "            that.$$el = $(that.$el);\n",
       "            // \"new\" keyword emulation\n",
       "            // http://stackoverflow.com/questions/17342497/dynamically-control-arguments-while-creating-objects-in-javascript\n",
       "            that.$$el.New = function(klass, args) {\n",
       "                var obj = Object.create(klass.prototype);\n",
       "                return klass.apply(obj, args) || obj;\n",
       "            };\n",
       "\n",
       "            // fix key bindings for wayward element.\n",
       "            // XXXX This is a bit of a hack that may not be needed in future\n",
       "            // Jupyter releases.\n",
       "            that.$$el.Fix = function(element) {\n",
       "                debugger;\n",
       "                that.model.widget_manager.keyboard_manager.register_events(element);\n",
       "            };\n",
       "        },\n",
       "\n",
       "        update: function(options) {\n",
       "            var that = this;\n",
       "            var commands = that.model.get(\"commands\");\n",
       "            if (commands.length >= 2) {\n",
       "                var command_counter = commands[0];\n",
       "                var command_list = commands[1];\n",
       "                var level = commands[2];\n",
       "                level = that.check_level(level);\n",
       "                var results = [];\n",
       "                _.each(command_list, function(command,i) {\n",
       "                    var result = that.execute_command(command);\n",
       "                    results[i] = that.json_safe(result, level);\n",
       "                });\n",
       "                that.model.set(\"commands\", []);\n",
       "                that.model.set(\"results\", [command_counter, results])\n",
       "                that.touch();\n",
       "            }\n",
       "        },\n",
       "\n",
       "        execute_command: function(command) {\n",
       "            var that = this;\n",
       "            var result = command;\n",
       "            if ($.isArray(command)) {\n",
       "                var indicator = command[0];\n",
       "                var remainder = command.slice();\n",
       "                remainder.shift();\n",
       "                if (indicator == \"element\") {\n",
       "                    // Make sure the element is wrapped as a proper JQuery(UI) object\n",
       "                    if (!that.$$el) {\n",
       "                        that.$$el = $(that.$el);\n",
       "                    }\n",
       "                    result = that.$$el;\n",
       "                } else if (indicator == \"window\") {\n",
       "                    result = window;\n",
       "                } else if (indicator == \"method\") {\n",
       "                    var target_desc = remainder.shift();\n",
       "                    var target = that.execute_command(target_desc);\n",
       "                    var name = remainder.shift();\n",
       "                    var args = remainder.map(that.execute_command, that);\n",
       "                    var method = target[name];\n",
       "                    if (method) {\n",
       "                        result = method.apply(target, args);\n",
       "                    } else {\n",
       "                        result = \"In \" + target + \" no such method \" + name;\n",
       "                    }\n",
       "                } else if (indicator == \"function\") {\n",
       "                    var function_desc = remainder.shift();\n",
       "                    var function_value = that.execute_command(function_desc);\n",
       "                    var args = remainder.map(that.execute_command, that);\n",
       "                    // Use \"that\" as the \"this\" value for function values?\n",
       "                    result = function_value.apply(that, args);\n",
       "                } else if (indicator == \"id\") {\n",
       "                    result = remainder[0];\n",
       "                } else if (indicator == \"list\") {\n",
       "                    result = remainder.map(that.execute_command, that);\n",
       "                } else if (indicator == \"dict\") {\n",
       "                    result = {}\n",
       "                    var desc = remainder[0];\n",
       "                    for (var key in desc) {\n",
       "                        var key_desc = desc[key];\n",
       "                        var val = that.execute_command(key_desc);\n",
       "                        result[key] = val;\n",
       "                    }\n",
       "                } else if (indicator == \"callback\") {\n",
       "                    var identifier = remainder.shift();\n",
       "                    var data = remainder.shift();\n",
       "                    var level = remainder.shift();\n",
       "                    // sanity check\n",
       "                    level = that.check_level(level);\n",
       "                    result = that.callback_factory(identifier, data, level);\n",
       "                } else if (indicator == \"get\") {\n",
       "                    var target_desc = remainder.shift();\n",
       "                    var target = that.execute_command(target_desc);\n",
       "                    var name = remainder.shift();\n",
       "                    try {\n",
       "                        result = target[name];\n",
       "                    } catch(err) {\n",
       "                        result = \"failed to get \"+name+\" from \"+target+\" :: \"+err;\n",
       "                    }\n",
       "                } else if (indicator == \"set\") {\n",
       "                    var target_desc = remainder.shift();\n",
       "                    var target = that.execute_command(target_desc);\n",
       "                    var name = remainder.shift();\n",
       "                    var value_desc = remainder.shift()\n",
       "                    var value = that.execute_command(value_desc);\n",
       "                    target[name] = value;\n",
       "                    result = target;\n",
       "                } else if (indicator == \"null\") {\n",
       "                    target_desc = remainder.shift();\n",
       "                    that.execute_command(target_desc);\n",
       "                    result = null;\n",
       "                } else {\n",
       "                    result = \"Unknown indicator \" + indicator;\n",
       "                }\n",
       "            }\n",
       "            return result;\n",
       "        },\n",
       "\n",
       "        check_level: function(level) {\n",
       "            if ((typeof level) != \"number\" || (level < 0)) {\n",
       "                level = 0;\n",
       "            } else if (level > 5) {\n",
       "                level = 5;\n",
       "            }\n",
       "            return level;\n",
       "        },\n",
       "\n",
       "        callback_factory: function(identifier, data, level) {\n",
       "            var that = this;\n",
       "            // Counter makes sure change is noticed even if other arguments don't change.\n",
       "            var counter = 0;\n",
       "            var handler = function () {\n",
       "                counter += 1;\n",
       "                var payload = that.json_safe([identifier, data, arguments, counter], level + 1);\n",
       "                that.model.set(\"callback_results\", payload);\n",
       "                that.touch();\n",
       "            };\n",
       "            return handler;\n",
       "        },\n",
       "\n",
       "        json_safe: function(val, depth) {\n",
       "            // maybe expand later as need arises\n",
       "            var that = this;\n",
       "            var ty = (typeof val);\n",
       "            if ((ty == \"number\") || (ty == \"string\") || (ty == \"boolean\")) {\n",
       "                return val;\n",
       "            }\n",
       "            if (!val) {\n",
       "                // translate all other falsies to None\n",
       "                return null;\n",
       "            }\n",
       "            if (((typeof depth) == \"number\") && (depth > 0)) {\n",
       "                if ($.isArray(val)) {\n",
       "                    var result = [];\n",
       "                    _.each(val, function(elt, i) {\n",
       "                        var r = that.json_safe(elt, depth-1);\n",
       "                        if (r != null) {\n",
       "                            result[i] = r;\n",
       "                        }\n",
       "                    });\n",
       "                    return result;\n",
       "                } else {\n",
       "                    var result = {};\n",
       "                    for (var key in val) {\n",
       "                        var jv = that.json_safe(val[key], depth-1);\n",
       "                        if (jv != null) {\n",
       "                            result[key] = jv;\n",
       "                        }\n",
       "                    }\n",
       "                    return result;\n",
       "                }\n",
       "            }\n",
       "            return null;\n",
       "        }\n",
       "\n",
       "    });\n",
       "\n",
       "    //manager.WidgetManager.register_widget_view('JSProxyView', JSProxyView);\n",
       "    return {\n",
       "        JSProxyView: JSProxyView\n",
       "    }\n",
       "});\n"
      ],
      "text/plain": [
       "<IPython.core.display.Javascript object>"
      ]
     },
     "metadata": {},
     "output_type": "display_data"
    },
    {
     "data": {
      "application/javascript": [
       "/*\n",
       "jQuery plugin for a color arrow cursor over an element.\n",
       "\n",
       "Based on\n",
       "http://stackoverflow.com/questions/18779354/assign-color-to-mouse-cursor-using-css\n",
       "*/\n",
       "\n",
       "(function ($) {\n",
       "\n",
       "    $.fn.color_cursor = function(color) {\n",
       "        var that = this;\n",
       "        var cvs = document.createElement(\"canvas\");\n",
       "        cvs.height = 16;\n",
       "        cvs.width = 16;\n",
       "        var ctx = cvs.getContext(\"2d\");\n",
       "        ctx.strokeStyle = color;\n",
       "        ctx.lineWidth = 4;\n",
       "        ctx.lineCap = \"round\";\n",
       "        ctx.moveTo(2, 12);\n",
       "        ctx.lineTo(2, 2);\n",
       "        ctx.lineTo(12, 2);\n",
       "        ctx.moveTo(2, 2);\n",
       "        ctx.lineTo(30, 30)    \n",
       "        ctx.stroke();\n",
       "        var url = cvs.toDataURL();\n",
       "        that.css(\"cursor\", \"url(\" + url + '), auto');\n",
       "        return that;\n",
       "    };\n",
       "\n",
       "    $.fn.color_cursor_reset = function () {\n",
       "        this.css(\"cursor\", \"\");\n",
       "        return this;\n",
       "    };\n",
       "\n",
       "    $.fn.color_cursor.example = function (element) {\n",
       "        debugger;\n",
       "        var d = $(\"<div>Cursor should be red over me. Click to reset.</div>\")\n",
       "            .color_cursor(\"red\");\n",
       "        var reset = function() {\n",
       "            d.color_cursor_reset();\n",
       "            d.html(\"Now the cursor should be normal\");\n",
       "        }\n",
       "        d.click(reset);\n",
       "        element.append(d);\n",
       "        return element;\n",
       "    };\n",
       "\n",
       "})(jQuery)\n"
      ],
      "text/plain": [
       "<IPython.core.display.Javascript object>"
      ]
     },
     "metadata": {},
     "output_type": "display_data"
    }
   ],
   "source": [
    "# Uncomment to run without install (in binder, for example)\n",
    "import sys\n",
    "if \"..\" not in sys.path:\n",
    "    sys.path.append(\"..\")\n",
    "from jp_gene_viz import dNetwork\n",
    "dNetwork.load_javascript_support()\n",
    "from jp_gene_viz import multiple_network\n",
    "from jp_gene_viz import LExpression\n",
    "LExpression.load_javascript_support()\n",
    "# Part 1 of a hacky way to set color threshhold\n",
    "from numpy import array\n",
    "minclr = array([   255.,  0,    0.])\n",
    "minvalue = -clim\n",
    "zeroclr = array([255.0000 , 130.4000  , 60.0000]) # [   166.,    86.,    40.]) #127.5, 63.75, 0 ])\n",
    "maxvalue = clim\n",
    "maxclr = array([ 0.,    1.7*127.5,    0.])\n",
    "\n",
    "\n",
    "# Currently, we are not interested in visualizing motifs, and would need to find these files, if we did\n",
    "# from jp_gene_viz import motif_data\n",
    "# C = motif_data.MotifCollection()\n",
    "# # for extra safety \"rU\" reads with universal line ending support\n",
    "# C.read_meme_file(open(directory + '/' + \"mm9_em.meme\", \"rU\"))\n",
    "# C.read_meme_file(open(directory + '/' + \"hg19_em.meme\", \"rU\"))"
   ]
  },
  {
   "cell_type": "code",
   "execution_count": 3,
   "metadata": {
    "collapsed": false
   },
   "outputs": [
    {
     "name": "stdout",
     "output_type": "stream",
     "text": [
      "('Reading network', '/Users/emiraldi/erm/Shared/DCproject/DCquantAtacNetworks/DC_genesets_FC0p58_FDR25/DCs_max4_body_bp10000/DCnets_loc/DCnets_loc_pFC0p58_FDR25_rawp0001_hyg0001/CD11bmCD103m_LI_sp.tsv')\n",
      "('Loading saved layout', '/Users/emiraldi/erm/Shared/DCproject/DCquantAtacNetworks/DC_genesets_FC0p58_FDR25/DCs_max4_body_bp10000/DCnets_loc/DCnets_loc_pFC0p58_FDR25_rawp0001_hyg0001/CD11bmCD103m_LI_sp.tsv.layout.json')\n",
      "('Reading network', '/Users/emiraldi/erm/Shared/DCproject/DCquantAtacNetworks/DC_genesets_FC0p58_FDR25/DCs_max4_body_bp10000/DCnets_loc/DCnets_loc_pFC0p58_FDR25_rawp0001_hyg0001/CD103p_LI_sp.tsv')\n",
      "('Loading saved layout', '/Users/emiraldi/erm/Shared/DCproject/DCquantAtacNetworks/DC_genesets_FC0p58_FDR25/DCs_max4_body_bp10000/DCnets_loc/DCnets_loc_pFC0p58_FDR25_rawp0001_hyg0001/CD103p_LI_sp.tsv.layout.json')\n",
      "('Reading network', '/Users/emiraldi/erm/Shared/DCproject/DCquantAtacNetworks/DC_genesets_FC0p58_FDR25/DCs_max4_body_bp10000/DCnets_loc/DCnets_loc_pFC0p58_FDR25_rawp0001_hyg0001/CD11bp_LI_sp.tsv')\n",
      "('Loading saved layout', '/Users/emiraldi/erm/Shared/DCproject/DCquantAtacNetworks/DC_genesets_FC0p58_FDR25/DCs_max4_body_bp10000/DCnets_loc/DCnets_loc_pFC0p58_FDR25_rawp0001_hyg0001/CD11bp_LI_sp.tsv.layout.json')\n",
      "('Reading network', '/Users/emiraldi/erm/Shared/DCproject/DCquantAtacNetworks/DC_genesets_FC0p58_FDR25/DCs_max4_body_bp10000/DCnets_loc/DCnets_loc_pFC0p58_FDR25_rawp0001_hyg0001/CD11bpCD103p_LI_sp.tsv')\n",
      "('Loading saved layout', '/Users/emiraldi/erm/Shared/DCproject/DCquantAtacNetworks/DC_genesets_FC0p58_FDR25/DCs_max4_body_bp10000/DCnets_loc/DCnets_loc_pFC0p58_FDR25_rawp0001_hyg0001/CD11bpCD103p_LI_sp.tsv.layout.json')\n",
      "('Reading network', '/Users/emiraldi/erm/Shared/DCproject/DCquantAtacNetworks/DC_genesets_FC0p58_FDR25/DCs_max4_body_bp10000/DCnets_loc/DCnets_loc_pFC0p58_FDR25_rawp0001_hyg0001/mphage_LI_sp.tsv')\n",
      "('Loading saved layout', '/Users/emiraldi/erm/Shared/DCproject/DCquantAtacNetworks/DC_genesets_FC0p58_FDR25/DCs_max4_body_bp10000/DCnets_loc/DCnets_loc_pFC0p58_FDR25_rawp0001_hyg0001/mphage_LI_sp.tsv.layout.json')\n",
      "('Reading network', '/Users/emiraldi/erm/Shared/DCproject/DCquantAtacNetworks/DC_genesets_FC0p58_FDR25/DCs_max4_body_bp10000/DCnets_loc/DCnets_loc_pFC0p58_FDR25_rawp0001_hyg0001/monocyte_LI_sp.tsv')\n",
      "('Loading saved layout', '/Users/emiraldi/erm/Shared/DCproject/DCquantAtacNetworks/DC_genesets_FC0p58_FDR25/DCs_max4_body_bp10000/DCnets_loc/DCnets_loc_pFC0p58_FDR25_rawp0001_hyg0001/monocyte_LI_sp.tsv.layout.json')\n"
     ]
    }
   ],
   "source": [
    "networkList = list()  # this list contains heatmap-linked network objects\n",
    "\n",
    "for networkInit in networkInits:\n",
    "    networkFile = networkInit[0]\n",
    "    curr = LExpression.LinkedExpressionNetwork()\n",
    "    try:\n",
    "        curr.load_network(directory + '/' + netPath + '/' + networkFile)  \n",
    "    except AssertionError:\n",
    "        directory = \".\"\n",
    "        curr.load_network(directory + '/' + netPath + '/' + networkFile)    \n",
    "    networkList.append(curr)\n"
   ]
  },
  {
   "cell_type": "code",
   "execution_count": 4,
   "metadata": {
    "collapsed": false
   },
   "outputs": [],
   "source": [
    "# visualize the networks -- HARD CODED for 5 networks:\n",
    "M = multiple_network.MultipleNetworks(\n",
    "    [[networkList[0], networkList[1]],\n",
    "    [networkList[2], networkList[3]],\n",
    "    [networkList[4], networkList[5]]])\n",
    "M.svg_width = 500\n",
    "M.show()      "
   ]
  },
  {
   "cell_type": "code",
   "execution_count": 5,
   "metadata": {
    "collapsed": false
   },
   "outputs": [],
   "source": [
    "# Set network preferences\n",
    "count = 0\n",
    "for curr in networkList:\n",
    "    networkInit = networkInits[count]\n",
    "    # get title information + curr column for shading of figures\n",
    "    currCol = networkInit[1].lower()\n",
    "    titleBase = networkInit[2]\n",
    "    titleInf = titleBase + ' (gCut: ' + geneCutoff.replace('_',' ') + ', pCut: ' + peakCutoff.replace('_',' ')\n",
    "    \n",
    "    # set threshold\n",
    "    curr.network.threshhold_slider.value = threshhold\n",
    "    curr.network.apply_click(None)\n",
    "    if tfFocus:\n",
    "        # focus on TF core    \n",
    "        curr.network.tf_only_click(None)\n",
    "        curr.network.layout_click(None)  \n",
    "        \n",
    "    # set title\n",
    "    curr.network.title_html.value = titleInf\n",
    "\n",
    "    # add labels\n",
    "    curr.network.labels_button.value=True  \n",
    "    curr.network.draw_click(None)\n",
    "\n",
    "    # Load heatmap\n",
    "    curr.load_heatmap(directory + '/' + expressionFile)\n",
    "    # color nodes according to a sample column in the gene expression matrix\n",
    "    curr.gene_click(None)    \n",
    "    curr.expression.col = currCol    \n",
    "    curr.condition_click(None)\n",
    "    \n",
    "        #     # Attach the motif collection populated above:\n",
    "        #     N.motif_collection = C\n",
    "        #     net_with_motifs\n",
    "    \n",
    "    # !!!!! for some reason this doesn't work, tried curr.display... w/o curr.network.display...\n",
    "    # Part 2: a hacky way to set min and max on the heatmap and heatmap-colored nodes\n",
    "    curr.network.display_graph.get_edge_color_interpolator()\n",
    "    curr.network.display_graph._edge_color_interpolator.minclr = minclr\n",
    "    curr.network.display_graph._edge_color_interpolator.maxclr = maxclr\n",
    "    curr.network.display_graph._edge_color_interpolator.breakpoints = \\\n",
    "        [(minvalue, minclr),\n",
    "         (0, zeroclr),\n",
    "         (maxvalue, maxclr)]\n",
    "    curr.network.draw_click(None)\n",
    "    count += 1\n"
   ]
  },
  {
   "cell_type": "code",
   "execution_count": null,
   "metadata": {
    "collapsed": true
   },
   "outputs": [],
   "source": []
  }
 ],
 "metadata": {
  "kernelspec": {
   "display_name": "Python 2",
   "language": "python",
   "name": "python2"
  },
  "language_info": {
   "codemirror_mode": {
    "name": "ipython",
    "version": 2
   },
   "file_extension": ".py",
   "mimetype": "text/x-python",
   "name": "python",
   "nbconvert_exporter": "python",
   "pygments_lexer": "ipython2",
   "version": "2.7.10"
  },
  "widgets": {
   "state": {
    "00033b2bd72b433abd64ff6d38a73411": {
     "views": []
    },
    "004c330c4a994408b9b6fac9f4de40a5": {
     "views": []
    },
    "00793a429d454c408cb94245507af9ee": {
     "views": []
    },
    "0116c603126844cfb2ebc79c58ceeedb": {
     "views": []
    },
    "016035ede73e46febfc41e3a20eace15": {
     "views": []
    },
    "0180529cbe924157a77f304e4a7288b2": {
     "views": []
    },
    "019920c64baa4351b75216e347c407d1": {
     "views": []
    },
    "01c94fc97a8c4ef3b599689fc0642553": {
     "views": []
    },
    "01f5b7c7641e436bba049f9c954bdd0a": {
     "views": []
    },
    "021b389872c041d09122d51a2dd52979": {
     "views": []
    },
    "022e41874a6746979df81d96b058c10c": {
     "views": []
    },
    "024c463c8fb34d8c9ebb357af5abc855": {
     "views": []
    },
    "026453f592b44e56954ef793a2365c39": {
     "views": []
    },
    "028d7cf5c2134db79397f25897fedd3a": {
     "views": []
    },
    "02960f50e113401698e9084834332ed0": {
     "views": []
    },
    "029dc26631db49ebbe84c7c046fbe638": {
     "views": []
    },
    "02a3cf58cf75432687f0b68b9321a401": {
     "views": []
    },
    "02c376a288cf4d3a92bb70a75b565207": {
     "views": []
    },
    "03e0ce147f674f5ea2ec37924216b3ec": {
     "views": []
    },
    "041ad4caa9b14f33a4ae19eaccd92c68": {
     "views": []
    },
    "04404bf9be2842f2ad397c37e5d14988": {
     "views": []
    },
    "045d6512d1e648809c8bbffcdd6bbd42": {
     "views": []
    },
    "04c098acd1244025a55f96bf0d65cab6": {
     "views": []
    },
    "05332a7be2c94e6fa593e5cd6e4de6bd": {
     "views": []
    },
    "058ec428e94345d6a98ce8b2e380839e": {
     "views": []
    },
    "05b413d937584621bccfaea0808c2182": {
     "views": []
    },
    "0612c8afb70c43a698f7eb7f285f6560": {
     "views": []
    },
    "064d651c45d548f7aaab95bd8a30a250": {
     "views": []
    },
    "06be9a8833a64b4d98f4c303b97ccc3d": {
     "views": []
    },
    "06ee5d916c32462b9ca7e038ad039b4b": {
     "views": []
    },
    "0735d20b41eb4143951314ebfa25978d": {
     "views": []
    },
    "0762b9cbb96b48f38ce5ee16bfa784bd": {
     "views": []
    },
    "07d7cdb585844d0ca3d824f572e54cfd": {
     "views": []
    },
    "07dd16ef089f43f5bd32f04a4bbe5940": {
     "views": []
    },
    "0843f0be78bb4f5690fb36470857a77b": {
     "views": []
    },
    "08f088711c084dcfa704fb3b7d8321d0": {
     "views": []
    },
    "090e6707a82b4bc6bf5baf6b1666c009": {
     "views": []
    },
    "0919b3a7fa6140f1935afc81a1687131": {
     "views": []
    },
    "098c6b72d9a04252b4128ae90d4cd447": {
     "views": []
    },
    "09d289109993402f84abde280eca88c3": {
     "views": []
    },
    "0a1dca5d0ad74f22a83865ed7eb17cef": {
     "views": []
    },
    "0a456496b63f45388fb45992cd40e21f": {
     "views": []
    },
    "0adcae95ce4f43e682f18177079d2d4a": {
     "views": []
    },
    "0ba4fcae4c1547edafaaa6c3ca942434": {
     "views": []
    },
    "0ba5ab1bcd3840ac8dd2fe20d67491d6": {
     "views": []
    },
    "0c1f29dadbd944cf94fe4d022c39c8c6": {
     "views": []
    },
    "0c95f3df45a14a2d961e75a6683116e4": {
     "views": []
    },
    "0cddb4d6ac1f4921ab0cb68bc59c879d": {
     "views": []
    },
    "0d29012c429049a5a7c670886688de5f": {
     "views": []
    },
    "0d7455565c1e4db099bea716b0296fc4": {
     "views": []
    },
    "0d7dd9d9f23e4a598ab62723730e467b": {
     "views": []
    },
    "0dc58d7a84af4dcbb036f0c86a2b96b3": {
     "views": []
    },
    "0dc84d63c989476a92cae98a4ae66334": {
     "views": []
    },
    "0df37bb50dad4e95accd916c219e70a6": {
     "views": []
    },
    "0df4120c57c74cf6a64d41683397cc44": {
     "views": []
    },
    "0dfbac9be7374b80b66cc4cfeee367a7": {
     "views": []
    },
    "0e22763546b84a96b3d9cd41f0c9c589": {
     "views": []
    },
    "0e5c824a34514aadb91bcea6679c7f3b": {
     "views": []
    },
    "0e9c3aa2865745a88cbe15b60ce408de": {
     "views": []
    },
    "0ecd8f158da240a59f90fa6585e63d98": {
     "views": []
    },
    "0ed4692a9eeb4af18d57b3b0376576a5": {
     "views": []
    },
    "0ef6d24c2ff34f0b9535d22d1d7e3677": {
     "views": []
    },
    "0f88ed2239bd4d639a7a291ec961e0a4": {
     "views": []
    },
    "0f9930961ac449e599e5cbb9cae92bd0": {
     "views": []
    },
    "0fb5539a62b44451bcd81c0ad41b2fcb": {
     "views": []
    },
    "0fe4d1df6a384238ba9f6b1aac8b3d37": {
     "views": []
    },
    "0ff2d00bac1d46b5bc4be642eefc4e80": {
     "views": []
    },
    "102434576799452b8018199b0acffe65": {
     "views": []
    },
    "10542c2179d64b22a7a75560da30ee17": {
     "views": []
    },
    "1058bbf9fd604b339a367dc11475f758": {
     "views": []
    },
    "10626647ddbe455b85af5fe5aa38ead2": {
     "views": []
    },
    "10686a324436499bad992df38d422f68": {
     "views": []
    },
    "108dbe1a81f64be0bba29e5a2d23ae93": {
     "views": []
    },
    "10a8b178c4e349ad92140dde49472645": {
     "views": []
    },
    "10aa8fa613804f2d9f196645b83d199a": {
     "views": []
    },
    "113185d43d1f4117a85affcf63a180bc": {
     "views": []
    },
    "11854e10c00542dd83c0952bded728c6": {
     "views": []
    },
    "11afbe4d48b0442ab2c3ca0113859325": {
     "views": []
    },
    "11b2c18908d6404db4668171063efce9": {
     "views": []
    },
    "11f9d2a7aaf14228835f3ee41d5237e5": {
     "views": []
    },
    "1213d6132f974aef830c964e1cddc3bd": {
     "views": []
    },
    "125899b47d194274b8efb0034b55b29b": {
     "views": []
    },
    "12647ab7b5784b06bb635f0790f6ac0b": {
     "views": []
    },
    "126ed5674f644d71b2c8391da64f1712": {
     "views": []
    },
    "1299870a8fe74a83ad317293e3109fc7": {
     "views": []
    },
    "12ebc718f9d24728aab7f4837a7f2b87": {
     "views": []
    },
    "135093ad02bc483cb916bbc53f827d0e": {
     "views": []
    },
    "138bcbb0e8c544b4af2c39674a7da4ad": {
     "views": []
    },
    "1391cc46425d4c49bedacc8dc09c517f": {
     "views": []
    },
    "13b23b6a7a3a4c14a4cd9c812466ba69": {
     "views": []
    },
    "13de57523a294e9f98ed797884581c4f": {
     "views": []
    },
    "13f139fdc29348018d1d7238acc20d28": {
     "views": []
    },
    "141024033de44745ad1d1ee84e4139f3": {
     "views": []
    },
    "143346b04a314c3588b4047210068f2c": {
     "views": []
    },
    "143518776866488ab36a0ba70ea2e304": {
     "views": []
    },
    "14a74f6afbfc4ca4836904c241899cdb": {
     "views": []
    },
    "154e4bf3056647ea8e102999e8a53ca8": {
     "views": []
    },
    "154ed7568ad0401e888de9e52624311c": {
     "views": []
    },
    "157df7c2e47143cfbcaadd922dcea866": {
     "views": []
    },
    "159b297838784904901874c3b562c4ff": {
     "views": []
    },
    "159e647a9b6b4734b46ac4caffc1df6a": {
     "views": []
    },
    "160371adc32f4efc9242ee23699f9b27": {
     "views": []
    },
    "163be5417ae24f1086d54dee895a3c53": {
     "views": []
    },
    "164dcfa550644b678392c58681278934": {
     "views": []
    },
    "16ad2af5754b4a838c3980c985a9fc61": {
     "views": []
    },
    "16c6ed57ac4948ee9ae47e1da3741078": {
     "views": []
    },
    "16ebce16886547549b2b10a9d44287bd": {
     "views": []
    },
    "17137fdc620840daab2cbb3d571309d4": {
     "views": []
    },
    "1771f523536149dd80e6007e0f465f5e": {
     "views": []
    },
    "179b18ba68c24bebaf71c2e09ca14242": {
     "views": []
    },
    "17ac65d5f83c4e81acc93484d33376d9": {
     "views": []
    },
    "17c773eb21ef4be4926f500e650e7cc0": {
     "views": []
    },
    "1818978171de46ae8f28b2dbcf2b8ee6": {
     "views": []
    },
    "181bcb70331f4fa6abdd64e75771d84b": {
     "views": []
    },
    "18532f69e89e4d7ea5648dc3036d8308": {
     "views": []
    },
    "1867e6c94b764adcaf79aa096a3baa73": {
     "views": []
    },
    "18898eaa27374f99b28583d202e8ee36": {
     "views": []
    },
    "190d88f9930342b9b1504e6c60d25098": {
     "views": []
    },
    "1922bd7795194668b05c57cecc738606": {
     "views": []
    },
    "19c57c2eb6b0417590accbb5dd476784": {
     "views": []
    },
    "19db134f2eab49f39fd903d4b799bdfa": {
     "views": []
    },
    "1a14265242da4d00adba2e71d01e1000": {
     "views": []
    },
    "1a3b1eb849a64f9eb3ef4a8aae541717": {
     "views": []
    },
    "1a8c2f239a3f4d30abad7a0d0234942d": {
     "views": []
    },
    "1a91488812a54af186722113fc5e3651": {
     "views": []
    },
    "1a9a09e11cc44f018b6dd991176bd77e": {
     "views": []
    },
    "1aa60b2ceb784a358d6c813f16f99006": {
     "views": []
    },
    "1ae3eaa003104c96aacf6705291d2889": {
     "views": []
    },
    "1b39ba854f8648e8a41334699706ded8": {
     "views": []
    },
    "1b4b91eaf7174fe086744ddae56a67c0": {
     "views": []
    },
    "1becc6adff5a4e028192250f7d79386f": {
     "views": []
    },
    "1c943f3c55454fa9a201e95a602d2161": {
     "views": []
    },
    "1cb64f844f904e9ca091b919b2b6c816": {
     "views": []
    },
    "1cc9dd7eb046402bad3f7cda83933b96": {
     "views": []
    },
    "1d4712235e4c47d3b2ee00d5801e3232": {
     "views": []
    },
    "1de529d55f1149e38431d6da31bbd107": {
     "views": []
    },
    "1de7a4964faf45e59dc77a0fa7dd781d": {
     "views": []
    },
    "1dfc43445af440afa08c1437c7d3788d": {
     "views": []
    },
    "1e85ead307b141a09e736664dda04667": {
     "views": []
    },
    "1ec6fb598c0147f2b7b06bd3dd8239b2": {
     "views": []
    },
    "1fc65ecf1dee43d0a97568d94e13cfcb": {
     "views": []
    },
    "1ff52ce0933541d896b7e7ce57321fd5": {
     "views": []
    },
    "2016fcf3a9804c668f71a2f92d7bf11a": {
     "views": []
    },
    "20506f859b814231afa94edd477266e0": {
     "views": []
    },
    "205c1c3e976f4a68b954564a76ab361e": {
     "views": []
    },
    "20ab3ae106704615b7f5a509607d816b": {
     "views": []
    },
    "21b7927088304b7ead2b67b09e538b21": {
     "views": []
    },
    "21cb1594c9264532812635ab0e14d570": {
     "views": []
    },
    "21e2524cec7542deb69f592265dc26d7": {
     "views": []
    },
    "221dcc59c8fb4f54bf16afa1d6e30aa5": {
     "views": []
    },
    "22677ae4ad4f45888dc91df49c597bb0": {
     "views": []
    },
    "22732497a4ee413d8799d49a2e46a569": {
     "views": []
    },
    "22a47dced00f4a5abb5f74a62a7e38a1": {
     "views": []
    },
    "22deb5f470a742f69d5ed8edacab54ac": {
     "views": []
    },
    "22ea3a24e6d84f3c9c0a55f5d0f53706": {
     "views": []
    },
    "22eb655c6a0440f5b4d7c2ce1fe69228": {
     "views": []
    },
    "22f6ac6a65514ae4a4a8c4244ecca637": {
     "views": []
    },
    "23194b1055554afe85980dadf3890b02": {
     "views": []
    },
    "231e0d20af8a40a7b872331213973eba": {
     "views": []
    },
    "232c37c4940849738ae3a2b62e1fa7bd": {
     "views": []
    },
    "233520ca61a24bdea24edfef8a7d4b60": {
     "views": []
    },
    "233f59a71ec548d2831c30accac91f5f": {
     "views": []
    },
    "23d3f62587ce43ddb1b39c8be01b6df2": {
     "views": []
    },
    "241d233e6fe04471abb00fc1410b1e21": {
     "views": []
    },
    "248541c47a784612a7a48c8f6436de0c": {
     "views": []
    },
    "2487848d1b034b6d9ec65c78feaa9abf": {
     "views": []
    },
    "24f09c58221a406e94d685d96fc0be44": {
     "views": []
    },
    "25014cf57bf9448fbe59248d556e5801": {
     "views": []
    },
    "258befced8534694a29443d89d335247": {
     "views": []
    },
    "25c5b37a007242ff8358bfb68152b391": {
     "views": []
    },
    "25e4adb224bd497382475d4cd312829f": {
     "views": []
    },
    "262f1cf8ee3f4cadae21f90d68859a2b": {
     "views": []
    },
    "26af26ea00db4efbb0c0b9ff73e05920": {
     "views": []
    },
    "274f5978d88144759048222612f68d96": {
     "views": []
    },
    "275358ac897f4c44b7f8c6fb8a8b4b6c": {
     "views": []
    },
    "277d6d1131414bf1bb07204e3cfeab4b": {
     "views": []
    },
    "27ce0f506cf5463ab1a615a945c7fff4": {
     "views": []
    },
    "27f5988d320d460ea0550b534bcb5952": {
     "views": []
    },
    "27fdf3733ade4ebf9a32dba65a445d6f": {
     "views": []
    },
    "283460ebb7144359b2042c6cb20393d0": {
     "views": []
    },
    "28519817e7e4495facc492db8884f4f5": {
     "views": []
    },
    "2876a80d78e045f0b4993ec940556956": {
     "views": []
    },
    "287f4f0367584b4197147fd76ae17ab0": {
     "views": []
    },
    "289fdb3b86fa4fadb93a9dd95f07378f": {
     "views": []
    },
    "28d56e6d4aea485faabc1eaa36191ee6": {
     "views": []
    },
    "28fd50864aa24a91800ddaff33c1256d": {
     "views": []
    },
    "2914a4d2596d47e08628538e5df1087e": {
     "views": []
    },
    "292ed1bb0907497f802d9731878658c9": {
     "views": []
    },
    "29d27e918bf341a6b0a8683c74b704ec": {
     "views": []
    },
    "29e4fb6715d54f13bcb3d7c59589c4f7": {
     "views": []
    },
    "2a0008649e33482d9a6fa6a0f283d03f": {
     "views": []
    },
    "2a221e44151947c4a25546ed0427c6cc": {
     "views": []
    },
    "2a3e1429f43b40e184384935348c5667": {
     "views": []
    },
    "2a5cb9a8041c4e48b458dfd4fd50aadf": {
     "views": []
    },
    "2a96416d433c4a3187f7af51e576f80e": {
     "views": []
    },
    "2a97d1ea93e541efb8af8a59c6287b02": {
     "views": []
    },
    "2aea0c3ce1a14c9c986fd8e19b70f977": {
     "views": []
    },
    "2b8960e88e8b403e84baa1f44a101aef": {
     "views": []
    },
    "2ba7f655dfc24f69bc910afe6ed6b3be": {
     "views": []
    },
    "2c954947136c4df48c734c59b545cc81": {
     "views": []
    },
    "2c965730173c4f7c9f00f214b98836aa": {
     "views": []
    },
    "2d359357dc6f4a9eb444c89fbe369890": {
     "views": []
    },
    "2d7f8d748df745bd9410306ef5557269": {
     "views": []
    },
    "2db353d58e10418ca90bab058e0a461b": {
     "views": []
    },
    "2e3597a59e4c40299ec420f41b9a5745": {
     "views": []
    },
    "2e598f613f184e0b9c46e8023b81c2d8": {
     "views": []
    },
    "2ef52163b186479e84ccb7a2cbe89648": {
     "views": []
    },
    "2f0d65c498d7472980d36673470b8e1e": {
     "views": []
    },
    "2f24b737feb74d0cb22957d703737807": {
     "views": []
    },
    "2f2ac182a5ac4fb3b123d45380a835aa": {
     "views": []
    },
    "2f313044f247413988b5f1344bd0ccf0": {
     "views": []
    },
    "2f626c2d9fad43c08bc51b6d101ef503": {
     "views": []
    },
    "2f97ae7b5ea1471b9c5bf9d4e1e3b61d": {
     "views": []
    },
    "2fbfffc59fc2483087e256290ec88368": {
     "views": []
    },
    "2fd1a09e2e8f419ebed62aee6f4ce656": {
     "views": []
    },
    "308ca088ded048cea0eab8435f851d40": {
     "views": []
    },
    "30caa628a3814953b9ac514cc18b54e4": {
     "views": []
    },
    "3193f5f3b73347cd92ea367ddae3fbe4": {
     "views": []
    },
    "319dfefd2e7b461c8ba4097db58de18f": {
     "views": []
    },
    "31e8fd3f8c9d46e5bb62a6f43c179486": {
     "views": []
    },
    "32517ca60a2c49f98431f5f8a3c24eb5": {
     "views": []
    },
    "32997f21f1664fdd997dbe2c2b5896f8": {
     "views": []
    },
    "329d4d4c8fea4bb18e46ce0e77204909": {
     "views": []
    },
    "32f11a92c15e483e8f5cde3a4fb45118": {
     "views": []
    },
    "3323a16c4b9f41e89555866481841345": {
     "views": []
    },
    "333562de415548e7a976ce255f778064": {
     "views": []
    },
    "3395665d9a1f44cd8ba357e6e5cc41ab": {
     "views": []
    },
    "33c9df5b16c54d1b9cd8880a8cdae8b5": {
     "views": []
    },
    "33cf820532d84882815a43b02ecf0a2d": {
     "views": []
    },
    "343e15102b6b4575837e08d3b7b0ef40": {
     "views": []
    },
    "3444087c293342e7bbddc8c5858382fe": {
     "views": []
    },
    "34b7a003d2594019baaa745e44645aab": {
     "views": []
    },
    "34c05f94ac084a9889216612cfc4ad10": {
     "views": []
    },
    "34cc473bd18745e89d32ac0a51dbcb71": {
     "views": []
    },
    "34e86ad58f724bc4b272759a1f6e1e4a": {
     "views": []
    },
    "35401c906dee4a1ca37a219339ae86d8": {
     "views": []
    },
    "358ea6d997d344b1adc5c5a2ecd1568e": {
     "views": []
    },
    "35f3a49303b4411ba7d3791237f1016a": {
     "views": []
    },
    "360156aab20846988723975130555e52": {
     "views": []
    },
    "3613d2813ec24f8abd23f534d4c274f4": {
     "views": []
    },
    "3659de1e7f60465899a89f17833a359e": {
     "views": []
    },
    "369166d0e04b4bfdba2ffb1a3b2634ca": {
     "views": []
    },
    "36a51d51206640e28b190d16daf5f1f9": {
     "views": []
    },
    "373139f883e5480f808638dac33f6e90": {
     "views": []
    },
    "380787c04468499a9419cd83286d0fe5": {
     "views": []
    },
    "3894ab5d85d54fe3834be3107f4973f4": {
     "views": []
    },
    "38afdb3a965e44da80c667c5c0216bf2": {
     "views": []
    },
    "3908f8e318434e07a27db917a32785a1": {
     "views": []
    },
    "392e1bd29bed4a6688130f8db6ded6a5": {
     "views": []
    },
    "39342288649348369119f759ccc4c7aa": {
     "views": []
    },
    "395295d385b34df09a5b22d8d0b4ce00": {
     "views": []
    },
    "3953f019c41f4ea39b09c2b770ba6dea": {
     "views": []
    },
    "3976821e2ffc434e9ff6539320c85c44": {
     "views": []
    },
    "39b039d313f546c2b55dc2fe9f5db73d": {
     "views": []
    },
    "39d39acf9583499e8bf6392b07735a4b": {
     "views": []
    },
    "39d43053d6f342c38ce8414eda4f6fcb": {
     "views": []
    },
    "39e29820634e496186cfc2fa85950c76": {
     "views": []
    },
    "39e7bdfede5e434a99f1d9d485a22239": {
     "views": []
    },
    "3a56bf30d62042358a40e21832ef4b33": {
     "views": []
    },
    "3aa0f406e73c41d5b93ba8a98b87a549": {
     "views": []
    },
    "3af8d1129efe4448908c8a1557f29cfc": {
     "views": []
    },
    "3b3f72af2eaa4bf7a8982f14cf840d67": {
     "views": []
    },
    "3b785556218146209b72d5fd5542eea5": {
     "views": []
    },
    "3b9da8e6e4894aeb9472b3c4bcf8aebc": {
     "views": []
    },
    "3bb5fa19a05e4497959abd9b5b4e9548": {
     "views": []
    },
    "3bc085e05633427fa9d3b02c477bd107": {
     "views": []
    },
    "3c403ffe57d14f6784907884c10d4412": {
     "views": []
    },
    "3c9cdada4c1c442ea8851ee2e14cae0d": {
     "views": []
    },
    "3e77fb7534a84403a8bd42fb4423b489": {
     "views": []
    },
    "3e827a8919dc46b88004ebad487ffb8d": {
     "views": []
    },
    "3e9d80e4159d4f24a31aeae0a21e53fb": {
     "views": []
    },
    "3efa3cc5c3944a25924ae6fff190e152": {
     "views": []
    },
    "3f08681198f6455c92d939e76036acb7": {
     "views": []
    },
    "3f31de24855c422e80a3a7a65d974016": {
     "views": []
    },
    "3f46b95f7b0a4e35b253bbe8903a58eb": {
     "views": []
    },
    "3f6fe3e813ce4e57acbcd9a7cfa7ab57": {
     "views": []
    },
    "3f8afab428d84a738a868b11ff6a66c6": {
     "views": []
    },
    "3f8fad6ba9104bea9a878f2fcc213710": {
     "views": []
    },
    "3f9ca0f0483f4055882f72ae64f03a88": {
     "views": []
    },
    "40a83a6c81b442039e8ca0c84df4c57e": {
     "views": []
    },
    "40b42fe466af4a91b94e13f70f73a641": {
     "views": []
    },
    "40b7794d92854c208b329b91c2c08146": {
     "views": []
    },
    "40c1221ea1e04942b8843c6de321901d": {
     "views": []
    },
    "40d214501ad4403bab9730f745d5b281": {
     "views": []
    },
    "413993a24a6440bdb6246f0b0314b28f": {
     "views": []
    },
    "41cace3a0e05495d9b88ec8683067ad3": {
     "views": []
    },
    "41e0cc2cd48e4da2917774d926793632": {
     "views": []
    },
    "42599af8471d4a2bbac6e7014c7fbd36": {
     "views": []
    },
    "42d7fb1b987f40bd86d7afbc39608f18": {
     "views": []
    },
    "42ee2b20eb23489d9b5a1e4832459dd7": {
     "views": []
    },
    "42f4512443354ee8a913ec4b05297d45": {
     "views": []
    },
    "43183674ca35488b869a21d963713a26": {
     "views": []
    },
    "43338431d0a44854870712e70dcb5a89": {
     "views": []
    },
    "43544a0d3430456bb53bdfcfc252557a": {
     "views": []
    },
    "43632976653548b9b7e8dfc004a1e4de": {
     "views": []
    },
    "439422dfcdb04ba29fbf8a4b30eaa75c": {
     "views": []
    },
    "43d85f86739b4c68a631615a0dba7cb7": {
     "views": []
    },
    "43e74172cd834e0da5790fa42cc9bafc": {
     "views": []
    },
    "43eaf474d2504fc38f27267f17915b01": {
     "views": []
    },
    "4416bf24bb884997a2a16debf4dc4487": {
     "views": []
    },
    "441e34a1f75c452da3f03803036181dd": {
     "views": []
    },
    "445ba66b2b3a4342affd8d7f57aee10b": {
     "views": []
    },
    "44e7d198f86746c7a0064eeef21289ba": {
     "views": []
    },
    "455f7c6f5ba1449faf27bbeba7fd3dfc": {
     "views": []
    },
    "45634dd5104e4283bbed4a4d40eec775": {
     "views": []
    },
    "456aa00a5ddf45f890fdca5c0e4ccc18": {
     "views": []
    },
    "457286d2ba624b1b9575e2b53e54fcd0": {
     "views": []
    },
    "459525ffa82342969fbac5d0e7e83d8b": {
     "views": []
    },
    "4679b3997f4948a7879a111947e4d98c": {
     "views": []
    },
    "467f8df01f7041e8962f752d71456904": {
     "views": []
    },
    "46d675d5be004c97b72ba3ea6c83f3ce": {
     "views": []
    },
    "473e223e87ba4d21bdb51519cf0c14f5": {
     "views": []
    },
    "479ddd08e721459db58c1621ebb3a8d6": {
     "views": []
    },
    "48ba55e2289c4d4ea1e64c8aa4761360": {
     "views": []
    },
    "48bf0c4ce56d40d4b81b3edf09b2d461": {
     "views": []
    },
    "495cef2afb0c482e8ff4a067538236c2": {
     "views": []
    },
    "49b0062d9b764b419b53491c2b9e3276": {
     "views": []
    },
    "49b263d8798f49878437baec7ab2dc81": {
     "views": []
    },
    "49f26f95c3bf4d3faca9691a64020f65": {
     "views": []
    },
    "4ab8e46de3154314a2649cc47e5e25a6": {
     "views": []
    },
    "4b65901a7cbb46229f7c677dcb775a82": {
     "views": []
    },
    "4b6ddb90dcdf4c53b598688d89293e8d": {
     "views": []
    },
    "4ba4fab23fe44468aafa9fc00a453d0e": {
     "views": []
    },
    "4bae288004db467a9b6ed97b76fd17d7": {
     "views": []
    },
    "4c32b5f9178b4087bd48702ad99199c9": {
     "views": []
    },
    "4c5fcd14495d4de98811dff05f832f5c": {
     "views": []
    },
    "4c647c5bb9764fe180e638e431379650": {
     "views": []
    },
    "4c676a7a45ca439789a03a9bd505e53f": {
     "views": []
    },
    "4cbe1afb6f6c4340960e360fcf93cf37": {
     "views": []
    },
    "4cc91fbb7c724270b6d2427016829ee8": {
     "views": []
    },
    "4d820700e6ef45c4908ff73794d60708": {
     "views": []
    },
    "4d8e5433473749c49c350effa7d0e783": {
     "views": []
    },
    "4db80386cb9e43ee9a54246655531259": {
     "views": []
    },
    "4dd077f4e6b34a99af23988fed3d0dcd": {
     "views": []
    },
    "4defa0015a5b4fca9d6d54fae5e885e6": {
     "views": []
    },
    "4dfdcd26ff7f491b8be0d563d6b7bbff": {
     "views": []
    },
    "4e46345fa58d4d9b977ddcba899eaceb": {
     "views": []
    },
    "4e7d8ea8d1ea4d8fbe8620e746cba1ce": {
     "views": []
    },
    "4f03616b318a48169cb9ae91e4355574": {
     "views": []
    },
    "50338edabb5e4a47ac1fc0215d1ca55b": {
     "views": []
    },
    "50c37350e50946548cdeabcbf90ac136": {
     "views": []
    },
    "50f35ee7e012418f8e5c27dab78a383c": {
     "views": []
    },
    "51294cf9956b4a7f979b1459ae9901e4": {
     "views": []
    },
    "516df98b924749fcb53569bbb065c3e3": {
     "views": []
    },
    "51b6febb64274e299a2a06a7ef1fc97b": {
     "views": []
    },
    "51c305b66cdb4bdab16a29e37503fb6f": {
     "views": []
    },
    "5250f6e6a34d4b9cab80eb0e6672d5fa": {
     "views": []
    },
    "525d505e0dab45248bf411a02b71eae3": {
     "views": []
    },
    "52b97fc6178940a49a017898869fe3b4": {
     "views": []
    },
    "5310143812944bc1814b3322fa3293d6": {
     "views": []
    },
    "53692fb79aca4e68ac1153c6e60b4b95": {
     "views": []
    },
    "536b962ddac7455e86f8dac559cdbd0e": {
     "views": []
    },
    "537d797ae62c4936b3b0588e9b28b523": {
     "views": []
    },
    "53c487c394aa41f8bee4e1c95e17375d": {
     "views": []
    },
    "53c48fa27a2946feb97d06a6ebc6ed20": {
     "views": []
    },
    "53c4f3c6d0904bfeb5183b813c5a3e07": {
     "views": []
    },
    "5405ed96145b44d3b707be07ff50f32d": {
     "views": []
    },
    "54284708943242bc8d03a49b15631469": {
     "views": []
    },
    "544e3495a4e348e8b8eae400cf64f074": {
     "views": []
    },
    "5514c0da18744107905d9e0c14736544": {
     "views": []
    },
    "55ac26d695bf4591a90838313c5670bb": {
     "views": []
    },
    "55e098a505e04bbe8940c1c3fdc77239": {
     "views": []
    },
    "561639edc6d849078a00503bf98e264d": {
     "views": []
    },
    "56a535462a53434aba28884d6ab706a7": {
     "views": []
    },
    "56abf58120f142ffac361b62b0203567": {
     "views": []
    },
    "571f7dfb2ed54d7aa076b99a3a8eb74c": {
     "views": []
    },
    "5724b1d616094ab2834d8abc102beaf2": {
     "views": []
    },
    "5732172e077a4885917953e47c0a1428": {
     "views": []
    },
    "5748ba02d7da4bb58efb9354a25d17ec": {
     "views": []
    },
    "57783b154f684cb6be06112111dbdef2": {
     "views": []
    },
    "58225bdd96174978912eae2b475d0f4a": {
     "views": []
    },
    "582f9a7a89c949d39e376c0f4d35ceae": {
     "views": []
    },
    "58a49c1fc9f64e10ad6099560c87af7d": {
     "views": []
    },
    "58a7a2f6afdb47869b3a9cc6b8614d6b": {
     "views": []
    },
    "58b46da21acb4ad8bfb577fba039faac": {
     "views": []
    },
    "592e36bc0032478594cf294c8de64609": {
     "views": []
    },
    "5937176e95204e77a6f8550889cdc3d4": {
     "views": []
    },
    "596adddf17ac47deb5a97fed294fae6f": {
     "views": []
    },
    "598d5893ed2d4299881dc00ed68a762f": {
     "views": []
    },
    "59d7527ca9f643ed92dab6c7668c37e9": {
     "views": []
    },
    "59e5b762e053464084bb930d0f90c21e": {
     "views": []
    },
    "59fa9d4f095240ffb48c9174ad3796e4": {
     "views": []
    },
    "5a3c4798d3454b3884940738bacd19ad": {
     "views": []
    },
    "5a54165d4b44494298fcc63ae1dc8b58": {
     "views": []
    },
    "5a9fe6dcce3a4c358d8e3a712f3f7057": {
     "views": []
    },
    "5acdf5084eec47ef9cb392ac584e0a1d": {
     "views": []
    },
    "5b1a962816664a1cab09c6aa9bfcc445": {
     "views": []
    },
    "5b35bfcdc3b14afb9c443faac489da7b": {
     "views": []
    },
    "5ba9c8833f004fa5aee1da7e348dc13b": {
     "views": []
    },
    "5bb123bf52ba473cacd78e5f1cd05623": {
     "views": []
    },
    "5bc26936add84753936d6bb9ce4b75e0": {
     "views": []
    },
    "5be3e117a8af42a2b7fcd8f189f16e15": {
     "views": []
    },
    "5beff5e283054edf96801d03f2057c87": {
     "views": []
    },
    "5c5ff42fa5de43c1acb2c6784ce87480": {
     "views": []
    },
    "5c6a493097f341f5bf0d6ec207e947bc": {
     "views": []
    },
    "5cd14f8c7d7a4bc5870535f69af6e68f": {
     "views": []
    },
    "5d2c17244a804498b552dd9693ac9ca6": {
     "views": []
    },
    "5d92d2f8087f4ab6861190b54625b5c7": {
     "views": []
    },
    "5dc7150c38004f419bafd849e23493c4": {
     "views": []
    },
    "5dd745a31179498fb3115d0f4f7b5136": {
     "views": []
    },
    "5de3c68769fc42c191e22925fb0c2f8f": {
     "views": []
    },
    "5dedbad695b141299d43d93625a4cfc5": {
     "views": []
    },
    "5dfd426c46064c788684f3f8d25a4c36": {
     "views": []
    },
    "5e0c3a7c44db4f95bf96a6d200e41647": {
     "views": []
    },
    "5e114aa70b7143a7b39c35d01057347f": {
     "views": []
    },
    "5e2c2f9f8c724071b020137fb38659f9": {
     "views": []
    },
    "5e8c3716de914d0dbccbe8dccf67b190": {
     "views": []
    },
    "5e94baa4ab6842faa9f74f9f549f5776": {
     "views": []
    },
    "5eb39259db0b4f04b7bfecf122daa1cf": {
     "views": []
    },
    "5f8634544cc94119a668c8f185b03183": {
     "views": []
    },
    "5fed081d2e04482cadc00bc36b6ad26c": {
     "views": []
    },
    "5ff079be5fab4e4ba269476024ae6885": {
     "views": []
    },
    "60082248d5fa40298bbd168236516064": {
     "views": []
    },
    "6022bfeb3c1c43028bd2e1bfb2af7e5e": {
     "views": []
    },
    "606de5468e964e958c9e2886db0624e2": {
     "views": []
    },
    "60f396f0919e4f3d9e1059a94a45376b": {
     "views": []
    },
    "60f65aacbd1d4c64af639fbe04b99fbd": {
     "views": []
    },
    "61151c2803a04d58a323b1bb796c30b7": {
     "views": []
    },
    "612add41c08445449f4552f4459c9b4c": {
     "views": []
    },
    "6177604cb3ec4db6a15cc670fb4fa0a7": {
     "views": []
    },
    "61822b014ce8441eb270857013937c2e": {
     "views": []
    },
    "61a731f6bbdd4f1d90a518fd5d76ee9e": {
     "views": []
    },
    "61a7439f7eda4b07b88f41e676c6fe40": {
     "views": []
    },
    "61f0cc3f806346f399292171ac2138cf": {
     "views": []
    },
    "61fdc73d018d457aaf83c58ed159114d": {
     "views": []
    },
    "622775a96d684bbbb0ad50145e461955": {
     "views": []
    },
    "6246846d72a341dc99176d9ad2695682": {
     "views": []
    },
    "626bfc98ecfe4a35b5517f7989bd4b0f": {
     "views": []
    },
    "62fa34b294a54b1982ed1f6af0f5657a": {
     "views": []
    },
    "63174cb9e7b044a1bbf0a1f114972b75": {
     "views": []
    },
    "633ff26d66674c1ebfb32d18bccc7cff": {
     "views": []
    },
    "638b2fbec905494d842e325d0fbefb08": {
     "views": []
    },
    "63e94b4d6d7a4ddfb0b091e4c59e1ae0": {
     "views": []
    },
    "641563b27036430481b06a13c172e017": {
     "views": []
    },
    "649fcb13f47347d69cc427a8badabee9": {
     "views": []
    },
    "64c42c884732404ab6aaf335fd3cea30": {
     "views": []
    },
    "64c4414a4c8c4644b981dce98ec8c69a": {
     "views": []
    },
    "650a3bddbca44eb9aed751eb826428c0": {
     "views": []
    },
    "6535d59ff80b47ab931a656072737c86": {
     "views": []
    },
    "6558239fdd254482ba40621462ecdc08": {
     "views": []
    },
    "65aa6c178af941158fb29f10bb5155bb": {
     "views": []
    },
    "65d5c53fd2ce42a2abb463da36121a76": {
     "views": []
    },
    "6604f386a61b43589dd8282c4687dc15": {
     "views": []
    },
    "66465421935e4faf8cd1092a06851e4b": {
     "views": []
    },
    "66714acdc1b84d40a11ded7bd653af70": {
     "views": []
    },
    "66aaa01f990645b1ae482157474681a2": {
     "views": []
    },
    "66b20436e89040ef85eb0c29dfa90b17": {
     "views": []
    },
    "66c326a1a9e8448c8f426d523a543d80": {
     "views": []
    },
    "670a7ac63076441f87a6ffd732f081a1": {
     "views": []
    },
    "673778bb81684bd6b93e248537fa02dd": {
     "views": []
    },
    "67628c90c0f748ab96bcf4cec8bdfb28": {
     "views": []
    },
    "6790f739ecd74c44be6d56927e28f5fa": {
     "views": []
    },
    "67c1991c181546e3854d03057387f209": {
     "views": []
    },
    "685a36a1563b46ad917218513d1cc58e": {
     "views": []
    },
    "6942a30f46da41909e53efa6a3b8076c": {
     "views": []
    },
    "69f99fab56d64e8d9f6f8e034300fd7f": {
     "views": []
    },
    "6a03d7fe3a3e4a34988b83365670c598": {
     "views": []
    },
    "6a0994cbb5684907aba7300f5fbc2559": {
     "views": []
    },
    "6ab342cf33b049bcad4347dfe097f387": {
     "views": []
    },
    "6ac44d5501e34a449a4e75af59adc710": {
     "views": []
    },
    "6ae3856db95c4bb1a1e05c1b215c3c4e": {
     "views": []
    },
    "6ba5161fa7c14582a3d04e235b51b50a": {
     "views": []
    },
    "6ba8689c0c124742afafea7c29948e57": {
     "views": []
    },
    "6c807ce569834e56bf2826edafae9b94": {
     "views": []
    },
    "6cdb5e73b43e49b887cc353e6fcac616": {
     "views": []
    },
    "6ce7461c794246e6a73f6da77d8c6645": {
     "views": []
    },
    "6d0a28073de84ab6952f622acc533270": {
     "views": []
    },
    "6d0fd03fb4d943c68fbcd8ff99810dac": {
     "views": []
    },
    "6d10964ed9bd4497a3a72cb8abcf060c": {
     "views": []
    },
    "6d9f671531e44ead97661a8e565328fd": {
     "views": []
    },
    "6db3aff0f7b84edb909cd8f999cfddaa": {
     "views": []
    },
    "6db45d5ad5114dfcbbf1229b611033eb": {
     "views": []
    },
    "6dbb57db2416411bbdf178e16a5a6f71": {
     "views": []
    },
    "6de19f6bb7fe497c9f10fd7c92449d85": {
     "views": []
    },
    "6e42dfbe0cc14079b152258f45045487": {
     "views": []
    },
    "6e47e19b9ac6412cb1be72e5055ffb18": {
     "views": []
    },
    "6e61f4ca2b134cae98f4c05ae962297d": {
     "views": []
    },
    "6e8ccfbf28f940c5895e4031ef3c4fc7": {
     "views": []
    },
    "6ea43acfe5eb4490ac4577643f09d81e": {
     "views": []
    },
    "6ebf4aa0baae415e8753578f36b650c3": {
     "views": []
    },
    "6f040f88733e467eb56ba1c8bc8be8e2": {
     "views": []
    },
    "6f84191318284d07a8bc98419034857d": {
     "views": []
    },
    "700944758bbb402a89804441b8413fc6": {
     "views": []
    },
    "7086f1d5216540228e9e1088b681e14e": {
     "views": []
    },
    "70b1f9a2c3294b848d96c2d5f696be7f": {
     "views": []
    },
    "70b2b82f92ff4fde8842faebb3c430a6": {
     "views": []
    },
    "70b866272a5145a9b6d84f49beeb4af9": {
     "views": []
    },
    "70e597e59c124a5999be28ab36289496": {
     "views": []
    },
    "7103d4343f264cc9bc627cd2ec30050a": {
     "views": []
    },
    "71206fe13ce9476da3922bd8991e87a6": {
     "views": []
    },
    "7130b9985e3c4b2da269c85ada4de734": {
     "views": []
    },
    "716b0fd1ce4f493fbeb5520407fb3b46": {
     "views": []
    },
    "7213f8c0d6bf434282ecc9e6e0108cb3": {
     "views": []
    },
    "72396aab325846bd8ca91a6530da83b2": {
     "views": []
    },
    "724bab7b0f074e18beca7ec1fa7bbba5": {
     "views": []
    },
    "725d14e35b9741bcae835b882c5b9205": {
     "views": []
    },
    "73555a6e2c5846ffa06d0edb6419a23f": {
     "views": []
    },
    "736d1ba9d74d48368cf4dd979500e3ab": {
     "views": []
    },
    "7384c01c613042f69c4d9c27fb905d63": {
     "views": []
    },
    "740f65c01f854a85b951c7acae8935bd": {
     "views": []
    },
    "744530fac0a8426cab26fd8158453310": {
     "views": []
    },
    "74643aa382214ff89fdf45bca2f6eec5": {
     "views": []
    },
    "749bec13ac3d4c7e8fc4b109a41b48ff": {
     "views": []
    },
    "74b6f619c57f4b5c931c7487ba53bae4": {
     "views": []
    },
    "750b6a8969d84cbfaf81bad76675fbec": {
     "views": []
    },
    "75397f2ffa2245aba33858e5107570c4": {
     "views": []
    },
    "754a6f8318f340118c4510ccd35980cb": {
     "views": []
    },
    "75b5753e07e74216924867595bd5c63c": {
     "views": []
    },
    "75ed473495244f3e96c9d80a1b4aa599": {
     "views": []
    },
    "76133a8278d444d1b40624d92855d9fd": {
     "views": []
    },
    "76216b8d860a4126b413443055b45319": {
     "views": []
    },
    "768e797c08ff4ac7b74564a1c13467d4": {
     "views": []
    },
    "77ac2276de3e45ae86cd5ef61c414b2c": {
     "views": []
    },
    "77b5307fccac4553b40313170d39b21b": {
     "views": []
    },
    "77ffa3552fda41f68898756db5c4fa04": {
     "views": []
    },
    "7852c7125dd146ae8f39d544a61140c3": {
     "views": []
    },
    "7874dfd72d1145ba8d732d4f73d07611": {
     "views": []
    },
    "7883500c91c049b58efe0ebeafb5bb1a": {
     "views": []
    },
    "78979c0a8b3c4542869636c9fdce9faf": {
     "views": []
    },
    "78a27e4c06d04b8ab7a21b10bb44f78e": {
     "views": []
    },
    "78e6e440460b4fa0a032865639eaad56": {
     "views": []
    },
    "791032475fe74cad801c846857b6467f": {
     "views": []
    },
    "791b57f8153143faa94c1ce3164cff1c": {
     "views": []
    },
    "793ba4c1b1544cd2bd1ae983253a92ae": {
     "views": []
    },
    "79a97b2221d4489980f0560e596a2b31": {
     "views": []
    },
    "7a2809095e66476aba094dabfecfe295": {
     "views": []
    },
    "7aac05f6768945609fbb43f75db69990": {
     "views": []
    },
    "7b37b34e9898463c868b2cc2dfb57027": {
     "views": []
    },
    "7b839499f8494122bfc905a0ea111f4a": {
     "views": []
    },
    "7baeb10a37be426f81bc13a2611fe3ab": {
     "views": []
    },
    "7c70d05788dc48e7a1d65f80909ccbe1": {
     "views": []
    },
    "7cae9929916146349fb0e144ec53038b": {
     "views": []
    },
    "7d03a0a675b545949aa74250acc27489": {
     "views": []
    },
    "7d2250e99e174c3ba6142a4ec4cacd19": {
     "views": []
    },
    "7d8175a20bff475a8b09146aaa0430d5": {
     "views": []
    },
    "7d92019843bf42bd9be52f5b8bb4b21a": {
     "views": []
    },
    "7db808ce98a44135817b0c5bdf254016": {
     "views": []
    },
    "7e5a01e1be0840efaaaa20a1ff6fc587": {
     "views": []
    },
    "7e7591168c7448659abc098f0480d635": {
     "views": []
    },
    "7ec0ee7203014b65ab0ef68524c30f33": {
     "views": []
    },
    "7efe7dcb0cb6452b9a652d8ae276c938": {
     "views": []
    },
    "7f2cecbbe89a45578c0c7548a13daea3": {
     "views": []
    },
    "7f375fde927c454d80953ea8e4385e75": {
     "views": []
    },
    "7fc477706e664c77afd606ae0147901c": {
     "views": []
    },
    "80ab60e36f284d92a9294697cc7f5e57": {
     "views": []
    },
    "813ab5cbec3f4cae89052c137184d51d": {
     "views": []
    },
    "81544a40bacb43cba786b8667af1aa26": {
     "views": []
    },
    "8214cdeb780a4d9dabbabe296e2c6efa": {
     "views": []
    },
    "8264ebb5f9fd40de9e666fc5d768ce3f": {
     "views": []
    },
    "829520ea0c4a414794cf25c62f2f5f4b": {
     "views": []
    },
    "82c8b819820843d4944eb33453c9d300": {
     "views": []
    },
    "82ce0d3f58ce47f7afd57f5dcb307088": {
     "views": []
    },
    "8344af8441624f3e9e5ca65d30818b6b": {
     "views": []
    },
    "839618be90eb46779ff9b9b374c60f72": {
     "views": []
    },
    "83b81e85fb0d4c85bf52ada0f005f557": {
     "views": []
    },
    "83e2670da70e4b4baca5c8679c2b8a36": {
     "views": []
    },
    "8419cfd65968495abb288a2f5b87d99d": {
     "views": []
    },
    "8435b6a10c1948dfb1ef72064cc18ccc": {
     "views": []
    },
    "84d61ebfe75f4e15a7cd0fac61a3997a": {
     "views": []
    },
    "84f3812bec5a4342a14619631a0c501d": {
     "views": []
    },
    "85304fb705f94428a88d46d4bf983544": {
     "views": []
    },
    "8551d24b52264ebc99f71112000af28c": {
     "views": []
    },
    "856ce712c1a04ede980197d959691c75": {
     "views": []
    },
    "859dbf96982b481996ef98b57e41d267": {
     "views": []
    },
    "85bc631fb85d4b2a94dc4bb1ef760ab9": {
     "views": []
    },
    "85c853267d9644f5aab077accd3ac7d8": {
     "views": []
    },
    "85d7f3f12a8d448c9819ad1bbb2534e1": {
     "views": []
    },
    "860644b4e4e74cd7b3ad70ddb539eebb": {
     "views": []
    },
    "86313584d00d4851b44b19900605ca04": {
     "views": []
    },
    "865e7fa4e10142158a97eb89d561aed0": {
     "views": []
    },
    "86809e5be668485086cbb6f532784b9d": {
     "views": []
    },
    "86e75fa7fb0d4943ab1a606cce373521": {
     "views": []
    },
    "871070a5edcb482b9a16b7419fa52d67": {
     "views": []
    },
    "872a8db3e7654cc1b90ca6673990a7d3": {
     "views": []
    },
    "872f64ecc4de41be800fbcc9ac5ca664": {
     "views": []
    },
    "873068f2469b4be19fcefa0c9b8c193c": {
     "views": []
    },
    "8770be39fca14aa49b6b5603001650a7": {
     "views": []
    },
    "878ee06cc3ea41638f0e13de20285380": {
     "views": []
    },
    "879a5909ced34b71a7305d093e025aa2": {
     "views": []
    },
    "87c6ea0065d64a33b0e9fddc510e3ac8": {
     "views": []
    },
    "882b9cdd711746f48c46e701299ed367": {
     "views": []
    },
    "8838be48cfd642dc80ef020df69f7879": {
     "views": []
    },
    "8879f1ac0dd6437cbe0137e980505bd3": {
     "views": []
    },
    "88917e707d2e4166b66b6f730610aaa2": {
     "views": []
    },
    "889825bfe27c4df5a5ca6fc5f86b421d": {
     "views": []
    },
    "88ef15e50ea54b26ac8892c41034f099": {
     "views": []
    },
    "893be27d1f9e406baacaa70c03fcfa08": {
     "views": []
    },
    "8948ad92b6b641d8878d47ac674599ec": {
     "views": []
    },
    "896ef801ea344b1ca8f18cbc7cef7383": {
     "views": []
    },
    "89758ae882c7450281040b14c4bd0f80": {
     "views": []
    },
    "8986cb7946c843ab8e461ec531723647": {
     "views": []
    },
    "89a6636f4a2f4c338807e2bf715a57cd": {
     "views": []
    },
    "8a09e3bdd9d842d499e5955ceeabdf09": {
     "views": []
    },
    "8a198bf3a93c4b0cb115849cfefdc9f8": {
     "views": []
    },
    "8a2387c169ea4e94a80c134c585faa89": {
     "views": []
    },
    "8a389d421dfc4f3d9abe62785f506eec": {
     "views": []
    },
    "8a4b34cb9de84b4984c2c5330ac81234": {
     "views": []
    },
    "8ab4fddc05c64b4eaa3e95ae72f35371": {
     "views": []
    },
    "8ab9828dacb14931a438e86b06dcaeeb": {
     "views": []
    },
    "8ae56a9cd3a44051b8123360ffca99d5": {
     "views": []
    },
    "8b5dde7f001740598c456f9050ca4019": {
     "views": []
    },
    "8b87688dcd6c43abae2615ed1b41efa2": {
     "views": []
    },
    "8bd4f38b17d0470cb55aac457c33fbb5": {
     "views": []
    },
    "8be8b64768d340cf8500c79b3c0d722a": {
     "views": []
    },
    "8bebb7b419a04a8b834332a5b9e5efd0": {
     "views": []
    },
    "8bf7ce348b9b475e8609fdf611af9fff": {
     "views": []
    },
    "8c164115eb374ac49a0759d4fa6b8389": {
     "views": []
    },
    "8c3c0ed62c314a8886612bd4a9994968": {
     "views": []
    },
    "8cfc9e7b502d4d38bc346d068ea01d6b": {
     "views": []
    },
    "8d38cc99be7d48f2896ae61aa414d6c6": {
     "views": []
    },
    "8d3c3552cbb84a9dbcc8c48c75bf0bf2": {
     "views": []
    },
    "8d5e457638a244fca9867f50cb14f297": {
     "views": []
    },
    "8d83af66fdef4c0983add5ba937609f8": {
     "views": []
    },
    "8dcfae995e174344b769dbb05bc9aee3": {
     "views": []
    },
    "8df9bfb9237942afbf2df60fabac879f": {
     "views": []
    },
    "8e37fc3d145d4d2a9c886910934bc7b1": {
     "views": []
    },
    "8eb9db792f764290ba2dbd8a54e9e69d": {
     "views": []
    },
    "8ed08f048c2d4dd4a16aaa3fdd4e3507": {
     "views": []
    },
    "8f2d748f43f846a79f290ba2164d265e": {
     "views": []
    },
    "8f3140a3b5da4b20b0806f1c5c9e5ef1": {
     "views": []
    },
    "8f6066964bff47668fa319d189bd5e41": {
     "views": []
    },
    "8fa05bb710cd4179ab8918d178c428d9": {
     "views": []
    },
    "8fff1554e6e142c78cfc6e8569362189": {
     "views": []
    },
    "906b9df063e64b6d8cb4cf38ad9fd0f0": {
     "views": []
    },
    "9077eed8976d4096905a27299ac91347": {
     "views": []
    },
    "91352eca9b444f37a1469a64c7683373": {
     "views": []
    },
    "915af4f4da4549fd826da070b5f99c50": {
     "views": []
    },
    "91c21df9f1884520ab9edbe74654b2c8": {
     "views": []
    },
    "91f26676197a490d8b2d868fda70a5b8": {
     "views": []
    },
    "92038dfb33974787bd94ce7bf575454f": {
     "views": []
    },
    "920b3a5e67124fc79926619099e3e11f": {
     "views": []
    },
    "9261929804c34abe81a52500722b7ad3": {
     "views": []
    },
    "926f95e6cc5f4df587ea0d2d5fd6495c": {
     "views": []
    },
    "92b516c22ee94860bf1f1a98088e99f8": {
     "views": []
    },
    "92c2614a12f8412b90904df890281c79": {
     "views": []
    },
    "92c81f49f4cd47a9a8fd28c5efe948fe": {
     "views": []
    },
    "92f622f05e704d88b1f1d070e0189dfb": {
     "views": []
    },
    "92fd28acdb2a422aa673d8d61b59a01f": {
     "views": []
    },
    "93a3941f7f95482ea37414cfc24164f9": {
     "views": []
    },
    "94002f679e9c48239cdb7f6c3be91b27": {
     "views": []
    },
    "9423748fe05b47bd8188563a4d439ccf": {
     "views": []
    },
    "9670e1e327fd48ae95c3174fab8174ef": {
     "views": []
    },
    "968900db79d8483c926623289598e5ea": {
     "views": []
    },
    "96fb8c7a83f34498a975f807f2da4e7a": {
     "views": []
    },
    "97186be8f8f44b168153e7030ac26020": {
     "views": []
    },
    "971a417fe3844582b95c6d0e06d757e5": {
     "views": []
    },
    "97896c3602e14e8dba4d0854fa8ba21b": {
     "views": []
    },
    "9869eac311ac483abe23fc29a7d3c1ef": {
     "views": []
    },
    "986bf0a44c7843738aefe6c69f582bf4": {
     "views": []
    },
    "98b07184295142daa5e83e037c913efa": {
     "views": []
    },
    "98e4e2c0fd5048a79d4d2c2885e01aaa": {
     "views": []
    },
    "98ff1c43252e4498a5c1d3ba804fca44": {
     "views": []
    },
    "996459dc2da048ef9de7b4e690b4459f": {
     "views": []
    },
    "997c74e29c324b43a60bb1a7e348f85a": {
     "views": []
    },
    "9987406f78c6479bb1749e24ee349b8f": {
     "views": []
    },
    "9a0da368ad874c6c81b40d66bb88233c": {
     "views": []
    },
    "9a38809467d647c18be8bdc94f7acb72": {
     "views": []
    },
    "9a449a0cf1f7485bb71e486d871f8797": {
     "views": []
    },
    "9a4ae1679dd645a1907e614f2dea877d": {
     "views": []
    },
    "9a52f374d2bf4089be9704c6daa602c6": {
     "views": []
    },
    "9abac4c6ad844034bbbe62bf384577c1": {
     "views": []
    },
    "9b116d1048664b47a9b52e83e722c088": {
     "views": []
    },
    "9b9410aa59004438a562efaa9cce2918": {
     "views": []
    },
    "9b9f3e3941824922a0c00750561563dc": {
     "views": []
    },
    "9ba9238ed69f43b687e71f40e5e98b7e": {
     "views": []
    },
    "9c929b40e7894380acad84973ea7c2aa": {
     "views": []
    },
    "9ca4617e4104499a94a3bc01ef259267": {
     "views": []
    },
    "9cfb8f3aa1114d06aec69ed3abc6e88b": {
     "views": []
    },
    "9d562265113e47cb832617fe55becea4": {
     "views": []
    },
    "9d6a5303802d46d8807cf7f02be210b2": {
     "views": []
    },
    "9d6fa263878a407c89ace9b378d5763d": {
     "views": []
    },
    "9d9b2ed0063f42cab837aa322dc653ba": {
     "views": []
    },
    "9dae6a61b1fc485983de40eaad0780f7": {
     "views": []
    },
    "9db392e1d21b4a9caf79a16a7bf4476b": {
     "views": []
    },
    "9db48147b1d842c19776e67479e7c29b": {
     "views": []
    },
    "9dc9567d17254dd0a7617fea135c59ff": {
     "views": []
    },
    "9dcd512be4b74687b2e3b6386b75027a": {
     "views": []
    },
    "9dcf3f82fb5341be9644093fcfb27179": {
     "views": []
    },
    "9dd73a6089b94bf3a0be27e678a2d03f": {
     "views": []
    },
    "9dde12e8037749c5817a091fae86bd58": {
     "views": []
    },
    "9de751f4f47647d9b7118f7df6949c09": {
     "views": []
    },
    "9e0ee0aab70743f983ffb57b705841fb": {
     "views": []
    },
    "9e7a47e5716e4710845ca4fc3b4e07f7": {
     "views": []
    },
    "9e856060765a44bbb68f27c628fb7964": {
     "views": []
    },
    "9ea8c6fc1d654c6bb665945e3a1a7741": {
     "views": []
    },
    "9f3423724a5c4911a3ab9d56feab492a": {
     "views": []
    },
    "9f940a89ce014beab6df72a48e0061db": {
     "views": []
    },
    "9fad624cd8f847e887ee59599398195a": {
     "views": []
    },
    "9fc6257981d74c8f91d3b9d2db05b1ce": {
     "views": []
    },
    "9fcee9f4a0524d24aeeb5854c05f977b": {
     "views": []
    },
    "9ff6010fadc645c8a18199bca27abd20": {
     "views": []
    },
    "a00e1a738a934858a354cc7637ffb524": {
     "views": []
    },
    "a035f6d2b46140d69f7976fee40d1a64": {
     "views": []
    },
    "a03bfb41203444518c06a347a65e013f": {
     "views": []
    },
    "a0b55ff11a464b27b50d44752c765b58": {
     "views": []
    },
    "a0d2f77dc32a44fa914ee808445e1c4f": {
     "views": []
    },
    "a113ddaf75c24e85a1413ecf46ffd792": {
     "views": []
    },
    "a11e30923c4a466ab29d9d6a2a7ec969": {
     "views": []
    },
    "a122d0d6559642a4b3cc0ca013815b65": {
     "views": []
    },
    "a17118cce88248bb933355cfca4ff72c": {
     "views": []
    },
    "a18aca67348642e787ef3fed879a04e5": {
     "views": []
    },
    "a19e501f04784764a2d53137c0487b7d": {
     "views": []
    },
    "a24d17413f614ce58464a1f9bd3ec11c": {
     "views": []
    },
    "a2e3eabd08c649f18bbaea11545f94db": {
     "views": []
    },
    "a34062c968e14a0a8d0e5c9030db4c3a": {
     "views": []
    },
    "a3b33bdcd58443e88d74d1fb6e8d64e1": {
     "views": []
    },
    "a3bc054abfa44e158cf6486bbc4859a1": {
     "views": []
    },
    "a400d9bf5f624aa79126fbd535ef39ce": {
     "views": []
    },
    "a4616822569f472cb54fbedcd1d9583d": {
     "views": []
    },
    "a4bac1d1c63c4d18bc4e66612c58a9d5": {
     "views": []
    },
    "a4f100d73a2a43a59b48d060a95168f0": {
     "views": []
    },
    "a51eda59f89645c09b996b50bda0a0ab": {
     "views": []
    },
    "a533a39bf3f8479c928ba4a65b6ce12c": {
     "views": []
    },
    "a56197b1d5e54306b105ea3b635fa6b9": {
     "views": []
    },
    "a5a2b04943ea4257be1c7946b045e1e4": {
     "views": []
    },
    "a5c4a54437a3496285ac1a871445642f": {
     "views": []
    },
    "a5cb1d41933d413698c5c60a45d2f47e": {
     "views": []
    },
    "a5d971cf0f464ebf8fa5aff8126b2cb0": {
     "views": []
    },
    "a6064251a1a54db28ad31cb60a54ed7f": {
     "views": []
    },
    "a61f8c40e3894b20a820ea55252f0a6a": {
     "views": []
    },
    "a66cfa2e868044e69577e87bd06d85ee": {
     "views": []
    },
    "a6ca32a488194d71843ec9271437ead1": {
     "views": []
    },
    "a709398544374bb3a87faf4d348e0e8f": {
     "views": []
    },
    "a746c442da024cb18b94727a5388530b": {
     "views": []
    },
    "a7d13551ef8f46a08b1019b41adede16": {
     "views": []
    },
    "a7d96e3dd5c942e2a9ed32ee56cb6421": {
     "views": []
    },
    "a87c6cf4e65c4c14ad9cb4be6c9476f3": {
     "views": []
    },
    "a90dee0acfea4accafa4680dd84e23e8": {
     "views": []
    },
    "a949cd5b3a0e4e4ea098da0589e0b872": {
     "views": []
    },
    "aac9d33179da471d8e24b9d7622ed546": {
     "views": []
    },
    "aaf82b85d40d4204be87c6b5f1c835e3": {
     "views": []
    },
    "ab683943b94e4fd3973488186da5d7cc": {
     "views": []
    },
    "ab81457e2e574f84a2c89b011181bb41": {
     "views": []
    },
    "abd8d5030826423c80436001820e7c19": {
     "views": []
    },
    "ac0867661b314af286e3ca1cb4340de0": {
     "views": []
    },
    "ac1accf71aa941e99b256eca57c08900": {
     "views": []
    },
    "ac3568ab61eb4234b8d42b539e5d2687": {
     "views": []
    },
    "ac38c8c9efad421bafad329b6fb77f30": {
     "views": []
    },
    "ac5adb20ef9f451494a561d0af15f1ac": {
     "views": []
    },
    "ac8e09d73eba4202957a271a5bb7bda5": {
     "views": []
    },
    "ac96eb5f25c546568ef5887f29635289": {
     "views": []
    },
    "aced57c22ff84465a67340ecb4b9fa47": {
     "views": []
    },
    "ad739efff24b43d490d5c0a232297650": {
     "views": []
    },
    "ad8c3f428fa6432b9e1c5d6982689868": {
     "views": []
    },
    "ad8cd3e0953f4ac19f527269276bc9c0": {
     "views": []
    },
    "ad9a6421cd0743b3adbaaa0e9b8b1355": {
     "views": []
    },
    "adaa917776ad4be0bdcd457671cef14e": {
     "views": []
    },
    "adee39477f974042b5cca74cc12cd0c0": {
     "views": []
    },
    "ae01a06415924fd4bd2a54217103d1f1": {
     "views": []
    },
    "ae347d0cce9c4f84be29cb8cc3f929ee": {
     "views": []
    },
    "ae7356d501324a6b8ba26075fe04fd2f": {
     "views": []
    },
    "ae9432faa40c4e71be6f02649053426f": {
     "views": []
    },
    "aeb00fc684ad44259bed8e3c1ae274f3": {
     "views": []
    },
    "aed9b291ac5e4601addfd2ae5796ae88": {
     "views": []
    },
    "af05d441dbaa49849af439c18062f4e8": {
     "views": []
    },
    "af062a8872ae473c938811a33813a8c8": {
     "views": []
    },
    "af2bae8909c242e09822ca947dd1cc34": {
     "views": []
    },
    "af6db93856ed4fffb2cdffac5aa6beee": {
     "views": []
    },
    "af9b1a8a58574d80adf10e35c89778ab": {
     "views": []
    },
    "afb303a86e13460281eacbdf31b60c31": {
     "views": []
    },
    "afcb69155e85425da0c949101f49e04d": {
     "views": []
    },
    "afe571c85f44437397d42823a1d23743": {
     "views": []
    },
    "b0399674eac446d1878d970b9bb17049": {
     "views": []
    },
    "b03e374bb61a4e888836f797f4d527d8": {
     "views": []
    },
    "b06aa18e317245c882e16dda256bb17a": {
     "views": []
    },
    "b0774ef6a6934e70b8e0f62cd1e09787": {
     "views": []
    },
    "b0c32ab3342d49f0a6b19484533a3068": {
     "views": []
    },
    "b0dd1f25d65241acb26bb7fe183f5617": {
     "views": []
    },
    "b0e4a1c3175f4f7fa68ae209efb8aab2": {
     "views": []
    },
    "b0fce85f0eed4b3d92121348f81e4054": {
     "views": []
    },
    "b10683798e684af18f0720e9ae3ec433": {
     "views": []
    },
    "b1313b996a504d7581977c1fb4ad341b": {
     "views": []
    },
    "b18a47e775444bdeafca2f4ac89d4036": {
     "views": []
    },
    "b18fd64b0dff4baf8de6a1caea2e71e9": {
     "views": []
    },
    "b1a7dc628f6a4214835af55cd2a6559d": {
     "views": []
    },
    "b1abe01822a24369be1f929fb7c75da9": {
     "views": []
    },
    "b1ae6c39ac0d4ea8a86ef2048e60f43c": {
     "views": []
    },
    "b1e439e6af794a1289307c29878ea758": {
     "views": []
    },
    "b1f888c0896741268555da429741f616": {
     "views": []
    },
    "b23c7d029a3d453aa6eb2ee720ccbc45": {
     "views": []
    },
    "b2d627381cf84fdabb1b21c958d2ee4a": {
     "views": []
    },
    "b3040c0a6ae442599c35a7f09e366eb7": {
     "views": []
    },
    "b310b258bb0a4a8ab720e93ae757cb9f": {
     "views": []
    },
    "b31de07dc40f4951a8ca7241bf77ba19": {
     "views": []
    },
    "b33936fcf82b45c2a3f516fb59092c18": {
     "views": []
    },
    "b3455b515cae44739bb9741b43e7aa6b": {
     "views": []
    },
    "b3a2927f9fa8417281d9ca77a8140388": {
     "views": []
    },
    "b41cb6d570b8465489c4fd524afc1af8": {
     "views": []
    },
    "b41fa45a0c164879a43951243bbf709f": {
     "views": []
    },
    "b42b3bab38b945f88a101e7ef62f4b27": {
     "views": []
    },
    "b43602f7e9bb4a4fa111c57d29f75b14": {
     "views": []
    },
    "b43854889e7d400483c3c9bc61b9190e": {
     "views": []
    },
    "b49a6eb719364bd1b44bf6b57dd89dda": {
     "views": []
    },
    "b4a8078a69e84b018c3aa6b1cf299bfa": {
     "views": []
    },
    "b4a8bcf3316f4bd6885a62fead52c2c7": {
     "views": []
    },
    "b4bb48b6c410402cbef37662d43ef654": {
     "views": []
    },
    "b4c2dfc7e24d419facfd311fcac1b52f": {
     "views": []
    },
    "b4c4e013287e49828fac544c6f8822d8": {
     "views": []
    },
    "b4f48e63853e44f29706933e308b788d": {
     "views": []
    },
    "b50515d9fed04c2385f23fae0cde29d9": {
     "views": []
    },
    "b52d5771c73e49f6a851de0c993f8c1d": {
     "views": []
    },
    "b541e9d9c7e84fc1a793193057ef36e8": {
     "views": []
    },
    "b581d549b0cf4d80938eadc8e157fb92": {
     "views": []
    },
    "b5e17001e06548cb8444ef07e2e353b4": {
     "views": []
    },
    "b642d645c4da4c8e9fc353eb728ce2aa": {
     "views": []
    },
    "b69c48a4fb6545a5a87c30c39c74928c": {
     "views": []
    },
    "b6f72e7d46ee4abd80510edede2c11cb": {
     "views": []
    },
    "b753b6163df54573a64bd1b0b6819b79": {
     "views": []
    },
    "b779fa0e031f4cd0800cdd815de33de9": {
     "views": []
    },
    "b78bc4d4e06e494e9730ae47d3d23d26": {
     "views": []
    },
    "b7a170e7676c4b2d85534f713f231b5b": {
     "views": []
    },
    "b85fef3cb69546d189017f49d1e4430f": {
     "views": []
    },
    "b87983d1c814496ba52389033cb470a0": {
     "views": []
    },
    "b87a576e31e64862a036d0c627425c58": {
     "views": []
    },
    "b902d5160b9d45818a882e364d149ffd": {
     "views": []
    },
    "b97b5a35a9884f82a8e8a3f3af5d4181": {
     "views": []
    },
    "ba6477d5518b4d0eb2a57797a8603239": {
     "views": []
    },
    "ba9339205f924b24b431b91d75f8fb13": {
     "views": []
    },
    "bab116f273a94f74b8c79b678182e820": {
     "views": []
    },
    "bac664b1c2f944afae78312947dacf76": {
     "views": []
    },
    "bacb08e0d8394db5aa4985ac56ca3fbb": {
     "views": []
    },
    "bacb7bef7e5f4e74ab5177ab7faaaac2": {
     "views": []
    },
    "bb07e66d35d443f2b302c038edb572d5": {
     "views": []
    },
    "bb0fd8aa44f64bf9b0a96fbc0a7ee16c": {
     "views": []
    },
    "bb15c00b6d3445b4a13ed7687f5ef5ca": {
     "views": []
    },
    "bb856d7ca8a44bfba5d1b5ed4a2c4391": {
     "views": []
    },
    "bbd355f5819f43a69092fecd595c2578": {
     "views": []
    },
    "bc43edc88d3b4932998f212b93c54d36": {
     "views": []
    },
    "bc4d054969d24d8ead9317d0b12ea3e5": {
     "views": []
    },
    "bc6a81962c524631bc74795abc85f90a": {
     "views": []
    },
    "bc6ff28552fd4a7ea3b3d5b3f751c9ca": {
     "views": []
    },
    "bc78ff1c26bc488cb990a15c177bf35c": {
     "views": []
    },
    "bcb304989b76494b873d5f0c6edae40a": {
     "views": []
    },
    "bcc74e8c25d140b8b0f0d104f74a7fda": {
     "views": []
    },
    "bcf1088a2d564d6781427cb5d1720d1f": {
     "views": []
    },
    "bcfd4864045c452d99c1e8a4c02cb404": {
     "views": []
    },
    "bd233d20f4d0497887c5887d4ed37a97": {
     "views": []
    },
    "bd42c23a16af43c7b5bdb9d48bb34c35": {
     "views": []
    },
    "bd7c31c2b92645a59659b85455d9cdc7": {
     "views": []
    },
    "bdab4f16305f4b08be5dec81ba68b980": {
     "views": []
    },
    "bdc44db0e8d14c949ac21b849e01b2f7": {
     "views": []
    },
    "bdf51bfb97ce4ae49630bd1e7d42babc": {
     "views": []
    },
    "be0dd3a8049c4aba911fee12810e02bb": {
     "views": []
    },
    "be96e4193714488da31c4103b3e89700": {
     "views": []
    },
    "bed6627b07f64f5b83d2fee585051182": {
     "views": []
    },
    "bf1182fcff5e48a9926af9146cd26165": {
     "views": []
    },
    "bf7db0ec40fe47bfb0c4626704e72ff6": {
     "views": []
    },
    "bfa3f0bca692404599173403513a10d8": {
     "views": []
    },
    "bfbe498bb59c42fc9b35830a44cc7d3a": {
     "views": []
    },
    "c01e5fd99a80421a86d301dd6bcad0ca": {
     "views": []
    },
    "c049f895f83641b0aae55d58ad65d6f9": {
     "views": []
    },
    "c05b6296e5c44bcfbe4111ee3cab2cb6": {
     "views": []
    },
    "c06e993396754d4ca37776cae7572768": {
     "views": []
    },
    "c08cd7b1a8bc472091a30d6cc85bb60c": {
     "views": []
    },
    "c093452ce1e445bd833db94f93987253": {
     "views": []
    },
    "c0958c72c5194ac3a355aa7dd339730f": {
     "views": []
    },
    "c097b5b31c0c4263bcfc35ce43b58aee": {
     "views": []
    },
    "c0a5c8b4675043dfa797c283eac79f1d": {
     "views": []
    },
    "c0ba8529e9144362910723392f224a93": {
     "views": []
    },
    "c0c98aa081994e8fb6bb81b263655e2c": {
     "views": []
    },
    "c0e77972f2a4402fbe749e1bd7157da8": {
     "views": []
    },
    "c0ec1a881f244a9c8a778a98059a3eed": {
     "views": []
    },
    "c0f6e95359234046b410e57b2e60bd08": {
     "views": []
    },
    "c10db3a1b7464015a777a0f74d854f15": {
     "views": []
    },
    "c11c9f6a98f049d79e6ce9cc88220fe1": {
     "views": []
    },
    "c12c9fa346a34ccd98e811d835acf325": {
     "views": []
    },
    "c1d1621e667b4185953f7a291ef01a85": {
     "views": []
    },
    "c1f7d54a0334489d85a7d8614e5a2f29": {
     "views": []
    },
    "c1fc02e269184d83bda794ac56ca37a9": {
     "views": []
    },
    "c23e516f2d56488db6917d4ccb9e5834": {
     "views": []
    },
    "c28ee77b6e0e49879a34c41f1b6a3e90": {
     "views": []
    },
    "c2a3b3b89eee4c75bfaebda008359dc1": {
     "views": []
    },
    "c2ac165103e04f139304f8d8738db471": {
     "views": []
    },
    "c2f0f99aca1543b88cee851eecc1b880": {
     "views": []
    },
    "c2f8c4cc0ca04c2281f66ff951dfb956": {
     "views": []
    },
    "c36181f4c92648499df1e2488d188a29": {
     "views": []
    },
    "c42eafd89ddf46f6af31a5e3f300a9d8": {
     "views": []
    },
    "c469fbf90e3047b2a650fd00666847d5": {
     "views": []
    },
    "c47a81ae826c4bcf9236e6e80ee283f6": {
     "views": []
    },
    "c4b346bbad2a4f8f8954b8caefbd0ae1": {
     "views": []
    },
    "c52c2935fdcc451f9c06de5f6219e279": {
     "views": []
    },
    "c61af8b55a264f769c4a6433a4c944aa": {
     "views": []
    },
    "c67b7cb17ce943e9bdc5e97fae48f45d": {
     "views": []
    },
    "c6e1bd29777b43b4b8d56f9420816c1f": {
     "views": []
    },
    "c711c4ad910346a29cbe5f2b5ef4473b": {
     "views": []
    },
    "c73b5949aa394ce6b3705c8ca02cc1c9": {
     "views": []
    },
    "c7648dc347ba47a4bed3008c13a4dcdf": {
     "views": []
    },
    "c767f716ddfb4f8cbc2a55c3a57ce192": {
     "views": []
    },
    "c76f41d25e4145f592e16fee5eae964b": {
     "views": []
    },
    "c78ad66f867f439190cc2c81ef108221": {
     "views": []
    },
    "c7a1f3b04be34814ae35ed9b9919744a": {
     "views": []
    },
    "c7cee14bcb36444c8fd1957008ca0a08": {
     "views": []
    },
    "c7ff24860b1242b1837d5742e7faa1d4": {
     "views": []
    },
    "c800cdfee0e14b05996c5948398c52af": {
     "views": []
    },
    "c8b3b7b11a9844f6911ec0bb8ef74255": {
     "views": []
    },
    "c8c866200cb74bab80f74c76c8f4e6c1": {
     "views": []
    },
    "c903b50dbc1343b7a7bd20bd31058b54": {
     "views": []
    },
    "c935c0227e6e4ed0a2385871720806da": {
     "views": []
    },
    "c9386650cb3b4ec1a18c06d7bad69dd3": {
     "views": []
    },
    "c974cdc0d56845a7b9e21984183b3dff": {
     "views": []
    },
    "c9ca723b88f946398fe445b0eea60a3f": {
     "views": []
    },
    "ca3fb321c2e34fa4850a5223bdffea06": {
     "views": []
    },
    "ca8516d9ae5e4b16ba79cd1456ca87ad": {
     "views": []
    },
    "ca98431800e54d108093a5bf877dae15": {
     "views": []
    },
    "ca9f13507dba44ae9f9fc0fc183c5094": {
     "views": []
    },
    "cabbc62a38824c9199cfdbf6d66c32aa": {
     "views": []
    },
    "cb005d2af7314d06a713a2c44e96d97a": {
     "views": []
    },
    "cb359c944a7d4ecaa70caceab68b34aa": {
     "views": []
    },
    "cb84b67c89804b7da71225caf76fa146": {
     "views": []
    },
    "cbcdaab339a645dcb651181118dc1bb3": {
     "views": []
    },
    "cbd380a0d40f46efa6a25e5038edff8d": {
     "views": []
    },
    "cbe9fc14db8f47e797280ee9c0060a65": {
     "views": []
    },
    "cc1e9aa295f94565abbaba1c63b2617e": {
     "views": []
    },
    "cc2f6d590db6415faf8dd9bdd79f7f7f": {
     "views": []
    },
    "cc42646fb99846b29c9472377e42ca7e": {
     "views": []
    },
    "cc7178fc25134632b891f68ec1baea40": {
     "views": []
    },
    "ccc32e6602ac4d1e8f367fea4f0cdadd": {
     "views": []
    },
    "cd17846cd53a471e9e92ce4481467800": {
     "views": []
    },
    "cd1aad59779444029809529c6529ec38": {
     "views": []
    },
    "cd2a13efd50c40c09e3b16839dda06b8": {
     "views": []
    },
    "cd6a1df948e44c4bb34edba4461c8550": {
     "views": []
    },
    "cdfbb6c25ea34d1093caf35fc0d0a368": {
     "views": []
    },
    "ce16ed692087491996278be82b52858b": {
     "views": []
    },
    "ce1a922be71c45449f4e9dfdfe6c0b55": {
     "views": []
    },
    "ce2ef83fd54e41b88ddf3c873ad66c9d": {
     "views": []
    },
    "ceaac68fc6a04474b3ca415ac6ccf2bf": {
     "views": []
    },
    "cf6163c1404e42478965b3be376e9cae": {
     "views": []
    },
    "cf9a47a4af49404ca2d5637d3c16c26f": {
     "views": []
    },
    "cfc01ffee1044cc3a614d850e21ccbb0": {
     "views": []
    },
    "cfd4684aa50a4108be97cc47df1e2883": {
     "views": []
    },
    "d0618cb2bdf043fca3a49255cc137fe4": {
     "views": []
    },
    "d120b6144ecf4c6f90f40b4af45a8018": {
     "views": []
    },
    "d1230935d8864d91ae01210e2d14c1ca": {
     "views": []
    },
    "d12b3c3c4ab84c0a8e7a2b29c787afcf": {
     "views": []
    },
    "d173474523464c8d956306430228d93b": {
     "views": []
    },
    "d17ea3cf434f4d3ab9080a3fb2646f16": {
     "views": []
    },
    "d18f1553210d4adcb91b3c4702a6fced": {
     "views": []
    },
    "d24fae469e084959aea4bec32aafc5db": {
     "views": []
    },
    "d25438b953f548f3af527b783ba34129": {
     "views": []
    },
    "d25c6bdb4d4940fcac616be1c46fef9b": {
     "views": []
    },
    "d29b5866288744f6a9236ea6982f19fe": {
     "views": []
    },
    "d2bcb6e1054d4412a8637a7298831f6a": {
     "views": []
    },
    "d2c2391bcff74d60b3b171dd3eb76d5e": {
     "views": []
    },
    "d2f07947b7ca477b92dd0df47d40b7b5": {
     "views": []
    },
    "d31fab80132648faa93af7f375c062f3": {
     "views": []
    },
    "d363595d476847489e881962cd74f755": {
     "views": []
    },
    "d3847e8b19df47cf8491b53059e9d02f": {
     "views": []
    },
    "d38abdecd2ab49489e46fdcd0eba693b": {
     "views": []
    },
    "d3f4a37123624372ba9d25eb15e08c06": {
     "views": []
    },
    "d4830cdeca92455cb46a61ee7b5870ce": {
     "views": []
    },
    "d5110f3394fc4e4f96db2167d6d0eba0": {
     "views": []
    },
    "d55baa9b4b774b0590992bde252eb5d0": {
     "views": []
    },
    "d5d64a05e7fb4eae9c690b17ce540e5a": {
     "views": []
    },
    "d618e23c553242d49e750c0d15890201": {
     "views": []
    },
    "d65fb26a4b4244f488f31b7e56f0225c": {
     "views": []
    },
    "d671c848818e4c82bd7b64ca54d4bb8b": {
     "views": []
    },
    "d6984f0aa7714305a4dc68f164019806": {
     "views": []
    },
    "d6f2fbad759b493788dc17f58fb3928c": {
     "views": []
    },
    "d736eeec163a422fb6356c18978513d1": {
     "views": []
    },
    "d831dae8b08f48a7aec86dce321d9034": {
     "views": []
    },
    "d835048fe48f4f2599ea78771a4cff1a": {
     "views": []
    },
    "d86b99cb8c664a11a533e6cf5e3cded7": {
     "views": []
    },
    "d89e632111f14751960063e4437b034b": {
     "views": []
    },
    "d8c52d9abc3e41bd8c6dcb29d47c859f": {
     "views": []
    },
    "d8e44801a2004861b9652d695f628430": {
     "views": []
    },
    "d943dc74a4704dbfb1e1ad2119bdada9": {
     "views": []
    },
    "d94f1d84f329459fabfeb049b10d142a": {
     "views": []
    },
    "d97182c5d4844e209c4434cf99054c34": {
     "views": []
    },
    "d9a2c35420d24ae882df35aeae8a755f": {
     "views": []
    },
    "d9aec56c4ed34a888bfaf0650b798f69": {
     "views": []
    },
    "d9b88ec7ef424239bd75f2652f80145a": {
     "views": []
    },
    "da0c771f352e415f82f73599d2e2554d": {
     "views": []
    },
    "da3ec20fbea044d2b56f8c0a7bff0cdc": {
     "views": []
    },
    "da868fe1398a48d69ab00439e09ab538": {
     "views": []
    },
    "dab8190b768f4edaa861e4094f699a36": {
     "views": []
    },
    "dac6464f9288420f94d2078da57ef0fe": {
     "views": []
    },
    "daca30cd6f464954bdeeb6dd24047b1c": {
     "views": []
    },
    "db21394144db443cb5c95b54c6e8b215": {
     "views": []
    },
    "db2b42c3e9e0472c9d6d73a1f1d4ae67": {
     "views": []
    },
    "db55b8520e4b4e37bdfcf29b4feeb521": {
     "views": []
    },
    "db73f27bde3445569d5b6ee1bb7353e2": {
     "views": []
    },
    "dbd90bdcd63c4a30825a6e200727b816": {
     "views": []
    },
    "dbdc572dbb5841568e361bf369cf062d": {
     "views": []
    },
    "dbdf2fbe81d84313bd89784bdd34e464": {
     "views": []
    },
    "dbfc69cf5d824496961cb5ba401a9dda": {
     "views": []
    },
    "dc3911eb14c64e508b5057275d944931": {
     "views": []
    },
    "dc4f28e38760452e942e0adc370c7b22": {
     "views": []
    },
    "dc807e3cfadb414f927c89cbd1f2d8b5": {
     "views": []
    },
    "dc8126e8cd9845ea9e3eb941f6869ddb": {
     "views": []
    },
    "dcaac2a8abfc49899248e835a05e7a53": {
     "views": []
    },
    "dd6cc3cd01b3424c8c112330032948bb": {
     "views": []
    },
    "dd70ef11550146bfa26bf50ee2fa4e61": {
     "views": []
    },
    "dd80a8bf7218433b9690c76163a3e728": {
     "views": []
    },
    "dd8234d2199a4050bf1e2a4c0c60e99b": {
     "views": []
    },
    "dde8b2894d834725bf1717a7333a12a0": {
     "views": []
    },
    "ddf2e669f5164baeb86177db90171517": {
     "views": []
    },
    "de580687f7104938ad0c6ec7048de731": {
     "views": []
    },
    "de66dba549f144eea7e3060da205e83a": {
     "views": []
    },
    "de95a447848c468fad1dc449f6ced896": {
     "views": []
    },
    "dea1b4a3e52742e28c8c9757c4a8182c": {
     "views": []
    },
    "df3da5e0bb3543f3b3887c5cc4d855f8": {
     "views": []
    },
    "df4789125298408890841efda56c96ae": {
     "views": []
    },
    "df963a13ce5f460d9c4a632bae8a2edb": {
     "views": []
    },
    "dfc942292c384eec993f4323e2e9904c": {
     "views": []
    },
    "dfe8ad7af6314b94baaed5a8d7973b6f": {
     "views": []
    },
    "e022a8f154ba42e1b9403ddd1ee838e2": {
     "views": []
    },
    "e03dcde4018143a6b23db3e5d61226ea": {
     "views": []
    },
    "e058c64b11bd459d88f93de18e659e86": {
     "views": []
    },
    "e0d703ca168643a994204fabd0a0f0b8": {
     "views": []
    },
    "e11f96c7abd64635b6cb4882d1574bad": {
     "views": []
    },
    "e19469360df844b7ba6a5b682a6a4e8d": {
     "views": []
    },
    "e1950e1ec12741c7a93ff25d570f1940": {
     "views": []
    },
    "e19eb0c6a8d44663ad1bb8bd9fb85d5c": {
     "views": []
    },
    "e28762e5d39e496c95149f6c6b56311c": {
     "views": []
    },
    "e34d9cc6f16647ca8014df6ba7dd8c1c": {
     "views": []
    },
    "e3bf89270fdd471f87a6091ac8894f02": {
     "views": []
    },
    "e401dc1ffee7415a9fc97a7713cf3c19": {
     "views": []
    },
    "e441e437b9a04997863f9ca017e783b0": {
     "views": []
    },
    "e442d781c167410381adfca3788fbf8f": {
     "views": []
    },
    "e4619224e4c24c3483ceaf16b59265e8": {
     "views": []
    },
    "e46cb311f73d4696895ccff21577ddb4": {
     "views": []
    },
    "e51f79198e6d4736900884a4ba0c64c4": {
     "views": []
    },
    "e541a4f4058844c495b66f56e42aa4da": {
     "views": []
    },
    "e54e9bc4833a4df29fd4b3b06d38c4d6": {
     "views": []
    },
    "e556854222fc474ea20f4009aa80ec43": {
     "views": []
    },
    "e5e39379cecf4c83bd7d3eeb66df9f58": {
     "views": []
    },
    "e618304a57de4506b48ae735af3ad167": {
     "views": []
    },
    "e66f3416069545aa9a351e1bf3be3498": {
     "views": []
    },
    "e67c7f00dc3c4289b0d2ec4744eae78e": {
     "views": []
    },
    "e6c1f60aefdb4e2b9dd06f782e38d819": {
     "views": []
    },
    "e6d35bf7434f47f1964a8a16b9d52931": {
     "views": []
    },
    "e6d5aed6e18842448f1dd70e671153c5": {
     "views": []
    },
    "e6f8fd638c744b16bebbf1a4c7a7be7f": {
     "views": []
    },
    "e7236e54507641d7b428288f06611818": {
     "views": []
    },
    "e78e0e864e43439cb6b3f33e81c184b8": {
     "views": []
    },
    "e79c852fcf584ccca292ce62aa6562f6": {
     "views": []
    },
    "e7c41b1599204ecc873e6d070f1d0ee4": {
     "views": []
    },
    "e7e1ccfd0e68478e87cd6c91366c15d8": {
     "views": []
    },
    "e83b0488b9ff4b918b3545c04f88ca0e": {
     "views": []
    },
    "e862b153c2a64a6f9ef55b16b0fa87da": {
     "views": []
    },
    "e87e9c3626a54cfe8c455db71a135239": {
     "views": []
    },
    "e8807ccd11d245c3939b49587d08db48": {
     "views": []
    },
    "e8c60d1f6d8640149ad5739eea2bce2f": {
     "views": []
    },
    "e8ef10f474ee4a55b554ef7bbf9dc214": {
     "views": []
    },
    "e8f5877fccf442eeb52ae33e7a4dc2c2": {
     "views": []
    },
    "ea3aa5ba96444328acb842b98942d1a6": {
     "views": []
    },
    "ea8616efab6649c1ac878a75e084487b": {
     "views": []
    },
    "eab0f3242caa4063baf38c29e6f9e96e": {
     "views": []
    },
    "eab3f5450193431dac4f043f34b2a1d4": {
     "views": []
    },
    "eadd2436cdb144cc919808100883de49": {
     "views": []
    },
    "eafe0ac37e0e4ee483b56939f231d059": {
     "views": []
    },
    "eb1c22dca0bb4428969148b5d0dc813c": {
     "views": []
    },
    "eb4078f2c190459aba3c972bc3c50765": {
     "views": []
    },
    "eb56391e93834d52b41c88ca17f40234": {
     "views": []
    },
    "eba81311b44f4e54a22c410cde214f4b": {
     "views": []
    },
    "ebd0e432cdfd4495957c9d1f0a58749b": {
     "views": []
    },
    "ebe6fbba6c324a9fa5c37840e6b1ec71": {
     "views": []
    },
    "ec6bf5a4dc944c858dac62b809159891": {
     "views": []
    },
    "ecd544f2bdb74358ae639b89f0faca07": {
     "views": []
    },
    "ecfb08a117854875a44e1cca709edae6": {
     "views": []
    },
    "ed06d1a54b1942e19a3e1a1aaeb0ec1c": {
     "views": []
    },
    "ed64cd3077554c84906339861f991213": {
     "views": []
    },
    "ed868a81079a4c2f8a1f2bb0411ce032": {
     "views": []
    },
    "ed8e2369ede34d158cae6f71d4a3208e": {
     "views": []
    },
    "edec97cc25bd41488cb7782282d948eb": {
     "views": []
    },
    "ee18880da4e74fe9b5916ba30de4f8ed": {
     "views": []
    },
    "ee6e788ccd5b4e0d979d12f2d97fb7af": {
     "views": []
    },
    "ee895e2856d14a82a69cc12ff9a2839d": {
     "views": []
    },
    "ef2705fad305413fa2a00650e659e456": {
     "views": []
    },
    "efa048403d3f4fcbbaa921a6673b554f": {
     "views": []
    },
    "f021f11b8c3f4acaa21cd519c2e498ec": {
     "views": []
    },
    "f037e5e5d568442d9ce29cc8d6d9e759": {
     "views": []
    },
    "f042cd909c8f4444a9812b3888287f9f": {
     "views": []
    },
    "f06ac1956d344cbda30cf351dd544f11": {
     "views": []
    },
    "f0c1f785ba274491a3c6958ffed2138b": {
     "views": []
    },
    "f0d38ff11754406097e4ca6c59236644": {
     "views": []
    },
    "f0edfb2502e044bf8f583479eb128b03": {
     "views": []
    },
    "f0f4c303a1354b63a69ac66dfca2fb9b": {
     "views": []
    },
    "f106519267b14801a3aa81daa72ab15d": {
     "views": [
      {
       "cell_index": 3
      }
     ]
    },
    "f1c12a5f4d6845ed9193d6c0352a54c4": {
     "views": []
    },
    "f348627e25fe469a89e45ed84e5d65e3": {
     "views": []
    },
    "f36b82b519094e159698a47d97ecb446": {
     "views": []
    },
    "f469e56a59034347a937598f920c8f7d": {
     "views": []
    },
    "f48a3b250b4140f7beff43c0b0691713": {
     "views": []
    },
    "f49d99ff912c44e0a5032a8c6b46806c": {
     "views": []
    },
    "f542e0fca3b04c39b7c357e3d7f68c84": {
     "views": []
    },
    "f57aa236addf4f8b985a2e6b25478bce": {
     "views": []
    },
    "f581248935b5431a8e9df7f01741a4f3": {
     "views": []
    },
    "f582c74d0092490d86acdb147e064629": {
     "views": []
    },
    "f61bff77e7ba41f28acc09c236f2a4bd": {
     "views": []
    },
    "f6572e0d1f7448bea2f0bb2993c0b1d5": {
     "views": []
    },
    "f65cebc71cf2445fa465c607252561f5": {
     "views": []
    },
    "f679418960cd4ec2ae4f2b1ef5ba3527": {
     "views": []
    },
    "f6a599d4e59040e9af22b763cbe02ff2": {
     "views": []
    },
    "f6da2608c03c4ccf9ce5e1f8df2df148": {
     "views": []
    },
    "f70b3ff964c244c79e50876a1cb66b21": {
     "views": []
    },
    "f71e800c20fd43f0ba10ac80312200d0": {
     "views": []
    },
    "f74d1ed04bdc4dcebc51187b7f415689": {
     "views": []
    },
    "f7943561b6b949f291f808369bfbc120": {
     "views": []
    },
    "f7d94fd14caf46cba485e57d54f3fd61": {
     "views": []
    },
    "f82f00ec375b4553a9b97de2195086d5": {
     "views": []
    },
    "f83557b8786a4ded99100232484372bc": {
     "views": []
    },
    "f8975bfb36a04c769b0d42837fe8e6ae": {
     "views": []
    },
    "f8b3375e1f7c492eb886da0fcd35d6c5": {
     "views": []
    },
    "f8f2eb0dc70b4533a4c9f98969f43c92": {
     "views": []
    },
    "f929cea989ae458d8956e64a0a4df018": {
     "views": []
    },
    "f9c5ef635b3046b78f57bc90df46aacf": {
     "views": []
    },
    "fa0ed84556ea47f4af8d3d6008e51426": {
     "views": []
    },
    "fa3a2b3bd0a54d3598c2ca072cad051f": {
     "views": []
    },
    "fa61eaca8c324afd824b9f033cb8a24f": {
     "views": []
    },
    "fa6e7e79140d41ffbc483dc8055d6355": {
     "views": []
    },
    "fa727740d26e49c1b0524177cd8a8fd9": {
     "views": []
    },
    "faa98e59d402432db33f787e1c828ede": {
     "views": []
    },
    "fad4582e21a34463ab21c6e11be72cf3": {
     "views": []
    },
    "fae9606440da4709ac2ae5f87badef9b": {
     "views": []
    },
    "fb01c6bb9ea34234ac690121df75c589": {
     "views": []
    },
    "fb024c75d73d41d2a9d80725f1666204": {
     "views": []
    },
    "fbaaf940a87c463d9e1914fca05e5273": {
     "views": []
    },
    "fc99db20dbb54863a35a8368e5cf3c25": {
     "views": []
    },
    "fcb16d764d014485b06fbc99fdf27819": {
     "views": []
    },
    "fcf12c52132347e1907b21edb8a40ccf": {
     "views": []
    },
    "fd1ca77a22cb4d9bad6a2e67e3ed7dde": {
     "views": []
    },
    "fd33e1ad2ecf4f5bb5f6c719db622e3d": {
     "views": []
    },
    "fdc166902114415896ebea578c6d148b": {
     "views": []
    },
    "fe60b5b337e841c486914a8cc3402c33": {
     "views": []
    },
    "ff07913f92a54990b6eeebd9108034ee": {
     "views": []
    },
    "ff467510cd2441b1b08dbe389fa8919a": {
     "views": []
    },
    "ff4f41d86f324a208e32ce9693b033b8": {
     "views": []
    }
   },
   "version": "1.1.2"
  }
 },
 "nbformat": 4,
 "nbformat_minor": 0
}
