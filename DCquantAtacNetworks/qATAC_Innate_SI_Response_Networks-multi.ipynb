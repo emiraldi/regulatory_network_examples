{
 "cells": [
  {
   "cell_type": "code",
   "execution_count": 1,
   "metadata": {
    "collapsed": false
   },
   "outputs": [],
   "source": [
    "# Modes of regulation that turn on under SI conditions, relative to LI\n",
    "\n",
    "# GOAL: We want to visualize each quantitative ATAC priors and compare networks resulting from different\n",
    "# choices of geneset and peakset cutoffs (e.g., log2 fold-change and FDR), for each network (e.g., SI gene regulation\n",
    "# in macrophages).  We will use the \"multiple_network\" functionality to do this, and use networks linked to heatmaps\n",
    "# (\"Lexpression\" functionality) so that we can color nodes according to gene expression \n",
    "\n",
    "# Each tupple corresponds to (geneset cutoff, peakset cutoff)\n",
    "cutComb = ('FC0p58_FDR25','FC0p58_FDR25')\n",
    "# ('FC1_FDR10','FC1_FDR10')\n",
    "#                 ('FC1_FDR10','FC0p58_FDR25'),\n",
    "#                 ('FC0p58_FDR25','FC0p58_FDR25'),\n",
    "#                 ('FC0p58_FDR25','FC1_FDR10')]\n",
    "# NOTE: Script below is HARD-coded to only visualize the six (LI) or five (SI) networks\n",
    "\n",
    "directory = \"/Users/emiraldi/erm/Shared/DCproject/DCquantAtacNetworks\"\n",
    "\n",
    "# Location of each network, and note we will use .replace() to insert the gene and peakset cutoffs of interest\n",
    "# for \"GENE_CUTOFF\" and \"PEAK_CUTOFF\" in the string below\n",
    "netBase = \"DC_genesets_GENE_CUTOFF/DCs_max4_body_bp10000/DCnets_loc/DCnets_loc_pPEAK_CUTOFF_rawp0001_hyg0001\"\n",
    "geneCutoff = cutComb[0]\n",
    "peakCutoff = cutComb[1]\n",
    "netPath = netBase.replace('GENE_CUTOFF',geneCutoff).replace('PEAK_CUTOFF',peakCutoff)\n",
    "\n",
    "# The starting conditions for each of the networks, a list of tuples.  Tuple entries are:\n",
    "# 0. network file name (column format) (as found in directory + netBase with cutoffs inserted\n",
    "# 1. column of the expression matrix that you want the nodes to be colored by\n",
    "# 2. network title, to which we'll add the gene and peak cutoffs\n",
    "# 3. subselect the list of relevant genes -- NOT USED for this code and can be left out\n",
    "networkInits = [('CD11bmCD103m_SI_sp.tsv','LI_v_SI_GF_CD11b-CD103-','SI UP (green), GF CD11b-CD103-','GeneSets/GF_LI_CD11bmCD103m_v_GF_SI_CD11bmCD103m_FC1_FDR10_down.txt'),\n",
    "\t('CD103p_SI_sp.tsv','LI_v_SI_GF_CD11b-CD103+','SI UP (green), GF CD11b-CD103+','GeneSets/GF_LI_CD11bmCD103p_v_GF_SI_CD11bmCD103p_FC1_FDR10_down.txt'),\n",
    "\t('CD11bp_SI_sp.tsv','LI_v_SI_GF_CD11b+CD103-','SI UP (green), GF CD11b+CD103-','GeneSets/GF_LI_CD11bpCD103m_v_GF_SI_CD11bpCD103m_FC1_FDR10_down.txt'),\n",
    "\t('mphage_SI_sp.tsv','LI_v_SI_GF_Macrophage','SI UP (green), GF Macrophage','GeneSets/GF_LI_Macrophage_v_GF_SI_Macrophage_FC1_FDR10_down.txt'),\n",
    "\t('monocyte_SI_sp.tsv','LI_v_SI_GF_Monocyte','SI UP (green), GF Monocyte','GeneSets/GF_LI_Monocyte_v_GF_SI_Monocyte_FC1_FDR10_down.txt')]\n",
    "\n",
    "expressionFile = \"Heatmaps/SILI_DC_ILC_log2FCs_SILI_DC_ILC_all.txt\"\n",
    "\n",
    "# networkInits = [('CD11bmCD103m_SI_sp.tsv','GF_LI_CD11bmCD103m_v_GF_SI_CD11bmCD103m','SI UP (green), GF CD11b-CD103-','GeneSets/GF_LI_CD11bmCD103m_v_GF_SI_CD11bmCD103m_FC1_FDR10_down.txt'),\n",
    "# \t('CD103p_SI_sp.tsv','GF_LI_CD11bmCD103p_v_GF_SI_CD11bmCD103p','SI UP (green), GF CD11b-CD103+','GeneSets/GF_LI_CD11bmCD103p_v_GF_SI_CD11bmCD103p_FC1_FDR10_down.txt'),\n",
    "# \t('CD11bp_SI_sp.tsv','GF_LI_CD11bpCD103m_v_GF_SI_CD11bpCD103m','SI UP (green), GF CD11b+CD103-','GeneSets/GF_LI_CD11bpCD103m_v_GF_SI_CD11bpCD103m_FC1_FDR10_down.txt'),\n",
    "# \t('mphage_SI_sp.tsv','GF_LI_Macrophage_v_GF_SI_Macrophage','SI UP (green), GF Macrophage','GeneSets/GF_LI_Macrophage_v_GF_SI_Macrophage_FC1_FDR10_down.txt'),\n",
    "# \t('monocyte_SI_sp.tsv','GF_LI_Monocyte_v_GF_SI_Monocyte','SI UP (green), GF Monocyte','GeneSets/GF_LI_Monocyte_v_GF_SI_Monocyte_FC1_FDR10_down.txt')]\n",
    "                \n",
    "# expressionFile = \"DC_RNAseq_log2fcs.txt\"\n",
    "\n",
    "\n",
    "tfFocus = 1 # If 1, automatically applies the \"trim\" function, so we can focus on TFs\n",
    "    # If 0, does not!\n",
    "\n",
    "threshhold = .2 # for edge weights in graph\n",
    "\n",
    "clim = 1.5 # absolute value color threshhold on edge color"
   ]
  },
  {
   "cell_type": "code",
   "execution_count": 2,
   "metadata": {
    "collapsed": false
   },
   "outputs": [
    {
     "data": {
      "application/javascript": [
       "\n",
       "// imitating ipywidgets/docs/source/examples/Custom Widget - Hello World.ipynb\n",
       "\n",
       "//require([\"widgets/js/widget\", \"widgets/js/manager\"], function(widget, manager){\n",
       "\n",
       "require.undef(\"SVGCanvas\");\n",
       "\n",
       "define(\"SVGCanvas\", [\"jupyter-js-widgets\"], function(widgets) {\n",
       "    \n",
       "    var svgEventHandlerFactory = function(that) {\n",
       "        var svgEventHandler = function(e) {\n",
       "            var target = e.target;\n",
       "            var info = {};\n",
       "            for (var attr in e) {\n",
       "                var val = e[attr];\n",
       "                var ty = (typeof val);\n",
       "                if ((ty == \"number\") ||\n",
       "                    (ty == \"string\") ||\n",
       "                    (ty == \"boolean\")) {\n",
       "                    info[attr] = val;\n",
       "                }\n",
       "            }\n",
       "            info.name = target.ipy_name;\n",
       "            var ept = SVGEventLocation(that, e);\n",
       "            info.svgX = ept.x;\n",
       "            info.svgY = ept.y;\n",
       "            var json = JSON.stringify(info);\n",
       "            that.model.set(\"event\", json);\n",
       "            that.touch();\n",
       "        };\n",
       "        return svgEventHandler;\n",
       "    };\n",
       "\n",
       "    var SVGEventLocation = function(that, e) {\n",
       "        // http://stackoverflow.com/questions/10298658/mouse-position-inside-autoscaled-svg\n",
       "        var pt = that.reference_point;\n",
       "        var svg = that.$svg[0];\n",
       "        pt.x = e.clientX;\n",
       "        pt.y = e.clientY;\n",
       "        return pt.matrixTransform(svg.getScreenCTM().inverse());\n",
       "    }\n",
       "    \n",
       "    var SVGCanvasView = widgets.DOMWidgetView.extend({\n",
       "        \n",
       "        render: function() {\n",
       "            var that = this;\n",
       "            var svg = that.svg_elt(\"svg\");\n",
       "            var eventHandler = svgEventHandlerFactory(that);\n",
       "            that.eventHandler = eventHandler;\n",
       "            that.named_elements = {};\n",
       "            svg.ipy_name = \"\";\n",
       "            that.$svg = $(svg);\n",
       "            that.reference_point = svg.createSVGPoint();\n",
       "            svg.setAttribute(\"preserveAspectRatio\", \"none\");\n",
       "            that.$el.append(that.$svg);\n",
       "            that.svg_parameters_changed();\n",
       "            that.commands_changed();\n",
       "            that.start_watch_event();\n",
       "            that.model.on(\"change:commands\", that.commands_changed, that);\n",
       "            that.model.on(\"change:viewBox\", that.svg_parameters_changed, that);\n",
       "            that.model.on(\"change:svg_width\", that.svg_parameters_changed, that);\n",
       "            that.model.on(\"change:svg_height\", that.svg_parameters_changed, that);\n",
       "            that.model.on(\"change:style\", that.svg_parameters_changed, that);\n",
       "            that.model.on(\"change:watch_event\", that.start_watch_event, that);\n",
       "            that.model.on(\"change:unwatch_event\", that.stop_watch_event, that);\n",
       "        },\n",
       "        \n",
       "        start_watch_event: function() {\n",
       "            var that = this;\n",
       "            var event_types = that.model.get(\"watch_event\");\n",
       "            if (event_types != \"\") {\n",
       "                that.$svg.on(event_types, that.eventHandler);\n",
       "                that.model.set(\"watch_event\", \"\");\n",
       "                that.touch();\n",
       "            }\n",
       "        },\n",
       "        \n",
       "        stop_watch_event: function() {\n",
       "            var that = this;\n",
       "            var event_types = that.model.get(\"unwatch_event\");\n",
       "            if (event_types != \"\") {\n",
       "                that.$svg.off(event_types);\n",
       "                that.model.set(\"watch_event\", \"\");\n",
       "                that.touch();\n",
       "            }\n",
       "        },\n",
       "        \n",
       "        commands_changed: function() {\n",
       "            var that = this;\n",
       "            var svg = that.$svg[0];\n",
       "            var commands = that.get_JSON(\"commands\")\n",
       "            for (var i=0; i<commands.length; i++) {\n",
       "                var command_dict = commands[i];\n",
       "                var indicator = command_dict[\"command\"];\n",
       "                var method = that[\"do_\"+indicator];\n",
       "                method(that, command_dict);\n",
       "            }\n",
       "        },\n",
       "\n",
       "        do_fit: function(that, info) {\n",
       "            // fit viewport to bounding box.\n",
       "            var svg = that.$svg[0];\n",
       "            var bbox = svg.getBBox();\n",
       "            var D = {\"width\": bbox.width, \"height\": bbox.height, \"x\": bbox.x, \"y\": bbox.y}\n",
       "            var vbox = \"\" + D.x + \" \" + D.y + \" \" + D.width + \" \" + D.height;\n",
       "            if ((D.width > 0) && (D.height > 0)) {\n",
       "                that.model.set(\"boundingBox\", D);\n",
       "                if (info.changeView) {\n",
       "                    that.model.set(\"viewBox\", vbox);\n",
       "                }\n",
       "                // Element viewBox will be updated later by model change.\n",
       "                that.touch();\n",
       "            }\n",
       "        },\n",
       "        \n",
       "        do_add_element: function (that, info) {\n",
       "            var tag = info.tag;\n",
       "            var name = info.name;\n",
       "            var element = that.svg_elt(tag);\n",
       "            element.ipy_name = name;\n",
       "            var $element = $(element);\n",
       "            that.update_element($element, info);\n",
       "            // add event callbacks\n",
       "            that.$svg.append($element);\n",
       "            that.named_elements[name] = $element;\n",
       "        },\n",
       "        \n",
       "        do_change_element: function (that, info) {\n",
       "            var name = info.name;\n",
       "            var $element = that.named_elements[name];\n",
       "            if ($element) {\n",
       "                that.update_element($element, info);\n",
       "            } else {\n",
       "                console.warn(\"couldn't find element for \"+name);\n",
       "            }\n",
       "        },\n",
       "        \n",
       "        do_delete: function (that, info) {\n",
       "            var names = info.names;\n",
       "            for (var i=0; i<names.length; i++) {\n",
       "                var name = names[i];\n",
       "                var $element = that.named_elements[name];\n",
       "                if ($element) {\n",
       "                    $element.remove();\n",
       "                    delete that.named_elements[name];\n",
       "                }\n",
       "            }\n",
       "        },\n",
       "        \n",
       "        update_element: function($element, info) {\n",
       "            var element = $element[0];\n",
       "            var atts = info.atts;\n",
       "            var style = info.style;\n",
       "            var text = info.text;\n",
       "            if (atts) {\n",
       "                for (var att in atts) {\n",
       "                    element.setAttribute(att, atts[att]);\n",
       "                }\n",
       "            }\n",
       "            if (style) {\n",
       "                for (var styling in style) {\n",
       "                    element.style[styling] = style[styling];\n",
       "                }\n",
       "            }\n",
       "            if (text) {\n",
       "                $element.empty();\n",
       "                var node = document.createTextNode(text);\n",
       "                element.appendChild(node);\n",
       "            }\n",
       "        },\n",
       "        \n",
       "        do_empty: function (that, info) {\n",
       "            that.named_elements = {};\n",
       "            that.$svg.empty();\n",
       "        },\n",
       "        \n",
       "        svg_parameters_changed: function() {\n",
       "            var that = this;\n",
       "            var style_additions = that.get_JSON(\"style\");\n",
       "            var svg = that.$svg[0];\n",
       "            svg.setAttribute(\"viewBox\", that.model.get(\"viewBox\"));\n",
       "            svg.setAttribute(\"width\", that.model.get(\"svg_width\"));\n",
       "            svg.setAttribute(\"height\", that.model.get(\"svg_height\"));\n",
       "            for (var style_attr in style_additions) {\n",
       "                svg.style[style_attr] = style_additions[style_attr];\n",
       "            }\n",
       "        },\n",
       "        \n",
       "        get_JSON: function(name) {\n",
       "            var json = this.model.get(name);\n",
       "            return $.parseJSON(json);\n",
       "        },\n",
       "        \n",
       "        svg_elt: function(kind) {\n",
       "            return document.createElementNS('http://www.w3.org/2000/svg', kind);\n",
       "        }\n",
       "        \n",
       "    });\n",
       "    \n",
       "    //manager.WidgetManager.register_widget_view('SVGCanvasView', SVGCanvasView);\n",
       "    return {\n",
       "        SVGCanvasView: SVGCanvasView\n",
       "    }\n",
       "});\n"
      ],
      "text/plain": [
       "<IPython.core.display.Javascript object>"
      ]
     },
     "metadata": {},
     "output_type": "display_data"
    },
    {
     "data": {
      "application/javascript": [
       "\n",
       "// This is the javascript side to match js_proxy.py.\n",
       "// See js_proxy.py for an explanation of the command transfer\n",
       "// protocol\n",
       "\n",
       "// imitating ipywidgets/docs/source/examples/Custom Widget - Hello World.ipynb\n",
       "\n",
       "//require([\"widgets/js/widget\", \"widgets/js/manager\", \"underscore\", \"jquery\"\n",
       "//], function(widget, manager, _, $) {\n",
       "\n",
       "require.undef(\"JSProxy\");\n",
       "\n",
       "define(\"JSProxy\", [\"jupyter-js-widgets\"], function(widgets) {\n",
       "\n",
       "    var JSProxyView = widgets.DOMWidgetView.extend({\n",
       "\n",
       "        render: function() {\n",
       "            var that = this;\n",
       "            that.on(\"displayed\", function() {\n",
       "                that.update();\n",
       "            });\n",
       "            // Wrap $el as a proper jQuery object\n",
       "            that.$$el = $(that.$el);\n",
       "            // \"new\" keyword emulation\n",
       "            // http://stackoverflow.com/questions/17342497/dynamically-control-arguments-while-creating-objects-in-javascript\n",
       "            that.$$el.New = function(klass, args) {\n",
       "                var obj = Object.create(klass.prototype);\n",
       "                return klass.apply(obj, args) || obj;\n",
       "            };\n",
       "\n",
       "            // fix key bindings for wayward element.\n",
       "            // XXXX This is a bit of a hack that may not be needed in future\n",
       "            // Jupyter releases.\n",
       "            that.$$el.Fix = function(element) {\n",
       "                debugger;\n",
       "                that.model.widget_manager.keyboard_manager.register_events(element);\n",
       "            };\n",
       "        },\n",
       "\n",
       "        update: function(options) {\n",
       "            var that = this;\n",
       "            var commands = that.model.get(\"commands\");\n",
       "            if (commands.length >= 2) {\n",
       "                var command_counter = commands[0];\n",
       "                var command_list = commands[1];\n",
       "                var level = commands[2];\n",
       "                level = that.check_level(level);\n",
       "                var results = [];\n",
       "                _.each(command_list, function(command,i) {\n",
       "                    var result = that.execute_command(command);\n",
       "                    results[i] = that.json_safe(result, level);\n",
       "                });\n",
       "                that.model.set(\"commands\", []);\n",
       "                that.model.set(\"results\", [command_counter, results])\n",
       "                that.touch();\n",
       "            }\n",
       "        },\n",
       "\n",
       "        execute_command: function(command) {\n",
       "            var that = this;\n",
       "            var result = command;\n",
       "            if ($.isArray(command)) {\n",
       "                var indicator = command[0];\n",
       "                var remainder = command.slice();\n",
       "                remainder.shift();\n",
       "                if (indicator == \"element\") {\n",
       "                    // Make sure the element is wrapped as a proper JQuery(UI) object\n",
       "                    if (!that.$$el) {\n",
       "                        that.$$el = $(that.$el);\n",
       "                    }\n",
       "                    result = that.$$el;\n",
       "                } else if (indicator == \"window\") {\n",
       "                    result = window;\n",
       "                } else if (indicator == \"method\") {\n",
       "                    var target_desc = remainder.shift();\n",
       "                    var target = that.execute_command(target_desc);\n",
       "                    var name = remainder.shift();\n",
       "                    var args = remainder.map(that.execute_command, that);\n",
       "                    var method = target[name];\n",
       "                    if (method) {\n",
       "                        result = method.apply(target, args);\n",
       "                    } else {\n",
       "                        result = \"In \" + target + \" no such method \" + name;\n",
       "                    }\n",
       "                } else if (indicator == \"function\") {\n",
       "                    var function_desc = remainder.shift();\n",
       "                    var function_value = that.execute_command(function_desc);\n",
       "                    var args = remainder.map(that.execute_command, that);\n",
       "                    // Use \"that\" as the \"this\" value for function values?\n",
       "                    result = function_value.apply(that, args);\n",
       "                } else if (indicator == \"id\") {\n",
       "                    result = remainder[0];\n",
       "                } else if (indicator == \"list\") {\n",
       "                    result = remainder.map(that.execute_command, that);\n",
       "                } else if (indicator == \"dict\") {\n",
       "                    result = {}\n",
       "                    var desc = remainder[0];\n",
       "                    for (var key in desc) {\n",
       "                        var key_desc = desc[key];\n",
       "                        var val = that.execute_command(key_desc);\n",
       "                        result[key] = val;\n",
       "                    }\n",
       "                } else if (indicator == \"callback\") {\n",
       "                    var identifier = remainder.shift();\n",
       "                    var data = remainder.shift();\n",
       "                    var level = remainder.shift();\n",
       "                    // sanity check\n",
       "                    level = that.check_level(level);\n",
       "                    result = that.callback_factory(identifier, data, level);\n",
       "                } else if (indicator == \"get\") {\n",
       "                    var target_desc = remainder.shift();\n",
       "                    var target = that.execute_command(target_desc);\n",
       "                    var name = remainder.shift();\n",
       "                    try {\n",
       "                        result = target[name];\n",
       "                    } catch(err) {\n",
       "                        result = \"failed to get \"+name+\" from \"+target+\" :: \"+err;\n",
       "                    }\n",
       "                } else if (indicator == \"set\") {\n",
       "                    var target_desc = remainder.shift();\n",
       "                    var target = that.execute_command(target_desc);\n",
       "                    var name = remainder.shift();\n",
       "                    var value_desc = remainder.shift()\n",
       "                    var value = that.execute_command(value_desc);\n",
       "                    target[name] = value;\n",
       "                    result = target;\n",
       "                } else if (indicator == \"null\") {\n",
       "                    target_desc = remainder.shift();\n",
       "                    that.execute_command(target_desc);\n",
       "                    result = null;\n",
       "                } else {\n",
       "                    result = \"Unknown indicator \" + indicator;\n",
       "                }\n",
       "            }\n",
       "            return result;\n",
       "        },\n",
       "\n",
       "        check_level: function(level) {\n",
       "            if ((typeof level) != \"number\" || (level < 0)) {\n",
       "                level = 0;\n",
       "            } else if (level > 5) {\n",
       "                level = 5;\n",
       "            }\n",
       "            return level;\n",
       "        },\n",
       "\n",
       "        callback_factory: function(identifier, data, level) {\n",
       "            var that = this;\n",
       "            // Counter makes sure change is noticed even if other arguments don't change.\n",
       "            var counter = 0;\n",
       "            var handler = function () {\n",
       "                counter += 1;\n",
       "                var payload = that.json_safe([identifier, data, arguments, counter], level + 1);\n",
       "                that.model.set(\"callback_results\", payload);\n",
       "                that.touch();\n",
       "            };\n",
       "            return handler;\n",
       "        },\n",
       "\n",
       "        json_safe: function(val, depth) {\n",
       "            // maybe expand later as need arises\n",
       "            var that = this;\n",
       "            var ty = (typeof val);\n",
       "            if ((ty == \"number\") || (ty == \"string\") || (ty == \"boolean\")) {\n",
       "                return val;\n",
       "            }\n",
       "            if (!val) {\n",
       "                // translate all other falsies to None\n",
       "                return null;\n",
       "            }\n",
       "            if (((typeof depth) == \"number\") && (depth > 0)) {\n",
       "                if ($.isArray(val)) {\n",
       "                    var result = [];\n",
       "                    _.each(val, function(elt, i) {\n",
       "                        var r = that.json_safe(elt, depth-1);\n",
       "                        if (r != null) {\n",
       "                            result[i] = r;\n",
       "                        }\n",
       "                    });\n",
       "                    return result;\n",
       "                } else {\n",
       "                    var result = {};\n",
       "                    for (var key in val) {\n",
       "                        var jv = that.json_safe(val[key], depth-1);\n",
       "                        if (jv != null) {\n",
       "                            result[key] = jv;\n",
       "                        }\n",
       "                    }\n",
       "                    return result;\n",
       "                }\n",
       "            }\n",
       "            return null;\n",
       "        }\n",
       "\n",
       "    });\n",
       "\n",
       "    //manager.WidgetManager.register_widget_view('JSProxyView', JSProxyView);\n",
       "    return {\n",
       "        JSProxyView: JSProxyView\n",
       "    }\n",
       "});\n"
      ],
      "text/plain": [
       "<IPython.core.display.Javascript object>"
      ]
     },
     "metadata": {},
     "output_type": "display_data"
    },
    {
     "data": {
      "application/javascript": [
       "/*\n",
       "jQuery plugin for a color arrow cursor over an element.\n",
       "\n",
       "Based on\n",
       "http://stackoverflow.com/questions/18779354/assign-color-to-mouse-cursor-using-css\n",
       "*/\n",
       "\n",
       "(function ($) {\n",
       "\n",
       "    $.fn.color_cursor = function(color) {\n",
       "        var that = this;\n",
       "        var cvs = document.createElement(\"canvas\");\n",
       "        cvs.height = 16;\n",
       "        cvs.width = 16;\n",
       "        var ctx = cvs.getContext(\"2d\");\n",
       "        ctx.strokeStyle = color;\n",
       "        ctx.lineWidth = 4;\n",
       "        ctx.lineCap = \"round\";\n",
       "        ctx.moveTo(2, 12);\n",
       "        ctx.lineTo(2, 2);\n",
       "        ctx.lineTo(12, 2);\n",
       "        ctx.moveTo(2, 2);\n",
       "        ctx.lineTo(30, 30)    \n",
       "        ctx.stroke();\n",
       "        var url = cvs.toDataURL();\n",
       "        that.css(\"cursor\", \"url(\" + url + '), auto');\n",
       "        return that;\n",
       "    };\n",
       "\n",
       "    $.fn.color_cursor_reset = function () {\n",
       "        this.css(\"cursor\", \"\");\n",
       "        return this;\n",
       "    };\n",
       "\n",
       "    $.fn.color_cursor.example = function (element) {\n",
       "        debugger;\n",
       "        var d = $(\"<div>Cursor should be red over me. Click to reset.</div>\")\n",
       "            .color_cursor(\"red\");\n",
       "        var reset = function() {\n",
       "            d.color_cursor_reset();\n",
       "            d.html(\"Now the cursor should be normal\");\n",
       "        }\n",
       "        d.click(reset);\n",
       "        element.append(d);\n",
       "        return element;\n",
       "    };\n",
       "\n",
       "})(jQuery)\n"
      ],
      "text/plain": [
       "<IPython.core.display.Javascript object>"
      ]
     },
     "metadata": {},
     "output_type": "display_data"
    }
   ],
   "source": [
    "# Uncomment to run without install (in binder, for example)\n",
    "import sys\n",
    "if \"..\" not in sys.path:\n",
    "    sys.path.append(\"..\")\n",
    "from jp_gene_viz import dNetwork\n",
    "dNetwork.load_javascript_support()\n",
    "from jp_gene_viz import multiple_network\n",
    "from jp_gene_viz import LExpression\n",
    "LExpression.load_javascript_support()\n",
    "# Part 1 of a hacky way to set color threshhold\n",
    "from numpy import array\n",
    "minclr = array([   255.,  0,    0.])\n",
    "minvalue = -clim\n",
    "zeroclr = array([255.0000 , 130.4000  , 60.0000]) # [   166.,    86.,    40.]) #127.5, 63.75, 0 ])\n",
    "maxvalue = clim\n",
    "maxclr = array([ 0.,    1.7*127.5,    0.])\n",
    "\n",
    "\n",
    "# Currently, we are not interested in visualizing motifs, and would need to find these files, if we did\n",
    "# from jp_gene_viz import motif_data\n",
    "# C = motif_data.MotifCollection()\n",
    "# # for extra safety \"rU\" reads with universal line ending support\n",
    "# C.read_meme_file(open(directory + '/' + \"mm9_em.meme\", \"rU\"))\n",
    "# C.read_meme_file(open(directory + '/' + \"hg19_em.meme\", \"rU\"))"
   ]
  },
  {
   "cell_type": "code",
   "execution_count": 3,
   "metadata": {
    "collapsed": false
   },
   "outputs": [
    {
     "name": "stdout",
     "output_type": "stream",
     "text": [
      "('Reading network', '/Users/emiraldi/erm/Shared/DCproject/DCquantAtacNetworks/DC_genesets_FC0p58_FDR25/DCs_max4_body_bp10000/DCnets_loc/DCnets_loc_pFC0p58_FDR25_rawp0001_hyg0001/CD11bmCD103m_SI_sp.tsv')\n",
      "('Loading saved layout', '/Users/emiraldi/erm/Shared/DCproject/DCquantAtacNetworks/DC_genesets_FC0p58_FDR25/DCs_max4_body_bp10000/DCnets_loc/DCnets_loc_pFC0p58_FDR25_rawp0001_hyg0001/CD11bmCD103m_SI_sp.tsv.layout.json')\n",
      "('Reading network', '/Users/emiraldi/erm/Shared/DCproject/DCquantAtacNetworks/DC_genesets_FC0p58_FDR25/DCs_max4_body_bp10000/DCnets_loc/DCnets_loc_pFC0p58_FDR25_rawp0001_hyg0001/CD103p_SI_sp.tsv')\n",
      "('Loading saved layout', '/Users/emiraldi/erm/Shared/DCproject/DCquantAtacNetworks/DC_genesets_FC0p58_FDR25/DCs_max4_body_bp10000/DCnets_loc/DCnets_loc_pFC0p58_FDR25_rawp0001_hyg0001/CD103p_SI_sp.tsv.layout.json')\n",
      "('Reading network', '/Users/emiraldi/erm/Shared/DCproject/DCquantAtacNetworks/DC_genesets_FC0p58_FDR25/DCs_max4_body_bp10000/DCnets_loc/DCnets_loc_pFC0p58_FDR25_rawp0001_hyg0001/CD11bp_SI_sp.tsv')\n",
      "('Loading saved layout', '/Users/emiraldi/erm/Shared/DCproject/DCquantAtacNetworks/DC_genesets_FC0p58_FDR25/DCs_max4_body_bp10000/DCnets_loc/DCnets_loc_pFC0p58_FDR25_rawp0001_hyg0001/CD11bp_SI_sp.tsv.layout.json')\n",
      "('Reading network', '/Users/emiraldi/erm/Shared/DCproject/DCquantAtacNetworks/DC_genesets_FC0p58_FDR25/DCs_max4_body_bp10000/DCnets_loc/DCnets_loc_pFC0p58_FDR25_rawp0001_hyg0001/mphage_SI_sp.tsv')\n",
      "('Loading saved layout', '/Users/emiraldi/erm/Shared/DCproject/DCquantAtacNetworks/DC_genesets_FC0p58_FDR25/DCs_max4_body_bp10000/DCnets_loc/DCnets_loc_pFC0p58_FDR25_rawp0001_hyg0001/mphage_SI_sp.tsv.layout.json')\n",
      "('Reading network', '/Users/emiraldi/erm/Shared/DCproject/DCquantAtacNetworks/DC_genesets_FC0p58_FDR25/DCs_max4_body_bp10000/DCnets_loc/DCnets_loc_pFC0p58_FDR25_rawp0001_hyg0001/monocyte_SI_sp.tsv')\n",
      "('Loading saved layout', '/Users/emiraldi/erm/Shared/DCproject/DCquantAtacNetworks/DC_genesets_FC0p58_FDR25/DCs_max4_body_bp10000/DCnets_loc/DCnets_loc_pFC0p58_FDR25_rawp0001_hyg0001/monocyte_SI_sp.tsv.layout.json')\n"
     ]
    }
   ],
   "source": [
    "networkList = list()  # this list contains heatmap-linked network objects\n",
    "\n",
    "for networkInit in networkInits:\n",
    "    networkFile = networkInit[0]\n",
    "    curr = LExpression.LinkedExpressionNetwork()    \n",
    "    try:\n",
    "        curr.load_network(directory + '/' + netPath + '/' + networkFile)    \n",
    "    except AssertionError:\n",
    "        directory = \".\"\n",
    "        curr.load_network(directory + '/' + netPath + '/' + networkFile)        \n",
    "    networkList.append(curr)"
   ]
  },
  {
   "cell_type": "code",
   "execution_count": 4,
   "metadata": {
    "collapsed": false
   },
   "outputs": [],
   "source": [
    "# visualize the networks -- HARD CODED for 5 networks:\n",
    "M = multiple_network.MultipleNetworks(\n",
    "    [[networkList[0], networkList[1]],\n",
    "    [networkList[2], networkList[3]],\n",
    "    [networkList[4]]])\n",
    "M.svg_width = 500\n",
    "M.show()      "
   ]
  },
  {
   "cell_type": "code",
   "execution_count": 5,
   "metadata": {
    "collapsed": false
   },
   "outputs": [],
   "source": [
    "# Set network preferences\n",
    "count = 0\n",
    "for curr in networkList:\n",
    "    networkInit = networkInits[count]\n",
    "    # get title information + curr column for shading of figures\n",
    "    currCol = networkInit[1].lower()\n",
    "    titleBase = networkInit[2]\n",
    "    titleInf = titleBase + ' (gCut: ' + geneCutoff.replace('_',' ') + ', pCut: ' + peakCutoff.replace('_',' ')\n",
    "    \n",
    "    # set threshold\n",
    "    curr.network.threshhold_slider.value = threshhold\n",
    "    curr.network.apply_click(None)\n",
    "    if tfFocus:\n",
    "        # focus on TF core    \n",
    "        curr.network.tf_only_click(None)\n",
    "        curr.network.layout_click(None)  \n",
    "        \n",
    "    # set title\n",
    "    curr.network.title_html.value = titleInf\n",
    "\n",
    "    # add labels\n",
    "    curr.network.labels_button.value=True  \n",
    "    curr.network.draw_click(None)\n",
    "\n",
    "    # Load heatmap\n",
    "    curr.load_heatmap(directory + '/' + expressionFile)\n",
    "    # color nodes according to a sample column in the gene expression matrix\n",
    "    curr.gene_click(None)    \n",
    "    curr.expression.col = currCol    \n",
    "    curr.condition_click(None)\n",
    "    \n",
    "        #     # Attach the motif collection populated above:\n",
    "        #     N.motif_collection = C\n",
    "        #     net_with_motifs\n",
    "    \n",
    "    # !!!!! for some reason this doesn't work, tried curr.display... w/o curr.network.display...\n",
    "    # Part 2: a hacky way to set min and max on the heatmap and heatmap-colored nodes\n",
    "    curr.network.display_graph.get_edge_color_interpolator()\n",
    "    curr.network.display_graph._edge_color_interpolator.minclr = minclr\n",
    "    curr.network.display_graph._edge_color_interpolator.maxclr = maxclr\n",
    "    curr.network.display_graph._edge_color_interpolator.breakpoints = \\\n",
    "        [(minvalue, minclr),\n",
    "         (0, zeroclr),\n",
    "         (maxvalue, maxclr)]\n",
    "    curr.network.draw_click(None)\n",
    "    count += 1\n"
   ]
  },
  {
   "cell_type": "code",
   "execution_count": null,
   "metadata": {
    "collapsed": true
   },
   "outputs": [],
   "source": []
  },
  {
   "cell_type": "code",
   "execution_count": null,
   "metadata": {
    "collapsed": true
   },
   "outputs": [],
   "source": []
  }
 ],
 "metadata": {
  "kernelspec": {
   "display_name": "Python 2",
   "language": "python",
   "name": "python2"
  },
  "language_info": {
   "codemirror_mode": {
    "name": "ipython",
    "version": 2
   },
   "file_extension": ".py",
   "mimetype": "text/x-python",
   "name": "python",
   "nbconvert_exporter": "python",
   "pygments_lexer": "ipython2",
   "version": "2.7.10"
  },
  "widgets": {
   "state": {
    "000440005bfb49bfa127f4bd7b3cdcb6": {
     "views": []
    },
    "001bcbe9d09a4f868ba86f267d989370": {
     "views": []
    },
    "003fff18a4d34817a942050596f6e297": {
     "views": []
    },
    "00891f15de1a4f9cbf8afe6417752275": {
     "views": []
    },
    "00f7bcf7f01a49398be2bd4b03de9c1d": {
     "views": []
    },
    "01163a5663ee4d5eae213f19e0d3ddc6": {
     "views": []
    },
    "0129674ee3b24edd86268314d4d75f16": {
     "views": []
    },
    "014ab18621f14ce49f184c0019a40a71": {
     "views": []
    },
    "0164ecf21b4f49bcb5b17e7dbeef3636": {
     "views": []
    },
    "01cf55038e4d40ac8241b11b7b929520": {
     "views": []
    },
    "0248dd7d88a44fa989e6194e3fa0850c": {
     "views": []
    },
    "026dff469522409eb620d155dde04fc2": {
     "views": []
    },
    "03c146a0fe3e43fba857e39a314de0af": {
     "views": []
    },
    "03f342e6ac1c49099e6b41ddc9c6d378": {
     "views": []
    },
    "040053806fa345e4abc877eb56876449": {
     "views": []
    },
    "049c79e6618c42e7a80cbb96e4fa752c": {
     "views": []
    },
    "04f5d83547314f28a86f769e5602111a": {
     "views": []
    },
    "04fe38b7004245349117e2130ea16943": {
     "views": []
    },
    "0503c984ea694ec796c5625b6f123433": {
     "views": []
    },
    "0523e30563124398b0b5819ea7710478": {
     "views": []
    },
    "0530bae838b545f7abd3ad915c4956d3": {
     "views": []
    },
    "057086fc99d142cba85b4e96babe589b": {
     "views": []
    },
    "05c2e9a3baae4a02bd06860f037f9555": {
     "views": []
    },
    "0659c4f7958e49adb1df0a80d9b30188": {
     "views": []
    },
    "06649ef3c1ff4001866271a479338330": {
     "views": []
    },
    "06a101df71b34520b1c07b5771555323": {
     "views": []
    },
    "06a2eb24ab0b484d8d87b0a8b5e8618c": {
     "views": []
    },
    "070191dbd5e546e08cd2f7c3e9f89538": {
     "views": []
    },
    "079b9a4078f348dc81a6ccc657bb992f": {
     "views": []
    },
    "0814b76533c64d34997d4231dd24d154": {
     "views": []
    },
    "08462c0481e34dcfa43548430262a39b": {
     "views": []
    },
    "0863a25e56654f149801dd9135ddde8b": {
     "views": []
    },
    "089fb17c49db4119906327e01963f123": {
     "views": []
    },
    "08c2140c1f8d43b2aef580bf51e96501": {
     "views": []
    },
    "08c8c6f36bf941a6a2ae3724981899b7": {
     "views": []
    },
    "0939d1c3365f46568d2723ce5dfef029": {
     "views": []
    },
    "0964cc75b14245ef892056ad4650b75e": {
     "views": []
    },
    "09677c0e2253449288af77a9d2e44982": {
     "views": []
    },
    "09eeb94a916a4b8487f93b28f16e0eb5": {
     "views": []
    },
    "0a1a5cf0791d4e50a1f7eba0e7f8d777": {
     "views": []
    },
    "0a2be59ee49d416b92c8a22f6265f67c": {
     "views": []
    },
    "0a6dc7b8e50545fdaf63901d077c9c71": {
     "views": []
    },
    "0a70645326e64e989db81aa4d8b4227b": {
     "views": []
    },
    "0a7d927a62e24dc8a3dcd10035a54a0e": {
     "views": []
    },
    "0aec6ec5a6d74e89aec1c8be2c7aa93e": {
     "views": []
    },
    "0b40379f72a04e91ab19ac95719aab78": {
     "views": []
    },
    "0b5a5518c10d4b93a48ad7743f4cc2a7": {
     "views": []
    },
    "0b820185f1d54b11bd8d4cd24882079a": {
     "views": []
    },
    "0be0d51455274b9bb4fee659b46d7384": {
     "views": []
    },
    "0be13b33b51c48a4861275988d8699a7": {
     "views": []
    },
    "0c077be8fc2246b4bfa0bb5a7aada706": {
     "views": []
    },
    "0c3639097c1e4440ac00443b97bf0fd5": {
     "views": []
    },
    "0c57192cc3af4e8187942ddf9cb9ced7": {
     "views": []
    },
    "0c8f8d203504458eab86425402579038": {
     "views": []
    },
    "0d29bff8fb6e4a2b9c53dff020e52f1e": {
     "views": []
    },
    "0d69531b5d7545e78f0544795940f297": {
     "views": []
    },
    "0dc23265bd5f4309b8cbdee80a8192da": {
     "views": []
    },
    "0dca78968c7f41f9942d909291d540c8": {
     "views": []
    },
    "0e217880e9d5440f9853419584e9bd25": {
     "views": []
    },
    "0e7ee016e5f24af9873996ad1a75b143": {
     "views": []
    },
    "0f2e292a47c84db588301eb716b75ee2": {
     "views": []
    },
    "0f3ca4311f8145ef84c5b4c9fc1d7ae6": {
     "views": []
    },
    "0fa2dc674bc941d4836931d3fcac618e": {
     "views": []
    },
    "102379f0ad9b41aa992f828a1c51793f": {
     "views": []
    },
    "10434059e07741bba826ad124283ca1b": {
     "views": []
    },
    "104f0a2aa9d94d45afcaa592162e4dca": {
     "views": []
    },
    "107312a1eb114beeaf440825739a5111": {
     "views": []
    },
    "10bd2ab4480547e5bc5daea6af83fd98": {
     "views": []
    },
    "1135a9a757e44b3dbacfec87e4dd6ecb": {
     "views": []
    },
    "123bde99aa204811897720ac2dc37d4f": {
     "views": []
    },
    "129db5f108aa4ba6a01a170367504f7f": {
     "views": []
    },
    "12a02581451c45dca2c41b97c7c67b69": {
     "views": []
    },
    "12b03fe878c7408db46c25f047e29bf0": {
     "views": []
    },
    "12eac00ee885497f98e3de306aca17be": {
     "views": []
    },
    "12f6c1a87f6f4c1db96cf517bffc64a9": {
     "views": []
    },
    "130d56ce408240c48018a2c8c3b5bb5f": {
     "views": []
    },
    "131e7bfe5d344e82926929d2beacf35c": {
     "views": []
    },
    "137d23d57e184a47a3af996f77bac940": {
     "views": []
    },
    "13eeb001790948c0b828e369c8d1e069": {
     "views": []
    },
    "14e49fda9b764540beb31b1194348888": {
     "views": []
    },
    "14fa8845b0764ea298b57c7f287dafaa": {
     "views": []
    },
    "1509df8609e84da69244285e0ec2ea77": {
     "views": []
    },
    "15d74ef00f764bafb425d6ceaebbc51a": {
     "views": []
    },
    "1660e88ccddf47dda524331f681c5db8": {
     "views": []
    },
    "16b036a1f2894d71a232282b98e44ce1": {
     "views": []
    },
    "16e47822d04f4784aadf6214baffaa68": {
     "views": []
    },
    "174fafa029d54d1e9e00630de617b154": {
     "views": []
    },
    "176c7df275554866b8175d89047cca40": {
     "views": []
    },
    "17bea119a81e4b4eba4c4ae5a5b4bad4": {
     "views": []
    },
    "180cbffd793447b6ab119e1c70f33a13": {
     "views": []
    },
    "18239edf31114a31ac30b86d7fe4e4ef": {
     "views": []
    },
    "183a7b160c294b4aacbe57004621a444": {
     "views": []
    },
    "18849886bbc24e5f957ba0af95309972": {
     "views": []
    },
    "18a03dc3d35b4a8b8953237bdaaf2554": {
     "views": []
    },
    "190e1a83587544839772b538a5b20f0f": {
     "views": []
    },
    "1a15f6110d034799840a4a825da8bcd4": {
     "views": []
    },
    "1a638fc177c84920a0a56573c9ce7f15": {
     "views": []
    },
    "1aab6242e0d34e398b6b77bb09d45b23": {
     "views": []
    },
    "1ade99ee4bd04f7ead82e64b50510138": {
     "views": []
    },
    "1b2d9c6f9a704cdf9adffe9fa24da814": {
     "views": []
    },
    "1bafbfa04739454fa79fcde957a7e010": {
     "views": []
    },
    "1bde82a25b7f49de9b0438fc3b422aea": {
     "views": []
    },
    "1c156ef98f7c4ddc9d2840939eea8288": {
     "views": []
    },
    "1c988665f0d6424389ef7256a8b2efa5": {
     "views": []
    },
    "1cec806bc43e4fcdb72004e9f7123456": {
     "views": []
    },
    "1d0db03ad470411cb74d4bba011f9b2b": {
     "views": []
    },
    "1d5dc991ca4c43c69cadca59ae6cb00c": {
     "views": []
    },
    "1d6b28306d164c11858e9314846e35f5": {
     "views": []
    },
    "1d97da4811904871ba4acd1d3d4ec834": {
     "views": []
    },
    "1dbc9574f1d345dba6c86db2d3550739": {
     "views": []
    },
    "1dbcca0d897e4f1d84e047b9851c42bb": {
     "views": []
    },
    "1e2a818a5ba946bcb88114b5ea2373d5": {
     "views": []
    },
    "1ea1e48e078b46e2b0b1d6193ba8c2c3": {
     "views": []
    },
    "1ec915b523f54a49a1206b8e2cc812d4": {
     "views": []
    },
    "1f145315366d4199b47620c7c90ad884": {
     "views": []
    },
    "1f1893155d994cb9ba6a031eebffee7f": {
     "views": []
    },
    "1f1d6e3d6f254b82b910c51b61d871f6": {
     "views": []
    },
    "1f40caf0a31045ef8a3b52c5c5eb95c5": {
     "views": []
    },
    "1f4be620606f4d17860d7341bb31b963": {
     "views": []
    },
    "1fd791441c3f4ffb8bf75268680fcc37": {
     "views": []
    },
    "1ff094feb9624326b7b74e377f1a4c67": {
     "views": []
    },
    "2004efe2daf6469bbf221824e80a874c": {
     "views": []
    },
    "204dec424b464466b36bf83abe1956aa": {
     "views": []
    },
    "2069e13428164cc49a43f3384637234e": {
     "views": []
    },
    "206d977a443e4cb4bb4b63efc9fa6dc2": {
     "views": []
    },
    "20882896fc7841d39a4d22a0b11674db": {
     "views": []
    },
    "2111951065ad4615b28dc89e23d95894": {
     "views": []
    },
    "21255616a6d24c4e8e38e1f86064f51d": {
     "views": []
    },
    "212a25c6e0164e55a006aeb352345460": {
     "views": []
    },
    "21f7f23be679411eb45a635ae762f851": {
     "views": []
    },
    "22a85a06741d41b081d1cceae49e901f": {
     "views": []
    },
    "22babfd1223f4eebbc03b70ec3406560": {
     "views": []
    },
    "23691354739e419ea2fb0934eae06337": {
     "views": []
    },
    "23baf8fcfea041b59b644ca2588291f7": {
     "views": []
    },
    "23dd9ddf247648bfa53c3dff4ea795d7": {
     "views": []
    },
    "23f86fbfd16d42bf8d7214140207b657": {
     "views": []
    },
    "242f33a7fe4f440a96ca04e13a804638": {
     "views": []
    },
    "24840a58c9034bfaa4b07172e3abcbdd": {
     "views": []
    },
    "24934250d10f4ecdbc7e5559f77df1bf": {
     "views": []
    },
    "2518786417c646dda5435c1fe32d46d8": {
     "views": []
    },
    "255920c598d5413d9142a1831a69e5af": {
     "views": []
    },
    "25763b91dd514f68afe564614c7b2a98": {
     "views": []
    },
    "25ae63fcc6d341229e53061fa27c4deb": {
     "views": []
    },
    "25eeee1ba12145579b405aad057bfdb7": {
     "views": []
    },
    "2619dbd3c00d42aab5e5c43b8c6ae9f1": {
     "views": []
    },
    "2627c07a91ba4a739dcbab1043a43296": {
     "views": []
    },
    "26f7c4c120454c848ec7c70025de9bbb": {
     "views": []
    },
    "272245a5bf914d1681fd0ccc0506e2a0": {
     "views": []
    },
    "27c1a3ea085f4286a2f98132b97bab0f": {
     "views": []
    },
    "27f67f4f9bf84982ad292b5b24f860fe": {
     "views": []
    },
    "27f9d98c855f40b9ad0ebbf79abbc4ff": {
     "views": []
    },
    "283a4282024940fe9f564c8099be53ca": {
     "views": []
    },
    "284503bb5fe143f284bf31f98328eca1": {
     "views": []
    },
    "28c6e8e9cb1548c5af07bc8c0f7e6e13": {
     "views": []
    },
    "2900187e6fae441594e5add4d95b062e": {
     "views": []
    },
    "291157493abd488a87e0789373113d88": {
     "views": []
    },
    "297787a9988d4fc38a1aaa7dbea762fe": {
     "views": []
    },
    "297ead4975774b1e8272348ae74f4018": {
     "views": []
    },
    "2985aa70ab5e4097a379a03c28eab6c7": {
     "views": []
    },
    "2990c227daf44f419efb4d26582a65ca": {
     "views": []
    },
    "2992ae70b45c427897c517f539aa9b42": {
     "views": []
    },
    "2992efca9ceb4c67abd920627925968d": {
     "views": []
    },
    "2a83c81b12374251a63a4985994706a9": {
     "views": []
    },
    "2af22af6c8254f5bbd1ee40ef3008204": {
     "views": []
    },
    "2b9ad217de824bfb801d1ac267eaa078": {
     "views": []
    },
    "2bba53f807d348e49109994ec43ecc0b": {
     "views": []
    },
    "2bd09ef7aaff4b829a388b961209f310": {
     "views": []
    },
    "2c75a6a04d694f1ab83d53618570abfd": {
     "views": []
    },
    "2cb2e534be344dfa82a394d2240cf146": {
     "views": []
    },
    "2cd65ae08c3d4d4880744bcb3c28fc67": {
     "views": []
    },
    "2ce6d06e2bce44d98df83f444a79271b": {
     "views": []
    },
    "2d3aab275c0e41e5bd8333b8cb6d5610": {
     "views": []
    },
    "2dbf605557044c358edd187b90995e94": {
     "views": []
    },
    "2dc2b7214dfc4feb90bf30822dfcb687": {
     "views": []
    },
    "2dd7d4a9f402465f8ad554e3a6ad019b": {
     "views": []
    },
    "2e2a4cc4c78d4172ba4f2741204d87fb": {
     "views": []
    },
    "2e5a3ebb428140ef84dd024aa8f873b3": {
     "views": []
    },
    "2ec4adbf17eb4d138d7caf5055c3bcd5": {
     "views": []
    },
    "2f97ae971c9046e79c3352fa9b90e23c": {
     "views": []
    },
    "2fa988edd88b4e0d8a1063cc28777753": {
     "views": []
    },
    "30c0b780ae2f40c2beda5407cc15ee2c": {
     "views": []
    },
    "311f890de1ef427eb5bcaba00b1ed4ae": {
     "views": []
    },
    "3131949f44c2402da93d61ac457e9faa": {
     "views": []
    },
    "31667a6560b9448c851b058124bd445f": {
     "views": []
    },
    "316b88828445401f85c36ff4653d285c": {
     "views": []
    },
    "318634d3c0a3452bb701a981960a59e6": {
     "views": []
    },
    "31de655d96094dd7924a9d53ba7c417b": {
     "views": []
    },
    "32043c4edba34e6f98894256d6d46ab5": {
     "views": []
    },
    "3270201c6ee642299cad9fea0d689a8e": {
     "views": []
    },
    "32b0926c162f43c9baa2f7cc748073ee": {
     "views": []
    },
    "32b405e596d048ca824b9df28e174966": {
     "views": []
    },
    "32c69ce71e69401380bcc53ee4d62674": {
     "views": []
    },
    "33075446c8ab4c119076a8b6db18713f": {
     "views": []
    },
    "334bd170ea914abc82a231d7973a90eb": {
     "views": []
    },
    "335675c67ec44ed19633a860f00bf8fe": {
     "views": []
    },
    "3390cc4f430c4e15b8338b48b813d15d": {
     "views": []
    },
    "33b2dd3c485b43f5a93bd4eabd8d4d8e": {
     "views": []
    },
    "343419c9ffc445e68895b75607fb8483": {
     "views": []
    },
    "343f4b1f4a2748229a1144e5dc0bd894": {
     "views": []
    },
    "3457caf1f7324d9ea869f2664118edfe": {
     "views": []
    },
    "3575f70f878c4447a2143499b20edcab": {
     "views": []
    },
    "35841d7ca3ca4949b52a3db1c22afe96": {
     "views": []
    },
    "35dad6368f0d49358b0f10d352672bae": {
     "views": []
    },
    "35f6d0d9f88742eb8d0b2b60d2cea814": {
     "views": []
    },
    "361e352286b64a1b835a90e9f925f508": {
     "views": []
    },
    "365d15ecfa544948809129973f541a82": {
     "views": []
    },
    "368934f38d7c477fa92bdd9b9f5c4f66": {
     "views": []
    },
    "36cff668b651400bb133e0aafa5a0a31": {
     "views": []
    },
    "36e2c75f35f947f8b35c005c7c27bfc3": {
     "views": []
    },
    "36f7f991797145b2ba437f908f540dd9": {
     "views": []
    },
    "37014c56ee244d9fb8279f382a332ed5": {
     "views": []
    },
    "3727023d78b546f5856d550df999c22c": {
     "views": []
    },
    "37b62c59dcf64e2f88a268a2e0557160": {
     "views": []
    },
    "37b9e91a1cff4ee98a813fab932a1e29": {
     "views": []
    },
    "37cc4757d11e4c77a4012157d4a0cf42": {
     "views": []
    },
    "37f3e0c5b2d34528aa9751c469be754c": {
     "views": []
    },
    "38238fb368884073a0c486f1eea63eee": {
     "views": []
    },
    "387c5c843e0340b687b2b8fa59ab070a": {
     "views": []
    },
    "388cd0b3c8964dadabec44dcde467e38": {
     "views": []
    },
    "389139fb7294483dae4e2a1aeb314eb7": {
     "views": []
    },
    "38aaf12f174b49548bc7af8dac4d4f9d": {
     "views": []
    },
    "38e20a99646b47bd9529b70c86be2a6c": {
     "views": []
    },
    "39c27c27ec91481a9730871fec22e297": {
     "views": []
    },
    "3a012926072a45e582371fd87e05e258": {
     "views": []
    },
    "3a8c52a9885e4592a3361e434c972b3b": {
     "views": []
    },
    "3aeee77813f540ca96f52715f90bb891": {
     "views": []
    },
    "3b4e26d7e03d49bea2502fe0c6205dc6": {
     "views": []
    },
    "3b4eb2d3f4ea4317b66816f8d4dce397": {
     "views": []
    },
    "3b65db3a6fef481a99503ea95cf7c265": {
     "views": []
    },
    "3bb17121912f4d56a21d77234c319a5c": {
     "views": []
    },
    "3bc4e6f7388841db8350621044cf9f37": {
     "views": []
    },
    "3cb8dc9a29d4454cbe17b1a07f05bc60": {
     "views": []
    },
    "3cdecfb5e92d429f83346b9b45f71cce": {
     "views": []
    },
    "3db8287c12d243e7aeb23453ec481848": {
     "views": []
    },
    "3dfd6cc7f55b4d09a3b7722337dc6fa6": {
     "views": []
    },
    "3e68a55435a94fe8ab902831993b1c01": {
     "views": []
    },
    "3eab8226e22f4c24b29f75e6d2035ff7": {
     "views": []
    },
    "3ed7726146484f928435327d14dee4de": {
     "views": []
    },
    "3f11bd16178c4178a6b2e6f5b7ea560f": {
     "views": []
    },
    "3f1d83f107a8499092cd8666431642f6": {
     "views": []
    },
    "3f53114b2bc14266810e89044dadc280": {
     "views": []
    },
    "3f5d3eb01e9f4d8c8297a949c57841dd": {
     "views": []
    },
    "3f673e0b79294b10af9a303e66cfb233": {
     "views": []
    },
    "3fea8ec879bb4b6da39fb0c5c54890cb": {
     "views": []
    },
    "3ffbc87bb6da43318659570f4e992479": {
     "views": []
    },
    "4026ba72b5754cebab996c2599f36cba": {
     "views": []
    },
    "4035fd37659b4912a2ac624391ae2898": {
     "views": []
    },
    "409c318adf8740f391e9755c19070698": {
     "views": []
    },
    "40a47e2b53284be1868b89d2f68f2829": {
     "views": []
    },
    "40a4eb2e98ca429296e6945a9c221c08": {
     "views": []
    },
    "40e0db0e87a2496991af5f7da3fe5ab1": {
     "views": []
    },
    "40e86e18a14f4681a599457ba7f2034c": {
     "views": []
    },
    "410a20c6659a4816b448e0cb277150a3": {
     "views": []
    },
    "41582f5bb7814accb83487b0577bdcaf": {
     "views": []
    },
    "4180012cbcca455591f4a1d84f2756d7": {
     "views": []
    },
    "4192b059d2ca440ea9e2cd0c28b436a8": {
     "views": []
    },
    "41ca4aa0ce024d0981c3812d1b1b49c3": {
     "views": []
    },
    "4217a0992cd84fd49197651dc69ab4ef": {
     "views": []
    },
    "4226d5841c164861a9d29e738385c623": {
     "views": []
    },
    "42597b79f9444bb182a1d5d227067ef6": {
     "views": []
    },
    "42a6440b4bee47d195efe3f3573e4ecf": {
     "views": []
    },
    "42b9edbaa431470585b1f1547e5fef97": {
     "views": []
    },
    "42cdff2f0ef445ed8ac330b8e448156f": {
     "views": []
    },
    "43075ab407d441e1b0cbf9189d7c94ea": {
     "views": []
    },
    "43138c33f7334fd9a777c0be9330ef52": {
     "views": []
    },
    "4320d9601b3f49c4bd82d2b22b68baa6": {
     "views": []
    },
    "43c04f51c1664eaf858b716a0e96d28b": {
     "views": []
    },
    "43e35cdec9b64478a86b4e3c27dea1a1": {
     "views": []
    },
    "44685a121beb4fc4b69f4ac3cde57314": {
     "views": []
    },
    "44817a8f06c74919aa4ae003afdcf7c0": {
     "views": []
    },
    "44afdf23867a4d4e85fcce64dd45205f": {
     "views": []
    },
    "450e0b2d50104b9bb17b0db2ba21fac5": {
     "views": []
    },
    "453f251d5d5a42a7a14b9dbeeb26998a": {
     "views": []
    },
    "4553baa4bc4d4144ae82e17286030af3": {
     "views": []
    },
    "45cec5c3ba764aad80ffc92792c28fd0": {
     "views": []
    },
    "45e257d499824395b19f7386cccae70d": {
     "views": []
    },
    "45f502506acf443dbe61ac6830bbff36": {
     "views": []
    },
    "45fbd6c5d2f340f498714647b93dbc25": {
     "views": []
    },
    "465e02b0f1d94bea8a0874be01e8d0e5": {
     "views": []
    },
    "469cb65c3f034d4fb8a2bdf5749c1041": {
     "views": []
    },
    "46d6eb1b134846a5b27ce5a5af59ddfc": {
     "views": []
    },
    "46fb01e459154dd6a2e2c6edc53d04a1": {
     "views": []
    },
    "473ad7e85a1c4a9aa03eb6f61f51e8ed": {
     "views": []
    },
    "47b1928452244ec7b537dec5820b79d5": {
     "views": []
    },
    "47d51fa8f1494827a6ddca7f1b39bba5": {
     "views": []
    },
    "486b3a3f104c40a5b703ff9edde6c2e5": {
     "views": []
    },
    "487334b133374457a61334e5d2a8d95d": {
     "views": []
    },
    "4909b29f5e1b4ffcad754a1fec27b181": {
     "views": []
    },
    "4926e6aa9bdc466dbf868aaa5c0cad83": {
     "views": []
    },
    "49febed16527497f92299068635d847c": {
     "views": []
    },
    "4a1592137e4443deb27dcc5229f5856b": {
     "views": []
    },
    "4a9b34dc20d248f683d37e159f051522": {
     "views": []
    },
    "4a9f0669a5bb4682a73e45268fbb48bd": {
     "views": []
    },
    "4aa1ae2f5ab64ca295b498c36f5b4c7b": {
     "views": []
    },
    "4aca432034934424a64821013b31a1bd": {
     "views": []
    },
    "4acd2278c721452c80e3f455b2e4cba4": {
     "views": []
    },
    "4b0809949f8a43e5bc4ace1d4f6ce170": {
     "views": []
    },
    "4b0c126d79b942c7a83d622c9bf9b1a7": {
     "views": []
    },
    "4b12130bd9284e54818fc747d3884dfe": {
     "views": []
    },
    "4b159b0621274d7d964e0d0da773a12d": {
     "views": []
    },
    "4b18e382474d45f18c9ea190178b1383": {
     "views": []
    },
    "4b4c973dd99a40aaae401680592dec07": {
     "views": [
      {
       "cell_index": 3
      }
     ]
    },
    "4c98aa8059e94fb9b0e0e976d229f837": {
     "views": []
    },
    "4ce14a9d116446c2ac44782ff4fd7ae0": {
     "views": []
    },
    "4cea15f926c94b73a4e4ef4b59c5482d": {
     "views": []
    },
    "4d4880646abe42d4950f866d426ce6fa": {
     "views": []
    },
    "4e3dd5861cdb4b259ed416d5b0c0e0e6": {
     "views": []
    },
    "4e56392f60744340bad61ac631626be1": {
     "views": []
    },
    "4e7ab89dbd724cbeb129e558e7551fe4": {
     "views": []
    },
    "4e9b609d468348c3a4205bf41b7daf94": {
     "views": []
    },
    "4eb812c34afb4dfbbeecb34a37d37eee": {
     "views": []
    },
    "4f02acddb08041f4afd37ed9e985541a": {
     "views": []
    },
    "4f72fc7a9e5c40179802230bdf0e6d79": {
     "views": []
    },
    "4ff15a52ae8843f89bd8d7282ab752d9": {
     "views": []
    },
    "506b2941b30a46969618d7590414f0e5": {
     "views": []
    },
    "50a569648b724a43b3cbb6abfae1f634": {
     "views": []
    },
    "50aa48fbc8134f3ba3542493ac6f8916": {
     "views": []
    },
    "515494467c4d43c8aacf7f187f608f88": {
     "views": []
    },
    "51ab4f268d624c0ca23798df789a092c": {
     "views": []
    },
    "51c7b23215164109b95a1648f7d054b5": {
     "views": []
    },
    "51ec34fd3ca5489c853a30847cc301c2": {
     "views": []
    },
    "51f86d9ea8cd422a9a46881e760bf27b": {
     "views": []
    },
    "521ef9975f59499da0db7ccc9da70f83": {
     "views": []
    },
    "52526bb2c1c44ca9829ed8dd1ab262e7": {
     "views": []
    },
    "529e3984a5664b7e8c31384019f84aec": {
     "views": []
    },
    "5313779922f64e79b269ac77e5bea34e": {
     "views": []
    },
    "53aee3c4e5bc454288099456b4830bb0": {
     "views": []
    },
    "544b5533d52a4d858894b87bf7772cd7": {
     "views": []
    },
    "5507d97ce0e44a2b884ae4e04b6d2b9c": {
     "views": []
    },
    "552420cceadd4ed8bc77b2998a6befef": {
     "views": []
    },
    "553e9783170644ac9da3d1689cba0673": {
     "views": []
    },
    "558894d772de441fad99c292f16ce8a2": {
     "views": []
    },
    "5614c1aec9a44554aa88a8c7f8dbc7ed": {
     "views": []
    },
    "565d8deb45c94ee49f76bddd269bfa7a": {
     "views": []
    },
    "566515bc13324ee39604ee06a985e214": {
     "views": []
    },
    "56960c12a2e9427dac91ef591bdec323": {
     "views": []
    },
    "56f7a6f3ef90437b8710a034f657a416": {
     "views": []
    },
    "5730e680464b4d1faadf1d93da8aaba8": {
     "views": []
    },
    "5834927f17a647b5a9de60cf154e2617": {
     "views": []
    },
    "586fd9e55cd74601a7be0501f1ac20c4": {
     "views": []
    },
    "58f3c4b00f0c4739b8fc865015270785": {
     "views": []
    },
    "5952ff2b0ad6417fb4b0f8ed15ab8c3d": {
     "views": []
    },
    "595d5c5d000d4d3791aba2aafb0242db": {
     "views": []
    },
    "59d057dee9f34889b2ce356e93d56061": {
     "views": []
    },
    "59eb036df1464b02b77b4072bba85aac": {
     "views": []
    },
    "59ed9063682644beaa8df59f8b0bebd4": {
     "views": []
    },
    "5a0cd996f9a743c6a78197f4926cf007": {
     "views": []
    },
    "5a2fb53d2ba74c88bbd6ccd0471cf031": {
     "views": []
    },
    "5a463fe2d540463eaa6e06786f9fd023": {
     "views": []
    },
    "5a882b6f017f4211a50eb3331896fb71": {
     "views": []
    },
    "5b1b5f01caed40c78c25425713d80963": {
     "views": []
    },
    "5b291a4aad9246bd9b4b8c027317ac79": {
     "views": []
    },
    "5b8e6f3e20d448a390bf2eaf8876a179": {
     "views": []
    },
    "5bac4ccd38014b7d8d0a0845e8c149c2": {
     "views": []
    },
    "5bef00e2989944d3b6f58dfcf66b5591": {
     "views": []
    },
    "5c13d7492fbc4daf99e9060b5e4577df": {
     "views": []
    },
    "5c5c40e677944c499337e61b17a75ae5": {
     "views": []
    },
    "5c86a936472d4ca0a59e8127e62d584d": {
     "views": []
    },
    "5c968800093448eab7b37f023cd00664": {
     "views": []
    },
    "5cbc20f573594111a182179a1d238eb7": {
     "views": []
    },
    "5cefc269327d432b87db803010a3712b": {
     "views": []
    },
    "5daa24c2a980405a9f56655d6f042a25": {
     "views": []
    },
    "5e1eabb877064ab6961a219eca5a06c1": {
     "views": []
    },
    "5e28db24d44d4b288bdfa46fe889f2f4": {
     "views": []
    },
    "5e5ef29f99b04a98b9ebcb0c97a6c19c": {
     "views": []
    },
    "5e7005a1f3a04f95b92111ef642b7170": {
     "views": []
    },
    "5ecf849affcc4578ada04be3e46f54db": {
     "views": []
    },
    "5f17a47ceef0435f93e956c42954e3cb": {
     "views": []
    },
    "5f4d3547938f41c3bf26e78580e557c3": {
     "views": []
    },
    "5f80cdfcd18040b4b1710ab46d8c0361": {
     "views": []
    },
    "5fa845b0a7dd4890bb701e268acd1bff": {
     "views": []
    },
    "5ff1619f09844cc0823f622ece671168": {
     "views": []
    },
    "609f20a2eb5949aeb995c110d8f4ef83": {
     "views": []
    },
    "60d2df6674e04d1c9708a044ecf4dc05": {
     "views": []
    },
    "6142dceff18449be862e58ef160161d5": {
     "views": []
    },
    "617845684d7843bf9af553ebf5112c03": {
     "views": []
    },
    "61af318f1f6542e2b765200807bfb7be": {
     "views": []
    },
    "61d82876ef474853a1e54ca1d6beaf13": {
     "views": []
    },
    "624cdc5e005d438e95d44316de247d3e": {
     "views": []
    },
    "62c7466e61c8491aae142a59fc40e3c5": {
     "views": []
    },
    "63018c9bd868406894ee88e630556640": {
     "views": []
    },
    "633ba502e3764544b312a873362a2444": {
     "views": []
    },
    "63510112b83545b980c52aac41a79656": {
     "views": []
    },
    "6380681e33d94bdc8076319cb5d664b6": {
     "views": []
    },
    "63d948ceeda14212bada0c8db6a1400a": {
     "views": []
    },
    "640c99c955f445ca9b15010a4e36ede6": {
     "views": []
    },
    "651e2dcbf15942ce9af9e0fea074502c": {
     "views": []
    },
    "6522e0f28cf34d99984dded1e687fc06": {
     "views": []
    },
    "655c81a65bc4486498a4ac5f77bdf7a1": {
     "views": []
    },
    "66051ef9fcd74f12815f58bd73837943": {
     "views": []
    },
    "6638fe3faf344856aa2562c6afe8a63d": {
     "views": []
    },
    "664b6c811f7c4def822aabeb7253eba5": {
     "views": []
    },
    "66604167443c42ce8ac24d09ee608f1e": {
     "views": []
    },
    "6694712bc309433db72a8ca4604f5afa": {
     "views": []
    },
    "66dd5909a33a45d99ba36cdaae93bee3": {
     "views": []
    },
    "66ec9cd575094f43afea9741a38c3c1c": {
     "views": []
    },
    "66fa441a45e943ddbdc8a9a6a4bfad07": {
     "views": []
    },
    "674c4d9ef956405fae6c297e11f0d4c5": {
     "views": []
    },
    "675147aa074b4df99419fd8f8c7b2b10": {
     "views": []
    },
    "676016b285dc4c6a9e79e63089dfbd4b": {
     "views": []
    },
    "67993e4f92e941a2b37556c88bb24e15": {
     "views": []
    },
    "689761ec01a44c7997b09435c6f97ffd": {
     "views": []
    },
    "68a8a579a50745619675085e08917651": {
     "views": []
    },
    "68b0f20c6d154ea2a860635bb9e3319c": {
     "views": []
    },
    "69342c8111544942b2e32d643ae41643": {
     "views": []
    },
    "697a92b6222b4a15813252b108d1b2bb": {
     "views": []
    },
    "69b00a36136144d4a9ed305d5e6f4984": {
     "views": []
    },
    "69f3e88f42d8495a98e54ac53717e1fd": {
     "views": []
    },
    "6a150ab6f1294bd2aa47cfce89c982ed": {
     "views": []
    },
    "6a1adc2cbd6e48959696e30c665dfbdb": {
     "views": []
    },
    "6a50f32103dc4569aafdfcf87b947895": {
     "views": []
    },
    "6a52a6449e4f439ebabc9f8b450fb5be": {
     "views": []
    },
    "6acb716dcf1b484ab0ef73d7a01b069a": {
     "views": []
    },
    "6ad4e43372d44553a5a8739e29fd8ba2": {
     "views": []
    },
    "6ad5ff81431c480b8dfa267b2f5abe2f": {
     "views": []
    },
    "6af12655dfd842f2934413556240b254": {
     "views": []
    },
    "6b0f32ab59ea4c11bf7cd00ca2135d95": {
     "views": []
    },
    "6b2a5e052dcf401499038abceb5157a0": {
     "views": []
    },
    "6b4e021e672f4910a064e562ab7cb0ff": {
     "views": []
    },
    "6c0cd4b8f3a44121a2c58864e77a1abe": {
     "views": []
    },
    "6c26ee3937b74dbc8b2934d39fdc66cb": {
     "views": []
    },
    "6c6c47049f8248468fe959a52b0c1708": {
     "views": []
    },
    "6ca70c5e2e3241e58b5d3c1aaf28f393": {
     "views": []
    },
    "6ccf563ee85d4ff38db6d49d9eb41e25": {
     "views": []
    },
    "6ccf6cefb7c64f3f92015521165d8200": {
     "views": []
    },
    "6d0db796bdee48e39b5edfb7de3a89c6": {
     "views": []
    },
    "6d2580dec3bd4c889240fb74046d032a": {
     "views": []
    },
    "6db4b83f02384a82828f9e21cb365cda": {
     "views": []
    },
    "6e45dbe364ed4d9eba225027c4ce0767": {
     "views": []
    },
    "6e7667ea2d6d41c599af79bccb0d900b": {
     "views": []
    },
    "6ea3b81909324316a860057f5032af69": {
     "views": []
    },
    "6f2d99dbdbeb48758b0a90b47403a89e": {
     "views": []
    },
    "6f4f7b53c6e547dba4718066d8266f57": {
     "views": []
    },
    "6fa5af3097dd46bd921f0113080faff1": {
     "views": []
    },
    "6fbeecb6b1504c709910fed1bcdbf3c0": {
     "views": []
    },
    "6fc1fff5e637467b8710776fdb75dafd": {
     "views": []
    },
    "6ff67c81cb534d2d9bc5dbd38800c55b": {
     "views": []
    },
    "71610d5b2126429db9ec39a8ffd9fe44": {
     "views": []
    },
    "7182300f0a564d71918fae8c1db2a0dc": {
     "views": []
    },
    "71932df132684a07a204bc89e7204a72": {
     "views": []
    },
    "734686349fc949a799d034b71be7f708": {
     "views": []
    },
    "73cca566dbc3400f9f572265ab431431": {
     "views": []
    },
    "74091649e47b425a95ffd2c4929c246d": {
     "views": []
    },
    "744aaa55d1c949668449d6c4985ee47d": {
     "views": []
    },
    "74db8ed11e774d838cfb66ca3f2324c1": {
     "views": []
    },
    "759cf309f7c74ea2949cab7d8b288f35": {
     "views": []
    },
    "75b2b194a87c444594f9382ffed5a26d": {
     "views": []
    },
    "75cb3ac219fe4a37a024d2624769f461": {
     "views": []
    },
    "76517d7553554be49ef7bf617d726f15": {
     "views": []
    },
    "76c8aee32604405f92a4c227bdc7dc79": {
     "views": []
    },
    "774e51cac2e84cf18aed332eff28964b": {
     "views": []
    },
    "7799b0a936a8426d9585c8afb03e8b90": {
     "views": []
    },
    "78509da35cc14b5fa1227d2d44f592b6": {
     "views": []
    },
    "7857847532c64991afdff407e8996399": {
     "views": []
    },
    "78900ada35324c0ba17fda79b9be144d": {
     "views": []
    },
    "789c8e4786154f9683fb1efdab8d0bc0": {
     "views": []
    },
    "78b75c7a46da432687de27cfe4ddd42c": {
     "views": []
    },
    "78ed76ac48af48f0857584d96ec029f1": {
     "views": []
    },
    "79157fee88e143ecbdcb077fc8299ff4": {
     "views": []
    },
    "791e5ba83c104fe8b4e1c03f94068c44": {
     "views": []
    },
    "795265d42d5b4d72a262964d78c32a9a": {
     "views": []
    },
    "795ba417b1db44df907d51fab500978c": {
     "views": []
    },
    "79cdc9b948aa4fcc9656d146b85ad18b": {
     "views": []
    },
    "7a0b7c43ca9a4252869a75202697cd39": {
     "views": []
    },
    "7a679130b04345bab2e3d52a81491630": {
     "views": []
    },
    "7a7db53443214edcb85226b8571d32b0": {
     "views": []
    },
    "7b26c3451d674d0bb27ff466d7310ab5": {
     "views": []
    },
    "7b4555feec0c4bcea3ec788b9acaaa16": {
     "views": []
    },
    "7b46e52b82004f9488c5be9d066add3b": {
     "views": []
    },
    "7b9fc743382245518ad936799a93fda7": {
     "views": []
    },
    "7be2295870ab46fda9fc5d3beb7571ae": {
     "views": []
    },
    "7be2f3675b52414396c68c9d49d2eac7": {
     "views": []
    },
    "7c3526f76a26439a9b41d9515fc35196": {
     "views": []
    },
    "7c5531fbc8114ca585b9f973ca43f6fd": {
     "views": []
    },
    "7ca47d514a0a4b92bb0072d92df3ea72": {
     "views": []
    },
    "7cc92c0ee4cc4df4b507a1b6fbbe554d": {
     "views": []
    },
    "7d033fdf73ff42e3bd8e4b2173ade445": {
     "views": []
    },
    "7d06f2bd864c444896c2dcc7c6774b73": {
     "views": []
    },
    "7d415171e9e74ca08c67770bf2be44eb": {
     "views": []
    },
    "7d7bbde1f2554f3d870f44fe9d3a9669": {
     "views": []
    },
    "7d93704ff9d9440f9cc39e23dd31e810": {
     "views": []
    },
    "7da5fb07646c468abba030044b105488": {
     "views": []
    },
    "7e277f07854e45479c444508f0444c58": {
     "views": []
    },
    "7e8e3bdb54314a90a5f05f09bb77cf8a": {
     "views": []
    },
    "7ebcd1406e5f4b6295fcdb799d1d312c": {
     "views": []
    },
    "7ee741407c5e4ed8868e88f1c28896a9": {
     "views": []
    },
    "7f2bc69a9bbd44edad0aabe17858faaa": {
     "views": []
    },
    "7f3708cfd2cf49eca87d28623a79998f": {
     "views": []
    },
    "7f37ec1cf2c74b6f8c0825a68ba73f63": {
     "views": []
    },
    "7f57022c099c4d6494776ff7a973514e": {
     "views": []
    },
    "7f68b00e243b4b0e8f404ed365bb1f24": {
     "views": []
    },
    "7fa95e01dc934e1f92c97ca02e330496": {
     "views": []
    },
    "7fa97822ed794612b0886b1110823b32": {
     "views": []
    },
    "7faf1e2b80594f4f82161eb1ca853fc5": {
     "views": []
    },
    "7fdc54f58a434b018c2ce154f7313f76": {
     "views": []
    },
    "7fe73afa98ae481b9dbae61d2000a1cc": {
     "views": []
    },
    "800b1286d9294f4ea50f5676b0e23357": {
     "views": []
    },
    "800b283ed6d247c6a00868a50f007b94": {
     "views": []
    },
    "804101dfa1d74fd4a88503c87df4356f": {
     "views": []
    },
    "8062a36d3ed84146bd1a8a0ceb291820": {
     "views": []
    },
    "806e9495dfbb4264af4c275f3d02bd47": {
     "views": []
    },
    "80df045501ac45b6a52a0562a952f007": {
     "views": []
    },
    "80ed64e7a989406ab6189b9c3a544972": {
     "views": []
    },
    "810d46d746324cff9f4cf8ae626ac4f1": {
     "views": []
    },
    "81b41c59570140459fafd42e451fd98f": {
     "views": []
    },
    "81e5893d0cfb4ad993ac1130cff656d5": {
     "views": []
    },
    "81fd9b7a09f44c549d161e4277783ba4": {
     "views": []
    },
    "82589f1cd3f0453a9af2d7d06530da7d": {
     "views": []
    },
    "82b9b2f5e2ff4f0bb24d716bef405f9b": {
     "views": []
    },
    "82ff2d4a03d64750baf2b5300fb6803c": {
     "views": []
    },
    "8352479bf27c42109adb1ad65acedc91": {
     "views": []
    },
    "83bc3626384343a7a8ec540f9d441b34": {
     "views": []
    },
    "83e623457d0b4da1bb7039e28f5b252f": {
     "views": []
    },
    "83f9d7d7ee9e432dae99648a0866c1b1": {
     "views": []
    },
    "83ffa42920524fa2b9d2ac04901a2417": {
     "views": []
    },
    "840d3803244c4151946019f13a705b30": {
     "views": []
    },
    "841590e87f294386aac593c3fa5d4936": {
     "views": []
    },
    "8430fa50072a48f29c1ce9c87c96809b": {
     "views": []
    },
    "854ff63fc8a1494db5e59df0958708c6": {
     "views": []
    },
    "859da1526c0247b2aa41984353d731eb": {
     "views": []
    },
    "861e06fa61294d18b825d26bff18d3e9": {
     "views": []
    },
    "86e1e84f603e4e2788cb8a689c21b8c6": {
     "views": []
    },
    "8739bd9be65f474792a358a1ebedee39": {
     "views": []
    },
    "8777bb092d4a4c00b3f5940811d5aa83": {
     "views": []
    },
    "877b38a98a324913885f6c1d22e5d741": {
     "views": []
    },
    "87875fbd56ac4ec3a9ffeec9235151ee": {
     "views": []
    },
    "87b34fa2bc0e4b31a1471bd96c00f1c1": {
     "views": []
    },
    "883bcb7e61344da2bfa94082e2f2a521": {
     "views": []
    },
    "8840bd523e964827ace8648acb92bde5": {
     "views": []
    },
    "890c96bf67e543b1aa039718229c3b0b": {
     "views": []
    },
    "8919ef40153745da8bd82d22548ace4e": {
     "views": []
    },
    "897aadea61d347b18409bc40b9b11746": {
     "views": []
    },
    "898d2c83076d4e8d9627cdc8956c2f39": {
     "views": []
    },
    "89b651fc209a4df7858417dec29d1500": {
     "views": []
    },
    "89c03f3ecbb3437385dac720efd4965b": {
     "views": []
    },
    "89c14c08d4464bb4a4e4f73f6cc31a26": {
     "views": []
    },
    "89f6005c15e74d19b61005e50cb39fc7": {
     "views": []
    },
    "8a3111e3cd3246a2ba1a1d0e4e31a3d6": {
     "views": []
    },
    "8a517de7cae84ea385df145619f4615a": {
     "views": []
    },
    "8a65ca8cb83e49d4ba2efa142a559445": {
     "views": []
    },
    "8a809f2496b4449e845698157e4d30fe": {
     "views": []
    },
    "8aac52c0d3fe450fb6ac712b83558d56": {
     "views": []
    },
    "8afa48183b594a2e9b973cb706bcb4c3": {
     "views": []
    },
    "8b750900cac84c10af01e500cfa3e7c8": {
     "views": []
    },
    "8c16dc1524034cf2abb6a0f4e380171b": {
     "views": []
    },
    "8c9a641e91f242b6aadae3049c6debd8": {
     "views": []
    },
    "8d193e826f6941b581cd9893a91d3d99": {
     "views": []
    },
    "8d28ae23edc1483f83aae4358998afdf": {
     "views": []
    },
    "8d44077d190f4bbebd531be27542aa90": {
     "views": []
    },
    "8d50a70b3f1d43e4bf5c1be92f54b09d": {
     "views": []
    },
    "8d7cf9a3eacf44a6a851fed626ba5bfb": {
     "views": []
    },
    "8d92ca5a5c3a45a79009a04257df642d": {
     "views": []
    },
    "8e48667930c74b878808d546f63cb38f": {
     "views": []
    },
    "8e52cd5057c34278abb9f4a0666c134f": {
     "views": []
    },
    "8ed859e150ad41909bd33f524e07c872": {
     "views": []
    },
    "8f4f7aeb04b54e22b83acf8923881ef1": {
     "views": []
    },
    "8fcadb635f52420d9ea7aa017f77210f": {
     "views": []
    },
    "9004b69077564e2b9d3f983f8525d9c2": {
     "views": []
    },
    "91160e9c5d6343c2bcb17ce7700e9308": {
     "views": []
    },
    "918aec753bad41a0aa2137aa82f02572": {
     "views": []
    },
    "91fe45a7555c42bca850e99eb8a5c61a": {
     "views": []
    },
    "9209ce5a500a4d5fb7ef88b34643202e": {
     "views": []
    },
    "92119a5f948643fbab989a9f09c62fcc": {
     "views": []
    },
    "92148709840b437eae5e22379f917cc9": {
     "views": []
    },
    "9241ee5f17e149c89d7fc44ee91bc060": {
     "views": []
    },
    "92972f3e32c54d41b1aa90d117c68eb7": {
     "views": []
    },
    "9352f015dce540709def7cd45b1b5019": {
     "views": []
    },
    "935431ac279648e8a9d3d131129c5e6d": {
     "views": []
    },
    "9421fce0a7e04544acaa8f3d1292c88a": {
     "views": []
    },
    "945c3febee6549d29364107f3a8d9079": {
     "views": []
    },
    "951d4c69fe264779a6371e8c99478535": {
     "views": []
    },
    "9524af55e5fc4b72bbbb7238d5f835d9": {
     "views": []
    },
    "954c942e66784794b55eb35bb1fb69b3": {
     "views": []
    },
    "959addf723c7483cb66994efb52b6cee": {
     "views": []
    },
    "964f2ac8889b401ca687c3a13c51ffcd": {
     "views": []
    },
    "96ac1e029d6a41cd832e2168fa6d8b41": {
     "views": []
    },
    "9773fc56ea9d4ca48a96ce9feec9c9dd": {
     "views": []
    },
    "97a684c4bbb046989f706a07d8c7046b": {
     "views": []
    },
    "98425dd4c5f44291836cb7230fe19385": {
     "views": []
    },
    "98945b0fb47a44b09a1cfeb1018d1f9a": {
     "views": []
    },
    "98d7bcc2b2c649afbff7705399b8bb78": {
     "views": []
    },
    "995b69108ebd4b9ab99eb84775349df1": {
     "views": []
    },
    "99b8e0390805401bb03ff99f66106e0d": {
     "views": []
    },
    "99b9811c709b44319bbf59aa548e7b5e": {
     "views": []
    },
    "9a13589a1f6642a3ad5184fb1252bd67": {
     "views": []
    },
    "9a5f6b65724e40209ff502aa4f5ee9f1": {
     "views": []
    },
    "9ac9546d66744652a2d7fd08c309b8c2": {
     "views": []
    },
    "9b1ec6c182c1452e98139f1cd6f9ba78": {
     "views": []
    },
    "9b38512e1d8044db80b53c77ec9808bc": {
     "views": []
    },
    "9bcc3ed7b57444b7aeac79b772309fbe": {
     "views": []
    },
    "9c6140ce16154eb3801f93ed9875633c": {
     "views": []
    },
    "9c8581aa58fa4f9db55dd1ca1d728a77": {
     "views": []
    },
    "9c9e0454f7bc4a2da4335a27000b42fc": {
     "views": []
    },
    "9ca257385a8344be8f586e5147a36fd1": {
     "views": []
    },
    "9d8fbdb4cb894c4296c98487069f4747": {
     "views": []
    },
    "9dc1253094b74baf8fe02ee5ea057e2c": {
     "views": []
    },
    "9e13d5a334f74d70b89fa9d1aada0cea": {
     "views": []
    },
    "9e2e6af959e94ca38ecaf8265863bb5d": {
     "views": []
    },
    "9e3736c3065444918faf1cf5b9e04af7": {
     "views": []
    },
    "9e80916095374dc08a8cf819ef3df887": {
     "views": []
    },
    "9f2ed329edbb4d039b96d0258c2704b3": {
     "views": []
    },
    "9fabb44ac90845359fe68e641bd97cb8": {
     "views": []
    },
    "a05e9dd6d6374b0f9124be9b3685ee74": {
     "views": []
    },
    "a077ddf5ab3847aa90365cec8a215ff6": {
     "views": []
    },
    "a102df0a90024c39bf7044d59b558608": {
     "views": []
    },
    "a102f00801d4481ba559e14695556fb4": {
     "views": []
    },
    "a14a4a5e37b74600b67794964496e46b": {
     "views": []
    },
    "a1f6f0c4a7fb43e48d5a36dfbf2185c6": {
     "views": []
    },
    "a316ea4b622d4adb96d0e1e4bf3568e1": {
     "views": []
    },
    "a3e16410fdc04d9a973e02d28e966e34": {
     "views": []
    },
    "a420144b7078458b842c289537bb99a9": {
     "views": []
    },
    "a4872f7e33f44ef2b7707cb0a92d157f": {
     "views": []
    },
    "a4aebfcfc67847e1a3991509be3b7d2b": {
     "views": []
    },
    "a4d89d9e5ade4942b012c30080d5b7a7": {
     "views": []
    },
    "a4f8434181e44ee3bbd9d14823f38b39": {
     "views": []
    },
    "a575a4ef697745b69605f832785bedf9": {
     "views": []
    },
    "a5f525d3f84e49d5bdbe56267f0d2af1": {
     "views": []
    },
    "a63c690c98fe4c5887fc9004689a330b": {
     "views": []
    },
    "a6c12e7d2ebb4b448a6ae67677288a3c": {
     "views": []
    },
    "a6c4275118534d4e907d487bc7ff6f44": {
     "views": []
    },
    "a6f250c2494d4c4dab984a07c8ef8502": {
     "views": []
    },
    "a737126c0ce742dcb20b332f9d567bf0": {
     "views": []
    },
    "a761a58480064116acffe7040ca5d94d": {
     "views": []
    },
    "a78c2905acd94ae78cf2f6ff04440c57": {
     "views": []
    },
    "a7a71ffa8207431c9cf2eeac6b448c64": {
     "views": []
    },
    "a7bc6a713a23495ba1a04f80cc3e2853": {
     "views": []
    },
    "a7ce353ed21643c3899da14aa0eff2f5": {
     "views": []
    },
    "a829a68b954744a9a9ebbb1413fa9454": {
     "views": []
    },
    "a8304e1c3b14435a87d607677a235a55": {
     "views": []
    },
    "a8676be5ae6b42eda630ee6838136673": {
     "views": []
    },
    "a8a91338b6084b49b896a9ef9b306bfe": {
     "views": []
    },
    "a8fbb64654974facb00e29a884717f87": {
     "views": []
    },
    "a903e981c5e541fbbbbe6baf5ec561b2": {
     "views": []
    },
    "a949d8991c2546fbb36712a8f6c913cc": {
     "views": []
    },
    "a94c462249eb46d780e64c08986f3372": {
     "views": []
    },
    "a9a6d38256f146a380f2ccd55ee6fb75": {
     "views": []
    },
    "a9a885b13eb849f2a9484c7ea1c09823": {
     "views": []
    },
    "a9b0c999664b489090b39ad4547e4107": {
     "views": []
    },
    "aa480bb10af247a8927badddabed5122": {
     "views": []
    },
    "aaea0b327df247e3916471521911553d": {
     "views": []
    },
    "ab33da593ca74e9a8f3ee8acd7735404": {
     "views": []
    },
    "ab6b67a7bb9c4334a9698a25921aa088": {
     "views": []
    },
    "ab78fb62bb534e0d9d18497975c28397": {
     "views": []
    },
    "abcf34c0b5864baeab2bec8e3a83b81d": {
     "views": []
    },
    "ac2e30a6ee4f41ae9fd74c288d564e82": {
     "views": []
    },
    "aca91f25ed044a73b49ba1f9286bd9ba": {
     "views": []
    },
    "ad010e5e46e547fe918203d1d9f81dfa": {
     "views": []
    },
    "ad199b6798194c71988c55352602eaa0": {
     "views": []
    },
    "ad2d78065c0e4533a9ffe69b19b012da": {
     "views": []
    },
    "adb4bfeaeda342e6a4fdb1ae0fabe2bb": {
     "views": []
    },
    "ae2e30561b4e49f686b4ed453a3db087": {
     "views": []
    },
    "ae2eebb611d5459bb51018d3d3d6c28c": {
     "views": []
    },
    "ae5550643ca04c2b81d85c1cb37091eb": {
     "views": []
    },
    "af8f49fc53694b59b5e1dd52a815c51c": {
     "views": []
    },
    "afc420705e10429898e8952a303f6c2d": {
     "views": []
    },
    "afd973bd2ea74ee88f1c6c467e8b5eae": {
     "views": []
    },
    "b046d68c85904f3aa0a9bb204aeccf91": {
     "views": []
    },
    "b092b1a23ff14b478dde7db4639ef344": {
     "views": []
    },
    "b0dbaad2a5bc4b21bfad8f81a93ccc1a": {
     "views": []
    },
    "b0f78f56c796439d9f5c7105abb5287a": {
     "views": []
    },
    "b11a0996ca5a41a0baa37beb39238245": {
     "views": []
    },
    "b1380bc23a1f4da6b73ac04df4655a36": {
     "views": []
    },
    "b14eb446b5414913ac42befcc4b0e49e": {
     "views": []
    },
    "b1890ce3cfdc4935a268ceda92782061": {
     "views": []
    },
    "b19fe7eea64947d39f908ae4a1a08765": {
     "views": []
    },
    "b1d1d70320db4a81ba8e3a8ce1ddf042": {
     "views": []
    },
    "b1dd8368122c4b43a0b70ac19963ce94": {
     "views": []
    },
    "b20a332b7205480ea334773d9a56782e": {
     "views": []
    },
    "b238473be31d4354ab1c7209a0778146": {
     "views": []
    },
    "b247deff99b94987973fef3c93001c98": {
     "views": []
    },
    "b261056d929d496eb09e86ad91607fb6": {
     "views": []
    },
    "b337ebb30bed4fefb3ef1b2235864cd7": {
     "views": []
    },
    "b34914144cd24bc5a5da98b309fee8ed": {
     "views": []
    },
    "b3526e758e8f4241998a02df928b1adb": {
     "views": []
    },
    "b39f90859347419eaee2bd1b57e9ad28": {
     "views": []
    },
    "b3e5ba38465e4f73ba2e37576bc6acab": {
     "views": []
    },
    "b3fdcc245fff45f8a141863108972f5a": {
     "views": []
    },
    "b4042412bd1e4357800057e07bf46e5e": {
     "views": []
    },
    "b413a4bf200f4660a0261b3abf69c46d": {
     "views": []
    },
    "b41c9758503d44efaa2c10429f0cdfce": {
     "views": []
    },
    "b45e6a4bfcb74b06b492d8426976ba83": {
     "views": []
    },
    "b479681211d14fe2b2d134a11b07310e": {
     "views": []
    },
    "b4c2f295f4ef4b66a6e00cd16e3d1db2": {
     "views": []
    },
    "b4d840428b76422289cbe9519247bfef": {
     "views": []
    },
    "b4e20c8c8721475ba1ba29361c7407bd": {
     "views": []
    },
    "b51728c013204535956c6e8821b0e368": {
     "views": []
    },
    "b55f991979c6438eadc3193ed3c21f13": {
     "views": []
    },
    "b57e04ed30d247d680221cfca34211af": {
     "views": []
    },
    "b5863872d814468d94a96e8c08afbf35": {
     "views": []
    },
    "b58b31d8f9ab4805ae765ec10ae7e624": {
     "views": []
    },
    "b59781a305084a1cbcb3390e3ad99978": {
     "views": []
    },
    "b5ea919970394d3ab5585ecdb7dbe1dd": {
     "views": []
    },
    "b6458536df684dddae47d9bb5247f5a0": {
     "views": []
    },
    "b74e1b3f556845b9aee850d9589b1420": {
     "views": []
    },
    "b7c0923a2a9a4dd2a7af6b67dde04848": {
     "views": []
    },
    "b7ff54f9642e4ba2ac7a1c9ddfb7d1de": {
     "views": []
    },
    "b83181413d814cb9bbe6ed30dc32c878": {
     "views": []
    },
    "b8822a0e68ce4a48a6e3727a444a989c": {
     "views": []
    },
    "b883b00eba5642818da4657aaa0d56f8": {
     "views": []
    },
    "b8ad8ccf34fd48dea1675fd17c4a744d": {
     "views": []
    },
    "b8dcc669400b40e1a9daae11243fb0b2": {
     "views": []
    },
    "b992d42234644330808414167b4df7c8": {
     "views": []
    },
    "ba2d0cdf09f041e598118e5c2e533c60": {
     "views": []
    },
    "ba73136bb03b4d01b9baa60690493426": {
     "views": []
    },
    "bb24ce81915f4f2aa21035e0a096d3fe": {
     "views": []
    },
    "bb7045a6040441b1b37eadce9eff3b31": {
     "views": []
    },
    "bbd9859591b749d3babff5f5536b8365": {
     "views": []
    },
    "bc10a8d596b14fe489a56c06df1c13a6": {
     "views": []
    },
    "bc11f408023142a2a85cd456d026fba6": {
     "views": []
    },
    "bc15a4489e8849fe97047c3be79749c2": {
     "views": []
    },
    "bc214be221ad42318cd14436fa1e685a": {
     "views": []
    },
    "bcae1ddf15e54e8e9ff13460582bb054": {
     "views": []
    },
    "bcea5cb64b6845d884cab36842dd1f1a": {
     "views": []
    },
    "bd87685e6496446eb38446bcdc0fd6aa": {
     "views": []
    },
    "bdfc9dc0d40e4cbfb951ad00744dde12": {
     "views": []
    },
    "be19005c29c5414a8fe96013d57e3d1e": {
     "views": []
    },
    "be6ce8ae771e439fb3f81a3e55034972": {
     "views": []
    },
    "bf11b834089e4915b68b7a05e74c151c": {
     "views": []
    },
    "bfef712bdeaa44fe9c47c8cbb05a8177": {
     "views": []
    },
    "c04e871640c04050a87e7a0336f544c8": {
     "views": []
    },
    "c0529a1d524d417f80f13db738042f71": {
     "views": []
    },
    "c05ba671237b4c6fb827bdff22603834": {
     "views": []
    },
    "c0b76112234f4348ad15cea0ab6fe875": {
     "views": []
    },
    "c0f470da161141cda54df2bc1a2913ad": {
     "views": []
    },
    "c1decdfeea5548e18ca68dd4bca7ce0a": {
     "views": []
    },
    "c1e71d3bec0f4860868aee03bc3ae867": {
     "views": []
    },
    "c1f96eadb02a41baa7f5bd199ffaa04b": {
     "views": []
    },
    "c2a200515d1848aa9d6635f9aa6d474e": {
     "views": []
    },
    "c2c5f834412b41ef801278c5dc6b900f": {
     "views": []
    },
    "c32a03b862fd4419b8d94213220608e5": {
     "views": []
    },
    "c35bffa473e74e8cabaad3d49b95951c": {
     "views": []
    },
    "c395eaeed0764c71a56f568c4e4d0e66": {
     "views": []
    },
    "c39c797df1544891adf9e96fda4d1a83": {
     "views": []
    },
    "c436144e804b484db2659d0138718746": {
     "views": []
    },
    "c46b12b300594d64990637cd0852c820": {
     "views": []
    },
    "c491c2e37bc54f05a9e13e047ce37925": {
     "views": []
    },
    "c4c763d2592e4768ae9ab06ec459644f": {
     "views": []
    },
    "c4d1a05705c44da8aa3e32f48eb43775": {
     "views": []
    },
    "c519e029c8f14e25a8b2c460432b76d2": {
     "views": []
    },
    "c55a8d17ff6d4bd6902dcabf78cb2b25": {
     "views": []
    },
    "c5734f48d0c343b2926a28f86a0645ab": {
     "views": []
    },
    "c57538b1a6ba473db01b254341e3dd96": {
     "views": []
    },
    "c5954171e7264c43a25feac52e505fa5": {
     "views": []
    },
    "c5bffdf118324bbf9a45de1956565683": {
     "views": []
    },
    "c5e6557f83a149aea4481ff3a7826929": {
     "views": []
    },
    "c66fab28b577438fb069ff15e37dd7df": {
     "views": []
    },
    "c68659b78af74fa0bce775572809cc45": {
     "views": []
    },
    "c6910a53ea3d49878b17d03e1bfd0763": {
     "views": []
    },
    "c6e3881664b34327976e38a9d339d766": {
     "views": []
    },
    "c6f0dd5e326946bd9862fe1961cd18d7": {
     "views": []
    },
    "c7390647a40f4692857ba3df88060ec1": {
     "views": []
    },
    "c7ad5ae7b1cf4ffda0eb6ffe50eebc78": {
     "views": []
    },
    "c7e5dcbabab24987a13ccfd441c7ee1a": {
     "views": []
    },
    "c83d5b4d25174b84b2994652ff2109f0": {
     "views": []
    },
    "c88e979abadc4e53885de4b993100a27": {
     "views": []
    },
    "c8b3c5377c724c9397c000b1bb8edadc": {
     "views": []
    },
    "c9253f8d02704b6291ec67866ea0acf6": {
     "views": []
    },
    "c93e98e03949498eb842cd221aa8755e": {
     "views": []
    },
    "ca024497a6a74da396fc66a8651c0758": {
     "views": []
    },
    "ca071c97ca6f4db68a04362618d45a72": {
     "views": []
    },
    "ca2638735e094042b68ffd77341c773a": {
     "views": []
    },
    "cb93f565a85f4d3d9116ac11aab0187f": {
     "views": []
    },
    "cc16482bdcf2472bba3da42516b2f456": {
     "views": []
    },
    "cc26925df76f4bac92d795c41231a0a7": {
     "views": []
    },
    "cc59e8a7abc64594af543d5bcd7babd1": {
     "views": []
    },
    "cc71dd1d8ecd44c7aaedb5a81b9f6b1d": {
     "views": []
    },
    "cc7fd42e07274c68a6e38477086d88c6": {
     "views": []
    },
    "cc98976fac154fee8bd69d9c1cf1058b": {
     "views": []
    },
    "cd2385825c5d45cf88fbd22c2d825afd": {
     "views": []
    },
    "cd438a2de74948569eab26fa3aa5f844": {
     "views": []
    },
    "ce133201947f4517aa0d0160338f420b": {
     "views": []
    },
    "cec2d06cd9064740b2137ffbdf78764e": {
     "views": []
    },
    "cf14c04a8d2142c28c29ead4f029ad7e": {
     "views": []
    },
    "cf38433047b740c3ab103fb9fe0e6305": {
     "views": []
    },
    "cf4fd282f3e44d68b41cc0fe14a3c49f": {
     "views": []
    },
    "cf96edd34fdb4ee38f8b471d92ba4569": {
     "views": []
    },
    "cfa9936ab63f441481bdf05598fe6715": {
     "views": []
    },
    "d14e7cd6c1c14c489ae41a988072df45": {
     "views": []
    },
    "d219518e0bfd4dbdacce9dd9316c3fbc": {
     "views": []
    },
    "d25384c5528f4229afd1b6db8d3a9824": {
     "views": []
    },
    "d260e7a23a3d4a2daea5b920922b5038": {
     "views": []
    },
    "d28d1a331ffb49df91e06506d0a7c3fd": {
     "views": []
    },
    "d2ac5dc554ef41cdb43fcfae257661bb": {
     "views": []
    },
    "d2e46b1ce47047b1ac49042d523ae349": {
     "views": []
    },
    "d361f086d6f34c4b8b5ce7e92c67ea0f": {
     "views": []
    },
    "d3a102cda71e4286a2030363f017e9da": {
     "views": []
    },
    "d3b9acfd33f945239b7082c8f4308120": {
     "views": []
    },
    "d3ebfe8b10574417a915a586556f1f3e": {
     "views": []
    },
    "d409cfaef3f64a5f88e5757a1b2914de": {
     "views": []
    },
    "d4289f3d44624a159cf9084197c912ea": {
     "views": []
    },
    "d45e2f42f597407f95ca03b41e6a53f8": {
     "views": []
    },
    "d51403488f9e4ff7ae92d34af07d675e": {
     "views": []
    },
    "d539504269ab482c859c8c6fe3a5e93d": {
     "views": []
    },
    "d656c906a1ca48f89a5bc97808af4742": {
     "views": []
    },
    "d674325753bb4ff58be4071431792829": {
     "views": []
    },
    "d6ab483c47964caaa2b1ebee1f254132": {
     "views": []
    },
    "d7068ea161344e38bbd29e2d3407ceab": {
     "views": []
    },
    "d746bf8417464c2db82bd9cfc5f98b48": {
     "views": []
    },
    "d765ee81cf234a96b99c59f1296c39b0": {
     "views": []
    },
    "d79e5aacbe0e4583920f4a68377fdead": {
     "views": []
    },
    "d83f953170f5473799d038e3e5ee2a5c": {
     "views": []
    },
    "d878f1df67e34051b36eb149fa175972": {
     "views": []
    },
    "d935b5c084104446a87f1068acaf6695": {
     "views": []
    },
    "d968b19a8ebd4d63a001075a311f38f6": {
     "views": []
    },
    "d9867959d05e44d491adaf8225c6f30d": {
     "views": []
    },
    "d9ba3117270f48c0b6de2e6e2c4a71a4": {
     "views": []
    },
    "d9d21de86c814095a74464d2debb6b95": {
     "views": []
    },
    "da2dbf19b1414212a1319f5479aad367": {
     "views": []
    },
    "da888101a95d474f8d9365c91f7f65ba": {
     "views": []
    },
    "daaa3f2c81a242af9e01ab5a82f7c544": {
     "views": []
    },
    "db1922dd55a348958960928d26ad435c": {
     "views": []
    },
    "dbd6b505536a466ea693eb12882607e0": {
     "views": []
    },
    "dbf3f296a73e42d581c87c0d3fcc6c17": {
     "views": []
    },
    "dc3a54795bd740e9bf7a568632b00f47": {
     "views": []
    },
    "dc69727432be4904b397a29802a75454": {
     "views": []
    },
    "dcc7d75faa344d4e8bba7f2ce53ca5e5": {
     "views": []
    },
    "dcc8acf2f2fe415e83e1f48f13a1814c": {
     "views": []
    },
    "dd0952deb17d483da049161605d43a79": {
     "views": []
    },
    "dd5159c4c8e14d49902430beb62d7d02": {
     "views": []
    },
    "dd77307a73464f268d6c92f7e0d3fea3": {
     "views": []
    },
    "ddf0d5c032004abcbcd98fedf9315f9f": {
     "views": []
    },
    "ddf361cee6db4ec5abca4c20669d942a": {
     "views": []
    },
    "de14dd2c2a3d421097e0999c8230c7e3": {
     "views": []
    },
    "de1a9210d2de4d28ac01cfebaf564cbe": {
     "views": []
    },
    "deab939e9fce4fed9f9e03b6f977b119": {
     "views": []
    },
    "dec5d9fd9b5e423f9128636ddfeea53f": {
     "views": []
    },
    "dedfee2f285b48b687aec2434d7a2639": {
     "views": []
    },
    "df2dfc6556404223ae47609fedb6d598": {
     "views": []
    },
    "df514cea1d564cb18c48afb1d4a71201": {
     "views": []
    },
    "df533ce28aa14e12b973ec774c34ece9": {
     "views": []
    },
    "df9164124f0e45ed85671b069d579cfa": {
     "views": []
    },
    "dfaf2c4896d249bebbbdcc1256b60d26": {
     "views": []
    },
    "e07d687fa14b4cf78ab6ef80ed1b4e23": {
     "views": []
    },
    "e08f2ce0a10b48a49fe028c38fa3f6e9": {
     "views": []
    },
    "e1277ec25c9a48bcb2426606261ebff6": {
     "views": []
    },
    "e2164b327d4f446698edf4430843f96d": {
     "views": []
    },
    "e21d3da00b86405aba019f61ff8887f2": {
     "views": []
    },
    "e228bb11656841f28a7f990783998d79": {
     "views": []
    },
    "e2371c069cbf4981a339a6da2ffeb5e3": {
     "views": []
    },
    "e260b781b8ee420a9dd7b282f74d0c20": {
     "views": []
    },
    "e260ebe0e0604aca987cb2d66231ca19": {
     "views": []
    },
    "e28709a685064ea3a1ec352379b5db0e": {
     "views": []
    },
    "e38aae0776cc4a35aaf9bfa2b70fbb69": {
     "views": []
    },
    "e397db79bec2486caff2d6fdfb7393a9": {
     "views": []
    },
    "e40af82bd6a64452a7ed859a6c34c699": {
     "views": []
    },
    "e475ec88b1ed443eb7f2c3b3df57b0a7": {
     "views": []
    },
    "e4ae382512044b11aa90852ba5a1e223": {
     "views": []
    },
    "e4c1473ba1fb478dae4cb89218d2d25b": {
     "views": []
    },
    "e4e346f1038a46de835ee16c640b0da5": {
     "views": []
    },
    "e508faf6f6c842d3842f5eef2eaa4331": {
     "views": []
    },
    "e51df46191834b0e9672fc773797e76a": {
     "views": []
    },
    "e5db950710a94fae9c99841760458c56": {
     "views": []
    },
    "e5ddc934cb4c4d69851918bd177b5054": {
     "views": []
    },
    "e642583bd18b42d7a39871fb4dff4a01": {
     "views": []
    },
    "e64846ad90684b099d87a728ee3b5872": {
     "views": []
    },
    "e68e2e6f91394970914cee64096e7a0a": {
     "views": []
    },
    "e6e9faf009a34d969fdea42f55eb9c55": {
     "views": []
    },
    "e752ba427d6941beb45ba3d85f64cc27": {
     "views": []
    },
    "e7c859022f444bbfb3ad648ea4394416": {
     "views": []
    },
    "e82212a65591484b9c7d0db2e0d423df": {
     "views": []
    },
    "e86bffb76f6f46c990d0b01222f94621": {
     "views": []
    },
    "e8e6fe447c094d6d8cabe4da605b8f15": {
     "views": []
    },
    "e9313fb7a1874bd0808188f7f7610655": {
     "views": []
    },
    "ea09281e82684d30857d84d59d7568ff": {
     "views": []
    },
    "ea6ac37992ea4a6ab3bbe97264286806": {
     "views": []
    },
    "ea6b174147f74aa1896af98e1fe4dab3": {
     "views": []
    },
    "ea7f23ac5136444faad34df251aa6247": {
     "views": []
    },
    "ea9aabb5e8c04ab9a159321923b01183": {
     "views": []
    },
    "eaeef955f4db4c2ab92680c27721156b": {
     "views": []
    },
    "eb0c5bc966da47c98f875c95d5451e98": {
     "views": []
    },
    "ebb34dd56cf8439f96478b6a7aeea2dc": {
     "views": []
    },
    "ebd617f0a1f844cdaa204d6402fcac6e": {
     "views": []
    },
    "ebdebcbb7ba24f26a4b5d0a1cea1bf26": {
     "views": []
    },
    "ed17fea5c36b49028709f2b7ee265dac": {
     "views": []
    },
    "ed1af23f948b405b86363e4ea93e273d": {
     "views": []
    },
    "ed41ad8e586b4bf584af28749d703716": {
     "views": []
    },
    "ed6f02e0e8ae40e3b62bf041962faadc": {
     "views": []
    },
    "edd07dc04d9d453bbc76aed5c844940c": {
     "views": []
    },
    "edfa9f55a5b84c8a96f862dadc520a70": {
     "views": []
    },
    "ee395a650ae6423b9d773fd092bb6c50": {
     "views": []
    },
    "ee7582733b3645009042c59665feda05": {
     "views": []
    },
    "eee096df8cb44740870cdeb8df1bcadb": {
     "views": []
    },
    "eef460c0df654bc9aff16070852cef9d": {
     "views": []
    },
    "ef357430cb674f278d9e12087c0312f9": {
     "views": []
    },
    "ef5b9d1845234462a2cdc30ef500d4a4": {
     "views": []
    },
    "efe05105690643c08d3277140af05a08": {
     "views": []
    },
    "f0269828b6ed445bb522a28fc14601b0": {
     "views": []
    },
    "f03567338da543469e18425891849138": {
     "views": []
    },
    "f0858299edcc41ed964829f5cb7b6ef3": {
     "views": []
    },
    "f0936000929644f7b19565b3a0ad47ff": {
     "views": []
    },
    "f0a294bbaf914e959f8527abffee2493": {
     "views": []
    },
    "f0c647468a1d40519e5a1c436dc16cc6": {
     "views": []
    },
    "f105fda164234ba19b8522fb52790c0f": {
     "views": []
    },
    "f1245a0999964999b6ad6bedf7522f3b": {
     "views": []
    },
    "f18a68f3f0ab4c0095ca2c312c5e113c": {
     "views": []
    },
    "f1d9afe9976d49178e550300dfdfa628": {
     "views": []
    },
    "f200b8df36424c0e85e3a28827f053c9": {
     "views": []
    },
    "f2b3f022e0334f0e97997dddda6843e8": {
     "views": []
    },
    "f30ce6841ef4495e8311037d8f380249": {
     "views": []
    },
    "f32c84675f504cc18e46100aab5f4979": {
     "views": []
    },
    "f35973aebba7433bbc643df047afa4c4": {
     "views": []
    },
    "f451bd4a068940ebbaea2d558ba71d89": {
     "views": []
    },
    "f45555966eab4b9abf84c9c701415de8": {
     "views": []
    },
    "f4ae3e8258e64e51b709ae87c95c873b": {
     "views": []
    },
    "f56907ac47e2483d88f3000cf9b5e786": {
     "views": []
    },
    "f56bec4c1fda4f6b98e750e20b5c6397": {
     "views": []
    },
    "f56d3c60326f46b3b3c3095ac012c207": {
     "views": []
    },
    "f571db58a89140cd9463b100258fad36": {
     "views": []
    },
    "f6d3d1bbe02549268f9d6926a947cdf9": {
     "views": []
    },
    "f70661045393429f98b205c16ee4e2cd": {
     "views": []
    },
    "f75d74ef9d294a469b036d4815e7f6aa": {
     "views": []
    },
    "f77c5ccc27e743e3bd617604fbee77a9": {
     "views": []
    },
    "f7c11fc19fba44eeb6be9bd355e1d5d4": {
     "views": []
    },
    "f7caf28f60ee42f1a31f9d6a431fa7f1": {
     "views": []
    },
    "f80594b94a6642d8b6c83ae3ffe3ce02": {
     "views": []
    },
    "f8665305cf3441868853301e1cbcba22": {
     "views": []
    },
    "f89a0e22dd1a4e7186700a9dee04847b": {
     "views": []
    },
    "f8a0b809514842399ad0fefe20256909": {
     "views": []
    },
    "f8be7ee1cf2c4b9ebc4fb323424b27d6": {
     "views": []
    },
    "f91169ae607f45999eb16962ef576457": {
     "views": []
    },
    "f91662e2da8c4a6a81eab06ee6dc79e3": {
     "views": []
    },
    "f9399aa8a4b1416bbd6d15d2807fbeb9": {
     "views": []
    },
    "f9cf9bb5db6e40bf88725d6c6679ed6b": {
     "views": []
    },
    "f9e3278cc1fc42529ea920d813d4826c": {
     "views": []
    },
    "fa7d67e5dc88497c902ad86f9e6cd177": {
     "views": []
    },
    "fa8ed24fa46a464fb188acba89c86e84": {
     "views": []
    },
    "fa91b8dabf844bc3938e5a96fe1020d8": {
     "views": []
    },
    "fad33f90322943e3971798180c7cce43": {
     "views": []
    },
    "fb0ecb0fafe7483ea24ed99c1a125af9": {
     "views": []
    },
    "fb3cbc68898840e1a8955f87b9a74c21": {
     "views": []
    },
    "fb41997538994323abc8e008c31e72ce": {
     "views": []
    },
    "fc91785ccbd441df8fd2756bfa83eb74": {
     "views": []
    },
    "fcd72a2ff6e24f049ebc1982d746ea8d": {
     "views": []
    },
    "fdf6100df4754276889e09a71980038b": {
     "views": []
    },
    "fe0513d4ae10407281f22f2517ef67bf": {
     "views": []
    },
    "fe4ec00d36af482bb94aa45419cf41e9": {
     "views": []
    },
    "feb0c8ba6a5b4e05a8d307a5a7ac5638": {
     "views": []
    },
    "ff01e5a865e540c6880cba05fba8186e": {
     "views": []
    },
    "ff8e7e5f37904e388d947ab694d15123": {
     "views": []
    },
    "ffa6732c106844acade002665bc6b18b": {
     "views": []
    },
    "ffc33f15bb324f0097739da14bfed7c7": {
     "views": []
    },
    "ffee90cde40f4328b98ca2aee7c975a2": {
     "views": []
    }
   },
   "version": "1.1.2"
  }
 },
 "nbformat": 4,
 "nbformat_minor": 0
}
