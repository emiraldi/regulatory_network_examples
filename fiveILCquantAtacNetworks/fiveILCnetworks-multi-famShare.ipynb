{
 "cells": [
  {
   "cell_type": "code",
   "execution_count": 1,
   "metadata": {
    "collapsed": true
   },
   "outputs": [],
   "source": [
    "# Visualization of ILC networks gotten by looking at the union rather than setdiff networks\n",
    "# Shares motifs among TF family members\n",
    "\n",
    "directory = \"/Users/emiraldi/erm/Shared/Jason-Maria-Emily/fiveILCquantAtacNetworks\"\n",
    "# netPath = \"ILCs150523_qc_max4_body_bp10000_pFDR10_FC1_gFDR10_FC1/ILCnets_pFDR10_FC1_gFDR10_FC1_rawp0001_hyg001\"\n",
    "netPath = \"ILCs150523_qc_max4_body_bp10000_pFDR10_FC1_gFDR10_FC1/ILCnets_pFDR10_FC1_gFDR10_FC1_rawp0001_hyg001_famShare\"\n",
    "\n",
    "# networkInits is a list of tuples (network file, sample to color expression, title of network)\n",
    "networkInits = [('ILC1_SI_sp.tsv','ILC1_SI_3','ILC1, SI'),\n",
    "    ('NK_SI_sp.tsv','NK_SI_3','NK, SI'),\n",
    "    ('CCR6mILC3_SI_sp.tsv','CCR6-ILC3_SI_3','CCR6-ILC3, SI'),\n",
    "    ('CCR6mILC3_LI_sp.tsv','CCR6-ILC3_LI_1','CCR6-ILC3, LI'),\n",
    "    ('CCR6pILC3_SI_sp.tsv','CCR6+ILC3s_SI_3','CCR6+ILC3, SI'),\n",
    "    ('CCR6pILC3_LI_sp.tsv','CCR6+ILC3s_LI_1','CCR+ILC3,LI'),\n",
    "    ('ILC2_SI_sp.tsv','ILC2_SI_2','ILC2, SI'),\n",
    "    ('ILC2_LI_sp.tsv','ILC2_LI_2','ILC2, LI')]\n",
    "\n",
    "expressionFile = \"fineILCs_uv156_VSTcounts_zscore_FDR10_genes_clust.tsv\"\n",
    "\n",
    "threshhold = .2"
   ]
  },
  {
   "cell_type": "code",
   "execution_count": 2,
   "metadata": {
    "collapsed": false
   },
   "outputs": [
    {
     "data": {
      "application/javascript": [
       "\n",
       "// imitating ipywidgets/docs/source/examples/Custom Widget - Hello World.ipynb\n",
       "\n",
       "//require([\"widgets/js/widget\", \"widgets/js/manager\"], function(widget, manager){\n",
       "\n",
       "require.undef(\"SVGCanvas\");\n",
       "\n",
       "define(\"SVGCanvas\", [\"jupyter-js-widgets\"], function(widgets) {\n",
       "    \n",
       "    var svgEventHandlerFactory = function(that) {\n",
       "        var svgEventHandler = function(e) {\n",
       "            var target = e.target;\n",
       "            var info = {};\n",
       "            for (var attr in e) {\n",
       "                var val = e[attr];\n",
       "                var ty = (typeof val);\n",
       "                if ((ty == \"number\") ||\n",
       "                    (ty == \"string\") ||\n",
       "                    (ty == \"boolean\")) {\n",
       "                    info[attr] = val;\n",
       "                }\n",
       "            }\n",
       "            info.name = target.ipy_name;\n",
       "            var ept = SVGEventLocation(that, e);\n",
       "            info.svgX = ept.x;\n",
       "            info.svgY = ept.y;\n",
       "            var json = JSON.stringify(info);\n",
       "            that.model.set(\"event\", json);\n",
       "            that.touch();\n",
       "        };\n",
       "        return svgEventHandler;\n",
       "    };\n",
       "\n",
       "    var SVGEventLocation = function(that, e) {\n",
       "        // http://stackoverflow.com/questions/10298658/mouse-position-inside-autoscaled-svg\n",
       "        var pt = that.reference_point;\n",
       "        var svg = that.$svg[0];\n",
       "        pt.x = e.clientX;\n",
       "        pt.y = e.clientY;\n",
       "        return pt.matrixTransform(svg.getScreenCTM().inverse());\n",
       "    }\n",
       "    \n",
       "    var SVGCanvasView = widgets.DOMWidgetView.extend({\n",
       "        \n",
       "        render: function() {\n",
       "            var that = this;\n",
       "            var svg = that.svg_elt(\"svg\");\n",
       "            var eventHandler = svgEventHandlerFactory(that);\n",
       "            that.eventHandler = eventHandler;\n",
       "            that.named_elements = {};\n",
       "            svg.ipy_name = \"\";\n",
       "            that.$svg = $(svg);\n",
       "            that.reference_point = svg.createSVGPoint();\n",
       "            svg.setAttribute(\"preserveAspectRatio\", \"none\");\n",
       "            that.$el.append(that.$svg);\n",
       "            that.svg_parameters_changed();\n",
       "            that.commands_changed();\n",
       "            that.start_watch_event();\n",
       "            that.model.on(\"change:commands\", that.commands_changed, that);\n",
       "            that.model.on(\"change:viewBox\", that.svg_parameters_changed, that);\n",
       "            that.model.on(\"change:svg_width\", that.svg_parameters_changed, that);\n",
       "            that.model.on(\"change:svg_height\", that.svg_parameters_changed, that);\n",
       "            that.model.on(\"change:style\", that.svg_parameters_changed, that);\n",
       "            that.model.on(\"change:watch_event\", that.start_watch_event, that);\n",
       "            that.model.on(\"change:unwatch_event\", that.stop_watch_event, that);\n",
       "        },\n",
       "        \n",
       "        start_watch_event: function() {\n",
       "            var that = this;\n",
       "            var event_types = that.model.get(\"watch_event\");\n",
       "            if (event_types != \"\") {\n",
       "                that.$svg.on(event_types, that.eventHandler);\n",
       "                that.model.set(\"watch_event\", \"\");\n",
       "                that.touch();\n",
       "            }\n",
       "        },\n",
       "        \n",
       "        stop_watch_event: function() {\n",
       "            var that = this;\n",
       "            var event_types = that.model.get(\"unwatch_event\");\n",
       "            if (event_types != \"\") {\n",
       "                that.$svg.off(event_types);\n",
       "                that.model.set(\"watch_event\", \"\");\n",
       "                that.touch();\n",
       "            }\n",
       "        },\n",
       "        \n",
       "        commands_changed: function() {\n",
       "            var that = this;\n",
       "            var svg = that.$svg[0];\n",
       "            var commands = that.get_JSON(\"commands\")\n",
       "            for (var i=0; i<commands.length; i++) {\n",
       "                var command_dict = commands[i];\n",
       "                var indicator = command_dict[\"command\"];\n",
       "                var method = that[\"do_\"+indicator];\n",
       "                method(that, command_dict);\n",
       "            }\n",
       "        },\n",
       "\n",
       "        do_fit: function(that, info) {\n",
       "            // fit viewport to bounding box.\n",
       "            var svg = that.$svg[0];\n",
       "            var bbox = svg.getBBox();\n",
       "            var D = {\"width\": bbox.width, \"height\": bbox.height, \"x\": bbox.x, \"y\": bbox.y}\n",
       "            var vbox = \"\" + D.x + \" \" + D.y + \" \" + D.width + \" \" + D.height;\n",
       "            if ((D.width > 0) && (D.height > 0)) {\n",
       "                that.model.set(\"boundingBox\", D);\n",
       "                if (info.changeView) {\n",
       "                    that.model.set(\"viewBox\", vbox);\n",
       "                }\n",
       "                // Element viewBox will be updated later by model change.\n",
       "                that.touch();\n",
       "            }\n",
       "        },\n",
       "        \n",
       "        do_add_element: function (that, info) {\n",
       "            var tag = info.tag;\n",
       "            var name = info.name;\n",
       "            var element = that.svg_elt(tag);\n",
       "            element.ipy_name = name;\n",
       "            var $element = $(element);\n",
       "            that.update_element($element, info);\n",
       "            // add event callbacks\n",
       "            that.$svg.append($element);\n",
       "            that.named_elements[name] = $element;\n",
       "        },\n",
       "        \n",
       "        do_change_element: function (that, info) {\n",
       "            var name = info.name;\n",
       "            var $element = that.named_elements[name];\n",
       "            if ($element) {\n",
       "                that.update_element($element, info);\n",
       "            } else {\n",
       "                console.warn(\"couldn't find element for \"+name);\n",
       "            }\n",
       "        },\n",
       "        \n",
       "        do_delete: function (that, info) {\n",
       "            var names = info.names;\n",
       "            for (var i=0; i<names.length; i++) {\n",
       "                var name = names[i];\n",
       "                var $element = that.named_elements[name];\n",
       "                if ($element) {\n",
       "                    $element.remove();\n",
       "                    delete that.named_elements[name];\n",
       "                }\n",
       "            }\n",
       "        },\n",
       "        \n",
       "        update_element: function($element, info) {\n",
       "            var element = $element[0];\n",
       "            var atts = info.atts;\n",
       "            var style = info.style;\n",
       "            var text = info.text;\n",
       "            if (atts) {\n",
       "                for (var att in atts) {\n",
       "                    element.setAttribute(att, atts[att]);\n",
       "                }\n",
       "            }\n",
       "            if (style) {\n",
       "                for (var styling in style) {\n",
       "                    element.style[styling] = style[styling];\n",
       "                }\n",
       "            }\n",
       "            if (text) {\n",
       "                $element.empty();\n",
       "                var node = document.createTextNode(text);\n",
       "                element.appendChild(node);\n",
       "            }\n",
       "        },\n",
       "        \n",
       "        do_empty: function (that, info) {\n",
       "            that.named_elements = {};\n",
       "            that.$svg.empty();\n",
       "        },\n",
       "        \n",
       "        svg_parameters_changed: function() {\n",
       "            var that = this;\n",
       "            var style_additions = that.get_JSON(\"style\");\n",
       "            var svg = that.$svg[0];\n",
       "            svg.setAttribute(\"viewBox\", that.model.get(\"viewBox\"));\n",
       "            svg.setAttribute(\"width\", that.model.get(\"svg_width\"));\n",
       "            svg.setAttribute(\"height\", that.model.get(\"svg_height\"));\n",
       "            for (var style_attr in style_additions) {\n",
       "                svg.style[style_attr] = style_additions[style_attr];\n",
       "            }\n",
       "        },\n",
       "        \n",
       "        get_JSON: function(name) {\n",
       "            var json = this.model.get(name);\n",
       "            return $.parseJSON(json);\n",
       "        },\n",
       "        \n",
       "        svg_elt: function(kind) {\n",
       "            return document.createElementNS('http://www.w3.org/2000/svg', kind);\n",
       "        }\n",
       "        \n",
       "    });\n",
       "    \n",
       "    //manager.WidgetManager.register_widget_view('SVGCanvasView', SVGCanvasView);\n",
       "    return {\n",
       "        SVGCanvasView: SVGCanvasView\n",
       "    }\n",
       "});\n"
      ],
      "text/plain": [
       "<IPython.core.display.Javascript object>"
      ]
     },
     "metadata": {},
     "output_type": "display_data"
    },
    {
     "data": {
      "application/javascript": [
       "\n",
       "// This is the javascript side to match js_proxy.py.\n",
       "// See js_proxy.py for an explanation of the command transfer\n",
       "// protocol\n",
       "\n",
       "// imitating ipywidgets/docs/source/examples/Custom Widget - Hello World.ipynb\n",
       "\n",
       "//require([\"widgets/js/widget\", \"widgets/js/manager\", \"underscore\", \"jquery\"\n",
       "//], function(widget, manager, _, $) {\n",
       "\n",
       "require.undef(\"JSProxy\");\n",
       "\n",
       "define(\"JSProxy\", [\"jupyter-js-widgets\"], function(widgets) {\n",
       "\n",
       "    var JSProxyView = widgets.DOMWidgetView.extend({\n",
       "\n",
       "        render: function() {\n",
       "            var that = this;\n",
       "            that.on(\"displayed\", function() {\n",
       "                that.update();\n",
       "            });\n",
       "            // Wrap $el as a proper jQuery object\n",
       "            that.$$el = $(that.$el);\n",
       "            // \"new\" keyword emulation\n",
       "            // http://stackoverflow.com/questions/17342497/dynamically-control-arguments-while-creating-objects-in-javascript\n",
       "            that.$$el.New = function(klass, args) {\n",
       "                var obj = Object.create(klass.prototype);\n",
       "                return klass.apply(obj, args) || obj;\n",
       "            };\n",
       "\n",
       "            // fix key bindings for wayward element.\n",
       "            // XXXX This is a bit of a hack that may not be needed in future\n",
       "            // Jupyter releases.\n",
       "            that.$$el.Fix = function(element) {\n",
       "                debugger;\n",
       "                that.model.widget_manager.keyboard_manager.register_events(element);\n",
       "            };\n",
       "        },\n",
       "\n",
       "        update: function(options) {\n",
       "            var that = this;\n",
       "            var commands = that.model.get(\"commands\");\n",
       "            if (commands.length >= 2) {\n",
       "                var command_counter = commands[0];\n",
       "                var command_list = commands[1];\n",
       "                var level = commands[2];\n",
       "                level = that.check_level(level);\n",
       "                var results = [];\n",
       "                _.each(command_list, function(command,i) {\n",
       "                    var result = that.execute_command(command);\n",
       "                    results[i] = that.json_safe(result, level);\n",
       "                });\n",
       "                that.model.set(\"commands\", []);\n",
       "                that.model.set(\"results\", [command_counter, results])\n",
       "                that.touch();\n",
       "            }\n",
       "        },\n",
       "\n",
       "        execute_command: function(command) {\n",
       "            var that = this;\n",
       "            var result = command;\n",
       "            if ($.isArray(command)) {\n",
       "                var indicator = command[0];\n",
       "                var remainder = command.slice();\n",
       "                remainder.shift();\n",
       "                if (indicator == \"element\") {\n",
       "                    // Make sure the element is wrapped as a proper JQuery(UI) object\n",
       "                    if (!that.$$el) {\n",
       "                        that.$$el = $(that.$el);\n",
       "                    }\n",
       "                    result = that.$$el;\n",
       "                } else if (indicator == \"window\") {\n",
       "                    result = window;\n",
       "                } else if (indicator == \"method\") {\n",
       "                    var target_desc = remainder.shift();\n",
       "                    var target = that.execute_command(target_desc);\n",
       "                    var name = remainder.shift();\n",
       "                    var args = remainder.map(that.execute_command, that);\n",
       "                    var method = target[name];\n",
       "                    if (method) {\n",
       "                        result = method.apply(target, args);\n",
       "                    } else {\n",
       "                        result = \"In \" + target + \" no such method \" + name;\n",
       "                    }\n",
       "                } else if (indicator == \"function\") {\n",
       "                    var function_desc = remainder.shift();\n",
       "                    var function_value = that.execute_command(function_desc);\n",
       "                    var args = remainder.map(that.execute_command, that);\n",
       "                    // Use \"that\" as the \"this\" value for function values?\n",
       "                    result = function_value.apply(that, args);\n",
       "                } else if (indicator == \"id\") {\n",
       "                    result = remainder[0];\n",
       "                } else if (indicator == \"list\") {\n",
       "                    result = remainder.map(that.execute_command, that);\n",
       "                } else if (indicator == \"dict\") {\n",
       "                    result = {}\n",
       "                    var desc = remainder[0];\n",
       "                    for (var key in desc) {\n",
       "                        var key_desc = desc[key];\n",
       "                        var val = that.execute_command(key_desc);\n",
       "                        result[key] = val;\n",
       "                    }\n",
       "                } else if (indicator == \"callback\") {\n",
       "                    var identifier = remainder.shift();\n",
       "                    var data = remainder.shift();\n",
       "                    var level = remainder.shift();\n",
       "                    // sanity check\n",
       "                    level = that.check_level(level);\n",
       "                    result = that.callback_factory(identifier, data, level);\n",
       "                } else if (indicator == \"get\") {\n",
       "                    var target_desc = remainder.shift();\n",
       "                    var target = that.execute_command(target_desc);\n",
       "                    var name = remainder.shift();\n",
       "                    try {\n",
       "                        result = target[name];\n",
       "                    } catch(err) {\n",
       "                        result = \"failed to get \"+name+\" from \"+target+\" :: \"+err;\n",
       "                    }\n",
       "                } else if (indicator == \"set\") {\n",
       "                    var target_desc = remainder.shift();\n",
       "                    var target = that.execute_command(target_desc);\n",
       "                    var name = remainder.shift();\n",
       "                    var value_desc = remainder.shift()\n",
       "                    var value = that.execute_command(value_desc);\n",
       "                    target[name] = value;\n",
       "                    result = target;\n",
       "                } else if (indicator == \"null\") {\n",
       "                    target_desc = remainder.shift();\n",
       "                    that.execute_command(target_desc);\n",
       "                    result = null;\n",
       "                } else {\n",
       "                    result = \"Unknown indicator \" + indicator;\n",
       "                }\n",
       "            }\n",
       "            return result;\n",
       "        },\n",
       "\n",
       "        check_level: function(level) {\n",
       "            if ((typeof level) != \"number\" || (level < 0)) {\n",
       "                level = 0;\n",
       "            } else if (level > 5) {\n",
       "                level = 5;\n",
       "            }\n",
       "            return level;\n",
       "        },\n",
       "\n",
       "        callback_factory: function(identifier, data, level) {\n",
       "            var that = this;\n",
       "            // Counter makes sure change is noticed even if other arguments don't change.\n",
       "            var counter = 0;\n",
       "            var handler = function () {\n",
       "                counter += 1;\n",
       "                var payload = that.json_safe([identifier, data, arguments, counter], level + 1);\n",
       "                that.model.set(\"callback_results\", payload);\n",
       "                that.touch();\n",
       "            };\n",
       "            return handler;\n",
       "        },\n",
       "\n",
       "        json_safe: function(val, depth) {\n",
       "            // maybe expand later as need arises\n",
       "            var that = this;\n",
       "            var ty = (typeof val);\n",
       "            if ((ty == \"number\") || (ty == \"string\") || (ty == \"boolean\")) {\n",
       "                return val;\n",
       "            }\n",
       "            if (!val) {\n",
       "                // translate all other falsies to None\n",
       "                return null;\n",
       "            }\n",
       "            if (((typeof depth) == \"number\") && (depth > 0)) {\n",
       "                if ($.isArray(val)) {\n",
       "                    var result = [];\n",
       "                    _.each(val, function(elt, i) {\n",
       "                        var r = that.json_safe(elt, depth-1);\n",
       "                        if (r != null) {\n",
       "                            result[i] = r;\n",
       "                        }\n",
       "                    });\n",
       "                    return result;\n",
       "                } else {\n",
       "                    var result = {};\n",
       "                    for (var key in val) {\n",
       "                        var jv = that.json_safe(val[key], depth-1);\n",
       "                        if (jv != null) {\n",
       "                            result[key] = jv;\n",
       "                        }\n",
       "                    }\n",
       "                    return result;\n",
       "                }\n",
       "            }\n",
       "            return null;\n",
       "        }\n",
       "\n",
       "    });\n",
       "\n",
       "    //manager.WidgetManager.register_widget_view('JSProxyView', JSProxyView);\n",
       "    return {\n",
       "        JSProxyView: JSProxyView\n",
       "    }\n",
       "});\n"
      ],
      "text/plain": [
       "<IPython.core.display.Javascript object>"
      ]
     },
     "metadata": {},
     "output_type": "display_data"
    },
    {
     "data": {
      "application/javascript": [
       "/*\n",
       "jQuery plugin for a color arrow cursor over an element.\n",
       "\n",
       "Based on\n",
       "http://stackoverflow.com/questions/18779354/assign-color-to-mouse-cursor-using-css\n",
       "*/\n",
       "\n",
       "(function ($) {\n",
       "\n",
       "    $.fn.color_cursor = function(color) {\n",
       "        var that = this;\n",
       "        var cvs = document.createElement(\"canvas\");\n",
       "        cvs.height = 16;\n",
       "        cvs.width = 16;\n",
       "        var ctx = cvs.getContext(\"2d\");\n",
       "        ctx.strokeStyle = color;\n",
       "        ctx.lineWidth = 4;\n",
       "        ctx.lineCap = \"round\";\n",
       "        ctx.moveTo(2, 12);\n",
       "        ctx.lineTo(2, 2);\n",
       "        ctx.lineTo(12, 2);\n",
       "        ctx.moveTo(2, 2);\n",
       "        ctx.lineTo(30, 30)    \n",
       "        ctx.stroke();\n",
       "        var url = cvs.toDataURL();\n",
       "        that.css(\"cursor\", \"url(\" + url + '), auto');\n",
       "        return that;\n",
       "    };\n",
       "\n",
       "    $.fn.color_cursor_reset = function () {\n",
       "        this.css(\"cursor\", \"\");\n",
       "        return this;\n",
       "    };\n",
       "\n",
       "    $.fn.color_cursor.example = function (element) {\n",
       "        debugger;\n",
       "        var d = $(\"<div>Cursor should be red over me. Click to reset.</div>\")\n",
       "            .color_cursor(\"red\");\n",
       "        var reset = function() {\n",
       "            d.color_cursor_reset();\n",
       "            d.html(\"Now the cursor should be normal\");\n",
       "        }\n",
       "        d.click(reset);\n",
       "        element.append(d);\n",
       "        return element;\n",
       "    };\n",
       "\n",
       "})(jQuery)\n"
      ],
      "text/plain": [
       "<IPython.core.display.Javascript object>"
      ]
     },
     "metadata": {},
     "output_type": "display_data"
    }
   ],
   "source": [
    "import sys\n",
    "if \"..\" not in sys.path:\n",
    "    sys.path.append(\"..\")\n",
    "from jp_gene_viz import dNetwork\n",
    "dNetwork.load_javascript_support()\n",
    "from jp_gene_viz import multiple_network\n",
    "from jp_gene_viz import LExpression\n",
    "LExpression.load_javascript_support()\n",
    "# from jp_gene_viz import motif_data\n",
    "# C = motif_data.MotifCollection()\n",
    "# # for extra safety \"rU\" reads with universal line ending support\n",
    "# C.read_meme_file(open(directory + '/' + \"mm9_em.meme\", \"rU\"))\n",
    "# C.read_meme_file(open(directory + '/' + \"hg19_em.meme\", \"rU\"))"
   ]
  },
  {
   "cell_type": "code",
   "execution_count": 3,
   "metadata": {
    "collapsed": false
   },
   "outputs": [
    {
     "name": "stdout",
     "output_type": "stream",
     "text": [
      "/Users/emiraldi/erm/Shared/Jason-Maria-Emily/fiveILCquantAtacNetworks/ILCs150523_qc_max4_body_bp10000_pFDR10_FC1_gFDR10_FC1/ILCnets_pFDR10_FC1_gFDR10_FC1_rawp0001_hyg001_famShare/ILC1_SI_sp.tsv\n",
      "('Reading network', '/Users/emiraldi/erm/Shared/Jason-Maria-Emily/fiveILCquantAtacNetworks/ILCs150523_qc_max4_body_bp10000_pFDR10_FC1_gFDR10_FC1/ILCnets_pFDR10_FC1_gFDR10_FC1_rawp0001_hyg001_famShare/ILC1_SI_sp.tsv')\n",
      "Computing layout\n",
      "('Saving layout', '/Users/emiraldi/erm/Shared/Jason-Maria-Emily/fiveILCquantAtacNetworks/ILCs150523_qc_max4_body_bp10000_pFDR10_FC1_gFDR10_FC1/ILCnets_pFDR10_FC1_gFDR10_FC1_rawp0001_hyg001_famShare/ILC1_SI_sp.tsv.layout.json')\n",
      "/Users/emiraldi/erm/Shared/Jason-Maria-Emily/fiveILCquantAtacNetworks/ILCs150523_qc_max4_body_bp10000_pFDR10_FC1_gFDR10_FC1/ILCnets_pFDR10_FC1_gFDR10_FC1_rawp0001_hyg001_famShare/NK_SI_sp.tsv\n",
      "('Reading network', '/Users/emiraldi/erm/Shared/Jason-Maria-Emily/fiveILCquantAtacNetworks/ILCs150523_qc_max4_body_bp10000_pFDR10_FC1_gFDR10_FC1/ILCnets_pFDR10_FC1_gFDR10_FC1_rawp0001_hyg001_famShare/NK_SI_sp.tsv')\n",
      "Computing layout\n",
      "('Saving layout', '/Users/emiraldi/erm/Shared/Jason-Maria-Emily/fiveILCquantAtacNetworks/ILCs150523_qc_max4_body_bp10000_pFDR10_FC1_gFDR10_FC1/ILCnets_pFDR10_FC1_gFDR10_FC1_rawp0001_hyg001_famShare/NK_SI_sp.tsv.layout.json')\n",
      "/Users/emiraldi/erm/Shared/Jason-Maria-Emily/fiveILCquantAtacNetworks/ILCs150523_qc_max4_body_bp10000_pFDR10_FC1_gFDR10_FC1/ILCnets_pFDR10_FC1_gFDR10_FC1_rawp0001_hyg001_famShare/CCR6mILC3_SI_sp.tsv\n",
      "('Reading network', '/Users/emiraldi/erm/Shared/Jason-Maria-Emily/fiveILCquantAtacNetworks/ILCs150523_qc_max4_body_bp10000_pFDR10_FC1_gFDR10_FC1/ILCnets_pFDR10_FC1_gFDR10_FC1_rawp0001_hyg001_famShare/CCR6mILC3_SI_sp.tsv')\n",
      "Computing layout\n",
      "('Saving layout', '/Users/emiraldi/erm/Shared/Jason-Maria-Emily/fiveILCquantAtacNetworks/ILCs150523_qc_max4_body_bp10000_pFDR10_FC1_gFDR10_FC1/ILCnets_pFDR10_FC1_gFDR10_FC1_rawp0001_hyg001_famShare/CCR6mILC3_SI_sp.tsv.layout.json')\n",
      "/Users/emiraldi/erm/Shared/Jason-Maria-Emily/fiveILCquantAtacNetworks/ILCs150523_qc_max4_body_bp10000_pFDR10_FC1_gFDR10_FC1/ILCnets_pFDR10_FC1_gFDR10_FC1_rawp0001_hyg001_famShare/CCR6mILC3_LI_sp.tsv\n",
      "('Reading network', '/Users/emiraldi/erm/Shared/Jason-Maria-Emily/fiveILCquantAtacNetworks/ILCs150523_qc_max4_body_bp10000_pFDR10_FC1_gFDR10_FC1/ILCnets_pFDR10_FC1_gFDR10_FC1_rawp0001_hyg001_famShare/CCR6mILC3_LI_sp.tsv')\n",
      "Computing layout\n",
      "('Saving layout', '/Users/emiraldi/erm/Shared/Jason-Maria-Emily/fiveILCquantAtacNetworks/ILCs150523_qc_max4_body_bp10000_pFDR10_FC1_gFDR10_FC1/ILCnets_pFDR10_FC1_gFDR10_FC1_rawp0001_hyg001_famShare/CCR6mILC3_LI_sp.tsv.layout.json')\n",
      "/Users/emiraldi/erm/Shared/Jason-Maria-Emily/fiveILCquantAtacNetworks/ILCs150523_qc_max4_body_bp10000_pFDR10_FC1_gFDR10_FC1/ILCnets_pFDR10_FC1_gFDR10_FC1_rawp0001_hyg001_famShare/CCR6pILC3_SI_sp.tsv\n",
      "('Reading network', '/Users/emiraldi/erm/Shared/Jason-Maria-Emily/fiveILCquantAtacNetworks/ILCs150523_qc_max4_body_bp10000_pFDR10_FC1_gFDR10_FC1/ILCnets_pFDR10_FC1_gFDR10_FC1_rawp0001_hyg001_famShare/CCR6pILC3_SI_sp.tsv')\n",
      "Computing layout\n",
      "('Saving layout', '/Users/emiraldi/erm/Shared/Jason-Maria-Emily/fiveILCquantAtacNetworks/ILCs150523_qc_max4_body_bp10000_pFDR10_FC1_gFDR10_FC1/ILCnets_pFDR10_FC1_gFDR10_FC1_rawp0001_hyg001_famShare/CCR6pILC3_SI_sp.tsv.layout.json')\n",
      "/Users/emiraldi/erm/Shared/Jason-Maria-Emily/fiveILCquantAtacNetworks/ILCs150523_qc_max4_body_bp10000_pFDR10_FC1_gFDR10_FC1/ILCnets_pFDR10_FC1_gFDR10_FC1_rawp0001_hyg001_famShare/CCR6pILC3_LI_sp.tsv\n",
      "('Reading network', '/Users/emiraldi/erm/Shared/Jason-Maria-Emily/fiveILCquantAtacNetworks/ILCs150523_qc_max4_body_bp10000_pFDR10_FC1_gFDR10_FC1/ILCnets_pFDR10_FC1_gFDR10_FC1_rawp0001_hyg001_famShare/CCR6pILC3_LI_sp.tsv')\n",
      "Computing layout\n",
      "('Saving layout', '/Users/emiraldi/erm/Shared/Jason-Maria-Emily/fiveILCquantAtacNetworks/ILCs150523_qc_max4_body_bp10000_pFDR10_FC1_gFDR10_FC1/ILCnets_pFDR10_FC1_gFDR10_FC1_rawp0001_hyg001_famShare/CCR6pILC3_LI_sp.tsv.layout.json')\n",
      "/Users/emiraldi/erm/Shared/Jason-Maria-Emily/fiveILCquantAtacNetworks/ILCs150523_qc_max4_body_bp10000_pFDR10_FC1_gFDR10_FC1/ILCnets_pFDR10_FC1_gFDR10_FC1_rawp0001_hyg001_famShare/ILC2_SI_sp.tsv\n",
      "('Reading network', '/Users/emiraldi/erm/Shared/Jason-Maria-Emily/fiveILCquantAtacNetworks/ILCs150523_qc_max4_body_bp10000_pFDR10_FC1_gFDR10_FC1/ILCnets_pFDR10_FC1_gFDR10_FC1_rawp0001_hyg001_famShare/ILC2_SI_sp.tsv')\n",
      "Computing layout\n",
      "('Saving layout', '/Users/emiraldi/erm/Shared/Jason-Maria-Emily/fiveILCquantAtacNetworks/ILCs150523_qc_max4_body_bp10000_pFDR10_FC1_gFDR10_FC1/ILCnets_pFDR10_FC1_gFDR10_FC1_rawp0001_hyg001_famShare/ILC2_SI_sp.tsv.layout.json')\n",
      "/Users/emiraldi/erm/Shared/Jason-Maria-Emily/fiveILCquantAtacNetworks/ILCs150523_qc_max4_body_bp10000_pFDR10_FC1_gFDR10_FC1/ILCnets_pFDR10_FC1_gFDR10_FC1_rawp0001_hyg001_famShare/ILC2_LI_sp.tsv\n",
      "('Reading network', '/Users/emiraldi/erm/Shared/Jason-Maria-Emily/fiveILCquantAtacNetworks/ILCs150523_qc_max4_body_bp10000_pFDR10_FC1_gFDR10_FC1/ILCnets_pFDR10_FC1_gFDR10_FC1_rawp0001_hyg001_famShare/ILC2_LI_sp.tsv')\n",
      "Computing layout\n",
      "('Saving layout', '/Users/emiraldi/erm/Shared/Jason-Maria-Emily/fiveILCquantAtacNetworks/ILCs150523_qc_max4_body_bp10000_pFDR10_FC1_gFDR10_FC1/ILCnets_pFDR10_FC1_gFDR10_FC1_rawp0001_hyg001_famShare/ILC2_LI_sp.tsv.layout.json')\n"
     ]
    }
   ],
   "source": [
    "# Load network objects\n",
    "networkDic = dict()  # dictionary: keys = network Inf, items = network object, which we will add to later\n",
    "\n",
    "for networkInf in networkInits:\n",
    "    networkFile = networkInf[0]\n",
    "    curr = LExpression.LinkedExpressionNetwork()\n",
    "    print directory + '/' + netPath + '/' + networkFile\n",
    "    try:\n",
    "        curr.load_network(directory + '/' + netPath + '/' + networkFile)  \n",
    "    except AssertionError:\n",
    "        directory = \".\"\n",
    "        curr.load_network(directory + '/' + netPath + '/' + networkFile)\n",
    "    networkDic[networkInf] = curr\n",
    "\n",
    "    "
   ]
  },
  {
   "cell_type": "code",
   "execution_count": null,
   "metadata": {
    "collapsed": true
   },
   "outputs": [],
   "source": [
    "# visualize the networks -- HARD CODED for our two networks of interest:\n",
    "M = multiple_network.MultipleNetworks(\n",
    "    [[networkDic[networkInits[0]], networkDic[networkInits[1]]],\n",
    "    [networkDic[networkInits[2]], networkDic[networkInits[3]]],\n",
    "    [networkDic[networkInits[4]], networkDic[networkInits[5]]],\n",
    "    [networkDic[networkInits[6]], networkDic[networkInits[7]]]])\n",
    "M.svg_width = 500\n",
    "M.show() "
   ]
  },
  {
   "cell_type": "code",
   "execution_count": 6,
   "metadata": {
    "collapsed": false
   },
   "outputs": [],
   "source": [
    "# Set network preferences\n",
    "count = 0\n",
    "for networkInf in networkDic.keys():\n",
    "    # get title information + curr column for shading of figures\n",
    "    curr = networkDic[networkInf]\n",
    "    \n",
    "    # set threshold\n",
    "    curr.network.threshhold_slider.value = threshhold\n",
    "    curr.network.apply_click(None)\n",
    "    \n",
    "    # set title\n",
    "    titleInf = networkInf[2]\n",
    "    curr.network.title_html.value = titleInf\n",
    "\n",
    "    # add labels\n",
    "    curr.network.labels_button.value=True  \n",
    "    curr.network.draw_click(None)\n",
    "\n",
    "    # Load heatmap\n",
    "    curr.load_heatmap(directory + '/' + expressionFile)\n",
    "    # color nodes according to a sample column in the gene expression matrix\n",
    "    curr.gene_click(None)    \n",
    "    currCol = networkInf[1].lower()\n",
    "    curr.expression.col = currCol    \n",
    "    curr.condition_click(None)\n",
    "    \n",
    "    # Attach the motif collection populated above:  NO WAY!\n",
    "#     curr.motif_collection = C\n"
   ]
  },
  {
   "cell_type": "code",
   "execution_count": null,
   "metadata": {
    "collapsed": true
   },
   "outputs": [],
   "source": []
  }
 ],
 "metadata": {
  "kernelspec": {
   "display_name": "Python 2",
   "language": "python",
   "name": "python2"
  },
  "language_info": {
   "codemirror_mode": {
    "name": "ipython",
    "version": 2
   },
   "file_extension": ".py",
   "mimetype": "text/x-python",
   "name": "python",
   "nbconvert_exporter": "python",
   "pygments_lexer": "ipython2",
   "version": "2.7.10"
  },
  "widgets": {
   "state": {
    "000b3f4609534bf0be24e99ca7c492d7": {
     "views": []
    },
    "0039bd6ad95a48d1bbca180b57fe79c0": {
     "views": []
    },
    "004dfb28abc14b41b39fe573a32d5a73": {
     "views": []
    },
    "00a719d69a5f4cac94f20ff47891be54": {
     "views": []
    },
    "00b83c9989df4c13ae87b3739934920d": {
     "views": []
    },
    "0106d5c2fdd042609c6b1a05c725ac43": {
     "views": []
    },
    "0115c08cfa584fc1bd41c8ac37e732cf": {
     "views": []
    },
    "011fb17033e44dbfb707d79c306f2d0e": {
     "views": []
    },
    "013f7bce09744472ad96f55bf8d51605": {
     "views": []
    },
    "017fda430b74444f8803b5c553942b12": {
     "views": []
    },
    "0183387796e745afa328b2133cd65476": {
     "views": []
    },
    "0183ea20cb494e588f204d393d6dcbce": {
     "views": []
    },
    "01a35fab0139414bb02ccf6551579ad5": {
     "views": []
    },
    "01b3842b4c824fa1a06855de14a8ba93": {
     "views": []
    },
    "021efb414492457284bcd93e6d8160ef": {
     "views": []
    },
    "0221c6767eb54e80a4c8592f2a02dd41": {
     "views": []
    },
    "023b8443932f4eaa8bbe55bcb3bf5f73": {
     "views": []
    },
    "023d13bb38694ca18cce29630e379c64": {
     "views": []
    },
    "024294cbe9f245fb9a7b2e905a88df88": {
     "views": []
    },
    "02915bda54094f00a602b75bcbc8ddb7": {
     "views": []
    },
    "0292dc6eb8674fe5b8a0c614642cc892": {
     "views": []
    },
    "0305c593491b405891e5f1cac4b14657": {
     "views": []
    },
    "036011b7cbee4a01a637f93dffc03aeb": {
     "views": []
    },
    "03950c07986a4046a776248220a02f11": {
     "views": []
    },
    "03b089ed63614c34acf60285f5c1c679": {
     "views": []
    },
    "03fbd012593e43258150188372018707": {
     "views": []
    },
    "03fef4f4cd724ee1bdefb4b7367210d4": {
     "views": []
    },
    "04323c87d33c4a44bd718bb03d304058": {
     "views": []
    },
    "04511e4aaef042e389b6b92a2c3f8cc4": {
     "views": []
    },
    "0471e920cbb7499f81a209404637b190": {
     "views": []
    },
    "047d6cfc2d08425da29f7d4224553976": {
     "views": []
    },
    "0484ca431957460e8d2ebb2956ec05f2": {
     "views": []
    },
    "048b56f5baa04ed8a1e2a47bff3e2dad": {
     "views": []
    },
    "049fd4864bd4462eb19d1a117a6f802e": {
     "views": []
    },
    "04d8a7e78b1a4cadaa9e24509d0df3de": {
     "views": []
    },
    "04f66354f52e413187bb6afb265d1cdd": {
     "views": []
    },
    "0502f801400745d2a91cc0cf51906334": {
     "views": []
    },
    "053985b2edd34405bc2c29517dea138a": {
     "views": []
    },
    "054247c869d645ceb51f0f9fc62b30b5": {
     "views": []
    },
    "05d9c376a203497ab06ce56033e7a2f6": {
     "views": []
    },
    "05de8792e98e4eb189a7c2fd57806f0e": {
     "views": []
    },
    "061ef9aa3d3d4d99b244330936a9b8c6": {
     "views": []
    },
    "0674c7fc01de487290415c80508de985": {
     "views": []
    },
    "0696120b63714e55af05559f037e9ee4": {
     "views": []
    },
    "06e88ba0d84e40fdb368f404382a0af6": {
     "views": []
    },
    "06f8b745d0444b9783b25e7c54d04069": {
     "views": []
    },
    "06fcd1d3f338437ebdb743aee18d4ad1": {
     "views": []
    },
    "07402d35c83b47f1bc8e2ce333804d31": {
     "views": []
    },
    "074a94fe88fc42f8b547500f8f1c2692": {
     "views": []
    },
    "0751df2819a147599cdea5a947b00470": {
     "views": []
    },
    "07aeaca4ef24476ab653bcc9e653621f": {
     "views": []
    },
    "07c20d3a6db143ecb4f7a201f63b7d86": {
     "views": []
    },
    "07f98de7753945bc82926c911a1324eb": {
     "views": []
    },
    "087c17a54d6c413f9ca5993214d4782b": {
     "views": []
    },
    "08e85d8c32d04a909c5018f88b6cb057": {
     "views": []
    },
    "091b19701814418a9b10dce60605cf35": {
     "views": []
    },
    "092f743555df4deb935c2c44935088d0": {
     "views": []
    },
    "094750a8967649daac95a7014a6bc996": {
     "views": []
    },
    "09632b196a8c4cd0ae2961e030877274": {
     "views": []
    },
    "0966ec670d41492e8b14fc87ac12cd09": {
     "views": []
    },
    "09a20bdd39564051a4f684239440087a": {
     "views": []
    },
    "09bc209aa2984fa7b58d64283f3aa1ee": {
     "views": []
    },
    "09e0c655c84441fb9305b9eeed545614": {
     "views": []
    },
    "0a0f18b4640d4f0f9b26af6869553a3d": {
     "views": []
    },
    "0a2513061a904d09a77531e40194ec2a": {
     "views": []
    },
    "0a8cb115e27e41dd8848635ef349410e": {
     "views": []
    },
    "0b300c05da6543ed949ebf82be17a0d9": {
     "views": []
    },
    "0b3b0df99a064e5e8e5f9ec0ee768e44": {
     "views": []
    },
    "0b6b046fe0354284b7335f1c17f81da6": {
     "views": []
    },
    "0b7ae8af2e0e49098f5f9465009b3f4d": {
     "views": []
    },
    "0b7e89d579e143ec96a6df52eaa26a0c": {
     "views": []
    },
    "0b83249e030d4adf883ac7d63d6f9582": {
     "views": []
    },
    "0bedc5f264a94db5a557af5207ae73c8": {
     "views": []
    },
    "0c0a39fa64f44e9e948e49121a174cc7": {
     "views": []
    },
    "0cf5431501bc4363a6ba654c000fad8a": {
     "views": []
    },
    "0d2b114d52dd4b3789178db6aac5f656": {
     "views": []
    },
    "0d6ea429cdbb4de48d3d1028be7c5509": {
     "views": []
    },
    "0da0c4dd65854c7fa5b4f5663840efc8": {
     "views": []
    },
    "0da516cce41b469a86bc5dac9a930404": {
     "views": []
    },
    "0dbd26306d934aedb5928898624d29c8": {
     "views": []
    },
    "0e0ee1177fa649e4aa5d430346b731d0": {
     "views": []
    },
    "0e1ccce2ae324dbf80c39e128c76eba4": {
     "views": []
    },
    "0e30db510b8a42de9c10dd97fc84d1cf": {
     "views": []
    },
    "0e32796ae82a4c4584842e5b50979d2f": {
     "views": []
    },
    "0e327a372f154b9081cfdb22af81ade0": {
     "views": []
    },
    "0e3f6a74c8a847b0a87458a1b0a03262": {
     "views": []
    },
    "0e89f9f822604943b3e531f2744b8387": {
     "views": []
    },
    "0e8c76ca793745daabe73bba6410398e": {
     "views": []
    },
    "0e9fd63d5ec04fa29a663d4b07129543": {
     "views": []
    },
    "0eeb1ef589dd4d9dbbd3a5380d77f203": {
     "views": []
    },
    "0f13874319564548903ece746ebd4dbf": {
     "views": []
    },
    "0f474a0971384b4a89ce7ac3adaa8dfa": {
     "views": []
    },
    "0f7de669adb94f3490ec5502957b040b": {
     "views": []
    },
    "1028ef5c25be42f9a3badf873011cabb": {
     "views": []
    },
    "102fa2da1a0947d18abacc887b4b267d": {
     "views": []
    },
    "1036fafe314145dabb48a2413e0e5764": {
     "views": []
    },
    "1043193dea284d8097c6350caa859a57": {
     "views": []
    },
    "104d8dc6152448f38d97c7318196a5e8": {
     "views": []
    },
    "10bae9b7e7984865bf67a2d3bae5f566": {
     "views": []
    },
    "10ebc2d939f3447e9b4f39be93fbb438": {
     "views": []
    },
    "10ff4655291c42f49bf44f847f255e13": {
     "views": []
    },
    "11246f2f005045f0ad836b2f84704210": {
     "views": []
    },
    "1164e90710b9434b840877fc6ec9133a": {
     "views": []
    },
    "1186808ce1a845b193c602ffdc5869b3": {
     "views": []
    },
    "11bd846c20574f789af67c429630ea0a": {
     "views": []
    },
    "11dcc45056e64b1fb5e5a39d8265d88f": {
     "views": []
    },
    "11ead7657c604789a5bfa1255e6d5e4a": {
     "views": []
    },
    "122c17e4fe014372bac37e3b103926fd": {
     "views": []
    },
    "1238c424607947ce9a3d5af194ffe21d": {
     "views": []
    },
    "12559ccbf69d4f25bc37f2c981243196": {
     "views": []
    },
    "12b35d9ae0204aa5b06d78b3a0405b78": {
     "views": []
    },
    "12bff0cccfcd477aad69fb8c2d6109fa": {
     "views": []
    },
    "1314dd8e8f674c3b88f2324ed37b4b95": {
     "views": []
    },
    "1320e76fe13a4630baccbbd542540445": {
     "views": []
    },
    "134b1062f76c474c8df1db3e18e39ed0": {
     "views": []
    },
    "1367b8bd17c1402faada48c8631542c1": {
     "views": []
    },
    "1378065350874d96a9887d729f02e6f6": {
     "views": []
    },
    "137f8d72d3b04ff8805e7f5303dadd23": {
     "views": []
    },
    "13a7f516425d4e3eb458a3fca60da68f": {
     "views": []
    },
    "1411284c420b411485bac5967a5c144b": {
     "views": []
    },
    "14521f204abe4ec1b2c0604a4415f5ba": {
     "views": []
    },
    "149c13d726fd4314af38bf62198aa1e7": {
     "views": []
    },
    "14a13a743f604452ab15e88ce12290f4": {
     "views": []
    },
    "14bd1950273b461ea63defd01bb75b02": {
     "views": []
    },
    "14bec30925b44e6fbd6e041c5c5782b5": {
     "views": []
    },
    "151580edf1824a95b3d81cefb9979263": {
     "views": []
    },
    "1523be5881284cdd83ce696a353bff58": {
     "views": []
    },
    "15447a42a7c34b48a8c219167df46bcb": {
     "views": []
    },
    "156384bdb9214242b154cbcc7111ebb5": {
     "views": []
    },
    "156671df89544b058efce8176fb226d9": {
     "views": []
    },
    "15f9c03cde5646d69f52bbc0e9d3faef": {
     "views": []
    },
    "1603190f769b4062af2058ce739e38c1": {
     "views": []
    },
    "161e7ad0e80f4a26968debef3e4ec248": {
     "views": []
    },
    "16322356f6bf48ea91e9b780af06de79": {
     "views": []
    },
    "16a2e2b0ca504b78b36275e18bb6dda4": {
     "views": []
    },
    "16a9d7abd31b487e8053dff5e7c9bc86": {
     "views": []
    },
    "17043e470d844474a9d411fa2c3ee4eb": {
     "views": []
    },
    "170a97575533498281eeaf234fc4c27e": {
     "views": []
    },
    "17721c6a98fe4d57bcbb93d4af66760f": {
     "views": []
    },
    "179d899c07fc47d4bc1a24836a40a144": {
     "views": []
    },
    "17e832ff54eb480ca81a5d5865652d5c": {
     "views": []
    },
    "180cc52d564b428884ce565bca6a19a2": {
     "views": []
    },
    "18148bf256e74cb9a78ca026a75edf4a": {
     "views": []
    },
    "18340a57852344c0bc0c0efee7f4d5c2": {
     "views": []
    },
    "188def734c5b41f38729f09b65c1d8d7": {
     "views": []
    },
    "197c8766f150484b819777828e596573": {
     "views": []
    },
    "197ea56e1b5342c9948332de2c3721f6": {
     "views": []
    },
    "198fea5bee2141258b299922852b1cf1": {
     "views": []
    },
    "19cff7d5a3b74b9aa46a738b46de0a82": {
     "views": []
    },
    "19e2c13f47174842b98778d9dbe5d143": {
     "views": []
    },
    "19e8150f16314bb68bc85ff405f0792c": {
     "views": []
    },
    "1a12e3b67ad145d989ecebcc32db66a1": {
     "views": []
    },
    "1a24339cd47140d38a7bc8c2a1cd80a8": {
     "views": []
    },
    "1a66ca01d135471285569be294ffdbe7": {
     "views": []
    },
    "1a76ef4f7e384d209d8d5c6af43929eb": {
     "views": []
    },
    "1aeba23dfafa4bf18540bfb325d02366": {
     "views": []
    },
    "1b7a71a4613a46908c1be26e94ef43f6": {
     "views": []
    },
    "1bad60a3e7a7457ab7c689166da5a2a5": {
     "views": []
    },
    "1bd052df9a2b49599485f9aa9a4c52bd": {
     "views": []
    },
    "1c8f9f68c8f14fe7af208e8a93116762": {
     "views": []
    },
    "1c98bf9f08d64337b620c3f52c0199ce": {
     "views": []
    },
    "1c9f4eb9cbdf4b9e842ab3e0486d0c9b": {
     "views": []
    },
    "1cc639ba25924f5aa7753db8bd1f8002": {
     "views": []
    },
    "1d3e9a7ef9074b94b4197c85fec0b187": {
     "views": []
    },
    "1d60a7e9301f47e3a2d55ed943a7008f": {
     "views": []
    },
    "1d81f2f9b4f9476880928410a6096eae": {
     "views": []
    },
    "1dcd7a8e6baa4b0e9a1dbc0712ece0a5": {
     "views": []
    },
    "1dda785eec374feea70e8ab3ffa47e20": {
     "views": []
    },
    "1dfbade8d75c4d39986800487eab1fac": {
     "views": []
    },
    "1e4de49f948f47f79b0f818d5a06356c": {
     "views": []
    },
    "1e51ef2f70f645f6a68200cbb92151fb": {
     "views": []
    },
    "1e90f69ed27d4675b9d1773e833d9c00": {
     "views": []
    },
    "1ebd6fd6c7f34c3885968a7622e99842": {
     "views": []
    },
    "1ebff7543b984e728b1b128cc885d197": {
     "views": []
    },
    "1f0d71fc68eb41558cf92bedbc70f2db": {
     "views": []
    },
    "1f957fdeca2a49baae1484d7438e1eaf": {
     "views": []
    },
    "1fbfd9f7df23461c947903dae7a1cdd1": {
     "views": []
    },
    "200972ace4514b898bea70b3b816edff": {
     "views": []
    },
    "2095a71ab9b546818bdc31105f764af9": {
     "views": []
    },
    "20b6739ed5c145f1abb51f8ae823d1c5": {
     "views": []
    },
    "20cf27c28b1f4c16bf3bf19cab47c368": {
     "views": []
    },
    "20cf649838b141868a12b7335fe18d43": {
     "views": []
    },
    "20e7714b95ee44bab37d516758db1bdd": {
     "views": []
    },
    "21594bb551674e2d944508f09b0f59fb": {
     "views": []
    },
    "216f3ee179774050a6b44a9d67f5f488": {
     "views": []
    },
    "21cb0597e3e241dc8fe76d79189fe104": {
     "views": []
    },
    "21f0d36058de4e548285d0c9e4aef27a": {
     "views": []
    },
    "2212739855e74c188f07b152526a756a": {
     "views": []
    },
    "22252dfec2384353ab9a9f6611d0242f": {
     "views": []
    },
    "223014acf84c44d2b228fcb5711721fb": {
     "views": []
    },
    "2235f638d4184cb983a437345fb6f545": {
     "views": []
    },
    "224bd91e062b4a2d8cc3a51e56c99423": {
     "views": []
    },
    "2282698df5c94fb7bca68cfdf071e24d": {
     "views": []
    },
    "2292196a90c8432eb6aa70db2543e507": {
     "views": []
    },
    "23111e7825364baabe390a90c101e8ee": {
     "views": []
    },
    "231f7bfa9fca48cc9c364935dfb66a7f": {
     "views": []
    },
    "2350609f0e094466b69228f97fc76ab5": {
     "views": []
    },
    "2382bdce716a49509ce900f658476b5d": {
     "views": []
    },
    "23d0b4b489f0463d8082075fba3a759c": {
     "views": []
    },
    "24381158f5cd45138ffef09655d59088": {
     "views": []
    },
    "2447ca6717f743f8851162f39c4c4e93": {
     "views": []
    },
    "2451ff6571bd42f4a15db652c9c42944": {
     "views": []
    },
    "2484579ad36b44f7af17243b62212110": {
     "views": []
    },
    "24c7653a43a84eceb2d7e82aa267dcf7": {
     "views": []
    },
    "24ee61d4d8004d1d90bb7de05ccbd23b": {
     "views": []
    },
    "255eb2a9bfee47c3ab1b5dbe751b154a": {
     "views": []
    },
    "25821404665c46a2bf02d17764a99b8c": {
     "views": []
    },
    "259f689673fa4f5fab839cc0b91d8666": {
     "views": []
    },
    "262dea7b3d3a44c59cda09e38bd5dd3e": {
     "views": []
    },
    "262ecb4212a9491dbf17412bf635739b": {
     "views": []
    },
    "26673abe14054a21a38ea399fb34d79b": {
     "views": []
    },
    "266de8daa31c47c5b2c8ffbbce3cbef4": {
     "views": []
    },
    "26a3c831a063414cae09a0fa755c41f0": {
     "views": []
    },
    "26a66b4e8e744639a6784ccc101772cb": {
     "views": []
    },
    "26cb12b175b74dfc919011951c8d4448": {
     "views": []
    },
    "26db984fbc544101a4285aacf8a8bc06": {
     "views": []
    },
    "26ddf984817f4b61814ce3c0f4bbb07f": {
     "views": []
    },
    "26ef29a1b11740d596fd9c9de2cf167e": {
     "views": []
    },
    "2702e2e28ffa4337ba1d4b3b6c18d399": {
     "views": []
    },
    "2716590e76264760bd3f53ec76f2b2e7": {
     "views": []
    },
    "27801c506d8a433baa43907795e75bf3": {
     "views": []
    },
    "27a3f9d468cc4e3d9d7b78f354e304a1": {
     "views": []
    },
    "27e208c746d042abb62ee32153dd48e2": {
     "views": []
    },
    "280d5fb11d4c4497856112285c59bf48": {
     "views": []
    },
    "281ee8e8afe34a07a4642c99c996eb47": {
     "views": []
    },
    "286955849f4a472a961d878d337ff9a3": {
     "views": []
    },
    "28837e4cc09a41558067882a85b72fae": {
     "views": []
    },
    "28e2889fd28f4547879489d7e657a843": {
     "views": []
    },
    "2958a4f0e1cc47e0a7f23b2e91335d42": {
     "views": []
    },
    "297fd290a6be46b998c0b688aaeb0acc": {
     "views": []
    },
    "29b5ae6d2e644d08b48772251f4dd20f": {
     "views": []
    },
    "2a1fddb937b44a2bb16470961a301a4c": {
     "views": []
    },
    "2a2269af108747be8c698df02b024daa": {
     "views": []
    },
    "2ab2bea481f24d0994dccb19aa465f5f": {
     "views": []
    },
    "2b0933b1b5ad4eada1b5a8ded205ded3": {
     "views": []
    },
    "2b247d2f94254feeb708efa35151fae5": {
     "views": []
    },
    "2b5650107d82408481a122f11c320368": {
     "views": []
    },
    "2ba37d48a515482da35061adf958b7ff": {
     "views": []
    },
    "2bcc84fdc79c4cd99d7b92beab9fa92d": {
     "views": []
    },
    "2bfadf52077b4d45bc42ad8b7927eccd": {
     "views": []
    },
    "2ce0b706dbc74ce1846d76eda6b4223e": {
     "views": []
    },
    "2d8306cf1f6347eca8962e7b84d82098": {
     "views": []
    },
    "2dd633ca92ff4c979ff99227b6c68aaa": {
     "views": []
    },
    "2e17b59e2acc4c309d695e0c858cc982": {
     "views": []
    },
    "2f0e2543b7fd42598f9e86ed5c5263d0": {
     "views": []
    },
    "2f24d966bc624564bb67102b2a7a2891": {
     "views": []
    },
    "2f32f71d09594280b4b8e5574c7210a2": {
     "views": []
    },
    "2f3e668258d044918cddc791fc2b25f3": {
     "views": []
    },
    "2f7ec79a779847daabfff0ec6cc46e4f": {
     "views": []
    },
    "2f8abd2d1a7f475fb27fc716bbe78dfc": {
     "views": []
    },
    "2feb9880201346f6a7dbbff28dc9dd83": {
     "views": []
    },
    "300b1049ce914d67a96b8dd1a8c4f1f5": {
     "views": []
    },
    "303b3aac7baa44148880e8d709441d01": {
     "views": []
    },
    "305cd1b5adfa423c8aed8bb1a7af05f8": {
     "views": []
    },
    "30f6dc6a7ca34daa9bb65715e7667650": {
     "views": []
    },
    "311ffa574828448baddf859607020ee5": {
     "views": []
    },
    "316026d299f44701bf8c66f3aa0f1e28": {
     "views": []
    },
    "3163f7a833f648fda5d1f2df9629057a": {
     "views": []
    },
    "316efd06dc2c49bc938c6d9df12f7e87": {
     "views": []
    },
    "318d4ee49943413db0aec5961fb67ca5": {
     "views": []
    },
    "318f8111fb6748ac9ad5d6ff9743399d": {
     "views": []
    },
    "31a9dfc0eac64a36bfc380a646f4f9bc": {
     "views": []
    },
    "31bf6f4aa53141c48ff8b282af8c4400": {
     "views": []
    },
    "31ed230a69e542158443a588fdb11d56": {
     "views": []
    },
    "321f0e1c6c574c65b5906d78a5fbf989": {
     "views": []
    },
    "32334ab8d8344bdb819947d9b2b17a8e": {
     "views": []
    },
    "3251b5fce32e4d4990e80faf70735302": {
     "views": []
    },
    "325ea6aa0baa4612be90774220fdd797": {
     "views": []
    },
    "3282ed6afb4843fc82d92b4e3edc0d09": {
     "views": []
    },
    "32907f609d984f72997461ca879b663a": {
     "views": []
    },
    "32980af335c641dab01c38b3de5a53a3": {
     "views": []
    },
    "32c7f00816ce4fe887f52695b69fa4db": {
     "views": []
    },
    "332971a588174e81a6ef6e8704b88c71": {
     "views": []
    },
    "3336f3e5455640d1b98df595e18d109f": {
     "views": []
    },
    "334d924a4f1646d89988068750051003": {
     "views": []
    },
    "3372b37f69af4011b725d2797600ee1f": {
     "views": []
    },
    "3387ae780df946f79a6a8ff2a6d49168": {
     "views": []
    },
    "33b8b6b62cd9432a9079499d9beee1b9": {
     "views": []
    },
    "33d1efeb69cf478ab93c9a1bc4ce8402": {
     "views": []
    },
    "3411dad10a9446b1a2ae45177647a949": {
     "views": []
    },
    "3420fb82b7604c77b41dd289254ba29d": {
     "views": []
    },
    "3476c9dbc027404a82c54811f0f27669": {
     "views": []
    },
    "3494dae47f13445594d480330f96c5c9": {
     "views": []
    },
    "34baeaaf84b24e8f8202341f390862eb": {
     "views": []
    },
    "34cd55d161a647f8854f9c199f233fec": {
     "views": []
    },
    "34e2a512ef724376bdfed99d7d3284e5": {
     "views": []
    },
    "352bce2830ca416886caaf64095a22cc": {
     "views": []
    },
    "354a0ab3041f4b92b48d71521accb624": {
     "views": []
    },
    "359221b1f4034a60a0f1bf8869652795": {
     "views": []
    },
    "35e115c6363a441ca003ec5bb7449037": {
     "views": []
    },
    "36166fb15b4f4e0dac381586e63dd859": {
     "views": []
    },
    "36406c06d4a747248e5caab2ba4358f6": {
     "views": []
    },
    "365517adcee04c1aa9210a05211b1347": {
     "views": []
    },
    "365cec7dc7334cafb76e21cb41f72712": {
     "views": []
    },
    "367529a8df2747bc958eb380be4565dd": {
     "views": []
    },
    "37512aacbfd045cea4aeb987b49417bb": {
     "views": []
    },
    "377adc9b5bb6449d812723ee187ae0d8": {
     "views": []
    },
    "3786d98f3736445d85cd599792dcabb5": {
     "views": []
    },
    "37910a72db7b4a07a3adda84499550f5": {
     "views": []
    },
    "37b2f899dbfd48f8aec91c899d779038": {
     "views": []
    },
    "37b6538aef614ac7bda64534ee918b4f": {
     "views": []
    },
    "37c6ab3ed8ee4ac0a323f1412afc3217": {
     "views": []
    },
    "37dfbdd4eb1542d6a20e678e160d0f77": {
     "views": []
    },
    "3881bb7e486b49bdab7a9cc6e2a184b0": {
     "views": []
    },
    "38f868d1a8e145988b1ca2ea73e165a7": {
     "views": []
    },
    "3923370a70e942e38184c167d3cd311d": {
     "views": []
    },
    "3924b44a8b6948a4989a1fa3ad6c9ca8": {
     "views": []
    },
    "3957369090c2458db34573567d12ecea": {
     "views": []
    },
    "39936aabd0764c4cb8177705ebdc4b87": {
     "views": []
    },
    "39fdb2dfc3904845b9cb7e47d70557e3": {
     "views": []
    },
    "3a3a1764a0324bd09859793509405934": {
     "views": []
    },
    "3a8a91208c8b4943b519cc12bf36d28a": {
     "views": []
    },
    "3a9081fa299743948897237929deab43": {
     "views": []
    },
    "3a9de06ba2784b55b58ea853d5e168c5": {
     "views": []
    },
    "3ac964efee2648d6973443c982812c76": {
     "views": []
    },
    "3ae86bf9677e48bda23d89bfc90deb50": {
     "views": []
    },
    "3b0b742654634eeda607ae3d1a29c044": {
     "views": []
    },
    "3b32428883b5475e952249134f82ea02": {
     "views": []
    },
    "3b557ccb93754498b0d2608f3d7c03df": {
     "views": []
    },
    "3bf15b54c3e14f0787654e56de8e773d": {
     "views": []
    },
    "3c0df3f5438e4a15920b7f6fd15fa923": {
     "views": []
    },
    "3c2d7621907646969236bcacf9993881": {
     "views": []
    },
    "3c5c0dda1b1f4ea9b6f7819bc60f33e8": {
     "views": []
    },
    "3ca0f1e136224d6cae44a79d08c6551e": {
     "views": []
    },
    "3ca87b5c1147451896bf12a42d986ffb": {
     "views": []
    },
    "3cbf88071d884ae193fc2e918feb0dea": {
     "views": []
    },
    "3cd5ee7b792f49f6aa6e2771641bde85": {
     "views": []
    },
    "3d501af752cb40c8a1dce13cff4ff6a8": {
     "views": []
    },
    "3d672f9a0fd54f978e119990c5602c65": {
     "views": []
    },
    "3d684d14045a497c836dec9f03ae35a8": {
     "views": []
    },
    "3d6e93d18ee1409fb6881f5f4de8abff": {
     "views": []
    },
    "3d87295c8a6749fa84573f93dda34512": {
     "views": []
    },
    "3ddd8cbee04e4a5886a1be484439d052": {
     "views": []
    },
    "3df08ab656ae4c6592eb16da5f8c1767": {
     "views": []
    },
    "3df509c27eb447ad8d5d5643d48a3b61": {
     "views": []
    },
    "3e0c72c14dba416680dd8e74d78213f5": {
     "views": []
    },
    "3e1bfdd108694b3a8fcbf34a993504fb": {
     "views": []
    },
    "3e1fb4d7c9b545e18f0c283378b1a4e1": {
     "views": []
    },
    "3e45c8b503ac434caa4f96f34c86c8ab": {
     "views": []
    },
    "3e6009c18c8c4864be38fd54fc55a386": {
     "views": []
    },
    "3efbf1e3b7da471aaae93f16cc9cdc98": {
     "views": []
    },
    "3f2b5fc82d874e6c9bd8ae5da5656c0c": {
     "views": []
    },
    "3f471a67017e4d04824de350c2347f8d": {
     "views": []
    },
    "3f6df398400c46d0b769a9f4c3bcffa5": {
     "views": []
    },
    "3f727ac61c3d4f4c9de1275d39debaa2": {
     "views": []
    },
    "3f84e358a4f043fbb88c9f1197c45f3b": {
     "views": []
    },
    "3fa1a125d7c44c549d4555720de56413": {
     "views": []
    },
    "3fcaa40f4a1f4a1eb9741b64da4d1f32": {
     "views": []
    },
    "3fcbbea9ac244df4b489862d16213920": {
     "views": []
    },
    "3fdb678d6cd94f209bd8e12b23de0210": {
     "views": []
    },
    "3ff22b855add4524aa914786551d7149": {
     "views": []
    },
    "401cebd385bc4257994ebeeeba00d75e": {
     "views": []
    },
    "405c4a78bc92452ca819473256744f92": {
     "views": []
    },
    "407d3604b5954cd088870dfb6113a6d8": {
     "views": []
    },
    "40893604f67e482480ef751572fd592d": {
     "views": []
    },
    "4095121d038f49a6b9caee24f67ba591": {
     "views": []
    },
    "40c0d85859ed44618145290e7645b189": {
     "views": []
    },
    "40e2ab8ad12c406aa3a4e70e3c14fc60": {
     "views": []
    },
    "40e3cc2b18c34cc19487a3d5d264acaa": {
     "views": []
    },
    "411e2ea6247245eba5837d5cd07fe20b": {
     "views": []
    },
    "4143df5483804700ae4963e69bf23a27": {
     "views": []
    },
    "41ad57df043f484ea6f81a2a50303b9d": {
     "views": []
    },
    "41ae01c739754e78959bc4fe708ece23": {
     "views": []
    },
    "41b16d1b0b4049ec98773b17cde2d17d": {
     "views": []
    },
    "41f2f58002f6456a9afe7308b0168527": {
     "views": []
    },
    "42048a93d91e4055bbd8decee3338d18": {
     "views": []
    },
    "422febf113de4285803b84de6c23534c": {
     "views": []
    },
    "4232ed795b7d44a1a4bad04225d47ca0": {
     "views": []
    },
    "424edc351ae14077a425d1e608027ac0": {
     "views": []
    },
    "4291836bc0dc45e3acb5d9529f7fc8e8": {
     "views": []
    },
    "42ed2b1fea8b45e5b569bb549395a676": {
     "views": []
    },
    "42f8bdfd7ec340c782a6784da88f76b3": {
     "views": []
    },
    "43214abb41d848828133507e10689a95": {
     "views": []
    },
    "4321e0286817471fbb7be6d801885975": {
     "views": []
    },
    "43432226c026494195c220b0e3052760": {
     "views": []
    },
    "4390bd5beb454286a906089ac9ff29b9": {
     "views": []
    },
    "4392391a16b34ca09a271ad20ea240f3": {
     "views": []
    },
    "43b6d3bd10b94b07a1e64e6734e6668c": {
     "views": []
    },
    "43d1b6031eb84ddaab9694fc9be0640a": {
     "views": []
    },
    "44aafaad8f254c718a470a8182684ada": {
     "views": []
    },
    "44ab59d3ef7d43b9be2b80ae6f6ea7a2": {
     "views": []
    },
    "4502ec3d09b442309fa7702a19247869": {
     "views": []
    },
    "450a9275ba014a7788db5a3c49b28797": {
     "views": []
    },
    "453da03da95d4bfe81c3b76652278084": {
     "views": []
    },
    "4554fb8e27034395ab8711b715511191": {
     "views": []
    },
    "4595d09c756c467789505cc27d4a9286": {
     "views": []
    },
    "45c4f679925d4b96a784fb67b85e66f9": {
     "views": []
    },
    "45d4c3bcdb644f51b481ce8a877b6f97": {
     "views": []
    },
    "45fb4f7d0f944206a729ed71fc2b61da": {
     "views": []
    },
    "46306b4eff494219a5b9459ba953a7c8": {
     "views": []
    },
    "46390617f03c4399b698c4719d846a9e": {
     "views": []
    },
    "468c02e186334f1e9bc61c61bfa6773d": {
     "views": []
    },
    "46b8ada3943e40758c3c86fe7f01b8db": {
     "views": []
    },
    "46dce12b975e4050a8f157284f161c7d": {
     "views": []
    },
    "471fee2faf244f28b4730bf5caa52984": {
     "views": []
    },
    "4729a5208eea4a949937e77fa9d1fba4": {
     "views": []
    },
    "4754bfba4a6041b68f96d3ff2b2af99c": {
     "views": []
    },
    "485d76afd0554049bd61434e61f2cb93": {
     "views": []
    },
    "488f4f9f809049b8ad98c07d61ac76b0": {
     "views": []
    },
    "489235302fc041448c58e5f71b38359f": {
     "views": []
    },
    "4960337f47844a8aa7fe5cea97eb0848": {
     "views": []
    },
    "499d0ee177cb49c0b70cc95fb0d289e4": {
     "views": []
    },
    "49abb7c188784bb7bd220f4ea295550b": {
     "views": []
    },
    "49ad51d3a59e4a14b04f33bdf1bb6f49": {
     "views": []
    },
    "49aeff54b54e4ab98368087eb0ebbf00": {
     "views": []
    },
    "49be6118652b4b06aa51fd881e722226": {
     "views": []
    },
    "4a064d15712542daa612176a7d3226be": {
     "views": []
    },
    "4a553c865e7140ed926032ee2508adf5": {
     "views": []
    },
    "4addc3383af34f61a5c0db2a037f1e9c": {
     "views": []
    },
    "4b0cc35a5bd24cf6b55d2c0112007b80": {
     "views": []
    },
    "4bc15f13607e480883df9303bfb0be3c": {
     "views": []
    },
    "4bc2a47413804caea47b550c0061fb55": {
     "views": []
    },
    "4be4f508283b413ab2025aa51d12e753": {
     "views": []
    },
    "4c0bed9670cf460ab4aa6fb0d92c89a2": {
     "views": []
    },
    "4c3a40f1694145bfb25286320ff5d88b": {
     "views": []
    },
    "4c65742ed352421796f3caec04e5178d": {
     "views": []
    },
    "4c6db6924a8846228389469dfcf6a1a9": {
     "views": []
    },
    "4c833d0090ff41419c2f335869963ee8": {
     "views": []
    },
    "4ca2d7170dcd4061a5e1b3943988bf12": {
     "views": []
    },
    "4cb033e7cd7548fc9e6e58f799adcbf5": {
     "views": []
    },
    "4cbad3bacaca4a9c886fda07dc9a8947": {
     "views": []
    },
    "4cd55c679c9f49059e8491c051b78233": {
     "views": []
    },
    "4cd9d48c73c14878965ca875f73d203d": {
     "views": []
    },
    "4d15053ccc43408382447605787fd274": {
     "views": []
    },
    "4d215c81700943cebd1c9f5160c772ab": {
     "views": []
    },
    "4d2ccaf5b91b4de284de4ef0b05f4696": {
     "views": []
    },
    "4dc9fe75666240d88658b15ef8f184d4": {
     "views": []
    },
    "4dd66728c6a54856809666f4bac836fb": {
     "views": []
    },
    "4ddfe32496154d67ada8bc7bcdca7421": {
     "views": []
    },
    "4ded7c0d8d7c4c1b9c6326bfb15fb62a": {
     "views": []
    },
    "4e79f2ecf7dc46b29afab8f504c20fb4": {
     "views": []
    },
    "4ea08066f3eb41faa2cabb72a0f1c906": {
     "views": []
    },
    "4ea14ac2c09b46e68c3d68e081ce4639": {
     "views": []
    },
    "4ea184d89b08454a947c598c06ae22a9": {
     "views": []
    },
    "4ea990fec7e64837a2403ba8242cf022": {
     "views": []
    },
    "4eb964b596394c3e8f60346e7421e4cc": {
     "views": []
    },
    "4ebeb57d699c44c3a9865aee82d9f4b0": {
     "views": []
    },
    "4f1cbbf2a6d14089acaa5507d42bdbff": {
     "views": []
    },
    "4f657268bb214849a37b7903e2ca24c2": {
     "views": []
    },
    "4f68132768bc42669c5bb8c1c2af9c84": {
     "views": []
    },
    "4fab4571be0147a39729a13833c58a88": {
     "views": []
    },
    "4fd9a0080da54578a61ffdc3995b55be": {
     "views": []
    },
    "4fd9f8993b4b41ebb3b74c02fb8afeb8": {
     "views": []
    },
    "502dc7f8d14b4c0aac7db6db5b5fdcb5": {
     "views": []
    },
    "509478524eac42f2b436802bc6aaa798": {
     "views": []
    },
    "510491c667224f6fb87a76ea4aca4fa2": {
     "views": []
    },
    "5141003f487446a788850e1a15f48dfe": {
     "views": []
    },
    "51761b0ab86d41a1bfcb355e55c1fdea": {
     "views": []
    },
    "518b2077308a4767a7f57354779f62f9": {
     "views": []
    },
    "51a0c18fdd6b45868879c7d94ae32f9f": {
     "views": []
    },
    "51a594aa9bf54a44bf2a0751c44469f3": {
     "views": []
    },
    "51aec8791a0a4d0e9a10c0045ada9c64": {
     "views": []
    },
    "51c3d17845b04beb902ecee71eb5dd39": {
     "views": []
    },
    "51d253c5308d45a5982112e41aca7841": {
     "views": []
    },
    "51d7bcbc2db446a494ca4158938ffec4": {
     "views": []
    },
    "51d81498794b463e8beb9b1fad8f643c": {
     "views": []
    },
    "51e54ef2f9074e50bfb7a964df533bfc": {
     "views": []
    },
    "521217fee74a42e491a195cfc8a7540a": {
     "views": []
    },
    "527ed9a133664366be286e7c1c4acfaf": {
     "views": []
    },
    "528b411c8bec49119c78a659ffbab88e": {
     "views": []
    },
    "52bba29106e64c56a374593dd84bebb4": {
     "views": []
    },
    "52f9cc011fc846c3a9f20a445f66d5b8": {
     "views": []
    },
    "53498d8e9ee14f66948abd1fd9cd97ee": {
     "views": []
    },
    "539118e9967440598173fb671fd0915f": {
     "views": []
    },
    "53dc8bca3110429da213019774feaad0": {
     "views": []
    },
    "5441e065a9fa4129a6be6e0d8b2c53ad": {
     "views": []
    },
    "544bcb7b23064d3d8827b20c9a478ddb": {
     "views": []
    },
    "54688f635dc74faabd07a25227d7f9c6": {
     "views": []
    },
    "546a7a904d0c4c398306f6f95e13443b": {
     "views": []
    },
    "54ae4d29d0664cb1924f82e164b712d4": {
     "views": []
    },
    "54bf96c82032422a84da92e2154adec9": {
     "views": []
    },
    "54f0e0c340b24f05b956dbf91e65ea25": {
     "views": []
    },
    "5528746762c44c51891a6267e7a30043": {
     "views": []
    },
    "552c54cede9f49b0831522730e5aac9d": {
     "views": []
    },
    "5539f530f75f4b77b38c846445e4d4ce": {
     "views": []
    },
    "5553f9e2aa3d438a871c7ae377e35c90": {
     "views": []
    },
    "557422c513e5427db5c0606449f43342": {
     "views": []
    },
    "5581b2577d274ccb98ee6100e691bed0": {
     "views": []
    },
    "563a65521a9a428d92864d9e8376c079": {
     "views": []
    },
    "566284ca514b4032a6d078f8d699f833": {
     "views": []
    },
    "56e14d15a00f4213a02391401a2b271d": {
     "views": []
    },
    "5701d0f9a553426b835048d3a82c1e08": {
     "views": []
    },
    "5717cec098b94995adbdc87ea482888f": {
     "views": []
    },
    "572228a93d7044f6bc400b31ba6b5d4e": {
     "views": []
    },
    "57bb29be485f42449cd0eb92775348c8": {
     "views": []
    },
    "57cc25eeffec4160b87ac80ec3a40304": {
     "views": []
    },
    "5841382590884c87a579795172787613": {
     "views": []
    },
    "5846d75f0a164c28b617fc604d5fa135": {
     "views": []
    },
    "585c3ada7e44461faa6c50be5582d981": {
     "views": []
    },
    "585fdd01f7f946e3baf518523ac0a70a": {
     "views": []
    },
    "58668e2de37146a48e8a4864c06d2d04": {
     "views": []
    },
    "58a61d4711314e58ae59d206f514a75a": {
     "views": []
    },
    "58ddde3737254928a1c77a2fa75bc545": {
     "views": []
    },
    "58f9b20a34e647048409e3966f749f63": {
     "views": []
    },
    "590dd9d509fa44b2af55f6173532e075": {
     "views": []
    },
    "59243b1162cb42139df21a25bbc2d1b9": {
     "views": []
    },
    "5930a7760966475083ec4b29c548e402": {
     "views": []
    },
    "593feafd2c7a4bdf8963897c16a10e1d": {
     "views": []
    },
    "595c4a4c33674d599f54faa37f39ea36": {
     "views": []
    },
    "5961a13251204f95a98469c01b736a37": {
     "views": []
    },
    "598daa4d6eef49c89df369db1f27388e": {
     "views": []
    },
    "598dc49d32924cf59186a1be04f4dbf9": {
     "views": []
    },
    "599062080e794df991802be4ca73ba94": {
     "views": []
    },
    "599fab46d93d4bfc894320b39e8c425c": {
     "views": []
    },
    "59d366dd3f444d96971bcf11c2085e73": {
     "views": []
    },
    "5a00d7fee9d941458d36716a53ca796c": {
     "views": []
    },
    "5a06c8358ccb4a50b38a110a046808a9": {
     "views": []
    },
    "5a0882b26f844e0d94161707922e7d0d": {
     "views": []
    },
    "5a548b52501342238c6a563dc8a08ca9": {
     "views": []
    },
    "5a5fc38d98c647f998e72a41842e1dd4": {
     "views": []
    },
    "5a68127f539a44a8b1a90184ea9c0594": {
     "views": []
    },
    "5a74ea7fd1b744b794912b1d45ece5b2": {
     "views": []
    },
    "5a8b11483d13433a94791c9b3d9127c0": {
     "views": []
    },
    "5ab079254466493b954d4cb3d54bc222": {
     "views": []
    },
    "5b31649778b7429596da57a92b751a78": {
     "views": []
    },
    "5b331fa9ef1948198b91858b763dd4f1": {
     "views": []
    },
    "5b3fa8eb84ac478cbd293402125c9772": {
     "views": []
    },
    "5b410a24a8d34f13902ea8ef900b87de": {
     "views": []
    },
    "5b4c5e67178b425e95d856fd55a5496c": {
     "views": []
    },
    "5b5a142e34cf4fcdbae751a65af29aa2": {
     "views": []
    },
    "5b7383b668f34905ad4be7a01e8bca64": {
     "views": []
    },
    "5ba13807e7d4417f9cc56a00dc786a6a": {
     "views": []
    },
    "5bd0204002ff4a47949d8eabe3ae94a4": {
     "views": []
    },
    "5c23e0df68bc42d296fa48ce52d7d68d": {
     "views": []
    },
    "5c465709b9ff4cf6a9b2c494bd4a4f09": {
     "views": []
    },
    "5c87e8e07f2b401b9ed978574123c358": {
     "views": []
    },
    "5ca33f87a5874f30a69682587280a5a5": {
     "views": []
    },
    "5cfe5ff6d53f491f977446e6b83dab54": {
     "views": []
    },
    "5d242fec12ef49a3bdad3b8ed46a8c2c": {
     "views": []
    },
    "5d6d4313ec034a37bd8e3e8c8a43a125": {
     "views": []
    },
    "5d8da90adc9e48818a5c1e6b3cd1205c": {
     "views": []
    },
    "5d98143032014de494ba09c1dbd001a1": {
     "views": []
    },
    "5dd2503689cd4d3291d7f26a8d936ff3": {
     "views": []
    },
    "5dd70712322f414699ad825f287f51a7": {
     "views": []
    },
    "5dec2695c4914cd7bf7b528f621ff206": {
     "views": []
    },
    "5f0894410cc14477bb8ae9001a5d94d5": {
     "views": []
    },
    "5f10aaeec81a4fcdae44a0db24c86ec7": {
     "views": []
    },
    "5f14cbb8eac040229692cc8829c884eb": {
     "views": []
    },
    "5f21fa0df43042babb36d548c17eee8f": {
     "views": []
    },
    "5f373b25156843909ca8d9e6b3625ca8": {
     "views": []
    },
    "5f684e7b258241f48a2bba489b2790a0": {
     "views": []
    },
    "5f6c1aec6d9a46c1880c8abac5ae8941": {
     "views": []
    },
    "5f7d751b48a849e2b382196b93f67197": {
     "views": []
    },
    "5f98a75d20d34cd3a31e5073144bb8d4": {
     "views": []
    },
    "5fc48a9c68414457ab0ca5f462f877e8": {
     "views": []
    },
    "5fd20d385def4a88a73b970a0b6f0c9c": {
     "views": []
    },
    "5fd3ad617e964cf18f0da30e8396a4f7": {
     "views": []
    },
    "5fda9185b5244c738c833ae4e16a88ba": {
     "views": []
    },
    "600c26dc1bb24394bc27881ee6954fbc": {
     "views": []
    },
    "6036a269d97e49d3aa0cd421649ae027": {
     "views": []
    },
    "60472751327e4f1ba36b492c17033f63": {
     "views": []
    },
    "606cba4abd24484d9571db8853dd1ce1": {
     "views": []
    },
    "611e5ffd9b854436b6ab0fbd9dae99be": {
     "views": []
    },
    "613f498730bf4ad2a9f07124ba883250": {
     "views": []
    },
    "615fe7f3dec94b61b4c177d625c99683": {
     "views": []
    },
    "6190ecd707e24811ae22542784785482": {
     "views": []
    },
    "61ae17ae7e3242749f9061866d3ad6e4": {
     "views": []
    },
    "61e0a0da0b764dec8a6b6ed02c009a3c": {
     "views": []
    },
    "624246159e3a4162a9488c633ac9ecce": {
     "views": []
    },
    "627c90bfa2514356ae7cb8105e05fc9d": {
     "views": []
    },
    "62929badb9874cc5973a86066cee1b20": {
     "views": []
    },
    "6293fbbb7770428daf20f437259dfe92": {
     "views": []
    },
    "62bf31970bca4e33a1f417cff52f496c": {
     "views": []
    },
    "62ef2109e23542f3a78ee162bce15e0d": {
     "views": []
    },
    "6352514bd9b14a4f87c07bf95d38ad98": {
     "views": []
    },
    "6384258e55dc44758e45fcec6134e849": {
     "views": []
    },
    "639475df72454e9ab7dfa7b9aa1b1370": {
     "views": []
    },
    "63a6a68a4d3646dab212b964edb68915": {
     "views": []
    },
    "63d18e4acb0b4d9abe18ec5d18c6cd65": {
     "views": []
    },
    "63df0f8675954fba820aac92890b33ac": {
     "views": []
    },
    "640bb68612bb4ee9b2a0438ba7a24dce": {
     "views": []
    },
    "648e33975efc4690a26c2fdfa40f1de6": {
     "views": []
    },
    "64989ff7c3eb4c25a5cd597714d8f848": {
     "views": []
    },
    "64efa297495b4a96963af60c0d9a2140": {
     "views": []
    },
    "655f889493c443cbb07f4d9b4db5c1e9": {
     "views": []
    },
    "65be65174a264d39afdefbdec0b366bf": {
     "views": []
    },
    "65fada5e99094d86a72fa6f5cecdf34f": {
     "views": []
    },
    "66658eb35ec24cc2870cc24813799014": {
     "views": []
    },
    "66df61bf097142d6b716b9cd392a1763": {
     "views": []
    },
    "671e609c2dfe4ebd9157c95c2e86a806": {
     "views": []
    },
    "67425af255ba439cb1d610116ecb82cb": {
     "views": []
    },
    "67637ad47ba2458db642eea9c40690fd": {
     "views": []
    },
    "67945541cc68439aa78e28a7da38b0cd": {
     "views": []
    },
    "67cf505957a941bbbf1847c4dabeecb5": {
     "views": []
    },
    "67f1d522f1e147788097308def1a0771": {
     "views": []
    },
    "67f3d170f9f94880b9427a883185abe3": {
     "views": []
    },
    "68734ef53af14124a0d13fe69f9c8351": {
     "views": []
    },
    "6873a87bf4394d76a7c69dfaddca3ec6": {
     "views": []
    },
    "68784883f2844c8a9e028a13b089734b": {
     "views": []
    },
    "68edee0481a04ecaaccc797a5f91ceab": {
     "views": []
    },
    "68f64c1b96e64aeeb41395c1cdfb6d01": {
     "views": []
    },
    "691eefd733a846ee946a4a21885aabb9": {
     "views": []
    },
    "6947f1a362624facb146c17074dc29bf": {
     "views": []
    },
    "6948689a60c944c89e37f00765b3d5c3": {
     "views": []
    },
    "69653b555ea642519d191af1a1e82104": {
     "views": []
    },
    "69a9551ecaaa4388b7eec3624982fe96": {
     "views": []
    },
    "69e3528244c44f41ad5aff3e18d9ec8c": {
     "views": []
    },
    "6a0d9b482e9b418db8898fd815577bf4": {
     "views": []
    },
    "6a13be13cba44b39918fa0eff4930d49": {
     "views": []
    },
    "6a52e0167f7349cab387eff73aab4c25": {
     "views": []
    },
    "6a6b1b9d625e4e809094683f022e07d0": {
     "views": []
    },
    "6a758f9e529c48eba27417d89a5e519e": {
     "views": []
    },
    "6abfaee9789044cc9d0c69b3d16b18a0": {
     "views": []
    },
    "6ac6e0fd00e94bd19f71646bb83b6881": {
     "views": []
    },
    "6af2c55507af4e8c87d70d03a4e838cb": {
     "views": []
    },
    "6b123221ffac4e9ab97753658f0d03cd": {
     "views": []
    },
    "6b1f3e21f9d34498b7e0423b2ae72ea4": {
     "views": []
    },
    "6b494dd72c77457d9ebb2dea43f67ec5": {
     "views": []
    },
    "6b4ede907e7a4ba588f908745aff67ca": {
     "views": []
    },
    "6b7fd619a0d94b53828897c5e520061b": {
     "views": []
    },
    "6bdcb753350b405a857b4807cd89dd4f": {
     "views": []
    },
    "6c1152ba613a42e88122f2c52b4b269e": {
     "views": []
    },
    "6c5e18ebb3424bfa946aa1ff9bf24232": {
     "views": []
    },
    "6c82ead1d6284994901f4704df2bd1a7": {
     "views": []
    },
    "6c94a51dbcee4cd1a4370465b1809712": {
     "views": []
    },
    "6cd278768ab842828d490b1e775e55af": {
     "views": []
    },
    "6ce80e1d743242d580d1b5e205dfbf2c": {
     "views": []
    },
    "6d11c26ff6b14601b5faa7d3b3c98065": {
     "views": []
    },
    "6d28f78dbfe0445a8517bff46e52917d": {
     "views": []
    },
    "6d3db4943517428c9c906cd13d21a1c8": {
     "views": []
    },
    "6d48ecd3712c4d4695b2e60a9f5e894a": {
     "views": []
    },
    "6d651a86199a4f4687739e6e05f8fb0a": {
     "views": []
    },
    "6da09d9945a74af0b833071b4de6bb62": {
     "views": []
    },
    "6de801e2dfa14988858edd22412eadb5": {
     "views": []
    },
    "6e00eb7474ca4096ba3ca5ab400fb4fb": {
     "views": []
    },
    "6e1e1126c13c4b9b8c2d842c8729ce62": {
     "views": []
    },
    "6e3ea0918aee49b3baf331110e5655d9": {
     "views": []
    },
    "6e4b835f57dd47aca1adedc037ce7100": {
     "views": []
    },
    "6e8200779f304fef930dc32da05080d0": {
     "views": []
    },
    "6e9ed056edf94fcd9011a8f7fafd3918": {
     "views": []
    },
    "6ed1b365c5054154921feefc18c3f4dd": {
     "views": []
    },
    "6ef8d8e0f5014f81aa5cc3235c2ab20e": {
     "views": []
    },
    "6efd780f96394dedbcc8015e33747da0": {
     "views": []
    },
    "6f034b012a99490e9243b62b7771d777": {
     "views": []
    },
    "6f5d366edf094765aad26e788f8a837b": {
     "views": []
    },
    "6f6dbf28c8f74c2699b40a32b770478f": {
     "views": []
    },
    "6fb2eb0d822742fc9c3f5f1b1107e881": {
     "views": []
    },
    "70fc52aeeddc48f380b0850c289f6298": {
     "views": []
    },
    "7146ab73b0ed4d2587f40e8d436ef112": {
     "views": []
    },
    "71a943074cdd49bfbac9c41bfdef5474": {
     "views": []
    },
    "71bc3c7f94cc427d99d8185f4e8ff16f": {
     "views": []
    },
    "71bd66bd540e473d9caa57d6e7723bf9": {
     "views": []
    },
    "720bf0510c514c3bb16a61ab47a30201": {
     "views": []
    },
    "722bd675841e4661b19e6c15163b32bf": {
     "views": []
    },
    "7231fd48e19d42a8bf52b5de55d6056e": {
     "views": []
    },
    "727808a58a3a48e8b2dd599a1ea8dcf8": {
     "views": []
    },
    "7289ab92f2084397a2493774e48d2be9": {
     "views": []
    },
    "7292ba3ee0df41c0809cd5f856dcbef2": {
     "views": []
    },
    "72bd64dce5f74d0bad03ad848bb6d472": {
     "views": []
    },
    "730fd86fa5b54330ac27a18c516c2800": {
     "views": []
    },
    "731192c9363a444a8ca6eceddc75b8e2": {
     "views": []
    },
    "731c03ba5d0844628cd381cca98f973c": {
     "views": []
    },
    "7348741cd4174a96bccec5771f1bf9df": {
     "views": []
    },
    "7379a10080724f029f77880921670f26": {
     "views": []
    },
    "738e26a6ddc046268e506c522d52c383": {
     "views": []
    },
    "73cc2a17c2c04b4a9bc04b06a91f36a8": {
     "views": []
    },
    "7401b7b6a6e1434c9526b14980f205c0": {
     "views": []
    },
    "74191fd38ead4e1599348f86edd9513e": {
     "views": []
    },
    "7441ff4a6c6246d7a137d696e4209dde": {
     "views": []
    },
    "7451477724234712beb83344b41b3fef": {
     "views": []
    },
    "745dd6435f144bd9aa5de9c3313745fc": {
     "views": []
    },
    "746df303fca84e5e9ce8bf29efda1553": {
     "views": []
    },
    "747bc940bdf94354a58bdae57081d416": {
     "views": []
    },
    "74c61f9369804ec8a40c0da2e73e4b8c": {
     "views": []
    },
    "74d20b3374eb479ab6f431b5fa4b2187": {
     "views": []
    },
    "74df8cdd83624069999aee670c88cf6d": {
     "views": []
    },
    "74ec2689fef344248a39e323eda727a4": {
     "views": []
    },
    "7515aca43d92479ab10279904a0d9c70": {
     "views": []
    },
    "75259874c2ff42c2bb95c1eb708af154": {
     "views": []
    },
    "7584dee2d4a04bb0b3c566728df61aa4": {
     "views": []
    },
    "758b0748216f4075bda822c6f1894ca2": {
     "views": []
    },
    "759bb0b973774a2c8003e671f11ec6b9": {
     "views": []
    },
    "75c8d40c3d0e4e84943dda9bcd425616": {
     "views": []
    },
    "760dcfc7310b4aabad3198f341b67f93": {
     "views": []
    },
    "7610d2d7f12a42a0a25c13cefb3caddd": {
     "views": []
    },
    "7663592351c34ca89ad2ec416905a986": {
     "views": []
    },
    "7679dad9546e4c00b96ef64623ccc206": {
     "views": []
    },
    "76c54a97cb0f40e39e899d425447205f": {
     "views": []
    },
    "76dbe139eb2541fb855b908a39ad688d": {
     "views": []
    },
    "7712542fb46348b9b0758859a50e00db": {
     "views": []
    },
    "77238f58f3de4c87829d99e83c5dc272": {
     "views": []
    },
    "77288b51158144fe80ddde37f2fbb53d": {
     "views": []
    },
    "772ead0c4a1b45d682fc9a669367ad81": {
     "views": []
    },
    "7772abd9913a4c7b84d29a7611749d8b": {
     "views": []
    },
    "778aadd89af34d3ca36c695afda2702f": {
     "views": []
    },
    "77925fddb61e41cf905ff272f0a009a5": {
     "views": []
    },
    "77a3458e7e684d25a04cd5b36d7697cd": {
     "views": []
    },
    "77a5df11a299447b8b1e7a39d6d07055": {
     "views": []
    },
    "78449b2d80a04d2b8e44f6c75f934661": {
     "views": []
    },
    "7878636020b74115a91d70bd8ade852c": {
     "views": []
    },
    "788e3eff1cf541e9b5a049b66a270d2e": {
     "views": []
    },
    "78b57234e1ff472cb9c91f1090bdc807": {
     "views": []
    },
    "78e790163e364075a62d43f67d94a189": {
     "views": []
    },
    "78eda006ed524e7da4d94f66777a5d02": {
     "views": []
    },
    "7909ec5a30104c17af9b14d4778d28d2": {
     "views": []
    },
    "79671259b7394ab9911b3bc126a07e25": {
     "views": []
    },
    "7a5c8949130f4b3c89e27c734dc50737": {
     "views": []
    },
    "7a9072553d624dc2a1b37f7b43c5d0df": {
     "views": []
    },
    "7a99a3415c1c4bffbd30f9463eb1996e": {
     "views": []
    },
    "7abfa8d00bcc4e3d8b0fb93fbfc0d84a": {
     "views": []
    },
    "7ad3b340b88f4853a562f447f89752af": {
     "views": []
    },
    "7b018c2246c34466929aefb9d585b087": {
     "views": []
    },
    "7b42f00c1b954b24a2182aa67c0ee9e6": {
     "views": []
    },
    "7b819c6342e543658cf9d1212fa17210": {
     "views": []
    },
    "7b91e55faced4ae9b09b44d198fb4da1": {
     "views": []
    },
    "7c6c4c024d0a4d24bd4bc4cb5b715db6": {
     "views": []
    },
    "7c8dfe4966d24d6eb6987571445b5332": {
     "views": []
    },
    "7d4fb84b79954dfb88bf42855cc9a3e1": {
     "views": []
    },
    "7d57fcd78c62414ab53b94bf20cd492c": {
     "views": []
    },
    "7d9201fbb77446e094236837ebdbeb21": {
     "views": []
    },
    "7ddd6ba1ba204dd8ada6e832b0335144": {
     "views": []
    },
    "7e2821d73a6b48538055f8c9e7fa2fc9": {
     "views": []
    },
    "7e4cd8705e2d4e04aa420f6ebb64b65e": {
     "views": []
    },
    "7ebf419ad0334c7a8a11b09efa81cfc2": {
     "views": []
    },
    "7eeb5ea238f94f90a6b54f227cf0d19e": {
     "views": []
    },
    "7f0ad40776704167b4f724d5650a5ae0": {
     "views": []
    },
    "7f1d6f8df6fe428e964832b5a0968e02": {
     "views": []
    },
    "7f58af08f0684e5ab2a2505357b708b6": {
     "views": []
    },
    "7f631e63d39c47d78a33c0a2609b9acd": {
     "views": []
    },
    "7f9d8d4c1c6548c88f385975cd77be35": {
     "views": []
    },
    "7fc347892efc48688eaca93d0eeec080": {
     "views": []
    },
    "7fe7ea9cd1e4441d959b1351c6031732": {
     "views": []
    },
    "7ff1176bd55d41e89c66e87a78b09154": {
     "views": []
    },
    "80520efb7bfe497ca2780a074ff26db6": {
     "views": []
    },
    "8077c88af3c848ad97592d7bafdd68b7": {
     "views": []
    },
    "809478c8a3bb417d942ecc8f239a9cd6": {
     "views": []
    },
    "80a713b81bec4c4cbf1a0ea8c923416c": {
     "views": []
    },
    "80adab73e1614ee7b0b3946eb6d36281": {
     "views": []
    },
    "8103c1d602d24191b3345046d58918f4": {
     "views": []
    },
    "812497c32fce4b329a7b58c1910afac4": {
     "views": []
    },
    "813601e8c3c94464985df5f2a2f48f04": {
     "views": []
    },
    "8146fc23fb134d47b26293623a00b5a1": {
     "views": []
    },
    "815172d3ebbf4996b4c3ee527aabc12e": {
     "views": []
    },
    "81f7fb222b8f440c9bf6403a00e62c4e": {
     "views": []
    },
    "81ff24fb12da4bcd8ff611e266237f3c": {
     "views": []
    },
    "824453bda9bf4df5b438e08866577923": {
     "views": []
    },
    "8260a1ab8ece42b4bc5818f2d16ac91a": {
     "views": []
    },
    "8260a72c99d54559bec11f890e98860d": {
     "views": []
    },
    "827bbf0dbd094e7280d393925ed27f1f": {
     "views": []
    },
    "829272ec344748d3a1730ea7761ef185": {
     "views": []
    },
    "8297d74ba23c45d98b7ee4c3216343d7": {
     "views": []
    },
    "82b80e8fa29c4e80816bdb7a89125871": {
     "views": []
    },
    "82be660958f34e32a5baad45aec7eb7a": {
     "views": []
    },
    "82cfe437a545455789191a7666d62bed": {
     "views": []
    },
    "82e1c4795cc141d0a1212478018b7a94": {
     "views": []
    },
    "8317c4599cdf41728f6f993a9eed5518": {
     "views": []
    },
    "83284dbba9464dcdb9e2fa7ad81a72dc": {
     "views": []
    },
    "8332a6dd8e064a07b9b44e5f9f1562ff": {
     "views": []
    },
    "833e6bfb1135420e8161daf651dc3a24": {
     "views": []
    },
    "83e4cb532b044e4084f0395ef824f68b": {
     "views": []
    },
    "83fbb5e8bcef44b49188a70069c504ac": {
     "views": []
    },
    "840998335c45452e86e6b30c88f3ac82": {
     "views": []
    },
    "840b636a2bf4438c949fd5341a7dad66": {
     "views": []
    },
    "8410567aded04153abb35c16d6f23769": {
     "views": []
    },
    "8468d030f37043d7b6c365a90b690fe8": {
     "views": []
    },
    "8499e79c10fd4dc090be16207b5e7c5f": {
     "views": []
    },
    "84d120daaf8e4bd0bd9d9eaded46cc35": {
     "views": []
    },
    "8522a25662e0454096eb0dee6d789ce9": {
     "views": []
    },
    "8533775b5a974fe0b5a6068dbd34266d": {
     "views": []
    },
    "853429ee3fac4e7a8d64f4262fd705fd": {
     "views": []
    },
    "85783943630747af88e7078ee37f4776": {
     "views": []
    },
    "85933293112046a8817b31c4ff263db4": {
     "views": []
    },
    "859e9bc8841f45c8ad56b82af738ba4d": {
     "views": []
    },
    "85b610fc24fb4a8989df79312446fa90": {
     "views": []
    },
    "85ba65e29dc74f1fa94fe4d0047dad39": {
     "views": []
    },
    "865bee09255f4527803e678a4c6d03a0": {
     "views": []
    },
    "865d556962fd4e4d9adb57edab6a806a": {
     "views": []
    },
    "866f40e5b82044aebc733c3eab4c779d": {
     "views": []
    },
    "86e3ef3bb6a848bb9b0e1c07dc860b99": {
     "views": []
    },
    "8711a9514d4d4a1696575641a5a9c513": {
     "views": []
    },
    "8741a314e4b2496ba1280db55a8cb041": {
     "views": []
    },
    "87525beb75c547b1b6c17f12b222359d": {
     "views": []
    },
    "87b37aa751c04e6c8be053263d62afea": {
     "views": []
    },
    "87da5615243241d5b0a56d51585732bf": {
     "views": []
    },
    "87fab0202db54346add0c3e4d0b98e80": {
     "views": []
    },
    "88627f26826c49d3bbb198e231766d3d": {
     "views": []
    },
    "89351782bf84472da5b0e13845de8938": {
     "views": []
    },
    "893761204eba4f0b953d1d707e4e10d1": {
     "views": []
    },
    "8939ba0f4f34424591726812b646dbab": {
     "views": []
    },
    "896d91614a244a4192ab3383f4596f57": {
     "views": []
    },
    "899f94258609492ca9aae4561e082c29": {
     "views": []
    },
    "89a68275cecb462ebb2ef21be4724fed": {
     "views": []
    },
    "89d6d946db854bec8fe8d0d7596854a9": {
     "views": []
    },
    "89f3492754f84449ae940aef63188f2a": {
     "views": []
    },
    "8a037b418a50413b96343de8a23a2265": {
     "views": []
    },
    "8a96764522ac4d56913cd118f2fd46a4": {
     "views": []
    },
    "8aa482b32c5744ff9b99cf7c8a9005ae": {
     "views": []
    },
    "8aa744cdf5084348819f767e18340a07": {
     "views": []
    },
    "8aad2707c5b041668b98a923e2ce1c39": {
     "views": []
    },
    "8ad962887a444c01b19d03bab913c448": {
     "views": []
    },
    "8aeaf1ba93e642a9843c2f60d33d6eb0": {
     "views": []
    },
    "8b272f938a174110b1cb398a6f2bb50d": {
     "views": []
    },
    "8b47840d9413488880884a273d27e9cd": {
     "views": []
    },
    "8b681a1cd95a47b5887fabf1f545c51d": {
     "views": []
    },
    "8bb3981c17ef4840b23804d263579157": {
     "views": []
    },
    "8bdabb5e4f26419593884056a509f205": {
     "views": []
    },
    "8be6f61bf4044442ad4626308b112928": {
     "views": []
    },
    "8c2edf3c90d14b1a93fe401cfb990376": {
     "views": []
    },
    "8c5a90a27f1241e2bf1a3173f999f5d3": {
     "views": []
    },
    "8c5f769eb90f4940ba77e50fc1c38644": {
     "views": []
    },
    "8c98882be42b4bb2bd57e33b5aab8dd1": {
     "views": []
    },
    "8c98e56e5438488a984c4c445a7f9d5d": {
     "views": []
    },
    "8cea045bc0654fe5a2b49bf6d167cd0c": {
     "views": []
    },
    "8cf9c4df762b4198a75a99739090dc7a": {
     "views": []
    },
    "8d01e0a3c5554fed951d824837dc6832": {
     "views": []
    },
    "8d2d6d3c7de2434db5526f96dd90139c": {
     "views": []
    },
    "8d5f32a6fbd04ea9b2d31f4a4a409974": {
     "views": []
    },
    "8e2cba272875436abfeb693d25aa59da": {
     "views": []
    },
    "8e38ea1f0f344e03be6c0c59e13fd7e1": {
     "views": []
    },
    "8e488a4432f6480d8784233cd8c142aa": {
     "views": []
    },
    "8efe6387f20e4dcfb2f87be6ee815ae1": {
     "views": []
    },
    "8f2250abe87c43798d251516d3400fbc": {
     "views": []
    },
    "8f5d69a06c2b419a9b0f9f80c75940cc": {
     "views": []
    },
    "8f84fcf956ef4a7c9e74a59f922eb4c4": {
     "views": []
    },
    "8f98a71514a349feb3f4064d2b51e798": {
     "views": []
    },
    "8fcc404280da42efbed2c17ad0ba7610": {
     "views": []
    },
    "902175fdb7134eb094748a685be8205f": {
     "views": []
    },
    "903ea29d09de417a9185e1a1028c9bac": {
     "views": []
    },
    "9065903a50484b188461c7892c9bc637": {
     "views": []
    },
    "906d0d33fbcd42bab74b68d77210a979": {
     "views": []
    },
    "90f7a57ca8bf457e9672b369584edb86": {
     "views": []
    },
    "911e3682c5d64b22a4dceef9342142e4": {
     "views": []
    },
    "91468aad29e943f08d08261387da1682": {
     "views": []
    },
    "9154f73f538b45b3ba2cd9810e47d675": {
     "views": []
    },
    "917c1d0996de48bc8039a2d50375be5f": {
     "views": []
    },
    "918647f5e5e1464680e7dd81503ec14f": {
     "views": []
    },
    "91e649c5119b4c88876c781eefdc5503": {
     "views": []
    },
    "920b1323cdd94ad28bde1b00adc931bb": {
     "views": []
    },
    "92ca78b7dc9c462194f4105815ca15b0": {
     "views": []
    },
    "93033edfc7274cc2b9d04962b727d568": {
     "views": []
    },
    "93639d8d31bc472a85788c4e68bd4912": {
     "views": []
    },
    "937f6efd706d49fbb5ce8ceba0808905": {
     "views": []
    },
    "93e3a71530f6475b91c932b340120ded": {
     "views": []
    },
    "942106b02670413a8679f8fa8db66692": {
     "views": []
    },
    "944ad33445f64895b6820a43cefafcb0": {
     "views": []
    },
    "9462ec39fa1846bf8c0aba28bdbd4e26": {
     "views": []
    },
    "94633f7878ea448c9d2f2a38901b65b3": {
     "views": []
    },
    "948106f0e4204b7cbc18e984e3eed438": {
     "views": []
    },
    "949783f99592440f93a322ba6992549f": {
     "views": []
    },
    "949819e2143f4f0781e11252afde0da7": {
     "views": []
    },
    "949be73028ef47748f0363360fce96fe": {
     "views": []
    },
    "94c8119b6391475a93a450244a5dc4dc": {
     "views": []
    },
    "94d31bd0df5b42628b98d74a2d5376e2": {
     "views": []
    },
    "953b6d6728b8447a9531d51341a91652": {
     "views": []
    },
    "953fec7f96fe4e27be948283bf2ca2a4": {
     "views": []
    },
    "954ea1c795514163ad6d5d04d261ba1b": {
     "views": []
    },
    "95731ca7eae8438fa9da9a75d8401839": {
     "views": []
    },
    "957ed10120654cceb5f9a17a3a8f034a": {
     "views": []
    },
    "95d48aafdd814fe7a86836b0db3abc09": {
     "views": []
    },
    "95da89cffad24305898e3933bb827009": {
     "views": []
    },
    "95e9afc4daac443989f69a469c3d4ed3": {
     "views": []
    },
    "9605d503b70c438787364c00062b92b9": {
     "views": []
    },
    "96482a345150451cbffffae23c879aad": {
     "views": []
    },
    "964af17b42f047f59414418610adeaa1": {
     "views": []
    },
    "9665db1e8d1d4a27906dabed429de32e": {
     "views": []
    },
    "966a348fdc4446cb9e4d027865f420f2": {
     "views": []
    },
    "967dc499f93743629d17c4e785f24cbc": {
     "views": []
    },
    "96992dcce5ba486e8fb9d3f47addeed3": {
     "views": []
    },
    "96d40c593d3e46cab41a42adde5be4b6": {
     "views": []
    },
    "96dbc9b46a2342569390e72d571f140d": {
     "views": []
    },
    "9715578f4180416889506a694283fc8a": {
     "views": []
    },
    "972c367a220f486b80d2e1c0fe45d775": {
     "views": []
    },
    "97375da6c33d4dcd92341353876c91c0": {
     "views": []
    },
    "974b03d7d0074d748f53560ebfa8364e": {
     "views": []
    },
    "975cfc14f4cc4986a09665961f9277fc": {
     "views": []
    },
    "9774b0b12abe402c9426044deb0d699b": {
     "views": []
    },
    "978a3732de0549d2801ce4af78b82971": {
     "views": []
    },
    "978e113ed1394cf081f700438938555e": {
     "views": []
    },
    "97cb8dacc5354d92b9a31963da44d8cb": {
     "views": []
    },
    "97dffcde467f49cdae57d1400b6c538a": {
     "views": []
    },
    "981f1f8c930a4210b0f9f03ea8284c3c": {
     "views": []
    },
    "986e42f47e63421581b4e7bd8c7da962": {
     "views": []
    },
    "988f67541641462fbd59d00a2a9795a7": {
     "views": []
    },
    "98a8db0c1a394050b192d748e6adcde4": {
     "views": []
    },
    "98f9ed36ef734960878e3bdf8d4345d5": {
     "views": []
    },
    "98ff759c494e4dfab55646a8f7a303dc": {
     "views": []
    },
    "9905d787e47f4222a72b795e811d3679": {
     "views": []
    },
    "991aec3a517745219af1965aa818202d": {
     "views": []
    },
    "993c70e66119471d8a188c7346bb4a13": {
     "views": []
    },
    "995e5599b82143a0a4383e01f62a98f1": {
     "views": []
    },
    "9971f370eb8c44638d6c71c8c1f5f552": {
     "views": []
    },
    "9990832412f04d249dfddbf4fc3ebd59": {
     "views": []
    },
    "9999b8cb32064a4d9c0271c69167d10c": {
     "views": []
    },
    "99f7770b8b704bf6ab1ece85974404fc": {
     "views": []
    },
    "9a31b7b545724b31b9f6083003939262": {
     "views": []
    },
    "9a3859ad7c8d4411a8fc359cb6cf043e": {
     "views": []
    },
    "9a9d2449bd1c48a8aa1ede5920f7935e": {
     "views": []
    },
    "9adfee1c7ac14e3fae3d85ba4127a5ab": {
     "views": []
    },
    "9ae76b62a00145be86ee1b5038167834": {
     "views": []
    },
    "9b1554bc8ae74f9d89fb78c070766eb0": {
     "views": []
    },
    "9b3ee83f64eb4e93b092a5825e5d4933": {
     "views": []
    },
    "9b615a1448344a8592dd8ef7c1bb6a6a": {
     "views": []
    },
    "9b81f4deae4b4b8f9f0076f79f542ded": {
     "views": []
    },
    "9bd183b39e8c4659be7a68db20014cad": {
     "views": []
    },
    "9be43652cd774eaba727540859894143": {
     "views": []
    },
    "9bf63e9b93fb428b964a74caa334075d": {
     "views": []
    },
    "9c59bbec29df4c31b7da1ec837ac3531": {
     "views": []
    },
    "9cdb14b9dc854dd8a4ca70ec1b09ada0": {
     "views": []
    },
    "9ceabbae295346139fe97a875a5a035e": {
     "views": []
    },
    "9cf21e043a0b4b5a907fb50e1761c971": {
     "views": []
    },
    "9d16bcb6954940aa9d48e1086a67d3cc": {
     "views": []
    },
    "9d3de09ba7eb4af6a562a4f31bc3e8fd": {
     "views": []
    },
    "9d43885db31b4ee0899042d6e5fd67d1": {
     "views": []
    },
    "9d71ee5c5b614054ad12e61cda5ee19a": {
     "views": []
    },
    "9dc1355a9c8f49588abf1dd99ec2911f": {
     "views": []
    },
    "9dd7c342d8484578b8e5ae94b0ed9ca5": {
     "views": []
    },
    "9e4bbc1db5644a2b81200eeca6be5f07": {
     "views": []
    },
    "9e56ab1b550b4d0095aba0ebe2363497": {
     "views": []
    },
    "9eb059100acc4c34a87d9957865a9bca": {
     "views": []
    },
    "9eba5965c4654a26aaf55933527089f9": {
     "views": []
    },
    "9f2c936cd0be491caa1dede04749c5e4": {
     "views": []
    },
    "9f65d59f8d0343ce85b032b2e7d068f6": {
     "views": []
    },
    "9f7e8f9a713c49bc8450c9182b408386": {
     "views": []
    },
    "9f85934684f844d9be671517fad5fdb7": {
     "views": []
    },
    "9fc94d40f4e0473187e58398a1f1dd58": {
     "views": []
    },
    "9fcf2fa226604ab8a96d03b0761677f2": {
     "views": []
    },
    "9ff4773fb51e468080af3614b09cb7ea": {
     "views": []
    },
    "9ff6e25fb12341cf8441946c36ea2199": {
     "views": []
    },
    "a0f40382266d446c8aa3bccbd8930cdc": {
     "views": []
    },
    "a1169c3ac9e44622a487867edf4743b6": {
     "views": []
    },
    "a11be12f282f48dd8165f34066636131": {
     "views": []
    },
    "a1b014e2fcb3487f81e7906a1a7b0069": {
     "views": []
    },
    "a1b601232de146d59a40291b69993b13": {
     "views": []
    },
    "a204c3c522d04ef692b71f935546ae21": {
     "views": []
    },
    "a26c22b10e7d44299188e190f660db4e": {
     "views": []
    },
    "a2acb8cd6b0243ee9080f648948d1cca": {
     "views": []
    },
    "a31d6c114fa04161b3760db70c5d9517": {
     "views": []
    },
    "a35414c8a31140d2bfce5c1a00885487": {
     "views": []
    },
    "a386d31d4f41424188868639632aaf6e": {
     "views": []
    },
    "a3b57867362e4842887f2ea2f5157ed0": {
     "views": []
    },
    "a3be518e4d7342acb48d44a756bfade5": {
     "views": []
    },
    "a41301b281e44031a8ddee017e4dd1ca": {
     "views": []
    },
    "a437c4e44b224fe9bfac7206a6415cef": {
     "views": []
    },
    "a4c0afdb8ee14246973f3cf41889e59d": {
     "views": []
    },
    "a4defcca0ad24c40ae9b792736cf2d9a": {
     "views": []
    },
    "a4fcd068db214d7ab24bebcc3d1163fa": {
     "views": []
    },
    "a50df63d84894b4394f3ce829dd07a55": {
     "views": []
    },
    "a52b5f21b1234c8ea54761f2654c8bd5": {
     "views": []
    },
    "a553fadb74a2438dad59eb976c920ac3": {
     "views": []
    },
    "a56d51c58ec2417a94e99510daf847f0": {
     "views": []
    },
    "a590086d2b484afd9301a85d228a0800": {
     "views": []
    },
    "a5e8d6e3aa4e4c3aa2e72d16654590fe": {
     "views": []
    },
    "a5ea3fe19cf84e3688a8a5a10e054233": {
     "views": []
    },
    "a5eba7a3de6b464ab4cf6a93db2e026c": {
     "views": []
    },
    "a5f0c48c3cfd4db491c93dc8485861e7": {
     "views": []
    },
    "a5f8a16a96524d8a99ebddaf06fbd9e2": {
     "views": []
    },
    "a6112c66257f4ac2a65a1db9302767e3": {
     "views": []
    },
    "a62ead9ed326470199bd423348a4891b": {
     "views": []
    },
    "a6613a8b19b34cfab91b4e6c5f97da86": {
     "views": []
    },
    "a66f0343fd6b484dbc0bdc0563c9d79e": {
     "views": []
    },
    "a684ff8b6d9547099cc7e1f0d0175400": {
     "views": []
    },
    "a6cd4715e1ed4bc78364e0b49e756ed0": {
     "views": []
    },
    "a6cf1625e71844abb7d92de5c0601bf7": {
     "views": []
    },
    "a727aae0c70b43f691bd01ebeae2029d": {
     "views": []
    },
    "a733cf3c4318421cb117a9e4b3d2fc05": {
     "views": []
    },
    "a74bb491fd4e4a039089209004b2e8c6": {
     "views": []
    },
    "a76e228828a94f038f7831e9b8a91724": {
     "views": []
    },
    "a77cf3c1b1b34a5782f831305f53f7cb": {
     "views": []
    },
    "a78b96ef77c54176963fecc209f43d10": {
     "views": []
    },
    "a79ca2e3ad9344b9977cd652720242a2": {
     "views": []
    },
    "a7b7e86e412c41ada9e784e4b1e8dccc": {
     "views": []
    },
    "a7f716a1382041cab3c7698dc82cd8e9": {
     "views": []
    },
    "a8e99d8c1cf94edba86496e5f5ff1bf4": {
     "views": []
    },
    "a8fe78dd141440318acc4cb8ed902861": {
     "views": []
    },
    "a90d2f0fae684202a272dc62fe1730cd": {
     "views": []
    },
    "a91fa6bdad8c432590d5bc423c766c1c": {
     "views": []
    },
    "a93c3f911df94acda34892b51169de75": {
     "views": []
    },
    "a9489169f1a84fb0afc1a5d5050303eb": {
     "views": []
    },
    "a94e4b7675a94149a92630c38af4684b": {
     "views": []
    },
    "a961a78239e04d53b0aa3c5008ef62c9": {
     "views": []
    },
    "a975f56e50cb4ca09aab82e756b7078d": {
     "views": []
    },
    "a9a25aeb54a44d99870ec0895fa9f72b": {
     "views": []
    },
    "a9e9259f9faf4c579ad1cfbda358cf50": {
     "views": []
    },
    "aa42ea4d298a42dfa49a6bed70d5ea7e": {
     "views": []
    },
    "aa65f7cdd269410b8bfe8dfbc74ab109": {
     "views": []
    },
    "aa672532788043d8990a3675bdcf3ad1": {
     "views": []
    },
    "aa9d598fd28d4457865e83e4c15dd902": {
     "views": []
    },
    "ab5af29b490f4c23b64d9627544fc4c4": {
     "views": []
    },
    "ab5c9b473b444311820cbc9af9868c7e": {
     "views": []
    },
    "ab76a435e6414a25abdcacde66caf309": {
     "views": []
    },
    "ac751cdcc76747fba10adb9992463357": {
     "views": []
    },
    "ac9484bd7e0a4f4797e9cc6670d964b2": {
     "views": []
    },
    "acb0c073092d46a6981f5ea283f540e4": {
     "views": []
    },
    "acb2f221ba1146408b433110f5c5a949": {
     "views": []
    },
    "acb667e1926448e6b6d67f7071fa2d05": {
     "views": []
    },
    "acea88938a8541e6b24626e484cbe763": {
     "views": []
    },
    "aced6d1ee9964c53a88a111d7fdf8261": {
     "views": []
    },
    "ad6c2e12b2c446348906977cd548ab80": {
     "views": []
    },
    "ad71193fbd7f431294cec2cc2e40c8a5": {
     "views": []
    },
    "ad80bca76b364a4680c9dc94f709878d": {
     "views": []
    },
    "ada4e0caf2cb4c439dc418e24f885fa5": {
     "views": []
    },
    "ada70866910a45eaa411f2c58e4113de": {
     "views": []
    },
    "ada887baf3bb4b5c9f6a91e98449259d": {
     "views": []
    },
    "adef5a4940794abc95349ea0c5b8db86": {
     "views": []
    },
    "ae21de2087fd43729ad6d4b891c5908b": {
     "views": []
    },
    "ae5791f5e6d1475d8894624a2ce7f8aa": {
     "views": []
    },
    "ae6b856cfaef4c08965b4c3568fbbd3c": {
     "views": []
    },
    "ae92d366ccd5426e9e38803841cde4f9": {
     "views": []
    },
    "aeb7f54d54074440b75e0e9af9c9d574": {
     "views": []
    },
    "aebb838f83b84604bd34b05a7b8d2ba2": {
     "views": []
    },
    "aedbfdebf01f4b06b513142628ad2eac": {
     "views": []
    },
    "af16474c6a3f4c3a9875f857a19f5545": {
     "views": []
    },
    "af773286f97946199c4d85605592d4b0": {
     "views": []
    },
    "afcd84912a67438f8b4cfad1977fba31": {
     "views": []
    },
    "afe5bdbbe672453fa1f662e4b976ddaa": {
     "views": []
    },
    "afe85b8afa4441c48c0b794681477444": {
     "views": []
    },
    "aff1fec60f5e4cefa911202fc1d94db8": {
     "views": []
    },
    "aff543c789d24fd486a1145172516e38": {
     "views": []
    },
    "afff3d2a91f1450b98b0d4e8a13ecbf0": {
     "views": []
    },
    "b0238fe7fc244b8e9b872694544e0690": {
     "views": []
    },
    "b02575dd3c9a4bc8ab3c6289bc2f0a97": {
     "views": []
    },
    "b04ac6ed340a43e899c1f6ca1e97b0d9": {
     "views": []
    },
    "b062261e0bcc4949bf8a256ecbecf7a3": {
     "views": []
    },
    "b13bbac2fcca4b8c879e6fa7e4117498": {
     "views": []
    },
    "b140ca84a960456c859c209e22632704": {
     "views": []
    },
    "b143d74047fc4e2999b07fae8431ccf6": {
     "views": []
    },
    "b1629c699e704cfe88b54b672badc154": {
     "views": []
    },
    "b1b173d82419490cbb04316c998cdd38": {
     "views": []
    },
    "b1bd9a08f6d44ca0904c5923397fcd7c": {
     "views": []
    },
    "b1edec3dd8cb4582a4b10c0b010fb39e": {
     "views": []
    },
    "b20122c398194bb8bd95d0cc4f0c7ac6": {
     "views": []
    },
    "b255df4b90d847e8898323e56ede5774": {
     "views": []
    },
    "b27c6d2da02f4b019d4650214996ca6a": {
     "views": []
    },
    "b27ff11baf87485e92d35eee9edbb98f": {
     "views": []
    },
    "b2cf6fa9b7a3430eb30023b9cb35ff7d": {
     "views": []
    },
    "b2fa8fc188824b7fa08b74b4bc22e2f7": {
     "views": []
    },
    "b3214e51bbff40189bbde25315815288": {
     "views": []
    },
    "b34934704a774993b363f1f600bcf46b": {
     "views": []
    },
    "b3d72fdb987f4484a2a93341ec11c222": {
     "views": []
    },
    "b3f00d1782f8477798b68a880efda803": {
     "views": []
    },
    "b3fead02f6954b5da7ef2bdac74880b6": {
     "views": []
    },
    "b431f971055044599d4e3f3b7d82c219": {
     "views": []
    },
    "b470af1812e14439a224a2a7aa40fff1": {
     "views": []
    },
    "b4d6973e6b14441f89a725a0ffd0ef0c": {
     "views": []
    },
    "b505643cb5864d658a75c2b43961f32f": {
     "views": []
    },
    "b50cfcfc71d9401a9acecb6071438066": {
     "views": []
    },
    "b50e9b524de84aaf89fdc9f5d38077c9": {
     "views": []
    },
    "b5388415247645879705fc134111465f": {
     "views": []
    },
    "b58b1989a39744ed94cc925619e59bb9": {
     "views": []
    },
    "b58c22a352fe4816948a8ed8b18d019c": {
     "views": []
    },
    "b5d636b9b9694404a1b22579382d5106": {
     "views": []
    },
    "b5de784986994ea981d8aacb2bf9d850": {
     "views": []
    },
    "b67638872a29475da0e3b51fd55f0c5b": {
     "views": []
    },
    "b678040860fe4a66aa17cc698be7f830": {
     "views": []
    },
    "b67ee040df9541bab263b76295b02562": {
     "views": []
    },
    "b6adbe5192d94dc3a46edf1d6a85e25b": {
     "views": []
    },
    "b6b5371741724290b7cc8143f6ffb540": {
     "views": []
    },
    "b7357bb212aa4a60a3087be0acd8723c": {
     "views": []
    },
    "b7476894e0444bf2af8d4fc1bf020f63": {
     "views": []
    },
    "b79b214a6c634f8db307d478c7d9ade3": {
     "views": []
    },
    "b7b05f13ca704dfd83046fd1d71c7238": {
     "views": []
    },
    "b7b9ad0ca6224016ab1f0176647e5bd2": {
     "views": []
    },
    "b7d1ce3da25340b7972c8505b064dd0f": {
     "views": []
    },
    "b80517c34fa947fc8609bedb925affef": {
     "views": []
    },
    "b8664741f300442b80a5a987ba285e22": {
     "views": []
    },
    "b867b777b4f74ae4b3183e605ea95824": {
     "views": []
    },
    "b8ad9b989b104a29823245046eb33b54": {
     "views": []
    },
    "b8c1359c11aa4ebe818ffbccad036ee5": {
     "views": []
    },
    "b8ef6e0b6c0b4f5582a66aff7a030521": {
     "views": []
    },
    "b8f23b74bda644668b86ccc5a3cc7ecf": {
     "views": []
    },
    "b9604990560d4ed28a5cd55e4d9f82c8": {
     "views": []
    },
    "b96c6386f559432786945ec7f320e4b6": {
     "views": []
    },
    "b975527e84e24ae2a45581f70c586984": {
     "views": []
    },
    "b985c92cab67421f8188c49be6bf86fe": {
     "views": []
    },
    "b9a3d6a65aee479283933798de3ee985": {
     "views": []
    },
    "b9a91343dc7b46238690b08f27fdace7": {
     "views": []
    },
    "ba182e37c7ca4be2906fe99350e89309": {
     "views": []
    },
    "ba561adc07634d6bada935f0e9024b9a": {
     "views": []
    },
    "ba7cf7a9878c47cab9466d254339b92c": {
     "views": []
    },
    "ba97ecda031e48f9bcab445e701c895f": {
     "views": []
    },
    "badabb2914274bbcb7393e3ef63c399f": {
     "views": []
    },
    "bae2d74184524e7fa1e757f4c9fb6f88": {
     "views": []
    },
    "baf3a3de8f0f438e83bcb13a33ab5c00": {
     "views": []
    },
    "bb14cdf8523b408989ab946874aed882": {
     "views": []
    },
    "bb34c490b6124e01b3d46ccb995f8a2a": {
     "views": []
    },
    "bbae173ef8d94824afd510591b39000b": {
     "views": []
    },
    "bbf00e60023446b0bebdaf04559d7333": {
     "views": []
    },
    "bbfead69fb9c41d1a26f90aaeab26d2b": {
     "views": []
    },
    "bc05509ef08b493fbfd28eb1c4e09098": {
     "views": []
    },
    "bc81ae71436247d5afe8c76eef413723": {
     "views": []
    },
    "bcc5a06a0da842b4bd813f6bd3ccc713": {
     "views": []
    },
    "bcf8a33f236249459e6bd44622347960": {
     "views": []
    },
    "bcf8dd037a574cb8a780831740f2a37e": {
     "views": []
    },
    "bd47a48a6cce4774a7dd7362c7b02338": {
     "views": []
    },
    "bd6784c10c0c41fca8b6e75648051b68": {
     "views": []
    },
    "bd73d9102255426b8317735ecc2554dc": {
     "views": []
    },
    "bd86801db1d3457d919adb664966dbfd": {
     "views": []
    },
    "bdc7ae2968634e8dab88fd4f6a66c672": {
     "views": []
    },
    "bde180c405bd4b0c8fe704b258203971": {
     "views": []
    },
    "bdef83762b184e469e92d1c9adbf3c27": {
     "views": []
    },
    "be0d0745d6304550ae60a14484f8a533": {
     "views": []
    },
    "be19b044740f4c4dbd20b5edb9f02c60": {
     "views": []
    },
    "be1b4bece28c4926abeebf97d9d70a3a": {
     "views": []
    },
    "be5847106a07403b9b1003bd9809a966": {
     "views": []
    },
    "be7e27b4f4b846c29996e8ba920b4eb9": {
     "views": []
    },
    "becef64a00da451b87af7ba982504338": {
     "views": []
    },
    "bef0054fd1fc4945bab9c320b66834f2": {
     "views": []
    },
    "bf195463d1504acb915994e36a271aad": {
     "views": []
    },
    "bf2721c07a7e4a78bf1235ef38bf04ce": {
     "views": []
    },
    "bf72074b277049b5b725cf3cdf8a448e": {
     "views": []
    },
    "bfb43e2beb144829b9daabeb588291a3": {
     "views": []
    },
    "bfd735c1262d45e48e39b778c3eb7744": {
     "views": []
    },
    "bfde0425e904412fb79e70e2a00b6e3d": {
     "views": []
    },
    "bfedb427c0bd4b05b6fe1d5de4913253": {
     "views": []
    },
    "bff3ef222e0d4e14888fc18b3a692fd3": {
     "views": []
    },
    "c00a30e121fe4bc09ee084626b1a42c1": {
     "views": []
    },
    "c025fd9097d74fe5afeace36b61cffe1": {
     "views": []
    },
    "c02e73257c8149a2a4ec4b79fefba250": {
     "views": []
    },
    "c0b124a2045145079dd428fe544c2f97": {
     "views": []
    },
    "c0cd40fbe82d43c686cf51846357777a": {
     "views": []
    },
    "c10ea5fff88340bf9ce5f1b8272135f1": {
     "views": []
    },
    "c12c5184f6264898bf6290dcc1c5276e": {
     "views": []
    },
    "c1a2cb4d12034568b5951364927ae1f7": {
     "views": []
    },
    "c1dd43a24da14c21ba8441a2f54d7a3c": {
     "views": []
    },
    "c1e7f522d6c54493850ffe9e0f832280": {
     "views": []
    },
    "c1ee0ed7b553433c8d69b9d9fb0a3488": {
     "views": []
    },
    "c200e34f6d9c4e7aaabaec43efe37733": {
     "views": []
    },
    "c2808deab8d94a06baea69070a9b0380": {
     "views": []
    },
    "c29b823f222841b3bd0cbdee5bad50f1": {
     "views": []
    },
    "c2bbc7311f9346968a0ffb925fdf6b7a": {
     "views": []
    },
    "c2d6ab6f2da849bab06a2a5cc7804113": {
     "views": []
    },
    "c2da69418de441448b1452afdd979e7a": {
     "views": []
    },
    "c31502242bb04e06bd3fc2a57ddb53ff": {
     "views": []
    },
    "c3452ee3b2404072b121975e645f2c6a": {
     "views": []
    },
    "c36d07705b1d4c448c3e723319306e18": {
     "views": []
    },
    "c388f0488b1d4e1aab253e81821ce6bf": {
     "views": []
    },
    "c3aaaac5ead147258aa1fc619609ec80": {
     "views": []
    },
    "c3d6063cee6d46a797f582e5ee16ea73": {
     "views": []
    },
    "c3ef16a9a0734160ae20c17ff090f6ea": {
     "views": []
    },
    "c3ff7fafb648405bb8a45d7def695659": {
     "views": []
    },
    "c42f7dec4a3b458fad99863aecad1a7b": {
     "views": []
    },
    "c48639eda86e49dd81df44d87722f7eb": {
     "views": []
    },
    "c4d42af6ce1b4304b683244d9fd6a477": {
     "views": []
    },
    "c4d9ce2a20fb46ec8bf7f7a352c07eb3": {
     "views": []
    },
    "c4e907ec522447fe99fd12e9fb7c3ade": {
     "views": []
    },
    "c520516d8dd04c0c9dbe117b1c2d0acf": {
     "views": []
    },
    "c57406562a904c04b7d4c017d7b94362": {
     "views": []
    },
    "c58285e30a3b4aeaa6104c0cd0b8c8cc": {
     "views": []
    },
    "c58b6c8e4b2445e89a8b381f6fb79993": {
     "views": []
    },
    "c6201b9973824764a7b3489254d01cef": {
     "views": [
      {
       "cell_index": 3
      }
     ]
    },
    "c6416169eb354fc4ae71127d4c2ac0f2": {
     "views": []
    },
    "c64fee071789441283a3edbd25ae185c": {
     "views": []
    },
    "c6568e2d900d4cf7954573c4a57a53cb": {
     "views": []
    },
    "c6bb65257fa043409a932e9d940c7a93": {
     "views": []
    },
    "c6da887ee175400091673d1a56930815": {
     "views": []
    },
    "c72e350b79ea481b813d8ab79c685dd9": {
     "views": []
    },
    "c75bd4d93f3b4b7d9f45d40de30285d4": {
     "views": []
    },
    "c775e0bdea1b42d8b5c010e177781d3a": {
     "views": []
    },
    "c78b70cca3764b3391d8c0ff9e3d6f60": {
     "views": []
    },
    "c7df087af07943c2a1decdd3422782a8": {
     "views": []
    },
    "c7f36fda7d0e4e48bca1ab6d175a6379": {
     "views": []
    },
    "c81e897d68084b3db170d39837db40b4": {
     "views": []
    },
    "c833aae9861242b6a9e3b8727df5d4e0": {
     "views": []
    },
    "c837c73dd008481faf986fa7442fa8b0": {
     "views": []
    },
    "c880447bdaea457c93aabd7366018bc1": {
     "views": []
    },
    "c8e4dff42cea4e69a66393cc692f53e3": {
     "views": []
    },
    "c8fc13c787ab4defba76e9971ea0d76f": {
     "views": []
    },
    "c9067b1788aa489ba7ddf8a755a81228": {
     "views": []
    },
    "c94af2dd27ec4cb58db9e704d47e496f": {
     "views": []
    },
    "c9726b9797b049cd9a15a8cea7c82607": {
     "views": []
    },
    "c97edc58cac444119fae9c8ac340cd58": {
     "views": []
    },
    "c9a84956c2e64a6eb0a69edf5b3db585": {
     "views": []
    },
    "ca13a99f44844d4f9bc105528f24e9fe": {
     "views": []
    },
    "ca22c4a0038244bea7c05897664f1775": {
     "views": []
    },
    "ca34454660a844d785eb83172769fad4": {
     "views": []
    },
    "ca43bff0ccc54dc6957f1b55e0e52fa6": {
     "views": []
    },
    "ca8006331eff469a9b086fea617b88a8": {
     "views": []
    },
    "ca8acf9ab414477eb07e5858955bcf6b": {
     "views": []
    },
    "ca9a0442953c4b21be61bbc236a0dcef": {
     "views": []
    },
    "cacbccb0f8e349329cbbb5785e20b198": {
     "views": []
    },
    "cad611c09c60456d8776f1edcc1e1027": {
     "views": []
    },
    "cb0644e42bdc4199a1f63d7a95e4a986": {
     "views": []
    },
    "cb4235a06f1546709a77458e98ea5b47": {
     "views": []
    },
    "cb593f2b2d7c4f26baeb0c24933dfdd8": {
     "views": []
    },
    "cb78d90429de4cd2b78b39c5d07e811f": {
     "views": []
    },
    "cb8c2c924099479e88a60136e45b2fd5": {
     "views": []
    },
    "cb9cb1e6a1bd412083364f5ca13c5494": {
     "views": []
    },
    "cbab972311db4335ab6cee69ef209381": {
     "views": []
    },
    "cbb1b3800ff6453c835cf35328fc5fce": {
     "views": []
    },
    "cbfdcd088cbe4fe99693c81fc1cb083b": {
     "views": []
    },
    "cc0815adaf7f45c9b223f4b00a299e03": {
     "views": []
    },
    "cc5aa42007c74959a094e8fb7c7fa286": {
     "views": []
    },
    "cc5e23e004714d84b0f91d01350d1ba9": {
     "views": []
    },
    "cca1bc79f01e4dcca99f4cbec71446a2": {
     "views": []
    },
    "cca1d9f46dcd4b07aeadbb401a2257d3": {
     "views": []
    },
    "ccca758e89904dff9d46d8d81a398ab8": {
     "views": []
    },
    "ccf51ac1564a4f9cb5d63649598c9213": {
     "views": []
    },
    "ccf990e450d349fbad578842a04a980f": {
     "views": []
    },
    "cd16ac995218421fa4d21751153563e7": {
     "views": []
    },
    "cd550c82519a4384b76ae6b66f8ac26e": {
     "views": []
    },
    "cd653df3c7c14e04b139ad7d804cf23d": {
     "views": []
    },
    "cd6d699ceb0043d2b02dd2880c18daa9": {
     "views": []
    },
    "cd9063fe5cce4378958769c69af692fa": {
     "views": []
    },
    "cdc3fc08a489415e84ac4afd12a6b0d6": {
     "views": []
    },
    "cdd2ab9faa28428f9a97dce3ab7cb6ab": {
     "views": []
    },
    "cde1835ab71543e5a8bc374c578e0c1e": {
     "views": []
    },
    "ce05298a814241d3aa71c6902f42fe56": {
     "views": []
    },
    "ce46647e04184c54a82cf40cf6e63174": {
     "views": []
    },
    "cedb98cf58254f359e2eb73e7312fa63": {
     "views": []
    },
    "cee7331e35a640bc87c4d83048b8ae1c": {
     "views": []
    },
    "cee92921b38d486db1749bfabff50315": {
     "views": []
    },
    "cf0edbe2f76b43e0a9d821ee1d530285": {
     "views": []
    },
    "cf3e1792d23b49cf8085a06ec416772f": {
     "views": []
    },
    "cfefb97332254241a83b13c8c5132462": {
     "views": []
    },
    "d0492dfef0fb4d748408301da95976d2": {
     "views": []
    },
    "d0ba7955f61c4da7a54f25020e42ae12": {
     "views": []
    },
    "d0d84cfd214142f28357bfebc3fff637": {
     "views": []
    },
    "d0f7295a32f54c27b465e4bf8a4f7918": {
     "views": []
    },
    "d10745ce400a4016b5fe05c1fb2f1744": {
     "views": []
    },
    "d10fa9d06ea44b0592d8b270b1165c6e": {
     "views": []
    },
    "d14f28930b3d442eab955ce4a9ef6c54": {
     "views": []
    },
    "d16be495f9d945dd9e054a95455057be": {
     "views": []
    },
    "d1823e3b67534f3fac6809eeb427ff95": {
     "views": []
    },
    "d1c12ba04bf6423da22a46150c40a2b3": {
     "views": []
    },
    "d1d6accfd89f414c8087fb1424b5d032": {
     "views": []
    },
    "d1eb98eb18e845ffaaa7220b42af435b": {
     "views": []
    },
    "d217be89ed8c441eba3101fe8180e918": {
     "views": []
    },
    "d21e993ef2cb4d1baf63b8991a9e9515": {
     "views": []
    },
    "d24fa39c76b44f5dbadd3fc73284d5a4": {
     "views": []
    },
    "d288ee4f30d544b9af486688350a6a50": {
     "views": []
    },
    "d2c088c8d6964abd83641d3ac1fdb525": {
     "views": []
    },
    "d2d33034fd624539b22632e1a331ba6f": {
     "views": []
    },
    "d31935129a6041f6abc4d9f062878cb7": {
     "views": []
    },
    "d31f0398325e42a2b49c318d5be7b421": {
     "views": []
    },
    "d36909cf0db04817b28421a6c771161a": {
     "views": []
    },
    "d3a335bfa1d14fd18f12ab0e5b22cccc": {
     "views": []
    },
    "d3c4a0b7a4254c3aa8a77fe2d793c8a3": {
     "views": []
    },
    "d3de2f0532c144b2a08032f71217e2eb": {
     "views": []
    },
    "d415deef78eb46368519779cbca968ce": {
     "views": []
    },
    "d43bf0dfe39d4b55a4c8381c436ecc41": {
     "views": []
    },
    "d43f13e9c6b640239a8c743c4599129b": {
     "views": []
    },
    "d45a4588670c4078bc46e9801026cffa": {
     "views": []
    },
    "d47acfc636e44b4089e65573aa862a3d": {
     "views": []
    },
    "d47c1fba6be14894a1ccbbf242632e17": {
     "views": []
    },
    "d47f15de4c3f4de39f36f7985c98822b": {
     "views": []
    },
    "d4813c3ddc644c8084afac4bf0bff60f": {
     "views": []
    },
    "d49a225495424a22833f9d41427a1fa3": {
     "views": []
    },
    "d4c8a58aefa84550a399dce0da4b6086": {
     "views": []
    },
    "d5131d11ed8a4e7fbc5e769ce6a4f3bf": {
     "views": []
    },
    "d5428c923fa3417ea746baf3493660ea": {
     "views": []
    },
    "d5b72bbb22d144a68d4a93577a5b838f": {
     "views": []
    },
    "d5c222fd2b874e52b92e4725c0bd42bb": {
     "views": []
    },
    "d5f615f6112940e384b32aad8ab0da9a": {
     "views": []
    },
    "d617e3cb121a4467934a3cab95c1111b": {
     "views": []
    },
    "d66d98a2d9914ffe9fcf038e3c12f132": {
     "views": []
    },
    "d67f381fc0c04e0f99cb259033abce92": {
     "views": []
    },
    "d69aecb054c744bc804015f033a0aee1": {
     "views": []
    },
    "d69e629cbf0f4fd48a3fb29d341f4bca": {
     "views": []
    },
    "d6b3a046cf9d40918e26e149813620b6": {
     "views": []
    },
    "d6db5638b6c84e93b8287f56bc6ea032": {
     "views": []
    },
    "d70e3d0d208d43049d74a25dc66d33fa": {
     "views": []
    },
    "d73b1c4c33dd4d27bff4c859150ce076": {
     "views": []
    },
    "d7707cf7db70474997c68fe77882ce22": {
     "views": []
    },
    "d7a1a723baaf41e0a8dc2f8291dda478": {
     "views": []
    },
    "d7a4c3948a6040168bcca57d77fc43ba": {
     "views": []
    },
    "d7e507d6d26c4beb865cd47f30c0fef4": {
     "views": []
    },
    "d7fae45178f8497489af907b37b4e5b7": {
     "views": []
    },
    "d806aaed6daf4af18db0f5527cc0305a": {
     "views": []
    },
    "d815933486f145ada6ac436201afdd06": {
     "views": []
    },
    "d83bbf4193e64de388cc630df3b09267": {
     "views": []
    },
    "d88b266b4c8e48fd8d593a405ecb3b9d": {
     "views": []
    },
    "d917a571be9e4e77a252be75ba7712e5": {
     "views": []
    },
    "d9e41c4e4d3e4e899dff95ff90134d1f": {
     "views": []
    },
    "d9f1d042c9bb42c0acfdaab0004519d0": {
     "views": []
    },
    "da5310f36e314607b1067b1ae6fbbdea": {
     "views": []
    },
    "da9bf54590d141c7986c63c8325bc0c2": {
     "views": []
    },
    "dac05804d2584f4d8cf7f3ee3819e712": {
     "views": []
    },
    "daced118f5e249688030fb752da3dc01": {
     "views": []
    },
    "dad837c4c32e4fd0bfdc83a80dceb7a1": {
     "views": []
    },
    "db2650ec450341d2986c486d85857513": {
     "views": []
    },
    "db98c2e4a4854fe3be1576055a346a21": {
     "views": []
    },
    "dbbe10bf0a6a42909689bf17cd347dc7": {
     "views": []
    },
    "dbe0197d187943ed87b3256ab20bd78e": {
     "views": []
    },
    "dc4118e5d7b54ab4a05288a2f403d24c": {
     "views": []
    },
    "dc48bfc394464b75a09df9f3a4682892": {
     "views": []
    },
    "dc787b09d3664107a63c11a71259e39d": {
     "views": []
    },
    "dc848c899067483bb9d966fb4b5ac7a5": {
     "views": []
    },
    "dd11de85a89341bd8bcdab1c31839fdc": {
     "views": []
    },
    "dd19d66ce0944713be994702b17ca156": {
     "views": []
    },
    "dd45e7e4197948f093d536feddbebb7e": {
     "views": []
    },
    "dd494a8e02da43c397720e8b7a7add38": {
     "views": []
    },
    "dd53d3a14ac54114953873efb71c688a": {
     "views": []
    },
    "de5fa986ddf74029957a2b7972db598e": {
     "views": []
    },
    "deb322cccf714b00a795d38f3f00c091": {
     "views": []
    },
    "ded6cd572bd24b1389b3882b2f45dc32": {
     "views": []
    },
    "df181261120c4908b0ed47731db87522": {
     "views": []
    },
    "df4091daca1d4246ac715ff9e8c47ac8": {
     "views": []
    },
    "df9559841e954267b9bad314a4a5d528": {
     "views": []
    },
    "df95c5a0514d413d8a85529d532b3e84": {
     "views": []
    },
    "dfce4f1db8cb4e5eaf971a9d7fc5f561": {
     "views": []
    },
    "e01e1c1de55e4777b36d0ae6715e7ae8": {
     "views": []
    },
    "e051d8d7d9c14cf6bc1aa64b1969aa84": {
     "views": []
    },
    "e054edc73268442abaefbcea37e2b591": {
     "views": []
    },
    "e097c4d7997c49f58d104a4843c4106b": {
     "views": []
    },
    "e0bab5908dc64eb5b1b02d427500c179": {
     "views": []
    },
    "e0ed3b21622c49ce83ce244b1c1e0626": {
     "views": []
    },
    "e1090e82a91d46808b4f2d508e875f53": {
     "views": []
    },
    "e10b6e5cc5e64bc293c92c6693bd4cc5": {
     "views": []
    },
    "e13f5cdfb7124b9f87ee9d33da272e01": {
     "views": []
    },
    "e14458d4d3074d6783a73eeff74925ff": {
     "views": []
    },
    "e172a7d7a16544d68143dd7eda8c09c4": {
     "views": []
    },
    "e18239530eed46bd9e2038b985525bc3": {
     "views": []
    },
    "e1dcceaed6de45cd9b2be5c795b5ef69": {
     "views": []
    },
    "e2140947abd44411867142f6186a46db": {
     "views": []
    },
    "e234432a3ea44a8a8033d1a1342da263": {
     "views": []
    },
    "e235cab4149242699d0870f74e08d6eb": {
     "views": []
    },
    "e26b207566ca495f96985890dfba2bad": {
     "views": []
    },
    "e283992672f74f1ea250cf6be9eafca4": {
     "views": []
    },
    "e2a378150abc4a0083d38983ab2b3198": {
     "views": []
    },
    "e2ca329f87ad457296b1df00a5b14f7b": {
     "views": []
    },
    "e309378fbb8d4823ac438f12caf2f926": {
     "views": []
    },
    "e34b8c82aea24456a7dfc68064bf0d8b": {
     "views": []
    },
    "e34bdb72019e41d2ad4618f82d5ba04f": {
     "views": []
    },
    "e3569d3b517b4808917490faee48d2dc": {
     "views": []
    },
    "e38705f4d4124affac5de7529293404d": {
     "views": []
    },
    "e39429406ec946c5816c10238144241b": {
     "views": []
    },
    "e39e92e1300c4497b486381a3a8c9418": {
     "views": []
    },
    "e3a122f3e287437badb2299bb08ae70a": {
     "views": []
    },
    "e3d92b02c911420fb9fd7ce727e2ace7": {
     "views": []
    },
    "e404d94188a54241ab7758ae6c93a9ce": {
     "views": []
    },
    "e408415f065d41b8a8dd264a901ba27e": {
     "views": []
    },
    "e415979b50494557883ecb22e62b228e": {
     "views": []
    },
    "e449e3c214db4d5a8c075d1282efb8bb": {
     "views": []
    },
    "e459bd4d36864f1283fa2caf2a96d758": {
     "views": []
    },
    "e477c573ecff4e1aaec95d52542d2812": {
     "views": []
    },
    "e4934475dd6c425da694c49ada6afff0": {
     "views": []
    },
    "e4b5d2871b8d418dab9f4d732f0009ef": {
     "views": []
    },
    "e4dd345e54e148b981964e8eb368793e": {
     "views": []
    },
    "e4fd93931edd405ab17d4bac4aac74c0": {
     "views": []
    },
    "e52253ef0db84de39085bf1a0b1c7f42": {
     "views": []
    },
    "e5260f61df2f4dae8be66c270479cf00": {
     "views": []
    },
    "e5feff77342c4e31a738d70d711fd873": {
     "views": []
    },
    "e62bbcf37f994192937628d3c4577f20": {
     "views": []
    },
    "e666727762a84b99a0423c06b99ca2c5": {
     "views": []
    },
    "e69ec8c89cbb40288fd11624bac0a85e": {
     "views": []
    },
    "e6d42fa8b028446186cfbda8d8a4cc75": {
     "views": []
    },
    "e7018ba3a92342debcdcf4fea6ea2399": {
     "views": []
    },
    "e7055c3912274f8caf63573dfd2b70ce": {
     "views": []
    },
    "e72be139e79a4900ae290e608af241dd": {
     "views": []
    },
    "e72fe9097dd54e64a2afa0af1ee362dc": {
     "views": []
    },
    "e73549f7bc624d4888fa9e51227c99cb": {
     "views": []
    },
    "e7360c75a0184589b72f4f2be3c49009": {
     "views": []
    },
    "e7b09706e46342a3a6dad99684e4866b": {
     "views": []
    },
    "e7b6aea59ff94236833f5b92894cf706": {
     "views": []
    },
    "e7e1f85a120d414b8a4075591aec7d16": {
     "views": []
    },
    "e7f9c118f3b54fb3a86d861dad3fd7ad": {
     "views": []
    },
    "e809ea6b166042498516697f3af567ce": {
     "views": []
    },
    "e81b94d2dde64dd9b11a02866e6edafc": {
     "views": []
    },
    "e8908a2c6b69484ca68500fd2f068ba9": {
     "views": []
    },
    "e8a172f9e2f64c798b5db4f666c6ba44": {
     "views": []
    },
    "e8a34558dc9d40a6bec0409fb5f50d35": {
     "views": []
    },
    "e8ec944c79cb4a8f829be56a424a54da": {
     "views": []
    },
    "e90c9fd885904c828305ca6193023a22": {
     "views": []
    },
    "e920bda5dbd746099ec36579b2d7817a": {
     "views": []
    },
    "e92585e297174ddda913aa1e861dad7f": {
     "views": []
    },
    "e967f3c125dd443c95cff0b9563f0b9d": {
     "views": []
    },
    "ea2f6ee2a27c4c058312e306eb457c85": {
     "views": []
    },
    "ea690a7661704038bc4278d97cceafee": {
     "views": []
    },
    "ea85561f434447629f8953c8c1a8506d": {
     "views": []
    },
    "eae3d634567349ef91e62b57a74346e6": {
     "views": []
    },
    "eaf2df89d970438cb0e313d436472c07": {
     "views": []
    },
    "eaf92dd696714dc399a9b0888467317d": {
     "views": []
    },
    "eb2c1a09af4044c7b4eb1438b434dacd": {
     "views": []
    },
    "eb68a4af8da2498a9feefe4acb7b825f": {
     "views": []
    },
    "eba29cbb790f443980009188e883d887": {
     "views": []
    },
    "ebf81a4f06c349fcae1a6b9bab1b0a43": {
     "views": []
    },
    "ebfcc4c5f23e4176b2415528f79949dd": {
     "views": []
    },
    "ec5866a7fe9a4e12b25d9180c61f8abd": {
     "views": []
    },
    "ec5eb8fcf45b43a3bcd699713cef52f1": {
     "views": []
    },
    "ec8029cb3dcb456d93dffed5706a4891": {
     "views": []
    },
    "ec90d493db1d4880bb1c86b068ef81ce": {
     "views": []
    },
    "ecb58c956a994d29a9e8e4c37427a479": {
     "views": []
    },
    "ed3b2e71adf14b46a40d96fa65a2e301": {
     "views": []
    },
    "ed8cbb1511ee404a9d736e52b2547c5f": {
     "views": []
    },
    "ede7e7ee9c5b4374992deab1a2b9ee3a": {
     "views": []
    },
    "ee8b7520c4c24f18a6670d3858ad3d56": {
     "views": []
    },
    "eebc3065018b4729b831b32750faf9da": {
     "views": []
    },
    "eee60d70fddf4e36b890873a5fbd681e": {
     "views": []
    },
    "ef090f2f28e64933bfc64cb80ad52b19": {
     "views": []
    },
    "ef1abc9e0a044cbba506d0c34cda9160": {
     "views": []
    },
    "ef59b074b1e74b0982bbdad85f194f7b": {
     "views": []
    },
    "efae65fb9483434886f563453fa618b6": {
     "views": []
    },
    "f0097591bb8b4eb287c6936d68f752ad": {
     "views": []
    },
    "f04ff3bf071144a6aa6ee502d28734ef": {
     "views": []
    },
    "f052ba054d5b4742bfd523beb683fc24": {
     "views": []
    },
    "f053945bf08a4f10b368fce3a79bdb9c": {
     "views": []
    },
    "f0681179a53640cb9a26dc14a52ff01c": {
     "views": []
    },
    "f08cf47c7e344a80ad751652846c0192": {
     "views": []
    },
    "f0c94a9f382440e494852b82e96e3f98": {
     "views": []
    },
    "f0e142090b5347309c63b2ff28e3993e": {
     "views": []
    },
    "f0ec8954eb71474b8f3d05ea5c960276": {
     "views": []
    },
    "f116336f029845df98e5f10e7ff78443": {
     "views": []
    },
    "f13d024a98e44316aaf7b5090d385186": {
     "views": []
    },
    "f141b2cbd7e44c1cb617c3439a036df5": {
     "views": []
    },
    "f14a0230546d4c4abddd6a036a73cd00": {
     "views": []
    },
    "f14e6159a9cc42d79c13f6a4f1a0c6af": {
     "views": []
    },
    "f156a32e0b2b47fc818120742ffd5bb9": {
     "views": []
    },
    "f179461a663c4e70af75bcb97808e23c": {
     "views": []
    },
    "f1a585c891c144d58f6347b56a2c5752": {
     "views": []
    },
    "f1b1e9fd4e0c40438e217196c41b1ed8": {
     "views": []
    },
    "f1d64351ded641a1be9af7df01499668": {
     "views": []
    },
    "f20a7f5e241d400aa5a7bd0e25f8d82a": {
     "views": []
    },
    "f21d1e66602f4335b8be4015610e50d9": {
     "views": []
    },
    "f2256d7f25d849cb9f1c77e251537879": {
     "views": []
    },
    "f238f0d083e940459bccdaffdf61915c": {
     "views": []
    },
    "f255c7cbe89a4b2cb700d2bf80a33abe": {
     "views": []
    },
    "f280d152b2f340cf97cbb0109cef92e3": {
     "views": []
    },
    "f292e35598a547f1b95dc06a0f0a28bb": {
     "views": []
    },
    "f29e873434a74155a7fe136c505ade64": {
     "views": []
    },
    "f2dfbaa368e040a1bef6643761f4a7a6": {
     "views": []
    },
    "f338b6a0dca14d83970e03b27c3c22e0": {
     "views": []
    },
    "f39c5c6e54e3497c9c8ce0e0d22dce2c": {
     "views": []
    },
    "f3aaec1cba5847c5bed48b6aa039d75d": {
     "views": []
    },
    "f3d3d2faa7d145dda69687da0e6862e5": {
     "views": []
    },
    "f3d4b4e5cf3e473b8dde37274279ea36": {
     "views": []
    },
    "f3f52d9d46eb453e8a326fcc471a892e": {
     "views": []
    },
    "f43ac64da65243149c4a76c3e1ab3864": {
     "views": []
    },
    "f452defc5d564fa6b0f6efa3dbbf01cf": {
     "views": []
    },
    "f49074e7f4664922966e7c8e2c77692b": {
     "views": []
    },
    "f4e95dce60624f238fdb569bfab86934": {
     "views": []
    },
    "f4ef9791307a4ce5a82254f75b54c5e7": {
     "views": []
    },
    "f52a213c3a794aa196d56a72e6c7a7ec": {
     "views": []
    },
    "f5458f069f784fb884029875107c9ab8": {
     "views": []
    },
    "f621ee8e3196472fa93bdf90ec91f36e": {
     "views": []
    },
    "f6273ad51ed84c5db7e771d5ea521076": {
     "views": []
    },
    "f62c834c57fa4a1caf8701da441a75cc": {
     "views": []
    },
    "f65e326ad3da4e149774219001229e02": {
     "views": []
    },
    "f663b3563bb64e0b86b1e900e471aabb": {
     "views": []
    },
    "f677da20da084988b7d99142335ffe12": {
     "views": []
    },
    "f6d483a70e8f4645991c0a33b7c8b74f": {
     "views": []
    },
    "f71174d56cd44746a1395d2cc3dba488": {
     "views": []
    },
    "f768e92628154814b248cb64b02c41a0": {
     "views": []
    },
    "f7ccaa6ae2a04a52aa0639411c57d793": {
     "views": []
    },
    "f7dc42a24ca64bf5be477affc30a09cb": {
     "views": []
    },
    "f843d376d802466db3e09cd4daa4f4f6": {
     "views": []
    },
    "f87d3897b0c748b7b0c7d48a1b47d786": {
     "views": []
    },
    "f93671185da04838a0e157a66ea15d2b": {
     "views": []
    },
    "f939f123f36240178bc98ec5677d3b3f": {
     "views": []
    },
    "f9730df445ac4a4aafb819931b70e8fc": {
     "views": []
    },
    "f973b656073a4959a40913bb6c0759f8": {
     "views": []
    },
    "f9a9d446e22e426aa37d3c6375b01160": {
     "views": []
    },
    "f9e2badc00e34052ba84dac6efbebbfa": {
     "views": []
    },
    "fab4934f298c47068888ec59f55e8868": {
     "views": []
    },
    "fb08a0d741284880ad31339ffc38bb86": {
     "views": []
    },
    "fb1d8f44582141a1a4657d163266f20e": {
     "views": []
    },
    "fb4035b970904cd88bfb77a282f73b12": {
     "views": []
    },
    "fb656279e95f4827892af2413ad1a65b": {
     "views": []
    },
    "fb7c10e94de64e0099821124e4fb1cb6": {
     "views": []
    },
    "fb8b8c29135f40dda8cc0604da0081d4": {
     "views": []
    },
    "fbaa5e6eb9164859af791c8fe20dd270": {
     "views": []
    },
    "fbaf56b7cd554b1a905116ab3b45a4b3": {
     "views": []
    },
    "fbde56ac8052477b90b43d5f190879f1": {
     "views": []
    },
    "fbe048d42d754a15853ad5219a2854bd": {
     "views": []
    },
    "fbe66891f24748ffa1548767455fc015": {
     "views": []
    },
    "fbffa577232b46b09bb30ce158001886": {
     "views": []
    },
    "fc017d9bf69841229499928c9b88c6d1": {
     "views": []
    },
    "fc01d0bc102448e28aa0edbd395a9039": {
     "views": []
    },
    "fc486afc9aa9480c909e2004da6cee86": {
     "views": []
    },
    "fd11d1aa4f164306a755f8ec2026c90a": {
     "views": []
    },
    "fd50a5072d284f2d9d7a2d7681e37410": {
     "views": []
    },
    "fd53fb33d5da467db22cd9b6582bf132": {
     "views": []
    },
    "fda9f94f9e1449fab748559c318880fb": {
     "views": []
    },
    "fddcfc61ae954c7890cb7855d00d0810": {
     "views": []
    },
    "fe06f27f597a40de8bed8e4ea023a783": {
     "views": []
    },
    "fe423de59c0f48aeb6106cbf5144a5d6": {
     "views": []
    },
    "fea72a592e9a4c6da291a8b7b62836ca": {
     "views": []
    },
    "fec1bc060ca44f39a60fe93ee2da19fc": {
     "views": []
    },
    "ff79ef7f1d5b4f7d837dbc7144acab61": {
     "views": []
    },
    "ff99c086c7694216a39c11627daa164c": {
     "views": []
    },
    "ffad7398165f4b1d8b182720c91782bd": {
     "views": []
    }
   },
   "version": "1.1.2"
  }
 },
 "nbformat": 4,
 "nbformat_minor": 0
}
