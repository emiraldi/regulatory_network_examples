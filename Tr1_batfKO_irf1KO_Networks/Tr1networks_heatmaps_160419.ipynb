{
 "cells": [
  {
   "cell_type": "code",
   "execution_count": 6,
   "metadata": {
    "collapsed": false
   },
   "outputs": [],
   "source": [
    "# IRF1 KO and BATF KO networks from Figures 7E-I, Supplemental Figures 7-8, Karwacz et al. 2016.\n",
    "# INSTRUCTIONS to visualize networks:\n",
    "# 1. Select \"Cell\" and then click \"Run All\"\n",
    "# 2. Draft Documentation for this tool can be found here:\n",
    "#    https://github.com/simonsfoundation/jp_gene_viz/blob/master/doc/dNetwork%20widget%20overview.ipynb"
   ]
  },
  {
   "cell_type": "code",
   "execution_count": 7,
   "metadata": {
    "collapsed": true
   },
   "outputs": [],
   "source": [
    "# list of tuples (network file, network title, network's gene expression condition for node coloring)\n",
    "networkInits = [(\"Tr1Irf1_comb_koATAC_sp.tsv\",\"Tr1: Irf1KO v Control\",'Tr1 Irf1 Prior (dTF)'),\n",
    "    (\"Tr1Batf_comb_koATAC_sp.tsv\",\"Tr1: BatfKO v Control\",'Tr1 BatfKO Prior (dTF)')]\n",
    "\n",
    "# gene expression data, log2-fold-changes estimated by DESeq2\n",
    "expressionFile = \"Tr1_72h_RNAseq.txt\"\n",
    "\n",
    "# Genes highlighted in Figure 7G (IRF1 KO):\n",
    "# stat1 irf1 prf1 ccr5 il10 il13ra1 ccl3 zbp1 id3 klf7 ccl4\n",
    "# Genes highlighted in Figure 7H (BATF KO):\n",
    "# maf il23r il12rb2 il24 batf fosl2 il10 hlx klf10 prdm1 batf ets1 prf1 runx2 hif1a icos il2 csf2 cxcr5 nfkb2 il1rn\n",
    "\n",
    "directory = \"/Users/emiraldi/erm/Shared/Tr1_KEAM/Tr1_batfKO_irf1KO_Networks\"\n",
    "\n",
    "threshhold0 = .5 # initial threshhold for edge weights"
   ]
  },
  {
   "cell_type": "code",
   "execution_count": 8,
   "metadata": {
    "collapsed": false
   },
   "outputs": [],
   "source": [
    "import sys\n",
    "if \"..\" not in sys.path:\n",
    "    sys.path.append(\"..\")\n",
    "    \n",
    "from jp_gene_viz import LExpression"
   ]
  },
  {
   "cell_type": "code",
   "execution_count": 9,
   "metadata": {
    "collapsed": false
   },
   "outputs": [],
   "source": [
    "LExpression.load_javascript_support()"
   ]
  },
  {
   "cell_type": "code",
   "execution_count": 10,
   "metadata": {
    "collapsed": false
   },
   "outputs": [
    {
     "name": "stdout",
     "output_type": "stream",
     "text": [
      "/Users/emiraldi/erm/Shared/Tr1_KEAM/Tr1_batfKO_irf1KO_Networks/Tr1Irf1_comb_koATAC_sp.tsv\n",
      "('Reading network', '/Users/emiraldi/erm/Shared/Tr1_KEAM/Tr1_batfKO_irf1KO_Networks/Tr1Irf1_comb_koATAC_sp.tsv')\n",
      "('Loading saved layout', '/Users/emiraldi/erm/Shared/Tr1_KEAM/Tr1_batfKO_irf1KO_Networks/Tr1Irf1_comb_koATAC_sp.tsv.layout.json')\n",
      "/Users/emiraldi/erm/Shared/Tr1_KEAM/Tr1_batfKO_irf1KO_Networks/Tr1Batf_comb_koATAC_sp.tsv\n",
      "('Reading network', '/Users/emiraldi/erm/Shared/Tr1_KEAM/Tr1_batfKO_irf1KO_Networks/Tr1Batf_comb_koATAC_sp.tsv')\n",
      "Computing layout\n",
      "('Saving layout', '/Users/emiraldi/erm/Shared/Tr1_KEAM/Tr1_batfKO_irf1KO_Networks/Tr1Batf_comb_koATAC_sp.tsv.layout.json')\n"
     ]
    }
   ],
   "source": [
    "for networkInit in networkInits:\n",
    "    currCol = networkInit[1].lower()\n",
    "    networkFile = networkInit[0]\n",
    "    L = LExpression.LinkedExpressionNetwork()\n",
    "    L.show()\n",
    "    print directory + '/' + networkFile\n",
    "    try:\n",
    "        L.load_network(directory + '/' + networkFile)\n",
    "    except AssertionError:\n",
    "        directory = \".\"\n",
    "        L.load_network(directory + '/' + networkFile)\n",
    "    L.load_heatmap(directory + '/' + expressionFile)\n",
    "    N = L.network\n",
    "    N.set_title(networkInit[2])\n",
    "    N.threshhold_slider.value = threshhold0\n",
    "    N.apply_click(None)\n",
    "    N.draw()\n",
    "    L.gene_click(None)    \n",
    "    L.expression.col = currCol    \n",
    "    L.condition_click(None)\n",
    "    N.layout_click(None)\n",
    "    N.labels_button.value=True\n"
   ]
  },
  {
   "cell_type": "code",
   "execution_count": null,
   "metadata": {
    "collapsed": true
   },
   "outputs": [],
   "source": []
  }
 ],
 "metadata": {
  "kernelspec": {
   "display_name": "Python 2",
   "language": "python",
   "name": "python2"
  },
  "language_info": {
   "codemirror_mode": {
    "name": "ipython",
    "version": 2
   },
   "file_extension": ".py",
   "mimetype": "text/x-python",
   "name": "python",
   "nbconvert_exporter": "python",
   "pygments_lexer": "ipython2",
   "version": "2.7.10"
  }
 },
 "nbformat": 4,
 "nbformat_minor": 0
}
