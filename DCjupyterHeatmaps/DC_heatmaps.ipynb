{
 "cells": [
  {
   "cell_type": "markdown",
   "metadata": {},
   "source": [
    "# Stand-alone heatmap of ILC data, z-scored\n",
    "\n",
    "The interaction below loads and initializes a stand alone\n",
    "heatmap widget for exploring gene expression data.  The widget supports\n",
    "selection of genes and conditions using space separated lists of\n",
    "names or \"glob\" patterns.\n",
    "\n",
    "For example to select all `th0` conditions add `th0*` in the conditions\n",
    "text area and click the conditions button.\n",
    "\n",
    "To select `nsf`, `nme4`, and `nudt4` genes add `nsf nme4 nudt4` in the\n",
    "genes text area and click the genes button."
   ]
  },
  {
   "cell_type": "code",
   "execution_count": 31,
   "metadata": {
    "collapsed": true
   },
   "outputs": [],
   "source": [
    "directory=\"/Users/emiraldi/erm/Shared/DCproject/DCjupyterHeatmaps\"\n",
    "\n",
    "zscoreExpFile=\"DC_RNAseq_VSDcounts_zscore_d0_m0.txt\"\n",
    "# DC_RNAseq_VSDcounts_log2_d0_m0.txt\n",
    "log2FCfile=\"DC_RNAseq_2f_log2fcs.txt\"\n",
    "absExpFile=\"DC_RNAseq_lengthNormCounts.txt\"\n",
    "\n",
    "heatmaps2plot = [(\"Z-scored Expression\",zscoreExpFile),\n",
    "                (\"log2(fold-changes), pairwise comparisons\",log2FCfile),\n",
    "                (\"Length-normalized DESeq2 counts\",absExpFile)]\n"
   ]
  },
  {
   "cell_type": "code",
   "execution_count": 32,
   "metadata": {
    "collapsed": false
   },
   "outputs": [],
   "source": [
    "from jp_gene_viz import dExpression\n",
    "dExpression.load_javascript_support()"
   ]
  },
  {
   "cell_type": "code",
   "execution_count": 34,
   "metadata": {
    "collapsed": false
   },
   "outputs": [
    {
     "name": "stdout",
     "output_type": "stream",
     "text": [
      "/Users/emiraldi/erm/Shared/DCproject/DCjupyterHeatmaps/DC_RNAseq_VSDcounts_zscore_d0_m0.txt\n",
      "/Users/emiraldi/erm/Shared/DCproject/DCjupyterHeatmaps/DC_RNAseq_2f_log2fcs.txt\n",
      "/Users/emiraldi/erm/Shared/DCproject/DCjupyterHeatmaps/DC_RNAseq_lengthNormCounts.txt\n"
     ]
    }
   ],
   "source": [
    "for hm in heatmaps2plot:\n",
    "    currExp = hm[1]\n",
    "    currTitle = hm[0]\n",
    "    try:\n",
    "        print directory + '/' + currExp\n",
    "        E = dExpression.display_heat_map(directory + '/' + currExp, show=True)  \n",
    "    except AssertionError:\n",
    "        print directory + '/' + currExp\n",
    "        directory = \".\"\n",
    "        E = dExpression.display_heat_map(directory + '/' + currExp, show=True)    \n",
    "#     E = dExpression.display_heat_map(currExp, show=True)\n",
    "#     E.title(currTitle)"
   ]
  },
  {
   "cell_type": "code",
   "execution_count": null,
   "metadata": {
    "collapsed": true
   },
   "outputs": [],
   "source": []
  }
 ],
 "metadata": {
  "kernelspec": {
   "display_name": "Python 2",
   "language": "python",
   "name": "python2"
  },
  "language_info": {
   "codemirror_mode": {
    "name": "ipython",
    "version": 2
   },
   "file_extension": ".py",
   "mimetype": "text/x-python",
   "name": "python",
   "nbconvert_exporter": "python",
   "pygments_lexer": "ipython2",
   "version": "2.7.10"
  },
  "widgets": {
   "state": {
    "0316a9e2076c4034b4eecf15643b1974": {
     "views": []
    },
    "0357a43caf6e4c8e9b04b57be0761161": {
     "views": []
    },
    "04a3b8eba33b403bbff00a4ce5d1b1b6": {
     "views": []
    },
    "04f83d6daf944e5baaf6adcdc5ae2887": {
     "views": []
    },
    "0532fe3d340f44bfba82e3e7d7b81aca": {
     "views": []
    },
    "055386b7602e44158f822c84305910a0": {
     "views": []
    },
    "057d497762f144dbb8036e2023721e93": {
     "views": []
    },
    "05835ae35b4146aa812109a30f4d1d59": {
     "views": []
    },
    "05ad6157fdc64ef9ab6557d3d60d425e": {
     "views": []
    },
    "0602d79a57c0441c91cc04a14039b939": {
     "views": []
    },
    "06d86e9ec1ad4d79b6371605f55cb6b6": {
     "views": []
    },
    "0741e0aaf91c4a30a2328a6361601fdc": {
     "views": []
    },
    "079e431993ed43548bc01b8ce434af41": {
     "views": []
    },
    "07be575caf0f417f835fe3c286c3ad7c": {
     "views": []
    },
    "087b47f591724f339e79f6d418bb4136": {
     "views": []
    },
    "08bbbc08266e44fd897f132ee5c58330": {
     "views": []
    },
    "08ef13e2e0b14ecab23da84f8a28660a": {
     "views": []
    },
    "0b054413d37b4793a94287847ada852f": {
     "views": []
    },
    "0b481bb9810b4eceb785098a070b823c": {
     "views": []
    },
    "0c24cdd5265d443bb575d221e75dff02": {
     "views": []
    },
    "0d4f9074944c4020993b4d483733d921": {
     "views": []
    },
    "0d5bf7ff7b9c4cf69c87db4182d2e423": {
     "views": []
    },
    "0d5fa56965e949d59f9f60260ae9363f": {
     "views": []
    },
    "0d86a47d6fdb45c9a8047c14a67662d9": {
     "views": []
    },
    "0e4883290c124591bad1795a16a92544": {
     "views": []
    },
    "0eea4c7195364f7ab3701a992e3b41cf": {
     "views": []
    },
    "0ef2d7c2ada84e27a521132da74e468a": {
     "views": []
    },
    "0f010216aa4e4294a879ddff39e52d22": {
     "views": []
    },
    "0f389f3573ae4084aae4dd6a8dffcd24": {
     "views": []
    },
    "0f5a6ac83e0f4993a73713efe8fe96ac": {
     "views": []
    },
    "0f983a1c0a7e492c8a1349c3db455b6f": {
     "views": []
    },
    "101ccf29ee1943ff8b35e6488a4066ce": {
     "views": []
    },
    "103f48c084184abf9472f71bdf631e2e": {
     "views": []
    },
    "109bccfb2d6642328bc14bc96596d1eb": {
     "views": []
    },
    "10ed68ae644e48a9bf9b0da0079a7a94": {
     "views": []
    },
    "11391151b48f44ff97e2e85a84dbf075": {
     "views": []
    },
    "11561512260249938c0c0e95a1db49e4": {
     "views": []
    },
    "11c14574a63e41bbb4b31a52936edbb0": {
     "views": []
    },
    "136b50f8de0d46698608360ca2fadfd8": {
     "views": []
    },
    "13be65c139174830a935bbd471e694d7": {
     "views": []
    },
    "14135d4726504694bc37223a2d84648e": {
     "views": []
    },
    "145584438e66452283bb0cfa68521d9f": {
     "views": []
    },
    "1464a7b8d7a745cd9f9682cda418185b": {
     "views": []
    },
    "157943cf6ce0465b9d46d2c39d1198ac": {
     "views": []
    },
    "15895a741b8947d1803105215e521ac4": {
     "views": []
    },
    "16272a212ab84910b1c156926ac4123a": {
     "views": []
    },
    "1665fdcd75594d0c8d20cd73048e7230": {
     "views": []
    },
    "16ac922282d04803a59408288dab21e2": {
     "views": []
    },
    "17244156a58749bfacf29c206252b2a7": {
     "views": []
    },
    "17b3058708244fcb9832370990216c2a": {
     "views": []
    },
    "187ee81b8fa4470786f16d1062e77ae4": {
     "views": []
    },
    "199baae3e0084523b67b21f8d59f1b2a": {
     "views": []
    },
    "19bd5d1c39694ad79fbb33f9b712fd35": {
     "views": []
    },
    "19de7aed0fd549aabd16ad12d017e8f6": {
     "views": []
    },
    "1a09957ac15c4ca4a64241f943c11943": {
     "views": []
    },
    "1ac05cb718cf47cdb81cd50eaf033beb": {
     "views": []
    },
    "1b0898b905844b0aa8a8aa8ca4f1905a": {
     "views": []
    },
    "1bc1ec66cdfb40b1b1cfce52c30d31ea": {
     "views": []
    },
    "1d49724314164b698c61eb17ed6daf7e": {
     "views": []
    },
    "1d8702156b8a49fea854c9018889958e": {
     "views": []
    },
    "1d8961ab0b4c4790b885f8958e4f62db": {
     "views": []
    },
    "1da6b28426544e188c9348f0bd6b39bb": {
     "views": []
    },
    "1f1b3ada749548848b14738dbb26e65f": {
     "views": []
    },
    "1f1b729f00bd49889de5b846fbfbf842": {
     "views": []
    },
    "213157bb84454509b55d72f9531bb95e": {
     "views": []
    },
    "2132ab057678406b9674430d1689065f": {
     "views": []
    },
    "21654e524d6e43acbbc59093bf12463e": {
     "views": []
    },
    "21da017609d54427a6e8f30397f53c0d": {
     "views": []
    },
    "2313c77d23e5409998767a0c9edfb16a": {
     "views": []
    },
    "245a7f8410eb4159b66a4ad574c68517": {
     "views": []
    },
    "24f047b059424389ac38ca8f5bc4a58b": {
     "views": []
    },
    "24faa4700f4344fc8bf0d105ec43cc7b": {
     "views": []
    },
    "251ec9e59d8d4235be9336ec89bede73": {
     "views": []
    },
    "25f0ecb7c7034e62919284bc0e7d22ce": {
     "views": []
    },
    "264d024e732d4d67873b1831e94fb846": {
     "views": []
    },
    "265a506b83734c2da604d4c74437dca6": {
     "views": []
    },
    "26b211f3905d4b1dae2724e05faeb62b": {
     "views": []
    },
    "2754322d8c9243d9b9c9497b89b14426": {
     "views": []
    },
    "27876b43126f43f5a143bbdbadcf9a98": {
     "views": []
    },
    "27c3f7a769054d59af6d9f9100352314": {
     "views": []
    },
    "27ed36f81a3e4c2a8e303f60aa49c975": {
     "views": []
    },
    "286c7771fbe74ff99753de212ff501c9": {
     "views": []
    },
    "28a9b3e89a3e4590823a0bedeae24059": {
     "views": []
    },
    "28b00ea121a449cca21d346d0c2feb5a": {
     "views": []
    },
    "29b4b3664c2343f2876305fda50d0e67": {
     "views": []
    },
    "2a49d2bc1b274e09aab8df0e4d0177b8": {
     "views": []
    },
    "2a70b1e5735d41948e5e9e8710f38612": {
     "views": []
    },
    "2a8c231cd72947c5bc03845b62189d93": {
     "views": []
    },
    "2ab464f8971c4a33a66b17bfc1639215": {
     "views": []
    },
    "2b190c6bc4ff4dd6bccc9da79f861630": {
     "views": []
    },
    "2b34e4796dc34c268480ced5e5b11e8c": {
     "views": []
    },
    "2b41c0209a964f038822f7d353305e5c": {
     "views": []
    },
    "2b952e91455b4755bb74aff0d9273bc8": {
     "views": []
    },
    "2ea5c80ef7684ac691899137c4303580": {
     "views": []
    },
    "2f4bb25ddfbd416b81cc636d406b7c33": {
     "views": []
    },
    "2fca90c7f59e4eda9432a5a371ef2ab2": {
     "views": []
    },
    "2fcd5403cb4c4e428db4529d0efbf40d": {
     "views": []
    },
    "2fe08d7ceb8949b5bc84c72ae3d72f2a": {
     "views": []
    },
    "30b6a503213347a7ab265a7b75a5668b": {
     "views": []
    },
    "30e801cf2ee14cb3aea8d24b0e5da76c": {
     "views": []
    },
    "31747c6a0cc347dcaaa69f0d3ddbcbde": {
     "views": []
    },
    "31cd98ef8afd465c969c157eb38ee042": {
     "views": []
    },
    "3307543f96d04a20ade0941d9f4fb4ff": {
     "views": []
    },
    "344c2c68c04d465287c24d354b494d3a": {
     "views": [
      {
       "cell_index": 3
      }
     ]
    },
    "3464f261614c45d0b3227673af054832": {
     "views": []
    },
    "346ab5a99c3246c1b2a45ea733645ae4": {
     "views": []
    },
    "3524473d132a402e8efe6e01f09b9962": {
     "views": []
    },
    "35ab40a35b2c4fe0a0e768105078ea27": {
     "views": []
    },
    "35ba89bc61584f1ab4be140a04b90773": {
     "views": []
    },
    "365457f65cd7425aa3b3225b800feeeb": {
     "views": []
    },
    "3712df6d4e084b8c9f032f4ea79a2acc": {
     "views": []
    },
    "37d2aa30d96c40ec913e4bacd809f3b0": {
     "views": []
    },
    "37de7b7f63cb40ccb03120b0dbb32286": {
     "views": []
    },
    "37e8318296cb496e86fe6089dd09885d": {
     "views": []
    },
    "38562dcf0f3f4b4fb7cbf03afb9c6d0b": {
     "views": []
    },
    "38f60dbbb6e3464189de40fd5dff67fd": {
     "views": []
    },
    "390b5bd13ec64d90b7e6e537accd2afd": {
     "views": []
    },
    "392f996f96704287b75d389ba882de8e": {
     "views": []
    },
    "3b631b9ff1274d3fa41ae51be1465fc9": {
     "views": []
    },
    "3b6d0ba413fb4304b3d6ec527f7a2724": {
     "views": []
    },
    "3cf88a9b311b4b68b5ef6eee616d8711": {
     "views": []
    },
    "3d891cf3d5e74b34a04f9d2f8c87ce13": {
     "views": []
    },
    "3da84d45be274901ab8b3a44815752bb": {
     "views": []
    },
    "3e3d7b51cbf245fe9aa90573fb3bcaa5": {
     "views": []
    },
    "3e8c9360c727425fa85be0ca04190b91": {
     "views": []
    },
    "3ebbd93c45c54321a4c3531909a00c56": {
     "views": []
    },
    "3ef1de6bcc1d41d8853289448e3311ec": {
     "views": []
    },
    "3f2e8ad18f224559b91feb50580ae399": {
     "views": []
    },
    "3f6a03997edb4f8c833c0245e735c1c1": {
     "views": []
    },
    "3fd3240ba1a94c9591c323b2d18aa9da": {
     "views": []
    },
    "3fe3f11663f84391906ec10c0f879f8f": {
     "views": []
    },
    "40436acdafac48dfbb8463b6a68c9a31": {
     "views": []
    },
    "41008f2fbd5b4593b147b37a4e2f66e9": {
     "views": []
    },
    "41c6e589b7b645e8b379f3dbb2da3355": {
     "views": []
    },
    "4212bd99d7ca45a7a7af59b26bd6722c": {
     "views": []
    },
    "423324641dd64e0d93cd7ee11d703a52": {
     "views": []
    },
    "423364307f6449939c88e8b6852efba0": {
     "views": []
    },
    "4273c597c62145c6b108d0faf03a9ad9": {
     "views": []
    },
    "43ff4bdf98b6493b82f6f450d6757690": {
     "views": []
    },
    "4421faa4e7c84e37ae2c4eed71c5caec": {
     "views": []
    },
    "44b11fedc6c54c33bac050ac342e58aa": {
     "views": []
    },
    "44ec5ccdcf484097b164ddeffb604ff9": {
     "views": []
    },
    "4514520fda3d45d384281fc3681bad58": {
     "views": []
    },
    "451580e29214462dac16173c84f9a445": {
     "views": []
    },
    "45386de1d4014bbbb3a91bbb1ee7e1c3": {
     "views": []
    },
    "457f0298d0f24e27991ad78740ece7ab": {
     "views": []
    },
    "458120c575e94a0d89d176f5975866bc": {
     "views": []
    },
    "45cfc79cf0024fb08d53299601b35652": {
     "views": []
    },
    "45efe075c977486d8425bed79e3c2deb": {
     "views": []
    },
    "462085d9b7164416a5f84c1c01c0fe7a": {
     "views": []
    },
    "46b1c572cf5a43a39f754c50a48ed84c": {
     "views": []
    },
    "47abdd4a8f0f4628b9f947f95bfd8d2f": {
     "views": []
    },
    "47b3b6090e52423a9e479b271efd07eb": {
     "views": []
    },
    "493061089cf24f4b99f8f44476a561ce": {
     "views": []
    },
    "494c0bb8cb6247b0a765bd2ed7d96a7f": {
     "views": []
    },
    "4a8388d5654e46f780f79f8f1c757e38": {
     "views": []
    },
    "4b2a6e3d19f3478b81a05b2b8e4fa123": {
     "views": []
    },
    "4b4936af6dca439d85900f3b95e5a209": {
     "views": []
    },
    "4bb5e6701bae4632a13cf126642c4514": {
     "views": []
    },
    "4cbf66c877ef488eb4a342d483fe2013": {
     "views": []
    },
    "4d046fcf7297459daa3fcc7bb1a4a599": {
     "views": []
    },
    "4d65dbfa977d4a15bd22466379f2a42c": {
     "views": []
    },
    "4d881939d5744a639d47fa2a751d24c8": {
     "views": []
    },
    "4d89f32825be47a29915619c3822334b": {
     "views": []
    },
    "4e1a422f54034a1e848c95a523432f08": {
     "views": []
    },
    "4e437a9a39df422b8f90cddfdb09c2d0": {
     "views": []
    },
    "4e9d134efb9d40a18ee00996f1f4ae32": {
     "views": []
    },
    "4ee1fafe79064ba19af76c3c2066e469": {
     "views": []
    },
    "4f7289ccc2de4b2db9b80bc335586209": {
     "views": []
    },
    "4fb0a3f4cf614e8e819a95f3bd5e63f9": {
     "views": []
    },
    "4fdabb1262aa401da01369c76fda1814": {
     "views": []
    },
    "502bcf4708d44991a25fa8536fe2ee1d": {
     "views": []
    },
    "514cf9a6344a48028a4bf88b3f9bb5cf": {
     "views": []
    },
    "51a800f61efa4e2ab2218739b1453fa1": {
     "views": []
    },
    "51b4c97e252d419097983c453f86c7fa": {
     "views": []
    },
    "521f2d7555dc4381aa103bc99af55ca2": {
     "views": []
    },
    "52459f8e61b04b5f93f14db169a4b974": {
     "views": []
    },
    "52ed1d3403a84949985310c0dea1a51e": {
     "views": []
    },
    "53699e7392574c80b08cf38356410bc5": {
     "views": []
    },
    "53823bbca42947049883c13d6ace9776": {
     "views": []
    },
    "53a1c5c7520247e7a02368afb393441b": {
     "views": []
    },
    "5529f3f5774242d7bb92a9f528269298": {
     "views": []
    },
    "55b0592e69504c4f9f9c4eda9ad71da6": {
     "views": []
    },
    "56be0d24b61b4dfc9a67289684ffee2f": {
     "views": []
    },
    "5709836a26384af59d067557e81c3e4b": {
     "views": []
    },
    "57d0bd9d90094f4787f5bdca9741480f": {
     "views": []
    },
    "58b1e3e4b7de4199b619471c2b97bb45": {
     "views": []
    },
    "58d8ce4309314d35bde221c9466e6717": {
     "views": [
      {
       "cell_index": 3
      }
     ]
    },
    "58ec3a2c327e412f84fb558eadedc1c8": {
     "views": []
    },
    "5992ea2e98f042a88f7d18809798726c": {
     "views": []
    },
    "5a406207eb2f4b26a02fd5c199608554": {
     "views": []
    },
    "5a66e550b0844574a1734a99098708de": {
     "views": []
    },
    "5a71144d973244169ab0a20d178b1d25": {
     "views": []
    },
    "5b1287587b4047fb8ff0fa99ab92f58d": {
     "views": []
    },
    "5b47ecba4c1b4c48b564c3415beed1ab": {
     "views": []
    },
    "5b7b80bf1e3a44dc99a09f71abcfbc3c": {
     "views": []
    },
    "5ba756ff000345b298511f36416fdd9f": {
     "views": []
    },
    "5c6ca431bd9f4d2f8050141ce5829611": {
     "views": []
    },
    "5c917797af5d4e918142dc566a4502da": {
     "views": []
    },
    "5d9b912fbce6433f8eaa4ab969fc6192": {
     "views": []
    },
    "5daa34f058b9437bb4dfd72ee2695c0f": {
     "views": []
    },
    "5f02e6d788934e0fbe15e86bc945fdca": {
     "views": []
    },
    "5f2568cf1681408bad104dc744f75d1f": {
     "views": []
    },
    "5f518d7f268e41a9a13d4b918c64cddf": {
     "views": []
    },
    "5faa7054d4ef42328b3b2476769ec09b": {
     "views": []
    },
    "610090f44c76457eaee69c5705f7f9ec": {
     "views": []
    },
    "6145e94cd60b4263931a8e42700a4f5f": {
     "views": []
    },
    "61eca2127b14460e9685d9cfb1e9fd0e": {
     "views": []
    },
    "63273716172c4ef78f5809855b3fbb9c": {
     "views": []
    },
    "63345683ec494605bb9e7b36b56dc9f2": {
     "views": []
    },
    "634c438b2f434b1eb4b91ef80404c1c6": {
     "views": []
    },
    "634e2cd663c644da82a7a3ee8c365ead": {
     "views": []
    },
    "641cd6d161ca49df983f4c7689e3e61b": {
     "views": []
    },
    "65134122e2c946088cd2dd7491cbd935": {
     "views": []
    },
    "6700e09421d94ec9ab02664b34691db2": {
     "views": []
    },
    "672735f1564a42668e84fac431b054c9": {
     "views": []
    },
    "67789b1bfeaf44c8ba48c76cc8689d0f": {
     "views": []
    },
    "6798e0ea7fbc49b4b787e1251275b7f5": {
     "views": []
    },
    "694ced9380a344adbfefad0a101387f9": {
     "views": []
    },
    "69ae824b72254a809f4141aaa48a2e15": {
     "views": []
    },
    "6a2c2aa4f634486699f077be26ee163c": {
     "views": []
    },
    "6a628083ac7748408d17cad884ba9c05": {
     "views": []
    },
    "6a9450e1cdd547578fa028a61c6ee2d3": {
     "views": []
    },
    "6b05bcb6a70a4faf96780650f4ac4f04": {
     "views": []
    },
    "6c2810e921ec4998a16477d8a2ccbeff": {
     "views": []
    },
    "6c955e79ee484947bee1b808b32cd8f4": {
     "views": []
    },
    "6cad69d2503949b28fc7cbd0fe817f9e": {
     "views": []
    },
    "6dd64ca44e3b476884b008b555e843e2": {
     "views": []
    },
    "6ddb46e533d64b7a8c57e65197320318": {
     "views": []
    },
    "6e5bfb6b22d141d6a910da66a977c9b1": {
     "views": []
    },
    "6f02e568fd0f4ef297bee91165d122e3": {
     "views": []
    },
    "6f12ca79285447b49890445cde5e7fa7": {
     "views": []
    },
    "700a4a1d57e84ad1876c2f0e7ff0a4e6": {
     "views": []
    },
    "702370f4afad408f97b284aaeea00db2": {
     "views": []
    },
    "708f87e90f0b400da718b4e7aafbf164": {
     "views": []
    },
    "70a323073cd643929e7fe6c75df5224a": {
     "views": []
    },
    "70bbaa2fd76a4949aecc001e3ab7f124": {
     "views": []
    },
    "7157375757e947b4b78239b095b903a7": {
     "views": []
    },
    "716212eaa2334e538bb795284a431c3b": {
     "views": []
    },
    "716f5455c87e44f39ec8b8381372172e": {
     "views": []
    },
    "717e583a71a6498c93821f68531d8859": {
     "views": []
    },
    "7190df7d3fba4201ba7ee89893e4321f": {
     "views": []
    },
    "71b26e9c7985453898897a8136348a90": {
     "views": []
    },
    "71e2e92b782849af8de5f6f0ba0a1778": {
     "views": []
    },
    "7238d74a23a64f568f79f0ff15294a58": {
     "views": []
    },
    "729c7c769b684c72849691e9970fa2d9": {
     "views": []
    },
    "72c34c9768b249cca8ae2e0a26307b3d": {
     "views": []
    },
    "72e732f81fe646d092db48efba3128cc": {
     "views": []
    },
    "730e325ab317406da11d154bb6ffa1e5": {
     "views": []
    },
    "73abe06edf0e42d6aa4b3c3cc5409f97": {
     "views": []
    },
    "7485aacd61d24e51a983aecf51cac725": {
     "views": []
    },
    "74cae6011a7d4c5f872d7c97cd616c1f": {
     "views": []
    },
    "74d157825e34422da7a877df6db73919": {
     "views": []
    },
    "74dd69a14a7949c0a90bce6ef5bd6962": {
     "views": []
    },
    "74f11aadd7fa4203b80d7ad4a008e31d": {
     "views": []
    },
    "74fcf12a27934c04a57551d129f08b71": {
     "views": []
    },
    "768080c9fcee4118913b563afdd4a304": {
     "views": []
    },
    "7726b95badfe42f0b95fc240ae5c229e": {
     "views": []
    },
    "77afbf011a8c4aa598b206994da50ee3": {
     "views": []
    },
    "77bc976f59264f96bdedc62e618b8b6a": {
     "views": []
    },
    "77f0696a011449259e02dbd9d121768f": {
     "views": []
    },
    "78788cac91954f48974135dc0b00f64d": {
     "views": []
    },
    "7924fe2971e54e83a2e465823349b014": {
     "views": []
    },
    "796036ad0b65454c8f48978dbac6e257": {
     "views": []
    },
    "7b778f32d9a34270ab82fea1890539ee": {
     "views": []
    },
    "7bdc4f89329e4fed8e49793de2d20fd9": {
     "views": []
    },
    "7c8e73e36d454576afc4a8f2291421fc": {
     "views": []
    },
    "7cb6397c74694521a15d27bcdb8d25de": {
     "views": []
    },
    "7cee534846cf4f26818f96b17137238e": {
     "views": []
    },
    "7ea7a1a963bf4ea78dca59eb74553fcd": {
     "views": []
    },
    "7eb561dcf4d34b4b901ade8e46501ce1": {
     "views": []
    },
    "7fe43d82ee6a423bb6ce2ce790b75dd2": {
     "views": []
    },
    "803446dcb058425ebe1877074761992c": {
     "views": [
      {
       "cell_index": 3
      }
     ]
    },
    "8122832383e14f1fb4ceacea9d5444a5": {
     "views": []
    },
    "81747a482d1f42b98a0a5c3c39a605a9": {
     "views": []
    },
    "81900dc78a0d4ff1b9c3186ad4e7521f": {
     "views": []
    },
    "81ca7cf5c09d481bac0299647ac7d8b6": {
     "views": []
    },
    "81d30458d02c44e68f4c2aea55ce43cf": {
     "views": []
    },
    "845d84e38c9e464ca756e46255591c45": {
     "views": []
    },
    "84630b7f86bb49fb9b77127a951d0797": {
     "views": []
    },
    "852f8edeb965459fb110284518ca9ce7": {
     "views": []
    },
    "86026fd9e0b94a3f8a7f38a5f92954f5": {
     "views": []
    },
    "86846cf9a0a441b8a325f2e76ae3fb68": {
     "views": []
    },
    "8684a839788d474aa9fc9d8519476d3a": {
     "views": []
    },
    "8890e7ce36624e0b9283cfa07a5bc97d": {
     "views": []
    },
    "889b4c9c96194f87a9f0de3def454e72": {
     "views": []
    },
    "88cae455c6ae47e7919340155b473dc0": {
     "views": []
    },
    "8924ec0be3b545beaa9475c330ae4e3d": {
     "views": []
    },
    "8933b902f2bc4fd69efc607fccddeb84": {
     "views": []
    },
    "8985dc933b0e4829994d35adc851edab": {
     "views": []
    },
    "89bafef2206d4772b08538791a2630bc": {
     "views": []
    },
    "89c51744c18f4663b2af224c82ee0e44": {
     "views": []
    },
    "8a2ea4ef229e47eaa31de8798d8aa596": {
     "views": []
    },
    "8a36188826cc47dfb093184f2f3f312a": {
     "views": []
    },
    "8a921141675f492fa04be4bdaaabd424": {
     "views": []
    },
    "8ae5a022b3d2404fb292c2a0a7dac6c9": {
     "views": []
    },
    "8afb26259843410bbf36ffb5d6eb4f04": {
     "views": []
    },
    "8b85b7befbe24fe8981b613b3d2ea025": {
     "views": []
    },
    "8bb6cd799fc5456c9db39320e40ade7f": {
     "views": []
    },
    "8cb02e2042e44224b689257e5eaed2fa": {
     "views": []
    },
    "8d33e1bbe835438f83e678f4d28612d4": {
     "views": []
    },
    "8dd74ff7b5e948de9df593823cf06f45": {
     "views": []
    },
    "8e80171f0f864dda953e7c0beaec30ec": {
     "views": []
    },
    "8ec06881411d4862a7e69c1dabcf803d": {
     "views": []
    },
    "90e05305d7984a9ba5262b6f6d965e3d": {
     "views": []
    },
    "9159a787d9084c1fa4ec83332ab1e883": {
     "views": []
    },
    "92caa4f701c2409f9118d819c74d5aa5": {
     "views": []
    },
    "92d8f168827c4327b1ea1f566a15d503": {
     "views": []
    },
    "938561b8a59245b29180bc21ed0f7ff4": {
     "views": []
    },
    "95c413470bc642c685abba22f682a95b": {
     "views": []
    },
    "9607fc5c11e343e89b271438d0545299": {
     "views": []
    },
    "965b849faef2442eadda9fa72e5ce9c5": {
     "views": []
    },
    "9798d3ed2b8444d8b485644ab54e3e51": {
     "views": []
    },
    "9883f255d9c64ba9a9d40551bddd342f": {
     "views": []
    },
    "988bccdb12d8494ab8a9488445751076": {
     "views": []
    },
    "990fe2a0f17c4ad8835aeb73922e88da": {
     "views": []
    },
    "997a9cadd8f84a88acb4a1b1d1fe035e": {
     "views": []
    },
    "9989d0fb3e114849b66d17d090d8400a": {
     "views": []
    },
    "99ea6493437745edb722662935325edc": {
     "views": []
    },
    "9ab82704906641f587d05f822768fbff": {
     "views": []
    },
    "9aca79d4556b4d8bbaacca8adf4de621": {
     "views": []
    },
    "9b11d8bcd1304fd29bc4cac3275959a3": {
     "views": []
    },
    "9b29e0aa2f0043f6a72b7f5d2b8f3115": {
     "views": []
    },
    "9b35908e8f28424fa75d275702dcf713": {
     "views": []
    },
    "9b80750f96094ea7bda6063b0d71b141": {
     "views": []
    },
    "9bd0a696ee2849a88957ab0fb743cce3": {
     "views": []
    },
    "9cd51f9b8a964e228ce05108d19be32b": {
     "views": []
    },
    "9d19db9f4f4e41cb8c37f6938009810a": {
     "views": []
    },
    "9e1c437fb58643178df99264a21e92bb": {
     "views": []
    },
    "9e98fd9b293c4105a18738d1a4e7b059": {
     "views": []
    },
    "9ec58230abc946e9b6e2e45883b8168b": {
     "views": []
    },
    "9edddd7d0cea4855a794d0a9da203c5a": {
     "views": []
    },
    "9f1689c211f845d1b58e6e54c2d4a559": {
     "views": []
    },
    "9fc1aff9f3a34d02978939fd32d36f66": {
     "views": []
    },
    "a052e1beb28c49a3bd8703c5da530d2b": {
     "views": []
    },
    "a157ea142dda418cbea0c46a46d70c36": {
     "views": []
    },
    "a3a1e052fcd4407a9c7f067093d6fdab": {
     "views": []
    },
    "a475a74e5d944c55b0731d9c89cd1aa1": {
     "views": []
    },
    "a47ee76338944c3fa015beed7b24d37c": {
     "views": []
    },
    "a697a851b16c45a093c9a76811c7cc46": {
     "views": []
    },
    "a7dc504865134289a33a92ea744ebb6c": {
     "views": []
    },
    "a9359f1dc2b042b2abda73767738e858": {
     "views": []
    },
    "a9660b872fad4f1984c2d8d986003f55": {
     "views": []
    },
    "a9e2da02291349de8907b3ec04cce4bd": {
     "views": []
    },
    "ab0d1790dffe4aec918c3689c3051cbf": {
     "views": []
    },
    "ad61d0562e8c458b8480805f2c478fe9": {
     "views": []
    },
    "add461642c3b4d3f838de530e6493f02": {
     "views": []
    },
    "ae35f8870e5c4ecd805394221cb40f7f": {
     "views": []
    },
    "ae4de6ccfec940c39b831e138f396eb2": {
     "views": []
    },
    "aea19546a2b34a20b26cebb7ca9fc392": {
     "views": []
    },
    "af235bf7e9dc43fb8bf45faa16da7a49": {
     "views": [
      {
       "cell_index": 3
      }
     ]
    },
    "af7d60c029d7401da286ea0d3bdca91d": {
     "views": []
    },
    "af806b2965e5484695c9c1752a9db23e": {
     "views": []
    },
    "b089e102f4eb40bc8bf6475157b1548f": {
     "views": []
    },
    "b0925f504dcd46bf8008faa020a4c655": {
     "views": []
    },
    "b1f80861762340c28a99e34caab1e863": {
     "views": []
    },
    "b23aec4274764cc6b25d020685da0ea0": {
     "views": []
    },
    "b25d05c1b917489f9f9fa617e889d35a": {
     "views": []
    },
    "b45ae719af354d4aa327b4d3f16b8611": {
     "views": []
    },
    "b5603a9d41f847039306be3cb7ec0c59": {
     "views": []
    },
    "b6312e93cb1148669b63d754373d2170": {
     "views": []
    },
    "b7b1bb29093b493697e6eb722abe920f": {
     "views": []
    },
    "b80c43485c30442993363222d3a7f8e0": {
     "views": []
    },
    "b888314808a146e7ad8c3d7877f8b987": {
     "views": []
    },
    "b8b7805fc9d14d28a7e9024dfe1589ee": {
     "views": []
    },
    "b91fa13ea84045db8bb514edda86ad7e": {
     "views": []
    },
    "b9325b0262ee4747ae1c485db1a816eb": {
     "views": []
    },
    "b9f19fc08f2e43278a5dd7906fa0e2ef": {
     "views": []
    },
    "ba8282759f5d44769fa605d107465b6d": {
     "views": []
    },
    "bb04cc6bc5ef42ff95036b29ebabb778": {
     "views": []
    },
    "bba7e5fe95434d39bc4eae71599e7223": {
     "views": []
    },
    "bbe82c8cd9ab48ff9dc5c29369b23efe": {
     "views": []
    },
    "bc9d994c1505466ca40f174707e904ab": {
     "views": []
    },
    "be125bdb49804af0ab38db52f29bfa4d": {
     "views": []
    },
    "c026f56a518643dd8922e2043771d20e": {
     "views": []
    },
    "c03950720e3f4ae4939d33ac239131d0": {
     "views": []
    },
    "c0633d9c0c1b4bc793609bbc7f1a2072": {
     "views": []
    },
    "c093e47de1474b91bd18e82a72b5d872": {
     "views": []
    },
    "c0a8ee9bc33a405cbe9b241235977317": {
     "views": []
    },
    "c16ee68c2a714c729a34a13733a24390": {
     "views": []
    },
    "c1a1a21ee50a4ff6a2d1371983984fee": {
     "views": []
    },
    "c1b28443b2594437bfeb3c3efc1d0dad": {
     "views": []
    },
    "c342ce4f381d44e08d70519f84235f97": {
     "views": []
    },
    "c3c249f8c3034d63bb4b622e4bed1537": {
     "views": []
    },
    "c4342b09f3144738aa83266f083f5ab7": {
     "views": []
    },
    "c45d779304bf420797c27da4658cdf67": {
     "views": []
    },
    "c46d5693249544ddbe21c433eda5e6e9": {
     "views": []
    },
    "c4e916f6dba142baa12de183318fb721": {
     "views": []
    },
    "c5f2351fd6b546718a19589f6e7ad1d4": {
     "views": []
    },
    "c6a7304a19bc49bf912f24eda0ce0458": {
     "views": []
    },
    "c6fe74adeb7f43108936cd5336345595": {
     "views": []
    },
    "c78f45503c074de18aaf40ee85b927e6": {
     "views": []
    },
    "c7dd9bf81d3b41fda05a37fe7951a1e1": {
     "views": []
    },
    "c7f55ba946424c67bea17d7e8a8a60e6": {
     "views": []
    },
    "c82ecb45547c432aae0d216e686b599f": {
     "views": []
    },
    "c954ed82b1e54802ae9f8d38399e0d68": {
     "views": []
    },
    "c978c914ea674c6988b8bd1bb6eaa015": {
     "views": []
    },
    "c9a1b9fd8457469baa704cd0927d7ed2": {
     "views": []
    },
    "ca27074af5034db0acecf99dfeae643c": {
     "views": []
    },
    "cb0e5a899b1a4ae1bee81b862f542823": {
     "views": []
    },
    "cb49d2bec7fc401f85bc178af49abc3d": {
     "views": []
    },
    "cc146847dada4db4a5b72783129c12d3": {
     "views": []
    },
    "ccb8230e5b7b40b8aa8cdb1b483d7279": {
     "views": []
    },
    "ce544007668340b189a764975b50cbfb": {
     "views": []
    },
    "cecb5a72af6b46cf8b02795845d63c6a": {
     "views": []
    },
    "cef3403d46bd4d439c27bdf18453c08d": {
     "views": []
    },
    "d15a4d23ed524642a88690fabe46604c": {
     "views": []
    },
    "d192ae250266479bb01deb7cc97b7de8": {
     "views": []
    },
    "d22fbb1defda498db7f4f22c927fd2cb": {
     "views": []
    },
    "d279d3ea315f42e9bb9ae5157691ddd9": {
     "views": []
    },
    "d27e3c2e193c4fb7bf13cdd5b04217d7": {
     "views": []
    },
    "d29f163920194c24899b040a8d543176": {
     "views": []
    },
    "d3ac4d09f94b4696b5c495302e103ddf": {
     "views": [
      {
       "cell_index": 3
      }
     ]
    },
    "d4b2a295bfe64a7d836fed876e68bc90": {
     "views": []
    },
    "d4d04a62becf481399b50b2cbb6a703e": {
     "views": []
    },
    "d545ea6717534b649db094a8e8370492": {
     "views": []
    },
    "d5641ade0d724a58891c5fc0311d8941": {
     "views": []
    },
    "d6303eb562764c6f9c27c950282197d7": {
     "views": []
    },
    "d6af966f988d4550bddf77635ccdd410": {
     "views": []
    },
    "d72ae66e01454b2884ab57ad2249f194": {
     "views": []
    },
    "d72e1280d71e4ab683c7e8a0ba102a63": {
     "views": []
    },
    "d767b52b55e74a88b145f250d74903a9": {
     "views": []
    },
    "d7b0b2c02beb4070938b4d4575c9d4c3": {
     "views": []
    },
    "d84495c6609843bb85b2c31c317eca11": {
     "views": []
    },
    "d84904de880e4b9c9d4419e56a3d3727": {
     "views": []
    },
    "d937181c8a434136ac2423947821d27a": {
     "views": []
    },
    "d97a9f0569c742e1a8e53ada468b9c45": {
     "views": []
    },
    "d983638ca61e494392e46680e7e56646": {
     "views": []
    },
    "d9ee8b16ed5c44a9b66e6ede644d1668": {
     "views": []
    },
    "d9fbe4ce00344e17be9dc385b61fd148": {
     "views": []
    },
    "db2fba3bde6b4723af53b74e9969b672": {
     "views": []
    },
    "dc131fd8a36343c9a89c30e53cf291bf": {
     "views": []
    },
    "dcc36f66dee342289a0e556c9243b754": {
     "views": []
    },
    "dcca485ee5c0409a840690d263a524d0": {
     "views": []
    },
    "dd2801550e284caebe651ecab9661792": {
     "views": [
      {
       "cell_index": 3
      }
     ]
    },
    "dd41d70ff43446de86872783d6beb839": {
     "views": []
    },
    "ddbde1688dfb47c1b95c8dc602990a27": {
     "views": []
    },
    "de0efed5e9a847f5bf5fba0a6d820fb7": {
     "views": []
    },
    "de95c9b5ca7e4fc0a9ebf0f686495ae1": {
     "views": []
    },
    "de9e8e3802d04c4d8653ad1737db431c": {
     "views": []
    },
    "df8edf17f8d8408f8b7cfb4668babb7f": {
     "views": []
    },
    "dfe6c2cb39024a7cbc89aaa701c12489": {
     "views": []
    },
    "e0b0feab9cb344f88ff719d33eb4e08d": {
     "views": []
    },
    "e0be59e46c504685b33485d7a63e4b2d": {
     "views": []
    },
    "e13b912fbf2c4bba87b372e46ee965e8": {
     "views": []
    },
    "e16230b63881447b8919a1ddad4ad0a4": {
     "views": []
    },
    "e1708ef26d5240748fed9ca58bbe2e12": {
     "views": []
    },
    "e24efba155674cac9f861aa61a48e638": {
     "views": []
    },
    "e3d08bdcc36e4e019813b85a5bbffddf": {
     "views": []
    },
    "e530481208b743f3a802211762d3685c": {
     "views": []
    },
    "e5579b1ae09b4256b87d33f9f21f9f46": {
     "views": []
    },
    "e58eaf22a24144bca8d37d0ad50c2eb8": {
     "views": []
    },
    "e5cf6d2d9eb246849cb7e8f7833ab02d": {
     "views": []
    },
    "e642fe36cfd34b709fe0cd6be16686c3": {
     "views": []
    },
    "e68842d55dff495b9b9ae3b357a8830d": {
     "views": []
    },
    "e6d77a173dc74d1593b7e7b91d9b10ac": {
     "views": []
    },
    "e87bd6ab9f7942d8a9307a1756e2a6db": {
     "views": []
    },
    "e8b6f17856404b6bb28f790465a2ae53": {
     "views": []
    },
    "e918b7ceda4246e5996b12b411226c4d": {
     "views": []
    },
    "e96ce79fc73a46bb82de1f26892f3eeb": {
     "views": []
    },
    "ea15c301dd0946b4abc9b1d5e1b2d1dd": {
     "views": []
    },
    "eb147140f6c445458ebda2a5d9d91829": {
     "views": []
    },
    "eb2666382f03439e941582db573430d2": {
     "views": []
    },
    "eb2cd0e0024e4db39f76420bf06cee83": {
     "views": []
    },
    "ecb13b1ab5a94627a85e53480723e8b9": {
     "views": []
    },
    "ed4ce83bcf1e4c2bb08f02656af4011a": {
     "views": []
    },
    "ed5781cdf258432395657ccf1163daae": {
     "views": []
    },
    "ee114f5c4efe47edbb0bf1c64aecd7a0": {
     "views": []
    },
    "f04ccce329fc4ef99d21963a32da15e5": {
     "views": []
    },
    "f04ec838c4204d55ae922d8d4c686039": {
     "views": []
    },
    "f0fe8589fe954f5f8147fd0d34592442": {
     "views": []
    },
    "f229538187cc42db9d00e8085ec9c3af": {
     "views": []
    },
    "f23e4421a0dc406994ea54bebc3fd521": {
     "views": [
      {
       "cell_index": 3
      }
     ]
    },
    "f2615f9c5e5042b7a748778464158b7e": {
     "views": []
    },
    "f2677a613da24875b49e577354519e6e": {
     "views": []
    },
    "f2b022a14b9d4befbc8e34eced87bdbb": {
     "views": []
    },
    "f2e529cb8b8245b49bc27cc3ef0f01f4": {
     "views": []
    },
    "f360feb0ac244f8faacbbf826440bb41": {
     "views": []
    },
    "f38a726d326d49009d90a7e7a1b146c6": {
     "views": []
    },
    "f420d39d727c4dc288851b2e55d7324a": {
     "views": []
    },
    "f5378a95059d4a39af1f2d6b9379483d": {
     "views": []
    },
    "f618624d62384153916b6d79a207d2c5": {
     "views": []
    },
    "f6fe6870bd3243c7a96ee7cc425e4a0d": {
     "views": []
    },
    "f7258c8c32584ec3ba941fefb10f8e01": {
     "views": []
    },
    "f752a6dadc9543c4a43fdf6f5ff8eb6a": {
     "views": []
    },
    "f7b15ca00e01457f9c15e5b47a40d037": {
     "views": []
    },
    "f822e266724c4887bc54b1b59f5daaf9": {
     "views": []
    },
    "f8b206a2c89c40d5be3ef5c690ef0298": {
     "views": []
    },
    "f8c85e13363242339ef88f4560aeac74": {
     "views": []
    },
    "f91ec1743f1f433ba2cb0b255b3f7fa5": {
     "views": []
    },
    "f97585dcf8d9483d90e65757df847169": {
     "views": []
    },
    "f9d865a59a734ddfac8fcb4ad49b0ee7": {
     "views": []
    },
    "fa00f9855b4a45dfbb6d5a5e7d926227": {
     "views": []
    },
    "fa2d116538cf4456bd4aebee29a2dcec": {
     "views": []
    },
    "fa854423f2c94105bb2ae38c64a42942": {
     "views": []
    },
    "faa8d5072352474fb5702620da937b53": {
     "views": []
    },
    "fae048832ce046b28f406f8d19379225": {
     "views": []
    },
    "fb8f9c5ed7b146a0b85ac63eb20107d2": {
     "views": []
    },
    "fcb993fb46424451895fa984b9619fa0": {
     "views": []
    },
    "fcc31f57715f42f7b04b5ea6e8e44bcc": {
     "views": []
    },
    "fd55772a0ebc457fa41c4d3b404905ef": {
     "views": []
    },
    "fd5d7c2f70744b9095a694f2042c6d7b": {
     "views": []
    },
    "fd629766a6a845bfb2e8f4cab2eaadb9": {
     "views": []
    },
    "fdb28fa74d0d4cd486650cb5d6f9436a": {
     "views": []
    },
    "fe0d893981b54c998ba46f5629a95b29": {
     "views": []
    },
    "ff3bd6c9a10a4289ac7ffd1372477f19": {
     "views": []
    },
    "ff45deb9da684513a130cf3551a1404d": {
     "views": []
    },
    "ff9c086b28bb45fdaabe0bea78093827": {
     "views": []
    },
    "ffa11f1d0c5c4087999c25df657182bd": {
     "views": []
    },
    "ffccf89343ee460b9bc04fba8af4f154": {
     "views": []
    }
   },
   "version": "1.1.2"
  }
 },
 "nbformat": 4,
 "nbformat_minor": 0
}
