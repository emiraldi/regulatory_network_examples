{
 "cells": [
  {
   "cell_type": "markdown",
   "metadata": {},
   "source": [
    "# Stand-alone heatmaps of DC data, z-scored, pairwise log2(FC)s, and absolute expression \n",
    "\n",
    "The interaction below loads and initializes a stand alone\n",
    "heatmap widget for exploring gene expression data.  The widget supports\n",
    "selection of genes and conditions using space separated lists of\n",
    "names or \"glob\" patterns.\n",
    "\n",
    "For example to select all `macrophage` conditions add `*macrophage*` in the conditions\n",
    "text area and click the conditions button.\n",
    "\n",
    "To select `nsf`, `nme4`, and `nudt4` genes add `nsf nme4 nudt4` in the\n",
    "genes text area and click the genes button."
   ]
  },
  {
   "cell_type": "code",
   "execution_count": 1,
   "metadata": {
    "collapsed": true
   },
   "outputs": [],
   "source": [
    "directory=\"/Users/emiraldi/erm/Shared/DCproject/DCjupyterHeatmaps\"\n",
    "\n",
    "zscoreExpFile=\"DC_RNAseq_VSDcounts_zscore_d0_m0.txt\"\n",
    "# DC_RNAseq_VSDcounts_log2_d0_m0.txt\n",
    "log2FCfile=\"DC_RNAseq_2f_log2fcs.txt\"\n",
    "absExpFile=\"DC_RNAseq_lengthNormCounts.txt\"\n",
    "\n",
    "heatmaps2plot = [(\"Z-scored Expression\",zscoreExpFile),\n",
    "                (\"log2(fold-changes), pairwise comparisons\",log2FCfile),\n",
    "                (\"Length-normalized DESeq2 counts\",absExpFile)]\n"
   ]
  },
  {
   "cell_type": "code",
   "execution_count": 2,
   "metadata": {
    "collapsed": false
   },
   "outputs": [
    {
     "data": {
      "application/javascript": [
       "\n",
       "// imitating ipywidgets/docs/source/examples/Custom Widget - Hello World.ipynb\n",
       "\n",
       "//require([\"widgets/js/widget\", \"widgets/js/manager\"], function(widget, manager){\n",
       "\n",
       "require.undef(\"SVGCanvas\");\n",
       "\n",
       "define(\"SVGCanvas\", [\"jupyter-js-widgets\"], function(widgets) {\n",
       "    \n",
       "    var svgEventHandlerFactory = function(that) {\n",
       "        var svgEventHandler = function(e) {\n",
       "            var target = e.target;\n",
       "            var info = {};\n",
       "            for (var attr in e) {\n",
       "                var val = e[attr];\n",
       "                var ty = (typeof val);\n",
       "                if ((ty == \"number\") ||\n",
       "                    (ty == \"string\") ||\n",
       "                    (ty == \"boolean\")) {\n",
       "                    info[attr] = val;\n",
       "                }\n",
       "            }\n",
       "            info.name = target.ipy_name;\n",
       "            var ept = SVGEventLocation(that, e);\n",
       "            info.svgX = ept.x;\n",
       "            info.svgY = ept.y;\n",
       "            var json = JSON.stringify(info);\n",
       "            that.model.set(\"event\", json);\n",
       "            that.touch();\n",
       "        };\n",
       "        return svgEventHandler;\n",
       "    };\n",
       "\n",
       "    var SVGEventLocation = function(that, e) {\n",
       "        // http://stackoverflow.com/questions/10298658/mouse-position-inside-autoscaled-svg\n",
       "        var pt = that.reference_point;\n",
       "        var svg = that.$svg[0];\n",
       "        pt.x = e.clientX;\n",
       "        pt.y = e.clientY;\n",
       "        return pt.matrixTransform(svg.getScreenCTM().inverse());\n",
       "    }\n",
       "    \n",
       "    var SVGCanvasView = widgets.DOMWidgetView.extend({\n",
       "        \n",
       "        render: function() {\n",
       "            var that = this;\n",
       "            var svg = that.svg_elt(\"svg\");\n",
       "            var eventHandler = svgEventHandlerFactory(that);\n",
       "            that.eventHandler = eventHandler;\n",
       "            that.named_elements = {};\n",
       "            svg.ipy_name = \"\";\n",
       "            that.$svg = $(svg);\n",
       "            that.reference_point = svg.createSVGPoint();\n",
       "            svg.setAttribute(\"preserveAspectRatio\", \"none\");\n",
       "            that.$el.append(that.$svg);\n",
       "            that.svg_parameters_changed();\n",
       "            that.commands_changed();\n",
       "            that.start_watch_event();\n",
       "            that.model.on(\"change:commands\", that.commands_changed, that);\n",
       "            that.model.on(\"change:viewBox\", that.svg_parameters_changed, that);\n",
       "            that.model.on(\"change:svg_width\", that.svg_parameters_changed, that);\n",
       "            that.model.on(\"change:svg_height\", that.svg_parameters_changed, that);\n",
       "            that.model.on(\"change:style\", that.svg_parameters_changed, that);\n",
       "            that.model.on(\"change:watch_event\", that.start_watch_event, that);\n",
       "            that.model.on(\"change:unwatch_event\", that.stop_watch_event, that);\n",
       "        },\n",
       "        \n",
       "        start_watch_event: function() {\n",
       "            var that = this;\n",
       "            var event_types = that.model.get(\"watch_event\");\n",
       "            if (event_types != \"\") {\n",
       "                that.$svg.on(event_types, that.eventHandler);\n",
       "                that.model.set(\"watch_event\", \"\");\n",
       "                that.touch();\n",
       "            }\n",
       "        },\n",
       "        \n",
       "        stop_watch_event: function() {\n",
       "            var that = this;\n",
       "            var event_types = that.model.get(\"unwatch_event\");\n",
       "            if (event_types != \"\") {\n",
       "                that.$svg.off(event_types);\n",
       "                that.model.set(\"watch_event\", \"\");\n",
       "                that.touch();\n",
       "            }\n",
       "        },\n",
       "        \n",
       "        commands_changed: function() {\n",
       "            var that = this;\n",
       "            var svg = that.$svg[0];\n",
       "            var commands = that.get_JSON(\"commands\")\n",
       "            for (var i=0; i<commands.length; i++) {\n",
       "                var command_dict = commands[i];\n",
       "                var indicator = command_dict[\"command\"];\n",
       "                var method = that[\"do_\"+indicator];\n",
       "                method(that, command_dict);\n",
       "            }\n",
       "        },\n",
       "\n",
       "        do_fit: function(that, info) {\n",
       "            // fit viewport to bounding box.\n",
       "            var svg = that.$svg[0];\n",
       "            var bbox = svg.getBBox();\n",
       "            var D = {\"width\": bbox.width, \"height\": bbox.height, \"x\": bbox.x, \"y\": bbox.y}\n",
       "            var vbox = \"\" + D.x + \" \" + D.y + \" \" + D.width + \" \" + D.height;\n",
       "            if ((D.width > 0) && (D.height > 0)) {\n",
       "                that.model.set(\"boundingBox\", D);\n",
       "                if (info.changeView) {\n",
       "                    that.model.set(\"viewBox\", vbox);\n",
       "                }\n",
       "                // Element viewBox will be updated later by model change.\n",
       "                that.touch();\n",
       "            }\n",
       "        },\n",
       "        \n",
       "        do_add_element: function (that, info) {\n",
       "            var tag = info.tag;\n",
       "            var name = info.name;\n",
       "            var element = that.svg_elt(tag);\n",
       "            element.ipy_name = name;\n",
       "            var $element = $(element);\n",
       "            that.update_element($element, info);\n",
       "            // add event callbacks\n",
       "            that.$svg.append($element);\n",
       "            that.named_elements[name] = $element;\n",
       "        },\n",
       "        \n",
       "        do_change_element: function (that, info) {\n",
       "            var name = info.name;\n",
       "            var $element = that.named_elements[name];\n",
       "            if ($element) {\n",
       "                that.update_element($element, info);\n",
       "            } else {\n",
       "                console.warn(\"couldn't find element for \"+name);\n",
       "            }\n",
       "        },\n",
       "        \n",
       "        do_delete: function (that, info) {\n",
       "            var names = info.names;\n",
       "            for (var i=0; i<names.length; i++) {\n",
       "                var name = names[i];\n",
       "                var $element = that.named_elements[name];\n",
       "                if ($element) {\n",
       "                    $element.remove();\n",
       "                    delete that.named_elements[name];\n",
       "                }\n",
       "            }\n",
       "        },\n",
       "        \n",
       "        update_element: function($element, info) {\n",
       "            var element = $element[0];\n",
       "            var atts = info.atts;\n",
       "            var style = info.style;\n",
       "            var text = info.text;\n",
       "            if (atts) {\n",
       "                for (var att in atts) {\n",
       "                    element.setAttribute(att, atts[att]);\n",
       "                }\n",
       "            }\n",
       "            if (style) {\n",
       "                for (var styling in style) {\n",
       "                    element.style[styling] = style[styling];\n",
       "                }\n",
       "            }\n",
       "            if (text) {\n",
       "                $element.empty();\n",
       "                var node = document.createTextNode(text);\n",
       "                element.appendChild(node);\n",
       "            }\n",
       "        },\n",
       "        \n",
       "        do_empty: function (that, info) {\n",
       "            that.named_elements = {};\n",
       "            that.$svg.empty();\n",
       "        },\n",
       "        \n",
       "        svg_parameters_changed: function() {\n",
       "            var that = this;\n",
       "            var style_additions = that.get_JSON(\"style\");\n",
       "            var svg = that.$svg[0];\n",
       "            svg.setAttribute(\"viewBox\", that.model.get(\"viewBox\"));\n",
       "            svg.setAttribute(\"width\", that.model.get(\"svg_width\"));\n",
       "            svg.setAttribute(\"height\", that.model.get(\"svg_height\"));\n",
       "            for (var style_attr in style_additions) {\n",
       "                svg.style[style_attr] = style_additions[style_attr];\n",
       "            }\n",
       "        },\n",
       "        \n",
       "        get_JSON: function(name) {\n",
       "            var json = this.model.get(name);\n",
       "            return $.parseJSON(json);\n",
       "        },\n",
       "        \n",
       "        svg_elt: function(kind) {\n",
       "            return document.createElementNS('http://www.w3.org/2000/svg', kind);\n",
       "        }\n",
       "        \n",
       "    });\n",
       "    \n",
       "    //manager.WidgetManager.register_widget_view('SVGCanvasView', SVGCanvasView);\n",
       "    return {\n",
       "        SVGCanvasView: SVGCanvasView\n",
       "    }\n",
       "});\n"
      ],
      "text/plain": [
       "<IPython.core.display.Javascript object>"
      ]
     },
     "metadata": {},
     "output_type": "display_data"
    }
   ],
   "source": [
    "from jp_gene_viz import dExpression\n",
    "dExpression.load_javascript_support()"
   ]
  },
  {
   "cell_type": "code",
   "execution_count": 3,
   "metadata": {
    "collapsed": false
   },
   "outputs": [
    {
     "name": "stdout",
     "output_type": "stream",
     "text": [
      "/Users/emiraldi/erm/Shared/DCproject/DCjupyterHeatmaps/DC_RNAseq_VSDcounts_zscore_d0_m0.txt\n",
      "/Users/emiraldi/erm/Shared/DCproject/DCjupyterHeatmaps/DC_RNAseq_2f_log2fcs.txt\n",
      "/Users/emiraldi/erm/Shared/DCproject/DCjupyterHeatmaps/DC_RNAseq_lengthNormCounts.txt\n"
     ]
    }
   ],
   "source": [
    "for hm in heatmaps2plot:\n",
    "    currExp = hm[1]\n",
    "    currTitle = hm[0]\n",
    "    try:\n",
    "        print directory + '/' + currExp\n",
    "        E = dExpression.display_heat_map(directory + '/' + currExp, show=True)  \n",
    "    except IOError:\n",
    "        print directory + '/' + currExp\n",
    "        directory = \".\"\n",
    "        E = dExpression.display_heat_map(directory + '/' + currExp, show=True)    \n",
    "#     E = dExpression.display_heat_map(currExp, show=True)\n",
    "#     E.title(currTitle)"
   ]
  },
  {
   "cell_type": "code",
   "execution_count": null,
   "metadata": {
    "collapsed": true
   },
   "outputs": [],
   "source": []
  }
 ],
 "metadata": {
  "kernelspec": {
   "display_name": "Python 2",
   "language": "python",
   "name": "python2"
  },
  "language_info": {
   "codemirror_mode": {
    "name": "ipython",
    "version": 2
   },
   "file_extension": ".py",
   "mimetype": "text/x-python",
   "name": "python",
   "nbconvert_exporter": "python",
   "pygments_lexer": "ipython2",
   "version": "2.7.10"
  },
  "widgets": {
   "state": {
    "00e1ea6f37384709858000a3ae55ab0f": {
     "views": []
    },
    "018c2dc399c540e398e71e5ad86d3a9a": {
     "views": []
    },
    "08de035ec70d424d8e2f6080ac0c094f": {
     "views": [
      {
       "cell_index": 3
      }
     ]
    },
    "12b77cac0469498c919dbd641d3a7897": {
     "views": []
    },
    "16f72381c19b4b498eb0eb0ecfa3985e": {
     "views": []
    },
    "18d89e469b31469c95e24b1ecde23555": {
     "views": []
    },
    "1d2448c673bc4ff2a9145a53236dcf97": {
     "views": []
    },
    "1d5576be92ef4d0f8724fdfa0444bcf5": {
     "views": []
    },
    "1e9971fd11f64c8fa4c656b9aad9f647": {
     "views": [
      {
       "cell_index": 3
      }
     ]
    },
    "1ef8a9e6d45a4c6d886adf46a5088ac1": {
     "views": []
    },
    "21794abb24ce47faa7d53becf820604c": {
     "views": []
    },
    "263b64e7339e400597f6556254b2f737": {
     "views": []
    },
    "26ac683fa16c4287a686ff57e5db7648": {
     "views": []
    },
    "289e31c609d54ec6bd4fcac83eaba7ea": {
     "views": []
    },
    "28ce8247d6d04235882d0dcecde2e597": {
     "views": []
    },
    "29460e98af9f4b139218f2c40e87d8e6": {
     "views": []
    },
    "2ab0b4b3b90445f4a71465bfe130010e": {
     "views": []
    },
    "2acbf8c172894611bc8e5bd82ef424c4": {
     "views": []
    },
    "31a0a55d9ca04c20a837f598e4c23726": {
     "views": []
    },
    "31b8699389e2430ebed3ee90504e0778": {
     "views": []
    },
    "34a77fd6b4bd455cb19bc50bdbab9275": {
     "views": []
    },
    "3780b9d5252a460f930f3f7f57b2ade9": {
     "views": []
    },
    "3a100c35d2864739933c0fc904bb5898": {
     "views": []
    },
    "3fee42fae0f74ee6964e18fa1c3f346f": {
     "views": []
    },
    "46555bac7d284f61b8a573a123a51749": {
     "views": []
    },
    "467db89d5d9d4d2890f3bdbda599c25b": {
     "views": []
    },
    "46d46d8a03614f138ac847724b02e756": {
     "views": []
    },
    "475f0cf942db42f38461c6cfeaf479c6": {
     "views": []
    },
    "484f961c906c477bb9850928febc2833": {
     "views": []
    },
    "48c9b21bb0774a63828681c6fa93a44c": {
     "views": []
    },
    "4d95a98a24b94bd393430b63f310a1cf": {
     "views": []
    },
    "4e729b60610044af9c2dbc65962bb8d9": {
     "views": []
    },
    "4eaae8e8e6494a0d82b1a46c685c5b85": {
     "views": []
    },
    "4ec493a530de49eeb5a9e9f1393bb10d": {
     "views": []
    },
    "50509118196648c1957f5c0277d6159e": {
     "views": []
    },
    "513d5ac558d344b6924c71181c89f36c": {
     "views": []
    },
    "5794b087a2734614956a4e6c3594bac3": {
     "views": []
    },
    "5c8af6fd003f4548afb917630fecc2e7": {
     "views": []
    },
    "5d3bb05b3bf74f96849978a99ba037af": {
     "views": []
    },
    "68ea5c2e11f7498f86ad273ab4c721ac": {
     "views": []
    },
    "693b6142b7ee47e182e60ff78049a59c": {
     "views": []
    },
    "69a5f04332e24439bc58f72e4df16d81": {
     "views": []
    },
    "6a231cef27894eb89c579464a72c9130": {
     "views": []
    },
    "6d7422f3315d4e41813a07a20c1519aa": {
     "views": []
    },
    "6e23c1b037fa4560b6e32bf0f98eb8dd": {
     "views": []
    },
    "71792f61b48641bf8929fd0584e9d5b0": {
     "views": []
    },
    "72d3237399384dda9a386d968c349458": {
     "views": []
    },
    "78b17f49339b42338b6a22066591028b": {
     "views": []
    },
    "7a98780f9b714bc3a11e17090b9d8c5b": {
     "views": []
    },
    "7b8371c591df4b9b931355b690bc98d2": {
     "views": []
    },
    "7dcbc262da3b4d3b97f731bb85890ea1": {
     "views": []
    },
    "7eaed4c1887845268694329876670776": {
     "views": []
    },
    "876cebb7a0824a649b6a8d04ee0e2fcb": {
     "views": []
    },
    "876e457e56e74b039c6c47a6f01d2e10": {
     "views": []
    },
    "890eba3bbb734030a29bb5bdf091f1e4": {
     "views": []
    },
    "89f4d40cbfba4315a3b974138231216b": {
     "views": []
    },
    "92cc6c76e41d4c6b90a05d29d5398085": {
     "views": []
    },
    "960064ee919043c2965e04ccfdae0e38": {
     "views": []
    },
    "9807c05c0f324d45b3f96094672b0968": {
     "views": []
    },
    "982c8186a4664f0db747d6ccdbba0ea3": {
     "views": []
    },
    "99b6553dc89e4853878ad2d294f51b78": {
     "views": []
    },
    "9aa01cb3ca524eda8a1f1c3c5155fc12": {
     "views": []
    },
    "9b01ec276091480290e2c871d32b4a30": {
     "views": []
    },
    "9eb428ec7abd4e8c8e624adaa15dc938": {
     "views": []
    },
    "a07a3b5de8334d54a22755cfba5959a4": {
     "views": []
    },
    "a280d62a20724b059240ed199e4ac347": {
     "views": []
    },
    "a7fb47f9c6fa452596e6a191aa84231e": {
     "views": []
    },
    "a8a3b394aa9c4b95b055847424754c71": {
     "views": []
    },
    "a8cb4b4496724cdca69a1bd1ae5088bb": {
     "views": []
    },
    "a9c38d2dde29467d9d29ae7d23ea36a5": {
     "views": []
    },
    "ac0d7a4a27a942c3aeb953e115d7da9f": {
     "views": [
      {
       "cell_index": 3
      }
     ]
    },
    "ae4230fb9ae64788822bcddb24839bb6": {
     "views": []
    },
    "af9d1194af5141cea1a7fbef39016f1d": {
     "views": []
    },
    "b5738ccc8c34437f83f01e30bca6bc3f": {
     "views": []
    },
    "b76dcc68515f4fe888178db2abb568be": {
     "views": []
    },
    "bd12fee340f4453db896d98cff675be2": {
     "views": []
    },
    "c3ad836faee746fdb1453db079aac3bc": {
     "views": []
    },
    "c3b621205cb842ecb786f47e6860b5ea": {
     "views": []
    },
    "c6a5d9d905a94d9a849af1ac260e4378": {
     "views": []
    },
    "c86be0be953d49cb9ad0e127337df9e5": {
     "views": []
    },
    "c989974f9b9e4c589fdaa66caa13b3fd": {
     "views": []
    },
    "cda582bfc1cc45d68d071c39a5ffdd0c": {
     "views": []
    },
    "cdbdf5f8a1ad46c59ea6ad7694d410d7": {
     "views": []
    },
    "cfb7451bae2b4c009bf29174c2a6116c": {
     "views": []
    },
    "cfd4f77f70f04eb8ac638c982898d139": {
     "views": []
    },
    "d05c2c8261dc4182944fa84ef496bac5": {
     "views": []
    },
    "d208539b54314ab68813812b100fea35": {
     "views": []
    },
    "d3aef0d302b94362ab16ec11a0d0575d": {
     "views": []
    },
    "d430e819d80f41f196182ec547a1a08f": {
     "views": []
    },
    "dc05926d16ed430aac5d374f5fa48a76": {
     "views": []
    },
    "dde0a37bb2bb4154841cad1d6677afb4": {
     "views": []
    },
    "e14b350fdcfa4f76a1d045c32209fe0c": {
     "views": []
    },
    "ea9cb0583ff2429da4cdfe16c83657dd": {
     "views": []
    },
    "ef26e284365b459598dbe9f4754532d3": {
     "views": []
    },
    "f24e318387174cb085aea9160beb594b": {
     "views": []
    },
    "f4f86f382e304d9bb2970e0691c58cc4": {
     "views": []
    },
    "f5128e22f8d9407f9a00707c56404437": {
     "views": []
    },
    "f7524ea229b94ba8b43570baaeb6bc96": {
     "views": []
    },
    "f7b46c40ee014a9b891fdc4f0396dea6": {
     "views": []
    },
    "f8ed3d3a9cc040c5a99a38bcc6cf50a7": {
     "views": []
    },
    "fc999ade27464a5b96a90d2460f1681f": {
     "views": []
    },
    "fcb351ef80bf4fe2b513ce34c518aac0": {
     "views": []
    }
   },
   "version": "1.1.2"
  }
 },
 "nbformat": 4,
 "nbformat_minor": 0
}
