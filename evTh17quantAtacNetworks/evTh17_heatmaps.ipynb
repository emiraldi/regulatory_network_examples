{
 "cells": [
  {
   "cell_type": "markdown",
   "metadata": {},
   "source": [
    "# Stand-alone heatmaps of ex vivo Th data, z-scored, pairwise log2(FC)s, and absolute expression \n",
    "\n",
    "The interaction below loads and initializes a stand alone\n",
    "heatmap widget for exploring gene expression data.  The widget supports\n",
    "selection of genes and conditions using space separated lists of\n",
    "names or \"glob\" patterns.\n",
    "\n",
    "For example to select all `macrophage` conditions add `*macrophage*` in the conditions\n",
    "text area and click the conditions button.\n",
    "\n",
    "To select `nsf`, `nme4`, and `nudt4` genes add `nsf nme4 nudt4` in the\n",
    "genes text area and click the genes button."
   ]
  },
  {
   "cell_type": "code",
   "execution_count": 1,
   "metadata": {
    "collapsed": true
   },
   "outputs": [],
   "source": [
    "directory=\"/Users/emiraldi/erm/Shared/exVivoTh17/evTh17quantAtacNetworks_binder\"\n",
    "\n",
    "log2FCfile=\"evTh17_RNA_log2fcs.txt\"\n",
    "absExpFile=\"evTh17_RNA_lengthNormCounts.txt\"\n",
    "\n",
    "heatmaps2plot = [(\"Length-normalized DESeq2 counts\",absExpFile),\n",
    "                 (\"log2(fold-changes), pairwise comparisons\",log2FCfile)]"
   ]
  },
  {
   "cell_type": "code",
   "execution_count": 2,
   "metadata": {
    "collapsed": false
   },
   "outputs": [
    {
     "data": {
      "application/javascript": [
       "\n",
       "// imitating ipywidgets/docs/source/examples/Custom Widget - Hello World.ipynb\n",
       "\n",
       "//require([\"widgets/js/widget\", \"widgets/js/manager\"], function(widget, manager){\n",
       "\n",
       "require.undef(\"SVGCanvas\");\n",
       "\n",
       "define(\"SVGCanvas\", [\"jupyter-js-widgets\"], function(widgets) {\n",
       "    \n",
       "    var svgEventHandlerFactory = function(that) {\n",
       "        var svgEventHandler = function(e) {\n",
       "            var target = e.target;\n",
       "            var info = {};\n",
       "            for (var attr in e) {\n",
       "                var val = e[attr];\n",
       "                var ty = (typeof val);\n",
       "                if ((ty == \"number\") ||\n",
       "                    (ty == \"string\") ||\n",
       "                    (ty == \"boolean\")) {\n",
       "                    info[attr] = val;\n",
       "                }\n",
       "            }\n",
       "            info.name = target.ipy_name;\n",
       "            var ept = SVGEventLocation(that, e);\n",
       "            info.svgX = ept.x;\n",
       "            info.svgY = ept.y;\n",
       "            var json = JSON.stringify(info);\n",
       "            that.model.set(\"event\", json);\n",
       "            that.touch();\n",
       "        };\n",
       "        return svgEventHandler;\n",
       "    };\n",
       "\n",
       "    var SVGEventLocation = function(that, e) {\n",
       "        // http://stackoverflow.com/questions/10298658/mouse-position-inside-autoscaled-svg\n",
       "        var pt = that.reference_point;\n",
       "        var svg = that.$svg[0];\n",
       "        pt.x = e.clientX;\n",
       "        pt.y = e.clientY;\n",
       "        return pt.matrixTransform(svg.getScreenCTM().inverse());\n",
       "    }\n",
       "    \n",
       "    var SVGCanvasView = widgets.DOMWidgetView.extend({\n",
       "        \n",
       "        render: function() {\n",
       "            var that = this;\n",
       "            var svg = that.svg_elt(\"svg\");\n",
       "            var eventHandler = svgEventHandlerFactory(that);\n",
       "            that.eventHandler = eventHandler;\n",
       "            that.named_elements = {};\n",
       "            svg.ipy_name = \"\";\n",
       "            that.$svg = $(svg);\n",
       "            that.reference_point = svg.createSVGPoint();\n",
       "            svg.setAttribute(\"preserveAspectRatio\", \"none\");\n",
       "            that.$el.append(that.$svg);\n",
       "            that.svg_parameters_changed();\n",
       "            that.commands_changed();\n",
       "            that.start_watch_event();\n",
       "            that.model.on(\"change:commands\", that.commands_changed, that);\n",
       "            that.model.on(\"change:viewBox\", that.svg_parameters_changed, that);\n",
       "            that.model.on(\"change:svg_width\", that.svg_parameters_changed, that);\n",
       "            that.model.on(\"change:svg_height\", that.svg_parameters_changed, that);\n",
       "            that.model.on(\"change:style\", that.svg_parameters_changed, that);\n",
       "            that.model.on(\"change:watch_event\", that.start_watch_event, that);\n",
       "            that.model.on(\"change:unwatch_event\", that.stop_watch_event, that);\n",
       "        },\n",
       "        \n",
       "        start_watch_event: function() {\n",
       "            var that = this;\n",
       "            var event_types = that.model.get(\"watch_event\");\n",
       "            if (event_types != \"\") {\n",
       "                that.$svg.on(event_types, that.eventHandler);\n",
       "                that.model.set(\"watch_event\", \"\");\n",
       "                that.touch();\n",
       "            }\n",
       "        },\n",
       "        \n",
       "        stop_watch_event: function() {\n",
       "            var that = this;\n",
       "            var event_types = that.model.get(\"unwatch_event\");\n",
       "            if (event_types != \"\") {\n",
       "                that.$svg.off(event_types);\n",
       "                that.model.set(\"watch_event\", \"\");\n",
       "                that.touch();\n",
       "            }\n",
       "        },\n",
       "        \n",
       "        commands_changed: function() {\n",
       "            var that = this;\n",
       "            var svg = that.$svg[0];\n",
       "            var commands = that.get_JSON(\"commands\")\n",
       "            for (var i=0; i<commands.length; i++) {\n",
       "                var command_dict = commands[i];\n",
       "                var indicator = command_dict[\"command\"];\n",
       "                var method = that[\"do_\"+indicator];\n",
       "                method(that, command_dict);\n",
       "            }\n",
       "        },\n",
       "\n",
       "        do_fit: function(that, info) {\n",
       "            // fit viewport to bounding box.\n",
       "            var svg = that.$svg[0];\n",
       "            var bbox = svg.getBBox();\n",
       "            var D = {\"width\": bbox.width, \"height\": bbox.height, \"x\": bbox.x, \"y\": bbox.y}\n",
       "            var vbox = \"\" + D.x + \" \" + D.y + \" \" + D.width + \" \" + D.height;\n",
       "            if ((D.width > 0) && (D.height > 0)) {\n",
       "                that.model.set(\"boundingBox\", D);\n",
       "                if (info.changeView) {\n",
       "                    that.model.set(\"viewBox\", vbox);\n",
       "                }\n",
       "                // Element viewBox will be updated later by model change.\n",
       "                that.touch();\n",
       "            }\n",
       "        },\n",
       "        \n",
       "        do_add_element: function (that, info) {\n",
       "            var tag = info.tag;\n",
       "            var name = info.name;\n",
       "            var element = that.svg_elt(tag);\n",
       "            element.ipy_name = name;\n",
       "            var $element = $(element);\n",
       "            that.update_element($element, info);\n",
       "            // add event callbacks\n",
       "            that.$svg.append($element);\n",
       "            that.named_elements[name] = $element;\n",
       "        },\n",
       "        \n",
       "        do_change_element: function (that, info) {\n",
       "            var name = info.name;\n",
       "            var $element = that.named_elements[name];\n",
       "            if ($element) {\n",
       "                that.update_element($element, info);\n",
       "            } else {\n",
       "                console.warn(\"couldn't find element for \"+name);\n",
       "            }\n",
       "        },\n",
       "        \n",
       "        do_delete: function (that, info) {\n",
       "            var names = info.names;\n",
       "            for (var i=0; i<names.length; i++) {\n",
       "                var name = names[i];\n",
       "                var $element = that.named_elements[name];\n",
       "                if ($element) {\n",
       "                    $element.remove();\n",
       "                    delete that.named_elements[name];\n",
       "                }\n",
       "            }\n",
       "        },\n",
       "        \n",
       "        update_element: function($element, info) {\n",
       "            var element = $element[0];\n",
       "            var atts = info.atts;\n",
       "            var style = info.style;\n",
       "            var text = info.text;\n",
       "            if (atts) {\n",
       "                for (var att in atts) {\n",
       "                    element.setAttribute(att, atts[att]);\n",
       "                }\n",
       "            }\n",
       "            if (style) {\n",
       "                for (var styling in style) {\n",
       "                    element.style[styling] = style[styling];\n",
       "                }\n",
       "            }\n",
       "            if (text) {\n",
       "                $element.empty();\n",
       "                var node = document.createTextNode(text);\n",
       "                element.appendChild(node);\n",
       "            }\n",
       "        },\n",
       "        \n",
       "        do_empty: function (that, info) {\n",
       "            that.named_elements = {};\n",
       "            that.$svg.empty();\n",
       "        },\n",
       "        \n",
       "        svg_parameters_changed: function() {\n",
       "            var that = this;\n",
       "            var style_additions = that.get_JSON(\"style\");\n",
       "            var svg = that.$svg[0];\n",
       "            svg.setAttribute(\"viewBox\", that.model.get(\"viewBox\"));\n",
       "            svg.setAttribute(\"width\", that.model.get(\"svg_width\"));\n",
       "            svg.setAttribute(\"height\", that.model.get(\"svg_height\"));\n",
       "            for (var style_attr in style_additions) {\n",
       "                svg.style[style_attr] = style_additions[style_attr];\n",
       "            }\n",
       "        },\n",
       "        \n",
       "        get_JSON: function(name) {\n",
       "            var json = this.model.get(name);\n",
       "            return $.parseJSON(json);\n",
       "        },\n",
       "        \n",
       "        svg_elt: function(kind) {\n",
       "            return document.createElementNS('http://www.w3.org/2000/svg', kind);\n",
       "        }\n",
       "        \n",
       "    });\n",
       "    \n",
       "    //manager.WidgetManager.register_widget_view('SVGCanvasView', SVGCanvasView);\n",
       "    return {\n",
       "        SVGCanvasView: SVGCanvasView\n",
       "    }\n",
       "});\n"
      ],
      "text/plain": [
       "<IPython.core.display.Javascript object>"
      ]
     },
     "metadata": {},
     "output_type": "display_data"
    }
   ],
   "source": [
    "from jp_gene_viz import dExpression\n",
    "dExpression.load_javascript_support()"
   ]
  },
  {
   "cell_type": "code",
   "execution_count": 3,
   "metadata": {
    "collapsed": false
   },
   "outputs": [
    {
     "name": "stdout",
     "output_type": "stream",
     "text": [
      "/Users/emiraldi/erm/Shared/exVivoTh17/evTh17quantAtacNetworks_binder/evTh17_RNA_lengthNormCounts.txt\n",
      "/Users/emiraldi/erm/Shared/exVivoTh17/evTh17quantAtacNetworks_binder/evTh17_RNA_log2fcs.txt\n"
     ]
    }
   ],
   "source": [
    "for hm in heatmaps2plot:\n",
    "    currExp = hm[1]\n",
    "    currTitle = hm[0]\n",
    "    try:\n",
    "        print directory + '/' + currExp\n",
    "        E = dExpression.display_heat_map(directory + '/' + currExp, show=True)  \n",
    "    except IOError:\n",
    "        print directory + '/' + currExp\n",
    "        directory = \".\"\n",
    "        E = dExpression.display_heat_map(directory + '/' + currExp, show=True)    \n",
    "#     E = dExpression.display_heat_map(currExp, show=True)\n",
    "#     E.title(currTitle)"
   ]
  },
  {
   "cell_type": "code",
   "execution_count": null,
   "metadata": {
    "collapsed": true
   },
   "outputs": [],
   "source": []
  }
 ],
 "metadata": {
  "kernelspec": {
   "display_name": "Python 2",
   "language": "python",
   "name": "python2"
  },
  "language_info": {
   "codemirror_mode": {
    "name": "ipython",
    "version": 2
   },
   "file_extension": ".py",
   "mimetype": "text/x-python",
   "name": "python",
   "nbconvert_exporter": "python",
   "pygments_lexer": "ipython2",
   "version": "2.7.10"
  },
  "widgets": {
   "state": {
    "0800c08bad834592984242a55913cd23": {
     "views": []
    },
    "0aa899f84a5744c7b0ff8b161419f802": {
     "views": []
    },
    "0cf1fa3ed5d644db840720b32deebf7b": {
     "views": []
    },
    "1291941d379540aabb76f67164eec33e": {
     "views": []
    },
    "1be2f1c77d3641f6a8277d84c5a66608": {
     "views": []
    },
    "1bf64cc283aa4580b80d30fc875cefbf": {
     "views": []
    },
    "21bcc5a7cf644870839337d6ef2362e0": {
     "views": []
    },
    "2bcce1b938aa40b7b6e245f15646bc64": {
     "views": []
    },
    "2c1dcfab6840459d853b57395b709414": {
     "views": []
    },
    "2f828a08f5aa4a1db2d32abc9ce33e7e": {
     "views": []
    },
    "363410f3d558430ea802687b28cc15d4": {
     "views": []
    },
    "3924a748f7d54a99960a383faca1c10a": {
     "views": []
    },
    "3b845025ec05486fa54f628021603fe9": {
     "views": []
    },
    "3cc8eb7b1eeb4a1697d989f2f785c11e": {
     "views": []
    },
    "3e2f465e478f44ea8479748d3749f034": {
     "views": []
    },
    "4301dbb9892b4cd1a8a871035ef38376": {
     "views": []
    },
    "45a01b9af71e44cb9fa76326b6b974e5": {
     "views": []
    },
    "49ccd86be4724f689b040e1a343a6e83": {
     "views": []
    },
    "4b12ef771b6049869a006a8f5828610d": {
     "views": [
      {
       "cell_index": 3
      }
     ]
    },
    "4c5207fa741d4e85907341cdbc42d6e4": {
     "views": []
    },
    "4ce95b18fc5f40db951701378622d88f": {
     "views": []
    },
    "4ea5d155614e43ccb8f7f0929af0d491": {
     "views": []
    },
    "51da40b1883f4281b054af0e716bd779": {
     "views": []
    },
    "5344fe36c7814103acbacdd7339ac804": {
     "views": []
    },
    "5f8d14948d994f33a32be9bce17a521a": {
     "views": []
    },
    "607f673e8d5945999c117ea8f33930b0": {
     "views": []
    },
    "66d7df1fdec641108e6e6e1bd549d4fa": {
     "views": []
    },
    "678373f7bcb74f879878ea0eedfd52b2": {
     "views": []
    },
    "6b9f8c1efa62411782906c5a3230f4ff": {
     "views": []
    },
    "6d77809f35494498b1d422937fb0ed3a": {
     "views": []
    },
    "6ff4f67732084dcdacf1aac079634a60": {
     "views": []
    },
    "7142909671a84996a4f670d34c39cf63": {
     "views": []
    },
    "7168a4c16b6746e4af3afe1bacf30b7d": {
     "views": []
    },
    "717f0ea35df04d6898d396b36766fd1b": {
     "views": []
    },
    "71e6e094648444ffad1b8ce7da759eb8": {
     "views": []
    },
    "765534a275394d4eaee8e9eb2527657e": {
     "views": []
    },
    "76c628cf6840418aaaf498081d92cc67": {
     "views": []
    },
    "7c11e225cfcb4cd092c70b5d3a86909c": {
     "views": []
    },
    "7cdc989eeff849709e36ad7a9ffd5276": {
     "views": []
    },
    "81a1642821514442ab2f42133ad96ab4": {
     "views": []
    },
    "8bbc7670498b4f3c85fbfe2a6bbf6988": {
     "views": []
    },
    "8e23a2c64ad7494d861b24b15fc275ff": {
     "views": []
    },
    "9db1146778c24ac895e1d2da48f4c6d2": {
     "views": []
    },
    "a38c3469e92b405988aab5f9bd8fcf30": {
     "views": []
    },
    "ab200abd8d8d4260ba701e0d7319fbcf": {
     "views": []
    },
    "ae6dad42ea3f44ce9bf0c362bba618da": {
     "views": []
    },
    "b64f8370e7ff41bdbe30165d87495e1b": {
     "views": []
    },
    "b8096dfefb1740af8877ba7987a940ea": {
     "views": []
    },
    "ba0aadbb6bf34138a488288e2ce69989": {
     "views": []
    },
    "bf7174fa212c448ab42a99be8be2c2ab": {
     "views": []
    },
    "c147aa5ce6de4961919d354d6fb5c10b": {
     "views": []
    },
    "c1551f47199e482fbd3ebac374af9571": {
     "views": []
    },
    "c1896e98c38d4d9b95e7f0ef618b4048": {
     "views": []
    },
    "c49ceedc96d14abfb0785d852e0ee280": {
     "views": []
    },
    "c52c894b96084bdfac66877126f1b43e": {
     "views": []
    },
    "c669768c438b438e930ceba3de4013f5": {
     "views": []
    },
    "c80ca1c5e31246b8af234d55b34f0137": {
     "views": []
    },
    "c9bc78973be04035adfc82235fad29ee": {
     "views": []
    },
    "ca2af12f9df24770bdfa9ef6a94e3e3c": {
     "views": []
    },
    "cab8cd99eadb4122bb528f78855f380f": {
     "views": []
    },
    "ce4ee0fd84e7427aa167ba14c70a2df7": {
     "views": []
    },
    "ceeb7197290e4145a8323edb933de4ed": {
     "views": []
    },
    "cfbeedc74a414e57bb372581bba7d6aa": {
     "views": []
    },
    "d24f2c6a26b04291aec9f5154a4293cb": {
     "views": []
    },
    "d5f15af0f5d74227bf87b31e5cdfe3ca": {
     "views": []
    },
    "d8b83a791a864cedb3f8c113acdae23c": {
     "views": []
    },
    "d9c972878d0e422d9399038ffbfef86b": {
     "views": []
    },
    "db097e5e1e84411e83741016e4ff41a7": {
     "views": []
    },
    "df14e9641af2432280c2bb254c9338c5": {
     "views": []
    },
    "df7d9447803141bcb55abe0bf08d59e5": {
     "views": []
    },
    "df8ea289550f49bdab51152a22f3b8c3": {
     "views": []
    },
    "e9dc5dca2a4b4be7a561eb3a7357af6b": {
     "views": []
    },
    "ea38470167ae471ebb9af937be13337b": {
     "views": []
    },
    "eaade8a50fb848d88f34c71433414e1e": {
     "views": []
    },
    "eabd75f1dcb64c28b92c1328ab5b3835": {
     "views": []
    },
    "edf544e7b9524ec2899525eed6db555e": {
     "views": [
      {
       "cell_index": 3
      }
     ]
    },
    "efc76b38dbdd4337973eb599cda16c05": {
     "views": []
    },
    "f304a03b3fd54031b785f761970c9840": {
     "views": []
    },
    "f5d92f9b9cf94a47b51a59b188a415f1": {
     "views": []
    },
    "fc497a3446b54b47927959998207c4a9": {
     "views": []
    }
   },
   "version": "1.1.2"
  }
 },
 "nbformat": 4,
 "nbformat_minor": 0
}
