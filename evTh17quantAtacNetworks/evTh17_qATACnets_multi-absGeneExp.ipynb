{
 "cells": [
  {
   "cell_type": "code",
   "execution_count": 1,
   "metadata": {
    "collapsed": true
   },
   "outputs": [],
   "source": [
    "## Networks are synchronized, TF motif is only associated with annotated TF (more conservative)\n",
    "directory = \"/Users/emiraldi/erm/Shared/exVivoTh17/evTh17quantAtacNetworks\" # note \"try\" statement below, will also check current directory\n",
    "\n",
    "# networkInfs is a list of tuples (title of network, network directory)\n",
    "networkInfs = [('No sharing of motifs',\"GeneSets_FC1_FDR25/ATACseq_qc_max4_body_bp10000/evTh17nets_pFC1_FDR25_rawp0001_hyg001\")]\n",
    "networkInits = [(\"Th17_EAE_sp.tsv\",\"IL17pos_SC_EAE_1\",\"EAE SC Th17 (abs exp)\"),\n",
    "    (\"Th17_SI_sp.tsv\",\"IL17pos_SI_SS\",\"SI Th17 (abs exp)\"),\n",
    "    (\"IL17neg_EAE_sp.tsv\",\"IL17neg_SC_EAE\",\"EAE SC IL17a- Th (abs exp)\"),\n",
    "    (\"IL17neg_SI_sp.tsv\",\"IL17neg_SI_SS\",\"SI IL17a- Th (abs exp)\")]\n",
    "\n",
    "expressionFile = \"evTh17_RNA_lengthNormCounts.txt\"\n",
    "\n",
    "threshhold = .2"
   ]
  },
  {
   "cell_type": "code",
   "execution_count": 2,
   "metadata": {
    "collapsed": false
   },
   "outputs": [
    {
     "data": {
      "application/javascript": [
       "\n",
       "// imitating ipywidgets/docs/source/examples/Custom Widget - Hello World.ipynb\n",
       "\n",
       "//require([\"widgets/js/widget\", \"widgets/js/manager\"], function(widget, manager){\n",
       "\n",
       "require.undef(\"SVGCanvas\");\n",
       "\n",
       "define(\"SVGCanvas\", [\"jupyter-js-widgets\"], function(widgets) {\n",
       "    \n",
       "    var svgEventHandlerFactory = function(that) {\n",
       "        var svgEventHandler = function(e) {\n",
       "            var target = e.target;\n",
       "            var info = {};\n",
       "            for (var attr in e) {\n",
       "                var val = e[attr];\n",
       "                var ty = (typeof val);\n",
       "                if ((ty == \"number\") ||\n",
       "                    (ty == \"string\") ||\n",
       "                    (ty == \"boolean\")) {\n",
       "                    info[attr] = val;\n",
       "                }\n",
       "            }\n",
       "            info.name = target.ipy_name;\n",
       "            var ept = SVGEventLocation(that, e);\n",
       "            info.svgX = ept.x;\n",
       "            info.svgY = ept.y;\n",
       "            var json = JSON.stringify(info);\n",
       "            that.model.set(\"event\", json);\n",
       "            that.touch();\n",
       "        };\n",
       "        return svgEventHandler;\n",
       "    };\n",
       "\n",
       "    var SVGEventLocation = function(that, e) {\n",
       "        // http://stackoverflow.com/questions/10298658/mouse-position-inside-autoscaled-svg\n",
       "        var pt = that.reference_point;\n",
       "        var svg = that.$svg[0];\n",
       "        pt.x = e.clientX;\n",
       "        pt.y = e.clientY;\n",
       "        return pt.matrixTransform(svg.getScreenCTM().inverse());\n",
       "    }\n",
       "    \n",
       "    var SVGCanvasView = widgets.DOMWidgetView.extend({\n",
       "        \n",
       "        render: function() {\n",
       "            var that = this;\n",
       "            var svg = that.svg_elt(\"svg\");\n",
       "            var eventHandler = svgEventHandlerFactory(that);\n",
       "            that.eventHandler = eventHandler;\n",
       "            that.named_elements = {};\n",
       "            svg.ipy_name = \"\";\n",
       "            that.$svg = $(svg);\n",
       "            that.reference_point = svg.createSVGPoint();\n",
       "            svg.setAttribute(\"preserveAspectRatio\", \"none\");\n",
       "            that.$el.append(that.$svg);\n",
       "            that.svg_parameters_changed();\n",
       "            that.commands_changed();\n",
       "            that.start_watch_event();\n",
       "            that.model.on(\"change:commands\", that.commands_changed, that);\n",
       "            that.model.on(\"change:viewBox\", that.svg_parameters_changed, that);\n",
       "            that.model.on(\"change:svg_width\", that.svg_parameters_changed, that);\n",
       "            that.model.on(\"change:svg_height\", that.svg_parameters_changed, that);\n",
       "            that.model.on(\"change:style\", that.svg_parameters_changed, that);\n",
       "            that.model.on(\"change:watch_event\", that.start_watch_event, that);\n",
       "            that.model.on(\"change:unwatch_event\", that.stop_watch_event, that);\n",
       "        },\n",
       "        \n",
       "        start_watch_event: function() {\n",
       "            var that = this;\n",
       "            var event_types = that.model.get(\"watch_event\");\n",
       "            if (event_types != \"\") {\n",
       "                that.$svg.on(event_types, that.eventHandler);\n",
       "                that.model.set(\"watch_event\", \"\");\n",
       "                that.touch();\n",
       "            }\n",
       "        },\n",
       "        \n",
       "        stop_watch_event: function() {\n",
       "            var that = this;\n",
       "            var event_types = that.model.get(\"unwatch_event\");\n",
       "            if (event_types != \"\") {\n",
       "                that.$svg.off(event_types);\n",
       "                that.model.set(\"watch_event\", \"\");\n",
       "                that.touch();\n",
       "            }\n",
       "        },\n",
       "        \n",
       "        commands_changed: function() {\n",
       "            var that = this;\n",
       "            var svg = that.$svg[0];\n",
       "            var commands = that.get_JSON(\"commands\")\n",
       "            for (var i=0; i<commands.length; i++) {\n",
       "                var command_dict = commands[i];\n",
       "                var indicator = command_dict[\"command\"];\n",
       "                var method = that[\"do_\"+indicator];\n",
       "                method(that, command_dict);\n",
       "            }\n",
       "        },\n",
       "\n",
       "        do_fit: function(that, info) {\n",
       "            // fit viewport to bounding box.\n",
       "            var svg = that.$svg[0];\n",
       "            var bbox = svg.getBBox();\n",
       "            var D = {\"width\": bbox.width, \"height\": bbox.height, \"x\": bbox.x, \"y\": bbox.y}\n",
       "            var vbox = \"\" + D.x + \" \" + D.y + \" \" + D.width + \" \" + D.height;\n",
       "            if ((D.width > 0) && (D.height > 0)) {\n",
       "                that.model.set(\"boundingBox\", D);\n",
       "                if (info.changeView) {\n",
       "                    that.model.set(\"viewBox\", vbox);\n",
       "                }\n",
       "                // Element viewBox will be updated later by model change.\n",
       "                that.touch();\n",
       "            }\n",
       "        },\n",
       "        \n",
       "        do_add_element: function (that, info) {\n",
       "            var tag = info.tag;\n",
       "            var name = info.name;\n",
       "            var element = that.svg_elt(tag);\n",
       "            element.ipy_name = name;\n",
       "            var $element = $(element);\n",
       "            that.update_element($element, info);\n",
       "            // add event callbacks\n",
       "            that.$svg.append($element);\n",
       "            that.named_elements[name] = $element;\n",
       "        },\n",
       "        \n",
       "        do_change_element: function (that, info) {\n",
       "            var name = info.name;\n",
       "            var $element = that.named_elements[name];\n",
       "            if ($element) {\n",
       "                that.update_element($element, info);\n",
       "            } else {\n",
       "                console.warn(\"couldn't find element for \"+name);\n",
       "            }\n",
       "        },\n",
       "        \n",
       "        do_delete: function (that, info) {\n",
       "            var names = info.names;\n",
       "            for (var i=0; i<names.length; i++) {\n",
       "                var name = names[i];\n",
       "                var $element = that.named_elements[name];\n",
       "                if ($element) {\n",
       "                    $element.remove();\n",
       "                    delete that.named_elements[name];\n",
       "                }\n",
       "            }\n",
       "        },\n",
       "        \n",
       "        update_element: function($element, info) {\n",
       "            var element = $element[0];\n",
       "            var atts = info.atts;\n",
       "            var style = info.style;\n",
       "            var text = info.text;\n",
       "            if (atts) {\n",
       "                for (var att in atts) {\n",
       "                    element.setAttribute(att, atts[att]);\n",
       "                }\n",
       "            }\n",
       "            if (style) {\n",
       "                for (var styling in style) {\n",
       "                    element.style[styling] = style[styling];\n",
       "                }\n",
       "            }\n",
       "            if (text) {\n",
       "                $element.empty();\n",
       "                var node = document.createTextNode(text);\n",
       "                element.appendChild(node);\n",
       "            }\n",
       "        },\n",
       "        \n",
       "        do_empty: function (that, info) {\n",
       "            that.named_elements = {};\n",
       "            that.$svg.empty();\n",
       "        },\n",
       "        \n",
       "        svg_parameters_changed: function() {\n",
       "            var that = this;\n",
       "            var style_additions = that.get_JSON(\"style\");\n",
       "            var svg = that.$svg[0];\n",
       "            svg.setAttribute(\"viewBox\", that.model.get(\"viewBox\"));\n",
       "            svg.setAttribute(\"width\", that.model.get(\"svg_width\"));\n",
       "            svg.setAttribute(\"height\", that.model.get(\"svg_height\"));\n",
       "            for (var style_attr in style_additions) {\n",
       "                svg.style[style_attr] = style_additions[style_attr];\n",
       "            }\n",
       "        },\n",
       "        \n",
       "        get_JSON: function(name) {\n",
       "            var json = this.model.get(name);\n",
       "            return $.parseJSON(json);\n",
       "        },\n",
       "        \n",
       "        svg_elt: function(kind) {\n",
       "            return document.createElementNS('http://www.w3.org/2000/svg', kind);\n",
       "        }\n",
       "        \n",
       "    });\n",
       "    \n",
       "    //manager.WidgetManager.register_widget_view('SVGCanvasView', SVGCanvasView);\n",
       "    return {\n",
       "        SVGCanvasView: SVGCanvasView\n",
       "    }\n",
       "});\n"
      ],
      "text/plain": [
       "<IPython.core.display.Javascript object>"
      ]
     },
     "metadata": {},
     "output_type": "display_data"
    },
    {
     "data": {
      "application/javascript": [
       "\n",
       "// This is the javascript side to match js_proxy.py.\n",
       "// See js_proxy.py for an explanation of the command transfer\n",
       "// protocol\n",
       "\n",
       "// imitating ipywidgets/docs/source/examples/Custom Widget - Hello World.ipynb\n",
       "\n",
       "//require([\"widgets/js/widget\", \"widgets/js/manager\", \"underscore\", \"jquery\"\n",
       "//], function(widget, manager, _, $) {\n",
       "\n",
       "require.undef(\"JSProxy\");\n",
       "\n",
       "define(\"JSProxy\", [\"jupyter-js-widgets\"], function(widgets) {\n",
       "\n",
       "    var JSProxyView = widgets.DOMWidgetView.extend({\n",
       "\n",
       "        render: function() {\n",
       "            var that = this;\n",
       "            that.on(\"displayed\", function() {\n",
       "                that.update();\n",
       "            });\n",
       "            // Wrap $el as a proper jQuery object\n",
       "            that.$$el = $(that.$el);\n",
       "            // \"new\" keyword emulation\n",
       "            // http://stackoverflow.com/questions/17342497/dynamically-control-arguments-while-creating-objects-in-javascript\n",
       "            that.$$el.New = function(klass, args) {\n",
       "                var obj = Object.create(klass.prototype);\n",
       "                return klass.apply(obj, args) || obj;\n",
       "            };\n",
       "\n",
       "            // fix key bindings for wayward element.\n",
       "            // XXXX This is a bit of a hack that may not be needed in future\n",
       "            // Jupyter releases.\n",
       "            that.$$el.Fix = function(element) {\n",
       "                debugger;\n",
       "                that.model.widget_manager.keyboard_manager.register_events(element);\n",
       "            };\n",
       "        },\n",
       "\n",
       "        update: function(options) {\n",
       "            var that = this;\n",
       "            var commands = that.model.get(\"commands\");\n",
       "            if (commands.length >= 2) {\n",
       "                var command_counter = commands[0];\n",
       "                var command_list = commands[1];\n",
       "                var level = commands[2];\n",
       "                level = that.check_level(level);\n",
       "                var results = [];\n",
       "                _.each(command_list, function(command,i) {\n",
       "                    var result = that.execute_command(command);\n",
       "                    results[i] = that.json_safe(result, level);\n",
       "                });\n",
       "                that.model.set(\"commands\", []);\n",
       "                that.model.set(\"results\", [command_counter, results])\n",
       "                that.touch();\n",
       "            }\n",
       "        },\n",
       "\n",
       "        execute_command: function(command) {\n",
       "            var that = this;\n",
       "            var result = command;\n",
       "            if ($.isArray(command)) {\n",
       "                var indicator = command[0];\n",
       "                var remainder = command.slice();\n",
       "                remainder.shift();\n",
       "                if (indicator == \"element\") {\n",
       "                    // Make sure the element is wrapped as a proper JQuery(UI) object\n",
       "                    if (!that.$$el) {\n",
       "                        that.$$el = $(that.$el);\n",
       "                    }\n",
       "                    result = that.$$el;\n",
       "                } else if (indicator == \"window\") {\n",
       "                    result = window;\n",
       "                } else if (indicator == \"method\") {\n",
       "                    var target_desc = remainder.shift();\n",
       "                    var target = that.execute_command(target_desc);\n",
       "                    var name = remainder.shift();\n",
       "                    var args = remainder.map(that.execute_command, that);\n",
       "                    var method = target[name];\n",
       "                    if (method) {\n",
       "                        result = method.apply(target, args);\n",
       "                    } else {\n",
       "                        result = \"In \" + target + \" no such method \" + name;\n",
       "                    }\n",
       "                } else if (indicator == \"function\") {\n",
       "                    var function_desc = remainder.shift();\n",
       "                    var function_value = that.execute_command(function_desc);\n",
       "                    var args = remainder.map(that.execute_command, that);\n",
       "                    // Use \"that\" as the \"this\" value for function values?\n",
       "                    result = function_value.apply(that, args);\n",
       "                } else if (indicator == \"id\") {\n",
       "                    result = remainder[0];\n",
       "                } else if (indicator == \"list\") {\n",
       "                    result = remainder.map(that.execute_command, that);\n",
       "                } else if (indicator == \"dict\") {\n",
       "                    result = {}\n",
       "                    var desc = remainder[0];\n",
       "                    for (var key in desc) {\n",
       "                        var key_desc = desc[key];\n",
       "                        var val = that.execute_command(key_desc);\n",
       "                        result[key] = val;\n",
       "                    }\n",
       "                } else if (indicator == \"callback\") {\n",
       "                    var identifier = remainder.shift();\n",
       "                    var data = remainder.shift();\n",
       "                    var level = remainder.shift();\n",
       "                    // sanity check\n",
       "                    level = that.check_level(level);\n",
       "                    result = that.callback_factory(identifier, data, level);\n",
       "                } else if (indicator == \"get\") {\n",
       "                    var target_desc = remainder.shift();\n",
       "                    var target = that.execute_command(target_desc);\n",
       "                    var name = remainder.shift();\n",
       "                    try {\n",
       "                        result = target[name];\n",
       "                    } catch(err) {\n",
       "                        result = \"failed to get \"+name+\" from \"+target+\" :: \"+err;\n",
       "                    }\n",
       "                } else if (indicator == \"set\") {\n",
       "                    var target_desc = remainder.shift();\n",
       "                    var target = that.execute_command(target_desc);\n",
       "                    var name = remainder.shift();\n",
       "                    var value_desc = remainder.shift()\n",
       "                    var value = that.execute_command(value_desc);\n",
       "                    target[name] = value;\n",
       "                    result = target;\n",
       "                } else if (indicator == \"null\") {\n",
       "                    target_desc = remainder.shift();\n",
       "                    that.execute_command(target_desc);\n",
       "                    result = null;\n",
       "                } else {\n",
       "                    result = \"Unknown indicator \" + indicator;\n",
       "                }\n",
       "            }\n",
       "            return result;\n",
       "        },\n",
       "\n",
       "        check_level: function(level) {\n",
       "            if ((typeof level) != \"number\" || (level < 0)) {\n",
       "                level = 0;\n",
       "            } else if (level > 5) {\n",
       "                level = 5;\n",
       "            }\n",
       "            return level;\n",
       "        },\n",
       "\n",
       "        callback_factory: function(identifier, data, level) {\n",
       "            var that = this;\n",
       "            // Counter makes sure change is noticed even if other arguments don't change.\n",
       "            var counter = 0;\n",
       "            var handler = function () {\n",
       "                counter += 1;\n",
       "                var payload = that.json_safe([identifier, data, arguments, counter], level + 1);\n",
       "                that.model.set(\"callback_results\", payload);\n",
       "                that.touch();\n",
       "            };\n",
       "            return handler;\n",
       "        },\n",
       "\n",
       "        json_safe: function(val, depth) {\n",
       "            // maybe expand later as need arises\n",
       "            var that = this;\n",
       "            var ty = (typeof val);\n",
       "            if ((ty == \"number\") || (ty == \"string\") || (ty == \"boolean\")) {\n",
       "                return val;\n",
       "            }\n",
       "            if (!val) {\n",
       "                // translate all other falsies to None\n",
       "                return null;\n",
       "            }\n",
       "            if (((typeof depth) == \"number\") && (depth > 0)) {\n",
       "                if ($.isArray(val)) {\n",
       "                    var result = [];\n",
       "                    _.each(val, function(elt, i) {\n",
       "                        var r = that.json_safe(elt, depth-1);\n",
       "                        if (r != null) {\n",
       "                            result[i] = r;\n",
       "                        }\n",
       "                    });\n",
       "                    return result;\n",
       "                } else {\n",
       "                    var result = {};\n",
       "                    for (var key in val) {\n",
       "                        var jv = that.json_safe(val[key], depth-1);\n",
       "                        if (jv != null) {\n",
       "                            result[key] = jv;\n",
       "                        }\n",
       "                    }\n",
       "                    return result;\n",
       "                }\n",
       "            }\n",
       "            return null;\n",
       "        }\n",
       "\n",
       "    });\n",
       "\n",
       "    //manager.WidgetManager.register_widget_view('JSProxyView', JSProxyView);\n",
       "    return {\n",
       "        JSProxyView: JSProxyView\n",
       "    }\n",
       "});\n"
      ],
      "text/plain": [
       "<IPython.core.display.Javascript object>"
      ]
     },
     "metadata": {},
     "output_type": "display_data"
    },
    {
     "data": {
      "application/javascript": [
       "/*\n",
       "jQuery plugin for a color arrow cursor over an element.\n",
       "\n",
       "Based on\n",
       "http://stackoverflow.com/questions/18779354/assign-color-to-mouse-cursor-using-css\n",
       "*/\n",
       "\n",
       "(function ($) {\n",
       "\n",
       "    $.fn.color_cursor = function(color) {\n",
       "        var that = this;\n",
       "        var cvs = document.createElement(\"canvas\");\n",
       "        cvs.height = 16;\n",
       "        cvs.width = 16;\n",
       "        var ctx = cvs.getContext(\"2d\");\n",
       "        ctx.strokeStyle = color;\n",
       "        ctx.lineWidth = 4;\n",
       "        ctx.lineCap = \"round\";\n",
       "        ctx.moveTo(2, 12);\n",
       "        ctx.lineTo(2, 2);\n",
       "        ctx.lineTo(12, 2);\n",
       "        ctx.moveTo(2, 2);\n",
       "        ctx.lineTo(30, 30)    \n",
       "        ctx.stroke();\n",
       "        var url = cvs.toDataURL();\n",
       "        that.css(\"cursor\", \"url(\" + url + '), auto');\n",
       "        return that;\n",
       "    };\n",
       "\n",
       "    $.fn.color_cursor_reset = function () {\n",
       "        this.css(\"cursor\", \"\");\n",
       "        return this;\n",
       "    };\n",
       "\n",
       "    $.fn.color_cursor.example = function (element) {\n",
       "        debugger;\n",
       "        var d = $(\"<div>Cursor should be red over me. Click to reset.</div>\")\n",
       "            .color_cursor(\"red\");\n",
       "        var reset = function() {\n",
       "            d.color_cursor_reset();\n",
       "            d.html(\"Now the cursor should be normal\");\n",
       "        }\n",
       "        d.click(reset);\n",
       "        element.append(d);\n",
       "        return element;\n",
       "    };\n",
       "\n",
       "})(jQuery)\n"
      ],
      "text/plain": [
       "<IPython.core.display.Javascript object>"
      ]
     },
     "metadata": {},
     "output_type": "display_data"
    }
   ],
   "source": [
    "import sys\n",
    "if \"..\" not in sys.path:\n",
    "    sys.path.append(\"..\")\n",
    "from jp_gene_viz import dNetwork\n",
    "dNetwork.load_javascript_support()\n",
    "from jp_gene_viz import multiple_network\n",
    "from jp_gene_viz import LExpression\n",
    "LExpression.load_javascript_support()\n",
    "# from jp_gene_viz import motif_data\n",
    "# C = motif_data.MotifCollection()\n",
    "# # for extra safety \"rU\" reads with universal line ending support\n",
    "# C.read_meme_file(open(directory + '/' + \"mm9_em.meme\", \"rU\"))\n",
    "# C.read_meme_file(open(directory + '/' + \"hg19_em.meme\", \"rU\"))"
   ]
  },
  {
   "cell_type": "code",
   "execution_count": 3,
   "metadata": {
    "collapsed": false
   },
   "outputs": [
    {
     "name": "stdout",
     "output_type": "stream",
     "text": [
      "/Users/emiraldi/erm/Shared/exVivoTh17/evTh17quantAtacNetworks\n",
      "GeneSets_FC1_FDR25/ATACseq_qc_max4_body_bp10000/evTh17nets_pFC1_FDR25_rawp0001_hyg001\n",
      "Th17_EAE_sp.tsv\n",
      "/Users/emiraldi/erm/Shared/exVivoTh17/evTh17quantAtacNetworks/GeneSets_FC1_FDR25/ATACseq_qc_max4_body_bp10000/evTh17nets_pFC1_FDR25_rawp0001_hyg001/Th17_EAE_sp.tsv\n",
      "('Reading network', './GeneSets_FC1_FDR25/ATACseq_qc_max4_body_bp10000/evTh17nets_pFC1_FDR25_rawp0001_hyg001/Th17_EAE_sp.tsv')\n",
      "('Loading saved layout', './GeneSets_FC1_FDR25/ATACseq_qc_max4_body_bp10000/evTh17nets_pFC1_FDR25_rawp0001_hyg001/Th17_EAE_sp.tsv.layout.json')\n",
      ".\n",
      "GeneSets_FC1_FDR25/ATACseq_qc_max4_body_bp10000/evTh17nets_pFC1_FDR25_rawp0001_hyg001\n",
      "Th17_SI_sp.tsv\n",
      "./GeneSets_FC1_FDR25/ATACseq_qc_max4_body_bp10000/evTh17nets_pFC1_FDR25_rawp0001_hyg001/Th17_SI_sp.tsv\n",
      "('Reading network', './GeneSets_FC1_FDR25/ATACseq_qc_max4_body_bp10000/evTh17nets_pFC1_FDR25_rawp0001_hyg001/Th17_SI_sp.tsv')\n",
      "('Loading saved layout', './GeneSets_FC1_FDR25/ATACseq_qc_max4_body_bp10000/evTh17nets_pFC1_FDR25_rawp0001_hyg001/Th17_SI_sp.tsv.layout.json')\n",
      ".\n",
      "GeneSets_FC1_FDR25/ATACseq_qc_max4_body_bp10000/evTh17nets_pFC1_FDR25_rawp0001_hyg001\n",
      "IL17neg_EAE_sp.tsv\n",
      "./GeneSets_FC1_FDR25/ATACseq_qc_max4_body_bp10000/evTh17nets_pFC1_FDR25_rawp0001_hyg001/IL17neg_EAE_sp.tsv\n",
      "('Reading network', './GeneSets_FC1_FDR25/ATACseq_qc_max4_body_bp10000/evTh17nets_pFC1_FDR25_rawp0001_hyg001/IL17neg_EAE_sp.tsv')\n",
      "('Loading saved layout', './GeneSets_FC1_FDR25/ATACseq_qc_max4_body_bp10000/evTh17nets_pFC1_FDR25_rawp0001_hyg001/IL17neg_EAE_sp.tsv.layout.json')\n",
      ".\n",
      "GeneSets_FC1_FDR25/ATACseq_qc_max4_body_bp10000/evTh17nets_pFC1_FDR25_rawp0001_hyg001\n",
      "IL17neg_SI_sp.tsv\n",
      "./GeneSets_FC1_FDR25/ATACseq_qc_max4_body_bp10000/evTh17nets_pFC1_FDR25_rawp0001_hyg001/IL17neg_SI_sp.tsv\n",
      "('Reading network', './GeneSets_FC1_FDR25/ATACseq_qc_max4_body_bp10000/evTh17nets_pFC1_FDR25_rawp0001_hyg001/IL17neg_SI_sp.tsv')\n",
      "('Loading saved layout', './GeneSets_FC1_FDR25/ATACseq_qc_max4_body_bp10000/evTh17nets_pFC1_FDR25_rawp0001_hyg001/IL17neg_SI_sp.tsv.layout.json')\n",
      "<jp_gene_viz.LExpression.LinkedExpressionNetwork object at 0x110321650>\n"
     ]
    }
   ],
   "source": [
    "# Load network objects\n",
    "\n",
    "for networkInf in networkInfs:\n",
    "    networkType = networkInf[0]\n",
    "    netPath = networkInf[1]\n",
    "    networkDic = dict()  # dictionary: keys = network Inf, items = network object, which we will add to later\n",
    "    for networkInit in networkInits:\n",
    "        networkFile = networkInit[0]\n",
    "        netName = networkInit[2]\n",
    "        curr = LExpression.LinkedExpressionNetwork()\n",
    "        print directory\n",
    "        print netPath\n",
    "        print networkFile\n",
    "        print directory + '/' + netPath + '/' + networkFile\n",
    "\n",
    "        try:\n",
    "            curr.load_network(directory + '/' + netPath + '/' + networkFile)  \n",
    "        except AssertionError:\n",
    "            directory = \".\"\n",
    "            curr.load_network(directory + '/' + netPath + '/' + networkFile)\n",
    "        networkDic[networkInit] = curr\n",
    "\n",
    "print networkDic[networkInits[0]]"
   ]
  },
  {
   "cell_type": "code",
   "execution_count": 4,
   "metadata": {
    "collapsed": false
   },
   "outputs": [],
   "source": [
    "# visualize the networks -- HARD CODED for our two networks of interest:\n",
    "\n",
    "M = multiple_network.MultipleNetworks(\n",
    "    [[networkDic[networkInits[0]], networkDic[networkInits[1]]],\n",
    "    [networkDic[networkInits[2]], networkDic[networkInits[3]]]])\n",
    "M.svg_width = 500\n",
    "M.show()   "
   ]
  },
  {
   "cell_type": "code",
   "execution_count": 5,
   "metadata": {
    "collapsed": false
   },
   "outputs": [],
   "source": [
    "# Set network preferences\n",
    "count = 0\n",
    "for networkInit in networkDic.keys():\n",
    "    # get title information + curr column for shading of figures\n",
    "    curr = networkDic[networkInit]\n",
    "    \n",
    "    # set threshold\n",
    "    curr.network.threshhold_slider.value = threshhold\n",
    "    curr.network.apply_click(None)\n",
    "    \n",
    "    # set title\n",
    "    titleInf = networkInit[2]\n",
    "    curr.network.title_html.value = titleInf\n",
    "\n",
    "    # add labels\n",
    "    curr.network.labels_button.value=True  \n",
    "    curr.network.draw_click(None)\n",
    "\n",
    "    # Load heatmap\n",
    "    curr.load_heatmap(directory + '/' + expressionFile)\n",
    "    # color nodes according to a sample column in the gene expression matrix\n",
    "    curr.gene_click(None)    \n",
    "    currCol = networkInit[1].lower()\n",
    "    curr.expression.col = currCol    \n",
    "    curr.condition_click(None)\n",
    "    \n",
    "    # Attach the motif collection populated above:\n",
    "#     curr.motif_collection = C\n"
   ]
  },
  {
   "cell_type": "code",
   "execution_count": null,
   "metadata": {
    "collapsed": true
   },
   "outputs": [],
   "source": []
  }
 ],
 "metadata": {
  "kernelspec": {
   "display_name": "Python 2",
   "language": "python",
   "name": "python2"
  },
  "language_info": {
   "codemirror_mode": {
    "name": "ipython",
    "version": 2
   },
   "file_extension": ".py",
   "mimetype": "text/x-python",
   "name": "python",
   "nbconvert_exporter": "python",
   "pygments_lexer": "ipython2",
   "version": "2.7.10"
  },
  "widgets": {
   "state": {
    "00343b2f4e524b87bcc0891ce136dab2": {
     "views": []
    },
    "0082f85cbbaf4f318d83f7a2e7db35e3": {
     "views": []
    },
    "008affb47df64f25ab0f6f8030009f15": {
     "views": []
    },
    "013fcb893f854dd2b7bef88561049958": {
     "views": []
    },
    "016198f8043744b68d7770096273e620": {
     "views": []
    },
    "024015399648406a9ccbbe035cb2b3bf": {
     "views": []
    },
    "0245c365a7fc4a3eb2f7c78a5f8fa882": {
     "views": []
    },
    "0265a97aef26452d9fea8622397a9bf2": {
     "views": []
    },
    "034f757df72d43009d886c0bb99e1905": {
     "views": []
    },
    "038442683e27420d92affbea307a9537": {
     "views": []
    },
    "0487019a723f41cfb6d30ff88c57c856": {
     "views": []
    },
    "04b7ae343c714286852f42563b58f482": {
     "views": []
    },
    "0523f34b172b4ca28744dfb6ce4de21b": {
     "views": []
    },
    "0584245bf5604ecd8acb275ff52f4926": {
     "views": []
    },
    "05a7982861dd40b191d9e046373a8d4e": {
     "views": []
    },
    "068a7aad435d4c269fd1650a150dc4c2": {
     "views": []
    },
    "06f676af4cc54445b2802eb5d7b5bc0a": {
     "views": []
    },
    "07037f96a3754b1ab206153695831171": {
     "views": []
    },
    "070c79d04ed84baeaf6031199b84c6a9": {
     "views": []
    },
    "073712b8f0e6436587cc8a17bc9befa5": {
     "views": []
    },
    "073a2eaacc534266aa140f55219e0d7b": {
     "views": []
    },
    "0751d142b95443f8b2dd5bf29ffb780c": {
     "views": []
    },
    "0777ae193edf4864ab5470e43340f383": {
     "views": []
    },
    "09092f7e3ea44afe8312ca15094fda04": {
     "views": []
    },
    "092f40bee5fd4bf488900f011c8d832c": {
     "views": []
    },
    "09467223ffdf42c4b6fa6d04ace85282": {
     "views": []
    },
    "094997221eb9458bb634222c0ecefbf3": {
     "views": []
    },
    "0964386f468d4363b5bad1e1d735eaad": {
     "views": []
    },
    "09708914bf9049f59094c446589211dc": {
     "views": []
    },
    "09835e98583740b68f636a918f100842": {
     "views": []
    },
    "09a1c8e3b5cf489a8a2f2b4e7457eb22": {
     "views": []
    },
    "09fec08f2eb04936a4f77997fb117a80": {
     "views": []
    },
    "0a1f2e0400544f77b836d69dd97faf2f": {
     "views": []
    },
    "0a8fc6f0ef4d4e388fda7ee51ba1e292": {
     "views": []
    },
    "0ab15c51c3374f6f8a493526934facc5": {
     "views": []
    },
    "0af0ecbc5fb046aa9c3e55fa627da6f9": {
     "views": []
    },
    "0c3ca91806ba47389d1c1082babb37e1": {
     "views": []
    },
    "0c6657bb8ba2458bacfcdbce2f1ee64b": {
     "views": []
    },
    "0c6a6fc693084a82ba92b6a5667d027f": {
     "views": []
    },
    "0cab75e1d52d477088177e4d95413330": {
     "views": []
    },
    "0d5007c12e1f4a9487f528cbe1ab47fc": {
     "views": []
    },
    "0d79150bd21340b0991f9ce7c4fa94cf": {
     "views": []
    },
    "0dccbc91036240d8b586a117d0e771c2": {
     "views": []
    },
    "0e160abef34d411ba5ce003452bfccd4": {
     "views": []
    },
    "0e35f0481a504010931145766eaec9b7": {
     "views": []
    },
    "0ebb1852fe77486492743546410cdd6f": {
     "views": []
    },
    "0f574db95fd546e58c55102bfeb0bc1c": {
     "views": []
    },
    "0f6e706630d147ce841a59c047e9da18": {
     "views": []
    },
    "0f76f8e7a2d54bb688bd2ca50c87c6a0": {
     "views": []
    },
    "0f7bb228094e49f98fb7bc304b6d2907": {
     "views": []
    },
    "0f95d3eeeace4e8e9629b8828b392d9d": {
     "views": []
    },
    "0fa082a650c343178b5bd1cb4cfa6278": {
     "views": []
    },
    "105ba18de76f416b854363a8dd8a68dc": {
     "views": []
    },
    "10b8e038251a4261bfa232b20600cda6": {
     "views": []
    },
    "1156b483756e487d8f05e52452ac0d59": {
     "views": []
    },
    "11e11df9a1324023a3e6b40511c54c6e": {
     "views": []
    },
    "12a7884ea7cd433d97971775a0197874": {
     "views": []
    },
    "12c9528938ee48cd80203661d8f1e417": {
     "views": []
    },
    "12f09fb442ec4fe3b30836b59b236c4e": {
     "views": []
    },
    "135e18d34f68453ea5d0eeaeb0d1ad08": {
     "views": []
    },
    "14a83d63a9dd4af39f5d0d32a8139c40": {
     "views": []
    },
    "14a8f183dd4d46e1ba4ca6dfe3e83a36": {
     "views": []
    },
    "14ffeb026008401b90b76b9a443a609d": {
     "views": []
    },
    "155b716ec6cd4c9c928ec52e82b9b66b": {
     "views": []
    },
    "15ce8c5727e34cb893ebf16d1604ab81": {
     "views": []
    },
    "167a515935874fd7a6280f6e38cd044f": {
     "views": []
    },
    "169614845423403688a873c48c704b44": {
     "views": []
    },
    "16bc0f4f0e6c4d369bd1f9862994463a": {
     "views": []
    },
    "17712f2fc7f94906b2741885263a858a": {
     "views": []
    },
    "17e2f59764454536b72833500f4edc93": {
     "views": []
    },
    "183889a4aa484e0985fc2244bd6778ec": {
     "views": []
    },
    "185037e784964e0d934fbd59ffbb8df9": {
     "views": []
    },
    "18a3574384d1430fb064a82e4da79893": {
     "views": []
    },
    "18dd4de473824b23945df2e4f0103f3f": {
     "views": []
    },
    "18f7833d3360448a8935dbe745b8c6c9": {
     "views": []
    },
    "1a6c4d60e1d845d4ad93a54fbda40b10": {
     "views": []
    },
    "1bbc32d77a284f3e9d2485419dd497e4": {
     "views": []
    },
    "1bd07cafb2924f6e8c5c7272d47e7dc2": {
     "views": []
    },
    "1c08562b3f924fadada107fad27080b6": {
     "views": []
    },
    "1c108c0e1ae34ac8a6d6ab9bb1b3f281": {
     "views": []
    },
    "1c23d0d08c83407daaa0a9aba20e19e3": {
     "views": []
    },
    "1ccd171b8bad4a369767673a9cf0f517": {
     "views": []
    },
    "1cec7e33a0014f1eace6af5537a5cb5c": {
     "views": []
    },
    "1d7e41117cf442e9b8167077a1ce453e": {
     "views": []
    },
    "1ddbc168b5544d9ea6cefe36d896b6ff": {
     "views": []
    },
    "1e8a884ad4eb42bc8d062fd3e077d7ef": {
     "views": []
    },
    "1e9c57c9e53f416eb12cb060e5951239": {
     "views": []
    },
    "1f1bce12d79045f48422ff7e6ac30fb4": {
     "views": []
    },
    "1f73bd07a3164fe4adeb89664ec12462": {
     "views": []
    },
    "1f7b7c46e87c4a90a4bf38c35e47b758": {
     "views": []
    },
    "20207fa5b4024bb0a1d40642efe8a6d0": {
     "views": []
    },
    "20d6416f4c0a4af790db8f47f1657392": {
     "views": []
    },
    "20fabed8517b4055831983edb676c869": {
     "views": []
    },
    "2113aa32c0ce4d77ba57c7abc07ef94a": {
     "views": []
    },
    "212ddfbc2b3848b4bddac602e7ce3163": {
     "views": []
    },
    "214452a40d2c4dac9be7dfba80ee7e39": {
     "views": []
    },
    "21684d11e415447d9027e47a02777ff2": {
     "views": []
    },
    "216eee02776f4ad286eb57b8ccc639f0": {
     "views": []
    },
    "2177b87bd7b5483282db2ca172243122": {
     "views": []
    },
    "21883d13717c476a970a8c5cefedd433": {
     "views": []
    },
    "218bdb9cf46644498588eb96069b7b21": {
     "views": []
    },
    "21d6db84cd3b418c9b51d65559f94366": {
     "views": []
    },
    "21e0c1778b00400fbf9c6c41a6dc8cd8": {
     "views": []
    },
    "2218ec308fb14ace9120c28a8b5d5575": {
     "views": []
    },
    "222d8203b00946da86afb2b9bea10299": {
     "views": []
    },
    "223b1c6be4c54d18a9f627178c3d565b": {
     "views": []
    },
    "2263baa2765e48e2916b087de73fcd56": {
     "views": []
    },
    "226ea249a24a4628a51329e89349ce13": {
     "views": []
    },
    "2288c77ba4994b67b296d63bee168a45": {
     "views": []
    },
    "2290e8508d8e46749bde760414440639": {
     "views": []
    },
    "2317abee7a9145ea89ad3495b79cccd7": {
     "views": []
    },
    "2377eb45c78f4e0db6c89777d6eebe33": {
     "views": []
    },
    "238879300fc14a4aad00e4302ffdc8d1": {
     "views": []
    },
    "23b884b0c2ca42e28ded2c11192769a2": {
     "views": []
    },
    "23d0095ca667468c87f5408e23d4ba6b": {
     "views": []
    },
    "23d00edc6e7340109a15885aff82b2fc": {
     "views": []
    },
    "23f58171d6d3458fbaab3e8ef7940b25": {
     "views": []
    },
    "24015f26a57c43c3b757e10e05f30200": {
     "views": []
    },
    "24eea4bba11e4006be0d967dc4f75266": {
     "views": []
    },
    "2522764b29ea47eaa58c4fe527d4322a": {
     "views": []
    },
    "2539a8265fcf47a286c616b16487f0ea": {
     "views": []
    },
    "2562d8538e6b4bb39c72978c5ae34a8c": {
     "views": []
    },
    "256c4e2322304e8aab3ebd2098397cd0": {
     "views": []
    },
    "25b51d14991c4922ad2cbf33bd0612b9": {
     "views": []
    },
    "266a8f22907546f48ccc166706af98d2": {
     "views": []
    },
    "274b0696c7744c2c8835ab2afc97c4c5": {
     "views": []
    },
    "280dcffbd1fc4e059479c1c6c4481d8c": {
     "views": []
    },
    "291c05cf7a944615b5111e144ba833d0": {
     "views": []
    },
    "2940708072e0420f96ae5ebf789a208d": {
     "views": []
    },
    "29ddf5f5fa1f4e6db9b1e22faba1c602": {
     "views": []
    },
    "2a45349fb5184724bebb717df57ee679": {
     "views": []
    },
    "2b6971097dfa472c80f1e9ad02ca05e5": {
     "views": []
    },
    "2bcb852d87f24fd2b34255a1dbdadcf3": {
     "views": []
    },
    "2c688879d3de487eb468861d46303160": {
     "views": []
    },
    "2cd7e258905940f398c6e6846421074d": {
     "views": []
    },
    "2cd81971cb9e4805b2a1b819709cb95b": {
     "views": []
    },
    "2d7d0dd7914145ae856866163d0e0c8c": {
     "views": []
    },
    "2dc2f1881d6246a3b5e8e5d038afd918": {
     "views": []
    },
    "2dcd5ef4827a411b80ea29ffa48643a3": {
     "views": []
    },
    "2e8c00a100b24169bd9334c539dfceda": {
     "views": []
    },
    "2e9c2514924e4a4d9bda42e4814097cb": {
     "views": []
    },
    "2e9c6e6633074f99af1e53dee0dfc96c": {
     "views": []
    },
    "2eafd270f48f413685634bb2843b615e": {
     "views": []
    },
    "2f293a02d11849e28ccc0c42b779b036": {
     "views": []
    },
    "2f6279001db5446baad095f7564ce62b": {
     "views": []
    },
    "3069b8bfa09a4ec0b921de11f5e7b830": {
     "views": []
    },
    "310aa74bee3849328745e0cbbaf3886c": {
     "views": []
    },
    "31a7bf08e7c2408b9ba913f73f1460ce": {
     "views": []
    },
    "3220a89272b74f65bd327bece7724d8e": {
     "views": []
    },
    "32705fcc66db4b4a97e9faf13e272c30": {
     "views": []
    },
    "329b63a7b1e64eb3b8f60df239029c77": {
     "views": []
    },
    "32cc512065d648a382a64eb51e277cfc": {
     "views": []
    },
    "3370068fea3a488b8b89ebbe55ae783a": {
     "views": []
    },
    "337ab58de1254f669df9878cb8fa923c": {
     "views": []
    },
    "33825e50094d43148b0c64be0d53f4a5": {
     "views": []
    },
    "33b049e8fc22472c8f54cfaf4463d7e3": {
     "views": []
    },
    "33d9253b90d343fa8a261f06548bae44": {
     "views": []
    },
    "33ebb5f7d790419db1b7c47f5d442054": {
     "views": []
    },
    "33ec809b838f42db9168ff7d54a2dd22": {
     "views": []
    },
    "33ef0d44496447fbb52129ee841a01ff": {
     "views": []
    },
    "3422ecb58ed545978dabcb1567933e86": {
     "views": []
    },
    "3505e36570794676baadbb20fb7e9e37": {
     "views": []
    },
    "3518f16e0596460c8a084ad4bc45d5d5": {
     "views": []
    },
    "351f3312b048443e99f6d5305f6ad7c8": {
     "views": []
    },
    "3618c4be391b468abde597c0e1e18aba": {
     "views": []
    },
    "36322f9518424de480bff9b271097b0c": {
     "views": []
    },
    "367b1d1f26b84a05a10735bc45e4bda3": {
     "views": []
    },
    "3734dbbe8475437fbfd6e5a3ff028f09": {
     "views": []
    },
    "376896aa344b4d3bb7aa9cc71e5025d2": {
     "views": []
    },
    "37c9aa1fe3f94fc2ba35d8974a94f393": {
     "views": []
    },
    "3807bb0a766e45b8940dd27188f7a4c8": {
     "views": []
    },
    "382299ff1a1f49a293cef13518eb8680": {
     "views": []
    },
    "390df309d97d41e19c325e99c3a99885": {
     "views": []
    },
    "391b825623bb46178b00d594f28d599d": {
     "views": []
    },
    "39278fa2288c4ca595ef99e092e93e7e": {
     "views": []
    },
    "39e0e7d1f87744f88487b2124c9ad3e1": {
     "views": []
    },
    "3a37a2a3392c4114902bb82fbc0a14e7": {
     "views": []
    },
    "3a63b43008904149893bc3f770eaed9d": {
     "views": []
    },
    "3ac1771140df49daa0c8cca930ff1331": {
     "views": []
    },
    "3b0b2de10ec04db2bf751cb6989edf30": {
     "views": []
    },
    "3b2f1a26fa1d42c58d9ec36ecd876568": {
     "views": []
    },
    "3b4ecc2a28664b38ae97f2f95a558b9e": {
     "views": []
    },
    "3b58f40b44df45038687f4def36c8c4d": {
     "views": []
    },
    "3bbf71dd1bfb4c879bad12a73b8386b2": {
     "views": []
    },
    "3c311fbe35a74346bf88ac238e6d9b54": {
     "views": []
    },
    "3cabe506df8d4150b34dde88fc9ac22e": {
     "views": []
    },
    "3cade3746b334fc784193d3b07791823": {
     "views": []
    },
    "3de3c04628ca4807a305fc0b1ca99131": {
     "views": []
    },
    "3e582e8c3cea4d4c9e5ce7676eca416f": {
     "views": []
    },
    "3e91f8b9296d4c26a784ac3ebafc02e6": {
     "views": []
    },
    "3ec9105aafb9404195fef65cf64d677e": {
     "views": []
    },
    "40a4ae2c213143038eedf67c6f459301": {
     "views": []
    },
    "4107affc3aee44b1a3cf41a850d1cd0f": {
     "views": []
    },
    "41b07fc4f3f84922a6243049e885c1f3": {
     "views": []
    },
    "425f7ad00bb84b52b923163cc6965303": {
     "views": []
    },
    "43b5b024ecd7479787a46cbcec5d4f1a": {
     "views": []
    },
    "43d771487d104d03bc0f4b0ec71a758a": {
     "views": []
    },
    "4412efe8715344bdb6d0c6b22ffd0c07": {
     "views": []
    },
    "443cd8b0b42e49d2b60e23a17d13c9ed": {
     "views": []
    },
    "44507202428744e7b5102f88aa1da3f2": {
     "views": []
    },
    "44990b4f136c4337a99ac3d033d31b16": {
     "views": []
    },
    "450f373856da4b80a1d64cb744e78686": {
     "views": []
    },
    "4547456b2d694bd789ad04bc0b8a111c": {
     "views": []
    },
    "456f92e72f6b479ca58b14abf8c237d7": {
     "views": []
    },
    "45ade62ca59449a0ba80f4bdba0b2cd1": {
     "views": []
    },
    "45c368df4a6e42d5915928f92e9ebbc1": {
     "views": []
    },
    "45df90cfcd4b40adb0313cc3a251c583": {
     "views": []
    },
    "46aaed5636654ca784c8a41d648debd3": {
     "views": []
    },
    "46c0cea389174d4f81f3c66bcc3f8fb3": {
     "views": []
    },
    "47138a2d9a2243109e12dda7b3e043ce": {
     "views": []
    },
    "4785f0adbf324925a5c477e1b6811403": {
     "views": []
    },
    "479793b2fde5405ca73fcb5e0d3c7a46": {
     "views": []
    },
    "4821f81bbbc648ab811a72b646a28335": {
     "views": []
    },
    "492c6b3965014b36887d119aa1353ccf": {
     "views": []
    },
    "4a7da6e0a43b4a0daef4af165330db0f": {
     "views": []
    },
    "4a9ac278a4b845ff862a3b546546dac9": {
     "views": []
    },
    "4bd287d90c2048ac97b654303435314a": {
     "views": []
    },
    "4c0fd5d944ed438aa9d98627e9710a5b": {
     "views": []
    },
    "4c150780c1b24f92be88e083e8817b6a": {
     "views": []
    },
    "4c1606af0f4849168a89614ac77a8e31": {
     "views": []
    },
    "4d82af3c45094bbb928aeef41f53b31c": {
     "views": []
    },
    "4d89d199b66a44599ad515dfbd40b79c": {
     "views": []
    },
    "4dad71893d2a47b09931b4d244799bec": {
     "views": []
    },
    "4ddafaa8536c4045aaf38147c23f274a": {
     "views": []
    },
    "4ee98f2e0ca24b95b5dba3eade746fcf": {
     "views": []
    },
    "4f2374f176fc48f781e22a5666a15daf": {
     "views": []
    },
    "4f2740e6c8044b1fa80032622b7cef4d": {
     "views": []
    },
    "4f98bcd508c94abdbb2c6c39fdcfe422": {
     "views": []
    },
    "501d7a11bb084055b63bc2665f9b360b": {
     "views": []
    },
    "5068765a99214a8db42af6d1c64fde56": {
     "views": []
    },
    "50a09e18574e4bc2ae7990c752f6825f": {
     "views": []
    },
    "50b0d381e0674661a4a0976e13116c56": {
     "views": []
    },
    "5134b458f514466e9953f2a24fb9983a": {
     "views": []
    },
    "519af676cd114bc899738bc84c08ad29": {
     "views": []
    },
    "51a4591099a348b0a7c3ed28243fa8d7": {
     "views": []
    },
    "5233defb9dfb4a01ad4f863ef25c1609": {
     "views": []
    },
    "524d60fffc724dc9a051ffc1d74ba9af": {
     "views": []
    },
    "53b465b506374022aa845e5db02449e6": {
     "views": []
    },
    "53ea0606a42f473b9065b7f91e145795": {
     "views": []
    },
    "5417c80613b440df8ad5bf8efa26cfc3": {
     "views": []
    },
    "5486921ecad04e83bab6f86c2ff51bb6": {
     "views": []
    },
    "54a24f482b0744e8ac5d2f076472c02d": {
     "views": []
    },
    "55636f9615694008a1934d63db458b12": {
     "views": []
    },
    "55a4c2181d5544b4a36d1c30baedabb5": {
     "views": []
    },
    "55d9d601cb57403aae81304d91ca0b8d": {
     "views": []
    },
    "55e664badcb34ab6be188f5002deace1": {
     "views": []
    },
    "562d98aa96554a5a91e64d44f42866bb": {
     "views": []
    },
    "57528ea4b41f41679ab91bf4d29fe3de": {
     "views": []
    },
    "578b6f6d88d746f896d266369fc4ce69": {
     "views": []
    },
    "57b6a58c03a942fbafd9cbd3cb4de893": {
     "views": []
    },
    "59215e25c9fc41d9acdf83cfe1817e8b": {
     "views": []
    },
    "596825b2ec6a4efa9ccceaa7ea75c234": {
     "views": []
    },
    "598fec388efa4c15a41176174bef9e14": {
     "views": []
    },
    "599c23101523404bb92a36460d342f37": {
     "views": []
    },
    "5a16ef3dab814940a9dc1376d297f7e2": {
     "views": []
    },
    "5a469c19e99644659318ec6da1b0e567": {
     "views": []
    },
    "5abf9b9e31a0495db54b29e0c7a23c1d": {
     "views": []
    },
    "5b5915c403824cf6b5a43da24da4e113": {
     "views": []
    },
    "5b684b9fe9024d119632028a75a9b64d": {
     "views": []
    },
    "5bb0ccb710c74c0e854908bdf8edbde4": {
     "views": []
    },
    "5bc243657b4f4490a82c8398b64c2d40": {
     "views": []
    },
    "5bd89ad6513d415f956dbf539f0075a5": {
     "views": []
    },
    "5c487f47cd194c93885d5a534f12a187": {
     "views": []
    },
    "5c6712aced724a239e55b07b0daed0a0": {
     "views": []
    },
    "5d006ddb23e447ddb338d8a051abc6ee": {
     "views": []
    },
    "5d3d71784821492ca47809ae46baa743": {
     "views": []
    },
    "5df37f7846094d0294d4fb36011b3dd2": {
     "views": []
    },
    "5e4717ae20a14660ada9881b55c28874": {
     "views": []
    },
    "5ebe546555734101a56fd910392e2c3c": {
     "views": []
    },
    "5f2007c4f89a4121a89963e46ab73091": {
     "views": []
    },
    "5f321a5bc9ff45c588643bdb0ccbbb6f": {
     "views": []
    },
    "5f88995b5f004c0c9cbe179b527d994c": {
     "views": []
    },
    "5fffe8ea506448efbbe7295eb4f00b9b": {
     "views": []
    },
    "6014d36d1e3340fab4e3d0e62ed8389b": {
     "views": []
    },
    "6039ae51b23349feaaf5fea9c51773fa": {
     "views": []
    },
    "603d92d5c40b46c78a77f644f5434952": {
     "views": []
    },
    "60a65e266d3a4a299563c8b3230633d8": {
     "views": []
    },
    "6159bb95091141f78f9bad070bbd0e0b": {
     "views": []
    },
    "61ccfec221fa43c68be1b79b6d3c302d": {
     "views": []
    },
    "621e01c4838f4dbdaba44f494a8a1611": {
     "views": []
    },
    "621ffbafcd5f4597a04e83ac2e91d0e2": {
     "views": []
    },
    "625cca049dc846029c534c9d500b55ae": {
     "views": []
    },
    "62d9ee84e5364ec782b1aba61f40d68d": {
     "views": []
    },
    "62fd14a1bf054b7f9c3c04e52141bd71": {
     "views": []
    },
    "64db0bf1ed4b4c3094f27a3e3241b6e3": {
     "views": []
    },
    "64f1b0236a314d348dd0b27e488ade0a": {
     "views": []
    },
    "6511ec5f052a46b4a39973171f215e3a": {
     "views": []
    },
    "6615fae1af844c08a2a9985354f08662": {
     "views": []
    },
    "6633529b22614d6cac76a4abe7a139c0": {
     "views": []
    },
    "663d664907954da5816e7913c0ef0255": {
     "views": []
    },
    "665eabb8b2704653823e6ee9e235c47a": {
     "views": []
    },
    "66b2ca3cd512450badbbcd5f1d444a70": {
     "views": []
    },
    "66c0581252764a06ba6a1708d4fbe802": {
     "views": []
    },
    "673ead9f92e244cda506fbc25eb02af2": {
     "views": []
    },
    "6872efe23ea44e868a5ff759b9c9d09c": {
     "views": []
    },
    "688948f6adac4f96872727b31a0d9af5": {
     "views": []
    },
    "69659c6c445e4bf1b53623f7cb048ac4": {
     "views": []
    },
    "69783da04b8b45eba31336da08ba4e5f": {
     "views": []
    },
    "6998a36c383d43e89d7585c30df4cb7c": {
     "views": []
    },
    "69b16b336f204523bad5f4d73c9726ec": {
     "views": []
    },
    "6ae9273ed3d84c5aa88883f27894e8b9": {
     "views": []
    },
    "6c5a2164c168420988679c6b8ce869e3": {
     "views": []
    },
    "6cf3eb4dd28b40738f879c2f2055950c": {
     "views": []
    },
    "6d53b82c8e974a00a566c710ce50b818": {
     "views": []
    },
    "6e19fbe163f8471c8abb309629355255": {
     "views": []
    },
    "6e4483b3b7a243f5a53634090abdd3a9": {
     "views": []
    },
    "6f29b880f4f945238662b8032a3c7868": {
     "views": []
    },
    "6f2fee6877b24d959a6ae96f2b301eca": {
     "views": []
    },
    "6fa17aaac40c4500949be39f9882331f": {
     "views": []
    },
    "6fc7cbb2fd3b4d9db09da0c3b38fd191": {
     "views": []
    },
    "6fec03d2b53940d08bfa365b3a361750": {
     "views": []
    },
    "70100ca7cb46416ba1889d5cbd610fe4": {
     "views": []
    },
    "70bad9451b07413c961b081439f0d5f1": {
     "views": []
    },
    "70be0f5c495d4b6ab8c5d6dc9ebebd97": {
     "views": []
    },
    "70fc3893cf0840aa93841454cf2c5157": {
     "views": []
    },
    "713007c25cf7422d813e1714e24c4a62": {
     "views": []
    },
    "722d6ccd439c47bf816ce1829a380330": {
     "views": []
    },
    "728c2ebebb9e42a3bb4a50b47110d55d": {
     "views": []
    },
    "72fa0ac1de8e4882aeea3a0b3608c90b": {
     "views": []
    },
    "731f67116b4d4eb3b72c6b7a941fca2b": {
     "views": []
    },
    "7376a03e895c40219a211312783a1516": {
     "views": []
    },
    "74002d2cf3364e048e57538bc0c675da": {
     "views": []
    },
    "74470aac508746c3a674cb755997f31d": {
     "views": []
    },
    "7544f3fb7cb9408d874fc4edc53add96": {
     "views": []
    },
    "75d6b4ce66884bd69632b831b02fcc1e": {
     "views": []
    },
    "76ba6ef2588c4fcc975ded44de9c8666": {
     "views": []
    },
    "775b829f8ffa43a5a87c9e5d2a9b1eb1": {
     "views": []
    },
    "7792547392994c07a0e3672b50d3f435": {
     "views": []
    },
    "77bfbc2f2c904824aefaf40b86b36671": {
     "views": []
    },
    "77d59fd8b9dc4b4ebf5630740c3ce2e8": {
     "views": []
    },
    "7841965622f1404393efe0f0cdab23c8": {
     "views": []
    },
    "78a3842f879944f09dcd279d9b9188f9": {
     "views": []
    },
    "78a54cee86434a2b9bd3b2445295c9e1": {
     "views": []
    },
    "793b611cf2f04def93c742c7a2b8edd4": {
     "views": []
    },
    "796e64838d1d4bd58913c41a3f0c09f6": {
     "views": []
    },
    "79eba38ab71a453da4059512687b242f": {
     "views": []
    },
    "79ed627c772f444aa6e592e2800f7cc2": {
     "views": []
    },
    "7a4f681f4a4b4f6b9987403b93cd118d": {
     "views": []
    },
    "7acb0aceb0ee455f9e9304a5d8bf23b6": {
     "views": []
    },
    "7b077f4042354b2c84ec00ffdaa2c803": {
     "views": []
    },
    "7c57858cc9ec49a991a3e4744464d06c": {
     "views": []
    },
    "7c9d33dc394c4bc8b83c637dd0793a7e": {
     "views": []
    },
    "7d9d57f5f8104429a69585bad63cb2ae": {
     "views": []
    },
    "7db841edba734587ac1372b19e71f69c": {
     "views": []
    },
    "7dd47b09292641eb93230d0b26bf1ce0": {
     "views": []
    },
    "7de87fb613dd48b799e1b0bcf9c7ce6b": {
     "views": []
    },
    "7e25871adab94becba1f4426928ad86e": {
     "views": []
    },
    "7e9ae433d8a8419eaba34c2dc1066178": {
     "views": []
    },
    "7ee2a1b9864f4fca946e926e673df84c": {
     "views": []
    },
    "7fa028b6a7e64317bfe8ce9236a227f9": {
     "views": []
    },
    "80ae6045079846379ce073f5a3f48876": {
     "views": []
    },
    "812de31e5b2b4b3a9937bb39fe79da49": {
     "views": []
    },
    "8151b6854b8a4932889b46f482ae4962": {
     "views": []
    },
    "817f00b268fa4c9ca6e19452ea5e5f2b": {
     "views": []
    },
    "81a48531fc2a412d8c8475490812717c": {
     "views": []
    },
    "81b319aa9bfc44d9bf4a98863c600876": {
     "views": []
    },
    "826ff032e75f438eb86e0578f3624028": {
     "views": []
    },
    "83076040e164434ca23b0f0c33c103f1": {
     "views": []
    },
    "83547b4eee4a48b0a08d0b1a3df6f35d": {
     "views": []
    },
    "8360628260704675ba1c9d9711f6b49d": {
     "views": []
    },
    "839cdda6c6714379a925a99778395be3": {
     "views": []
    },
    "83d87372cd4a4320bbe646d0e881a268": {
     "views": []
    },
    "83dc3f3157474de9a6dab21f519c0a25": {
     "views": []
    },
    "840ac445dc124b648d0190ca2b2368f7": {
     "views": []
    },
    "842a2f3182b84afe8981ec0b2ee4873f": {
     "views": []
    },
    "849ecdd38dcc4969b5c045f5a87fa3e3": {
     "views": []
    },
    "85193db8d4d94105a4cd5d7e9f361742": {
     "views": []
    },
    "851d41861bad45c9aaa4f4fcf30e8b90": {
     "views": []
    },
    "853211e4f6cf4710b3aaa6a08e4c891c": {
     "views": []
    },
    "855940ca48904a598baa45f86ea3dc36": {
     "views": []
    },
    "857682a43ccd476cad6dbaf4e1d35213": {
     "views": []
    },
    "861df87c56c04b3f9702b5c9b3502856": {
     "views": []
    },
    "862297fc76ff41ba95a01b47b60afd5d": {
     "views": []
    },
    "864755d2f33346af8e8e45a7f810e24d": {
     "views": []
    },
    "8649f26c9d4e4631810053d4d3df2f07": {
     "views": []
    },
    "864b447f92df470f8225bbe04d6f73b2": {
     "views": []
    },
    "87787488fc844a72ab2eb5b70ff6842b": {
     "views": []
    },
    "8779ed6618094af5ace9b363880c8b4f": {
     "views": []
    },
    "8799fb70f1cd4db4907f1b8e8908fc9f": {
     "views": []
    },
    "879c26668c5c4f0c8b7a085434752a0e": {
     "views": []
    },
    "87ac77ca20de497c92533b55f559da00": {
     "views": []
    },
    "8887364848414e10a34ebc50bc08b520": {
     "views": []
    },
    "88a2859b570e492089b50496bafec030": {
     "views": []
    },
    "899e5345fd3d4f0bbddee15c1edf9d7b": {
     "views": []
    },
    "89aeb131bbbe4bf784ac9f6273c4a98f": {
     "views": []
    },
    "8a36e67f7b3448b99c723ad1799dfc2d": {
     "views": []
    },
    "8a7c34859c8a47799f056a10cf4f8786": {
     "views": []
    },
    "8a8373b9d42b42fba02c01915b745f8f": {
     "views": []
    },
    "8adec6ca374a43cd8cd4fdde64a9257f": {
     "views": []
    },
    "8b57af8393e140209516db7536f7818a": {
     "views": []
    },
    "8c705a17b3dd422a8d7392b21635dd1f": {
     "views": []
    },
    "8d10afd1689741fea40b07f9c4e4338b": {
     "views": []
    },
    "8d1f9d14eefe48998f49e4a0456eceb4": {
     "views": []
    },
    "8d248efceed148b4b0cbf39a46de1a71": {
     "views": []
    },
    "8d4dd109fa144af9bacb2332d3ffdb59": {
     "views": []
    },
    "8d55ae407da247e0bfbef015c083f2e6": {
     "views": []
    },
    "8d877af81c3a4b448cda8738bfeccdad": {
     "views": []
    },
    "8d9541fb19f94c19899876bec6cef703": {
     "views": []
    },
    "8dc22f56cbd24d7dbfa418f662f6397c": {
     "views": []
    },
    "8e7f71bfdaf643848d0b86321f3fb516": {
     "views": []
    },
    "8eb6f2a1ee0f49c28e0130401fdda8bf": {
     "views": []
    },
    "8fa404756b264901ab45a25d5c7f1de7": {
     "views": []
    },
    "8fb0d5215943460b81c1600c77604a41": {
     "views": []
    },
    "8fe2281ca0b141298844ecac6fbf0fc6": {
     "views": []
    },
    "9026af67ff7c461a988ae3ec66c62738": {
     "views": []
    },
    "906c8c268f8f4d39a046d351316bd96c": {
     "views": []
    },
    "90e05a0ff03e43dabb7a57c6ec707963": {
     "views": []
    },
    "90e2f398ec03444b997ae86f8880449d": {
     "views": []
    },
    "90fbde3955794636bda123cb54bfe6b2": {
     "views": []
    },
    "9155e014226d4aa7baefb02ad61386cd": {
     "views": []
    },
    "91c8adf3ecea47b4b6116c0ad1d0e1c1": {
     "views": []
    },
    "91f311335c7048ecb92395d55737af39": {
     "views": []
    },
    "927deaf5a6c64f1fb78ebf65f7a5e5e0": {
     "views": []
    },
    "934d23f0eb61416893cd3b137b358dd1": {
     "views": []
    },
    "9385845fb74f4717b50f57f6ee67e633": {
     "views": []
    },
    "93b135afe9c344e68d431a06e80cf221": {
     "views": []
    },
    "93f8aca172b94270acf5146fb0f4792a": {
     "views": []
    },
    "940398e963ea482181c06db9e724dfe2": {
     "views": []
    },
    "94ae587268ab4098b80cbbc5fbd45a20": {
     "views": []
    },
    "956390d8b39c4b9ba754b4a171ad616e": {
     "views": []
    },
    "9598a411c0a247b8ad05d90875c46466": {
     "views": []
    },
    "95b8d3a56fc041fd89073e72ab703593": {
     "views": []
    },
    "96007a9461e846d6a8727bda1667c5eb": {
     "views": []
    },
    "9636484abc0948d6bd46d34a956d95ad": {
     "views": []
    },
    "969abe8003cf4a9bb60f0318e199d2c5": {
     "views": []
    },
    "96a3d4131d58453ba25a48e58a091f30": {
     "views": []
    },
    "9711fae7532446089d43c1cd4f4df25e": {
     "views": []
    },
    "9724e01201fd4319b07317267cb9383c": {
     "views": []
    },
    "973b64d67a524a26992057d3fb4a39eb": {
     "views": []
    },
    "97d75f71e05b4c5a8f94690c6e437e7e": {
     "views": []
    },
    "98a6b50ab8fa4fab9010330714b996d7": {
     "views": []
    },
    "98ddde539fda407eacab03424586fad9": {
     "views": []
    },
    "99369e103fd44beeaaef49625d349571": {
     "views": []
    },
    "99cd41f030ed43c8b7a33252f60190e9": {
     "views": []
    },
    "9a21053fa1264eeca110e53f8674fb5e": {
     "views": []
    },
    "9a23f54ab927449e9307e2e79b50aa71": {
     "views": []
    },
    "9b05e2a992bb487ea65c77247e90d705": {
     "views": []
    },
    "9b93faf6c54549d6bb02262cb53afa34": {
     "views": []
    },
    "9bb7a564710449f3a4ae0563ad921bed": {
     "views": []
    },
    "9c354fe3da49468d95a4f8cd1fb628ed": {
     "views": []
    },
    "9cda99eddbbc4c3da97d8fc636c1c2d8": {
     "views": []
    },
    "9d0758733f3542b990bcce57af1583a4": {
     "views": []
    },
    "9d1e3fa852844d63a05c697b5e2cd457": {
     "views": []
    },
    "9d3e5042d592450f9ae28f4c52aa9e37": {
     "views": []
    },
    "9e9996e4649b4acc90aa6b56f898fd10": {
     "views": []
    },
    "9eb41bfbf5a24d23a085c6b676be53bb": {
     "views": []
    },
    "9ec399ce6c984dd9943b47bf090a6335": {
     "views": []
    },
    "9ee0771ecc144ecd8c2be260df39e997": {
     "views": []
    },
    "9ee56cf962fe4ae3814c3ff7237c09fa": {
     "views": []
    },
    "9f8ee1b3a4524622af8d2d049df55685": {
     "views": []
    },
    "a0036094bd2b44f5b060d589b00c2865": {
     "views": []
    },
    "a00593524d4740e1887a8dc63a732070": {
     "views": []
    },
    "a016031e387c409d99df73a3b5e57ccf": {
     "views": []
    },
    "a05010e2649a4836845a9ce115cb43f2": {
     "views": []
    },
    "a0797f7c94924bd5a5e59fa543eb9efe": {
     "views": []
    },
    "a0c49511c86442f6a62c9c9d58f155a1": {
     "views": []
    },
    "a0e262c92219443c9f91661ddca4e182": {
     "views": []
    },
    "a1054ed9b88744e1b09566d5c8e9c066": {
     "views": []
    },
    "a16f9d2c93c94abeb00ff0bca1a5ad49": {
     "views": []
    },
    "a17ba1fe4ed443ea8e0adc5659e88006": {
     "views": []
    },
    "a1c80830b6bc4063a2968348b19e9070": {
     "views": []
    },
    "a21e7edf4652496fb388dc0c3eda97ae": {
     "views": []
    },
    "a22612fd8fce415bb22c88c1b6ade94f": {
     "views": []
    },
    "a2d1d4f6754f4a5fbbca5317c7f7a763": {
     "views": []
    },
    "a3e3a3a082364fe8a9cdca6569b91e5b": {
     "views": []
    },
    "a48a0ef568814c338a3986570e68fd2f": {
     "views": []
    },
    "a4ef790ccfc34975a71e38fbf96c400c": {
     "views": []
    },
    "a504cfb42e6b4e3695d56b77ad4c986b": {
     "views": []
    },
    "a5454b162af145b0be88d36b1da7098f": {
     "views": []
    },
    "a59785ada05f4edd82a7fb92326f886a": {
     "views": []
    },
    "a621b9074b2d48d1aa0b0fa3c2b5dc88": {
     "views": []
    },
    "a64641b9a03a4a98a940e765fd0a9e58": {
     "views": []
    },
    "a64d1dde634c4eccb317d03a34d627be": {
     "views": []
    },
    "a70d20a8d8674c4b84c3629b8a0b8ed7": {
     "views": []
    },
    "a745676e1b3e4bbcb01ee33a1455f8bd": {
     "views": []
    },
    "a84945f907f240c7836888c6649bed60": {
     "views": []
    },
    "a8a9a2f9c01b4adf9e8a13c8f5ab3dcb": {
     "views": []
    },
    "a977c1d1d4724a7e9eb154428460bdeb": {
     "views": []
    },
    "a97c4ddf578b45d2a671b5cd4f4cd03a": {
     "views": []
    },
    "a9a2286ea5044690a1289eb60c520b3f": {
     "views": []
    },
    "abac1c13e2fa408ba0edc37f6deab8d4": {
     "views": []
    },
    "ac706497447a42359205d6d45a74046b": {
     "views": []
    },
    "ace707f8c19f4b4f91938df468b8baba": {
     "views": []
    },
    "ad1ce619400a4024b2dfe13ab16c2f8a": {
     "views": []
    },
    "ad2e29c0fa9a46508ef7ec12efff49b3": {
     "views": []
    },
    "ad3f342d84ca43debdc7eec0e3841619": {
     "views": []
    },
    "ad4406e9d48148fc8c72121ac8fe2070": {
     "views": []
    },
    "ad7cae87c7e54cf0948fe23b7fe7d0a1": {
     "views": []
    },
    "ad956808798d4d5691574dc0d83896f7": {
     "views": []
    },
    "ade3f53a72c943dba0478d5dc0ab472c": {
     "views": []
    },
    "ae0c524f091c4970bc913902f7ccb9da": {
     "views": []
    },
    "af4b32f9e59b49218a116504455082d0": {
     "views": []
    },
    "af7f4b39a61840d1841c1890f0e56b98": {
     "views": []
    },
    "afc740e2a36845a5935197322b2fdc87": {
     "views": []
    },
    "afee0ad4855446b381129e55bf5a612e": {
     "views": []
    },
    "b018bc9ef8ab4143ad3a3a81fcf22112": {
     "views": []
    },
    "b03574266468483abd8833180fd512f2": {
     "views": []
    },
    "b0456f4d3b9148c794ba13c88e7e4165": {
     "views": []
    },
    "b04d993a05ec4e219ac6d84a7bddc4bc": {
     "views": []
    },
    "b057d1af3f0c4becacb4a4fceabc2c80": {
     "views": []
    },
    "b086994b8bd84ea3aa872ffd18f89d0b": {
     "views": []
    },
    "b1f0c2c5047a4eb1908ac9c06865b86a": {
     "views": []
    },
    "b1ff7d29242b4dd4a6ae7aa90a90617f": {
     "views": []
    },
    "b2ce4382315c485cbd28ba8c7504028a": {
     "views": []
    },
    "b3670eeb226143c190ec919c3d5d6eb7": {
     "views": []
    },
    "b39c060f8089496399cc1de5db5fa713": {
     "views": []
    },
    "b3a52a5ca54d4f5eb0153c0d7d03094d": {
     "views": []
    },
    "b3d2195d49ee4019a1320050e5927fef": {
     "views": []
    },
    "b40804b90b8f41d497b677d92bd02c3a": {
     "views": []
    },
    "b456d04d90634c6bb6cacf1d5a70018e": {
     "views": []
    },
    "b4c8612f2f144c3ea79e8cab873192bc": {
     "views": []
    },
    "b4d0de6184b54df8ac66f411af95e3dd": {
     "views": []
    },
    "b5106e3379ec4c40bf9267b743c071d0": {
     "views": []
    },
    "b54d43b32f0340e48955b0309577e72a": {
     "views": []
    },
    "b592167c743a4300aff2f6a122afc16d": {
     "views": []
    },
    "b68b8a1b90aa4c0c994ee6da9fded4f9": {
     "views": []
    },
    "b6b0b65d35464c659abdbda7dd2420db": {
     "views": []
    },
    "b76e8f9c236240a7a902718f512717dc": {
     "views": []
    },
    "b795d79351ff478bb112b0b326b7c67f": {
     "views": []
    },
    "b82e8eb9519c40b3843ca1188fabc63f": {
     "views": []
    },
    "b86a0188ff624e76b448aa6c4ab9132d": {
     "views": []
    },
    "b890a33eea224dc6be68ebf384562214": {
     "views": []
    },
    "b91ae608310246acbf8428ff1593a7c8": {
     "views": []
    },
    "b98287d142374d6eae60edff4a83acf6": {
     "views": []
    },
    "b9d042ccb31f4e888c6ead9f66eee89d": {
     "views": []
    },
    "ba4edd787ee441cc802afb589e9be034": {
     "views": []
    },
    "ba51acc33e024e85be4bbfc6f53f1fcc": {
     "views": []
    },
    "bba27e6178c14b6893d537b3fc2afe8f": {
     "views": []
    },
    "bbcaf7007d6b43899abf9ed925e49835": {
     "views": []
    },
    "bc4dd05efeee46a5b7b5d948f18c3278": {
     "views": []
    },
    "bd12a35513fd422490bbbb06788912c5": {
     "views": []
    },
    "bd1b7f1aa6004448b4c6715fff43027d": {
     "views": []
    },
    "bd2b9091bb3c4a0c80bd3715313bd0a3": {
     "views": []
    },
    "bd405e08c86546dab84beb3a9d90d682": {
     "views": []
    },
    "bd9e5c66a7224f45a040b1e9fca839b2": {
     "views": []
    },
    "be1518debc404491a7a9c363353914fe": {
     "views": []
    },
    "be365ac795974545837bcf5444322765": {
     "views": []
    },
    "be962d59ed1148489a46d9929655c9db": {
     "views": []
    },
    "be98a4a468724cb0bfd48505797af661": {
     "views": []
    },
    "becdf4bfa9c14867adba8bc240594bfc": {
     "views": []
    },
    "bed541824d214b97a97ae2147926fdf5": {
     "views": []
    },
    "bef4b0a8fbaa461a81e3996c8c38956f": {
     "views": []
    },
    "bef4b67e2065413e84dce4a4b261b1d9": {
     "views": []
    },
    "bf224be7ee0d4b09a5665d73584062d4": {
     "views": []
    },
    "bf92c67d2237438cb136e6a528d3b0b0": {
     "views": []
    },
    "bfc0120cfdc54148916b66aba613028a": {
     "views": [
      {
       "cell_index": 3
      }
     ]
    },
    "bfd978fa010344abba8c862b94db38f9": {
     "views": []
    },
    "bfe905b8359a4be3bff11f70256656b4": {
     "views": []
    },
    "bfee7a4ea6b548ed9cd9556b655de9ea": {
     "views": []
    },
    "c014cabaf1d64e178531dc0cc9b99f50": {
     "views": []
    },
    "c027a576396f4d9983fbf83d6a4f6949": {
     "views": []
    },
    "c079eb7ad251478180c84e934177707d": {
     "views": []
    },
    "c09c8299d0a943379ff32662845fa363": {
     "views": []
    },
    "c11538adb2d949a9820c5170575b8b93": {
     "views": []
    },
    "c1cb8f455d774d23b717cf4d35588a53": {
     "views": []
    },
    "c1d06663b5a1488ca056a96ee67ec366": {
     "views": []
    },
    "c1d79f375b264687bf22a5d5eb49e646": {
     "views": []
    },
    "c1fde50e690c476ab77ca3057159255f": {
     "views": []
    },
    "c2932b8b2f90464f97cc2188dd55dee8": {
     "views": []
    },
    "c296384dd9614d94a31be346c2cee33f": {
     "views": []
    },
    "c353a51565994436afb350bfaded0086": {
     "views": []
    },
    "c3faced54f474c10af69a97d71832acd": {
     "views": []
    },
    "c4343dd01db3477fbd2bad1ba9a696f1": {
     "views": []
    },
    "c477c076c6a14041bcc894392c509589": {
     "views": []
    },
    "c4c5e5af582543be93f21e5500cc282c": {
     "views": []
    },
    "c4e1432946794276aa320bff4ec6f534": {
     "views": []
    },
    "c4fbad2da02e41f98f2e76cd3faffcdb": {
     "views": []
    },
    "c563be9cd08b46bc86d4b67e888cada6": {
     "views": []
    },
    "c5cccf938a4c4f9c82c586fbf93272fd": {
     "views": []
    },
    "c622df56750b4a79926eb8331fd5d3ec": {
     "views": []
    },
    "c62345256b52460da8ceff835bcc2991": {
     "views": []
    },
    "c6b35b0899e548dfac486bef8d723c26": {
     "views": []
    },
    "c713d6a61a2142f6bbc2348d98b88e5e": {
     "views": []
    },
    "c7a2a9f43c5d4cf4a93d720281f07979": {
     "views": []
    },
    "c7cafea2e8a840428f4f14713e525e0b": {
     "views": []
    },
    "c878e030c36a49ada7ade8421a5bff70": {
     "views": []
    },
    "c94c5f01e09b4bf8b012d12ea97570f0": {
     "views": []
    },
    "c9b5198c4fcc4322b4fd0956f10a6929": {
     "views": []
    },
    "ca58406d4b77480aac70b552bb4d6dc0": {
     "views": []
    },
    "ca753bc181e6441b814feaf0ea8c238a": {
     "views": []
    },
    "cac985b9bafe4946b71725647f5adf45": {
     "views": []
    },
    "caddde8ce9c84b39989789c30e1f2a07": {
     "views": []
    },
    "cd95b8e8b922411fb9a0519d3b2d85e3": {
     "views": []
    },
    "cddf3f6b9dfd457dbc0c857251d07c63": {
     "views": []
    },
    "cdeda0aae82d4fdcac6767f43dd674f9": {
     "views": []
    },
    "ce18098698ca43319abd58c4ed4f2742": {
     "views": []
    },
    "ce3a3adfd2e648b4a6ec27e52a78af61": {
     "views": []
    },
    "ce4c5e0c04e941afa759406458a605d9": {
     "views": []
    },
    "ce551fc8781a475182bd4c2557463683": {
     "views": []
    },
    "ce5d2ff3679b4b7d84d65085c2e09de1": {
     "views": []
    },
    "d0097ce9d0e04582a3c2c64dc234f4b1": {
     "views": []
    },
    "d018e3118f2c497891a185a5377b855d": {
     "views": []
    },
    "d05e465df6404eb2b5ce1d91c2cea675": {
     "views": []
    },
    "d068e2b9eeed4dc98f7256d09a0946fe": {
     "views": []
    },
    "d0c7904c88fd41e3b0f7fcf12534343e": {
     "views": []
    },
    "d1758dabeaad43518430174b2ba12840": {
     "views": []
    },
    "d17f5430148a48c59f05b38ca9897071": {
     "views": []
    },
    "d1969c63d4474f23bdb676bd9e4c9a7e": {
     "views": []
    },
    "d251e9cc48704441bc5ebb905cc957c4": {
     "views": []
    },
    "d2c3a7b87def433e9d0aa9f8678d753b": {
     "views": []
    },
    "d355e6c143fc45f5b9dd09acaed1ea26": {
     "views": []
    },
    "d40e08dcbab144729ad7567a08c01495": {
     "views": []
    },
    "d45070811c464cba931d2d6f3ef25e47": {
     "views": []
    },
    "d451067c5e204879aecbc8e5bc20d42b": {
     "views": []
    },
    "d468bf23f65e4e02acd019f0ae693fcd": {
     "views": []
    },
    "d4761764426d45c4a18d556952facf24": {
     "views": []
    },
    "d4bd3fcca5cf4654a073db1e2231ac41": {
     "views": []
    },
    "d4ce88c6206d41b7bd6db935a1b024bf": {
     "views": []
    },
    "d53dbb8b0a1d4a3ca63a7200304b1605": {
     "views": []
    },
    "d5b0ec26a762477e8d8c176598c6a803": {
     "views": []
    },
    "d5c6625ae42d4b5a884d9c806b3a200a": {
     "views": []
    },
    "d60e8a314a484b1b8baad9bfaedd6f1d": {
     "views": []
    },
    "d6257de4362f4337b51923d835c6dc96": {
     "views": []
    },
    "d76a0cbf2c6842b0bc34d1853c16b03c": {
     "views": []
    },
    "d76e24b35c4c4757af379c5c3f182f41": {
     "views": []
    },
    "d779367ec2c645d08297e2cc97a7f8d5": {
     "views": []
    },
    "d79a8794818f4ac28168883fc2e38595": {
     "views": []
    },
    "d7b8f2c2b6334e1f9f161cdb04c5444a": {
     "views": []
    },
    "d81e38f832ff460ba1b6cab1966a8548": {
     "views": []
    },
    "d82d74dbc63a4e96802836f8973fca55": {
     "views": []
    },
    "d869ec7ba04e4b3989df4304f76488f5": {
     "views": []
    },
    "d87402fd62ae4f6c9e4faaa09693f2f4": {
     "views": []
    },
    "d8d41d9ba6e74718a2f2028dbe53f87a": {
     "views": []
    },
    "d92ebefa68494bba9408aba57d789423": {
     "views": []
    },
    "d98b93ea087a4797955b46578a437505": {
     "views": []
    },
    "d9c7f87e5c874410abdc42bd7d363263": {
     "views": []
    },
    "d9cef98bb8c94321bdbe853ca5039787": {
     "views": []
    },
    "da9786d788084f059a40cc84eb9670af": {
     "views": []
    },
    "dbadbbdda66746e88353233e48295951": {
     "views": []
    },
    "dbadcf75d92b4050a9b248d6825a76e0": {
     "views": []
    },
    "dbc2adeeabc74a01ac0247659b0a0d8e": {
     "views": []
    },
    "dbd0ad734e66415b88d7c2026d087d39": {
     "views": []
    },
    "dbf23824e0e14fff81e37f7144f6d6c4": {
     "views": []
    },
    "dc57b81ca2234c14a5b941c621f5c445": {
     "views": []
    },
    "dc6676d5f3d540468d84b411f1a70e30": {
     "views": []
    },
    "dcb4d93ef7cd4810a5d2e15c2b16e405": {
     "views": []
    },
    "dcd74e5f9c3c46c7b6c573bc7c6c8270": {
     "views": []
    },
    "dce82b5ade2e4bfa8728a93564445052": {
     "views": []
    },
    "dd242c9f59cf4f489f38a4dbc81b97cd": {
     "views": []
    },
    "ddac2cbd03fd4d30859056d8b48d165c": {
     "views": []
    },
    "de08e875ba514f0f8facfee9a4c81dd8": {
     "views": []
    },
    "de29d1d56c0647f8b98d42f1ca67f673": {
     "views": []
    },
    "de800f69ad5f4f02a8d48a9ca0a96f72": {
     "views": []
    },
    "de89c966c29c4eb3a0ee45877812238e": {
     "views": []
    },
    "ded3cc90605d4358878fff6ba12f0907": {
     "views": []
    },
    "e0e6e0a7609d407ba48c0470d55120cb": {
     "views": []
    },
    "e10d31c1488640228ca62dfae443697a": {
     "views": []
    },
    "e1b6831cac0c48a7947e459b7f095143": {
     "views": []
    },
    "e1ea02d2b57a4ac091da0d2d8c0506fe": {
     "views": []
    },
    "e20d474c63c24333ab386b0b3692422b": {
     "views": []
    },
    "e23152499b6d4e5fbce480058082435d": {
     "views": []
    },
    "e28dc64b532d4d6192793a20021edd4a": {
     "views": []
    },
    "e298eadb48694c5cb008f313bb7c5c38": {
     "views": []
    },
    "e2bec07ca05d443992593dc5bafbd3ad": {
     "views": []
    },
    "e2ef8bbdbbfa42e8b6e3cdfdf5387554": {
     "views": []
    },
    "e32612e4c1aa4f0c8ab54b4e3faea896": {
     "views": []
    },
    "e364ad284ff94b53ab5231681e16e1c1": {
     "views": []
    },
    "e38094f82b6b41e0affcbee11c80a68d": {
     "views": []
    },
    "e380c593fc304dee8e3e08403d0c8a27": {
     "views": []
    },
    "e3dfb5fcedac45bfbc571f5d0fde65d9": {
     "views": []
    },
    "e4a861bd2efb41b1a63509fa7b7bc5eb": {
     "views": []
    },
    "e50ecdf2a9874b039240ad8416006bbc": {
     "views": []
    },
    "e5272fdcb46e443a98fcdb694c5df3cb": {
     "views": []
    },
    "e540313cd915461b8744246955825e40": {
     "views": []
    },
    "e5a929f889e040c5b2922a911f95b05d": {
     "views": []
    },
    "e5bc1e0bb81a4a5caedb023ebaec5efa": {
     "views": []
    },
    "e5d880d1b8f044e3a5c31dad5b0a8b34": {
     "views": []
    },
    "e6a3517231054ac3a71f6ba9885fd829": {
     "views": []
    },
    "e6da84a7bc584739ad4ab7db2f23dfb1": {
     "views": []
    },
    "e71bf2c48f3b44f09fb65167f2fc66d7": {
     "views": []
    },
    "e760d519212f473484dd80f88b5bbcf8": {
     "views": []
    },
    "e7cca97c64b24b8f8c98fab12426be61": {
     "views": []
    },
    "e7d835e8a80d409c967e93ffbe432753": {
     "views": []
    },
    "e7de8900fec448a08c7e64f395b0f7e8": {
     "views": []
    },
    "e7e1a563cdfd4b7d87c51ef3f0c82810": {
     "views": []
    },
    "e91bc0eb2ef644b49346aa51ef1e6de3": {
     "views": []
    },
    "e98a0fdcfd884fcfb0fc008c6e54166d": {
     "views": []
    },
    "ea05375a7c7445cfaa242da7a82fa246": {
     "views": []
    },
    "ea240489f8eb4d9fb965e43748d08e6d": {
     "views": []
    },
    "ea52a2f79d604501ad56777200b2657a": {
     "views": []
    },
    "ea70c787d777498bbbdca522ee7c25fb": {
     "views": []
    },
    "ea94f8acf4484d7084308d7ed3f3e82f": {
     "views": []
    },
    "eaf958d8e64c466687bc223acd437ffd": {
     "views": []
    },
    "eb05f174eafd4a9b894d895b7c6ed82a": {
     "views": []
    },
    "eb493414ee354c37a0f4faf0e9255a83": {
     "views": []
    },
    "eb64fb7c2b7d4a90be87fe5909b4f5ae": {
     "views": []
    },
    "eb884c2ec8c64e838d93271b33ae7235": {
     "views": []
    },
    "ec67b18685164c9597154ab677b561d5": {
     "views": []
    },
    "ec7e9507794a4d9c8f7307b550d3339e": {
     "views": []
    },
    "ed0a0ae0736a402480ed144fd9436a04": {
     "views": []
    },
    "edf9a3eb0a5444d1a6eaf1b41ff260a2": {
     "views": []
    },
    "ee929e6cb3534d44817cf1a28b7d952a": {
     "views": []
    },
    "eea5846f39b0459aaf65e776d5af5db7": {
     "views": []
    },
    "ef5e6bd885284d5c8e20e5c257af9e7d": {
     "views": []
    },
    "efc71721e3b6427e9b784668b7698399": {
     "views": []
    },
    "f026476df12147cb9f4b06819f4045f2": {
     "views": []
    },
    "f0331e552bd34629b9213757ced5d7a1": {
     "views": []
    },
    "f035751c0a254e448ab43ae42daeefb7": {
     "views": []
    },
    "f06acfbfd01045c1863459a542e4f9e0": {
     "views": []
    },
    "f09eebb30d854b4c9da07e5288cc0d98": {
     "views": []
    },
    "f0b8bbb43d5d4aee8c533405a159e840": {
     "views": []
    },
    "f0d4aab5a6a44222a99360679f3b0f74": {
     "views": []
    },
    "f1c35ccc3a9e4fe782c27b89df85eb52": {
     "views": []
    },
    "f206ad15a5e943fc9a58fdf8ef7ee1d1": {
     "views": []
    },
    "f2854b516d5641c195b7b880d7530d61": {
     "views": []
    },
    "f29484adbafc4b659a2e3cb1d78cd22b": {
     "views": []
    },
    "f2b9d308f13d413bab70f0f4f5e3b699": {
     "views": []
    },
    "f2fb8c9352ea4a828972f1c2693c694b": {
     "views": []
    },
    "f36c027e712b484cb1c0fb31c350320d": {
     "views": []
    },
    "f465614756474b01bb2fc022a390e6ae": {
     "views": []
    },
    "f48a705c30fd4f77b5ab68cab15aa57e": {
     "views": []
    },
    "f4da70d0e2e54ae39a3efc62e012ed41": {
     "views": []
    },
    "f52e54b36be34840a441ad56b15e2789": {
     "views": []
    },
    "f55fdd8b68a4454196656b492919f21d": {
     "views": []
    },
    "f5782c422b09489cb02388e9a1bd2b4f": {
     "views": []
    },
    "f6298bde093c4627ba099b53951ccd5a": {
     "views": []
    },
    "f6332a6dcfda465ba4faf55fdca54681": {
     "views": []
    },
    "f638427c5d5f4a52970ef66df6fd6bd0": {
     "views": []
    },
    "f67e45ba78de48b1968c9799b4af7cab": {
     "views": []
    },
    "f6e7369eac14408b876e1a2f7213b10c": {
     "views": []
    },
    "f6f892f695bc42e2a23adb72ce0653ac": {
     "views": []
    },
    "f76e7bbfc0f54d85bfc5fddc50441c66": {
     "views": []
    },
    "f79e247d474d468599c13de356aa4a63": {
     "views": []
    },
    "f7ca9a39c6c24f3b92fd9aa5c6282de3": {
     "views": []
    },
    "f7e7253e6541490a8956de93e6d78ae9": {
     "views": []
    },
    "f8df1957755042f7b26a41408b532374": {
     "views": []
    },
    "f93255ccd87f4d99b402eb29d5a85831": {
     "views": []
    },
    "f9614a262cee47ca9938439542f7cba2": {
     "views": []
    },
    "f9afd78757be4ca38a2c5afb8178be65": {
     "views": []
    },
    "f9e28b48e0e74e79b8ba1fbc4a5da7b1": {
     "views": []
    },
    "fa5294df7f674551a09e2d95ee7fd2fe": {
     "views": []
    },
    "facfac2c059e46fd8b058a17a0b4175e": {
     "views": []
    },
    "fadad5058302463596830af28332e8c9": {
     "views": []
    },
    "fb7ed546a7534a9ca66e50b63a06f88d": {
     "views": []
    },
    "fbc4649001a1438c817549add6c2715a": {
     "views": []
    },
    "fc66b6879d934c2294de1ef98f8c60a4": {
     "views": []
    },
    "fc68f58279d446d79354ac4f340cbc6e": {
     "views": []
    },
    "fc8af61a65cb4f4abc7411026dd79da5": {
     "views": []
    },
    "fce5a654ddc54799a00106d1ddf59f05": {
     "views": []
    },
    "fcf2e13034524bc8bd28d668043415c2": {
     "views": []
    },
    "fd88d368238f4cb0a8fa5fa4b2e10f47": {
     "views": []
    },
    "fdbfbc1b5afd49f0ad8ac80bf6a1ad35": {
     "views": []
    },
    "fdd02c92558c4c9fbaeba5be4ed36176": {
     "views": []
    },
    "fe05779a14984fa3aad9e8c10ac940b0": {
     "views": []
    },
    "fe16619a137e46cfaf0473a19ab92b17": {
     "views": []
    },
    "fe2261413f7a4e1099191ff0ba7ff059": {
     "views": []
    },
    "fe3021e054f148fdb4d79676861b4023": {
     "views": []
    },
    "fe87f8bc387e4cdfb3a96858973dedab": {
     "views": []
    },
    "fef6aaa73c604925accf19b3cf5b5ad2": {
     "views": []
    },
    "ff10d5cfd45f43f6a9b70dc5a49e4aa2": {
     "views": []
    },
    "ff6a6daa3c21492199c1203d40818b77": {
     "views": []
    },
    "ff743c71efd84effa1b9a22abe5e7adb": {
     "views": []
    },
    "ff865f6ee2de4d9bb0648210b2bece77": {
     "views": []
    },
    "ffa38f5b3a2b4b5d9b47fb185f932105": {
     "views": []
    }
   },
   "version": "1.1.2"
  }
 },
 "nbformat": 4,
 "nbformat_minor": 0
}
