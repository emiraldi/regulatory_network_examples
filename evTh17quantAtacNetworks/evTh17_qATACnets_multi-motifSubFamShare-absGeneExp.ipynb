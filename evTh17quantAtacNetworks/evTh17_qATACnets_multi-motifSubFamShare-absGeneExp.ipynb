{
 "cells": [
  {
   "cell_type": "code",
   "execution_count": 1,
   "metadata": {
    "collapsed": true
   },
   "outputs": [],
   "source": [
    "## Networks are synchronized, TF motif is only associated with annotated TF (more conservative)\n",
    "directory = \"/Users/emiraldi/erm/Shared/Lin-Christoph-Emily/evTh17quantAtacNetworks\" # note \"try\" statement below, will also check current directory\n",
    "\n",
    "# networkInfs is a list of tuples (title of network, network directory)\n",
    "networkInfs = [('No sharing of motifs',\"GeneSets_FC1_FDR25/ATACseq_qc_max4_body_bp10000/evTh17nets_pFC1_FDR25_rawp0001_hyg001_famShare\")]\n",
    "networkInits = [(\"Th17_EAE_sp.tsv\",\"IL17pos_SC_EAE_1\",\"EAE SC Th17 (abs exp)\"),\n",
    "    (\"Th17_SI_sp.tsv\",\"IL17pos_SI_SS\",\"SI Th17 (abs exp)\"),\n",
    "    (\"IL17neg_EAE_sp.tsv\",\"IL17neg_SC_EAE\",\"EAE SC IL17a- Th (abs exp)\"),\n",
    "    (\"IL17neg_SI_sp.tsv\",\"IL17neg_SI_SS\",\"SI IL17a- Th (abs exp)\")]\n",
    "\n",
    "expressionFile = \"evTh17_RNA_lengthNormCounts.txt\"\n",
    "\n",
    "threshhold = .2"
   ]
  },
  {
   "cell_type": "code",
   "execution_count": 2,
   "metadata": {
    "collapsed": false
   },
   "outputs": [
    {
     "data": {
      "application/javascript": [
       "\n",
       "// imitating ipywidgets/docs/source/examples/Custom Widget - Hello World.ipynb\n",
       "\n",
       "//require([\"widgets/js/widget\", \"widgets/js/manager\"], function(widget, manager){\n",
       "\n",
       "require.undef(\"SVGCanvas\");\n",
       "\n",
       "define(\"SVGCanvas\", [\"jupyter-js-widgets\"], function(widgets) {\n",
       "    \n",
       "    var svgEventHandlerFactory = function(that) {\n",
       "        var svgEventHandler = function(e) {\n",
       "            var target = e.target;\n",
       "            var info = {};\n",
       "            for (var attr in e) {\n",
       "                var val = e[attr];\n",
       "                var ty = (typeof val);\n",
       "                if ((ty == \"number\") ||\n",
       "                    (ty == \"string\") ||\n",
       "                    (ty == \"boolean\")) {\n",
       "                    info[attr] = val;\n",
       "                }\n",
       "            }\n",
       "            info.name = target.ipy_name;\n",
       "            var ept = SVGEventLocation(that, e);\n",
       "            info.svgX = ept.x;\n",
       "            info.svgY = ept.y;\n",
       "            var json = JSON.stringify(info);\n",
       "            that.model.set(\"event\", json);\n",
       "            that.touch();\n",
       "        };\n",
       "        return svgEventHandler;\n",
       "    };\n",
       "\n",
       "    var SVGEventLocation = function(that, e) {\n",
       "        // http://stackoverflow.com/questions/10298658/mouse-position-inside-autoscaled-svg\n",
       "        var pt = that.reference_point;\n",
       "        var svg = that.$svg[0];\n",
       "        pt.x = e.clientX;\n",
       "        pt.y = e.clientY;\n",
       "        return pt.matrixTransform(svg.getScreenCTM().inverse());\n",
       "    }\n",
       "    \n",
       "    var SVGCanvasView = widgets.DOMWidgetView.extend({\n",
       "        \n",
       "        render: function() {\n",
       "            var that = this;\n",
       "            var svg = that.svg_elt(\"svg\");\n",
       "            var eventHandler = svgEventHandlerFactory(that);\n",
       "            that.eventHandler = eventHandler;\n",
       "            that.named_elements = {};\n",
       "            svg.ipy_name = \"\";\n",
       "            that.$svg = $(svg);\n",
       "            that.reference_point = svg.createSVGPoint();\n",
       "            svg.setAttribute(\"preserveAspectRatio\", \"none\");\n",
       "            that.$el.append(that.$svg);\n",
       "            that.svg_parameters_changed();\n",
       "            that.commands_changed();\n",
       "            that.start_watch_event();\n",
       "            that.model.on(\"change:commands\", that.commands_changed, that);\n",
       "            that.model.on(\"change:viewBox\", that.svg_parameters_changed, that);\n",
       "            that.model.on(\"change:svg_width\", that.svg_parameters_changed, that);\n",
       "            that.model.on(\"change:svg_height\", that.svg_parameters_changed, that);\n",
       "            that.model.on(\"change:style\", that.svg_parameters_changed, that);\n",
       "            that.model.on(\"change:watch_event\", that.start_watch_event, that);\n",
       "            that.model.on(\"change:unwatch_event\", that.stop_watch_event, that);\n",
       "        },\n",
       "        \n",
       "        start_watch_event: function() {\n",
       "            var that = this;\n",
       "            var event_types = that.model.get(\"watch_event\");\n",
       "            if (event_types != \"\") {\n",
       "                that.$svg.on(event_types, that.eventHandler);\n",
       "                that.model.set(\"watch_event\", \"\");\n",
       "                that.touch();\n",
       "            }\n",
       "        },\n",
       "        \n",
       "        stop_watch_event: function() {\n",
       "            var that = this;\n",
       "            var event_types = that.model.get(\"unwatch_event\");\n",
       "            if (event_types != \"\") {\n",
       "                that.$svg.off(event_types);\n",
       "                that.model.set(\"watch_event\", \"\");\n",
       "                that.touch();\n",
       "            }\n",
       "        },\n",
       "        \n",
       "        commands_changed: function() {\n",
       "            var that = this;\n",
       "            var svg = that.$svg[0];\n",
       "            var commands = that.get_JSON(\"commands\")\n",
       "            for (var i=0; i<commands.length; i++) {\n",
       "                var command_dict = commands[i];\n",
       "                var indicator = command_dict[\"command\"];\n",
       "                var method = that[\"do_\"+indicator];\n",
       "                method(that, command_dict);\n",
       "            }\n",
       "        },\n",
       "\n",
       "        do_fit: function(that, info) {\n",
       "            // fit viewport to bounding box.\n",
       "            var svg = that.$svg[0];\n",
       "            var bbox = svg.getBBox();\n",
       "            var D = {\"width\": bbox.width, \"height\": bbox.height, \"x\": bbox.x, \"y\": bbox.y}\n",
       "            var vbox = \"\" + D.x + \" \" + D.y + \" \" + D.width + \" \" + D.height;\n",
       "            if ((D.width > 0) && (D.height > 0)) {\n",
       "                that.model.set(\"boundingBox\", D);\n",
       "                if (info.changeView) {\n",
       "                    that.model.set(\"viewBox\", vbox);\n",
       "                }\n",
       "                // Element viewBox will be updated later by model change.\n",
       "                that.touch();\n",
       "            }\n",
       "        },\n",
       "        \n",
       "        do_add_element: function (that, info) {\n",
       "            var tag = info.tag;\n",
       "            var name = info.name;\n",
       "            var element = that.svg_elt(tag);\n",
       "            element.ipy_name = name;\n",
       "            var $element = $(element);\n",
       "            that.update_element($element, info);\n",
       "            // add event callbacks\n",
       "            that.$svg.append($element);\n",
       "            that.named_elements[name] = $element;\n",
       "        },\n",
       "        \n",
       "        do_change_element: function (that, info) {\n",
       "            var name = info.name;\n",
       "            var $element = that.named_elements[name];\n",
       "            if ($element) {\n",
       "                that.update_element($element, info);\n",
       "            } else {\n",
       "                console.warn(\"couldn't find element for \"+name);\n",
       "            }\n",
       "        },\n",
       "        \n",
       "        do_delete: function (that, info) {\n",
       "            var names = info.names;\n",
       "            for (var i=0; i<names.length; i++) {\n",
       "                var name = names[i];\n",
       "                var $element = that.named_elements[name];\n",
       "                if ($element) {\n",
       "                    $element.remove();\n",
       "                    delete that.named_elements[name];\n",
       "                }\n",
       "            }\n",
       "        },\n",
       "        \n",
       "        update_element: function($element, info) {\n",
       "            var element = $element[0];\n",
       "            var atts = info.atts;\n",
       "            var style = info.style;\n",
       "            var text = info.text;\n",
       "            if (atts) {\n",
       "                for (var att in atts) {\n",
       "                    element.setAttribute(att, atts[att]);\n",
       "                }\n",
       "            }\n",
       "            if (style) {\n",
       "                for (var styling in style) {\n",
       "                    element.style[styling] = style[styling];\n",
       "                }\n",
       "            }\n",
       "            if (text) {\n",
       "                $element.empty();\n",
       "                var node = document.createTextNode(text);\n",
       "                element.appendChild(node);\n",
       "            }\n",
       "        },\n",
       "        \n",
       "        do_empty: function (that, info) {\n",
       "            that.named_elements = {};\n",
       "            that.$svg.empty();\n",
       "        },\n",
       "        \n",
       "        svg_parameters_changed: function() {\n",
       "            var that = this;\n",
       "            var style_additions = that.get_JSON(\"style\");\n",
       "            var svg = that.$svg[0];\n",
       "            svg.setAttribute(\"viewBox\", that.model.get(\"viewBox\"));\n",
       "            svg.setAttribute(\"width\", that.model.get(\"svg_width\"));\n",
       "            svg.setAttribute(\"height\", that.model.get(\"svg_height\"));\n",
       "            for (var style_attr in style_additions) {\n",
       "                svg.style[style_attr] = style_additions[style_attr];\n",
       "            }\n",
       "        },\n",
       "        \n",
       "        get_JSON: function(name) {\n",
       "            var json = this.model.get(name);\n",
       "            return $.parseJSON(json);\n",
       "        },\n",
       "        \n",
       "        svg_elt: function(kind) {\n",
       "            return document.createElementNS('http://www.w3.org/2000/svg', kind);\n",
       "        }\n",
       "        \n",
       "    });\n",
       "    \n",
       "    //manager.WidgetManager.register_widget_view('SVGCanvasView', SVGCanvasView);\n",
       "    return {\n",
       "        SVGCanvasView: SVGCanvasView\n",
       "    }\n",
       "});\n"
      ],
      "text/plain": [
       "<IPython.core.display.Javascript object>"
      ]
     },
     "metadata": {},
     "output_type": "display_data"
    },
    {
     "data": {
      "application/javascript": [
       "\n",
       "// This is the javascript side to match js_proxy.py.\n",
       "// See js_proxy.py for an explanation of the command transfer\n",
       "// protocol\n",
       "\n",
       "// imitating ipywidgets/docs/source/examples/Custom Widget - Hello World.ipynb\n",
       "\n",
       "//require([\"widgets/js/widget\", \"widgets/js/manager\", \"underscore\", \"jquery\"\n",
       "//], function(widget, manager, _, $) {\n",
       "\n",
       "require.undef(\"JSProxy\");\n",
       "\n",
       "define(\"JSProxy\", [\"jupyter-js-widgets\"], function(widgets) {\n",
       "\n",
       "    var JSProxyView = widgets.DOMWidgetView.extend({\n",
       "\n",
       "        render: function() {\n",
       "            var that = this;\n",
       "            that.on(\"displayed\", function() {\n",
       "                that.update();\n",
       "            });\n",
       "            // Wrap $el as a proper jQuery object\n",
       "            that.$$el = $(that.$el);\n",
       "            // \"new\" keyword emulation\n",
       "            // http://stackoverflow.com/questions/17342497/dynamically-control-arguments-while-creating-objects-in-javascript\n",
       "            that.$$el.New = function(klass, args) {\n",
       "                var obj = Object.create(klass.prototype);\n",
       "                return klass.apply(obj, args) || obj;\n",
       "            };\n",
       "\n",
       "            // fix key bindings for wayward element.\n",
       "            // XXXX This is a bit of a hack that may not be needed in future\n",
       "            // Jupyter releases.\n",
       "            that.$$el.Fix = function(element) {\n",
       "                debugger;\n",
       "                that.model.widget_manager.keyboard_manager.register_events(element);\n",
       "            };\n",
       "        },\n",
       "\n",
       "        update: function(options) {\n",
       "            var that = this;\n",
       "            var commands = that.model.get(\"commands\");\n",
       "            if (commands.length >= 2) {\n",
       "                var command_counter = commands[0];\n",
       "                var command_list = commands[1];\n",
       "                var level = commands[2];\n",
       "                level = that.check_level(level);\n",
       "                var results = [];\n",
       "                _.each(command_list, function(command,i) {\n",
       "                    var result = that.execute_command(command);\n",
       "                    results[i] = that.json_safe(result, level);\n",
       "                });\n",
       "                that.model.set(\"commands\", []);\n",
       "                that.model.set(\"results\", [command_counter, results])\n",
       "                that.touch();\n",
       "            }\n",
       "        },\n",
       "\n",
       "        execute_command: function(command) {\n",
       "            var that = this;\n",
       "            var result = command;\n",
       "            if ($.isArray(command)) {\n",
       "                var indicator = command[0];\n",
       "                var remainder = command.slice();\n",
       "                remainder.shift();\n",
       "                if (indicator == \"element\") {\n",
       "                    // Make sure the element is wrapped as a proper JQuery(UI) object\n",
       "                    if (!that.$$el) {\n",
       "                        that.$$el = $(that.$el);\n",
       "                    }\n",
       "                    result = that.$$el;\n",
       "                } else if (indicator == \"window\") {\n",
       "                    result = window;\n",
       "                } else if (indicator == \"method\") {\n",
       "                    var target_desc = remainder.shift();\n",
       "                    var target = that.execute_command(target_desc);\n",
       "                    var name = remainder.shift();\n",
       "                    var args = remainder.map(that.execute_command, that);\n",
       "                    var method = target[name];\n",
       "                    if (method) {\n",
       "                        result = method.apply(target, args);\n",
       "                    } else {\n",
       "                        result = \"In \" + target + \" no such method \" + name;\n",
       "                    }\n",
       "                } else if (indicator == \"function\") {\n",
       "                    var function_desc = remainder.shift();\n",
       "                    var function_value = that.execute_command(function_desc);\n",
       "                    var args = remainder.map(that.execute_command, that);\n",
       "                    // Use \"that\" as the \"this\" value for function values?\n",
       "                    result = function_value.apply(that, args);\n",
       "                } else if (indicator == \"id\") {\n",
       "                    result = remainder[0];\n",
       "                } else if (indicator == \"list\") {\n",
       "                    result = remainder.map(that.execute_command, that);\n",
       "                } else if (indicator == \"dict\") {\n",
       "                    result = {}\n",
       "                    var desc = remainder[0];\n",
       "                    for (var key in desc) {\n",
       "                        var key_desc = desc[key];\n",
       "                        var val = that.execute_command(key_desc);\n",
       "                        result[key] = val;\n",
       "                    }\n",
       "                } else if (indicator == \"callback\") {\n",
       "                    var identifier = remainder.shift();\n",
       "                    var data = remainder.shift();\n",
       "                    var level = remainder.shift();\n",
       "                    // sanity check\n",
       "                    level = that.check_level(level);\n",
       "                    result = that.callback_factory(identifier, data, level);\n",
       "                } else if (indicator == \"get\") {\n",
       "                    var target_desc = remainder.shift();\n",
       "                    var target = that.execute_command(target_desc);\n",
       "                    var name = remainder.shift();\n",
       "                    try {\n",
       "                        result = target[name];\n",
       "                    } catch(err) {\n",
       "                        result = \"failed to get \"+name+\" from \"+target+\" :: \"+err;\n",
       "                    }\n",
       "                } else if (indicator == \"set\") {\n",
       "                    var target_desc = remainder.shift();\n",
       "                    var target = that.execute_command(target_desc);\n",
       "                    var name = remainder.shift();\n",
       "                    var value_desc = remainder.shift()\n",
       "                    var value = that.execute_command(value_desc);\n",
       "                    target[name] = value;\n",
       "                    result = target;\n",
       "                } else if (indicator == \"null\") {\n",
       "                    target_desc = remainder.shift();\n",
       "                    that.execute_command(target_desc);\n",
       "                    result = null;\n",
       "                } else {\n",
       "                    result = \"Unknown indicator \" + indicator;\n",
       "                }\n",
       "            }\n",
       "            return result;\n",
       "        },\n",
       "\n",
       "        check_level: function(level) {\n",
       "            if ((typeof level) != \"number\" || (level < 0)) {\n",
       "                level = 0;\n",
       "            } else if (level > 5) {\n",
       "                level = 5;\n",
       "            }\n",
       "            return level;\n",
       "        },\n",
       "\n",
       "        callback_factory: function(identifier, data, level) {\n",
       "            var that = this;\n",
       "            // Counter makes sure change is noticed even if other arguments don't change.\n",
       "            var counter = 0;\n",
       "            var handler = function () {\n",
       "                counter += 1;\n",
       "                var payload = that.json_safe([identifier, data, arguments, counter], level + 1);\n",
       "                that.model.set(\"callback_results\", payload);\n",
       "                that.touch();\n",
       "            };\n",
       "            return handler;\n",
       "        },\n",
       "\n",
       "        json_safe: function(val, depth) {\n",
       "            // maybe expand later as need arises\n",
       "            var that = this;\n",
       "            var ty = (typeof val);\n",
       "            if ((ty == \"number\") || (ty == \"string\") || (ty == \"boolean\")) {\n",
       "                return val;\n",
       "            }\n",
       "            if (!val) {\n",
       "                // translate all other falsies to None\n",
       "                return null;\n",
       "            }\n",
       "            if (((typeof depth) == \"number\") && (depth > 0)) {\n",
       "                if ($.isArray(val)) {\n",
       "                    var result = [];\n",
       "                    _.each(val, function(elt, i) {\n",
       "                        var r = that.json_safe(elt, depth-1);\n",
       "                        if (r != null) {\n",
       "                            result[i] = r;\n",
       "                        }\n",
       "                    });\n",
       "                    return result;\n",
       "                } else {\n",
       "                    var result = {};\n",
       "                    for (var key in val) {\n",
       "                        var jv = that.json_safe(val[key], depth-1);\n",
       "                        if (jv != null) {\n",
       "                            result[key] = jv;\n",
       "                        }\n",
       "                    }\n",
       "                    return result;\n",
       "                }\n",
       "            }\n",
       "            return null;\n",
       "        }\n",
       "\n",
       "    });\n",
       "\n",
       "    //manager.WidgetManager.register_widget_view('JSProxyView', JSProxyView);\n",
       "    return {\n",
       "        JSProxyView: JSProxyView\n",
       "    }\n",
       "});\n"
      ],
      "text/plain": [
       "<IPython.core.display.Javascript object>"
      ]
     },
     "metadata": {},
     "output_type": "display_data"
    },
    {
     "data": {
      "application/javascript": [
       "/*\n",
       "jQuery plugin for a color arrow cursor over an element.\n",
       "\n",
       "Based on\n",
       "http://stackoverflow.com/questions/18779354/assign-color-to-mouse-cursor-using-css\n",
       "*/\n",
       "\n",
       "(function ($) {\n",
       "\n",
       "    $.fn.color_cursor = function(color) {\n",
       "        var that = this;\n",
       "        var cvs = document.createElement(\"canvas\");\n",
       "        cvs.height = 16;\n",
       "        cvs.width = 16;\n",
       "        var ctx = cvs.getContext(\"2d\");\n",
       "        ctx.strokeStyle = color;\n",
       "        ctx.lineWidth = 4;\n",
       "        ctx.lineCap = \"round\";\n",
       "        ctx.moveTo(2, 12);\n",
       "        ctx.lineTo(2, 2);\n",
       "        ctx.lineTo(12, 2);\n",
       "        ctx.moveTo(2, 2);\n",
       "        ctx.lineTo(30, 30)    \n",
       "        ctx.stroke();\n",
       "        var url = cvs.toDataURL();\n",
       "        that.css(\"cursor\", \"url(\" + url + '), auto');\n",
       "        return that;\n",
       "    };\n",
       "\n",
       "    $.fn.color_cursor_reset = function () {\n",
       "        this.css(\"cursor\", \"\");\n",
       "        return this;\n",
       "    };\n",
       "\n",
       "    $.fn.color_cursor.example = function (element) {\n",
       "        debugger;\n",
       "        var d = $(\"<div>Cursor should be red over me. Click to reset.</div>\")\n",
       "            .color_cursor(\"red\");\n",
       "        var reset = function() {\n",
       "            d.color_cursor_reset();\n",
       "            d.html(\"Now the cursor should be normal\");\n",
       "        }\n",
       "        d.click(reset);\n",
       "        element.append(d);\n",
       "        return element;\n",
       "    };\n",
       "\n",
       "})(jQuery)\n"
      ],
      "text/plain": [
       "<IPython.core.display.Javascript object>"
      ]
     },
     "metadata": {},
     "output_type": "display_data"
    }
   ],
   "source": [
    "import sys\n",
    "if \"..\" not in sys.path:\n",
    "    sys.path.append(\"..\")\n",
    "from jp_gene_viz import dNetwork\n",
    "dNetwork.load_javascript_support()\n",
    "from jp_gene_viz import multiple_network\n",
    "from jp_gene_viz import LExpression\n",
    "LExpression.load_javascript_support()\n",
    "# from jp_gene_viz import motif_data\n",
    "# C = motif_data.MotifCollection()\n",
    "# # for extra safety \"rU\" reads with universal line ending support\n",
    "# C.read_meme_file(open(directory + '/' + \"mm9_em.meme\", \"rU\"))\n",
    "# C.read_meme_file(open(directory + '/' + \"hg19_em.meme\", \"rU\"))"
   ]
  },
  {
   "cell_type": "code",
   "execution_count": 3,
   "metadata": {
    "collapsed": false,
    "scrolled": true
   },
   "outputs": [
    {
     "name": "stdout",
     "output_type": "stream",
     "text": [
      "/Users/emiraldi/erm/Shared/Lin-Christoph-Emily/evTh17quantAtacNetworks\n",
      "GeneSets_FC1_FDR25/ATACseq_qc_max4_body_bp10000/evTh17nets_pFC1_FDR25_rawp0001_hyg001_famShare\n",
      "Th17_EAE_sp.tsv\n",
      "/Users/emiraldi/erm/Shared/Lin-Christoph-Emily/evTh17quantAtacNetworks/GeneSets_FC1_FDR25/ATACseq_qc_max4_body_bp10000/evTh17nets_pFC1_FDR25_rawp0001_hyg001_famShare/Th17_EAE_sp.tsv\n",
      "('Reading network', './GeneSets_FC1_FDR25/ATACseq_qc_max4_body_bp10000/evTh17nets_pFC1_FDR25_rawp0001_hyg001_famShare/Th17_EAE_sp.tsv')\n",
      "('Loading saved layout', './GeneSets_FC1_FDR25/ATACseq_qc_max4_body_bp10000/evTh17nets_pFC1_FDR25_rawp0001_hyg001_famShare/Th17_EAE_sp.tsv.layout.json')\n",
      ".\n",
      "GeneSets_FC1_FDR25/ATACseq_qc_max4_body_bp10000/evTh17nets_pFC1_FDR25_rawp0001_hyg001_famShare\n",
      "Th17_SI_sp.tsv\n",
      "./GeneSets_FC1_FDR25/ATACseq_qc_max4_body_bp10000/evTh17nets_pFC1_FDR25_rawp0001_hyg001_famShare/Th17_SI_sp.tsv\n",
      "('Reading network', './GeneSets_FC1_FDR25/ATACseq_qc_max4_body_bp10000/evTh17nets_pFC1_FDR25_rawp0001_hyg001_famShare/Th17_SI_sp.tsv')\n",
      "('Loading saved layout', './GeneSets_FC1_FDR25/ATACseq_qc_max4_body_bp10000/evTh17nets_pFC1_FDR25_rawp0001_hyg001_famShare/Th17_SI_sp.tsv.layout.json')\n",
      ".\n",
      "GeneSets_FC1_FDR25/ATACseq_qc_max4_body_bp10000/evTh17nets_pFC1_FDR25_rawp0001_hyg001_famShare\n",
      "IL17neg_EAE_sp.tsv\n",
      "./GeneSets_FC1_FDR25/ATACseq_qc_max4_body_bp10000/evTh17nets_pFC1_FDR25_rawp0001_hyg001_famShare/IL17neg_EAE_sp.tsv\n",
      "('Reading network', './GeneSets_FC1_FDR25/ATACseq_qc_max4_body_bp10000/evTh17nets_pFC1_FDR25_rawp0001_hyg001_famShare/IL17neg_EAE_sp.tsv')\n",
      "('Loading saved layout', './GeneSets_FC1_FDR25/ATACseq_qc_max4_body_bp10000/evTh17nets_pFC1_FDR25_rawp0001_hyg001_famShare/IL17neg_EAE_sp.tsv.layout.json')\n",
      ".\n",
      "GeneSets_FC1_FDR25/ATACseq_qc_max4_body_bp10000/evTh17nets_pFC1_FDR25_rawp0001_hyg001_famShare\n",
      "IL17neg_SI_sp.tsv\n",
      "./GeneSets_FC1_FDR25/ATACseq_qc_max4_body_bp10000/evTh17nets_pFC1_FDR25_rawp0001_hyg001_famShare/IL17neg_SI_sp.tsv\n",
      "('Reading network', './GeneSets_FC1_FDR25/ATACseq_qc_max4_body_bp10000/evTh17nets_pFC1_FDR25_rawp0001_hyg001_famShare/IL17neg_SI_sp.tsv')\n",
      "('Loading saved layout', './GeneSets_FC1_FDR25/ATACseq_qc_max4_body_bp10000/evTh17nets_pFC1_FDR25_rawp0001_hyg001_famShare/IL17neg_SI_sp.tsv.layout.json')\n",
      "<jp_gene_viz.LExpression.LinkedExpressionNetwork object at 0x11087c710>\n"
     ]
    }
   ],
   "source": [
    "# Load network objects\n",
    "\n",
    "for networkInf in networkInfs:\n",
    "    networkType = networkInf[0]\n",
    "    netPath = networkInf[1]\n",
    "    networkDic = dict()  # dictionary: keys = network Inf, items = network object, which we will add to later\n",
    "    for networkInit in networkInits:\n",
    "        networkFile = networkInit[0]\n",
    "        netName = networkInit[2]\n",
    "        curr = LExpression.LinkedExpressionNetwork()\n",
    "        print directory\n",
    "        print netPath\n",
    "        print networkFile\n",
    "        print directory + '/' + netPath + '/' + networkFile\n",
    "\n",
    "        try:\n",
    "            curr.load_network(directory + '/' + netPath + '/' + networkFile)  \n",
    "        except AssertionError:\n",
    "            directory = \".\"\n",
    "            curr.load_network(directory + '/' + netPath + '/' + networkFile)\n",
    "        networkDic[networkInit] = curr\n",
    "\n",
    "print networkDic[networkInits[0]]"
   ]
  },
  {
   "cell_type": "code",
   "execution_count": 4,
   "metadata": {
    "collapsed": false
   },
   "outputs": [],
   "source": [
    "# visualize the networks -- HARD CODED for our two networks of interest:\n",
    "\n",
    "M = multiple_network.MultipleNetworks(\n",
    "    [[networkDic[networkInits[0]], networkDic[networkInits[1]]],\n",
    "    [networkDic[networkInits[2]], networkDic[networkInits[3]]]])\n",
    "M.svg_width = 500\n",
    "M.show()   "
   ]
  },
  {
   "cell_type": "code",
   "execution_count": 5,
   "metadata": {
    "collapsed": false
   },
   "outputs": [],
   "source": [
    "# Set network preferences\n",
    "count = 0\n",
    "for networkInit in networkDic.keys():\n",
    "    # get title information + curr column for shading of figures\n",
    "    curr = networkDic[networkInit]\n",
    "    \n",
    "    # set threshold\n",
    "    curr.network.threshhold_slider.value = threshhold\n",
    "    curr.network.apply_click(None)\n",
    "    \n",
    "    # set title\n",
    "    titleInf = networkInit[2]\n",
    "    curr.network.title_html.value = titleInf\n",
    "\n",
    "    # add labels\n",
    "    curr.network.labels_button.value=True  \n",
    "    curr.network.draw_click(None)\n",
    "\n",
    "    # Load heatmap\n",
    "    curr.load_heatmap(directory + '/' + expressionFile)\n",
    "    # color nodes according to a sample column in the gene expression matrix\n",
    "    curr.gene_click(None)    \n",
    "    currCol = networkInit[1].lower()\n",
    "    curr.expression.col = currCol    \n",
    "    curr.condition_click(None)\n",
    "    \n",
    "    # Attach the motif collection populated above:\n",
    "#     curr.motif_collection = C\n"
   ]
  },
  {
   "cell_type": "code",
   "execution_count": null,
   "metadata": {
    "collapsed": true
   },
   "outputs": [],
   "source": []
  }
 ],
 "metadata": {
  "kernelspec": {
   "display_name": "Python 2",
   "language": "python",
   "name": "python2"
  },
  "language_info": {
   "codemirror_mode": {
    "name": "ipython",
    "version": 2
   },
   "file_extension": ".py",
   "mimetype": "text/x-python",
   "name": "python",
   "nbconvert_exporter": "python",
   "pygments_lexer": "ipython2",
   "version": "2.7.10"
  },
  "widgets": {
   "state": {
    "000258ebc69546619d5f6597961f0a57": {
     "views": []
    },
    "004f90f9d2824e2389efa6fe9f416c8e": {
     "views": []
    },
    "00bfeffacc93400eb49932fff40cd819": {
     "views": []
    },
    "0177f9dca5bd4c99b75960573cd9ede4": {
     "views": []
    },
    "01d7a0624e9a4163a84dda481a4dbb9c": {
     "views": []
    },
    "01fad96b1e494b0aaf7512803330fc89": {
     "views": []
    },
    "03423940cc31417daf31b775b6629a5e": {
     "views": []
    },
    "036fcb2bf1084eb88d9cda2e110eb8a7": {
     "views": []
    },
    "03db6dc6d337446588b402acb4865e70": {
     "views": []
    },
    "03dd3f81522648be9e772a3edad994d2": {
     "views": []
    },
    "03ff15b0691a452d95307b65fb431e05": {
     "views": []
    },
    "0462c2a0b6c04f6285a8019ea8ec97e1": {
     "views": []
    },
    "04c860ebcb144bf086bbcd67778431e8": {
     "views": []
    },
    "050643f084874646872f54ab1feed2f8": {
     "views": []
    },
    "057704895b0547a19fcdcbe4cfd3425c": {
     "views": []
    },
    "05acfabff6354b648d880953efd81a48": {
     "views": []
    },
    "05dafb9e48e34d379f904318b9a672c9": {
     "views": []
    },
    "06f9ae51fc954c43b01b8f4981bd0bf9": {
     "views": []
    },
    "0712ae3ce5ab4fc8b026ca589eb6f85d": {
     "views": []
    },
    "074c0a1284b94948948e4b6ec7bee1dd": {
     "views": []
    },
    "07e5092ade634cb2aeac7ff7d7a2875b": {
     "views": []
    },
    "08a9c9e25b7547b8962d60bc176d918f": {
     "views": []
    },
    "08c6ab99e06e46de9cc4324589cf1fdd": {
     "views": []
    },
    "09679a0ee04e40348110b81038948830": {
     "views": []
    },
    "09d67254a5844ded97f462d1bdda5b9d": {
     "views": []
    },
    "0a098e7e63464238bf453ce228b18602": {
     "views": []
    },
    "0a09ea77993648e0ab625195d6e46ad9": {
     "views": []
    },
    "0ab5226e686f43798c1ace49a415aff6": {
     "views": []
    },
    "0ace52c6f596436098d3e74f107d971a": {
     "views": []
    },
    "0b472f16bccf4a8b843cbeaa9e146e33": {
     "views": []
    },
    "0b50bbdde4884a24b0d59867346eb244": {
     "views": []
    },
    "0b56f04041484d618ac82c23c4728f4f": {
     "views": []
    },
    "0c3c4e2ed9c64b72967546cd732cf6de": {
     "views": []
    },
    "0caccb28983d4a6795e1435c262bcb09": {
     "views": []
    },
    "0d02766e8055414ca379926e54e1e4df": {
     "views": []
    },
    "0d3db82e233a4594af62b841408ed452": {
     "views": []
    },
    "0d6f5fa4085642d689dd9cde81305917": {
     "views": []
    },
    "0d92f3f21e9e437cbbd3cec6ca3040f1": {
     "views": []
    },
    "0e740a5b497448bf9df4194b63446dbb": {
     "views": []
    },
    "0ef8889ab5b845f78f4cda106195ff22": {
     "views": []
    },
    "0fc91c3dd95949738923ec0b6eb6951a": {
     "views": []
    },
    "0fcd97017a8049528290964e6e721b98": {
     "views": []
    },
    "0fdda7c5de154f008e6e8a067f350165": {
     "views": []
    },
    "0fee669758ed467884c9162d001d0f69": {
     "views": []
    },
    "0ffb670ed08d483698b86cbf95322b64": {
     "views": []
    },
    "102c934ec1cf4e8ab4c04347392c58ca": {
     "views": []
    },
    "110f84064bb5480c96741734530f5865": {
     "views": []
    },
    "119a1d62ea9e44b98cf48a2499d4fa79": {
     "views": []
    },
    "123440539f684a4484b554a0617b16ac": {
     "views": []
    },
    "1260b1b2a0f94c108709c761d879ad72": {
     "views": []
    },
    "12c781bdc3f5432bb35f4f501a753739": {
     "views": []
    },
    "12f892b640124ff599f9cc510ece6914": {
     "views": []
    },
    "1305131cd7634bd0a2a7525d4a830483": {
     "views": []
    },
    "1315b00f546e4196bb6563e7ed536c93": {
     "views": []
    },
    "133fd085d6f949be86ab2642f02bcfc1": {
     "views": []
    },
    "13495518be0841dcb56334383c1e33f5": {
     "views": []
    },
    "13e4ab3728ea4e8285d45f8588739ea3": {
     "views": []
    },
    "14decb1b76da4742945bdf4031708a7c": {
     "views": []
    },
    "15e134095d8e4629bd826e4c2f38839d": {
     "views": []
    },
    "1600043220fe4005a9e066b59f048870": {
     "views": []
    },
    "1608625bda454ce4a125d8306b19190b": {
     "views": []
    },
    "160f5c2cdc3346548a964bc69f411a51": {
     "views": []
    },
    "164f3d92e4c94f178b84f08ad6b4de84": {
     "views": []
    },
    "16eaac7bdf0d4911909a533e632fc810": {
     "views": []
    },
    "16f6db19f22840cda876f52ae7032b0d": {
     "views": []
    },
    "16f71839528740dcac3d94bd9c22864d": {
     "views": []
    },
    "1819b5f2a713451d8ce8f2b97d0ba17b": {
     "views": []
    },
    "182df04069f247618f4f462c90f25099": {
     "views": []
    },
    "18cea6396c3d4220b352c49504ad492b": {
     "views": []
    },
    "1b35b308c5b54032808d62078f63fbda": {
     "views": []
    },
    "1b3f2dcfc941422d81ce3ce86118018b": {
     "views": []
    },
    "1b69ef4aefdf4ea8b5718eedd1f23ddd": {
     "views": []
    },
    "1c90733bc90d4dafa48ec2396f1647cc": {
     "views": []
    },
    "1cb4fed6507349d297a5b0b490ff2d52": {
     "views": []
    },
    "1ccc8232fc59453086da9c384cfde825": {
     "views": []
    },
    "1cf408416e194d108ccaf7d32e07aebb": {
     "views": []
    },
    "1d7cbce7d87b4b4b89f8acfe270f0d42": {
     "views": []
    },
    "1e326225e4c94bf889841e19130984d9": {
     "views": []
    },
    "1f312bb2ebe643bb9d0101a5dd17a2d3": {
     "views": []
    },
    "1fc26d49a4aa4634908dba30db41b96f": {
     "views": []
    },
    "2036da26560c4d99ad22074a7c65b384": {
     "views": []
    },
    "203f03063e9740e1a66408ccfc6d6db3": {
     "views": []
    },
    "204a37abae2c423c89aa72deb36799ed": {
     "views": []
    },
    "20b4a30d430d478fb37cf357e4bf20a1": {
     "views": []
    },
    "2102a4d03b2e49159e7fcc469e07c0c1": {
     "views": []
    },
    "217393e132ea41b5b09c7467b1d1f330": {
     "views": []
    },
    "21c8170610034b9d9cdb812520466a7f": {
     "views": []
    },
    "229a36585bb54175b0fe98dbad0dd3e9": {
     "views": []
    },
    "22d9f097ec3245cc949898b49e89df6a": {
     "views": []
    },
    "22f6935bdc6949c6a475f857bd2dfefa": {
     "views": []
    },
    "235ecb1a1aa149e29d9947b5c0863db8": {
     "views": []
    },
    "23b6c6cbdd1b4acfb9de0a56128ec623": {
     "views": []
    },
    "241ce552222f4f53ba3bf1825e6a3359": {
     "views": []
    },
    "24203a685f374932aa49b67ef1170b19": {
     "views": []
    },
    "249b007697c4463ea8b7ca46c380d885": {
     "views": []
    },
    "25115c541c7143b09f4e57ae513cebd4": {
     "views": []
    },
    "2550f443f4da4c3d897aded73bc69648": {
     "views": []
    },
    "25556db3749a42df93b018c8c6f79f18": {
     "views": []
    },
    "25af167a1cc5479aa62a5a688ac9cade": {
     "views": []
    },
    "25d16a5853c9429e96e8b89054dbfc52": {
     "views": []
    },
    "260e09e9274648a082f0f3dcf1ca1c7d": {
     "views": []
    },
    "262618c5d889478a9c07d9dc5e7d4697": {
     "views": []
    },
    "268afd208e1a477a95ade7c8645e0c51": {
     "views": []
    },
    "269d62a1305c4d34bef05995ce88df73": {
     "views": []
    },
    "26b1e9a303184f6caf9de42c3109619c": {
     "views": []
    },
    "26e2823b99154dd79b453906a859370b": {
     "views": []
    },
    "27dae2b402c24c32892b19f5ef323c56": {
     "views": []
    },
    "27dc8112b7454c2e81e07e234a6bf747": {
     "views": []
    },
    "27ff3a25576242b886708aaa7e92a92c": {
     "views": []
    },
    "27ff86fe212d4c87beee9bd3a749808e": {
     "views": []
    },
    "2865db56362c4964ad81238519a53010": {
     "views": []
    },
    "28832291a43c4d1fa3dbcde94a2b0229": {
     "views": []
    },
    "289b9a06a48041e9b7048a0812fd03e8": {
     "views": []
    },
    "28abbd3c8af5465ba302e157d39a1a79": {
     "views": []
    },
    "28d941e8eb224a5095e0d6654839f549": {
     "views": []
    },
    "29346dbd7a6a433e915a80b138fffd0b": {
     "views": []
    },
    "2966e47e180d47d4bd22867698f61655": {
     "views": []
    },
    "2968110cfb9b4c25a8517e5a15a3a820": {
     "views": []
    },
    "2972c5e0fc2f4029aab731e2d49d009a": {
     "views": []
    },
    "298689494113484080bdb406a047b63c": {
     "views": []
    },
    "2a02aa3ba3f54b5eb3948ed8b67a32ea": {
     "views": []
    },
    "2a2e2771d19a4e3aaff4bc8c43b7293b": {
     "views": []
    },
    "2b0f477bf1fd45378163095b02a03dca": {
     "views": []
    },
    "2b2a44e962294fd29ec2f441f0e31a8d": {
     "views": []
    },
    "2b7350d9846f4ec08993954c1cd6d643": {
     "views": []
    },
    "2bed05c624554c7c945b871284541f38": {
     "views": []
    },
    "2c77c72dfcda46ff890acfebadf3dca9": {
     "views": []
    },
    "2c8be3374e5e4533950ab87acb340b99": {
     "views": []
    },
    "2c8d9574da924b8694c7b3c481636959": {
     "views": []
    },
    "2dd6660f5d364106a458b9a66f63c0f5": {
     "views": []
    },
    "2e6e85e9426e411c980d4d6399667275": {
     "views": []
    },
    "2f2359d45d8d460f8be37fa1c4102b51": {
     "views": []
    },
    "2f29a14b07ab4572a1559225ea4e4328": {
     "views": []
    },
    "2f3811785abc415ea4fafd2e5f4da6c2": {
     "views": []
    },
    "2f6bbb04dc0441b087dd147bb59424de": {
     "views": []
    },
    "2f6f30db9ff74fd89d4c4226cd66c1cc": {
     "views": []
    },
    "2f84ca20a6854734961fc280cdc143db": {
     "views": []
    },
    "300c5840fb274fb39a301f25ccd0a1e2": {
     "views": []
    },
    "301207becc2d4b2eac85df193f9768c4": {
     "views": []
    },
    "303885b59b034e89848d3c1e7d2a9af0": {
     "views": []
    },
    "305018e161ac4fd2b88969fa38c43e75": {
     "views": []
    },
    "3061befc9d29439da874e4a17bec7832": {
     "views": []
    },
    "3095a69eaa4f484b810b5a0da5b5d133": {
     "views": []
    },
    "30cd4d8c83994a7080aa2491153cf437": {
     "views": []
    },
    "315df44bdd4941fa957ef142de14e573": {
     "views": []
    },
    "31aa385430f7439bb70d129249849479": {
     "views": []
    },
    "31bff36568b74c94a758d758ae02acd2": {
     "views": []
    },
    "31cc9c680c764c88bfecae66b72b8e9d": {
     "views": []
    },
    "31d578b67f514bedb8cc7add0ce6a13e": {
     "views": []
    },
    "324973161c414e8a9344165086b9ac4c": {
     "views": []
    },
    "32ed27df94ae4ddda64d07ec96072efa": {
     "views": []
    },
    "33211541099a44b1bad6e0b82cd59bce": {
     "views": []
    },
    "337f01239b4e4683890ea59bdafd2622": {
     "views": []
    },
    "33d08ec6ab104b6383774c9e38c46df3": {
     "views": []
    },
    "33fc066c6c7f4348897d2b5b8e46f222": {
     "views": []
    },
    "347f3149b08243789646b4a2df10b59f": {
     "views": []
    },
    "349bf6fb72364afdaf651f9afea57192": {
     "views": []
    },
    "34e5a7318d1a4e2e8b95306a6f6b34ac": {
     "views": []
    },
    "3517ba1b18534a569a65d3212a9a17a7": {
     "views": []
    },
    "351c0c59b8014005a1a2b0cd8cea128e": {
     "views": []
    },
    "36033bae7fc249afb42fa3f23a144ff8": {
     "views": []
    },
    "3614824652024adbb54697a27378007c": {
     "views": []
    },
    "364c7492ef834cf2910a5c2a8db4e532": {
     "views": []
    },
    "36adacd3c9434d2ebc940dbdd191faf3": {
     "views": []
    },
    "37385a9547f64792bdeaba080bbba041": {
     "views": []
    },
    "37b1125f05c74c65a021908b67280e0d": {
     "views": []
    },
    "3802bba0164c4d24976f28597f48e61b": {
     "views": []
    },
    "389035bd32aa4767934c910d343b1121": {
     "views": []
    },
    "38bf4d1dec7e4743b709bc7bd2bbf135": {
     "views": []
    },
    "38c385f3b0544d13a2ec29863ac4e487": {
     "views": []
    },
    "39256141ae4447c4bd3da7d700ff0095": {
     "views": []
    },
    "3a7e3b194ff144bebadf33490a658694": {
     "views": []
    },
    "3abed42951e54051ac7b72129b20ef6b": {
     "views": []
    },
    "3ae5c832e5754f5a952b002e538b241a": {
     "views": []
    },
    "3b045c66580f45f5990760bcb3018ef5": {
     "views": []
    },
    "3b29963917db4a4a86aaa1a5ddcfa8dc": {
     "views": []
    },
    "3b4219cbf1794c54940f9a907205b5ce": {
     "views": []
    },
    "3b78cb86b775480dafc47c1cb09021b9": {
     "views": []
    },
    "3b8577739c2a448f9cad9d3b2224c74a": {
     "views": []
    },
    "3b8fae9e3f5341a09290a72ca4f4d53a": {
     "views": []
    },
    "3c03fd14e6b74e3586ebb61b829fdb24": {
     "views": []
    },
    "3c847f38ed364edca79421f3470d4232": {
     "views": []
    },
    "3d4cf22371c24a158f9db497d9976869": {
     "views": []
    },
    "3d59a26bb27246f3b51bea7be89b996d": {
     "views": []
    },
    "3e0cbd9129f74ce3981d1a3e2298d490": {
     "views": []
    },
    "3e735371bfa447759bf7868f016e09f4": {
     "views": []
    },
    "3e7bc79a3f1f41049e133918b746c4cb": {
     "views": []
    },
    "3ed71763fbb743b2bfa7c90f1356d26a": {
     "views": []
    },
    "3ee401fa2c064940939b45043427117a": {
     "views": []
    },
    "3efdddd0a66a402e85a3747751097ffd": {
     "views": []
    },
    "3f053a5f9c43437380ad175dce52691b": {
     "views": []
    },
    "3f253c728fc64a18bbfc07222d7187ce": {
     "views": []
    },
    "3f3ade6ec818491084eac26335d6d616": {
     "views": []
    },
    "3f3eef73e9d6479d944e17dd2f681ba3": {
     "views": []
    },
    "3f60a773e46e46c5b66bbc6b6b2eb48f": {
     "views": []
    },
    "3fe38ae10c3144d781357d3b1e3c042d": {
     "views": []
    },
    "4050d886dfc440e99cd6e807ae724fa5": {
     "views": []
    },
    "4082d27ee50d4d00aca6b5ee661545b7": {
     "views": []
    },
    "419dafa0b4ab4d01895a0b7466bd4410": {
     "views": []
    },
    "41a38f2c8c4a4229bbe49df1566bfc8f": {
     "views": []
    },
    "41ad640511dc4d318c10ee5f2655772d": {
     "views": []
    },
    "41e568403a5846aaaed58b048fdab851": {
     "views": []
    },
    "426a5b7a07624a3ea414896a17f89266": {
     "views": []
    },
    "43063ca3e8604e949764dd7ee094ab57": {
     "views": []
    },
    "4397f250ad074414ae990658d13e585a": {
     "views": []
    },
    "441817a2b604478b939b94b6b9e5ec09": {
     "views": []
    },
    "455c7417439e46ea97f08765eed1c091": {
     "views": []
    },
    "4582c5c2e73e432db6d596b346786ef7": {
     "views": []
    },
    "45ce009c409e44eeb69302e05c261ccc": {
     "views": []
    },
    "4649faaa1e9c4802b91474cdaf6f0a38": {
     "views": []
    },
    "46f00f69c3054d758a8cf14399ea484c": {
     "views": []
    },
    "47ec54e0c09e4b8a8ab0aae0e7e85544": {
     "views": []
    },
    "48c6127a4dd04a96ae08f2b32af633a0": {
     "views": []
    },
    "4a1de11ea2644642904eea8da45b2b16": {
     "views": []
    },
    "4a2f11ba96514fad8c71896f4b11e304": {
     "views": []
    },
    "4b04e30741b04f189031f6871716a4f2": {
     "views": []
    },
    "4b093af27d5a4775aa703d3477f27cf1": {
     "views": []
    },
    "4b88f4a6e636422c8b8b336b6c93fd93": {
     "views": []
    },
    "4b9039d2977d4dfe9f136e2cce45cec8": {
     "views": []
    },
    "4bd86cec31c648a490541f2df193ffed": {
     "views": []
    },
    "4bddec946b644cd09a102d927f0c5943": {
     "views": []
    },
    "4c167de64f21441d88615e6fa5fc4809": {
     "views": []
    },
    "4c58bb7ef94c41918f165fc7215509e5": {
     "views": []
    },
    "4c5b476f1a65442a9ee63c5f99b5cfc8": {
     "views": []
    },
    "4d64863740e5401cb6cb687904837633": {
     "views": []
    },
    "4dbcd7809d114ccf9f2185210df589ca": {
     "views": []
    },
    "4dd13a8c295a4ddd9754f30dde3b4a7f": {
     "views": []
    },
    "4df3aa2b274746209bd467291241de29": {
     "views": []
    },
    "4e1eaf75ea534ff192fbeb0d7a3c735e": {
     "views": []
    },
    "4e44970723cd489bb1a2eacb8e43e76e": {
     "views": []
    },
    "4eb0069f083b4c9bbde535a3dab869f6": {
     "views": []
    },
    "4f1a97461e4b4f17bd94e0dbf3f85306": {
     "views": []
    },
    "4f97b8a5ffe54ed0ba4b407ee8758448": {
     "views": []
    },
    "4ff204e5dd284b0481e02f6c9122c44f": {
     "views": []
    },
    "4fff49e75893477db4185a694062ed8d": {
     "views": []
    },
    "500babc48b9a428784cb58fc6d898124": {
     "views": []
    },
    "500cfbcbabea44048d990c9879e7db54": {
     "views": []
    },
    "501ff6f24e524d7ba45c965e0dc63554": {
     "views": []
    },
    "50c08fba4d3c4339a378cf2532acaba1": {
     "views": []
    },
    "50e6b1b5037049a0a161edc13da4eade": {
     "views": []
    },
    "520fc1665d4c4a66b24d044c3022ef95": {
     "views": []
    },
    "524a138ed7fa40be9004bc168017996c": {
     "views": []
    },
    "52b09e48b47049bfb8883ef88c952db9": {
     "views": []
    },
    "52c6cde0f62943b79ae49830a0c3d584": {
     "views": []
    },
    "53a51caf87fa4e3da884668ff40958f4": {
     "views": []
    },
    "53cc9c2e95414609b540ac4edeb19666": {
     "views": []
    },
    "5404b07ee55942b49faf6fbc574a990c": {
     "views": []
    },
    "5492cc4acf9c410f926501b5854ab946": {
     "views": []
    },
    "54b3cf8b829842b3a26478c121e4b301": {
     "views": []
    },
    "54ecd41e87b14a1a9632aba53a68d337": {
     "views": []
    },
    "554fe7903f744b57bf2e55d552c9e220": {
     "views": []
    },
    "55e78619e3d141c8ab3441fbe598c06f": {
     "views": []
    },
    "5640ae7874b54316b41113fb99c3aba0": {
     "views": []
    },
    "56e19136c6f449258a1ee93632ef82ac": {
     "views": []
    },
    "57438110b1a243a08e106f66aa04c5ae": {
     "views": []
    },
    "57a305f8f6504db793d3c010e1a764c9": {
     "views": []
    },
    "57aa82989fc4425a9e807e1e8a618af0": {
     "views": []
    },
    "57abf095c00d46b199dade7817e99cb9": {
     "views": []
    },
    "57b3466c27a4453dbf291f4eb966d9f0": {
     "views": []
    },
    "57ca4f17420a4ddfb319f60a1cf03449": {
     "views": []
    },
    "5803fd02381c48be8a5d4d4c91974210": {
     "views": []
    },
    "581ea2514f9f4bba81df2849ee5907c5": {
     "views": []
    },
    "5825e35865ba417ab626cd13e42bc39e": {
     "views": []
    },
    "582d5ea7e6ce4aae8c99e297edba58e7": {
     "views": []
    },
    "5840cb232d4f4a66bb05f9a53faaf62d": {
     "views": []
    },
    "5925f2f657524a7894cbee763ccf46a4": {
     "views": []
    },
    "5945d4664ec44479b7e627f0c35d5793": {
     "views": []
    },
    "5949958aad8e451db464122544514583": {
     "views": []
    },
    "59c7f2438490450d9328c6108ac39c1c": {
     "views": []
    },
    "59c9f1f2f47249ccac4cd639b98cc1d6": {
     "views": []
    },
    "59f3415676b748208dad35084f9a9e2e": {
     "views": []
    },
    "5a979872c0294bbc8b02663ab8360f39": {
     "views": []
    },
    "5acbdd7342ef49a4bb5c5c811ac02549": {
     "views": []
    },
    "5aea0f4407cd4182afd0c60aaba29e36": {
     "views": []
    },
    "5b6a20e8e9984767aa7bd3c62bc29060": {
     "views": []
    },
    "5bd288dae533403e9bddc81996c0aa61": {
     "views": []
    },
    "5beb45853c1f40e6a7189f21a253609f": {
     "views": []
    },
    "5c3b9c0a89434897b73783788b2405d8": {
     "views": []
    },
    "5c57edd738ff4a1495168a181a481b56": {
     "views": []
    },
    "5d012adea0e044a5b9e62d2b0cef52c1": {
     "views": []
    },
    "5d11f4d4e46941fc80703a7df79a73ca": {
     "views": []
    },
    "5dbde4d952a74efb8dec65a6d5441828": {
     "views": []
    },
    "5f23dd0a400d49679415c4fad0ec2df8": {
     "views": []
    },
    "5f5420c780b74321bb6e5e4aae78df9b": {
     "views": []
    },
    "5ff009b5d2d141509c72417baffce3fa": {
     "views": []
    },
    "6001d2c088144d2396d5e27cb2754883": {
     "views": []
    },
    "6024f15f50d941d5a7d84777a6167d06": {
     "views": []
    },
    "603c561197a24604a7fa9ea4b06fde60": {
     "views": []
    },
    "60b15554de664415b688e73efa5398a2": {
     "views": []
    },
    "6144c15e884e406e894ef4803ff338c7": {
     "views": []
    },
    "6190cc0e1b4f43a48bf4dad9ea491b61": {
     "views": []
    },
    "619dcc38dd5247d4bc74dc7b8a785ad2": {
     "views": []
    },
    "61e852c81e474185883a4b601e363287": {
     "views": []
    },
    "622cf70880764eecb1f2d55c1df1873b": {
     "views": []
    },
    "62a9abb62f58417aa77d29f2215be455": {
     "views": []
    },
    "6353fc07caf24a02ac5cda708f5cea89": {
     "views": []
    },
    "63ede2d1e7bd4f8ba1d6a22ccd524707": {
     "views": []
    },
    "63ef8e7e2d35489eb378046b5cceaeca": {
     "views": []
    },
    "64815d6a95cb48b2962f055a913b2f18": {
     "views": []
    },
    "651645bccbe843d580142659e8b73668": {
     "views": []
    },
    "655ed3298ad5427e882ad3380e608f25": {
     "views": []
    },
    "6590faeb419742e780a30b53d486a916": {
     "views": []
    },
    "65cdbdd6aecb4dbc995d830615d52d87": {
     "views": []
    },
    "65f43be458504573b3faac5c28bac75c": {
     "views": []
    },
    "6669ef665df946b2aa546f1eaa879f30": {
     "views": []
    },
    "6691cfadd836496586b65dc0069b6bdf": {
     "views": []
    },
    "66a43522221a40c5af0b5b88f69842d4": {
     "views": []
    },
    "66b5e1a2e08a48d295745ddce71344e9": {
     "views": []
    },
    "6786bef7b0fc482d99f6a899211e3a17": {
     "views": []
    },
    "68466798aa9a4ef79ec1d6f98f45d00c": {
     "views": []
    },
    "686b8c828d2f423cb40a46e29cec05da": {
     "views": []
    },
    "69278e66cd8e44f79a0c285b85599713": {
     "views": []
    },
    "6a08fe7e55884fdca93e5f835a418382": {
     "views": []
    },
    "6a8bdcb81aef4392a7f9c183a127f72d": {
     "views": []
    },
    "6b13c32483874fb6b630c649e53fa299": {
     "views": []
    },
    "6b6594dd4952417198efe65ec3ec758a": {
     "views": []
    },
    "6c6793f7ead74d73971616c894a348be": {
     "views": []
    },
    "6c91aab5cc454ee4b67fb4e0edf206f9": {
     "views": []
    },
    "6cc1036f81fb41028ee2751332bbca17": {
     "views": []
    },
    "6d34aa2b4a11430a8ca0e505282dd3aa": {
     "views": []
    },
    "6d80c079a2d14e42bdf10163f8eb66b1": {
     "views": []
    },
    "6e4f7dea5dd64e9e996e14b2c3a5614f": {
     "views": []
    },
    "6e58780f25a547159b6e709e16b47a89": {
     "views": []
    },
    "6e882f903e6d4754a9e7cbca3abc3bff": {
     "views": []
    },
    "6f008ad0fa954b64be94dcb5903a241b": {
     "views": []
    },
    "6f4d27573c504b1eb2f6f7d455350d5a": {
     "views": []
    },
    "6f53ec224b4e4566836966570590cb07": {
     "views": []
    },
    "6f73a324142b44c59ae46b5d6e085276": {
     "views": []
    },
    "6fcab15031e6444dbfde072a4b5f5e87": {
     "views": []
    },
    "6ffee264afc44040be71b7b4c3306673": {
     "views": []
    },
    "70c738086c4147639f4737e1debd1d0c": {
     "views": []
    },
    "7206904265e142a481301c3e6b133ec8": {
     "views": []
    },
    "72a6fee1c3ba4effb7ea7873616731d9": {
     "views": []
    },
    "72d3f2150c0545db94b1a26875697350": {
     "views": []
    },
    "730ae37883c84fe28abe9bfa544a8168": {
     "views": []
    },
    "735374b2acb14b69a66a96e527dc8fd5": {
     "views": []
    },
    "73eb72c8c584408b8265e95c97ff59e5": {
     "views": []
    },
    "75054381ae824f9aa92a7b508cb3aff3": {
     "views": []
    },
    "75313b7f537f461baf1d4d1f55afb742": {
     "views": []
    },
    "755df5604f9d4d568e62f88f5934556e": {
     "views": []
    },
    "7594cf8f91264639a6c57028067e234e": {
     "views": []
    },
    "759da8cd1dff459996d90431ad57d498": {
     "views": []
    },
    "75de7d4f40cb4e6da1a511b1f3bb10e0": {
     "views": []
    },
    "7607e7bfbc344374ba2226a8ac7f2ca2": {
     "views": []
    },
    "761a17cc612645d1910b61dc8ee5a7b7": {
     "views": []
    },
    "7620415293834d519829747b1181a407": {
     "views": []
    },
    "769557e914cb484293a8c250d274935d": {
     "views": []
    },
    "76b0d46af77449339768db188a1974ee": {
     "views": []
    },
    "76c34cd59754439897fd21d84920b308": {
     "views": []
    },
    "770fd861684946898c7891036c517d83": {
     "views": []
    },
    "7727117d3605439e88c228c6bf338a25": {
     "views": []
    },
    "773141e11d7d48b8a0fe6ea0b998df7b": {
     "views": []
    },
    "773e4034046f46da9a6b946182add37f": {
     "views": []
    },
    "782e2d8151fb4ff99c1d891982be77c3": {
     "views": []
    },
    "7a0ea1f93aca4deba6c1954cd3134c9e": {
     "views": []
    },
    "7b7d1ca81ba0485ba707deebd934ffd2": {
     "views": []
    },
    "7b81054714f54df9b422d7274073b747": {
     "views": []
    },
    "7ba15b122fb44b658d68df0d0abeaa3d": {
     "views": []
    },
    "7c00e11081714c83bc61ae7ed9afc28c": {
     "views": []
    },
    "7c11d706d73d426ea59ebbb5cd232b48": {
     "views": []
    },
    "7c8deaffce5049409b68da5adf054746": {
     "views": []
    },
    "7d7fcebe6b1a4bed89d97e7973fbe8cb": {
     "views": []
    },
    "7d82492d3a2d442c921d19cba71bd7dd": {
     "views": []
    },
    "7e5618c9485b4a1eb3f0fd127b90b3e3": {
     "views": []
    },
    "7e57b272b1084902b53d5190ff9dc02b": {
     "views": []
    },
    "8032c66b25824924bf7898ad46c38272": {
     "views": []
    },
    "803ec016c5274c3ab83fc89b76d732d3": {
     "views": []
    },
    "809c66711bac4e37943f28889c1e0a30": {
     "views": []
    },
    "80a777f14dd249188a67f136c4760c47": {
     "views": []
    },
    "80af6ce55dcf471998c396be5c3fed02": {
     "views": []
    },
    "818ec081f7ba4d7288b5b441821489b0": {
     "views": []
    },
    "822eb2e33e0e40fab051b0ad9560453d": {
     "views": []
    },
    "8260e1a3aa704114bebf54632705a5b6": {
     "views": []
    },
    "82ea5db834194a68836416c456087d94": {
     "views": []
    },
    "8404c94616ed4ea8bb4a8397736f93e6": {
     "views": []
    },
    "846c8889376945b9950836fcbb2ea994": {
     "views": []
    },
    "84a73bd8e6954a3c972dd296e5c13da5": {
     "views": []
    },
    "84d1fba945704d3a97dfbd6bc8c09cc4": {
     "views": []
    },
    "858339e6d0104ec5aee6bd54394e15f3": {
     "views": []
    },
    "8591388d636742b1912dee51545d3c29": {
     "views": []
    },
    "85b974a83034400db31fd4c8ab813e5e": {
     "views": []
    },
    "883b9f6c462a442bb7d6091a4b41c79e": {
     "views": []
    },
    "8899619bbe3f4e8fa43f19eab9fd7b57": {
     "views": []
    },
    "88d9dc49d2744e5c9a297a1e1eeddf64": {
     "views": []
    },
    "88f50789fa2f47868d392180ab6f0715": {
     "views": []
    },
    "89a4911f4b424686991d8ae8a19dcf3c": {
     "views": []
    },
    "89b203d1cff84480b0c098c112409a7d": {
     "views": []
    },
    "89ba3e5e6d0c4e1aa5c9b8ba7240d320": {
     "views": []
    },
    "8a8938664ec94137a02cab969a0878a3": {
     "views": []
    },
    "8b245178f1824c4791ba52eff5f4afc1": {
     "views": []
    },
    "8b4b6449ff55417da6a43fbf1d61de59": {
     "views": []
    },
    "8b78f4d9541b44ffb83bf7cc6c5a5e09": {
     "views": []
    },
    "8bf34c6224e542bc9a024faa82f343bf": {
     "views": []
    },
    "8d402a721eec486c9516f3eddd2fb368": {
     "views": []
    },
    "8d917aab2dcc4c0cb239bee42a7b6400": {
     "views": []
    },
    "8daa43652b66493a83d6e0435cac9553": {
     "views": []
    },
    "8db6af64bfdb4ef99c0e62b7d517abd6": {
     "views": []
    },
    "8e191e767d074a0582ca272d60357276": {
     "views": []
    },
    "8e454a99228f42ec8ff8309232c4a812": {
     "views": []
    },
    "8e4c13424ef9475da30ebdbc3c0fbadb": {
     "views": []
    },
    "8e6293ec296e49b5a5aa06e9b0bca59e": {
     "views": []
    },
    "8e73c06288f04322a9b967e6c13f3f11": {
     "views": []
    },
    "8e959422a1f843959deba6996ff47a04": {
     "views": []
    },
    "8ea813b385774a4d9126eeaca1982d09": {
     "views": []
    },
    "8ee9703dca3040b282cd80215ba0cf49": {
     "views": []
    },
    "8f4c33c59a6640489b79002deed6298f": {
     "views": []
    },
    "8feffdf6b3e14ad3aae3903221b4f6eb": {
     "views": []
    },
    "9007c95ab7f24701a612f30a5deb1266": {
     "views": []
    },
    "90441e386c9f4fcd8b0a10abee6f03f3": {
     "views": []
    },
    "909ca427b1ea467097a7bcc364ba6015": {
     "views": []
    },
    "90d5230eb66d4d1eb4f6be662aa415db": {
     "views": []
    },
    "90d82b1523e44ed3ba42a49c5ef4db9f": {
     "views": []
    },
    "91ac4e5f414349e493277ca6220cb005": {
     "views": []
    },
    "91b2f93785eb4ea3aa18cde698d8e82c": {
     "views": []
    },
    "92658f2bacf54565afe8590a1fccc672": {
     "views": []
    },
    "92e95f5d987b447ead2e847db604cdf1": {
     "views": []
    },
    "9313013756c3415eb2c4d483cc4049dc": {
     "views": []
    },
    "93640941bc764d0c8b97ead6310e4de4": {
     "views": []
    },
    "93c7705ac9af40f59dd34b8ec3ce2831": {
     "views": []
    },
    "93eab51cfb794a2197e4b02e51e50436": {
     "views": []
    },
    "9432a64be06444f39501a86f03d82763": {
     "views": []
    },
    "946b6dfb4161471e9336ba5dc8f33d35": {
     "views": []
    },
    "948e97b52b5f4930b2a28512a7449721": {
     "views": []
    },
    "94b5976b79b942b8bf2f48772572fc3a": {
     "views": []
    },
    "94c3dcc2b9a04305abcafa4a4def6883": {
     "views": []
    },
    "94ebb7d8014443d48099841b1b9901fe": {
     "views": []
    },
    "953f9fd6107c455b81a4a77b6fb56cd1": {
     "views": []
    },
    "95985a4527b2404cb791dcc17497def9": {
     "views": []
    },
    "95f91d7da79c40e0a25c8877c237c8a1": {
     "views": []
    },
    "965fb7206d1e4ce7b3d40131f133038b": {
     "views": []
    },
    "9670b6140d384a6da87c0b0298be6668": {
     "views": []
    },
    "96c10bc2b75842e393bf3e299b6e4f49": {
     "views": []
    },
    "975f7a1dd0d3482281716c7f5bb8ab1f": {
     "views": []
    },
    "97caed64340d4d5f864ffbf4866d139a": {
     "views": []
    },
    "9840611b041040db91fa2652b2d33cdc": {
     "views": []
    },
    "984f12502f6c45b684e1e678f4ce2751": {
     "views": []
    },
    "9853e7818c6b400a8fdbbd8dec95d242": {
     "views": []
    },
    "98759932875944b4b397f1bba139226d": {
     "views": []
    },
    "989d155c6f714af690ec6362391e0620": {
     "views": []
    },
    "98d89a7ec8dd4999bd053836a9c00ef5": {
     "views": []
    },
    "98fbf79f36514f0a9f1c81687411246b": {
     "views": []
    },
    "9986d90d31814ede91716979526d20c1": {
     "views": []
    },
    "998859160eac49deb9524df3da50b7cc": {
     "views": []
    },
    "999df6004a5c4462a6eae6b66ad42146": {
     "views": []
    },
    "99dd6e1014af4ac9b795cdeae71e4f61": {
     "views": []
    },
    "9a0362e8c3ae4526b6f7d9a7ebee6334": {
     "views": []
    },
    "9a6ea789044244f38c206828051f088b": {
     "views": []
    },
    "9a8dfb9aa671440493e4936a851db2e8": {
     "views": []
    },
    "9ad094f6a3a7462a973bb39af6e8e9be": {
     "views": []
    },
    "9be6ec1a584b4aae8b8819296bb85804": {
     "views": []
    },
    "9c1529fd6b924a61b844eaecac466dd4": {
     "views": []
    },
    "9cb5661ef90d4991b3f56b164f375c7d": {
     "views": []
    },
    "9ce568a3c7db42a7be7ef8de63ef7666": {
     "views": []
    },
    "9d2b676aea834a2fb79348e4dd426d8a": {
     "views": []
    },
    "9d3abda02e404327afbeb517b244acfd": {
     "views": []
    },
    "9dc86b7140a44d8884e9027d188967f4": {
     "views": []
    },
    "9dcd0628b0f246738f16031e07d92fa6": {
     "views": []
    },
    "9e5acb08de544b489264043977860768": {
     "views": []
    },
    "9e7fa6211f054f3fbaa9da3830b0ddd3": {
     "views": []
    },
    "9f276c8ee516402c9c78bcd62c65522d": {
     "views": []
    },
    "9f2d906faf054835b96a5aa4de1031e6": {
     "views": []
    },
    "9f78b6cb773e40e999a315e6fd485dc0": {
     "views": []
    },
    "9fa8800e9d214e6dab35a3775fff0869": {
     "views": []
    },
    "a06d9893b87d4d79bdebd0fbfee0dee2": {
     "views": []
    },
    "a0b0ce404b6643edb260863fdad968fb": {
     "views": []
    },
    "a0bdd8d87a6542ae9a852ae94dfe5052": {
     "views": []
    },
    "a19d00c3a53443c19ab636c87bf939e4": {
     "views": []
    },
    "a23015feaff94d59b8f8d940196bcf31": {
     "views": []
    },
    "a2e49b134df746a799951b0a3539ca48": {
     "views": []
    },
    "a38215ff208d46b8a2c07593aa46ea50": {
     "views": []
    },
    "a3a1a8b852ae4de599b4ca03c6976b5d": {
     "views": []
    },
    "a3c11db01af741bc998d1ae6ec4eacf1": {
     "views": []
    },
    "a467af1f5400424eb68e3ef6da3f600e": {
     "views": []
    },
    "a49b0617d7c14f298cfb0cfeae1ee5af": {
     "views": []
    },
    "a4a383e8acff4c7283d7996f14dbcd71": {
     "views": []
    },
    "a4dab70c96154205a3f3a359eeea2539": {
     "views": []
    },
    "a5102040361e48b4b98c647b65c83173": {
     "views": []
    },
    "a5250858a2b3463094a80035f49efc35": {
     "views": []
    },
    "a55ae46824ac4a2b95397fd37c2cbe77": {
     "views": []
    },
    "a5ba6b88a2ca4c38b6ca1686a67b4d6f": {
     "views": []
    },
    "a5ce10f2975c4fd9a780d0b28609c591": {
     "views": []
    },
    "a5de4ea35abc442580064dbc64cee908": {
     "views": []
    },
    "a73a30ddf3f04903ae5b685c99b3f56e": {
     "views": []
    },
    "a769011adf5544ddb30466b0351513b4": {
     "views": []
    },
    "a77dcfc3453444a8a4264df473b4be05": {
     "views": []
    },
    "a7c8ba999ad548d19a58b90907b63617": {
     "views": []
    },
    "a87f68ab3c9441bbae75cd416912f46c": {
     "views": []
    },
    "a882d39520eb44149c34f6a6c311d372": {
     "views": []
    },
    "a8a35bdc2a2c49ee970b771e13cf414f": {
     "views": []
    },
    "a8ef8397a9c1470aa7fe7dfd82291e8a": {
     "views": []
    },
    "aa0299a7e6b64219b46242b3312eb317": {
     "views": []
    },
    "aa889e48ce6646edb4a503c61fed2a9e": {
     "views": []
    },
    "aab66c6cf36141979cf555ce00635580": {
     "views": []
    },
    "aaceea60bba14096817fdb09da1d183f": {
     "views": []
    },
    "aaf2d5cc22a2478ead90ebb25f697466": {
     "views": []
    },
    "ab9f7e19031046d29c0b1f4eca542827": {
     "views": []
    },
    "abf60e39f1da435b8360d92e54e0a174": {
     "views": []
    },
    "abf681298764454e8e2dea41e9f8cca4": {
     "views": []
    },
    "ac3bb044658548568953fd301c8d719b": {
     "views": []
    },
    "acb246d8120548aead25f531594b98f2": {
     "views": []
    },
    "ad07c675d0ca4accb35040fd7bb849af": {
     "views": []
    },
    "ad17430d629047f597442914552978e9": {
     "views": []
    },
    "ad3de3a3395d41b99fb7e1054900dbfb": {
     "views": []
    },
    "ad3de9b8e82c413ca6e31fc3570f59ac": {
     "views": []
    },
    "ad6f9d37e7f14ab5b429b1fc5786c4b7": {
     "views": []
    },
    "adec55c4771944a5b8aeaf407032837f": {
     "views": []
    },
    "ae11b91f91eb470697a42772b0823df8": {
     "views": []
    },
    "ae1851cb66c546928de5fe0efc8dbc5f": {
     "views": []
    },
    "ae67477c230a4705ad10cb50381e18ac": {
     "views": []
    },
    "ae8cac7a4c6c4937810950f2b4307936": {
     "views": []
    },
    "aeaaa9a6d40a400ea11dca15ef81c514": {
     "views": []
    },
    "aeaade9baf5a48c9abaa3d78c8a8f50b": {
     "views": [
      {
       "cell_index": 3
      }
     ]
    },
    "aec230db5e974232b67830fca56fbe6a": {
     "views": []
    },
    "aefc8b2727834a3994ea61869d6e40ee": {
     "views": []
    },
    "af0ca306c3184cd7a9c74a3d7d3d6fee": {
     "views": []
    },
    "af5ab7ba38c54f43aacd0851120689e6": {
     "views": []
    },
    "afe85eb8cd8f405ba9802316b50ed4a0": {
     "views": []
    },
    "aff20d9ae55b4fafbf3870361629f585": {
     "views": []
    },
    "b0294c9a730b4fb89658043edd7f8385": {
     "views": []
    },
    "b036bfb946dc4be182b0f2f2c1c91c86": {
     "views": []
    },
    "b1f9ff9ec3dd471b92a2ab5eb28751e2": {
     "views": []
    },
    "b2315e844234411e93c240e03a170345": {
     "views": []
    },
    "b2499ac3ee9449d7be258669b50063d0": {
     "views": []
    },
    "b255345053774529a7bfb19ff0d9793d": {
     "views": []
    },
    "b2b95922e4304851bf40a0ce0bdc4c36": {
     "views": []
    },
    "b2e20ad5f9fe4ef2b7a14c2de4b910d4": {
     "views": []
    },
    "b41abebc3e2a456d95d28c5eac4fd545": {
     "views": []
    },
    "b428a3e816fc4752976ae6dee99856e2": {
     "views": []
    },
    "b47710833baf48f98281d4d85d517c06": {
     "views": []
    },
    "b48e29fae10441059ddb5e2fe9fabe31": {
     "views": []
    },
    "b4ac94ac85234dcf8545d8220ec48df0": {
     "views": []
    },
    "b4e17442c5d140649af8477c6bcd613f": {
     "views": []
    },
    "b58516ff807f41198078f775750efa29": {
     "views": []
    },
    "b591cfb330664bfbaf705a634152683b": {
     "views": []
    },
    "b5927f99b3f242469f49716f70e2442e": {
     "views": []
    },
    "b623fa7bacb94f33b75c03586f7a82a7": {
     "views": []
    },
    "b62b706e23aa49f1b4d99a87bbd19085": {
     "views": []
    },
    "b6708f19b7e04658b792c230a20ccb75": {
     "views": []
    },
    "b728d995a7e34b17a1c54c0221d6185c": {
     "views": []
    },
    "b7613547b4e94cafb319caa94b6902f2": {
     "views": []
    },
    "b7aa1c0765d4492baaa82aa47f55bf71": {
     "views": []
    },
    "b84e0491c442494d9db526aa11e802f9": {
     "views": []
    },
    "b8bca3102e74499bbf733a4f29112250": {
     "views": []
    },
    "b8fd03739e584ef58727e63195540bc0": {
     "views": []
    },
    "b94006fd0f804e0a8f18a35bf6eb8408": {
     "views": []
    },
    "b942170b89bb4540a7c39a80fc055489": {
     "views": []
    },
    "b9544ed4a2814d74b01c52f06ededcaa": {
     "views": []
    },
    "b97a99ddee4a4c09b51cfdbc6cf72748": {
     "views": []
    },
    "b9a9169f829f4951b1971634e4d68ef3": {
     "views": []
    },
    "b9c348d05aee4e4082da8d7a29334de0": {
     "views": []
    },
    "b9e28f789aa24aacbe5f41daf9a815a4": {
     "views": []
    },
    "bab2e2157f1c4215924857746bccf776": {
     "views": []
    },
    "bacb292ea13542ba9a79204dae0b77b6": {
     "views": []
    },
    "bae5ff3c3ac043fd829c7ac8242f137b": {
     "views": []
    },
    "baff4ee11e1941bb959928f71dc6b884": {
     "views": []
    },
    "bb0f0d1e093247c985352ff751eb6c13": {
     "views": []
    },
    "bb288cf9ddb04d09906c09a3d275be71": {
     "views": []
    },
    "bb433c5070c044e4b3bb471ff31ea915": {
     "views": []
    },
    "bb95d4f8a84a447b9a8ed163f93e749e": {
     "views": []
    },
    "bbd6abf1828d4c8ba07a90816fbd4d97": {
     "views": []
    },
    "bc0a4bd337664997aa8150ae5e7294c4": {
     "views": []
    },
    "bc5a0d17f80942f58c642bb2226d17d6": {
     "views": []
    },
    "bca808a2a75241e1b81757ab21fcc403": {
     "views": []
    },
    "bd43b6d260864b1293ccebe40d08773e": {
     "views": []
    },
    "bd5581c39c55447484b98414b3c95ec7": {
     "views": []
    },
    "bd7ed410de9c4b7d9883e5d992f749cc": {
     "views": []
    },
    "bddba7ace1ae47338db4f9497212f4d0": {
     "views": []
    },
    "beb9425613f34256bee3a38412cd28b9": {
     "views": []
    },
    "bee06e68cc7e49cda094c1fbe572351a": {
     "views": []
    },
    "bf02542e181646678f7be2e30babfcb7": {
     "views": []
    },
    "bf88af27ed7f409da4df5b44bbf7503f": {
     "views": []
    },
    "bfb9645efc134bccb7eee9aaa9d50589": {
     "views": []
    },
    "c0a303dec4df455e8f8141edbe600f91": {
     "views": []
    },
    "c166b3bc2013426eb4f4228b360454f4": {
     "views": []
    },
    "c1b3d40dd1ec4e64bc35e0e6c83482a6": {
     "views": []
    },
    "c230ca82a58c43ffa84b77f44d7d53d4": {
     "views": []
    },
    "c28e7e4e9a054cf9b39d429973cd6917": {
     "views": []
    },
    "c2beaf036fb0406196d82082347789b4": {
     "views": []
    },
    "c2c7392085704c9386d24593f9893a6e": {
     "views": []
    },
    "c302b4db4f5b415eacb52743789d0088": {
     "views": []
    },
    "c34d22fa99054db5a2c5f3e973a372ba": {
     "views": []
    },
    "c3dd56b52a384410891a58645cfc0e81": {
     "views": []
    },
    "c4c045aec289404a921f56b84669c142": {
     "views": []
    },
    "c4f3d07f07d34c0da42a56ca36f7d09e": {
     "views": []
    },
    "c4f94c2c642147e58f9f4bb42ceecac6": {
     "views": []
    },
    "c5439860887c402e95aed424c8aa43ca": {
     "views": []
    },
    "c560255df8c04223a6b8488a63f3151e": {
     "views": []
    },
    "c5757aaef74e4f4e942df92eaf083855": {
     "views": []
    },
    "c57b4871866548afad8ca6f5b7d9a942": {
     "views": []
    },
    "c5850709a04c49008e3270c62869c6bf": {
     "views": []
    },
    "c599372df9c24d5b898bfd72d73ad572": {
     "views": []
    },
    "c616758e67454804902d276591be4812": {
     "views": []
    },
    "c7393e524c2a4add87ebe3a5534ae23d": {
     "views": []
    },
    "c76f85dc503f4bf4952a5b6e655c76cf": {
     "views": []
    },
    "c81035ef88c44d429c23bd0b721390aa": {
     "views": []
    },
    "c88568ff85e840a1971a158746ccfaee": {
     "views": []
    },
    "c888836444394932a6abe9811cfead5f": {
     "views": []
    },
    "c97df848367343aba8096f6a45a5a8da": {
     "views": []
    },
    "c9be970bab8d426e879a3b0ce1191f5f": {
     "views": []
    },
    "c9c488455708477787df6069e8c74f48": {
     "views": []
    },
    "ca0901794678445cbbdf0b62d376d949": {
     "views": []
    },
    "ca5f6cd622284fad9f847be6af4b46f4": {
     "views": []
    },
    "cab2631b1fc246ea8ac34557e11b8c92": {
     "views": []
    },
    "caca313f6fb94d7d85089d9cae7f74fd": {
     "views": []
    },
    "cacf1e52580c43d6a26b8fdfb5abf172": {
     "views": []
    },
    "cb5bed01b1864662b124b084e2c6536d": {
     "views": []
    },
    "cbd9a551b79f4f798580b4f0b8a6267a": {
     "views": []
    },
    "cc3e5638c50a4efd9a923ba2d53715ce": {
     "views": []
    },
    "cc3ef8ddc9194fa8b000163af3d2ab4e": {
     "views": []
    },
    "cca07695c18b457485ea77caadb2e16b": {
     "views": []
    },
    "ccaff44ce8d944bab3352063e424cade": {
     "views": []
    },
    "ccb04ce2a87143058144c4df3e081567": {
     "views": []
    },
    "ccbe2691bfc0462d85be253ea6c38d88": {
     "views": []
    },
    "cce78bef50bb41fca3528e279ab44abd": {
     "views": []
    },
    "ccfc9a6d6c444f91a1d74bf359f3414b": {
     "views": []
    },
    "cd40fb9f01ca4a76974f506058dc3036": {
     "views": []
    },
    "cda2689d6e5745d19f6c9d7b65aa9c77": {
     "views": []
    },
    "cdad5de8dd314b4fb206fb6f5a94aa71": {
     "views": []
    },
    "cdae05a23b4743809f8c085d38fafe7b": {
     "views": []
    },
    "cdd13e10f7b64a65aed2f730bb8694bd": {
     "views": []
    },
    "cdf3d16172a74d30913f8065e95b5dba": {
     "views": []
    },
    "ce0aa625c80c44f1acad5049e6052b72": {
     "views": []
    },
    "ce555015114e46e5b250ba45504442ed": {
     "views": []
    },
    "ceba506d00684f139b9dbf66325b674e": {
     "views": []
    },
    "ced38f9ad0b4407c92af81a185455ba5": {
     "views": []
    },
    "cf1c543ef12c47008ed70bfb7c7c5822": {
     "views": []
    },
    "cf57ab55e64e4709987cf5cea53f46b2": {
     "views": []
    },
    "cf9a840fd68b455bad65207048d4081f": {
     "views": []
    },
    "d0919039d5ad4b7aa10a6789a48a0ac4": {
     "views": []
    },
    "d0c3c44ec06c43de8cf689d4e4cfbb85": {
     "views": []
    },
    "d10e58a723e44c6a8c24541ba5b51f5f": {
     "views": []
    },
    "d14a2f775da44184885dada04d20f662": {
     "views": []
    },
    "d18113a2347d41c3b668207af4a106c9": {
     "views": []
    },
    "d1f6cc4c640e45079b4af57bc4016d2d": {
     "views": []
    },
    "d1f6efc6423e4e279c3d9e6c6023e96d": {
     "views": []
    },
    "d2080156388a4012a346e879d0c4ef0b": {
     "views": []
    },
    "d2414b32da634527953bc94ffd78d20d": {
     "views": []
    },
    "d2761022de9d409a84b05c61c2fb7954": {
     "views": []
    },
    "d3163be3e57c49bc9e8294a05fa817c5": {
     "views": []
    },
    "d37698d8e7aa43498783064434e83f5f": {
     "views": []
    },
    "d3ae5c5af6dc4d42bf82630b6c07b27b": {
     "views": []
    },
    "d40e4af84cb144758144e2dbbc765103": {
     "views": []
    },
    "d42f6c2cc83e49b9be83c5fcbb972c55": {
     "views": []
    },
    "d45a236f9a7642c4b48f0626a124122e": {
     "views": []
    },
    "d53e29b799bb4e95b1ddbc942a8f38eb": {
     "views": []
    },
    "d59eaa2a05a14b61b0beae9542485fb2": {
     "views": []
    },
    "d5f343f2321748bea03ac6c0384e8db8": {
     "views": []
    },
    "d6648e8da7304101a97f75933f5c8a38": {
     "views": []
    },
    "d6e3fc81db494155b63283b5bf9b8db0": {
     "views": []
    },
    "d6f4874b0625496eb755bd85069fe668": {
     "views": []
    },
    "d787fcef26d042af95f8f082e8b974c7": {
     "views": []
    },
    "d85308cd199a4ff88cd0a340378b5d69": {
     "views": []
    },
    "d8718a36ed254b9b917a4b9618aa7b4f": {
     "views": []
    },
    "d92325b2e9924bf19c782c2ebe9210e4": {
     "views": []
    },
    "da2c48c118be41c6bebccbdfb9cf4ca1": {
     "views": []
    },
    "da3597926fc74d24b6ef2984c7ee8d1e": {
     "views": []
    },
    "da37eb607f064ebb969fcab8f9566281": {
     "views": []
    },
    "da64372795204196b43730a5d6041f7b": {
     "views": []
    },
    "dae2891442fd45a3be71bf403b7683ba": {
     "views": []
    },
    "db013dfb50ba42efbd1508d3ace3aa1d": {
     "views": []
    },
    "dbce6fdaf884492b84ad136991e8b820": {
     "views": []
    },
    "dc169bffc0dd4ac084cb17b0d103914a": {
     "views": []
    },
    "dc59003e6f55493a8b23d8f3777caba3": {
     "views": []
    },
    "dc69a6dfa1d54f3f9dbc87f6fc4f30b7": {
     "views": []
    },
    "dce09ccecb454700abb63145e9d03142": {
     "views": []
    },
    "dd078a604d914b608baf9a43e409ed43": {
     "views": []
    },
    "de1b7f0fac72488dbcc0dd4120fa9d5e": {
     "views": []
    },
    "deff4fbfbcad4856b96521c1a81b6712": {
     "views": []
    },
    "df183c215714404e9cddbc18ed1e6e91": {
     "views": []
    },
    "df527a3e3432489bab3f8d3ba7ba7095": {
     "views": []
    },
    "e00635d5b3e44906a9eec80e6c7a7981": {
     "views": []
    },
    "e0271aefe754446faa0a5c086eba8b49": {
     "views": []
    },
    "e05d1ea1da9f40438984b6b5f8cfb612": {
     "views": []
    },
    "e09fef0c29f54655b36e5796bf833ae8": {
     "views": []
    },
    "e0e86780368b4744994454e73e7f2d05": {
     "views": []
    },
    "e10c1f4e62074e2bba638c0c2d84732e": {
     "views": []
    },
    "e1d6b88e49ce40d2b7e5eb4ad2462f45": {
     "views": []
    },
    "e348d6d86d0343ffbb45a7ab96f8c397": {
     "views": []
    },
    "e36cad5676c94c0baf616e03243a03d6": {
     "views": []
    },
    "e3fa495cf593468f810da2c2cd14a562": {
     "views": []
    },
    "e43cdceb24b84e13bf616e0d93efa284": {
     "views": []
    },
    "e43e3a434d854953977e0f06b676170b": {
     "views": []
    },
    "e468241ffaee42ce9cad39e2200d0dcb": {
     "views": []
    },
    "e495cb6d99734d9b88cc8231d3928f73": {
     "views": []
    },
    "e510972e68c34df1a7080b084d14b954": {
     "views": []
    },
    "e551df12ee2f4d3f8d6c9fcc41b25d08": {
     "views": []
    },
    "e5d7a6ca802d41488e872d7baf12b351": {
     "views": []
    },
    "e5d9b7b99fcb425c82fe2637684947a6": {
     "views": []
    },
    "e602521dabfd49bb8ec13ed8681f5096": {
     "views": []
    },
    "e627871778714c86ba2356622d28660c": {
     "views": []
    },
    "e659a57520f5484ebf26399aaf0ed239": {
     "views": []
    },
    "e72a5b2624c547f888323b848d617622": {
     "views": []
    },
    "e74c18e68f504fe1a79ec0aa7ff317e1": {
     "views": []
    },
    "e78e4f963f3a4d88a151d252e111fa14": {
     "views": []
    },
    "e78fe9280a964586890b5be37dfbd361": {
     "views": []
    },
    "e7ac92d28a5c40f6acf3f4e0502644fb": {
     "views": []
    },
    "e7b5f887474d4e299fd5f5aa6736b53e": {
     "views": []
    },
    "e83fe07ecec1416dbe7abbcb5ee31da1": {
     "views": []
    },
    "e8508b395dd1411a8e7921c410ec6bcf": {
     "views": []
    },
    "e90be3c16da34a73a388e27aa04b9d62": {
     "views": []
    },
    "e926ffc2d854467eb5cf34260482c5ea": {
     "views": []
    },
    "e94b47c749a0459fb9fc48116a228650": {
     "views": []
    },
    "e9622a9464ff4fe991c4a89923507960": {
     "views": []
    },
    "e9be2e5ea93f4879b27a1969e162b71f": {
     "views": []
    },
    "ea02fc2345974ab389f500e437639968": {
     "views": []
    },
    "ea1dd897d0da4a099daf5694cb88f9fb": {
     "views": []
    },
    "eb0f722b64c34a44af2e6de5626a90fd": {
     "views": []
    },
    "eb3e55b98f7d49e3ac7601e145153eda": {
     "views": []
    },
    "ebc35e438ddc4cb8b5f0ada658bf7d35": {
     "views": []
    },
    "ed05116ea4e5467894694e34502837da": {
     "views": []
    },
    "ed1b47d3ed82489a9bb01cdb9dc9d5b2": {
     "views": []
    },
    "ed295e9f89b0444a890a609f618fa0f1": {
     "views": []
    },
    "ed8a5fd2839141bc9518bf33b5b5af61": {
     "views": []
    },
    "eebbad5633324ecab6b007380596a576": {
     "views": []
    },
    "ef1391d9812247da9932a5738c2080fb": {
     "views": []
    },
    "ef3563081cf144c4bc415f32630ba27e": {
     "views": []
    },
    "ef3a5c4075de4210b3d487e07af755df": {
     "views": []
    },
    "ef9149b5e18c4705bb3c26a419cea064": {
     "views": []
    },
    "f1a5bbfaff21489292b155144dd141de": {
     "views": []
    },
    "f1cbe9f8ef2342488dc6bad86d4eb159": {
     "views": []
    },
    "f232987322f943f891418fb1e352b245": {
     "views": []
    },
    "f24b04c9114d4edb8979eb61dcea1e11": {
     "views": []
    },
    "f2d01d6a6f8d4c41ba45237fb6001573": {
     "views": []
    },
    "f3b502eb2ea94009a6582135b0a248fe": {
     "views": []
    },
    "f3e76ce064704d9fa08d8f9e9b0fddad": {
     "views": []
    },
    "f4c4761b458e4d2591b8757781ebf388": {
     "views": []
    },
    "f53e16d0d0b04fd58e81022222fb22a2": {
     "views": []
    },
    "f540cbaa93b24cf78b1236d1b89cd841": {
     "views": []
    },
    "f5e675e52f084181a1394586c7d28e81": {
     "views": []
    },
    "f5f0ca6599c84a0691e7b729416e4cd5": {
     "views": []
    },
    "f61add578e8c4906980fd2f5654d17cd": {
     "views": []
    },
    "f61d0e4aee3441bd9103748364d56af6": {
     "views": []
    },
    "f657d2183fd043299097bb052eed328c": {
     "views": []
    },
    "f6692c05c7904048a844fff1386c6f44": {
     "views": []
    },
    "f716ccdcaff94b1abec800ae0ba609e1": {
     "views": []
    },
    "f7484f9887504f16a9406a0545929d5b": {
     "views": []
    },
    "f74cb503c74545b8a35ecd17117fd296": {
     "views": []
    },
    "f790f47c713a429f801c5f01f335683a": {
     "views": []
    },
    "f79d406565504a0ea681a01d7e07a122": {
     "views": []
    },
    "f935740a84a14c76829596daa56d5d44": {
     "views": []
    },
    "f96249a713cf4c8d88ac400578333416": {
     "views": []
    },
    "f9bee93916bd4460947443559c4ddefd": {
     "views": []
    },
    "f9ec9fcee190489d8e24cedb6e2ed615": {
     "views": []
    },
    "fa0a4d7ca2f54bb894c73658eec73b4a": {
     "views": []
    },
    "fa86f5e8c021434d801cb55f835c87fe": {
     "views": []
    },
    "fb02e024d0984a3190b1a0c9c6c5a48a": {
     "views": []
    },
    "fc54cf95681046f798fbfdfe0d0f31d6": {
     "views": []
    },
    "fce8f5b0c5da4247ab6d8b981791c20b": {
     "views": []
    },
    "fd6f18cb904045a9b77053129eba4d8d": {
     "views": []
    },
    "fe1d819fc63f43f09963886e920f7b60": {
     "views": []
    },
    "fe2e566602ab44f3a838936acbf34862": {
     "views": []
    },
    "fe39ef098fa4425ba482fa7273ff718d": {
     "views": []
    },
    "ff7eb10e2e2f433e9699faf573a88dc6": {
     "views": []
    },
    "ffbfe571df22434a9d80222adce0387a": {
     "views": []
    }
   },
   "version": "1.1.2"
  }
 },
 "nbformat": 4,
 "nbformat_minor": 0
}
