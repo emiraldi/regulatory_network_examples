{
 "cells": [
  {
   "cell_type": "code",
   "execution_count": 1,
   "metadata": {
    "collapsed": true
   },
   "outputs": [],
   "source": [
    "## EACH network appears individually, TF motif is only associated with annotated TF\n",
    "directory = \"/Users/emiraldi/erm/Shared/Lin-Christoph-Emily/evTh17quantAtacNetworks\" # note \"try\" statement below, will also check current directory\n",
    "\n",
    "# networkInfs is a list of tuples (title of network, network directory)\n",
    "netPath = \"GeneSets_FC1_FDR25/ATACseq_qc_max4_body_bp10000/evTh17nets_pFC1_FDR25_rawp0001_hyg001\"\n",
    "networkInits = [(\"Th17_EAE_sp.tsv\",\"IL17pos_EAE_SC_v_IL17pos_SI\",\"EAE SC Th17 (red, increased SC)\"),\n",
    "    (\"Th17_SI_sp.tsv\",\"IL17pos_EAE_SC_v_IL17pos_SI\",\"SI Th17 (green, descreased SI)\"),\n",
    "    (\"IL17neg_EAE_sp.tsv\",\"IL17neg_EAE_SC_v_IL17neg_SI\",\"EAE SC IL17a- Th (red, increased SC)\"),\n",
    "    (\"IL17neg_SI_sp.tsv\",\"IL17neg_EAE_SC_v_IL17neg_SI\",\"SI IL17a- Th (green, decreased SI)\")]\n",
    "\n",
    "expressionFile = \"evTh17_RNA_log2fcs.txt\"\n",
    "\n",
    "threshhold = .2\n",
    "\n",
    "clim = 1.5 # absolute value color threshhold on edge color"
   ]
  },
  {
   "cell_type": "code",
   "execution_count": 2,
   "metadata": {
    "collapsed": false
   },
   "outputs": [],
   "source": [
    "from jp_gene_viz import LExpression\n",
    "from numpy import array\n",
    "# Part 1 of a hacky way to set color threshhold\n",
    "minclr = array([   255.,  0,    0.])\n",
    "minvalue = -clim\n",
    "zeroclr = array([255.0000 , 130.4000  , 60.0000]) # [   166.,    86.,    40.]) #127.5, 63.75, 0 ])\n",
    "maxvalue = clim\n",
    "maxclr = array([ 0.,    1.7*127.5,    0.])\n",
    "\n",
    "# from jp_gene_viz import motif_data\n",
    "# C = motif_data.MotifCollection()\n",
    "# # for extra safety \"rU\" reads with universal line ending support\n",
    "# C.read_meme_file(open(directory + '/' + \"mm9_em.meme\", \"rU\"))\n",
    "# C.read_meme_file(open(directory + '/' + \"hg19_em.meme\", \"rU\"))"
   ]
  },
  {
   "cell_type": "code",
   "execution_count": 3,
   "metadata": {
    "collapsed": false
   },
   "outputs": [
    {
     "data": {
      "application/javascript": [
       "\n",
       "// imitating ipywidgets/docs/source/examples/Custom Widget - Hello World.ipynb\n",
       "\n",
       "//require([\"widgets/js/widget\", \"widgets/js/manager\"], function(widget, manager){\n",
       "\n",
       "require.undef(\"SVGCanvas\");\n",
       "\n",
       "define(\"SVGCanvas\", [\"jupyter-js-widgets\"], function(widgets) {\n",
       "    \n",
       "    var svgEventHandlerFactory = function(that) {\n",
       "        var svgEventHandler = function(e) {\n",
       "            var target = e.target;\n",
       "            var info = {};\n",
       "            for (var attr in e) {\n",
       "                var val = e[attr];\n",
       "                var ty = (typeof val);\n",
       "                if ((ty == \"number\") ||\n",
       "                    (ty == \"string\") ||\n",
       "                    (ty == \"boolean\")) {\n",
       "                    info[attr] = val;\n",
       "                }\n",
       "            }\n",
       "            info.name = target.ipy_name;\n",
       "            var ept = SVGEventLocation(that, e);\n",
       "            info.svgX = ept.x;\n",
       "            info.svgY = ept.y;\n",
       "            var json = JSON.stringify(info);\n",
       "            that.model.set(\"event\", json);\n",
       "            that.touch();\n",
       "        };\n",
       "        return svgEventHandler;\n",
       "    };\n",
       "\n",
       "    var SVGEventLocation = function(that, e) {\n",
       "        // http://stackoverflow.com/questions/10298658/mouse-position-inside-autoscaled-svg\n",
       "        var pt = that.reference_point;\n",
       "        var svg = that.$svg[0];\n",
       "        pt.x = e.clientX;\n",
       "        pt.y = e.clientY;\n",
       "        return pt.matrixTransform(svg.getScreenCTM().inverse());\n",
       "    }\n",
       "    \n",
       "    var SVGCanvasView = widgets.DOMWidgetView.extend({\n",
       "        \n",
       "        render: function() {\n",
       "            var that = this;\n",
       "            var svg = that.svg_elt(\"svg\");\n",
       "            var eventHandler = svgEventHandlerFactory(that);\n",
       "            that.eventHandler = eventHandler;\n",
       "            that.named_elements = {};\n",
       "            svg.ipy_name = \"\";\n",
       "            that.$svg = $(svg);\n",
       "            that.reference_point = svg.createSVGPoint();\n",
       "            svg.setAttribute(\"preserveAspectRatio\", \"none\");\n",
       "            that.$el.append(that.$svg);\n",
       "            that.svg_parameters_changed();\n",
       "            that.commands_changed();\n",
       "            that.start_watch_event();\n",
       "            that.model.on(\"change:commands\", that.commands_changed, that);\n",
       "            that.model.on(\"change:viewBox\", that.svg_parameters_changed, that);\n",
       "            that.model.on(\"change:svg_width\", that.svg_parameters_changed, that);\n",
       "            that.model.on(\"change:svg_height\", that.svg_parameters_changed, that);\n",
       "            that.model.on(\"change:style\", that.svg_parameters_changed, that);\n",
       "            that.model.on(\"change:watch_event\", that.start_watch_event, that);\n",
       "            that.model.on(\"change:unwatch_event\", that.stop_watch_event, that);\n",
       "        },\n",
       "        \n",
       "        start_watch_event: function() {\n",
       "            var that = this;\n",
       "            var event_types = that.model.get(\"watch_event\");\n",
       "            if (event_types != \"\") {\n",
       "                that.$svg.on(event_types, that.eventHandler);\n",
       "                that.model.set(\"watch_event\", \"\");\n",
       "                that.touch();\n",
       "            }\n",
       "        },\n",
       "        \n",
       "        stop_watch_event: function() {\n",
       "            var that = this;\n",
       "            var event_types = that.model.get(\"unwatch_event\");\n",
       "            if (event_types != \"\") {\n",
       "                that.$svg.off(event_types);\n",
       "                that.model.set(\"watch_event\", \"\");\n",
       "                that.touch();\n",
       "            }\n",
       "        },\n",
       "        \n",
       "        commands_changed: function() {\n",
       "            var that = this;\n",
       "            var svg = that.$svg[0];\n",
       "            var commands = that.get_JSON(\"commands\")\n",
       "            for (var i=0; i<commands.length; i++) {\n",
       "                var command_dict = commands[i];\n",
       "                var indicator = command_dict[\"command\"];\n",
       "                var method = that[\"do_\"+indicator];\n",
       "                method(that, command_dict);\n",
       "            }\n",
       "        },\n",
       "\n",
       "        do_fit: function(that, info) {\n",
       "            // fit viewport to bounding box.\n",
       "            var svg = that.$svg[0];\n",
       "            var bbox = svg.getBBox();\n",
       "            var D = {\"width\": bbox.width, \"height\": bbox.height, \"x\": bbox.x, \"y\": bbox.y}\n",
       "            var vbox = \"\" + D.x + \" \" + D.y + \" \" + D.width + \" \" + D.height;\n",
       "            if ((D.width > 0) && (D.height > 0)) {\n",
       "                that.model.set(\"boundingBox\", D);\n",
       "                if (info.changeView) {\n",
       "                    that.model.set(\"viewBox\", vbox);\n",
       "                }\n",
       "                // Element viewBox will be updated later by model change.\n",
       "                that.touch();\n",
       "            }\n",
       "        },\n",
       "        \n",
       "        do_add_element: function (that, info) {\n",
       "            var tag = info.tag;\n",
       "            var name = info.name;\n",
       "            var element = that.svg_elt(tag);\n",
       "            element.ipy_name = name;\n",
       "            var $element = $(element);\n",
       "            that.update_element($element, info);\n",
       "            // add event callbacks\n",
       "            that.$svg.append($element);\n",
       "            that.named_elements[name] = $element;\n",
       "        },\n",
       "        \n",
       "        do_change_element: function (that, info) {\n",
       "            var name = info.name;\n",
       "            var $element = that.named_elements[name];\n",
       "            if ($element) {\n",
       "                that.update_element($element, info);\n",
       "            } else {\n",
       "                console.warn(\"couldn't find element for \"+name);\n",
       "            }\n",
       "        },\n",
       "        \n",
       "        do_delete: function (that, info) {\n",
       "            var names = info.names;\n",
       "            for (var i=0; i<names.length; i++) {\n",
       "                var name = names[i];\n",
       "                var $element = that.named_elements[name];\n",
       "                if ($element) {\n",
       "                    $element.remove();\n",
       "                    delete that.named_elements[name];\n",
       "                }\n",
       "            }\n",
       "        },\n",
       "        \n",
       "        update_element: function($element, info) {\n",
       "            var element = $element[0];\n",
       "            var atts = info.atts;\n",
       "            var style = info.style;\n",
       "            var text = info.text;\n",
       "            if (atts) {\n",
       "                for (var att in atts) {\n",
       "                    element.setAttribute(att, atts[att]);\n",
       "                }\n",
       "            }\n",
       "            if (style) {\n",
       "                for (var styling in style) {\n",
       "                    element.style[styling] = style[styling];\n",
       "                }\n",
       "            }\n",
       "            if (text) {\n",
       "                $element.empty();\n",
       "                var node = document.createTextNode(text);\n",
       "                element.appendChild(node);\n",
       "            }\n",
       "        },\n",
       "        \n",
       "        do_empty: function (that, info) {\n",
       "            that.named_elements = {};\n",
       "            that.$svg.empty();\n",
       "        },\n",
       "        \n",
       "        svg_parameters_changed: function() {\n",
       "            var that = this;\n",
       "            var style_additions = that.get_JSON(\"style\");\n",
       "            var svg = that.$svg[0];\n",
       "            svg.setAttribute(\"viewBox\", that.model.get(\"viewBox\"));\n",
       "            svg.setAttribute(\"width\", that.model.get(\"svg_width\"));\n",
       "            svg.setAttribute(\"height\", that.model.get(\"svg_height\"));\n",
       "            for (var style_attr in style_additions) {\n",
       "                svg.style[style_attr] = style_additions[style_attr];\n",
       "            }\n",
       "        },\n",
       "        \n",
       "        get_JSON: function(name) {\n",
       "            var json = this.model.get(name);\n",
       "            return $.parseJSON(json);\n",
       "        },\n",
       "        \n",
       "        svg_elt: function(kind) {\n",
       "            return document.createElementNS('http://www.w3.org/2000/svg', kind);\n",
       "        }\n",
       "        \n",
       "    });\n",
       "    \n",
       "    //manager.WidgetManager.register_widget_view('SVGCanvasView', SVGCanvasView);\n",
       "    return {\n",
       "        SVGCanvasView: SVGCanvasView\n",
       "    }\n",
       "});\n"
      ],
      "text/plain": [
       "<IPython.core.display.Javascript object>"
      ]
     },
     "metadata": {},
     "output_type": "display_data"
    },
    {
     "data": {
      "application/javascript": [
       "\n",
       "// This is the javascript side to match js_proxy.py.\n",
       "// See js_proxy.py for an explanation of the command transfer\n",
       "// protocol\n",
       "\n",
       "// imitating ipywidgets/docs/source/examples/Custom Widget - Hello World.ipynb\n",
       "\n",
       "//require([\"widgets/js/widget\", \"widgets/js/manager\", \"underscore\", \"jquery\"\n",
       "//], function(widget, manager, _, $) {\n",
       "\n",
       "require.undef(\"JSProxy\");\n",
       "\n",
       "define(\"JSProxy\", [\"jupyter-js-widgets\"], function(widgets) {\n",
       "\n",
       "    var JSProxyView = widgets.DOMWidgetView.extend({\n",
       "\n",
       "        render: function() {\n",
       "            var that = this;\n",
       "            that.on(\"displayed\", function() {\n",
       "                that.update();\n",
       "            });\n",
       "            // Wrap $el as a proper jQuery object\n",
       "            that.$$el = $(that.$el);\n",
       "            // \"new\" keyword emulation\n",
       "            // http://stackoverflow.com/questions/17342497/dynamically-control-arguments-while-creating-objects-in-javascript\n",
       "            that.$$el.New = function(klass, args) {\n",
       "                var obj = Object.create(klass.prototype);\n",
       "                return klass.apply(obj, args) || obj;\n",
       "            };\n",
       "\n",
       "            // fix key bindings for wayward element.\n",
       "            // XXXX This is a bit of a hack that may not be needed in future\n",
       "            // Jupyter releases.\n",
       "            that.$$el.Fix = function(element) {\n",
       "                debugger;\n",
       "                that.model.widget_manager.keyboard_manager.register_events(element);\n",
       "            };\n",
       "        },\n",
       "\n",
       "        update: function(options) {\n",
       "            var that = this;\n",
       "            var commands = that.model.get(\"commands\");\n",
       "            if (commands.length >= 2) {\n",
       "                var command_counter = commands[0];\n",
       "                var command_list = commands[1];\n",
       "                var level = commands[2];\n",
       "                level = that.check_level(level);\n",
       "                var results = [];\n",
       "                _.each(command_list, function(command,i) {\n",
       "                    var result = that.execute_command(command);\n",
       "                    results[i] = that.json_safe(result, level);\n",
       "                });\n",
       "                that.model.set(\"commands\", []);\n",
       "                that.model.set(\"results\", [command_counter, results])\n",
       "                that.touch();\n",
       "            }\n",
       "        },\n",
       "\n",
       "        execute_command: function(command) {\n",
       "            var that = this;\n",
       "            var result = command;\n",
       "            if ($.isArray(command)) {\n",
       "                var indicator = command[0];\n",
       "                var remainder = command.slice();\n",
       "                remainder.shift();\n",
       "                if (indicator == \"element\") {\n",
       "                    // Make sure the element is wrapped as a proper JQuery(UI) object\n",
       "                    if (!that.$$el) {\n",
       "                        that.$$el = $(that.$el);\n",
       "                    }\n",
       "                    result = that.$$el;\n",
       "                } else if (indicator == \"window\") {\n",
       "                    result = window;\n",
       "                } else if (indicator == \"method\") {\n",
       "                    var target_desc = remainder.shift();\n",
       "                    var target = that.execute_command(target_desc);\n",
       "                    var name = remainder.shift();\n",
       "                    var args = remainder.map(that.execute_command, that);\n",
       "                    var method = target[name];\n",
       "                    if (method) {\n",
       "                        result = method.apply(target, args);\n",
       "                    } else {\n",
       "                        result = \"In \" + target + \" no such method \" + name;\n",
       "                    }\n",
       "                } else if (indicator == \"function\") {\n",
       "                    var function_desc = remainder.shift();\n",
       "                    var function_value = that.execute_command(function_desc);\n",
       "                    var args = remainder.map(that.execute_command, that);\n",
       "                    // Use \"that\" as the \"this\" value for function values?\n",
       "                    result = function_value.apply(that, args);\n",
       "                } else if (indicator == \"id\") {\n",
       "                    result = remainder[0];\n",
       "                } else if (indicator == \"list\") {\n",
       "                    result = remainder.map(that.execute_command, that);\n",
       "                } else if (indicator == \"dict\") {\n",
       "                    result = {}\n",
       "                    var desc = remainder[0];\n",
       "                    for (var key in desc) {\n",
       "                        var key_desc = desc[key];\n",
       "                        var val = that.execute_command(key_desc);\n",
       "                        result[key] = val;\n",
       "                    }\n",
       "                } else if (indicator == \"callback\") {\n",
       "                    var identifier = remainder.shift();\n",
       "                    var data = remainder.shift();\n",
       "                    var level = remainder.shift();\n",
       "                    // sanity check\n",
       "                    level = that.check_level(level);\n",
       "                    result = that.callback_factory(identifier, data, level);\n",
       "                } else if (indicator == \"get\") {\n",
       "                    var target_desc = remainder.shift();\n",
       "                    var target = that.execute_command(target_desc);\n",
       "                    var name = remainder.shift();\n",
       "                    try {\n",
       "                        result = target[name];\n",
       "                    } catch(err) {\n",
       "                        result = \"failed to get \"+name+\" from \"+target+\" :: \"+err;\n",
       "                    }\n",
       "                } else if (indicator == \"set\") {\n",
       "                    var target_desc = remainder.shift();\n",
       "                    var target = that.execute_command(target_desc);\n",
       "                    var name = remainder.shift();\n",
       "                    var value_desc = remainder.shift()\n",
       "                    var value = that.execute_command(value_desc);\n",
       "                    target[name] = value;\n",
       "                    result = target;\n",
       "                } else if (indicator == \"null\") {\n",
       "                    target_desc = remainder.shift();\n",
       "                    that.execute_command(target_desc);\n",
       "                    result = null;\n",
       "                } else {\n",
       "                    result = \"Unknown indicator \" + indicator;\n",
       "                }\n",
       "            }\n",
       "            return result;\n",
       "        },\n",
       "\n",
       "        check_level: function(level) {\n",
       "            if ((typeof level) != \"number\" || (level < 0)) {\n",
       "                level = 0;\n",
       "            } else if (level > 5) {\n",
       "                level = 5;\n",
       "            }\n",
       "            return level;\n",
       "        },\n",
       "\n",
       "        callback_factory: function(identifier, data, level) {\n",
       "            var that = this;\n",
       "            // Counter makes sure change is noticed even if other arguments don't change.\n",
       "            var counter = 0;\n",
       "            var handler = function () {\n",
       "                counter += 1;\n",
       "                var payload = that.json_safe([identifier, data, arguments, counter], level + 1);\n",
       "                that.model.set(\"callback_results\", payload);\n",
       "                that.touch();\n",
       "            };\n",
       "            return handler;\n",
       "        },\n",
       "\n",
       "        json_safe: function(val, depth) {\n",
       "            // maybe expand later as need arises\n",
       "            var that = this;\n",
       "            var ty = (typeof val);\n",
       "            if ((ty == \"number\") || (ty == \"string\") || (ty == \"boolean\")) {\n",
       "                return val;\n",
       "            }\n",
       "            if (!val) {\n",
       "                // translate all other falsies to None\n",
       "                return null;\n",
       "            }\n",
       "            if (((typeof depth) == \"number\") && (depth > 0)) {\n",
       "                if ($.isArray(val)) {\n",
       "                    var result = [];\n",
       "                    _.each(val, function(elt, i) {\n",
       "                        var r = that.json_safe(elt, depth-1);\n",
       "                        if (r != null) {\n",
       "                            result[i] = r;\n",
       "                        }\n",
       "                    });\n",
       "                    return result;\n",
       "                } else {\n",
       "                    var result = {};\n",
       "                    for (var key in val) {\n",
       "                        var jv = that.json_safe(val[key], depth-1);\n",
       "                        if (jv != null) {\n",
       "                            result[key] = jv;\n",
       "                        }\n",
       "                    }\n",
       "                    return result;\n",
       "                }\n",
       "            }\n",
       "            return null;\n",
       "        }\n",
       "\n",
       "    });\n",
       "\n",
       "    //manager.WidgetManager.register_widget_view('JSProxyView', JSProxyView);\n",
       "    return {\n",
       "        JSProxyView: JSProxyView\n",
       "    }\n",
       "});\n"
      ],
      "text/plain": [
       "<IPython.core.display.Javascript object>"
      ]
     },
     "metadata": {},
     "output_type": "display_data"
    },
    {
     "data": {
      "application/javascript": [
       "/*\n",
       "jQuery plugin for a color arrow cursor over an element.\n",
       "\n",
       "Based on\n",
       "http://stackoverflow.com/questions/18779354/assign-color-to-mouse-cursor-using-css\n",
       "*/\n",
       "\n",
       "(function ($) {\n",
       "\n",
       "    $.fn.color_cursor = function(color) {\n",
       "        var that = this;\n",
       "        var cvs = document.createElement(\"canvas\");\n",
       "        cvs.height = 16;\n",
       "        cvs.width = 16;\n",
       "        var ctx = cvs.getContext(\"2d\");\n",
       "        ctx.strokeStyle = color;\n",
       "        ctx.lineWidth = 4;\n",
       "        ctx.lineCap = \"round\";\n",
       "        ctx.moveTo(2, 12);\n",
       "        ctx.lineTo(2, 2);\n",
       "        ctx.lineTo(12, 2);\n",
       "        ctx.moveTo(2, 2);\n",
       "        ctx.lineTo(30, 30)    \n",
       "        ctx.stroke();\n",
       "        var url = cvs.toDataURL();\n",
       "        that.css(\"cursor\", \"url(\" + url + '), auto');\n",
       "        return that;\n",
       "    };\n",
       "\n",
       "    $.fn.color_cursor_reset = function () {\n",
       "        this.css(\"cursor\", \"\");\n",
       "        return this;\n",
       "    };\n",
       "\n",
       "    $.fn.color_cursor.example = function (element) {\n",
       "        debugger;\n",
       "        var d = $(\"<div>Cursor should be red over me. Click to reset.</div>\")\n",
       "            .color_cursor(\"red\");\n",
       "        var reset = function() {\n",
       "            d.color_cursor_reset();\n",
       "            d.html(\"Now the cursor should be normal\");\n",
       "        }\n",
       "        d.click(reset);\n",
       "        element.append(d);\n",
       "        return element;\n",
       "    };\n",
       "\n",
       "})(jQuery)\n"
      ],
      "text/plain": [
       "<IPython.core.display.Javascript object>"
      ]
     },
     "metadata": {},
     "output_type": "display_data"
    }
   ],
   "source": [
    "LExpression.load_javascript_support()"
   ]
  },
  {
   "cell_type": "code",
   "execution_count": 4,
   "metadata": {
    "collapsed": false
   },
   "outputs": [
    {
     "name": "stdout",
     "output_type": "stream",
     "text": [
      "('Reading network', '/Users/emiraldi/erm/Shared/Lin-Christoph-Emily/evTh17quantAtacNetworks/GeneSets_FC1_FDR25/ATACseq_qc_max4_body_bp10000/evTh17nets_pFC1_FDR25_rawp0001_hyg001/Th17_EAE_sp.tsv')\n",
      "('Loading saved layout', '/Users/emiraldi/erm/Shared/Lin-Christoph-Emily/evTh17quantAtacNetworks/GeneSets_FC1_FDR25/ATACseq_qc_max4_body_bp10000/evTh17nets_pFC1_FDR25_rawp0001_hyg001/Th17_EAE_sp.tsv.layout.json')\n",
      "('Reading network', '/Users/emiraldi/erm/Shared/Lin-Christoph-Emily/evTh17quantAtacNetworks/GeneSets_FC1_FDR25/ATACseq_qc_max4_body_bp10000/evTh17nets_pFC1_FDR25_rawp0001_hyg001/Th17_SI_sp.tsv')\n",
      "('Loading saved layout', '/Users/emiraldi/erm/Shared/Lin-Christoph-Emily/evTh17quantAtacNetworks/GeneSets_FC1_FDR25/ATACseq_qc_max4_body_bp10000/evTh17nets_pFC1_FDR25_rawp0001_hyg001/Th17_SI_sp.tsv.layout.json')\n",
      "('Reading network', '/Users/emiraldi/erm/Shared/Lin-Christoph-Emily/evTh17quantAtacNetworks/GeneSets_FC1_FDR25/ATACseq_qc_max4_body_bp10000/evTh17nets_pFC1_FDR25_rawp0001_hyg001/IL17neg_EAE_sp.tsv')\n",
      "('Loading saved layout', '/Users/emiraldi/erm/Shared/Lin-Christoph-Emily/evTh17quantAtacNetworks/GeneSets_FC1_FDR25/ATACseq_qc_max4_body_bp10000/evTh17nets_pFC1_FDR25_rawp0001_hyg001/IL17neg_EAE_sp.tsv.layout.json')\n",
      "('Reading network', '/Users/emiraldi/erm/Shared/Lin-Christoph-Emily/evTh17quantAtacNetworks/GeneSets_FC1_FDR25/ATACseq_qc_max4_body_bp10000/evTh17nets_pFC1_FDR25_rawp0001_hyg001/IL17neg_SI_sp.tsv')\n",
      "('Loading saved layout', '/Users/emiraldi/erm/Shared/Lin-Christoph-Emily/evTh17quantAtacNetworks/GeneSets_FC1_FDR25/ATACseq_qc_max4_body_bp10000/evTh17nets_pFC1_FDR25_rawp0001_hyg001/IL17neg_SI_sp.tsv.layout.json')\n"
     ]
    }
   ],
   "source": [
    "for networkInit in networkInits:\n",
    "    currCol = networkInit[1].lower()\n",
    "    networkFile = networkInit[0]\n",
    "    L = LExpression.LinkedExpressionNetwork()\n",
    "    L.show()\n",
    "    try:\n",
    "        L.load_network(directory + '/' + netPath + '/' + networkFile)\n",
    "    except AssertionError:\n",
    "        directory = \".\"\n",
    "        L.load_network(directory + '/' + netPath + '/' + networkFile)    \n",
    "    L.load_heatmap(directory + '/' + expressionFile)\n",
    "    N = L.network\n",
    "    N.set_title(networkInit[2])\n",
    "    # set threshold\n",
    "    N.threshhold_slider.value = threshhold\n",
    "    N.apply_click(None)\n",
    "    N.draw()    \n",
    "    # Limit genes to target genes of interest and their putative regulators\n",
    "#     geneListFile = networkInit[3]\n",
    "#     geneIn = open(directory + '/' + geneListFile,'r')    \n",
    "#     geneList = list()\n",
    "#     for gene in geneIn:\n",
    "#         geneList.append(gene.strip('\\n').lower())\n",
    "#     geneIn.close()\n",
    "#     N.pattern_text.value = \" \".join(geneList)\n",
    "#     N.match_click(None)\n",
    "#     N.targeted_click(None)\n",
    "# #     regulates_click(None)\n",
    "#     N.layout_click(None)    \n",
    "    \n",
    "    # color nodes according to a sample column in the gene expression matrix\n",
    "    L.gene_click(None)    \n",
    "    L.expression.col = currCol    \n",
    "    L.condition_click(None)\n",
    "    N.layout_click(None)\n",
    "    N.labels_button.value=True\n",
    "    \n",
    "    # Part 2: a hacky way to set min and max on the heatmap and heatmap-colored nodes\n",
    "    N.display_graph._edge_color_interpolator.minclr = minclr\n",
    "    N.display_graph._edge_color_interpolator.maxclr = maxclr\n",
    "    N.display_graph._edge_color_interpolator.breakpoints = \\\n",
    "        [(minvalue, minclr),\n",
    "         (0, zeroclr),\n",
    "         (maxvalue, maxclr)]\n",
    "    N.draw()\n",
    "\n",
    "#     # Attach the motif collection populated above:\n",
    "#     N.motif_collection = C\n",
    "#     net_with_motifs\n",
    "\n"
   ]
  },
  {
   "cell_type": "code",
   "execution_count": null,
   "metadata": {
    "collapsed": true
   },
   "outputs": [],
   "source": []
  }
 ],
 "metadata": {
  "kernelspec": {
   "display_name": "Python 2",
   "language": "python",
   "name": "python2"
  },
  "language_info": {
   "codemirror_mode": {
    "name": "ipython",
    "version": 2
   },
   "file_extension": ".py",
   "mimetype": "text/x-python",
   "name": "python",
   "nbconvert_exporter": "python",
   "pygments_lexer": "ipython2",
   "version": "2.7.10"
  },
  "widgets": {
   "state": {
    "004266d5474349c2bbf8c4fc8da2d5ee": {
     "views": []
    },
    "006c97bef68b4b24b75ac43cc5e2fa28": {
     "views": []
    },
    "007a11e6618c4181b0ed7eb31338f235": {
     "views": []
    },
    "0101353d9911419b87aea35db68e574a": {
     "views": []
    },
    "0133019624aa409fb71413b4c6db6394": {
     "views": []
    },
    "01764a67c75a4f36ad33484fb88c23de": {
     "views": []
    },
    "019246ed541e4bb39f579d30c9bf4312": {
     "views": []
    },
    "01a607f18d3247f9be661c63dcbbcdef": {
     "views": []
    },
    "024db89572e340cd8f0287fd567d0c21": {
     "views": []
    },
    "02755d0901ae451caf606eb25712a395": {
     "views": []
    },
    "0319f4dc79dc42a495134ca0688a25c0": {
     "views": []
    },
    "0359f3dc5aba431ea5f787710d627ffd": {
     "views": []
    },
    "03e77f5951d44642aa0b6e0e40932e66": {
     "views": []
    },
    "03f400bbe6084ef0858f14b06933793b": {
     "views": []
    },
    "03fc1774e5cd460991e057736faaed94": {
     "views": []
    },
    "040028f4bc504e4cb63fd50c970756a2": {
     "views": []
    },
    "044696365fc840c1a37cf4a4ca0f3b5b": {
     "views": []
    },
    "044efa42643e4bd7bb924113cfdba046": {
     "views": []
    },
    "045e4261c81d4ec5b6b05ea9d9039fd0": {
     "views": []
    },
    "0461fc5af31748e69c8e6c8e85f38a29": {
     "views": []
    },
    "0598527df61b452aa8eae553495c08de": {
     "views": []
    },
    "05ca99273817444397c01744867f37c4": {
     "views": []
    },
    "05fe262567a3416dbd948043142681f9": {
     "views": []
    },
    "067035f038114ee38cc14739c76b5e20": {
     "views": []
    },
    "067b63f16bf543ebac2460d8f4f2a2a4": {
     "views": []
    },
    "06a155f3e45542409419c4ec45c851cd": {
     "views": []
    },
    "06aabdf17e444ca9b0431c44a630081e": {
     "views": []
    },
    "070f1011637c4a08b12ba95dbc7de74c": {
     "views": []
    },
    "077b195324f24a2c931617ae19e8778f": {
     "views": []
    },
    "07901354a03e4d35b8b5cbe9ea9ce6ab": {
     "views": []
    },
    "07e5f947d3b145e19a9be695beb5ec3a": {
     "views": []
    },
    "080cfba0c47743d9ac1671c34074cc84": {
     "views": []
    },
    "0826f1f3414b4c4e93fd69b91b50076e": {
     "views": []
    },
    "0839093034974ccdab782819e08546c8": {
     "views": []
    },
    "085c4fdd74c948c1954452d61dabea9f": {
     "views": []
    },
    "0980bef8d819488bb2dc7f0b7097e2fc": {
     "views": []
    },
    "099c31e7fe4c4e41a66ae30c268b6570": {
     "views": []
    },
    "09c0cf0ca15d4a8e83e7b4cb55db8677": {
     "views": []
    },
    "0a32d3e01c304117ac670b9bb8d92218": {
     "views": []
    },
    "0a8f5b3441b0426188ae32afbb1fd0ca": {
     "views": []
    },
    "0a9b0ca887674c648822822112f1417f": {
     "views": []
    },
    "0a9ca77e3493431996f4b07cf34e1d73": {
     "views": []
    },
    "0aa767f2e23f4e649722cfa79557dcd7": {
     "views": []
    },
    "0ae127e6423d49d09761d9550ce0d6e7": {
     "views": []
    },
    "0b110e89e1ef4dcd9cc94de8e12713d9": {
     "views": []
    },
    "0cd94fcfee074e1ba836bc0c81f75d2d": {
     "views": []
    },
    "0ce3c0c4f58c46a8ae9be0b9dfcf6255": {
     "views": []
    },
    "0e4d6709b17e415b9c39fe530e8dcf95": {
     "views": []
    },
    "0f43bc179e28436a9a8148274251f903": {
     "views": []
    },
    "0f572cf56906471596a5f9d30ff1af55": {
     "views": []
    },
    "107e9d2cfca94f619bf6de36ef98b279": {
     "views": []
    },
    "1083bd99e80f4748b169f59536ca34dd": {
     "views": []
    },
    "109b15d678374e608077056852f338de": {
     "views": []
    },
    "10ed0846ea4c44098e81beed155cd545": {
     "views": []
    },
    "10f3e8b6660a4b038e2944bdc0e4459e": {
     "views": []
    },
    "11eb9ade223d4c96aab66ab1636df1b3": {
     "views": []
    },
    "121668c03382451a8a24b70b0e0139a9": {
     "views": []
    },
    "129f918dac2e4a3bb60dc4c69d03a86e": {
     "views": []
    },
    "13732fb6a35148209a098919ab880f5b": {
     "views": []
    },
    "138cfce7962e44d5a471e68e74426767": {
     "views": []
    },
    "13937737e2864e099e254eba0dd0826e": {
     "views": []
    },
    "13a40d2f19bb4adf838d99b83821484b": {
     "views": []
    },
    "13ae46a01dc845869f708675b1b686fa": {
     "views": []
    },
    "15368df7ed134cde8ee4814e02e51ab4": {
     "views": []
    },
    "15684d62807a401d9e8e77eae68d95c0": {
     "views": []
    },
    "158449b257974187b9bc4c76c870f082": {
     "views": []
    },
    "16fece5f34124603a6659fabaa948dff": {
     "views": []
    },
    "180b96917b8a4147b75e70e72bb214e2": {
     "views": []
    },
    "186d86165b5f46708745c511d8a939a9": {
     "views": []
    },
    "188f4aeba0cc4b71b810d4ff49ad1acd": {
     "views": []
    },
    "18a2bb00cc5c472f9c6c455636480220": {
     "views": []
    },
    "18b435023df244bf900051c9592c8eb3": {
     "views": []
    },
    "191c9432077940a7973aeceeacdab905": {
     "views": []
    },
    "1983a2b12b6e40e38d58c2b0565616b4": {
     "views": []
    },
    "19c958448eb94d958115cf9c0e8f91f1": {
     "views": []
    },
    "1a19c28fc9d94392ae1b2b515715713c": {
     "views": []
    },
    "1a6cb26b6230492ea5e1b306a4e0804b": {
     "views": []
    },
    "1b115421de2248c39da021bba8628c9f": {
     "views": []
    },
    "1b66c7b2021747a9a6c2f83b85239195": {
     "views": []
    },
    "1bd6ed4755784f65b290ccaeacb81578": {
     "views": []
    },
    "1be06a703ff344d6b43aa2f6b6ba0b2d": {
     "views": []
    },
    "1c14e8e3f9ec4f94a7ce713aee6f3963": {
     "views": []
    },
    "1c5ec3fe675a4ed686523266738c0f2a": {
     "views": []
    },
    "1c7314235efe428aadda9fb7bcae7569": {
     "views": []
    },
    "1dcf283a5ec24c7799666b4ed471417b": {
     "views": []
    },
    "1e58708d6c1c4901a7e59016e68aa023": {
     "views": []
    },
    "1e725befe1ac440b9d4ecbfcdfb5633c": {
     "views": []
    },
    "1e82fa1c6b854bb2b47aba6ebed90287": {
     "views": []
    },
    "1ecfb47ae4e14804b9dffab330ab918c": {
     "views": []
    },
    "1f536988e1f4486f85e4cfa27c4dc8fa": {
     "views": []
    },
    "1fd72ea829a7488fae51b9ec96d217ab": {
     "views": []
    },
    "20ab21d79e924fb49a60dfb50e27a522": {
     "views": []
    },
    "2175b06310b64fcab40fb314e227cfd9": {
     "views": []
    },
    "2218b8c4b2dd4fecbc9e845251b2548f": {
     "views": []
    },
    "22226428eb91463199405542159d8688": {
     "views": []
    },
    "22e15985ca594e8480467fc1bcd1d092": {
     "views": []
    },
    "231da6cad05c44e29ca339707f23e394": {
     "views": []
    },
    "2397a2d1618347cca4eb556136af11b8": {
     "views": []
    },
    "2440b77fe4cf404dac5908d090afa0f9": {
     "views": []
    },
    "24a8dfc3e1494279957b60be68ac9089": {
     "views": []
    },
    "25d2753f5cbe4a4198964ee367ddec3c": {
     "views": []
    },
    "25d6fdc505934e07a615e0074d2f4e88": {
     "views": []
    },
    "25dad9af0efb42d1879f9dc1653323b4": {
     "views": []
    },
    "2664bab3b2294694b2b272548fc0c514": {
     "views": []
    },
    "26b948dc11c349ea8b6262222798f75b": {
     "views": []
    },
    "26dbcdf2b0194a6bb2d95243b0335334": {
     "views": []
    },
    "2713e5fa82264fe2b61cc547bcb3215b": {
     "views": []
    },
    "2734217a8aa2446980c09008b74ba4fd": {
     "views": []
    },
    "27d14a06cf054be0ad993664c110fa3f": {
     "views": []
    },
    "2883e09626dc4992adedc6255920cd2e": {
     "views": []
    },
    "288daddb79304b828cce8b372b13b68f": {
     "views": []
    },
    "293c3622e0754e95895faa932818815d": {
     "views": []
    },
    "2a804dc1ba7a491dbdd24fbf2f05cb1e": {
     "views": []
    },
    "2b9b57d75ff84d1a870834a445e4f843": {
     "views": []
    },
    "2bd91b13949a43c3aa79c41108e26945": {
     "views": []
    },
    "2bdf55ae924d422caf73c6f6731f6283": {
     "views": []
    },
    "2c446c0360e94c89ae5f20583c414c32": {
     "views": []
    },
    "2c74d2076eec4aa0b6003fe659896f53": {
     "views": []
    },
    "2ca47f76a02146ac99de4517488d3491": {
     "views": []
    },
    "2d30848fc8cf47b88b24fcf26b107f47": {
     "views": []
    },
    "2d38275c863841119ad1107bf2cc4250": {
     "views": []
    },
    "2d64bc130a3048e7b9579be05254d1fa": {
     "views": []
    },
    "2d9595378cfc49e3aabc84966063a279": {
     "views": []
    },
    "2dd07e7659cf4189bafd240d6a740dfb": {
     "views": []
    },
    "2e10450360914e0ba7aecc9e81940759": {
     "views": []
    },
    "2ea4174c2a3a409ba36858bbd54555d4": {
     "views": []
    },
    "2f606920335d4793bddd8d23bae632c6": {
     "views": []
    },
    "2fdfb7cbd1864790b667d3d5434fd81a": {
     "views": []
    },
    "303360bc26bb48e29b32dd6ef920a9eb": {
     "views": []
    },
    "30a351f8fd964fcfa47c329292996ab8": {
     "views": []
    },
    "3195f1cf87f2420892df664a87dd98da": {
     "views": []
    },
    "319f2b3aa6624d73a48d2d161331dc3c": {
     "views": []
    },
    "31b0890cbd404aada1eb3574b1fc84b5": {
     "views": []
    },
    "3202f811ecb8462a949bba3b13245a7f": {
     "views": []
    },
    "320cd4bbeb014bcb834a10665318c361": {
     "views": []
    },
    "32d45351b8774d079ff2d35f8f47a627": {
     "views": []
    },
    "32db637485ea448b8e1d2311c0fd33e5": {
     "views": []
    },
    "331d1fcb6245439a8c52a67be1f800f9": {
     "views": []
    },
    "341e637035ea493da55c697e25592538": {
     "views": []
    },
    "34a2f24895314205ba15da694d854a09": {
     "views": []
    },
    "34b7ac70bbd74007a08c48956ff73eb3": {
     "views": []
    },
    "352b71233d9f425da882ea04c64c46f3": {
     "views": []
    },
    "361c9be1ba8f4baabaa0b5623fc4238e": {
     "views": []
    },
    "363da56ae8b7481895a8ba8de3e2a77d": {
     "views": []
    },
    "3808fac953ee426087049fdfd8e9e6b8": {
     "views": []
    },
    "390d572086b84472baeef17914573335": {
     "views": []
    },
    "39593fff4f8449f1850f8bb3f02018f7": {
     "views": [
      {
       "cell_index": 3
      }
     ]
    },
    "3a0b76d8d4004475b3a3d8ab67e1a8c0": {
     "views": []
    },
    "3ab5887ab8db43918496063f4cdcc8a8": {
     "views": []
    },
    "3b984d69c66045fcb344dd3fb9c72c2c": {
     "views": []
    },
    "3c0cc9ef531a48d998578ef63e460841": {
     "views": []
    },
    "3cd8835650d746c993be1cd252f3fdb0": {
     "views": []
    },
    "3d34e7ac497d45d5afe0cb4e06811e54": {
     "views": []
    },
    "3d6497aa9aa748328aeed74d0d88996a": {
     "views": []
    },
    "3da9d8572fd54e9dbf05e1096fda5afc": {
     "views": []
    },
    "3e299fb98c7e4e02bfd33f63919d1468": {
     "views": []
    },
    "3e6875d1c105427383a7ef0034b756c9": {
     "views": []
    },
    "3ea024540a0c4439a4cfd873960357ea": {
     "views": []
    },
    "3f0d1c38be354305bcce19501b0f02c8": {
     "views": []
    },
    "3fbd1b56bd4a4b94b5e10ccbc2196d83": {
     "views": []
    },
    "41afa926100644c8902faba2ed5cc0bd": {
     "views": []
    },
    "439b0a2a93234bb5b9a7d280aa323e20": {
     "views": []
    },
    "43e248931de24f8080d56f0f4c1652b8": {
     "views": []
    },
    "446fef78318f4e0c876a10f4fb1d69ff": {
     "views": []
    },
    "450c271a895b4ba7855573202b89ee22": {
     "views": []
    },
    "45debc63a0154ddb85df8ad9f552825f": {
     "views": []
    },
    "4728ef8545364b32a15f2df46ebd0c04": {
     "views": []
    },
    "47f750ed84c0419e9be41814395e09f9": {
     "views": []
    },
    "47fbc77c9655433c926620b28a93c0b4": {
     "views": []
    },
    "4818b541d16b46c3a07d3c0085c44d5e": {
     "views": []
    },
    "48bcfd243a7c47b694fadd62f39fd289": {
     "views": []
    },
    "49a1dc4ac9cc49dba29441c34bc9dcc5": {
     "views": []
    },
    "4a6de6fe9dea46c3af09e6341e624f50": {
     "views": []
    },
    "4b137a510a58401ba5a74a7d4477a1f5": {
     "views": []
    },
    "4c355ea6f2eb46059d98b1416bd72df7": {
     "views": []
    },
    "4d11facaf9e3415eab018f3b0faaf47f": {
     "views": []
    },
    "4d1267ef64964f78a586cc3993ceea3f": {
     "views": []
    },
    "4d531e13b35b4c9ca37020f80db32810": {
     "views": []
    },
    "4db6970730dd4204b227961e5c7a54a9": {
     "views": []
    },
    "4e5416a0ad2f4b219f3e8141a43ef21b": {
     "views": []
    },
    "4e80c6148ab942a689245f240b974f6a": {
     "views": []
    },
    "4fda6de7754743d8ab9cd540ada6cf09": {
     "views": []
    },
    "5041d470fd7847f4ac0ba43a6a987b7a": {
     "views": []
    },
    "50dc48ecc3fd497da134ead8e72d3626": {
     "views": []
    },
    "510d55474f304e51886c5daf4366af1d": {
     "views": []
    },
    "52098d1a5a0e488982a1e090c5523da5": {
     "views": []
    },
    "52784e7d1b124fe99e76c7a0735f6da6": {
     "views": []
    },
    "52b9216b4e4148d8b50dd77fa69f8a9a": {
     "views": []
    },
    "52c0ae59a3c04bf099cf18ce9ece70d8": {
     "views": []
    },
    "52fb697ef1344cf297429d2f14ed13de": {
     "views": []
    },
    "53193ef0e8694fd3ae7d663be0c4bb5d": {
     "views": []
    },
    "532b3164522142b3b43ecfe44c189e85": {
     "views": []
    },
    "5342deb348694fe194ed01978aa11acd": {
     "views": []
    },
    "53bc80bb6fa04b989b761e067d4027ea": {
     "views": []
    },
    "53e6074646c8489bb534a440ac0330da": {
     "views": []
    },
    "540d51a173b3442788b9d4776183547b": {
     "views": []
    },
    "54514778cbec4ea48bde35bad5c8aac9": {
     "views": []
    },
    "54b23c8386f64bf1ab9b0cf2ef697925": {
     "views": []
    },
    "54d95ef027af4024bb46b24b4ad0ac76": {
     "views": []
    },
    "54df9b70728a4ab1a483c3b1e5f62160": {
     "views": []
    },
    "5591a58c9e9a442995c5826c98eb24fd": {
     "views": []
    },
    "55f732e5157840ec88c9392c1cb4430d": {
     "views": []
    },
    "56116eb307674244bc560d30aa490033": {
     "views": []
    },
    "567c91a9f3fb4fd796f6bb92f08e7526": {
     "views": []
    },
    "56902d2ad6d1494a833619ecdc4f3445": {
     "views": []
    },
    "570fc37935e24bdd8b3faebbd865008c": {
     "views": []
    },
    "57a2daf171894ba8964cd20869546fd0": {
     "views": []
    },
    "57d65201196943f786f5c6ba5c40bba5": {
     "views": []
    },
    "57fda0e770a6471aafa62e648f3f4cba": {
     "views": []
    },
    "580b81bceda843b68d254c640b5ec740": {
     "views": []
    },
    "581f11a7605a4c418b5e0a840b6cd9fa": {
     "views": []
    },
    "58837482d18d4717b644ba111b58e8d5": {
     "views": []
    },
    "59c154df21d24bd7a2c39449a0b5b17d": {
     "views": []
    },
    "59f55e5ff84940148917e66de3d3bfe6": {
     "views": []
    },
    "5a647e5bec7d4dfdb77ab50c12e8f26d": {
     "views": []
    },
    "5aa7668444ee4c0e83351f9934771b37": {
     "views": []
    },
    "5ad2af38445b4fa8aade88d9d8643308": {
     "views": []
    },
    "5b67be06541842b78e9bb657ea184757": {
     "views": []
    },
    "5ba26459b2244c64a747c23fd562347c": {
     "views": []
    },
    "5c8b59c1672d4936980666864c760937": {
     "views": []
    },
    "5e3f7cad70734d8883d80a176f7c5da9": {
     "views": []
    },
    "5f304fd3ea73488d92b0c6996b540658": {
     "views": []
    },
    "5f3d655bc1c54c2a938aa472505edaed": {
     "views": []
    },
    "5fc2ea8042c34664ae5c143ed285ceed": {
     "views": []
    },
    "606f3ec2acbc4e1aaf9d55ed0a5bc4c0": {
     "views": []
    },
    "60a26903e5014e7dba34625cf741833c": {
     "views": []
    },
    "6122539f3a8342408274004e2d520cac": {
     "views": []
    },
    "6133aa09528a4db9b5463db61bafcd65": {
     "views": []
    },
    "6197c564869b4c7082e8592519cd9e7b": {
     "views": []
    },
    "61b0e988eaf145adbb27cf217544e436": {
     "views": []
    },
    "61b8f32a56f7404cb0e102885c6261d2": {
     "views": []
    },
    "61cb8e8d84fa437796e452a792c36f68": {
     "views": []
    },
    "6235ca329f214645866996cec4b62908": {
     "views": []
    },
    "626998fd3a91487f80279333892c92c3": {
     "views": []
    },
    "62fbc87731b94fb68f53d83028d4961f": {
     "views": []
    },
    "630c3fdd13504316a1d236b3f364f3e1": {
     "views": []
    },
    "635182a1b9774592a0152f5dc880064a": {
     "views": []
    },
    "635e9e8a5b00497cae879af24a31c93b": {
     "views": []
    },
    "6362ba4aa1e54f37a4fc49c82db70455": {
     "views": []
    },
    "6394103451d34402b34c7334f204d707": {
     "views": []
    },
    "63e2c641e7a54984800c014e975599bb": {
     "views": []
    },
    "648cbca432144798949cb335b5bfd748": {
     "views": []
    },
    "64bfb67e67da4c33939e1ab1b0e8c9d5": {
     "views": []
    },
    "64c3afd6cc484994a76d7a16880d595a": {
     "views": []
    },
    "6505fce4a61348cbb7e6858ca086565a": {
     "views": []
    },
    "663b1e129a1a48268846070f3c9b99b5": {
     "views": []
    },
    "666576c6d9304ae78e76a3eabc839c0c": {
     "views": []
    },
    "66d247d3785e4ca3a4b4c33bf5cb5a3b": {
     "views": []
    },
    "66f4a08dc5674aa9894914829bc7a41d": {
     "views": []
    },
    "671cbe6f868840d2817d718a52e0202b": {
     "views": []
    },
    "68666155da8d4d028d4a2da1408fb3eb": {
     "views": []
    },
    "68c9d89eab1f4a41b36d4c34cfa51e53": {
     "views": []
    },
    "6a3e48a3f2a54efcb9b5da74d86919a7": {
     "views": []
    },
    "6a7261d9671840a2876154856a293e98": {
     "views": []
    },
    "6a7bd58e2d1b4dabb971fb3b7adc68e2": {
     "views": []
    },
    "6abc299abd7b45bdbdde8133d38c7046": {
     "views": []
    },
    "6b577013436c4afe8668547f9995ee3f": {
     "views": []
    },
    "6bf55d7fce984dc79e639625f25beec7": {
     "views": []
    },
    "6c63cfdae62d415c8d3527f9969b2581": {
     "views": []
    },
    "6c728e8e52a6409f874a1d3945eb54ab": {
     "views": []
    },
    "6c7341c04de94190b0ebb64c57a431a3": {
     "views": []
    },
    "6c7841dd85f8462aa64b79f2c506c462": {
     "views": []
    },
    "6c792258ba464bddbff724342675a5b5": {
     "views": []
    },
    "6ca355f1657e41d9bdd0e2521da11382": {
     "views": []
    },
    "6d3a0178c63c4bf9b377e57d2d800bd6": {
     "views": []
    },
    "6d3fe755364e460c97374818521a6fe8": {
     "views": []
    },
    "6f05a01b70c0450d9826a1e8c21c1ccf": {
     "views": []
    },
    "701b666c27444ee48a62329911219a0b": {
     "views": []
    },
    "702040c903554eaeadd86b511c4c2170": {
     "views": []
    },
    "70961239ca3e42e180a4c9f1e05e6a20": {
     "views": []
    },
    "70c50a055406460080a048cb8549a002": {
     "views": []
    },
    "70f34fd254364cddac9442ea5506cf87": {
     "views": []
    },
    "71021f6085cd485f9984458eed6ac829": {
     "views": []
    },
    "713d449393084442a5e3084ed6172ca6": {
     "views": []
    },
    "717ea106353c4b0ca6b737b79824c17c": {
     "views": []
    },
    "7187db7dc42b4224987ec059b28696e4": {
     "views": []
    },
    "721e399ad78441b69d54bb339c1c5aac": {
     "views": []
    },
    "72a599c0a3ae42128ed2ae081aca2fef": {
     "views": []
    },
    "72ac9feab07142838b82b20e65da5bf4": {
     "views": []
    },
    "72f3d13e644a4ce6938ba3f1ba65ac84": {
     "views": []
    },
    "7321d990f59f4b05b3cbe2edfab611be": {
     "views": []
    },
    "73237d58ddd243b3b5eca34a5a43a8c3": {
     "views": []
    },
    "742aa9c7a7df41cfb5028d3d65e82b4e": {
     "views": []
    },
    "74337cd36b924cfba00be0ccf80ce198": {
     "views": []
    },
    "745030abb3644594a839350162f7c86f": {
     "views": []
    },
    "74bdb4cb2ddf4a5cba8f2339031e1443": {
     "views": []
    },
    "74c43bece4e74d658d9fed355a574941": {
     "views": []
    },
    "74c749ea3b094e6fba256199bffe0608": {
     "views": []
    },
    "750c4015ab77411c88dada0fa9f2cd22": {
     "views": []
    },
    "75180d20f71e48149fb2177dd8f6e709": {
     "views": []
    },
    "75bb14397eac4cea83361efdc69e71c3": {
     "views": []
    },
    "75cbb929888b41778079674a274ad2c7": {
     "views": []
    },
    "75cc94134c50414d9ded474afee2092c": {
     "views": []
    },
    "75fda2c9a7024fda9bab20db339e6650": {
     "views": []
    },
    "76139607864d42e390571310f7dba983": {
     "views": []
    },
    "764e8c87b81e46de96000eec65be8955": {
     "views": []
    },
    "77d6c32b93e84cc09077372b467c63ba": {
     "views": []
    },
    "78327cfb105645d1b787a6f268022ce9": {
     "views": []
    },
    "78c4309452684acf82f2f48b6042365d": {
     "views": []
    },
    "78cc2fc87f504b0d8f75aad9c8c671f8": {
     "views": []
    },
    "78daccb0bd4e486fbe3078ff4536b493": {
     "views": []
    },
    "7914c994fb1b46d196e815b0fcbe5750": {
     "views": []
    },
    "794ffb8c49704d42b80d86d78fd4d4b1": {
     "views": []
    },
    "7956d1a2e9a4429aa8a84c30752b9c85": {
     "views": []
    },
    "7a44baea606b4b5685242a7e83f7b610": {
     "views": []
    },
    "7aa59afc656541ef9f6bf292b63768af": {
     "views": []
    },
    "7afb7796caaa48e7b4d3085d9f45b488": {
     "views": []
    },
    "7b6e7261119340fe985cda4efbba6211": {
     "views": []
    },
    "7baf3e3c57b145e4860bd1ae6ac64fc4": {
     "views": []
    },
    "7cdaadaa72e34dc68e0bd98a916dfd91": {
     "views": []
    },
    "7d36e55c4d4748ee8e7b53f5c71c4569": {
     "views": []
    },
    "7d952e29cf654dc187b32dbbd001b91d": {
     "views": []
    },
    "7e3fd30d5a984d679a96a273dd70468e": {
     "views": []
    },
    "7f1a4f8199bc4a9e874dd215c0e917d9": {
     "views": []
    },
    "7fbe44bf48c54347bb09714ae0f68e1e": {
     "views": []
    },
    "8026e673be8e4fcf92449855f956f761": {
     "views": []
    },
    "80cc1c9197494ba7a9be04e26c55b525": {
     "views": []
    },
    "8113a2094e464758a0c31c946aa0c978": {
     "views": []
    },
    "818ee4e630c043338a3d80e6b3f74fee": {
     "views": []
    },
    "81b0704c9f124c1483e799301150f554": {
     "views": []
    },
    "81b958362c4e4c74a46d69beab2ee3af": {
     "views": []
    },
    "81e75264a0c44314acae27773ab64d37": {
     "views": []
    },
    "82028f36032947ad8d82f94ad8727ed5": {
     "views": []
    },
    "8212d6e756664512837fe94e6b238d60": {
     "views": []
    },
    "824537d900ba4e15b22d15b8208efe98": {
     "views": []
    },
    "82dfb999579f4736a0527d357d2b78c2": {
     "views": []
    },
    "82ed4b96e84f41359ab067538558414a": {
     "views": []
    },
    "83170386284a4f3eb8358690472a7f81": {
     "views": []
    },
    "83a58d408fe24f67b02d379e355b5ff0": {
     "views": []
    },
    "83a809905a234c6695b8e403e28236b2": {
     "views": []
    },
    "83b1ee42223946d1a2bf50545db66a8f": {
     "views": []
    },
    "83f7514f7aa9408a9cff39d186331d01": {
     "views": []
    },
    "848d85e7aea14f96b89a83a42e7a231a": {
     "views": []
    },
    "85295766095343db9b799e21564a6235": {
     "views": []
    },
    "85e5df3c593147df990d82d79b9f8365": {
     "views": []
    },
    "86a7e7f349d645e5a2543cb12816119e": {
     "views": []
    },
    "87b9a6d04fb8460f83c7ae8e5ed97ab3": {
     "views": []
    },
    "880c084ada5b47b1b5b079fd073bab99": {
     "views": []
    },
    "882dae637a724acc81eeda5a182babcd": {
     "views": []
    },
    "895390db91b14467b47989e6ad979e8d": {
     "views": []
    },
    "8954a264fed64366aaf0c4e92f9a3701": {
     "views": []
    },
    "8a817ee6970647b687faf3d650a4454c": {
     "views": []
    },
    "8a839fbd4fc04fd484e9dfed5d185755": {
     "views": []
    },
    "8aafbcba815d41d9873d0478b90d0fcf": {
     "views": []
    },
    "8b3fb4e11af34e26842a4d23ec0760a5": {
     "views": []
    },
    "8bd41a453091478bb49e2b14e5f38e1d": {
     "views": []
    },
    "8c12ad31f170456b9c537111a0f15379": {
     "views": []
    },
    "8ca1b6ef6cac4e1aaefd8799a9ecdc40": {
     "views": []
    },
    "8d18fb901ded4cbfaf1bc19f048ce0b6": {
     "views": []
    },
    "8d5aefd78ee94da5996c51115675b0aa": {
     "views": []
    },
    "8e42add10b2346f6ac0065b5c5415c4b": {
     "views": []
    },
    "8e5662fc704a4e8483172472dcd17d1a": {
     "views": []
    },
    "8e609718e2d44374a463625c29659ed7": {
     "views": []
    },
    "8f2230aa0dc947dba9e6091e1e3d0827": {
     "views": []
    },
    "8f8e54c1ebbc461aabad2716998c81b9": {
     "views": []
    },
    "8fbb4a9b9d864d7b8d463396e9566a2f": {
     "views": []
    },
    "8fedf8073c04432ea6c924e136bf6b28": {
     "views": []
    },
    "903f7c68fd7f4ee994cd726c430534fd": {
     "views": []
    },
    "9094080d534f4ed1a96df056f5280134": {
     "views": []
    },
    "914117176e0548fbaf8cc68ce26f8b40": {
     "views": []
    },
    "914bee02b1b74e0cb7d7f2c368381d74": {
     "views": []
    },
    "91a609dbd9014bf58153d5bfa57bbf6e": {
     "views": []
    },
    "91f2c3c3019046a2bcca0f9f1d2027a0": {
     "views": []
    },
    "9296c29c89234031bbb09c3650bc4deb": {
     "views": []
    },
    "93d0e25f0926470bbd35ae720850da2b": {
     "views": []
    },
    "9429927aa3fc4d18871cb0fcefb4e3ff": {
     "views": []
    },
    "9437d2745d59416eabaaa1a9cc709149": {
     "views": []
    },
    "947082c9a50f478c84d5cdcf84d3a3cc": {
     "views": []
    },
    "948341de9ef94875a2cfff42164e0c42": {
     "views": []
    },
    "94d3d2dcede9440e935eeb0f1fedd684": {
     "views": []
    },
    "94eb018637044a31b22ba33badca92ef": {
     "views": []
    },
    "94f3d7941d58444caba15deeb626f89b": {
     "views": []
    },
    "9554e174c0af44b8b05ebd325c52681c": {
     "views": []
    },
    "956c2c93115f47e996609ad2192642b2": {
     "views": []
    },
    "9791f1b5ea1243198d78135f5a8e5f6d": {
     "views": []
    },
    "9859b6242f7947ce897465c2d0ca5aa9": {
     "views": []
    },
    "9879a193919044518a3782630cd5adb9": {
     "views": []
    },
    "98bb7d7cd4944841943b66be3d12ecdb": {
     "views": []
    },
    "990fbd34aca740d5b98b5e3348eb734d": {
     "views": []
    },
    "991a78e622484c06920bfe4c4d9f4b3a": {
     "views": []
    },
    "999afae29b9b44fdaecbb8ede671b32b": {
     "views": []
    },
    "99cdfd0240a945679e30bfc8b0077336": {
     "views": [
      {
       "cell_index": 3
      }
     ]
    },
    "9a1143d2f95142db98fc72ecef4e9d6a": {
     "views": []
    },
    "9a3133b7ba65410793ac7e17304a4b5a": {
     "views": []
    },
    "9a8474ca2dd04deda4ed7dfdcfc0d307": {
     "views": []
    },
    "9a9d56545eb541149dce854793609b9b": {
     "views": []
    },
    "9ae059db260d4e03aad78155f51cd358": {
     "views": []
    },
    "9be8ee69f2444cc5b63f14527c30f458": {
     "views": []
    },
    "9c1ed34574984469ac9d649601806f5c": {
     "views": []
    },
    "9c50c698f179429d8678403824f81688": {
     "views": []
    },
    "9dddfbb4d4714d59b47d8201882238ef": {
     "views": []
    },
    "9e8004ec95c8454589080aa644af48ec": {
     "views": []
    },
    "9e88e8645c31405a960d7986e2d95117": {
     "views": []
    },
    "9efe78fb1e8a49bb8c7f042aece0ccba": {
     "views": []
    },
    "9f9a011c81c34619a2301a286b04318b": {
     "views": []
    },
    "9fc091b8ad824f12861269f6c15ee04f": {
     "views": []
    },
    "a03226ac68e74983a5bf2fa1ad75cdd1": {
     "views": []
    },
    "a07516a67a7647339f7f2d3bdf0f1152": {
     "views": []
    },
    "a08870ba6e104d2facf15284f39ea960": {
     "views": []
    },
    "a103e605a9344f86a5d161f111fb0870": {
     "views": []
    },
    "a15391f5fa634f57b914dd7615d58678": {
     "views": []
    },
    "a1746245bdf04dc68bf9499f85bcc345": {
     "views": []
    },
    "a25ac1e958ac442295f6637cee25f66f": {
     "views": []
    },
    "a26489ec48bd4052a1cd24902b22c02c": {
     "views": []
    },
    "a2ac0c5d3be64a078420118c08f23903": {
     "views": []
    },
    "a549aef8b06e491696926981ed7d2728": {
     "views": []
    },
    "a5a0253de65b44b6a5d913ba076bd052": {
     "views": []
    },
    "a696b999c931490cb419c855eea7cb8c": {
     "views": []
    },
    "a6c3c9dc3eb4489ba7e25b073ee11261": {
     "views": []
    },
    "a793db9eddf142b39859106361753bb4": {
     "views": []
    },
    "a7b7615d5fd848849352710a11cb4498": {
     "views": []
    },
    "a879a36734c84bdbbbedc887e47a1dfe": {
     "views": []
    },
    "a908430b05c245128832bdd8552019c8": {
     "views": []
    },
    "a93886d553be4e09b18a59037a87f661": {
     "views": []
    },
    "a95bd7b8dde94ab3b3c2b5965f5f1186": {
     "views": []
    },
    "a98dc0165e5f49dd8c50f313160a4e6a": {
     "views": []
    },
    "a9943029396e4c688eedb5fa705a1e36": {
     "views": []
    },
    "a9d50b09404842cc9126b3d3b635bb57": {
     "views": []
    },
    "aa1ea1ac4cfe4ba19460d855ffd27ca2": {
     "views": []
    },
    "aa4a3d3ae12c4a1a959bb0a9f3d1eef5": {
     "views": []
    },
    "aa67d8fb43f9456ca40fb7dc1c187232": {
     "views": []
    },
    "aa9261e7bc6745358c0d64bb8319bf78": {
     "views": []
    },
    "ab40358c83164295b252f670163fa49f": {
     "views": []
    },
    "abd0c07463654565a55e8f14b7014454": {
     "views": []
    },
    "abd10d82256c4b87adf0229709e668c0": {
     "views": []
    },
    "ac9d26cd6f064abd91736a81ad30ebbb": {
     "views": []
    },
    "acc75bba86744a95a8159e10fd0122c7": {
     "views": []
    },
    "ad0e9f70b8514cd8848cdbf43c2b29fc": {
     "views": []
    },
    "ad1757deed0a44d0b407c21ccd7f0646": {
     "views": []
    },
    "ad3bef8ce0734e49859acb7470f4da58": {
     "views": []
    },
    "ae42726b44084f2ebd55301e2c8d1e0c": {
     "views": []
    },
    "aee73ac7a3934e4d913897d55f23b326": {
     "views": []
    },
    "af475812fc644f8791e2aac8d33e80e3": {
     "views": []
    },
    "af957659577d440fb9a2b57f082a47c6": {
     "views": []
    },
    "b01a41db486048dca9aa8f4801a87835": {
     "views": []
    },
    "b082e4dc63234d7fb8d719e655a940ab": {
     "views": []
    },
    "b086c1d4c65b491593cd02fb42db14a1": {
     "views": []
    },
    "b0e145f426924cf5b2687e7378e2ee7e": {
     "views": []
    },
    "b0eab4a18afa46dcae015ecdacda1e62": {
     "views": []
    },
    "b1429c0e6b6a4dddaeca0c3ea0f3da97": {
     "views": []
    },
    "b163574687d9409fb65105088d1a4bdc": {
     "views": [
      {
       "cell_index": 3
      }
     ]
    },
    "b1a43ea866d94838b67622705758169f": {
     "views": []
    },
    "b1a6a2855024498e85309f49fb776240": {
     "views": []
    },
    "b1adc06addff40d78660c2a26b455756": {
     "views": []
    },
    "b1ce6b5fac6f4687aec05f4d4545c7a3": {
     "views": []
    },
    "b2627fd645ab4ea4a8ed4df2a8b95dcd": {
     "views": []
    },
    "b3563ea9ce1d4205af68cfdf0b3b7cee": {
     "views": []
    },
    "b3687d76feaf45cc85be2e1b59114e5e": {
     "views": []
    },
    "b37ee89369884ac8ad94020375a9f9df": {
     "views": []
    },
    "b396b16c4f53481f98eee939bd057125": {
     "views": []
    },
    "b40c8ba244bd4365bdf9eb5e8c27e97d": {
     "views": []
    },
    "b45f6e0e35274e0ca4f1c6ce8f4cb1a3": {
     "views": []
    },
    "b4af351dcda7486bae82513b4449af71": {
     "views": []
    },
    "b4b1ec4b414b448b9f14373358a591d7": {
     "views": []
    },
    "b4dc6854ecdf47348d812cc5e534411b": {
     "views": []
    },
    "b4e45b442b224d4fa329d2db27ec690a": {
     "views": []
    },
    "b538bc637faf416b867e5d4bbaa6cacb": {
     "views": []
    },
    "b5a17c4d33fb4ddfb5a760684a6e6a1c": {
     "views": []
    },
    "b6429aae859e489cb35f6b4bb6b3e430": {
     "views": []
    },
    "b6b724fb284649c0bc97bf813d1b1b34": {
     "views": []
    },
    "b6c9bf8dc66b4191b0c0842b9dd50573": {
     "views": []
    },
    "b6d6adf4225e493f8af1673d78614e7f": {
     "views": []
    },
    "b6e0c4e0afef462e9908c6044eaa3729": {
     "views": []
    },
    "b72e59009e014f129c155d597c6ddc05": {
     "views": []
    },
    "b782677ae4914a45a94f7814854af028": {
     "views": []
    },
    "b837b74d51c64f059e5577f66fb7cd1a": {
     "views": []
    },
    "b8ac7e975bab4d088c73fd6a05c8ee46": {
     "views": []
    },
    "b8ca90418a634d3683da61afeca916b5": {
     "views": []
    },
    "b954cc4fc3d342c491093c3588f42ad6": {
     "views": []
    },
    "b99eefdf158f48f7afa7be4729458444": {
     "views": []
    },
    "b9c7a54bb50248b6ba7e9e883d824afa": {
     "views": []
    },
    "b9db7d09643f4ba68f44787becea39dc": {
     "views": []
    },
    "ba1a41c24ea14575bfa274a33aa6ff88": {
     "views": []
    },
    "ba84873b2b35456c9adfa0f56e77e5f2": {
     "views": []
    },
    "baebd0dade0d448a8814615b7a181716": {
     "views": []
    },
    "bc931d6361714bae9dc9c547747a565e": {
     "views": []
    },
    "bce45940f2124081b671a1c05b7b154e": {
     "views": []
    },
    "bd50c85c33a240718003d53a102f155c": {
     "views": []
    },
    "bd997acb5ce141e895eca0310b42615f": {
     "views": []
    },
    "bdb53bd0c6f04ec68f370f507b110033": {
     "views": []
    },
    "bdc48d5b90cc4f368cbd65be66d2bee9": {
     "views": []
    },
    "bdd8f77b4d1f4e96914959d60935650a": {
     "views": []
    },
    "bde12b7d17c94c7b91f8b07a66fc92ca": {
     "views": []
    },
    "be821243b38d45728b5714889221dd62": {
     "views": []
    },
    "be926692d9d544238a390669772941a3": {
     "views": []
    },
    "be970d18eda54387a2e14d95f4fe0f80": {
     "views": []
    },
    "bf1ccda736f347e9b8c68705a7914a7c": {
     "views": []
    },
    "bf8ab9f2ca144af9bd7fdeaac6645ad9": {
     "views": []
    },
    "bf9368e7a7fb46dbba868f19918f8470": {
     "views": []
    },
    "c065f134c0f84d1cb1f6e2dc4087afae": {
     "views": []
    },
    "c0889144bb674e8bb9aec0bee83f65be": {
     "views": []
    },
    "c08faa6639704f1f8e580afbe322ddc6": {
     "views": []
    },
    "c09135e4071040ee924bc54a99d20e3c": {
     "views": []
    },
    "c0e4a0fe2da24eaab5ef9767098aeac5": {
     "views": []
    },
    "c1f33a63d558405f834834ebd1dc8fd5": {
     "views": []
    },
    "c3282fa81cf44defb6ca113432a06a32": {
     "views": []
    },
    "c3b1b496e5874b398ab9d9a710ff22ad": {
     "views": []
    },
    "c457411a13164fed8fb37e397d20b8a5": {
     "views": []
    },
    "c4cf79505e2d4927aa118601ccff7732": {
     "views": []
    },
    "c53c5ee998dc4277ba46dbc0c717ff9f": {
     "views": []
    },
    "c5471404cf7e43a2b7833b37f4555cbf": {
     "views": []
    },
    "c551658fd9964803bd1818d1cfc14590": {
     "views": []
    },
    "c564d51cba5b4584b6124f089e08cdc5": {
     "views": []
    },
    "c5c7ecec42c0474981104ee5f80c5d21": {
     "views": []
    },
    "c6037f5b5e1e41039f2d96a20d064527": {
     "views": []
    },
    "c6c40fdf24e640e285093751a82d0c5a": {
     "views": []
    },
    "c8af4b27d57049a0b02dfafb875e2ae7": {
     "views": []
    },
    "c8e34e0a63784d0f9577f8c1377a0353": {
     "views": []
    },
    "c954c852bbc646e6a6fe998b4414822a": {
     "views": []
    },
    "c9ef28b356734d058cc8553b913acd3b": {
     "views": []
    },
    "ca0073de5542406cbf0965a938aa1b33": {
     "views": []
    },
    "ca790859a0d84520bccf1546e52ce4e0": {
     "views": []
    },
    "cb96ebcc99da43759f77cee854d5888a": {
     "views": []
    },
    "cc067b44efd1495889fd6a6326b4855c": {
     "views": []
    },
    "cc27a3a331e74d51b830e8d390953e6c": {
     "views": []
    },
    "cc661e6deb25445a83e933dd86df8460": {
     "views": []
    },
    "cccee8873f1247878dbca613c6c5aa6c": {
     "views": []
    },
    "ccf0bf8236f24cbe9d1bea588fc72ad3": {
     "views": []
    },
    "cd1442ec4872448c855c7bac3883698e": {
     "views": []
    },
    "cd420bb41b694a57bd973f40143c9c21": {
     "views": [
      {
       "cell_index": 3
      }
     ]
    },
    "cd54c3cc809049be84560a039ab90151": {
     "views": []
    },
    "cd86b60a3bad4aa8b4236a660b991657": {
     "views": []
    },
    "cdba5a5641ca40f2a298d47146fa6834": {
     "views": []
    },
    "ce65d840941a40d7a36e54191c4195cd": {
     "views": []
    },
    "cedc61a58ed94f3d90d1829b42e5b909": {
     "views": []
    },
    "cf0ab777d3024ca4adca89cfeaea392e": {
     "views": []
    },
    "cfbd01f63f024a0e983544c699a30511": {
     "views": []
    },
    "cfbf70901b134ae297d70160e1da0681": {
     "views": []
    },
    "d0146be83f494960b8b8af2ba795536b": {
     "views": []
    },
    "d01e4e60ff82458f9f251a03b2dff6af": {
     "views": []
    },
    "d0ec6fd8b27d4f88826b203412bfea1b": {
     "views": []
    },
    "d109061eb26e472c8a605e9c1c12b622": {
     "views": []
    },
    "d16426c1af4d40f985a8c319635352fb": {
     "views": []
    },
    "d1bece385bc24131b348420910ed0bac": {
     "views": []
    },
    "d1f4e2eff0194da1b8d4bfadf2e70f1d": {
     "views": []
    },
    "d22a69fe514b4544af52ac030daec865": {
     "views": []
    },
    "d38d0e3644a047dabaf234cddcf2fb83": {
     "views": []
    },
    "d4d49da491a54a99b6609ef53a34676e": {
     "views": []
    },
    "d5507985c95a443db6317239039be3a1": {
     "views": []
    },
    "d59ad862f17342d7892560b132661742": {
     "views": []
    },
    "d60084c41a6b4fb6aededb98f260f69d": {
     "views": []
    },
    "d63e130b7e234b24b84eb7793be4735e": {
     "views": []
    },
    "d6df3c3253bf45e3a480ce03a301cca6": {
     "views": []
    },
    "d73fcb4368c147d4b178ea1bf642b77f": {
     "views": []
    },
    "d777a00e65394247b1e2a37443ad458e": {
     "views": []
    },
    "d78689a5ab7248a0b6486f5ac0ac0bad": {
     "views": []
    },
    "d7967770af9d48479cbf85dd52ff23c7": {
     "views": []
    },
    "d7e6ab04d04548499c2cac89031fe447": {
     "views": []
    },
    "d8cc1d49bd134481b59fd68b8125d546": {
     "views": []
    },
    "d9610786674a4c078967a4c00a4f2817": {
     "views": []
    },
    "d980d80781f04066b46b753ab02f5c51": {
     "views": []
    },
    "da19829067824852acd2e83b9d4c8015": {
     "views": []
    },
    "da208e1139254289a9e6fda566e91231": {
     "views": []
    },
    "dac018f5d70942218ef563f296e9e1a6": {
     "views": []
    },
    "db15ad06651040b49b2a9d4339a72d71": {
     "views": []
    },
    "db3da16f1f9f4cb399349827544d2179": {
     "views": []
    },
    "db63029172bc4cff9cfa4a7162359638": {
     "views": []
    },
    "dbb43c8d30234a77a98623907fdc7a64": {
     "views": []
    },
    "dc9aafac449a48f49bb178749cd397de": {
     "views": []
    },
    "dcf045ab71754b25a7f0c7ab76413018": {
     "views": []
    },
    "df24a5a7c8b74e54b8e4e85a2a9ce8d9": {
     "views": []
    },
    "dfdc19d995674101a436cd3e42610087": {
     "views": []
    },
    "e0410059c9a3498499b5b6283db198ed": {
     "views": []
    },
    "e04d02009d114b66acb40dd8c1a10fcd": {
     "views": []
    },
    "e15a98b340da4536838d97ae3320d182": {
     "views": []
    },
    "e1c8b26a71de4d529ac63abc12baab65": {
     "views": []
    },
    "e28be011227240818702d35a385f8535": {
     "views": []
    },
    "e2de9916be0445139b533a99b502ec94": {
     "views": []
    },
    "e3492fc0dad54f74b49cb7112fcc97d3": {
     "views": []
    },
    "e44255056e8a4715910c91111cbdd52a": {
     "views": []
    },
    "e5289778dacf47fdabac7cdf885a382a": {
     "views": []
    },
    "e5341803998747f9948dae696af0398d": {
     "views": []
    },
    "e6324ba5ecd34a278d8bbc703d53b41d": {
     "views": []
    },
    "e633af37f3c9442181f69f0ce11c8ebd": {
     "views": []
    },
    "e64a4fe653c44852a102e2e2436d6f07": {
     "views": []
    },
    "e71af8ef28724d6fb75abb4ef90f7f51": {
     "views": []
    },
    "e7428595537a4e21adb50320107f82d4": {
     "views": []
    },
    "e7d449cb6e8944fd89b32d15d2b4690f": {
     "views": []
    },
    "e84f2d03d5b6401b97431c1d08ad06fd": {
     "views": []
    },
    "e905647cd175446d8f7c7453c91443bd": {
     "views": []
    },
    "e907e64c0cf94bfeb10ec07a86743a63": {
     "views": []
    },
    "e982072bf5214788b76185c49d57f6f1": {
     "views": []
    },
    "e98ba8e48ac04bdf8080d3d218c5e8ca": {
     "views": []
    },
    "e9bc9793fd5c46b28b7dc3fd7dcbd10f": {
     "views": []
    },
    "ea7fb3ecb2414982a706f3b3bb17706d": {
     "views": []
    },
    "eadabcacb39c470cb281dde66b1fcc6a": {
     "views": []
    },
    "eaedfa2d9d4d49308e4213c8b43b156f": {
     "views": []
    },
    "ebceedf071e144898d60db444cddbbeb": {
     "views": []
    },
    "ebe9ef70e9904ddc905af5fb9a36ad2f": {
     "views": []
    },
    "ec8fc413183a4946bd2ba10a38582c57": {
     "views": []
    },
    "ed026c0174ba49c0af0d1081908bbbb0": {
     "views": []
    },
    "ee1bece4f9fe4d1fb8497a1a9197bda2": {
     "views": []
    },
    "f035ed3ddabd410e9a283b60b02c0210": {
     "views": []
    },
    "f048a0cf44cd4fbe965ffca22e2f0bc1": {
     "views": []
    },
    "f06456e53a3b4c47ad190fa44f0564c2": {
     "views": []
    },
    "f0a1ba45143748969afd0244affdf717": {
     "views": []
    },
    "f0e4c802056441b6a035dccc48d9a3d0": {
     "views": []
    },
    "f193f9d6eab144d5a472449c1b6c0545": {
     "views": []
    },
    "f20ef7c8d1254cb697c07449b46e5f29": {
     "views": []
    },
    "f3c1d768997f464eb37dd97de95410d1": {
     "views": []
    },
    "f3d824b578204faf8e02fd953cf969d0": {
     "views": []
    },
    "f4b536c927a5453a9711ffe5fbea828c": {
     "views": []
    },
    "f4f497e61d3e4952bf1bf58c3c1d5009": {
     "views": []
    },
    "f5b52bc180bf4eff9b4fbc77435740c1": {
     "views": []
    },
    "f6c0c64e7c1945268d493d3239cf7be5": {
     "views": []
    },
    "f73e5ec9982c4714a027713632c9ee6a": {
     "views": []
    },
    "f7a0156dd53943c985dec6c96ca9ffb1": {
     "views": []
    },
    "f7cce9c5690f4efdaae4634919271741": {
     "views": []
    },
    "f7d462ee02284116a3c72489714a042d": {
     "views": []
    },
    "f82be1fbea8d40a1b235447db50f3297": {
     "views": []
    },
    "f8a1747fd1e843f3b2bd2090dd9f2bca": {
     "views": []
    },
    "f8dd8fb9b9f249b3846a5d109b5b234f": {
     "views": []
    },
    "f9487fa102d64e009e15ae1ae99aa5fc": {
     "views": []
    },
    "f961ce3cabb8450a99e6b4b42ee7bd9d": {
     "views": []
    },
    "f969f5c642e949fb8b606998e71a44af": {
     "views": []
    },
    "fa3b01123c6f4974a66899d6c8551378": {
     "views": []
    },
    "fa414d263ad04e988aa7a7948c9e4c3e": {
     "views": []
    },
    "fb1d6bd02d5a4239869bd14ff7a45cfd": {
     "views": []
    },
    "fb1f647ece1544e0b981ffd3c47bb9bd": {
     "views": []
    },
    "fb202b1ac996455aa02bec2e3dcd5541": {
     "views": []
    },
    "fbea637ef1494ba5ac52edf14a8a2d7c": {
     "views": []
    },
    "fbebbd31bf294782a3389042d3f3f729": {
     "views": []
    },
    "fc9e8677ca5549bba0a5f66ab597edac": {
     "views": []
    },
    "fca3edc324434fd6b9af768deb3d7cf0": {
     "views": []
    },
    "fd948010af774426a06f6ec99d9f935e": {
     "views": []
    },
    "fdac23d5771d4671a96794e438d56fca": {
     "views": []
    },
    "fe6486a2f7544a688bcb64a9fcc8f4ec": {
     "views": []
    },
    "fe77060927934654851250697d52542b": {
     "views": []
    },
    "fec6b019daa3418ba579f7654aaefc15": {
     "views": []
    },
    "ff46b2dfe16546469173872fdbf16522": {
     "views": []
    },
    "ff4f530fd1f845b199ef5fafed0b47bf": {
     "views": []
    },
    "ff5dabd7e87f41b7af5b464c3cef5d75": {
     "views": []
    }
   },
   "version": "1.1.2"
  }
 },
 "nbformat": 4,
 "nbformat_minor": 0
}
