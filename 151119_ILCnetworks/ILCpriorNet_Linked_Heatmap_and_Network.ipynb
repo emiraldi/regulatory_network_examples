{
 "cells": [
  {
   "cell_type": "code",
   "execution_count": null,
   "metadata": {
    "collapsed": true
   },
   "outputs": [],
   "source": [
    "directory = \"/Users/emiraldi/erm/Shared/Maria-Emily/151027_HighQualityILC_ints/PeakSets_FDR10_2comb_rawp0001_TFtarget\"\n",
    "directory = \".\"\n",
    "networkInits = [(\"Ints_ILC1_NK_up.txt\",\"ILC1_SI_3\",'ILC1-NK'),\n",
    "    (\"Ints_ILC1_ILC3_up.txt\",\"ILC1_SI_3\",'ILC1-ILC3 Shared'),        \n",
    "    (\"Ints_ILC2_up.txt\",\"ILC2_SI_2\",'ILC2'),\n",
    "    (\"Ints_ILC3_up.txt\",\"CCR6+ILC3s_SI_2\",'ILC3'),\n",
    "    (\"Ints_CCR6pILC3_up.txt\",\"CCR6+ILC3s_SI_2\",'CCR6+ILC3'),\n",
    "    (\"Ints_ILC2_ILC3_up.txt\",\"CCR6+ILC3s_SI_2\",'ILC2-ILC3 Shared'),\n",
    "    (\"Ints_ILC1_ILC2_up.txt\",\"ILC2_SI_2\",'ILC1-ILC2 Shared')]\n",
    "\n",
    "expressionFile = \"fineILCs_uv156_VSTcounts_zscore_FDR10_genes_clust.tsv\"\n",
    "\n",
    "threshhold = 4"
   ]
  },
  {
   "cell_type": "code",
   "execution_count": null,
   "metadata": {
    "collapsed": false
   },
   "outputs": [],
   "source": [
    "from jp_gene_viz import LExpression"
   ]
  },
  {
   "cell_type": "code",
   "execution_count": null,
   "metadata": {
    "collapsed": false
   },
   "outputs": [],
   "source": [
    "LExpression.load_javascript_support()"
   ]
  },
  {
   "cell_type": "code",
   "execution_count": null,
   "metadata": {
    "collapsed": false
   },
   "outputs": [],
   "source": [
    "\n",
    "for networkInit in networkInits:\n",
    "    currCol = networkInit[1].lower()\n",
    "    networkFile = networkInit[0]\n",
    "    L = LExpression.LinkedExpressionNetwork()\n",
    "    L.show()\n",
    "    L.load_network(directory + '/' + networkFile)\n",
    "    L.load_heatmap(directory + '/' + expressionFile)\n",
    "    N = L.network\n",
    "    N.set_title(networkInit[2])\n",
    "    N.threshhold_slider.value = threshhold\n",
    "    N.apply_click(None)\n",
    "    N.draw()\n",
    "    L.gene_click(None)    \n",
    "    L.expression.col = currCol    \n",
    "    L.condition_click(None)\n",
    "    N.layout_click(None)\n",
    "    N.labels_button.value=True\n",
    "\n"
   ]
  },
  {
   "cell_type": "code",
   "execution_count": null,
   "metadata": {
    "collapsed": true
   },
   "outputs": [],
   "source": []
  }
 ],
 "metadata": {
  "kernelspec": {
   "display_name": "Python 2",
   "language": "python",
   "name": "python2"
  },
  "language_info": {
   "codemirror_mode": {
    "name": "ipython",
    "version": 2
   },
   "file_extension": ".py",
   "mimetype": "text/x-python",
   "name": "python",
   "nbconvert_exporter": "python",
   "pygments_lexer": "ipython2",
   "version": "2.7.10"
  }
 },
 "nbformat": 4,
 "nbformat_minor": 0
}
